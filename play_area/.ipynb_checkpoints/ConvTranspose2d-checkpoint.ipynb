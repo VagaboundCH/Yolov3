{
 "cells": [
  {
   "cell_type": "code",
   "execution_count": 1,
   "metadata": {},
   "outputs": [],
   "source": [
    "import torch\n",
    "import torch.nn as nn"
   ]
  },
  {
   "cell_type": "code",
   "execution_count": 6,
   "metadata": {},
   "outputs": [
    {
     "name": "stdout",
     "output_type": "stream",
     "text": [
      "Conv2d:  torch.Size([1, 1, 6, 6])\n",
      "ConvTranspose2d:  torch.Size([1, 1, 24, 24])\n",
      "Conv2d und ConvTranspose2d:  torch.Size([1, 1, 12, 12])\n"
     ]
    }
   ],
   "source": [
    "inputs = torch.randn(1, 1, 12, 12)   # Batch, Anzahl channels, X,Y \n",
    "downsample = nn.Conv2d(1, 1, 3, stride=2, padding=1)\n",
    "upsample = nn.ConvTranspose2d(1, 1, 3, stride=2, padding=1,output_padding=1)\n",
    "h = downsample(inputs)\n",
    "print('Conv2d: ', h.size())        # (1, 1, 6, 6)\n",
    "output = upsample(inputs)\n",
    "print('ConvTranspose2d: ', output.size())    # (1, 1, 12, 12)\n",
    "g = upsample(h)\n",
    "print('Conv2d und ConvTranspose2d: ', g.size())"
   ]
  },
  {
   "cell_type": "code",
   "execution_count": 67,
   "metadata": {},
   "outputs": [
    {
     "name": "stdout",
     "output_type": "stream",
     "text": [
      "1x1conv:  torch.Size([1, 32, 12, 12])\n"
     ]
    }
   ],
   "source": [
    "conv1x1 = nn.Conv2d(16,32,1,stride=1,padding=0)\n",
    "a = conv1x1(inputs)\n",
    "print('1x1conv: ', a.size())"
   ]
  },
  {
   "cell_type": "code",
   "execution_count": 89,
   "metadata": {},
   "outputs": [
    {
     "name": "stdout",
     "output_type": "stream",
     "text": [
      "torch.Size([1, 2, 2, 2]) tensor([[[[ 0.3220,  0.3968],\n",
      "          [ 0.4811,  1.4854]],\n",
      "\n",
      "         [[ 0.2401, -1.8011],\n",
      "          [ 1.0480, -0.4607]]]])\n",
      "torch.Size([1, 4, 2, 2]) tensor([[[[ 1.1642, -0.0245],\n",
      "          [ 2.0734, -0.0861]],\n",
      "\n",
      "         [[ 1.3041, -0.9396],\n",
      "          [-0.1739, -1.7864]],\n",
      "\n",
      "         [[-0.4925, -1.0496],\n",
      "          [-0.5188,  1.0632]],\n",
      "\n",
      "         [[-0.9809,  1.3909],\n",
      "          [-0.8428, -0.3424]]]])\n"
     ]
    }
   ],
   "source": [
    "x1 = torch.randn(1,2,2,2)\n",
    "x2 = torch.randn(1,4,2,2)\n",
    "print(x1.size(),x1)\n",
    "print(x2.size(),x2)"
   ]
  },
  {
   "cell_type": "code",
   "execution_count": 93,
   "metadata": {},
   "outputs": [
    {
     "name": "stdout",
     "output_type": "stream",
     "text": [
      "torch.Size([1, 6, 2, 2]) tensor([[[[ 0.3220,  0.3968],\n",
      "          [ 0.4811,  1.4854]],\n",
      "\n",
      "         [[ 0.2401, -1.8011],\n",
      "          [ 1.0480, -0.4607]],\n",
      "\n",
      "         [[ 1.1642, -0.0245],\n",
      "          [ 2.0734, -0.0861]],\n",
      "\n",
      "         [[ 1.3041, -0.9396],\n",
      "          [-0.1739, -1.7864]],\n",
      "\n",
      "         [[-0.4925, -1.0496],\n",
      "          [-0.5188,  1.0632]],\n",
      "\n",
      "         [[-0.9809,  1.3909],\n",
      "          [-0.8428, -0.3424]]]])\n"
     ]
    }
   ],
   "source": [
    "x3 = torch.cat((x1,x2),1)\n",
    "print(x3.size(),x3)"
   ]
  },
  {
   "cell_type": "code",
   "execution_count": null,
   "metadata": {},
   "outputs": [],
   "source": []
  }
 ],
 "metadata": {
  "kernelspec": {
   "display_name": "Python 3",
   "language": "python",
   "name": "python3"
  },
  "language_info": {
   "codemirror_mode": {
    "name": "ipython",
    "version": 3
   },
   "file_extension": ".py",
   "mimetype": "text/x-python",
   "name": "python",
   "nbconvert_exporter": "python",
   "pygments_lexer": "ipython3",
   "version": "3.6.4"
  }
 },
 "nbformat": 4,
 "nbformat_minor": 2
}
