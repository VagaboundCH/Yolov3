{
 "cells": [
  {
   "cell_type": "code",
   "execution_count": null,
   "metadata": {},
   "outputs": [],
   "source": [
    "  "
   ]
  },
  {
   "cell_type": "code",
   "execution_count": null,
   "metadata": {},
   "outputs": [],
   "source": []
  },
  {
   "cell_type": "code",
   "execution_count": 81,
   "metadata": {},
   "outputs": [],
   "source": [
    "a = 512"
   ]
  },
  {
   "cell_type": "code",
   "execution_count": 168,
   "metadata": {},
   "outputs": [],
   "source": []
  },
  {
   "cell_type": "code",
   "execution_count": null,
   "metadata": {},
   "outputs": [],
   "source": []
  },
  {
   "cell_type": "code",
   "execution_count": 174,
   "metadata": {},
   "outputs": [],
   "source": [
    "def get_object(name,xmin,ymin,xmax,ymax):\n",
    "    string_object = '<object>'\\\n",
    "                    '<name>'+str(name)+'</name>'\\\n",
    "                    '<pose>Unspecified</pose>'\\\n",
    "                    '<truncated>0</truncated>'\\\n",
    "                    '<difficult>0</difficult>'\\\n",
    "                    '<bndbox>'\\\n",
    "                        '<xmin>'+str(xmin)+'</xmin>'\\\n",
    "                        '<ymin>'+str(ymin)+'</ymin>'\\\n",
    "                        '<xmax>'+str(xmax)+'</xmax>'\\\n",
    "                        '<ymax>'+str(ymax)+'</ymax>'\\\n",
    "                        '</bndbox>'\\\n",
    "                '</object>'\n",
    "    return string_object"
   ]
  },
  {
   "cell_type": "code",
   "execution_count": 175,
   "metadata": {},
   "outputs": [],
   "source": [
    "def get_head(folder,filename,path,width,height,depth):\n",
    "    string_head =   '<folder>'+str(folder)+'</folder>'\\\n",
    "                    '<filename>'+str(filename)+'</filename>'\\\n",
    "                    '<path>'+str(path)+'</path>'\\\n",
    "                    '<source>'\\\n",
    "                    '<database>Unknown</database>'\\\n",
    "                    '</source>'\\\n",
    "                    '<size>'\\\n",
    "                        '<width>'+str(width)+'</width>'\\\n",
    "                        '<height>'+str(height)+'</height>'\\\n",
    "                        '<depth>'+str(depth)+'</depth>'\\\n",
    "                    '</size>'\\\n",
    "                    '<segmented>0</segmented>'\n",
    "    return string_head"
   ]
  },
  {
   "cell_type": "code",
   "execution_count": null,
   "metadata": {},
   "outputs": [],
   "source": []
  },
  {
   "cell_type": "code",
   "execution_count": 167,
   "metadata": {},
   "outputs": [],
   "source": [
    "import xml.dom.minidom\n",
    "import xml.etree.cElementTree as ET\n",
    "\n",
    "# dom = xml.dom.minidom.parse(xml_fname)\n",
    "dom = xml.dom.minidom.parseString(string4)\n",
    "pretty_xml_as_string = dom.toprettyxml()\n",
    "# print(pretty_xml_as_string)\n",
    "pretty_xml_as_string_without_version = pretty_xml_as_string[23:]\n",
    "# print(pretty_xml_as_string_without_version)"
   ]
  },
  {
   "cell_type": "code",
   "execution_count": 165,
   "metadata": {},
   "outputs": [],
   "source": [
    "with open('filea.xml', \"w\") as file:\n",
    "    file.write(pretty_xml_as_string)\n",
    "    \n",
    "with open('fileOhneVersion.xml', \"w\") as file:\n",
    "    file.write(pretty_xml_as_string_without_version)"
   ]
  },
  {
   "cell_type": "code",
   "execution_count": null,
   "metadata": {},
   "outputs": [],
   "source": []
  },
  {
   "cell_type": "code",
   "execution_count": null,
   "metadata": {},
   "outputs": [],
   "source": []
  },
  {
   "cell_type": "code",
   "execution_count": null,
   "metadata": {},
   "outputs": [],
   "source": []
  }
 ],
 "metadata": {
  "kernelspec": {
   "display_name": "Python 3",
   "language": "python",
   "name": "python3"
  },
  "language_info": {
   "codemirror_mode": {
    "name": "ipython",
    "version": 3
   },
   "file_extension": ".py",
   "mimetype": "text/x-python",
   "name": "python",
   "nbconvert_exporter": "python",
   "pygments_lexer": "ipython3",
   "version": "3.6.4"
  }
 },
 "nbformat": 4,
 "nbformat_minor": 2
}
