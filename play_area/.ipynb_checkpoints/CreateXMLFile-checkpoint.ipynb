{
 "cells": [
  {
   "cell_type": "code",
   "execution_count": null,
   "metadata": {},
   "outputs": [],
   "source": [
    "  "
   ]
  },
  {
   "cell_type": "code",
   "execution_count": null,
   "metadata": {},
   "outputs": [],
   "source": []
  },
  {
   "cell_type": "code",
   "execution_count": 147,
   "metadata": {},
   "outputs": [
    {
     "name": "stdout",
     "output_type": "stream",
     "text": [
      "\n"
     ]
    }
   ],
   "source": [
    "import xml.etree.cElementTree as ET\n",
    "\n",
    "root = ET.Element('root')\n",
    "print()\n",
    "doc = ET.SubElement(root, 'doc')\n",
    "\n",
    "ET.SubElement(doc, 'field1', name='blah').text = 'some value1'\n",
    "ET.SubElement(doc, 'field2', name='asdfasd').text = 'some vlaue2'\n",
    "\n",
    "tree = ET.ElementTree(root)\n",
    "tree.write('filename.xml')\n",
    "tree.write(\"example.xml\", encoding=\"utf-8\", xml_declaration=True)"
   ]
  },
  {
   "cell_type": "code",
   "execution_count": null,
   "metadata": {},
   "outputs": [],
   "source": []
  },
  {
   "cell_type": "code",
   "execution_count": null,
   "metadata": {},
   "outputs": [],
   "source": []
  },
  {
   "cell_type": "code",
   "execution_count": 148,
   "metadata": {},
   "outputs": [
    {
     "ename": "SyntaxError",
     "evalue": "EOL while scanning string literal (<ipython-input-148-53d8e72b30c5>, line 1)",
     "output_type": "error",
     "traceback": [
      "\u001b[1;36m  File \u001b[1;32m\"<ipython-input-148-53d8e72b30c5>\"\u001b[1;36m, line \u001b[1;32m1\u001b[0m\n\u001b[1;33m    root = ET.fromstring(\"<fruits><fruit>banana</fruit><fruit>apple</fruit></fruits>)\u001b[0m\n\u001b[1;37m                                                                                     ^\u001b[0m\n\u001b[1;31mSyntaxError\u001b[0m\u001b[1;31m:\u001b[0m EOL while scanning string literal\n"
     ]
    }
   ],
   "source": [
    "root = ET.fromstring(\"<fruits><fruit>banana</fruit><fruit>apple</fruit></fruits>)\n",
    "tree = ET.ElementTree(root)\n",
    "\n",
    "indent(root)\n",
    "# writing xml\n",
    "tree.write(\"a.xml\",pretty_print=True)"
   ]
  },
  {
   "cell_type": "code",
   "execution_count": null,
   "metadata": {},
   "outputs": [],
   "source": []
  },
  {
   "cell_type": "code",
   "execution_count": 30,
   "metadata": {},
   "outputs": [
    {
     "data": {
      "text/plain": [
       "<Element 'user' at 0x0000000005D08E08>"
      ]
     },
     "execution_count": 30,
     "metadata": {},
     "output_type": "execute_result"
    }
   ],
   "source": []
  },
  {
   "cell_type": "code",
   "execution_count": 35,
   "metadata": {},
   "outputs": [
    {
     "ename": "NameError",
     "evalue": "name 'pretty_xml_as_string' is not defined",
     "output_type": "error",
     "traceback": [
      "\u001b[1;31m---------------------------------------------------------------------------\u001b[0m",
      "\u001b[1;31mNameError\u001b[0m                                 Traceback (most recent call last)",
      "\u001b[1;32m<ipython-input-35-f6f33dedb3d3>\u001b[0m in \u001b[0;36m<module>\u001b[1;34m()\u001b[0m\n\u001b[0;32m     38\u001b[0m \u001b[0moutput_file\u001b[0m \u001b[1;33m=\u001b[0m \u001b[0mopen\u001b[0m\u001b[1;33m(\u001b[0m\u001b[1;34m'membership.xml'\u001b[0m\u001b[1;33m,\u001b[0m \u001b[1;34m'w'\u001b[0m\u001b[1;33m)\u001b[0m\u001b[1;33m\u001b[0m\u001b[0m\n\u001b[0;32m     39\u001b[0m \u001b[0moutput_file\u001b[0m\u001b[1;33m.\u001b[0m\u001b[0mwrite\u001b[0m\u001b[1;33m(\u001b[0m\u001b[1;34m''\u001b[0m\u001b[1;33m)\u001b[0m\u001b[1;33m\u001b[0m\u001b[0m\n\u001b[1;32m---> 40\u001b[1;33m \u001b[0moutput_file\u001b[0m\u001b[1;33m.\u001b[0m\u001b[0mwrite\u001b[0m\u001b[1;33m(\u001b[0m\u001b[0mpretty_xml_as_string\u001b[0m\u001b[1;33m)\u001b[0m\u001b[1;33m\u001b[0m\u001b[0m\n\u001b[0m\u001b[0;32m     41\u001b[0m \u001b[0moutput_file\u001b[0m\u001b[1;33m.\u001b[0m\u001b[0mclose\u001b[0m\u001b[1;33m(\u001b[0m\u001b[1;33m)\u001b[0m\u001b[1;33m\u001b[0m\u001b[0m\n",
      "\u001b[1;31mNameError\u001b[0m: name 'pretty_xml_as_string' is not defined"
     ]
    }
   ],
   "source": [
    "\n",
    "\n",
    "import xml.dom.minidom\n",
    "from xml.etree import ElementTree\n",
    "from xml.etree.ElementTree import Element\n",
    "from xml.etree.ElementTree import SubElement\n",
    "\n",
    "\n",
    "# <membership/>\n",
    "membership = Element( 'membership' )\n",
    "\n",
    "\n",
    "\n",
    "# <membership><users/>\n",
    "users = SubElement( membership, 'users' )\n",
    "# <membership><groups/>\n",
    "groups = SubElement( membership, 'groups' )\n",
    "\n",
    "\n",
    "\n",
    "# <membership><users><user/>\n",
    "SubElement( users, 'user', name='john' )\n",
    "SubElement( users, 'user', name='charles' )\n",
    "SubElement( users, 'user', name='peter' )\n",
    "# <membership><groups><group><user/>\n",
    "SubElement( group, 'user', name='john' )\n",
    "SubElement( group, 'user', name='charles' )\n",
    "# <membership><groups><group/>\n",
    "group = SubElement( groups, 'group', name='administrators' )\n",
    "# <membership><groups><group><user/>\n",
    "SubElement( group, 'user', name='peter' )\n",
    "\n",
    "\n",
    "\n",
    "xmls = xml.dom.minidom.parseString(string)\n",
    "pretty_xml_as_string = xmls.toprettyxml()\n",
    "\n",
    "\n",
    "\n",
    "output_file = open('membership.xml', 'w')\n",
    "output_file.write('')\n",
    "output_file.write(pretty_xml_as_string)\n",
    "output_file.close()"
   ]
  },
  {
   "cell_type": "code",
   "execution_count": 36,
   "metadata": {},
   "outputs": [
    {
     "name": "stdout",
     "output_type": "stream",
     "text": [
      "<test><a><a1><text /></a1><a2 /></a><b><b1 /><b2 /></b></test>\n"
     ]
    }
   ],
   "source": [
    "import xml.etree.ElementTree as ET\n",
    "\n",
    "test =  ET.Element('test')\n",
    "a = ET.SubElement(test,'a')\n",
    "a1 = ET.SubElement(a,'a1')\n",
    "text = ET.SubElement(a1,'text')\n",
    "a2 = ET.SubElement(a,'a2')\n",
    "b = ET.SubElement(test,'b')\n",
    "b1 = ET.SubElement(b,'b1')\n",
    "b2 = ET.SubElement(b,'b2')\n",
    "ET.dump(test)"
   ]
  },
  {
   "cell_type": "code",
   "execution_count": 41,
   "metadata": {},
   "outputs": [],
   "source": [
    "from pathlib import Path\n",
    "import xml.etree.ElementTree as ET\n",
    "\n",
    "def xml_dir(pth, et_element=None):\n",
    "\n",
    "    if et_element is None:\n",
    "        et_element = ET.Element(pth.name)\n",
    "    else:\n",
    "        et_element = ET.SubElement(et_element, pth.name)\n",
    "\n",
    "    for file in (fle for fle in pth.iterdir() if fle.is_file()):\n",
    "        ET.SubElement(et_element, file.name)\n",
    "\n",
    "    for directory in (fle for fle in pth.iterdir() if fle.is_dir()):\n",
    "        xml_dir(directory, et_element)\n",
    "\n",
    "    return et_element\n",
    "\n",
    "ret = xml_dir(Path('C:/Users/User/Yolov3/play_area'))"
   ]
  },
  {
   "cell_type": "code",
   "execution_count": null,
   "metadata": {},
   "outputs": [],
   "source": []
  },
  {
   "cell_type": "code",
   "execution_count": 81,
   "metadata": {},
   "outputs": [],
   "source": [
    "a = 512"
   ]
  },
  {
   "cell_type": "code",
   "execution_count": 168,
   "metadata": {},
   "outputs": [],
   "source": []
  },
  {
   "cell_type": "code",
   "execution_count": null,
   "metadata": {},
   "outputs": [],
   "source": []
  },
  {
   "cell_type": "code",
   "execution_count": 174,
   "metadata": {},
   "outputs": [],
   "source": [
    "def get_object(name,xmin,ymin,xmax,ymax):\n",
    "    string_object = '<object>'\\\n",
    "                    '<name>'+str(name)+'</name>'\\\n",
    "                    '<pose>Unspecified</pose>'\\\n",
    "                    '<truncated>0</truncated>'\\\n",
    "                    '<difficult>0</difficult>'\\\n",
    "                    '<bndbox>'\\\n",
    "                        '<xmin>'+str(xmin)+'</xmin>'\\\n",
    "                        '<ymin>'+str(ymin)+'</ymin>'\\\n",
    "                        '<xmax>'+str(xmax)+'</xmax>'\\\n",
    "                        '<ymax>'+str(ymax)+'</ymax>'\\\n",
    "                        '</bndbox>'\\\n",
    "                '</object>'\n",
    "    return string_object"
   ]
  },
  {
   "cell_type": "code",
   "execution_count": 175,
   "metadata": {},
   "outputs": [],
   "source": [
    "def get_head(folder,filename,path,width,height,depth):\n",
    "    string_head =   '<folder>'+str(folder)+'</folder>'\\\n",
    "                    '<filename>'+str(filename)+'</filename>'\\\n",
    "                    '<path>'+str(path)+'</path>'\\\n",
    "                    '<source>'\\\n",
    "                    '<database>Unknown</database>'\\\n",
    "                    '</source>'\\\n",
    "                    '<size>'\\\n",
    "                        '<width>'+str(width)+'</width>'\\\n",
    "                        '<height>'+str(height)+'</height>'\\\n",
    "                        '<depth>'+str(depth)+'</depth>'\\\n",
    "                    '</size>'\\\n",
    "                    '<segmented>0</segmented>'\n",
    "    return string_head"
   ]
  },
  {
   "cell_type": "code",
   "execution_count": null,
   "metadata": {},
   "outputs": [],
   "source": []
  },
  {
   "cell_type": "code",
   "execution_count": 167,
   "metadata": {},
   "outputs": [],
   "source": [
    "import xml.dom.minidom\n",
    "import xml.etree.cElementTree as ET\n",
    "\n",
    "# dom = xml.dom.minidom.parse(xml_fname)\n",
    "dom = xml.dom.minidom.parseString(string4)\n",
    "pretty_xml_as_string = dom.toprettyxml()\n",
    "# print(pretty_xml_as_string)\n",
    "pretty_xml_as_string_without_version = pretty_xml_as_string[23:]\n",
    "# print(pretty_xml_as_string_without_version)"
   ]
  },
  {
   "cell_type": "code",
   "execution_count": 165,
   "metadata": {},
   "outputs": [],
   "source": [
    "with open('filea.xml', \"w\") as file:\n",
    "    file.write(pretty_xml_as_string)\n",
    "    \n",
    "with open('fileOhneVersion.xml', \"w\") as file:\n",
    "    file.write(pretty_xml_as_string_without_version)"
   ]
  },
  {
   "cell_type": "code",
   "execution_count": null,
   "metadata": {},
   "outputs": [],
   "source": []
  },
  {
   "cell_type": "code",
   "execution_count": null,
   "metadata": {},
   "outputs": [],
   "source": []
  },
  {
   "cell_type": "code",
   "execution_count": null,
   "metadata": {},
   "outputs": [],
   "source": []
  }
 ],
 "metadata": {
  "kernelspec": {
   "display_name": "Python 3",
   "language": "python",
   "name": "python3"
  },
  "language_info": {
   "codemirror_mode": {
    "name": "ipython",
    "version": 3
   },
   "file_extension": ".py",
   "mimetype": "text/x-python",
   "name": "python",
   "nbconvert_exporter": "python",
   "pygments_lexer": "ipython3",
   "version": "3.6.4"
  }
 },
 "nbformat": 4,
 "nbformat_minor": 2
}
