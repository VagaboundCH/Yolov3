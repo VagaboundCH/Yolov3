{
 "cells": [
  {
   "cell_type": "code",
   "execution_count": 1,
   "metadata": {},
   "outputs": [
    {
     "name": "stdout",
     "output_type": "stream",
     "text": [
      "importing Jupyter notebook from GenerateFolderStructur.ipynb\n"
     ]
    }
   ],
   "source": [
    "from copy import copy, deepcopy\n",
    "import numpy as np\n",
    "from PIL import Image, ImageDraw, ImageFont  \n",
    "import os\n",
    "import import_ipynb\n",
    "from GenerateFolderStructur import GenerateFolderStructur\n",
    "import shutil\n",
    "import matplotlib.pyplot as plt"
   ]
  },
  {
   "cell_type": "code",
   "execution_count": 2,
   "metadata": {},
   "outputs": [],
   "source": [
    "class CharacterGenerator(GenerateFolderStructur):\n",
    "    \n",
    "    def __init__(self, path, characters, path_font_type, font_size, binarisation_threshold):\n",
    "        GenerateFolderStructur.__init__(self, path, characters)       \n",
    "        \n",
    "        self._path_font_type = path_font_type\n",
    "        self._font_size = font_size\n",
    "        self._binarisation_threshold = binarisation_threshold\n",
    "        self._size_y, self._size_x = font_size*5, font_size*5\n",
    "        \n",
    "        \n",
    "        self._path_folder, self._dirs, self._files = next(os.walk(self._initalImages_path))\n",
    "        self._number_folders = len(self._dirs)\n",
    "        \n",
    "        for i in range(self._number_folders):\n",
    "            self.generate_inital_image(i)\n",
    "        \n",
    "    def generate_inital_image(self,i):\n",
    "        img = Image.new('RGB', (self._size_y, self._size_x), color = (0, 0, 0))   # (50,50)  \n",
    "        fnt = ImageFont.truetype(self._path_font_type, self._font_size)\n",
    "        tmp_img = ImageDraw.Draw(img)\n",
    "        tmp_img.text((30,30), self._dirs[i][0], font=fnt, fill=(255, 255, 255))\n",
    "#         img.show() \n",
    "        img.save('pil_text_font.bmp')\n",
    "        img = np.array(img)\n",
    "#         plt.figure('img')\n",
    "#         plt.imshow(img)\n",
    "        x,y,z = np.shape(img)\n",
    "#         print(x,y,z)\n",
    "        img[img<self._binarisation_threshold] = 0\n",
    "        img[img>=self._binarisation_threshold] = 255\n",
    "#         plt.figure('binarised')\n",
    "#         plt.imshow(img)\n",
    "#         print(type(img))\n",
    "        \n",
    "        img_size_uint8 = Image.fromarray(np.uint8(img))\n",
    "        img_size_uint8.save(self._initalImages_path + self._dirs[i] + '/' + self._dirs[i] + '.bmp')\n",
    "        \n"
   ]
  },
  {
   "cell_type": "markdown",
   "metadata": {},
   "source": [
    "### For Tests"
   ]
  },
  {
   "cell_type": "code",
   "execution_count": 3,
   "metadata": {},
   "outputs": [],
   "source": [
    "obj = CharacterGenerator('C:/Users/User/Desktop/test/', ['A-Z','0-9',':','-','/','.','a-y','z'], 'C:/Windows/Fonts/Arial/arial.ttf', 100, 150)"
   ]
  },
  {
   "cell_type": "code",
   "execution_count": 3,
   "metadata": {},
   "outputs": [],
   "source": [
    "shutil.rmtree('C:/Users/User/Desktop/test/GeneratedData') "
   ]
  },
  {
   "cell_type": "code",
   "execution_count": null,
   "metadata": {},
   "outputs": [],
   "source": []
  },
  {
   "cell_type": "code",
   "execution_count": null,
   "metadata": {},
   "outputs": [],
   "source": [
    "\n",
    "\n",
    "        \n",
    "\n"
   ]
  },
  {
   "cell_type": "code",
   "execution_count": null,
   "metadata": {},
   "outputs": [],
   "source": []
  },
  {
   "cell_type": "code",
   "execution_count": null,
   "metadata": {},
   "outputs": [],
   "source": []
  },
  {
   "cell_type": "code",
   "execution_count": null,
   "metadata": {},
   "outputs": [],
   "source": []
  },
  {
   "cell_type": "code",
   "execution_count": null,
   "metadata": {},
   "outputs": [],
   "source": []
  },
  {
   "cell_type": "code",
   "execution_count": null,
   "metadata": {},
   "outputs": [],
   "source": []
  }
 ],
 "metadata": {
  "kernelspec": {
   "display_name": "Python 3",
   "language": "python",
   "name": "python3"
  },
  "language_info": {
   "codemirror_mode": {
    "name": "ipython",
    "version": 3
   },
   "file_extension": ".py",
   "mimetype": "text/x-python",
   "name": "python",
   "nbconvert_exporter": "python",
   "pygments_lexer": "ipython3",
   "version": "3.6.4"
  }
 },
 "nbformat": 4,
 "nbformat_minor": 2
}
