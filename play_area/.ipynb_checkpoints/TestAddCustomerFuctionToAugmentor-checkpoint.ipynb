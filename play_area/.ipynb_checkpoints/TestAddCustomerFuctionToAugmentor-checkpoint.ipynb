{
 "cells": [
  {
   "cell_type": "code",
   "execution_count": null,
   "metadata": {},
   "outputs": [],
   "source": [
    "# from Augmentor import Operations\n",
    "# from PIL import Image\n",
    "# class Resize(Operations.Operation):\n",
    "#     # Here you can accept as many custom parameters as required:\n",
    "#     def __init__(self, probability, y_min, y_max, x_offset):\n",
    "\n",
    "#         Operations.Operation.__init__(self, probability)\n",
    "#         self.y_min = y_min\n",
    "#         self.y_max = y_max\n",
    "#         self.x_offset = x_offset\n",
    "\n",
    "#     # Your class must implement the perform_operation method:\n",
    "#     def perform_operation(self, image):\n",
    "        \n",
    "#         img = np.array(image).astype('uint8')\n",
    "#         y,x,z = img.shape\n",
    "#         y_rdm = random.randint(y_min, y_max)\n",
    "#         y_ratio = y_rdm/y\n",
    "#         x_rdm_offset = random.randint(-x_offset, x_offset)\n",
    "#         x_rdm = y_ratio*(y_ratio+(x_rdm_offset/100))\n",
    "#         image.resize((x_rdm,y_rdm))\n",
    "        \n",
    "#         return image\n",
    "# # Instantiate a new object of your custom operation\n",
    "# resize = Resize(probability = 1, y_min = 20, y_max = 22, x_offset = 5)\n",
    "\n",
    "# p = Aug.Pipeline('C:/Users/User/Desktop/Test/GeneratedData/InitalImages/A_upperCase/', 'test', 'bmp')\n",
    "\n",
    "# # Write here your distortion function \n",
    "# ###########################################\n",
    "\n",
    "# skew_magnitude = np.round(np.random.uniform(0.1, 1.0),1) # sm 0.1-1.0\n",
    "# rd_grid_with = np.random.randint(2,10) # rdgw 2-10\n",
    "# rd_grid_hight = np.random.randint(2,10) # rdgh 2-10\n",
    "# rd_magnitude = np.random.randint(8,15) # 1-10\n",
    "\n",
    "# p.random_distortion(probability=1, grid_width=rd_grid_with, grid_height=rd_grid_hight, magnitude=rd_magnitude)\n",
    "# p.rotate(probability=1, max_left_rotation=25, max_right_rotation=25) # <= 25° for botch\n",
    "# p.skew(probability=0.2, magnitude=skew_magnitude)\n",
    "# p.shear(probability=0.2, max_shear_left=25, max_shear_right=25) # <= 25° for botch\n",
    "\n",
    "# p.add_operation(resize)\n",
    "\n",
    "# # Executed the pipeline as normal, and your custom operation will be executed\n",
    "# p.sample(1)"
   ]
  }
 ],
 "metadata": {
  "kernelspec": {
   "display_name": "Python 3",
   "language": "python",
   "name": "python3"
  },
  "language_info": {
   "codemirror_mode": {
    "name": "ipython",
    "version": 3
   },
   "file_extension": ".py",
   "mimetype": "text/x-python",
   "name": "python",
   "nbconvert_exporter": "python",
   "pygments_lexer": "ipython3",
   "version": "3.6.4"
  }
 },
 "nbformat": 4,
 "nbformat_minor": 2
}
