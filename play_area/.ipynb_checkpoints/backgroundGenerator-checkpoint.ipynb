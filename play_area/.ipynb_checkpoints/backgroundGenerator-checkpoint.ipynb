{
 "cells": [
  {
   "cell_type": "code",
   "execution_count": 1,
   "metadata": {},
   "outputs": [],
   "source": [
    "import cv2\n",
    "import numpy as np\n",
    "from PIL import Image\n",
    "import matplotlib.pyplot as plt"
   ]
  },
  {
   "cell_type": "code",
   "execution_count": 2,
   "metadata": {},
   "outputs": [],
   "source": [
    "# Befehl muss zweimal ausgeführt werden (komisch)\n",
    "%matplotlib qt\n",
    "%matplotlib qt"
   ]
  },
  {
   "cell_type": "code",
   "execution_count": 3,
   "metadata": {},
   "outputs": [
    {
     "name": "stdout",
     "output_type": "stream",
     "text": [
      "type:  <class 'numpy.ndarray'>\n",
      "512 512 1\n",
      "type:  <class 'numpy.ndarray'>\n",
      "type:  <class 'numpy.ndarray'>\n",
      "type:  <class 'numpy.ndarray'>\n",
      "[[217. 203. 221. ... 211. 209. 206.]\n",
      " [246. 228. 209. ... 223. 211. 214.]\n",
      " [236. 216. 229. ... 210. 204. 206.]\n",
      " ...\n",
      " [201. 198. 196. ... 242. 203. 243.]\n",
      " [177. 217. 205. ... 228. 213. 238.]\n",
      " [205. 184. 194. ... 218. 244. 229.]]\n"
     ]
    }
   ],
   "source": [
    "BG_COLOR = 209   ### 209\n",
    "BG_SIGMA = 5 ### 5\n",
    "MONOCHROME = 1   ### 1 monochrom, 3 rgb\n",
    "image_size = 512\n",
    "\n",
    "def blank_image(width=image_size, height=image_size, background=BG_COLOR):\n",
    "    \"\"\"\n",
    "    It creates a blank image of the given background color\n",
    "    \"\"\"\n",
    "    img = np.full((height, width, MONOCHROME), background, np.uint8)\n",
    "    print('type: ', type(img))\n",
    "    return img\n",
    "\n",
    "\n",
    "def add_noise(img, sigma=BG_SIGMA):\n",
    "    \"\"\"\n",
    "    Adds noise to the existing image\n",
    "    \"\"\"\n",
    "    width, height, ch = img.shape\n",
    "    n = noise(width, height, sigma=sigma)\n",
    "    img = img + n\n",
    "    return img.clip(0, 255)\n",
    "\n",
    "\n",
    "def noise(width, height, ratio=1, sigma=BG_SIGMA):\n",
    "    \"\"\"\n",
    "    The function generates an image, filled with gaussian nose. If ratio parameter is specified,\n",
    "    noise will be generated for a lesser image and then it will be upscaled to the original size.\n",
    "    In that case noise will generate larger square patterns. To avoid multiple lines, the upscale\n",
    "    uses interpolation.\n",
    "\n",
    "    :param ratio: the size of generated noise \"pixels\"\n",
    "    :param sigma: defines bounds of noise fluctuations\n",
    "    \"\"\"\n",
    "    mean = 0\n",
    "    assert width % ratio == 0, \"Can't scale image with of size {} and ratio {}\".format(width, ratio)\n",
    "    assert height % ratio == 0, \"Can't scale image with of size {} and ratio {}\".format(height, ratio)\n",
    "\n",
    "    h = int(height / ratio)\n",
    "    w = int(width / ratio)\n",
    "\n",
    "    result = np.random.normal(mean, sigma, (w, h, MONOCHROME))\n",
    "    if ratio > 1:\n",
    "        result = cv2.resize(result, dsize=(width, height), interpolation=cv2.INTER_LINEAR)\n",
    "    return result.reshape((width, height, MONOCHROME))\n",
    "\n",
    "\n",
    "def texture(image, sigma=BG_SIGMA, turbulence=2):\n",
    "    \"\"\"\n",
    "    Consequently applies noise patterns to the original image from big to small.\n",
    "\n",
    "    sigma: defines bounds of noise fluctuations\n",
    "    turbulence: defines how quickly big patterns will be replaced with the small ones. The lower\n",
    "    value - the more iterations will be performed during texture generation.\n",
    "    \"\"\"\n",
    "    result = image.astype(float)\n",
    "    cols, rows, ch = image.shape\n",
    "    ratio = cols\n",
    "    while not ratio == 1:\n",
    "        result += noise(cols, rows, ratio, sigma=sigma)\n",
    "        ratio = (ratio // turbulence) or 1\n",
    "    cut = np.clip(result, 0, 255)\n",
    "    return cut.astype(np.uint8)\n",
    "\n",
    "\n",
    "if __name__ == '__main__':\n",
    "    \n",
    "    a = blank_image(background=230)\n",
    "    b = texture(a, sigma = 4, turbulence=4)\n",
    "    y,x,z = b.shape\n",
    "    print(y,x,z)\n",
    "    if z == 1:\n",
    "        image_rgb =  np.zeros((y,x,3))\n",
    "        y,x,z = image_rgb.shape\n",
    "        texture_image = texture(blank_image(background=230), sigma=4, turbulence=4)\n",
    "        texture_and_noise_image = add_noise(texture(blank_image(background=230), sigma=4), sigma=10)\n",
    "        noise_image = add_noise(blank_image(image_size, image_size), sigma=10)\n",
    "        image_rgb[:,:,0] = texture_and_noise_image[:,:,0].astype(int)\n",
    "        image_rgb[:,:,1] = texture_and_noise_image[:,:,0].astype(int)     \n",
    "        image_rgb[:,:,2] = texture_and_noise_image[:,:,0].astype(int)      \n",
    "        print(image_rgb[:,:,1])\n",
    "        \n",
    "        img_uint8 = Image.fromarray(np.uint8(image_rgb))\n",
    "        img_uint8.save('C:/Users/User/Desktop/Test/'+'texture_and_noise_image'+'.bmp')\n",
    "        \n",
    "# with Image.open('C:/Users/User/Desktop/Test/'+'texture_and_noise_image'+'.bmp') as file:\n",
    "#     a = np.array()\n",
    "\n",
    "#         cv2.imwrite('texture.bmp', texture(blank_image(background=230), sigma=4, turbulence=4))\n",
    "#         cv2.imwrite('texture-and-noise.bmp', add_noise(texture(blank_image(background=230), sigma=4), sigma=10))\n",
    "#         cv2.imwrite('noise.bmp', add_noise(blank_image(image_size, image_size), sigma=10))"
   ]
  },
  {
   "cell_type": "code",
   "execution_count": 72,
   "metadata": {},
   "outputs": [
    {
     "name": "stdout",
     "output_type": "stream",
     "text": [
      "<class 'numpy.ndarray'>\n",
      "<class 'numpy.ndarray'>\n"
     ]
    },
    {
     "ename": "TypeError",
     "evalue": "Cannot handle this data type",
     "output_type": "error",
     "traceback": [
      "\u001b[1;31m---------------------------------------------------------------------------\u001b[0m",
      "\u001b[1;31mKeyError\u001b[0m                                  Traceback (most recent call last)",
      "\u001b[1;32mC:\\Users\\User\\Anaconda3\\lib\\site-packages\\PIL\\Image.py\u001b[0m in \u001b[0;36mfromarray\u001b[1;34m(obj, mode)\u001b[0m\n\u001b[0;32m   2357\u001b[0m             \u001b[0mtypekey\u001b[0m \u001b[1;33m=\u001b[0m \u001b[1;33m(\u001b[0m\u001b[1;36m1\u001b[0m\u001b[1;33m,\u001b[0m \u001b[1;36m1\u001b[0m\u001b[1;33m)\u001b[0m \u001b[1;33m+\u001b[0m \u001b[0mshape\u001b[0m\u001b[1;33m[\u001b[0m\u001b[1;36m2\u001b[0m\u001b[1;33m:\u001b[0m\u001b[1;33m]\u001b[0m\u001b[1;33m,\u001b[0m \u001b[0marr\u001b[0m\u001b[1;33m[\u001b[0m\u001b[1;34m'typestr'\u001b[0m\u001b[1;33m]\u001b[0m\u001b[1;33m\u001b[0m\u001b[0m\n\u001b[1;32m-> 2358\u001b[1;33m             \u001b[0mmode\u001b[0m\u001b[1;33m,\u001b[0m \u001b[0mrawmode\u001b[0m \u001b[1;33m=\u001b[0m \u001b[0m_fromarray_typemap\u001b[0m\u001b[1;33m[\u001b[0m\u001b[0mtypekey\u001b[0m\u001b[1;33m]\u001b[0m\u001b[1;33m\u001b[0m\u001b[0m\n\u001b[0m\u001b[0;32m   2359\u001b[0m         \u001b[1;32mexcept\u001b[0m \u001b[0mKeyError\u001b[0m\u001b[1;33m:\u001b[0m\u001b[1;33m\u001b[0m\u001b[0m\n",
      "\u001b[1;31mKeyError\u001b[0m: ((1, 1, 1), '|u1')",
      "\nDuring handling of the above exception, another exception occurred:\n",
      "\u001b[1;31mTypeError\u001b[0m                                 Traceback (most recent call last)",
      "\u001b[1;32m<ipython-input-72-8606468c161f>\u001b[0m in \u001b[0;36m<module>\u001b[1;34m()\u001b[0m\n\u001b[0;32m      4\u001b[0m \u001b[0mc\u001b[0m \u001b[1;33m=\u001b[0m \u001b[0mnp\u001b[0m\u001b[1;33m.\u001b[0m\u001b[0marray\u001b[0m\u001b[1;33m(\u001b[0m\u001b[0mb\u001b[0m\u001b[1;33m)\u001b[0m\u001b[1;33m\u001b[0m\u001b[0m\n\u001b[0;32m      5\u001b[0m \u001b[0mprint\u001b[0m\u001b[1;33m(\u001b[0m\u001b[0mtype\u001b[0m\u001b[1;33m(\u001b[0m\u001b[0mc\u001b[0m\u001b[1;33m)\u001b[0m\u001b[1;33m)\u001b[0m\u001b[1;33m\u001b[0m\u001b[0m\n\u001b[1;32m----> 6\u001b[1;33m \u001b[0mimg_uint8\u001b[0m \u001b[1;33m=\u001b[0m \u001b[0mImage\u001b[0m\u001b[1;33m.\u001b[0m\u001b[0mfromarray\u001b[0m\u001b[1;33m(\u001b[0m\u001b[0mc\u001b[0m\u001b[1;33m)\u001b[0m\u001b[1;33m\u001b[0m\u001b[0m\n\u001b[0m\u001b[0;32m      7\u001b[0m \u001b[0mimg_uint8\u001b[0m\u001b[1;33m.\u001b[0m\u001b[0msave\u001b[0m\u001b[1;33m(\u001b[0m\u001b[1;34m'C:/Users/User/Desktop/Test/'\u001b[0m \u001b[1;33m+\u001b[0m \u001b[1;34m'new'\u001b[0m\u001b[1;33m+\u001b[0m\u001b[1;34m'.bmp'\u001b[0m\u001b[1;33m)\u001b[0m\u001b[1;33m\u001b[0m\u001b[0m\n",
      "\u001b[1;32mC:\\Users\\User\\Anaconda3\\lib\\site-packages\\PIL\\Image.py\u001b[0m in \u001b[0;36mfromarray\u001b[1;34m(obj, mode)\u001b[0m\n\u001b[0;32m   2359\u001b[0m         \u001b[1;32mexcept\u001b[0m \u001b[0mKeyError\u001b[0m\u001b[1;33m:\u001b[0m\u001b[1;33m\u001b[0m\u001b[0m\n\u001b[0;32m   2360\u001b[0m             \u001b[1;31m# print(typekey)\u001b[0m\u001b[1;33m\u001b[0m\u001b[1;33m\u001b[0m\u001b[0m\n\u001b[1;32m-> 2361\u001b[1;33m             \u001b[1;32mraise\u001b[0m \u001b[0mTypeError\u001b[0m\u001b[1;33m(\u001b[0m\u001b[1;34m\"Cannot handle this data type\"\u001b[0m\u001b[1;33m)\u001b[0m\u001b[1;33m\u001b[0m\u001b[0m\n\u001b[0m\u001b[0;32m   2362\u001b[0m     \u001b[1;32melse\u001b[0m\u001b[1;33m:\u001b[0m\u001b[1;33m\u001b[0m\u001b[0m\n\u001b[0;32m   2363\u001b[0m         \u001b[0mrawmode\u001b[0m \u001b[1;33m=\u001b[0m \u001b[0mmode\u001b[0m\u001b[1;33m\u001b[0m\u001b[0m\n",
      "\u001b[1;31mTypeError\u001b[0m: Cannot handle this data type"
     ]
    }
   ],
   "source": [
    "# print(a)\n",
    "# print(b)\n",
    "print(type(b))\n",
    "c = np.array(b)\n",
    "print(type(c))\n",
    "img_uint8 = Image.fromarray(c)\n",
    "img_uint8.save('C:/Users/User/Desktop/Test/' + 'new'+'.bmp')"
   ]
  },
  {
   "cell_type": "code",
   "execution_count": null,
   "metadata": {},
   "outputs": [],
   "source": []
  },
  {
   "cell_type": "code",
   "execution_count": 48,
   "metadata": {},
   "outputs": [
    {
     "name": "stderr",
     "output_type": "stream",
     "text": [
      "Clipping input data to the valid range for imshow with RGB data ([0..1] for floats or [0..255] for integers).\n"
     ]
    },
    {
     "name": "stdout",
     "output_type": "stream",
     "text": [
      "C:/Users/User/Desktop/Test/final_image_0.3.bmp\n"
     ]
    }
   ],
   "source": [
    "with Image.open('C:/Users/User/Desktop/Test/20191201_202353_14_8_12_11.bmp') as binary_image:\n",
    "    with Image.open('C:/Users/User/Desktop/Test/texture_and_noise_image.bmp') as texture_noise:\n",
    "        scale = 0.30\n",
    "        binary_image = np.array(binary_image)\n",
    "        texture_noise = np.array(texture_noise)\n",
    "        final_image = np.add(scale*binary_image/255,texture_noise/255)\n",
    "        plt.figure('adf')\n",
    "        plt.imshow(binary_image)\n",
    "        plt.figure('adsf')\n",
    "        plt.imshow(texture_noise)\n",
    "        plt.figure('final')\n",
    "        plt.imshow(final_image)\n",
    "        image_max = np.max(final_image)\n",
    "        img_uint8 = Image.fromarray(np.uint8(final_image/image_max*255))\n",
    "        img_uint8.save('C:/Users/User/Desktop/Test/'+'final_image'+ '_' + str(scale)+'.bmp')\n",
    "        print('C:/Users/User/Desktop/Test/'+'final_image'+ '_' + str(scale)+'.bmp')\n",
    "#         print(type(binary_image))\n",
    "#         print(type(texture_noise))\n",
    "#         print(binary_image)\n",
    "#         final_image = np.add(binary_image,texture_noise)\n",
    "#         plt.figure('final_image')\n",
    "#         plt.imshow(final_image)\n",
    "#         img_uint8 = Image.fromarray(np.uint8(final_image))\n",
    "#         img_uint8.save('C:/Users/User/Desktop/Test/ '+'final_image'+'.bmp')"
   ]
  },
  {
   "cell_type": "markdown",
   "metadata": {},
   "source": [
    "## Sinuskurve "
   ]
  },
  {
   "cell_type": "code",
   "execution_count": 9,
   "metadata": {},
   "outputs": [
    {
     "data": {
      "text/plain": [
       "<matplotlib.image.AxesImage at 0x92ae358>"
      ]
     },
     "execution_count": 9,
     "metadata": {},
     "output_type": "execute_result"
    }
   ],
   "source": [
    "\n",
    "\n",
    "a = np.zeros((512,512,3))\n",
    "b = np.zeros((512,512,3))\n",
    "\n",
    "### a ###\n",
    "min_grayValue_1 = 10\n",
    "max_grayValue_1 = 255\n",
    "shift_1 = -np.pi/2\n",
    "image_size_1 = 512\n",
    "frequency_1 = 1\n",
    "\n",
    "### b ###\n",
    "min_grayValue_2 = 10\n",
    "max_grayValue_2 = 255\n",
    "shift_2 = -np.pi/2\n",
    "image_size_2 = 512\n",
    "frequency_2 = 1\n",
    "\n",
    "\n",
    "for i in range(512):\n",
    "    for j in range(512):\n",
    "        a[i,j,:] = ((np.sin(2*np.pi/image_size_1*frequency_1*i+shift_1))+1)/2*(max_grayValue_1-min_grayValue_1)+min_grayValue_1\n",
    "        b[i,j,:] = ((np.sin(2*np.pi/image_size_2*frequency_2*j+shift_2))+1)/2*(max_grayValue_2-min_grayValue_2)+min_grayValue_2\n",
    "#         if i == 0:\n",
    "# #             print(a[0,j,0])\n",
    "                \n",
    "plt.figure('a')\n",
    "plt.imshow(a/255)\n",
    "\n",
    "plt.figure('b')\n",
    "plt.imshow(b/255)\n",
    "\n",
    "\n",
    "c = (a/2+b/2)\n",
    "plt.figure('c')\n",
    "plt.imshow(c/255)"
   ]
  },
  {
   "cell_type": "code",
   "execution_count": 17,
   "metadata": {},
   "outputs": [],
   "source": [
    "c = np.zeros((25,256,3))\n",
    "for i in range(256):\n",
    "    c[:,i,:] = i\n",
    "    plt.figure('gerade')\n",
    "    plt.imshow(c/255)"
   ]
  },
  {
   "cell_type": "code",
   "execution_count": 16,
   "metadata": {},
   "outputs": [
    {
     "data": {
      "text/plain": [
       "<matplotlib.image.AxesImage at 0xd05fc50>"
      ]
     },
     "execution_count": 16,
     "metadata": {},
     "output_type": "execute_result"
    }
   ],
   "source": [
    "b = np.empty((512,512))\n",
    "for i in range(512*30):\n",
    "    tmp_x = np.random.randint(0,512)\n",
    "    tmp_y = np.random.randint(0,512)\n",
    "    tmp_value = np.random.randint(255)\n",
    "    b[tmp_y,tmp_x] = tmp_value\n",
    "plt.figure('asdfasdf')\n",
    "plt.imshow(b/255)"
   ]
  },
  {
   "cell_type": "code",
   "execution_count": 65,
   "metadata": {},
   "outputs": [],
   "source": [
    "array = b"
   ]
  },
  {
   "cell_type": "code",
   "execution_count": 70,
   "metadata": {},
   "outputs": [
    {
     "name": "stdout",
     "output_type": "stream",
     "text": [
      "[[0. 0. 0. ... 0. 0. 0.]\n",
      " [0. 0. 0. ... 0. 0. 0.]\n",
      " [0. 0. 0. ... 0. 0. 0.]\n",
      " ...\n",
      " [0. 0. 0. ... 0. 0. 0.]\n",
      " [0. 0. 0. ... 0. 0. 0.]\n",
      " [0. 0. 0. ... 0. 0. 0.]]\n",
      "<class 'numpy.ndarray'>\n"
     ]
    }
   ],
   "source": [
    "import numpy as np\n",
    "from scipy import interpolate\n",
    "x = np.arange(0, array.shape[1])\n",
    "y = np.arange(0, array.shape[0])\n",
    "#mask invalid values\n",
    "array = np.ma.masked_invalid(array)\n",
    "xx, yy = np.meshgrid(x, y)\n",
    "#get only the valid values\n",
    "x1 = xx[~array.mask]\n",
    "y1 = yy[~array.mask]\n",
    "newarr = array[~array.mask]\n",
    "\n",
    "GD1 = interpolate.griddata((x1, y1), newarr.ravel(),(xx, yy),method='cubic')\n",
    "\n",
    "print(GD1)\n",
    "print(type(GD1))"
   ]
  },
  {
   "cell_type": "code",
   "execution_count": 72,
   "metadata": {},
   "outputs": [
    {
     "data": {
      "text/plain": [
       "<matplotlib.image.AxesImage at 0x17ba3f98>"
      ]
     },
     "execution_count": 72,
     "metadata": {},
     "output_type": "execute_result"
    }
   ],
   "source": [
    "d = np.zeros((512,512,3))\n",
    "d[:,:,0] = GD1\n",
    "d[:,:,1] = GD1\n",
    "d[:,:,2] = GD1\n",
    "plt.figure('qewr')\n",
    "plt.imshow(d/255)"
   ]
  },
  {
   "cell_type": "markdown",
   "metadata": {},
   "source": [
    "## Color Generator"
   ]
  },
  {
   "cell_type": "code",
   "execution_count": 90,
   "metadata": {},
   "outputs": [],
   "source": [
    "for m in range(1000):\n",
    "    tolerance = 10\n",
    "    size = 64\n",
    "    C = np.zeros((size,size,3))\n",
    "    probability = np.random.randint(0,101)\n",
    "    if probability >= 30:\n",
    "        r = np.random.randint(16,240)\n",
    "        g = np.random.randint(r-tolerance,r+tolerance)\n",
    "        b = np.random.randint(r-tolerance,r+tolerance)\n",
    "    else:\n",
    "        r = np.random.randint(16,240)\n",
    "        g = np.random.randint(16,240)\n",
    "        b = np.random.randint(16,240)\n",
    "    for i in range(size):\n",
    "        for j in range(size):\n",
    "            tolerance_field = 10\n",
    "            C[i,j,0] = np.random.randint(r-tolerance_field,r+tolerance_field)\n",
    "            C[i,j,1] = np.random.randint(g-tolerance_field,g+tolerance_field)\n",
    "            C[i,j,2] = np.random.randint(b-tolerance_field,b+tolerance_field)\n",
    "            # plt.figure('A')\n",
    "            # plt.imshow(A/255)\n",
    "    im2 = Image.fromarray(np.uint8(C))\n",
    "    im2.save('C:/Users/User/Desktop/Test/PossibleBackgrounds/TEST_randomColorCharacters/'+'C'+str(m)+'.bmp')\n"
   ]
  },
  {
   "cell_type": "code",
   "execution_count": 83,
   "metadata": {},
   "outputs": [],
   "source": [
    "for m in range(100):\n",
    "    size = 128\n",
    "    A = np.zeros((size,size,3))\n",
    "    B = np.zeros((size,size,3))\n",
    "    r = np.random.randint(16,235)\n",
    "    g = np.random.randint(16,235)\n",
    "    b = np.random.randint(16,235)\n",
    "\n",
    "\n",
    "    for i in range(size):\n",
    "        for j in range(size):\n",
    "            tolerance = 10\n",
    "            tolerance_gaussian = int(tolerance*0.67)\n",
    "            A[i,j,0] = np.random.randint(r-tolerance,r+tolerance)\n",
    "            A[i,j,1] = np.random.randint(g-tolerance,g+tolerance)\n",
    "            A[i,j,2] = np.random.randint(b-tolerance,b+tolerance)\n",
    "    # plt.figure('A')\n",
    "    # plt.imshow(A/255)\n",
    "    im1 = Image.fromarray(np.uint8(A))\n",
    "    im1.save('C:/Users/User/Desktop/Test/PossibleBackgrounds/TEST_randomColorCharacters/'+'A'+str(m)+'.bmp')\n",
    "\n",
    "\n",
    "    a = np.random.normal(r,tolerance_gaussian,size*size).astype(int)\n",
    "    b = np.random.normal(g,tolerance_gaussian,size*size).astype(int)\n",
    "    c = np.random.normal(b,tolerance_gaussian,size*size).astype(int)\n",
    "    a = a.reshape(size,size)\n",
    "    b = b.reshape(size,size)\n",
    "    c = c.reshape(size,size)\n",
    "    B[:,:,0] = a\n",
    "    B[:,:,1] = b\n",
    "    B[:,:,2] = c\n",
    "    # B = np.concatenate(B,c)\n",
    "    y,x,z = B.shape\n",
    "    im = Image.fromarray(np.uint8(B))\n",
    "    im.save('C:/Users/User/Desktop/Test/PossibleBackgrounds/TEST_randomColorCharacters/'+'B'+str(m)+'.bmp')\n",
    "\n",
    "    # print(y,x,z)\n",
    "    # plt.figure('B')\n",
    "    # plt.imshow(B/255)\n",
    "    \n"
   ]
  },
  {
   "cell_type": "code",
   "execution_count": 66,
   "metadata": {},
   "outputs": [
    {
     "name": "stderr",
     "output_type": "stream",
     "text": [
      "Clipping input data to the valid range for imshow with RGB data ([0..1] for floats or [0..255] for integers).\n"
     ]
    },
    {
     "name": "stdout",
     "output_type": "stream",
     "text": [
      "512 512 3\n"
     ]
    },
    {
     "data": {
      "text/plain": [
       "<matplotlib.image.AxesImage at 0xc60afd0>"
      ]
     },
     "execution_count": 66,
     "metadata": {},
     "output_type": "execute_result"
    }
   ],
   "source": []
  },
  {
   "cell_type": "code",
   "execution_count": 31,
   "metadata": {},
   "outputs": [
    {
     "name": "stdout",
     "output_type": "stream",
     "text": [
      "[[237.37067131]] [[56.10575298]] [[55.98473843]]\n",
      "[[[ 62  66 142]]]\n"
     ]
    }
   ],
   "source": [
    "import matplotlib.colors as c\n",
    "hsv_matrix = np.zeros((1,1,3))\n",
    "h_vector = np.random.normal(250,10,(1,1))\n",
    "s_vector = np.random.normal(60,10,(1,1))\n",
    "v_vector = np.random.normal(60,10,(1,1))\n",
    "h_vector[h_vector>360] = 360\n",
    "h_vector[h_vector<0] = 0\n",
    "s_vector[s_vector>100] = 100\n",
    "s_vector[s_vector<0] = 0\n",
    "v_vector[v_vector>100] = 100\n",
    "v_vector[v_vector<0] = 0\n",
    "print(h_vector,s_vector,v_vector)\n",
    "h_vector = h_vector/360\n",
    "s_vector = s_vector/100\n",
    "v_vector = v_vector/100\n",
    "hsv_matrix[:,:,0] = h_vector\n",
    "hsv_matrix[:,:,1] = s_vector\n",
    "hsv_matrix[:,:,2] = v_vector\n",
    "b = c.hsv_to_rgb(hsv_matrix)*255\n",
    "b = b.astype(int)\n",
    "print(b)"
   ]
  },
  {
   "cell_type": "code",
   "execution_count": null,
   "metadata": {},
   "outputs": [],
   "source": []
  }
 ],
 "metadata": {
  "kernelspec": {
   "display_name": "Python 3",
   "language": "python",
   "name": "python3"
  },
  "language_info": {
   "codemirror_mode": {
    "name": "ipython",
    "version": 3
   },
   "file_extension": ".py",
   "mimetype": "text/x-python",
   "name": "python",
   "nbconvert_exporter": "python",
   "pygments_lexer": "ipython3",
   "version": "3.6.4"
  }
 },
 "nbformat": 4,
 "nbformat_minor": 2
}
