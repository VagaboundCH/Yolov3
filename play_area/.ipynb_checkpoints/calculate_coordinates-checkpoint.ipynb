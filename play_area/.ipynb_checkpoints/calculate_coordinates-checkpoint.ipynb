{
 "cells": [
  {
   "cell_type": "code",
   "execution_count": 48,
   "metadata": {},
   "outputs": [],
   "source": [
    "import numpy as np\n",
    "import torch\n",
    "import torch.nn as nn"
   ]
  },
  {
   "cell_type": "code",
   "execution_count": 41,
   "metadata": {},
   "outputs": [],
   "source": [
    "xmin = 175\n",
    "ymin = 229\n",
    "xmax = 192\n",
    "ymax = 254\n",
    "feature_map_size_1 = 16\n",
    "feature_map_size_2 = 32\n",
    "feature_map_size_3 = 64\n",
    "image_size = 512\n",
    "anchors = [(10,13),(16,30),(33,23),(30,61),(62,45),(59,119),(116,90),(156,198),(373,326)]"
   ]
  },
  {
   "cell_type": "code",
   "execution_count": 42,
   "metadata": {},
   "outputs": [
    {
     "name": "stdout",
     "output_type": "stream",
     "text": [
      "bx_o:  183.5\n",
      "by_o:  241.5\n",
      "bw_o:  17\n",
      "bh_o:  25\n"
     ]
    }
   ],
   "source": [
    "bx_o = (xmin + xmax)/2\n",
    "by_o = (ymin + ymax)/2\n",
    "bw_o = xmax - xmin\n",
    "bh_o = ymax - ymin\n",
    "print('bx_o: ', bx_o)\n",
    "print('by_o: ',by_o)\n",
    "print('bw_o: ', bw_o)\n",
    "print('bh_o: ', bh_o)"
   ]
  },
  {
   "cell_type": "code",
   "execution_count": 43,
   "metadata": {},
   "outputs": [],
   "source": [
    "# bx = sigmoid(tx) + cx \n",
    "# by = sigmoid(ty) + cy\n",
    "# bw = pw*e^tw\n",
    "# bh = ph*e^th\n",
    "# sigmoid(x) = 1/(1-e^x)\n",
    "# x = np.log(sigmoid(x)/(1-sigmoid(x)))"
   ]
  },
  {
   "cell_type": "code",
   "execution_count": 44,
   "metadata": {},
   "outputs": [
    {
     "name": "stdout",
     "output_type": "stream",
     "text": [
      "bx:  5.734375\n",
      "cx:  5\n",
      "tx:  1.0169342576538425\n",
      "by:  7.546875\n",
      "cy:  7\n",
      "ty:  0.18805223150293962\n",
      "bx:  5.734375\n",
      "by:  7.546875\n"
     ]
    }
   ],
   "source": [
    "bx = bx_o*feature_map_size_1/image_size\n",
    "cx = int(bx)\n",
    "tx = np.log((bx-cx)/(1-(bx-cx)))\n",
    "by = by_o*feature_map_size_1/image_size\n",
    "cy = int(by)\n",
    "ty = np.log((by-cy)/(1-(by-cy)))\n",
    "print('bx: ', bx)\n",
    "print('cx: ', cx)\n",
    "print('tx: ', tx)\n",
    "print('by: ', by)\n",
    "print('cy: ', cy)\n",
    "print('ty: ', ty)\n",
    "print('bx: ', 1/(1+np.exp(-tx)) + cx)\n",
    "print('by: ', 1/(1+np.exp(-ty)) + cy)"
   ]
  },
  {
   "cell_type": "code",
   "execution_count": 45,
   "metadata": {},
   "outputs": [
    {
     "name": "stdout",
     "output_type": "stream",
     "text": [
      "116 90\n",
      "156 198\n",
      "373 326\n"
     ]
    }
   ],
   "source": [
    "pw_ph_0 = anchors[6]\n",
    "pw_ph_1 = anchors[7]\n",
    "pw_ph_2 = anchors[8]\n",
    "pw_0 = pw_ph_0[0]\n",
    "ph_0 = pw_ph_0[1]\n",
    "pw_1 = pw_ph_1[0]\n",
    "ph_1 = pw_ph_1[1]\n",
    "pw_2 = pw_ph_2[0]\n",
    "ph_2 = pw_ph_2[1]\n",
    "print(pw_0,ph_0)\n",
    "print(pw_1,ph_1)\n",
    "print(pw_2,ph_2)"
   ]
  },
  {
   "cell_type": "code",
   "execution_count": 46,
   "metadata": {},
   "outputs": [
    {
     "name": "stdout",
     "output_type": "stream",
     "text": [
      "-1.9203768470501485 -1.2809338454620642\n"
     ]
    }
   ],
   "source": [
    "tw = np.log(bw_o/pw_0)\n",
    "th = np.log(bh_o/ph_0)\n",
    "print(tw,th)"
   ]
  },
  {
   "cell_type": "code",
   "execution_count": 47,
   "metadata": {},
   "outputs": [
    {
     "name": "stdout",
     "output_type": "stream",
     "text": [
      "bw_o:  17.0\n",
      "bh_o:  25.0\n"
     ]
    }
   ],
   "source": [
    "print('bw_o: ', pw_0*np.exp(tw))\n",
    "print('bh_o: ', ph_0*np.exp(th))"
   ]
  },
  {
   "cell_type": "code",
   "execution_count": null,
   "metadata": {},
   "outputs": [],
   "source": []
  },
  {
   "cell_type": "code",
   "execution_count": 56,
   "metadata": {},
   "outputs": [],
   "source": [
    "number_classes = 26+10+4   #Grossbuchstaben, Zahlen, {.:/-}\n",
    "anchors = [10,13,  16,30,  33,23,  30,61,  62,45,  59,119,  116,90,  156,198,  373,326]\n",
    "leaky_relu_value = 0.1\n",
    "number_anchors = np.size(anchors)/6\n",
    "features = int(number_anchors*(4+1+number_classes))\n",
    "dimension = 3\n",
    "batch_size = 1"
   ]
  },
  {
   "cell_type": "code",
   "execution_count": null,
   "metadata": {},
   "outputs": [],
   "source": []
  },
  {
   "cell_type": "code",
   "execution_count": 60,
   "metadata": {},
   "outputs": [
    {
     "name": "stdout",
     "output_type": "stream",
     "text": [
      "torch.Size([1, 3, 45, 3, 3])\n"
     ]
    }
   ],
   "source": [
    "a = torch.zeros(batch_size, number_anchors, features/number_anchors,3,3)\n",
    "# print(a)\n",
    "print(a.size())"
   ]
  },
  {
   "cell_type": "code",
   "execution_count": null,
   "metadata": {},
   "outputs": [],
   "source": []
  },
  {
   "cell_type": "code",
   "execution_count": null,
   "metadata": {},
   "outputs": [],
   "source": []
  },
  {
   "cell_type": "code",
   "execution_count": null,
   "metadata": {},
   "outputs": [],
   "source": []
  },
  {
   "cell_type": "code",
   "execution_count": null,
   "metadata": {},
   "outputs": [],
   "source": []
  }
 ],
 "metadata": {
  "kernelspec": {
   "display_name": "Python 3",
   "language": "python",
   "name": "python3"
  },
  "language_info": {
   "codemirror_mode": {
    "name": "ipython",
    "version": 3
   },
   "file_extension": ".py",
   "mimetype": "text/x-python",
   "name": "python",
   "nbconvert_exporter": "python",
   "pygments_lexer": "ipython3",
   "version": "3.6.4"
  }
 },
 "nbformat": 4,
 "nbformat_minor": 2
}
