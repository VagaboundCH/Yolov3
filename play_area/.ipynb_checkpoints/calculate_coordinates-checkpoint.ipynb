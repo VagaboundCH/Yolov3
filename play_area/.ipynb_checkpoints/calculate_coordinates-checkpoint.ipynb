{
 "cells": [
  {
   "cell_type": "code",
   "execution_count": 38,
   "metadata": {},
   "outputs": [],
   "source": [
    "import numpy as np"
   ]
  },
  {
   "cell_type": "code",
   "execution_count": 53,
   "metadata": {},
   "outputs": [],
   "source": [
    "xmin = 175\n",
    "ymin = 229\n",
    "xmax = 192\n",
    "ymax = 254\n",
    "feature_map_size_1 = 16\n",
    "feature_map_size_2 = 32\n",
    "feature_map_size_3 = 64\n",
    "image_size = 512\n",
    "anchors = [(10,13),(16,30),(33,23),(30,61),(62,45),(59,119),(116,90),(156,198),(373,326)]"
   ]
  },
  {
   "cell_type": "code",
   "execution_count": 48,
   "metadata": {},
   "outputs": [
    {
     "name": "stdout",
     "output_type": "stream",
     "text": [
      "5.734375 241.5 17 25\n"
     ]
    }
   ],
   "source": [
    "bx_o = (xmin + xmax)/2\n",
    "by_o = (ymin + ymax)/2\n",
    "bw_o = xmax - xmin\n",
    "bh_o = ymax - ymin\n",
    "print(bx,by,bw,bh)"
   ]
  },
  {
   "cell_type": "code",
   "execution_count": 49,
   "metadata": {},
   "outputs": [],
   "source": [
    "# bx = sigma(tx) + cx \n",
    "# by = sigma(ty) + cy\n",
    "# bw = pw*e^tw\n",
    "# bh = ph*e^th"
   ]
  },
  {
   "cell_type": "code",
   "execution_count": 63,
   "metadata": {},
   "outputs": [
    {
     "name": "stdout",
     "output_type": "stream",
     "text": [
      "5.734375 5 1.0169342576538425\n",
      "7.546875 7 0.18805223150293962\n"
     ]
    }
   ],
   "source": [
    "bx = bx_o*feature_map_size_1/image_size\n",
    "cx = int(bx)\n",
    "tx = np.log((bx-cx)/(1-(bx-cx)))\n",
    "by = by_o*feature_map_size_1/image_size\n",
    "cy = int(by)\n",
    "ty = np.log((by-cy)/(1-(by-cy)))\n",
    "print(bx,cx,tx)\n",
    "print(by,cy,ty)"
   ]
  },
  {
   "cell_type": "code",
   "execution_count": 69,
   "metadata": {},
   "outputs": [
    {
     "name": "stdout",
     "output_type": "stream",
     "text": [
      "116 90\n",
      "156 198\n",
      "373 326\n"
     ]
    }
   ],
   "source": [
    "pw_ph_0 = anchors[6]\n",
    "pw_ph_1 = anchors[7]\n",
    "pw_ph_2 = anchors[8]\n",
    "pw_0 = pw_ph_0[0]\n",
    "ph_0 = pw_ph_0[1]\n",
    "pw_1 = pw_ph_1[0]\n",
    "ph_1 = pw_ph_1[1]\n",
    "pw_2 = pw_ph_2[0]\n",
    "ph_2 = pw_ph_2[1]\n",
    "print(pw_0,ph_0)\n",
    "print(pw_1,ph_1)\n",
    "print(pw_2,ph_2)"
   ]
  },
  {
   "cell_type": "code",
   "execution_count": 73,
   "metadata": {},
   "outputs": [
    {
     "name": "stdout",
     "output_type": "stream",
     "text": [
      "-1.9203768470501485 -1.2809338454620642\n"
     ]
    }
   ],
   "source": [
    "tw = np.log(bw/pw_0)\n",
    "th = np.log(bh/ph_0)\n",
    "print(tw,th)"
   ]
  },
  {
   "cell_type": "code",
   "execution_count": null,
   "metadata": {},
   "outputs": [],
   "source": []
  }
 ],
 "metadata": {
  "kernelspec": {
   "display_name": "Python 3",
   "language": "python",
   "name": "python3"
  },
  "language_info": {
   "codemirror_mode": {
    "name": "ipython",
    "version": 3
   },
   "file_extension": ".py",
   "mimetype": "text/x-python",
   "name": "python",
   "nbconvert_exporter": "python",
   "pygments_lexer": "ipython3",
   "version": "3.6.4"
  }
 },
 "nbformat": 4,
 "nbformat_minor": 2
}
