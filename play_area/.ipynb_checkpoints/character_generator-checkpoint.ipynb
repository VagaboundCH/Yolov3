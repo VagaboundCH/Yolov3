{
 "cells": [
  {
   "cell_type": "code",
   "execution_count": 1,
   "metadata": {},
   "outputs": [],
   "source": [
    "from PIL import Image, ImageDraw, ImageFont  \n",
    "import numpy as np\n",
    "import matplotlib.pyplot as plt\n",
    "from copy import copy, deepcopy\n",
    "from scipy import interpolate\n",
    "import cv2 \n",
    "from scipy.integrate import quad\n",
    "from scipy.misc import derivative\n",
    "import sympy as sp\n",
    "import math\n",
    "from math import sqrt, pi\n",
    "# from scipy import integrate\n",
    "from sympy import integrate, Symbol \n",
    "import scipy.integrate as spi\n",
    "import Augmentor as Aug\n",
    "import os\n",
    "import shutil\n",
    "import time\n",
    "import import_ipynb # pip install import-ipynb # https://stackoverflow.com/questions/20186344/ipynb-import-another-ipynb-file\n",
    "# import Operations # file operation.ipynb # https://github.com/mdbloice/Augmentor/tree/master/Augmentor\n",
    "# import Pipeline"
   ]
  },
  {
   "cell_type": "code",
   "execution_count": 65,
   "metadata": {},
   "outputs": [],
   "source": [
    "# Parameters\n",
    "font_type = 'C:/Windows/Fonts/Calibri/calibrib.ttf'\n",
    "font_size = 49 # 49\n",
    "character = 'A'\n",
    "threshold_binarisation = 100"
   ]
  },
  {
   "cell_type": "code",
   "execution_count": 66,
   "metadata": {},
   "outputs": [],
   "source": [
    "# Befehl muss zweimal ausgeführt werden (komisch)\n",
    "%matplotlib qt\n",
    "%matplotlib qt"
   ]
  },
  {
   "cell_type": "code",
   "execution_count": 67,
   "metadata": {},
   "outputs": [
    {
     "name": "stdout",
     "output_type": "stream",
     "text": [
      "<class 'numpy.ndarray'>\n",
      "21 26 28 31\n",
      "84 86\n",
      "<class 'numpy.ndarray'>\n"
     ]
    }
   ],
   "source": [
    "plt.close('all')\n",
    "size_y, size_x = 200, 200\n",
    "img = Image.new('RGB', (size_y, size_x), color = (0, 0, 0))   # (50,50)  \n",
    "fnt = ImageFont.truetype(font_type, font_size)\n",
    "d = ImageDraw.Draw(img)\n",
    "d.text((20,20), character, font=fnt, fill=(255, 255, 255))\n",
    "# img.show() \n",
    "# img.save('pil_text_font.bmp')\n",
    "img = np.array(img)\n",
    "plt.figure('img')\n",
    "plt.imshow(img)\n",
    "x,y,z = np.shape(img)\n",
    "# print(x,y,z)\n",
    "img[img<threshold_binarisation] = 0\n",
    "plt.figure('binarised')\n",
    "plt.imshow(img)\n",
    "print(type(img))\n",
    "\n",
    "x, y, w, h = cv2.boundingRect(img[:,:,0])\n",
    "print(x, y, w, h)\n",
    "x_min = x-1\n",
    "y_min = y-1\n",
    "x_max = x+w\n",
    "y_max = y+h\n",
    "\n",
    "y_position = int((size_y-h)/2)\n",
    "x_position = int((size_x-w)/2)\n",
    "print(y_position,x_position)\n",
    "\n",
    "img_centered = Image.new('RGB', (size_y, size_x), color = (0, 0, 0))   # (50,50)  \n",
    "fnt = ImageFont.truetype(font_type, font_size)\n",
    "d_centered = ImageDraw.Draw(img_centered)\n",
    "d_centered.text((x_position,y_position-5), character, font=fnt, fill=(255, 255, 255))\n",
    "# img.show() \n",
    "# img.save('pil_text_font.bmp')\n",
    "img_centered = np.array(img_centered)\n",
    "plt.figure('img_centered')\n",
    "plt.imshow(img_centered)\n",
    "\n",
    "img_centered_binarised = deepcopy(img_centered)\n",
    "img_centered_binarised[img_centered_binarised<threshold_binarisation] = 0\n",
    "plt.figure('img1_center_binarised')\n",
    "plt.imshow(img_centered_binarised)\n",
    "print(type(img_centered_binarised))"
   ]
  },
  {
   "cell_type": "code",
   "execution_count": 83,
   "metadata": {},
   "outputs": [],
   "source": [
    "def image_rect(img):\n",
    "    img_rect = deepcopy(img)\n",
    "    x, y, w, h = cv2.boundingRect(img_rect[:,:,0])\n",
    "    # print(x, y, w, h)\n",
    "    x_min = x-1\n",
    "    y_min = y-1\n",
    "    x_max = x+w\n",
    "    y_max = y+h\n",
    "    cv2.rectangle(img_rect, (x_min, y_min), (x_max, y_max), (0, 255, 0), 0)   # img wird überschrieben\n",
    "    img_without_boundary = img_rect[y:y_max, x:x_max, :]\n",
    "    return img_without_boundary"
   ]
  },
  {
   "cell_type": "code",
   "execution_count": 74,
   "metadata": {},
   "outputs": [
    {
     "data": {
      "text/plain": [
       "<matplotlib.image.AxesImage at 0x12653588>"
      ]
     },
     "execution_count": 74,
     "metadata": {},
     "output_type": "execute_result"
    }
   ],
   "source": [
    "# img.astype(np.float32)\n",
    "# img.astype(np.uint8)\n",
    "# get the bounding rect\n",
    "img_rect = deepcopy(img)\n",
    "x, y, w, h = cv2.boundingRect(img_rect[:,:,0])\n",
    "# print(x, y, w, h)\n",
    "x_min = x-1\n",
    "y_min = y-1\n",
    "x_max = x+w\n",
    "y_max = y+h\n",
    "cv2.rectangle(img_rect, (x_min, y_min), (x_max, y_max), (0, 255, 0), 0)   # img wird überschrieben\n",
    "plt.figure('img_rect')\n",
    "plt.imshow(img_rect/255)"
   ]
  },
  {
   "cell_type": "code",
   "execution_count": 70,
   "metadata": {},
   "outputs": [
    {
     "data": {
      "text/plain": [
       "<matplotlib.image.AxesImage at 0xc30bfd0>"
      ]
     },
     "execution_count": 70,
     "metadata": {},
     "output_type": "execute_result"
    }
   ],
   "source": [
    "img_without_boundary = img_rect[y:y_max, x:x_max,:]\n",
    "plt.figure('img_without_boundary')\n",
    "plt.imshow(img_without_boundary/255)"
   ]
  },
  {
   "cell_type": "code",
   "execution_count": 71,
   "metadata": {
    "scrolled": true
   },
   "outputs": [],
   "source": [
    "# print(img_without_boundary)\n",
    "y_img_without_boundary, x_img_without_boundary, z_img_without_boundary = np.shape(img_without_boundary)\n",
    "# print(y_img_without_boundary, x_img_without_boundary, z_img_without_boundary)"
   ]
  },
  {
   "cell_type": "code",
   "execution_count": 72,
   "metadata": {
    "scrolled": true
   },
   "outputs": [],
   "source": [
    "tmp_x_min = int(-1*x_img_without_boundary/2)\n",
    "tmp_x_max = int(np.ceil(x_img_without_boundary/2))\n",
    "tmp_y_min = int(-1*y_img_without_boundary/2)\n",
    "tmp_y_max = int(np.ceil(y_img_without_boundary/2))\n",
    "# print(tmp_x_min)\n",
    "# print(tmp_x_max)\n",
    "# print(tmp_y_min)\n",
    "# print(tmp_y_max)\n",
    "x_mesh = np.arange(tmp_x_min, tmp_x_max, 1)\n",
    "y_mesh = np.arange(tmp_y_min, tmp_y_max, 1)\n",
    "# print(x_mesh)\n",
    "# print(y_mesh)\n",
    "xx, yy = np.meshgrid(x_mesh, np.flip(y_mesh,0), sparse=True)\n",
    "yy = yy*1j\n",
    "z = (yy+xx)\n",
    "# print(z)\n",
    "q = np.pi/180\n",
    "c_meshgrid = 0.5*z.imag*1j + 2*z.real  # (z*np.cos(q)-np.sin(q)) / (z*np.sin(q)+np.cos(q*5))\n",
    "# print(c_meshgrid)\n",
    "y_meshgrid, x_meshgrid = c_meshgrid.shape\n",
    "# print(y_meshgrid, x_meshgrid)\n",
    "# c_meshgrid_reshape = c_meshgrid.reshape((y_meshgrid,x_meshgrid,1))"
   ]
  },
  {
   "cell_type": "code",
   "execution_count": 73,
   "metadata": {},
   "outputs": [],
   "source": [
    "c_meshgrid_mask = deepcopy(c_meshgrid)\n",
    "max_real_meshgrid_mask = int(np.max(c_meshgrid_mask.real))\n",
    "max_imag_meshgrid_mask = int(np.max(c_meshgrid_mask.imag))\n",
    "min_real_meshgrid_mask = int(np.min(c_meshgrid_mask.real))\n",
    "min_imag_meshgrid_mask = int(np.min(c_meshgrid_mask.imag))\n",
    "# print(max_real_meshgrid_mask)\n",
    "# print(max_imag_meshgrid_mask)\n",
    "# print(min_real_meshgrid_mask)\n",
    "# print(min_imag_meshgrid_mask)\n",
    "# print(c_meshgrid_mask.shape)"
   ]
  },
  {
   "cell_type": "code",
   "execution_count": 11,
   "metadata": {},
   "outputs": [],
   "source": [
    "z_transform = np.array(np.zeros((max_imag_meshgrid_mask+1-min_imag_meshgrid_mask, max_real_meshgrid_mask-min_real_meshgrid_mask+1, 3)))\n",
    "y_z_transform, x_z_transform, z_z_transform = z_transform.shape\n",
    "# print(z_transform)\n",
    "# print(y_z_transform, x_z_transform, z_z_transform)"
   ]
  },
  {
   "cell_type": "code",
   "execution_count": 12,
   "metadata": {},
   "outputs": [],
   "source": [
    "for i in range(y_meshgrid):\n",
    "    for j in range(x_meshgrid):\n",
    "        for k in range(3):\n",
    "            z_transform[int(max_imag_meshgrid_mask-c_meshgrid_mask[i,j].imag), int(c_meshgrid_mask[i,j].real-min_real_meshgrid_mask),:] = img_without_boundary[i,j,k]\n",
    "        \n",
    "#   Für Y-Achse => max-y\n",
    "#   Für X-Achse => x-min"
   ]
  },
  {
   "cell_type": "code",
   "execution_count": 13,
   "metadata": {},
   "outputs": [
    {
     "name": "stdout",
     "output_type": "stream",
     "text": [
      "(15, 55, 3)\n",
      "(31, 28, 3)\n"
     ]
    }
   ],
   "source": [
    "print(z_transform.shape)\n",
    "print(img_without_boundary.shape)"
   ]
  },
  {
   "cell_type": "code",
   "execution_count": 14,
   "metadata": {},
   "outputs": [
    {
     "data": {
      "text/plain": [
       "<matplotlib.image.AxesImage at 0x12aa7400>"
      ]
     },
     "execution_count": 14,
     "metadata": {},
     "output_type": "execute_result"
    }
   ],
   "source": [
    "plt.figure('transformation')\n",
    "plt.imshow(z_transform/255)"
   ]
  },
  {
   "cell_type": "markdown",
   "metadata": {},
   "source": [
    "# Without complex numbers <br>"
   ]
  },
  {
   "cell_type": "code",
   "execution_count": null,
   "metadata": {},
   "outputs": [],
   "source": [
    "plt.figure('img_without_boundary')\n",
    "plt.imshow(img_without_boundary/255)\n",
    "y_img, x_img, z_img = img_without_boundary.shape\n",
    "print(y_img, x_img, z_img)"
   ]
  },
  {
   "cell_type": "code",
   "execution_count": null,
   "metadata": {},
   "outputs": [],
   "source": [
    "# setting the x - coordinates \n",
    "x_plot = np.arange(-1*x_img/2, x_img/2 , 0.1) \n",
    "# print(x_plot)\n",
    "# setting the corresponding y - coordinates \n",
    "# potting the points \n",
    "f_plot = x_plot\n",
    "plt.figure('plot')\n",
    "plt.plot(x_plot, f_plot)\n",
    "plt.grid(True)\n",
    "# function to show the plot \n",
    "plt.show() "
   ]
  },
  {
   "cell_type": "code",
   "execution_count": null,
   "metadata": {},
   "outputs": [],
   "source": [
    "import scipy.integrate as integrate\n",
    "x = sp.Symbol('x')  \n",
    "f = x**2\n",
    "# shift half pixel to the right \n",
    "f_derviate = sp.diff(f) \n",
    "print(type(f_derviate)) \n",
    "# func = sp.Symbol(str(f_derviate))\n",
    "func = f_derviate\n",
    "print(func)\n",
    "print(type(func))\n",
    "\n",
    "u = np.zeros((10, 3), dtype=sp.Symbol)\n",
    "\n",
    "def get_function(x):\n",
    "    return x\n",
    "\n",
    "tmp = integrate.quad(lambda x: sp.Symbol('f_derviate'),0,1)\n",
    "print(type(tmp))"
   ]
  },
  {
   "cell_type": "code",
   "execution_count": null,
   "metadata": {},
   "outputs": [],
   "source": [
    "# https://www.youtube.com/watch?v=QAqadzwo19Q\n",
    "# a = quad(lambda x: sqrt(x**2+1),0,5)\n",
    "# print(type(x))\n",
    "# print(a)\n",
    "# print(type(float(a[0])))"
   ]
  },
  {
   "cell_type": "code",
   "execution_count": null,
   "metadata": {},
   "outputs": [],
   "source": [
    "index = np.array(np.zeros((1,40)))\n",
    "for i in range(0,math.ceil(x_img/2)):\n",
    "    function = lambda x: d\n",
    "    tmp = quad(get_function(x),0,2)\n",
    "    \n",
    "    \n",
    "#     index[0,i] = round(float(tmp[0]))\n",
    "#     print(index[0,i])\n",
    "#     if index[0,i] >= math.ceil(x_img/2):\n",
    "#         break\n",
    "\n",
    "#     print(index[0,i])\n",
    "#     print(type(index[0,0]))\n",
    "\n",
    "print(tmp[0])"
   ]
  },
  {
   "cell_type": "code",
   "execution_count": null,
   "metadata": {},
   "outputs": [],
   "source": [
    "max_value = i-1 \n",
    "print(max_value)\n",
    "print(x_img/2)"
   ]
  },
  {
   "cell_type": "code",
   "execution_count": null,
   "metadata": {},
   "outputs": [],
   "source": [
    "empty_field = np.array(np.zeros((y_img, x_img, z_img)))\n",
    "print(empty_field.shape)\n",
    "for i in range(0,y_img):\n",
    "    for j in range(0,2*max_value):\n",
    "        for z in range(0,z_img):\n",
    "            l = math.floor(j-max_value)\n",
    "#             print(l)\n",
    "            tmp = quad(lambda x: sqrt(x**2+1),0,l)\n",
    "            tmp = round(tmp[0])\n",
    "            print(tmp)\n",
    "#             print(j)\n",
    "            if img_without_boundary[i,j,z] > 0:\n",
    "                    empty_field[i,tmp+max_value,z] = img_without_boundary[i,j,z]\n",
    "plt.figure('after_transforamtion')\n",
    "plt.imshow(empty_field/255)"
   ]
  },
  {
   "cell_type": "code",
   "execution_count": null,
   "metadata": {},
   "outputs": [],
   "source": [
    "b = np.array([0, 1, 2, 3, 4, 5, 6, 7, 8, 9])\n",
    "b[1:7:2]\n",
    "np.array([1, 3, 5])\n",
    "b[-2:10]\n",
    "np.array([8, 9])\n",
    "b[-3:3:-1]\n",
    "np.array([7, 6, 5, 4])"
   ]
  },
  {
   "cell_type": "code",
   "execution_count": null,
   "metadata": {},
   "outputs": [],
   "source": [
    "print(img_without_boundary[:,i,:])"
   ]
  },
  {
   "cell_type": "code",
   "execution_count": null,
   "metadata": {},
   "outputs": [],
   "source": [
    "# https://www.math.ubc.ca/~pwalls/math-python/differentiation/#arc-length\n",
    "def arc_length(f,a,b,h=0.001,N=1000):\n",
    "    '''Approximate the ac length of y=f(x) from x=a to x=b.\n",
    "\n",
    "    Parameters\n",
    "    ----------\n",
    "    f : (vectorized) function of one variable\n",
    "    a,b : numbers defining the interval [a,b]\n",
    "    h : step size to use in difference formulas\n",
    "    N : number of subintervals in trapezoid method\n",
    "\n",
    "    Returns\n",
    "    -------\n",
    "    Approximation of the integral \\int_a^b \\sqrt{1 + (f'(x))^2} dx\n",
    "    representing the arc length of y=f(x) from x=a to x=b.\n",
    "    '''\n",
    "    x = np.linspace(a,b,N+1)\n",
    "    y = f(x)\n",
    "\n",
    "    # Compute central difference formula for x_k for 1 <= k <= N-1\n",
    "    h = np.min([h,(b-a)/N]) # Make sure that h is smaller than the size of the subintervals\n",
    "    x_interior = x[1:-1]\n",
    "    df_interior = (f(x_interior + h) - f(x_interior - h))/(2*h)\n",
    "\n",
    "    # Use forward/backward difference formula at the endpoints\n",
    "    df_a = (f(a + h) - f(a))/h\n",
    "    df_b = (f(b) - f(b - h))/h\n",
    "    df = np.hstack([[df_a],df_interior,[df_b]])\n",
    "\n",
    "    # Compute values of the integrand in arc length formula\n",
    "    y = np.sqrt(1 + df**2)\n",
    "\n",
    "    # Compute the integral\n",
    "    L = spi.trapz(y,x)\n",
    "\n",
    "    return L"
   ]
  },
  {
   "cell_type": "code",
   "execution_count": null,
   "metadata": {},
   "outputs": [],
   "source": [
    "a = 1\n",
    "result = arc_length(lambda x: a*x**2,0,1,h=10**(-10),N=10**5)\n",
    "print(result)"
   ]
  },
  {
   "cell_type": "code",
   "execution_count": null,
   "metadata": {},
   "outputs": [],
   "source": [
    "def function(x)\n",
    "    return x**2"
   ]
  },
  {
   "cell_type": "code",
   "execution_count": null,
   "metadata": {},
   "outputs": [],
   "source": [
    "import numpy as np\n",
    "import matplotlib.pyplot as plt\n",
    "import matplotlib.animation as animation\n",
    "\n",
    "# Fixing random state for reproducibility\n",
    "np.random.seed(123456789)\n",
    "y_max = 50\n",
    "\n",
    "fig, ax = plt.subplots()\n",
    "line, = ax.plot(np.random.rand(y_max))\n",
    "ax.set_ylim(0, 1)\n",
    "\n",
    "\n",
    "def update(data):\n",
    "    line.set_ydata(data)\n",
    "    return line,\n",
    "\n",
    "\n",
    "def data_gen():\n",
    "    while True:\n",
    "        yield np.random.rand(y_max)\n",
    "\n",
    "ani = animation.FuncAnimation(fig, update, data_gen, interval=100)\n",
    "plt.show()"
   ]
  },
  {
   "cell_type": "markdown",
   "metadata": {},
   "source": [
    "# Transformation from internet modified <br>"
   ]
  },
  {
   "cell_type": "code",
   "execution_count": 22,
   "metadata": {},
   "outputs": [
    {
     "name": "stdout",
     "output_type": "stream",
     "text": [
      "C:/Users/User/Desktop/test/generateImages/\n",
      "1\n",
      "['image.png']\n",
      "C:/Users/User/Desktop/test/generateImages/output/\n",
      "1\n",
      "[]\n"
     ]
    }
   ],
   "source": [
    "path_folder = 'C:/Users/User/Desktop/test/generateImages/' # Bilder Pfad\n",
    "path_folder, dirs, files = next(os.walk(path_folder))\n",
    "number_images = len(files)\n",
    "# save_folder = 'C:/Users/User/Desktop/test/Augmentor/GenerateImages/'\n",
    "print(path_folder)\n",
    "print(number_images)\n",
    "print(files)\n",
    "\n",
    "path_output = path_folder + 'output/' # Bilder Pfad\n",
    "path_output, dirs, output_files = next(os.walk(path_output))\n",
    "output_number_images = len(files)\n",
    "print(path_output)\n",
    "print(output_number_images)\n",
    "print(output_files)"
   ]
  },
  {
   "cell_type": "code",
   "execution_count": 43,
   "metadata": {},
   "outputs": [
    {
     "name": "stdout",
     "output_type": "stream",
     "text": [
      "Initialised with 1 image(s) found.\n",
      "Output directory set to C:/Users/User/Desktop/test/generateImages/output."
     ]
    },
    {
     "name": "stderr",
     "output_type": "stream",
     "text": [
      "Processing <PIL.Image.Image image mode=RGBA size=280x280 at 0x12ABAA20>: 100%|█| 1/1 [00:00<00:00,  5.15 Samples/s]\n"
     ]
    },
    {
     "name": "stdout",
     "output_type": "stream",
     "text": [
      "Initialised with 1 image(s) found.\n",
      "Output directory set to C:/Users/User/Desktop/test/generateImages/output."
     ]
    },
    {
     "name": "stderr",
     "output_type": "stream",
     "text": [
      "Processing <PIL.Image.Image image mode=RGBA size=240x240 at 0x12ADAA20>: 100%|█| 1/1 [00:00<00:00,  4.63 Samples/s]\n"
     ]
    },
    {
     "name": "stdout",
     "output_type": "stream",
     "text": [
      "Initialised with 1 image(s) found.\n",
      "Output directory set to C:/Users/User/Desktop/test/generateImages/output."
     ]
    },
    {
     "name": "stderr",
     "output_type": "stream",
     "text": [
      "Processing <PIL.Image.Image image mode=RGBA size=360x360 at 0x12ADAC50>: 100%|█| 1/1 [00:00<00:00,  8.20 Samples/s]\n"
     ]
    },
    {
     "name": "stdout",
     "output_type": "stream",
     "text": [
      "Initialised with 1 image(s) found.\n",
      "Output directory set to C:/Users/User/Desktop/test/generateImages/output."
     ]
    },
    {
     "name": "stderr",
     "output_type": "stream",
     "text": [
      "Processing <PIL.Image.Image image mode=RGBA size=919x919 at 0x12ADAB70>: 100%|█| 1/1 [00:00<00:00,  5.62 Samples/s]\n"
     ]
    },
    {
     "name": "stdout",
     "output_type": "stream",
     "text": [
      "Initialised with 1 image(s) found.\n",
      "Output directory set to C:/Users/User/Desktop/test/generateImages/output."
     ]
    },
    {
     "name": "stderr",
     "output_type": "stream",
     "text": [
      "Processing <PIL.Image.Image image mode=RGBA size=700x700 at 0x12ADA9E8>: 100%|█| 1/1 [00:00<00:00,  7.52 Samples/s]\n"
     ]
    },
    {
     "name": "stdout",
     "output_type": "stream",
     "text": [
      "Initialised with 1 image(s) found.\n",
      "Output directory set to C:/Users/User/Desktop/test/generateImages/output."
     ]
    },
    {
     "name": "stderr",
     "output_type": "stream",
     "text": [
      "Processing <PIL.Image.Image image mode=RGBA size=380x380 at 0x12ADA7F0>: 100%|█| 1/1 [00:00<00:00,  5.49 Samples/s]\n"
     ]
    },
    {
     "name": "stdout",
     "output_type": "stream",
     "text": [
      "Initialised with 1 image(s) found.\n",
      "Output directory set to C:/Users/User/Desktop/test/generateImages/output."
     ]
    },
    {
     "name": "stderr",
     "output_type": "stream",
     "text": [
      "Processing <PIL.Image.Image image mode=RGBA size=320x320 at 0x12ADA860>: 100%|█| 1/1 [00:00<00:00,  3.85 Samples/s]\n"
     ]
    },
    {
     "name": "stdout",
     "output_type": "stream",
     "text": [
      "Initialised with 1 image(s) found.\n",
      "Output directory set to C:/Users/User/Desktop/test/generateImages/output."
     ]
    },
    {
     "name": "stderr",
     "output_type": "stream",
     "text": [
      "Processing <PIL.Image.Image image mode=RGBA size=940x940 at 0x12ADAA20>: 100%|█| 1/1 [00:00<00:00,  6.76 Samples/s]\n"
     ]
    },
    {
     "name": "stdout",
     "output_type": "stream",
     "text": [
      "Initialised with 1 image(s) found.\n",
      "Output directory set to C:/Users/User/Desktop/test/generateImages/output."
     ]
    },
    {
     "name": "stderr",
     "output_type": "stream",
     "text": [
      "Processing <PIL.Image.Image image mode=RGBA size=280x280 at 0x12ADAB70>: 100%|█| 1/1 [00:00<00:00,  5.68 Samples/s]\n"
     ]
    },
    {
     "name": "stdout",
     "output_type": "stream",
     "text": [
      "Initialised with 1 image(s) found.\n",
      "Output directory set to C:/Users/User/Desktop/test/generateImages/output."
     ]
    },
    {
     "name": "stderr",
     "output_type": "stream",
     "text": [
      "Processing <PIL.Image.Image image mode=RGBA size=620x620 at 0x12ADAC88>: 100%|█| 1/1 [00:00<00:00,  5.18 Samples/s]\n"
     ]
    },
    {
     "name": "stdout",
     "output_type": "stream",
     "text": [
      "Initialised with 1 image(s) found.\n",
      "Output directory set to C:/Users/User/Desktop/test/generateImages/output."
     ]
    },
    {
     "name": "stderr",
     "output_type": "stream",
     "text": [
      "Processing <PIL.Image.Image image mode=RGBA size=260x260 at 0x12ADA9E8>: 100%|█| 1/1 [00:00<00:00,  8.13 Samples/s]\n"
     ]
    },
    {
     "name": "stdout",
     "output_type": "stream",
     "text": [
      "Initialised with 1 image(s) found.\n",
      "Output directory set to C:/Users/User/Desktop/test/generateImages/output."
     ]
    },
    {
     "name": "stderr",
     "output_type": "stream",
     "text": [
      "Processing <PIL.Image.Image image mode=RGBA size=560x560 at 0x12ADAB70>: 100%|█| 1/1 [00:00<00:00,  7.81 Samples/s]\n"
     ]
    },
    {
     "name": "stdout",
     "output_type": "stream",
     "text": [
      "Initialised with 1 image(s) found.\n",
      "Output directory set to C:/Users/User/Desktop/test/generateImages/output."
     ]
    },
    {
     "name": "stderr",
     "output_type": "stream",
     "text": [
      "Processing <PIL.Image.Image image mode=RGBA size=980x980 at 0x12ADA9B0>: 100%|█| 1/1 [00:00<00:00,  5.18 Samples/s]\n"
     ]
    },
    {
     "name": "stdout",
     "output_type": "stream",
     "text": [
      "Initialised with 1 image(s) found.\n",
      "Output directory set to C:/Users/User/Desktop/test/generateImages/output."
     ]
    },
    {
     "name": "stderr",
     "output_type": "stream",
     "text": [
      "Processing <PIL.Image.Image image mode=RGBA size=980x980 at 0x12ADA6D8>: 100%|█| 1/1 [00:00<00:00,  4.06 Samples/s]\n"
     ]
    },
    {
     "name": "stdout",
     "output_type": "stream",
     "text": [
      "Initialised with 1 image(s) found.\n",
      "Output directory set to C:/Users/User/Desktop/test/generateImages/output."
     ]
    },
    {
     "name": "stderr",
     "output_type": "stream",
     "text": [
      "Processing <PIL.Image.Image image mode=RGBA size=340x340 at 0x12ADAD68>: 100%|█| 1/1 [00:00<00:00,  7.69 Samples/s]\n"
     ]
    },
    {
     "name": "stdout",
     "output_type": "stream",
     "text": [
      "Initialised with 1 image(s) found.\n",
      "Output directory set to C:/Users/User/Desktop/test/generateImages/output."
     ]
    },
    {
     "name": "stderr",
     "output_type": "stream",
     "text": [
      "Processing <PIL.Image.Image image mode=RGBA size=220x220 at 0x12ADA198>: 100%|█| 1/1 [00:00<00:00,  5.49 Samples/s]\n"
     ]
    },
    {
     "name": "stdout",
     "output_type": "stream",
     "text": [
      "Initialised with 1 image(s) found.\n",
      "Output directory set to C:/Users/User/Desktop/test/generateImages/output."
     ]
    },
    {
     "name": "stderr",
     "output_type": "stream",
     "text": [
      "Processing <PIL.Image.Image image mode=RGBA size=260x260 at 0x12ADA780>: 100%|█| 1/1 [00:00<00:00,  7.58 Samples/s]\n"
     ]
    },
    {
     "name": "stdout",
     "output_type": "stream",
     "text": [
      "Initialised with 1 image(s) found.\n",
      "Output directory set to C:/Users/User/Desktop/test/generateImages/output."
     ]
    },
    {
     "name": "stderr",
     "output_type": "stream",
     "text": [
      "Processing <PIL.Image.Image image mode=RGBA size=340x340 at 0x12ADA550>: 100%|█| 1/1 [00:00<00:00, 14.49 Samples/s]\n"
     ]
    },
    {
     "name": "stdout",
     "output_type": "stream",
     "text": [
      "Initialised with 1 image(s) found.\n",
      "Output directory set to C:/Users/User/Desktop/test/generateImages/output."
     ]
    },
    {
     "name": "stderr",
     "output_type": "stream",
     "text": [
      "Processing <PIL.Image.Image image mode=RGBA size=840x840 at 0x12ADA9E8>: 100%|█| 1/1 [00:00<00:00,  4.93 Samples/s]\n"
     ]
    },
    {
     "name": "stdout",
     "output_type": "stream",
     "text": [
      "Initialised with 1 image(s) found.\n",
      "Output directory set to C:/Users/User/Desktop/test/generateImages/output."
     ]
    },
    {
     "name": "stderr",
     "output_type": "stream",
     "text": [
      "Processing <PIL.Image.Image image mode=RGBA size=380x380 at 0x12ADA9B0>: 100%|█| 1/1 [00:00<00:00,  8.26 Samples/s]\n"
     ]
    },
    {
     "name": "stdout",
     "output_type": "stream",
     "text": [
      "Initialised with 1 image(s) found.\n",
      "Output directory set to C:/Users/User/Desktop/test/generateImages/output."
     ]
    },
    {
     "name": "stderr",
     "output_type": "stream",
     "text": [
      "Processing <PIL.Image.Image image mode=RGBA size=600x600 at 0x12ADAD68>: 100%|█| 1/1 [00:00<00:00,  5.15 Samples/s]\n"
     ]
    },
    {
     "name": "stdout",
     "output_type": "stream",
     "text": [
      "Initialised with 1 image(s) found.\n",
      "Output directory set to C:/Users/User/Desktop/test/generateImages/output."
     ]
    },
    {
     "name": "stderr",
     "output_type": "stream",
     "text": [
      "Processing <PIL.Image.Image image mode=RGBA size=560x560 at 0x12ADAA90>: 100%|█| 1/1 [00:00<00:00,  5.10 Samples/s]\n"
     ]
    },
    {
     "name": "stdout",
     "output_type": "stream",
     "text": [
      "Initialised with 1 image(s) found.\n",
      "Output directory set to C:/Users/User/Desktop/test/generateImages/output."
     ]
    },
    {
     "name": "stderr",
     "output_type": "stream",
     "text": [
      "Processing <PIL.Image.Image image mode=RGBA size=919x919 at 0x12ADACF8>: 100%|█| 1/1 [00:00<00:00,  7.69 Samples/s]\n"
     ]
    },
    {
     "name": "stdout",
     "output_type": "stream",
     "text": [
      "Initialised with 1 image(s) found.\n",
      "Output directory set to C:/Users/User/Desktop/test/generateImages/output."
     ]
    },
    {
     "name": "stderr",
     "output_type": "stream",
     "text": [
      "Processing <PIL.Image.Image image mode=RGBA size=220x220 at 0x12ADA550>: 100%|█| 1/1 [00:00<00:00,  5.85 Samples/s]\n"
     ]
    },
    {
     "name": "stdout",
     "output_type": "stream",
     "text": [
      "Initialised with 1 image(s) found.\n",
      "Output directory set to C:/Users/User/Desktop/test/generateImages/output."
     ]
    },
    {
     "name": "stderr",
     "output_type": "stream",
     "text": [
      "Processing <PIL.Image.Image image mode=RGBA size=660x660 at 0x12ADA630>: 100%|█| 1/1 [00:00<00:00,  5.29 Samples/s]\n"
     ]
    },
    {
     "name": "stdout",
     "output_type": "stream",
     "text": [
      "Initialised with 1 image(s) found.\n",
      "Output directory set to C:/Users/User/Desktop/test/generateImages/output."
     ]
    },
    {
     "name": "stderr",
     "output_type": "stream",
     "text": [
      "Processing <PIL.Image.Image image mode=RGBA size=980x980 at 0x12ADAAC8>: 100%|█| 1/1 [00:00<00:00,  5.43 Samples/s]\n"
     ]
    },
    {
     "name": "stdout",
     "output_type": "stream",
     "text": [
      "Initialised with 1 image(s) found.\n",
      "Output directory set to C:/Users/User/Desktop/test/generateImages/output."
     ]
    },
    {
     "name": "stderr",
     "output_type": "stream",
     "text": [
      "Processing <PIL.Image.Image image mode=RGBA size=860x860 at 0x12ADA9B0>: 100%|█| 1/1 [00:00<00:00,  7.94 Samples/s]\n"
     ]
    },
    {
     "name": "stdout",
     "output_type": "stream",
     "text": [
      "Initialised with 1 image(s) found.\n",
      "Output directory set to C:/Users/User/Desktop/test/generateImages/output."
     ]
    },
    {
     "name": "stderr",
     "output_type": "stream",
     "text": [
      "Processing <PIL.Image.Image image mode=RGBA size=540x540 at 0x12ADA198>: 100%|█| 1/1 [00:00<00:00,  8.13 Samples/s]\n"
     ]
    },
    {
     "name": "stdout",
     "output_type": "stream",
     "text": [
      "Initialised with 1 image(s) found.\n",
      "Output directory set to C:/Users/User/Desktop/test/generateImages/output."
     ]
    },
    {
     "name": "stderr",
     "output_type": "stream",
     "text": [
      "Processing <PIL.Image.Image image mode=RGBA size=280x280 at 0x12ADA6D8>: 100%|█| 1/1 [00:00<00:00,  8.85 Samples/s]\n"
     ]
    },
    {
     "name": "stdout",
     "output_type": "stream",
     "text": [
      "Initialised with 1 image(s) found.\n",
      "Output directory set to C:/Users/User/Desktop/test/generateImages/output."
     ]
    },
    {
     "name": "stderr",
     "output_type": "stream",
     "text": [
      "Processing <PIL.Image.Image image mode=RGBA size=740x740 at 0x12ADA5F8>: 100%|█| 1/1 [00:00<00:00,  3.97 Samples/s]\n"
     ]
    },
    {
     "name": "stdout",
     "output_type": "stream",
     "text": [
      "Initialised with 1 image(s) found.\n",
      "Output directory set to C:/Users/User/Desktop/test/generateImages/output."
     ]
    },
    {
     "name": "stderr",
     "output_type": "stream",
     "text": [
      "Processing <PIL.Image.Image image mode=RGBA size=200x200 at 0x12ADA630>: 100%|█| 1/1 [00:00<00:00,  7.41 Samples/s]\n"
     ]
    },
    {
     "name": "stdout",
     "output_type": "stream",
     "text": [
      "Initialised with 1 image(s) found.\n",
      "Output directory set to C:/Users/User/Desktop/test/generateImages/output."
     ]
    },
    {
     "name": "stderr",
     "output_type": "stream",
     "text": [
      "Processing <PIL.Image.Image image mode=RGBA size=900x900 at 0x12ADAA20>: 100%|█| 1/1 [00:00<00:00,  4.83 Samples/s]\n"
     ]
    },
    {
     "name": "stdout",
     "output_type": "stream",
     "text": [
      "Initialised with 1 image(s) found.\n",
      "Output directory set to C:/Users/User/Desktop/test/generateImages/output."
     ]
    },
    {
     "name": "stderr",
     "output_type": "stream",
     "text": [
      "Processing <PIL.Image.Image image mode=RGBA size=580x580 at 0x12ADA9E8>: 100%|█| 1/1 [00:00<00:00,  7.19 Samples/s]\n"
     ]
    },
    {
     "name": "stdout",
     "output_type": "stream",
     "text": [
      "Initialised with 1 image(s) found.\n",
      "Output directory set to C:/Users/User/Desktop/test/generateImages/output."
     ]
    },
    {
     "name": "stderr",
     "output_type": "stream",
     "text": [
      "Processing <PIL.Image.Image image mode=RGBA size=940x940 at 0x12ADA6D8>: 100%|█| 1/1 [00:00<00:00,  5.29 Samples/s]\n"
     ]
    },
    {
     "name": "stdout",
     "output_type": "stream",
     "text": [
      "Initialised with 1 image(s) found.\n",
      "Output directory set to C:/Users/User/Desktop/test/generateImages/output."
     ]
    },
    {
     "name": "stderr",
     "output_type": "stream",
     "text": [
      "Processing <PIL.Image.Image image mode=RGBA size=720x720 at 0x12ADAC88>: 100%|█| 1/1 [00:00<00:00,  4.11 Samples/s]\n"
     ]
    },
    {
     "name": "stdout",
     "output_type": "stream",
     "text": [
      "Initialised with 1 image(s) found.\n",
      "Output directory set to C:/Users/User/Desktop/test/generateImages/output."
     ]
    },
    {
     "name": "stderr",
     "output_type": "stream",
     "text": [
      "Processing <PIL.Image.Image image mode=RGBA size=340x340 at 0x12ADAEF0>: 100%|█| 1/1 [00:00<00:00,  6.02 Samples/s]\n"
     ]
    },
    {
     "name": "stdout",
     "output_type": "stream",
     "text": [
      "Initialised with 1 image(s) found.\n",
      "Output directory set to C:/Users/User/Desktop/test/generateImages/output."
     ]
    },
    {
     "name": "stderr",
     "output_type": "stream",
     "text": [
      "Processing <PIL.Image.Image image mode=RGBA size=260x260 at 0x12ADAAC8>: 100%|█| 1/1 [00:00<00:00,  6.21 Samples/s]\n"
     ]
    },
    {
     "name": "stdout",
     "output_type": "stream",
     "text": [
      "Initialised with 1 image(s) found.\n",
      "Output directory set to C:/Users/User/Desktop/test/generateImages/output."
     ]
    },
    {
     "name": "stderr",
     "output_type": "stream",
     "text": [
      "Processing <PIL.Image.Image image mode=RGBA size=300x300 at 0x12ADA780>: 100%|█| 1/1 [00:00<00:00,  7.63 Samples/s]\n"
     ]
    },
    {
     "name": "stdout",
     "output_type": "stream",
     "text": [
      "Initialised with 1 image(s) found.\n",
      "Output directory set to C:/Users/User/Desktop/test/generateImages/output."
     ]
    },
    {
     "name": "stderr",
     "output_type": "stream",
     "text": [
      "Processing <PIL.Image.Image image mode=RGBA size=860x860 at 0x12ADAEF0>: 100%|█| 1/1 [00:00<00:00,  4.00 Samples/s]\n"
     ]
    },
    {
     "name": "stdout",
     "output_type": "stream",
     "text": [
      "Initialised with 1 image(s) found.\n",
      "Output directory set to C:/Users/User/Desktop/test/generateImages/output."
     ]
    },
    {
     "name": "stderr",
     "output_type": "stream",
     "text": [
      "Processing <PIL.Image.Image image mode=RGBA size=400x400 at 0x12ADA198>: 100%|█| 1/1 [00:00<00:00,  8.77 Samples/s]\n"
     ]
    },
    {
     "name": "stdout",
     "output_type": "stream",
     "text": [
      "Initialised with 1 image(s) found.\n",
      "Output directory set to C:/Users/User/Desktop/test/generateImages/output."
     ]
    },
    {
     "name": "stderr",
     "output_type": "stream",
     "text": [
      "Processing <PIL.Image.Image image mode=RGBA size=480x480 at 0x12ADAC88>: 100%|█| 1/1 [00:00<00:00,  7.19 Samples/s]\n"
     ]
    },
    {
     "name": "stdout",
     "output_type": "stream",
     "text": [
      "Initialised with 1 image(s) found.\n",
      "Output directory set to C:/Users/User/Desktop/test/generateImages/output."
     ]
    },
    {
     "name": "stderr",
     "output_type": "stream",
     "text": [
      "Processing <PIL.Image.Image image mode=RGBA size=520x520 at 0x12ADAA20>: 100%|█| 1/1 [00:00<00:00,  5.52 Samples/s]\n"
     ]
    },
    {
     "name": "stdout",
     "output_type": "stream",
     "text": [
      "Initialised with 1 image(s) found.\n",
      "Output directory set to C:/Users/User/Desktop/test/generateImages/output."
     ]
    },
    {
     "name": "stderr",
     "output_type": "stream",
     "text": [
      "Processing <PIL.Image.Image image mode=RGBA size=819x819 at 0x12ADA9B0>: 100%|█| 1/1 [00:00<00:00,  3.69 Samples/s]\n"
     ]
    },
    {
     "name": "stdout",
     "output_type": "stream",
     "text": [
      "Initialised with 1 image(s) found.\n",
      "Output directory set to C:/Users/User/Desktop/test/generateImages/output."
     ]
    },
    {
     "name": "stderr",
     "output_type": "stream",
     "text": [
      "Processing <PIL.Image.Image image mode=RGBA size=320x320 at 0x12ADA898>: 100%|█| 1/1 [00:00<00:00,  8.55 Samples/s]\n"
     ]
    },
    {
     "name": "stdout",
     "output_type": "stream",
     "text": [
      "Initialised with 1 image(s) found.\n",
      "Output directory set to C:/Users/User/Desktop/test/generateImages/output."
     ]
    },
    {
     "name": "stderr",
     "output_type": "stream",
     "text": [
      "Processing <PIL.Image.Image image mode=RGBA size=1000x1000 at 0x12ADA6D8>: 100%|█| 1/1 [00:00<00:00,  7.35 Samples/s]\n"
     ]
    },
    {
     "name": "stdout",
     "output_type": "stream",
     "text": [
      "Initialised with 1 image(s) found.\n",
      "Output directory set to C:/Users/User/Desktop/test/generateImages/output."
     ]
    },
    {
     "name": "stderr",
     "output_type": "stream",
     "text": [
      "Processing <PIL.Image.Image image mode=RGBA size=480x480 at 0x12ADAAC8>: 100%|█| 1/1 [00:00<00:00,  5.24 Samples/s]\n"
     ]
    },
    {
     "name": "stdout",
     "output_type": "stream",
     "text": [
      "Initialised with 1 image(s) found.\n",
      "Output directory set to C:/Users/User/Desktop/test/generateImages/output."
     ]
    },
    {
     "name": "stderr",
     "output_type": "stream",
     "text": [
      "Processing <PIL.Image.Image image mode=RGBA size=940x940 at 0x12ADAC88>: 100%|█| 1/1 [00:00<00:00,  6.06 Samples/s]\n"
     ]
    },
    {
     "name": "stdout",
     "output_type": "stream",
     "text": [
      "Initialised with 1 image(s) found.\n",
      "Output directory set to C:/Users/User/Desktop/test/generateImages/output."
     ]
    },
    {
     "name": "stderr",
     "output_type": "stream",
     "text": [
      "Processing <PIL.Image.Image image mode=RGBA size=580x580 at 0x12ADA6D8>: 100%|█| 1/1 [00:00<00:00,  3.95 Samples/s]\n"
     ]
    },
    {
     "name": "stdout",
     "output_type": "stream",
     "text": [
      "Initialised with 1 image(s) found.\n",
      "Output directory set to C:/Users/User/Desktop/test/generateImages/output."
     ]
    },
    {
     "name": "stderr",
     "output_type": "stream",
     "text": [
      "Processing <PIL.Image.Image image mode=RGBA size=180x180 at 0x12ADA5F8>: 100%|█| 1/1 [00:00<00:00,  4.35 Samples/s]\n"
     ]
    },
    {
     "name": "stdout",
     "output_type": "stream",
     "text": [
      "Initialised with 1 image(s) found.\n",
      "Output directory set to C:/Users/User/Desktop/test/generateImages/output."
     ]
    },
    {
     "name": "stderr",
     "output_type": "stream",
     "text": [
      "Processing <PIL.Image.Image image mode=RGBA size=340x340 at 0x12ADA550>: 100%|█| 1/1 [00:00<00:00,  5.81 Samples/s]\n"
     ]
    },
    {
     "name": "stdout",
     "output_type": "stream",
     "text": [
      "Initialised with 1 image(s) found.\n",
      "Output directory set to C:/Users/User/Desktop/test/generateImages/output."
     ]
    },
    {
     "name": "stderr",
     "output_type": "stream",
     "text": [
      "Processing <PIL.Image.Image image mode=RGBA size=380x380 at 0x12ADA9B0>: 100%|█| 1/1 [00:00<00:00,  5.18 Samples/s]\n"
     ]
    },
    {
     "name": "stdout",
     "output_type": "stream",
     "text": [
      "Initialised with 1 image(s) found.\n",
      "Output directory set to C:/Users/User/Desktop/test/generateImages/output."
     ]
    },
    {
     "name": "stderr",
     "output_type": "stream",
     "text": [
      "Processing <PIL.Image.Image image mode=RGBA size=900x900 at 0x12ADA860>: 100%|█| 1/1 [00:00<00:00,  5.35 Samples/s]\n"
     ]
    },
    {
     "name": "stdout",
     "output_type": "stream",
     "text": [
      "Initialised with 1 image(s) found.\n",
      "Output directory set to C:/Users/User/Desktop/test/generateImages/output."
     ]
    },
    {
     "name": "stderr",
     "output_type": "stream",
     "text": [
      "Processing <PIL.Image.Image image mode=RGBA size=860x860 at 0x12ADAA20>: 100%|█| 1/1 [00:00<00:00,  7.04 Samples/s]\n"
     ]
    },
    {
     "name": "stdout",
     "output_type": "stream",
     "text": [
      "Initialised with 1 image(s) found.\n",
      "Output directory set to C:/Users/User/Desktop/test/generateImages/output."
     ]
    },
    {
     "name": "stderr",
     "output_type": "stream",
     "text": [
      "Processing <PIL.Image.Image image mode=RGBA size=940x940 at 0x12ADA5F8>: 100%|█| 1/1 [00:00<00:00,  4.02 Samples/s]\n"
     ]
    },
    {
     "name": "stdout",
     "output_type": "stream",
     "text": [
      "Initialised with 1 image(s) found.\n",
      "Output directory set to C:/Users/User/Desktop/test/generateImages/output."
     ]
    },
    {
     "name": "stderr",
     "output_type": "stream",
     "text": [
      "Processing <PIL.Image.Image image mode=RGBA size=840x840 at 0x12ADAC50>: 100%|█| 1/1 [00:00<00:00,  5.75 Samples/s]\n"
     ]
    },
    {
     "name": "stdout",
     "output_type": "stream",
     "text": [
      "Initialised with 1 image(s) found.\n",
      "Output directory set to C:/Users/User/Desktop/test/generateImages/output."
     ]
    },
    {
     "name": "stderr",
     "output_type": "stream",
     "text": [
      "Processing <PIL.Image.Image image mode=RGBA size=800x800 at 0x12ADA7F0>: 100%|█| 1/1 [00:00<00:00,  4.83 Samples/s]\n"
     ]
    },
    {
     "name": "stdout",
     "output_type": "stream",
     "text": [
      "Initialised with 1 image(s) found.\n",
      "Output directory set to C:/Users/User/Desktop/test/generateImages/output."
     ]
    },
    {
     "name": "stderr",
     "output_type": "stream",
     "text": [
      "Processing <PIL.Image.Image image mode=RGBA size=740x740 at 0x12ADAA90>: 100%|█| 1/1 [00:00<00:00,  7.04 Samples/s]\n"
     ]
    },
    {
     "name": "stdout",
     "output_type": "stream",
     "text": [
      "Initialised with 1 image(s) found.\n",
      "Output directory set to C:/Users/User/Desktop/test/generateImages/output."
     ]
    },
    {
     "name": "stderr",
     "output_type": "stream",
     "text": [
      "Processing <PIL.Image.Image image mode=RGBA size=819x819 at 0x12ADA630>: 100%|█| 1/1 [00:00<00:00,  7.09 Samples/s]\n"
     ]
    },
    {
     "name": "stdout",
     "output_type": "stream",
     "text": [
      "Initialised with 1 image(s) found.\n",
      "Output directory set to C:/Users/User/Desktop/test/generateImages/output."
     ]
    },
    {
     "name": "stderr",
     "output_type": "stream",
     "text": [
      "Processing <PIL.Image.Image image mode=RGBA size=300x300 at 0x12ADAEF0>: 100%|█| 1/1 [00:00<00:00,  4.78 Samples/s]\n"
     ]
    },
    {
     "name": "stdout",
     "output_type": "stream",
     "text": [
      "Initialised with 1 image(s) found.\n",
      "Output directory set to C:/Users/User/Desktop/test/generateImages/output."
     ]
    },
    {
     "name": "stderr",
     "output_type": "stream",
     "text": [
      "Processing <PIL.Image.Image image mode=RGBA size=760x760 at 0x12ADA860>: 100%|█| 1/1 [00:00<00:00,  5.43 Samples/s]\n"
     ]
    },
    {
     "name": "stdout",
     "output_type": "stream",
     "text": [
      "Initialised with 1 image(s) found.\n",
      "Output directory set to C:/Users/User/Desktop/test/generateImages/output."
     ]
    },
    {
     "name": "stderr",
     "output_type": "stream",
     "text": [
      "Processing <PIL.Image.Image image mode=RGBA size=260x260 at 0x12ADAC50>: 100%|█| 1/1 [00:00<00:00,  8.55 Samples/s]\n"
     ]
    },
    {
     "name": "stdout",
     "output_type": "stream",
     "text": [
      "Initialised with 1 image(s) found.\n",
      "Output directory set to C:/Users/User/Desktop/test/generateImages/output."
     ]
    },
    {
     "name": "stderr",
     "output_type": "stream",
     "text": [
      "Processing <PIL.Image.Image image mode=RGBA size=340x340 at 0x12ADA9B0>: 100%|█| 1/1 [00:00<00:00,  8.06 Samples/s]\n"
     ]
    },
    {
     "name": "stdout",
     "output_type": "stream",
     "text": [
      "Initialised with 1 image(s) found.\n",
      "Output directory set to C:/Users/User/Desktop/test/generateImages/output."
     ]
    },
    {
     "name": "stderr",
     "output_type": "stream",
     "text": [
      "Processing <PIL.Image.Image image mode=RGBA size=500x500 at 0x12ADADD8>: 100%|█| 1/1 [00:00<00:00,  4.50 Samples/s]\n"
     ]
    },
    {
     "name": "stdout",
     "output_type": "stream",
     "text": [
      "Initialised with 1 image(s) found.\n",
      "Output directory set to C:/Users/User/Desktop/test/generateImages/output."
     ]
    },
    {
     "name": "stderr",
     "output_type": "stream",
     "text": [
      "Processing <PIL.Image.Image image mode=RGBA size=320x320 at 0x12ADA630>: 100%|█| 1/1 [00:00<00:00,  7.58 Samples/s]\n"
     ]
    },
    {
     "name": "stdout",
     "output_type": "stream",
     "text": [
      "Initialised with 1 image(s) found.\n",
      "Output directory set to C:/Users/User/Desktop/test/generateImages/output."
     ]
    },
    {
     "name": "stderr",
     "output_type": "stream",
     "text": [
      "Processing <PIL.Image.Image image mode=RGBA size=440x440 at 0x12ADA7F0>: 100%|█| 1/1 [00:00<00:00,  5.10 Samples/s]\n"
     ]
    },
    {
     "name": "stdout",
     "output_type": "stream",
     "text": [
      "Initialised with 1 image(s) found.\n",
      "Output directory set to C:/Users/User/Desktop/test/generateImages/output."
     ]
    },
    {
     "name": "stderr",
     "output_type": "stream",
     "text": [
      "Processing <PIL.Image.Image image mode=RGBA size=740x740 at 0x12ADAB70>: 100%|█| 1/1 [00:00<00:00,  7.52 Samples/s]\n"
     ]
    },
    {
     "name": "stdout",
     "output_type": "stream",
     "text": [
      "Initialised with 1 image(s) found.\n",
      "Output directory set to C:/Users/User/Desktop/test/generateImages/output."
     ]
    },
    {
     "name": "stderr",
     "output_type": "stream",
     "text": [
      "Processing <PIL.Image.Image image mode=RGBA size=380x380 at 0x12ADA9E8>: 100%|█| 1/1 [00:00<00:00,  8.33 Samples/s]\n"
     ]
    },
    {
     "name": "stdout",
     "output_type": "stream",
     "text": [
      "Initialised with 1 image(s) found.\n",
      "Output directory set to C:/Users/User/Desktop/test/generateImages/output."
     ]
    },
    {
     "name": "stderr",
     "output_type": "stream",
     "text": [
      "Processing <PIL.Image.Image image mode=RGBA size=320x320 at 0x12ADA550>: 100%|█| 1/1 [00:00<00:00,  7.75 Samples/s]\n"
     ]
    },
    {
     "name": "stdout",
     "output_type": "stream",
     "text": [
      "Initialised with 1 image(s) found.\n",
      "Output directory set to C:/Users/User/Desktop/test/generateImages/output."
     ]
    },
    {
     "name": "stderr",
     "output_type": "stream",
     "text": [
      "Processing <PIL.Image.Image image mode=RGBA size=400x400 at 0x12ADA898>: 100%|█| 1/1 [00:00<00:00,  3.55 Samples/s]\n"
     ]
    },
    {
     "name": "stdout",
     "output_type": "stream",
     "text": [
      "Initialised with 1 image(s) found.\n",
      "Output directory set to C:/Users/User/Desktop/test/generateImages/output."
     ]
    },
    {
     "name": "stderr",
     "output_type": "stream",
     "text": [
      "Processing <PIL.Image.Image image mode=RGBA size=600x600 at 0x12ADADD8>: 100%|█| 1/1 [00:00<00:00,  7.30 Samples/s]\n"
     ]
    },
    {
     "name": "stdout",
     "output_type": "stream",
     "text": [
      "Initialised with 1 image(s) found.\n",
      "Output directory set to C:/Users/User/Desktop/test/generateImages/output."
     ]
    },
    {
     "name": "stderr",
     "output_type": "stream",
     "text": [
      "Processing <PIL.Image.Image image mode=RGBA size=520x520 at 0x12ADA6D8>: 100%|█| 1/1 [00:00<00:00,  7.52 Samples/s]\n"
     ]
    },
    {
     "name": "stdout",
     "output_type": "stream",
     "text": [
      "Initialised with 1 image(s) found.\n",
      "Output directory set to C:/Users/User/Desktop/test/generateImages/output."
     ]
    },
    {
     "name": "stderr",
     "output_type": "stream",
     "text": [
      "Processing <PIL.Image.Image image mode=RGBA size=660x660 at 0x12ADA9B0>: 100%|█| 1/1 [00:00<00:00,  4.22 Samples/s]\n"
     ]
    },
    {
     "name": "stdout",
     "output_type": "stream",
     "text": [
      "Initialised with 1 image(s) found.\n",
      "Output directory set to C:/Users/User/Desktop/test/generateImages/output."
     ]
    },
    {
     "name": "stderr",
     "output_type": "stream",
     "text": [
      "Processing <PIL.Image.Image image mode=RGBA size=160x160 at 0x12ADA9E8>: 100%|█| 1/1 [00:00<00:00,  8.33 Samples/s]\n"
     ]
    },
    {
     "name": "stdout",
     "output_type": "stream",
     "text": [
      "Initialised with 1 image(s) found.\n",
      "Output directory set to C:/Users/User/Desktop/test/generateImages/output."
     ]
    },
    {
     "name": "stderr",
     "output_type": "stream",
     "text": [
      "Processing <PIL.Image.Image image mode=RGBA size=500x500 at 0x12ADAEF0>: 100%|█| 1/1 [00:00<00:00,  7.41 Samples/s]\n"
     ]
    },
    {
     "name": "stdout",
     "output_type": "stream",
     "text": [
      "Initialised with 1 image(s) found.\n",
      "Output directory set to C:/Users/User/Desktop/test/generateImages/output."
     ]
    },
    {
     "name": "stderr",
     "output_type": "stream",
     "text": [
      "Processing <PIL.Image.Image image mode=RGBA size=459x459 at 0x12ADA630>: 100%|█| 1/1 [00:00<00:00,  5.59 Samples/s]\n"
     ]
    },
    {
     "name": "stdout",
     "output_type": "stream",
     "text": [
      "Initialised with 1 image(s) found.\n",
      "Output directory set to C:/Users/User/Desktop/test/generateImages/output."
     ]
    },
    {
     "name": "stderr",
     "output_type": "stream",
     "text": [
      "Processing <PIL.Image.Image image mode=RGBA size=220x220 at 0x12ADADD8>: 100%|█| 1/1 [00:00<00:00,  7.94 Samples/s]\n"
     ]
    },
    {
     "name": "stdout",
     "output_type": "stream",
     "text": [
      "Initialised with 1 image(s) found.\n",
      "Output directory set to C:/Users/User/Desktop/test/generateImages/output."
     ]
    },
    {
     "name": "stderr",
     "output_type": "stream",
     "text": [
      "Processing <PIL.Image.Image image mode=RGBA size=760x760 at 0x12ADA6D8>: 100%|█| 1/1 [00:00<00:00, 12.99 Samples/s]\n"
     ]
    },
    {
     "name": "stdout",
     "output_type": "stream",
     "text": [
      "Initialised with 1 image(s) found.\n",
      "Output directory set to C:/Users/User/Desktop/test/generateImages/output."
     ]
    },
    {
     "name": "stderr",
     "output_type": "stream",
     "text": [
      "Processing <PIL.Image.Image image mode=RGBA size=320x320 at 0x12ADAC88>: 100%|█| 1/1 [00:00<00:00,  5.92 Samples/s]\n"
     ]
    },
    {
     "name": "stdout",
     "output_type": "stream",
     "text": [
      "Initialised with 1 image(s) found.\n",
      "Output directory set to C:/Users/User/Desktop/test/generateImages/output."
     ]
    },
    {
     "name": "stderr",
     "output_type": "stream",
     "text": [
      "Processing <PIL.Image.Image image mode=RGBA size=880x880 at 0x12ADA9E8>: 100%|█| 1/1 [00:00<00:00,  8.13 Samples/s]\n"
     ]
    },
    {
     "name": "stdout",
     "output_type": "stream",
     "text": [
      "Initialised with 1 image(s) found.\n",
      "Output directory set to C:/Users/User/Desktop/test/generateImages/output."
     ]
    },
    {
     "name": "stderr",
     "output_type": "stream",
     "text": [
      "Processing <PIL.Image.Image image mode=RGBA size=760x760 at 0x12ADAEF0>: 100%|█| 1/1 [00:00<00:00,  7.14 Samples/s]\n"
     ]
    },
    {
     "name": "stdout",
     "output_type": "stream",
     "text": [
      "Initialised with 1 image(s) found.\n",
      "Output directory set to C:/Users/User/Desktop/test/generateImages/output."
     ]
    },
    {
     "name": "stderr",
     "output_type": "stream",
     "text": [
      "Processing <PIL.Image.Image image mode=RGBA size=459x459 at 0x12ADAC50>: 100%|█| 1/1 [00:00<00:00,  5.62 Samples/s]\n"
     ]
    },
    {
     "name": "stdout",
     "output_type": "stream",
     "text": [
      "Initialised with 1 image(s) found.\n",
      "Output directory set to C:/Users/User/Desktop/test/generateImages/output."
     ]
    },
    {
     "name": "stderr",
     "output_type": "stream",
     "text": [
      "Processing <PIL.Image.Image image mode=RGBA size=880x880 at 0x12ADA7F0>: 100%|█| 1/1 [00:00<00:00,  4.13 Samples/s]\n"
     ]
    },
    {
     "name": "stdout",
     "output_type": "stream",
     "text": [
      "Initialised with 1 image(s) found.\n",
      "Output directory set to C:/Users/User/Desktop/test/generateImages/output."
     ]
    },
    {
     "name": "stderr",
     "output_type": "stream",
     "text": [
      "Processing <PIL.Image.Image image mode=RGBA size=380x380 at 0x12ADAD68>: 100%|█| 1/1 [00:00<00:00,  7.63 Samples/s]\n"
     ]
    },
    {
     "name": "stdout",
     "output_type": "stream",
     "text": [
      "Initialised with 1 image(s) found.\n",
      "Output directory set to C:/Users/User/Desktop/test/generateImages/output."
     ]
    },
    {
     "name": "stderr",
     "output_type": "stream",
     "text": [
      "Processing <PIL.Image.Image image mode=RGBA size=180x180 at 0x12ADADD8>: 100%|█| 1/1 [00:00<00:00,  6.80 Samples/s]\n"
     ]
    },
    {
     "name": "stdout",
     "output_type": "stream",
     "text": [
      "Initialised with 1 image(s) found.\n",
      "Output directory set to C:/Users/User/Desktop/test/generateImages/output."
     ]
    },
    {
     "name": "stderr",
     "output_type": "stream",
     "text": [
      "Processing <PIL.Image.Image image mode=RGBA size=800x800 at 0x12ADA6D8>: 100%|█| 1/1 [00:00<00:00,  5.24 Samples/s]\n"
     ]
    },
    {
     "name": "stdout",
     "output_type": "stream",
     "text": [
      "Initialised with 1 image(s) found.\n",
      "Output directory set to C:/Users/User/Desktop/test/generateImages/output."
     ]
    },
    {
     "name": "stderr",
     "output_type": "stream",
     "text": [
      "Processing <PIL.Image.Image image mode=RGBA size=560x560 at 0x12ADAB70>: 100%|█| 1/1 [00:00<00:00,  8.40 Samples/s]\n"
     ]
    },
    {
     "name": "stdout",
     "output_type": "stream",
     "text": [
      "Initialised with 1 image(s) found.\n",
      "Output directory set to C:/Users/User/Desktop/test/generateImages/output."
     ]
    },
    {
     "name": "stderr",
     "output_type": "stream",
     "text": [
      "Processing <PIL.Image.Image image mode=RGBA size=459x459 at 0x12ADACF8>: 100%|█| 1/1 [00:00<00:00,  7.35 Samples/s]\n"
     ]
    },
    {
     "name": "stdout",
     "output_type": "stream",
     "text": [
      "Initialised with 1 image(s) found.\n",
      "Output directory set to C:/Users/User/Desktop/test/generateImages/output."
     ]
    },
    {
     "name": "stderr",
     "output_type": "stream",
     "text": [
      "Processing <PIL.Image.Image image mode=RGBA size=840x840 at 0x12ADA550>: 100%|█| 1/1 [00:00<00:00,  5.49 Samples/s]\n"
     ]
    },
    {
     "name": "stdout",
     "output_type": "stream",
     "text": [
      "Initialised with 1 image(s) found.\n",
      "Output directory set to C:/Users/User/Desktop/test/generateImages/output."
     ]
    },
    {
     "name": "stderr",
     "output_type": "stream",
     "text": [
      "Processing <PIL.Image.Image image mode=RGBA size=280x280 at 0x12ADA898>: 100%|█| 1/1 [00:00<00:00,  4.67 Samples/s]\n"
     ]
    },
    {
     "name": "stdout",
     "output_type": "stream",
     "text": [
      "Initialised with 1 image(s) found.\n",
      "Output directory set to C:/Users/User/Desktop/test/generateImages/output."
     ]
    },
    {
     "name": "stderr",
     "output_type": "stream",
     "text": [
      "Processing <PIL.Image.Image image mode=RGBA size=819x819 at 0x12ADA198>: 100%|█| 1/1 [00:00<00:00,  4.69 Samples/s]\n"
     ]
    },
    {
     "name": "stdout",
     "output_type": "stream",
     "text": [
      "Initialised with 1 image(s) found.\n",
      "Output directory set to C:/Users/User/Desktop/test/generateImages/output."
     ]
    },
    {
     "name": "stderr",
     "output_type": "stream",
     "text": [
      "Processing <PIL.Image.Image image mode=RGBA size=260x260 at 0x12ADAC88>: 100%|█| 1/1 [00:00<00:00,  5.65 Samples/s]\n"
     ]
    },
    {
     "name": "stdout",
     "output_type": "stream",
     "text": [
      "Initialised with 1 image(s) found.\n",
      "Output directory set to C:/Users/User/Desktop/test/generateImages/output."
     ]
    },
    {
     "name": "stderr",
     "output_type": "stream",
     "text": [
      "Processing <PIL.Image.Image image mode=RGBA size=620x620 at 0x12ADA860>: 100%|█| 1/1 [00:00<00:00,  5.08 Samples/s]\n"
     ]
    },
    {
     "name": "stdout",
     "output_type": "stream",
     "text": [
      "Initialised with 1 image(s) found.\n",
      "Output directory set to C:/Users/User/Desktop/test/generateImages/output."
     ]
    },
    {
     "name": "stderr",
     "output_type": "stream",
     "text": [
      "Processing <PIL.Image.Image image mode=RGBA size=780x780 at 0x12ADAC50>: 100%|█| 1/1 [00:00<00:00,  3.64 Samples/s]\n"
     ]
    },
    {
     "name": "stdout",
     "output_type": "stream",
     "text": [
      "Initialised with 1 image(s) found.\n",
      "Output directory set to C:/Users/User/Desktop/test/generateImages/output."
     ]
    },
    {
     "name": "stderr",
     "output_type": "stream",
     "text": [
      "Processing <PIL.Image.Image image mode=RGBA size=819x819 at 0x12ADA898>: 100%|█| 1/1 [00:00<00:00,  7.46 Samples/s]\n"
     ]
    },
    {
     "name": "stdout",
     "output_type": "stream",
     "text": [
      "Initialised with 1 image(s) found.\n",
      "Output directory set to C:/Users/User/Desktop/test/generateImages/output."
     ]
    },
    {
     "name": "stderr",
     "output_type": "stream",
     "text": [
      "Processing <PIL.Image.Image image mode=RGBA size=540x540 at 0x12ADADD8>: 100%|█| 1/1 [00:00<00:00,  4.97 Samples/s]\n"
     ]
    },
    {
     "name": "stdout",
     "output_type": "stream",
     "text": [
      "Initialised with 1 image(s) found.\n",
      "Output directory set to C:/Users/User/Desktop/test/generateImages/output."
     ]
    },
    {
     "name": "stderr",
     "output_type": "stream",
     "text": [
      "Processing <PIL.Image.Image image mode=RGBA size=960x960 at 0x12ADA780>: 100%|█| 1/1 [00:00<00:00,  5.38 Samples/s]\n"
     ]
    },
    {
     "name": "stdout",
     "output_type": "stream",
     "text": [
      "Initialised with 1 image(s) found.\n",
      "Output directory set to C:/Users/User/Desktop/test/generateImages/output."
     ]
    },
    {
     "name": "stderr",
     "output_type": "stream",
     "text": [
      "Processing <PIL.Image.Image image mode=RGBA size=960x960 at 0x12ADA860>: 100%|█| 1/1 [00:00<00:00,  7.69 Samples/s]\n"
     ]
    },
    {
     "name": "stdout",
     "output_type": "stream",
     "text": [
      "Initialised with 1 image(s) found.\n",
      "Output directory set to C:/Users/User/Desktop/test/generateImages/output."
     ]
    },
    {
     "name": "stderr",
     "output_type": "stream",
     "text": [
      "Processing <PIL.Image.Image image mode=RGBA size=340x340 at 0x12ADAC50>: 100%|█| 1/1 [00:00<00:00,  7.58 Samples/s]\n"
     ]
    },
    {
     "name": "stdout",
     "output_type": "stream",
     "text": [
      "Initialised with 1 image(s) found.\n",
      "Output directory set to C:/Users/User/Desktop/test/generateImages/output."
     ]
    },
    {
     "name": "stderr",
     "output_type": "stream",
     "text": [
      "Processing <PIL.Image.Image image mode=RGBA size=640x640 at 0x12ADA898>: 100%|█| 1/1 [00:00<00:00,  8.40 Samples/s]\n"
     ]
    },
    {
     "name": "stdout",
     "output_type": "stream",
     "text": [
      "Initialised with 1 image(s) found.\n",
      "Output directory set to C:/Users/User/Desktop/test/generateImages/output."
     ]
    },
    {
     "name": "stderr",
     "output_type": "stream",
     "text": [
      "Processing <PIL.Image.Image image mode=RGBA size=1000x1000 at 0x12ADA198>: 100%|█| 1/1 [00:00<00:00,  6.94 Samples/s]\n"
     ]
    },
    {
     "name": "stdout",
     "output_type": "stream",
     "text": [
      "<class 'Augmentor.Pipeline.Pipeline'>\n"
     ]
    }
   ],
   "source": [
    "for i in range(100):\n",
    "    skew_magnitude = np.round(np.random.uniform(0.1, 1.0),1) # sm 0.1-1.0\n",
    "    size_ratio = np.round(np.random.uniform(0.7, 5.0),1) # sr depends on initanal size (20-250)\n",
    "    rd_grid_with = np.random.randint(2,10) # rdgw 2-10\n",
    "    rd_grid_hight = np.random.randint(2,10) # rdgh 2-10\n",
    "    rd_magnitude = np.random.randint(8,22) # rdm 1-10\n",
    "\n",
    "    \n",
    "    p = Aug.Pipeline(path_folder, output_directory='output', save_format=\"BMP\")\n",
    "    p.random_distortion(probability=1, grid_width=rd_grid_with, grid_height=rd_grid_hight, magnitude=rd_magnitude)\n",
    "    p.rotate(probability=1, max_left_rotation=25, max_right_rotation=25) # >= 25° for botch\n",
    "    p.skew(probability=0.3, magnitude=skew_magnitude)\n",
    "    p.shear(probability=0.3, max_shear_left=25, max_shear_right=25) # >= 25° for botch\n",
    "    p.resize(probability=1, width=int(size_x*size_ratio) , height=int(size_y*size_ratio), resample_filter='BICUBIC')\n",
    "    p.sample(1)\n",
    "    \n",
    "    path_output, dirs, output_files = next(os.walk(path_output))\n",
    "    timestr = time.strftime('%Y%m%d_%H%M%S')\n",
    "    name = str(timestr) + '_' + 'sm' + str(skew_magnitude) + '_' + 'sr' + str(size_ratio) + '_' + 'rdgw' + str(rd_grid_with) + '_' + 'rdgh' + str(rd_grid_hight) + '_' + 'rdm' + str(rd_magnitude)\n",
    "#     os.rename(path_output + output_files[0], path_output + name + '.BMP')\n",
    "    shutil.move(path_output + output_files[0], path_output + 'renamed/' + name + '.BMP')\n",
    "    \n",
    "    \n",
    "print(type(p))\n",
    "# print(b.shape)\n",
    "# img_size_uint8 = Image.fromarray(np.uint8(img_mini))\n",
    "# img_size_uint8.save(save_folder +"
   ]
  },
  {
   "cell_type": "code",
   "execution_count": 50,
   "metadata": {},
   "outputs": [
    {
     "name": "stdout",
     "output_type": "stream",
     "text": [
      "C:/Users/User/Desktop/test/generateImages/output/renamed/\n",
      "100\n"
     ]
    }
   ],
   "source": [
    "path_renamed = path_output + 'renamed/' # Bilder Pfad\n",
    "path_renamed, dirs, renamed_files = next(os.walk(path_renamed))\n",
    "renamed_number_images = len(renamed_files)\n",
    "print(path_renamed)\n",
    "print(renamed_number_images)\n",
    "# print(renamed_files)"
   ]
  },
  {
   "cell_type": "code",
   "execution_count": 92,
   "metadata": {},
   "outputs": [
    {
     "name": "stdout",
     "output_type": "stream",
     "text": [
      "(64, 27, 3)\n"
     ]
    }
   ],
   "source": [
    "for i in range (1):\n",
    "    with Image.open(path_renamed + renamed_files[0]) as file:\n",
    "        img = np.array(file)\n",
    "        img = img[95:176,127:197,:]\n",
    "        img_without_boundary = image_rect(img)\n",
    "        print(img_without_boundary.shape)\n",
    "        plt.figure('img_without_boundary')\n",
    "        plt.imshow(img_without_boundary)\n",
    "        img_without_boundary_binarised = deepcopy(img_without_boundary)\n",
    "        img_without_boundary_binarised[img_without_boundary_binarised<150] = 0\n",
    "        img_size_uint8 = Image.fromarray(np.uint8(img_without_boundary_binarised))\n",
    "        img_size_uint8.save('C:/Users/User/Desktop/test/generateImages/' + renamed_files[i])\n",
    "    "
   ]
  },
  {
   "cell_type": "code",
   "execution_count": 78,
   "metadata": {},
   "outputs": [
    {
     "name": "stdout",
     "output_type": "stream",
     "text": [
      "0 0 280 280\n"
     ]
    }
   ],
   "source": [
    "\n",
    "    "
   ]
  },
  {
   "cell_type": "code",
   "execution_count": 30,
   "metadata": {},
   "outputs": [],
   "source": [
    "# https://github.com/mdbloice/Augmentor\n",
    "# https://www.kaggle.com/bguberfain/elastic-transform-for-data-augmentation\n",
    "# https://www.ritchieng.com/machine-learning-photo-ocr/"
   ]
  },
  {
   "cell_type": "code",
   "execution_count": 31,
   "metadata": {},
   "outputs": [],
   "source": [
    "# def iterate():\n",
    "#     img_output = np.zeros((rows+512, cols+512))\n",
    "#     for i in range(rows):\n",
    "#         for j in range(cols):\n",
    "#             offset_x = int(15.0 * np.sin(6*np.pi*i/180))\n",
    "#             offset_y = 0 #int(d * np.sin(e * 3.14 * 1*(i+f)))\n",
    "# #             print(offset_x,offset_y)\n",
    "# #             print(i+offset_y+h,j+offset_x+d)\n",
    "\n",
    "#             img_output[i+offset_y+200,j+offset_x+200] = img[i,j]\n",
    "            \n",
    "# #             plt.figure('Input')\n",
    "# #             plt.imshow(img, cmap='gray')\n",
    "# #             plt.figure('Vertical wavecols')\n",
    "# #             plt.imshow(img_output, cmap='gray')\n",
    "\n",
    "#     plt.figure('bla')\n",
    "#     plt.imshow(img_output/255)\n",
    "\n",
    "#     img_rect = deepcopy(img_output)\n",
    "#     x, y, w, h = cv2.boundingRect(img_rect)\n",
    "#     # print(x, y, w, h)\n",
    "#     x_min = x-1\n",
    "#     y_min = y-1\n",
    "#     x_max = x+w\n",
    "#     y_max = y+h\n",
    "#     cv2.rectangle(img_rect, (x_min, y_min), (x_max, y_max), (0, 255, 0), 0)   # img wird überschrieben\n",
    "#     plt.figure('img_rect')\n",
    "#     plt.imshow(img_rect/255)\n",
    "\n",
    "\n",
    "    \n",
    "#     img_save = image_rect(img_output)\n",
    "#     img_size_uint8 = Image.fromarray(np.uint8(img_output))\n",
    "#     img_size_uint8.save(path + str(a)+'_'+str(b)+'_'+str(c)+'_'+str(d)+'.bmp')\n",
    "                    \n",
    "#         img_size_uint8 = Image.fromarray(np.uint8(img_size))\n",
    "#         img_size_uint8.save(path_save_image + files[i])"
   ]
  },
  {
   "cell_type": "code",
   "execution_count": null,
   "metadata": {},
   "outputs": [],
   "source": [
    "# https://subscription.packtpub.com/book/application_development/9781785283932/1/ch01lvl1sec16/image-warping\n",
    "# img_2D = img[:,:,0]\n",
    "a = 15\n",
    "b = 3\n",
    "c = 1\n",
    "d = 1\n",
    "\n",
    "rows, cols = img_2D.shape \n",
    "img_output = np.zeros((200, 200))\n",
    "img_output_3D = np.zeros((200, 200,3))\n",
    "print(img_output.shape)\n",
    "print(img.shape)\n",
    "for i in range(rows):\n",
    "    for j in range(cols):\n",
    "        offset_x = int(a * np.sin(2*np.pi*i*b/180))\n",
    "        offset_y = 0 # int(c * np.sin(2*np.pi*j*d/180))\n",
    "#       print(offset_x,offset_y)\n",
    "#       print(i+offset_y+h,j+offset_x+d)\n",
    "        img_output[i+offset_y+50, j+offset_x+50] = img_2D[i,j]\n",
    "\n",
    "# plt.figure('img_output')\n",
    "# plt.imshow(img_output)\n",
    "# print(type(img_output))\n",
    "\n",
    "img_output_3D[:,:,0] = img_output\n",
    "img_output_3D[:,:,1] = img_output\n",
    "img_output_3D[:,:,2] = img_output\n",
    "\n",
    "img_rect = deepcopy(img_output_3D)\n",
    "img_rect = img_rect.astype(np.uint8)\n",
    "x, y, w, h = cv2.boundingRect(img_rect[:,:,0])\n",
    "# print(x, y, w, h)\n",
    "x_min = x-1\n",
    "y_min = y-1\n",
    "x_max = x+w\n",
    "y_max = y+h\n",
    "cv2.rectangle(img_rect, (x_min, y_min), (x_max, y_max), (0, 255, 0), 0)   # img wird überschrieben\n",
    "# plt.figure('img_rect')\n",
    "# plt.imshow(img_rect/255)\n",
    "\n",
    "img_without_boundary = img_rect[y:y_max, x:x_max,:]\n",
    "plt.figure('img_without_boundary'+str(a)+'_'+str(b)+'_'+str(c)+'_'+str(d))\n",
    "plt.imshow(img_without_boundary/255)\n"
   ]
  },
  {
   "cell_type": "code",
   "execution_count": null,
   "metadata": {},
   "outputs": [],
   "source": [
    "# https://subscription.packtpub.com/book/application_development/9781785283932/1/ch01lvl1sec15/projective-transformations\n",
    "\n",
    "import cv2\n",
    "import numpy as np\n",
    "\n",
    "rows, cols = img.shape[:2]\n",
    "\n",
    "# src_points = np.float32([[0,0], [cols-1,0], [0,rows-1], [cols-1,rows-1]])\n",
    "# dst_points = np.float32([[0,0], [cols-1,0], [int(0.1*cols),rows-1], [int(0.5*cols),rows-1]]) \n",
    "src_points = np.float32([[0,0], [0,rows-1], [cols/2,0], [cols/2,rows-1]])\n",
    "dst_points = np.float32([[0,100], [0,rows-101], [cols/2,0], [cols/2,rows-1]])\n",
    "projective_matrix = cv2.getPerspectiveTransform(src_points, dst_points)\n",
    "img_output = cv2.warpPerspective(img, projective_matrix, (cols,rows))\n",
    "\n",
    "plt.figure('Input')\n",
    "plt.imshow(img)\n",
    "plt.figure('Output')\n",
    "plt.imshow(img_output)"
   ]
  },
  {
   "cell_type": "code",
   "execution_count": null,
   "metadata": {},
   "outputs": [],
   "source": []
  },
  {
   "cell_type": "code",
   "execution_count": null,
   "metadata": {},
   "outputs": [],
   "source": []
  }
 ],
 "metadata": {
  "kernelspec": {
   "display_name": "Python 3",
   "language": "python",
   "name": "python3"
  },
  "language_info": {
   "codemirror_mode": {
    "name": "ipython",
    "version": 3
   },
   "file_extension": ".py",
   "mimetype": "text/x-python",
   "name": "python",
   "nbconvert_exporter": "python",
   "pygments_lexer": "ipython3",
   "version": "3.6.4"
  }
 },
 "nbformat": 4,
 "nbformat_minor": 2
}
