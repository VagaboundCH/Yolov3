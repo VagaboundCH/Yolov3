{
 "cells": [
  {
   "cell_type": "code",
   "execution_count": 21,
   "metadata": {},
   "outputs": [],
   "source": [
    "from PIL import Image, ImageDraw, ImageFont  \n",
    "import numpy as np\n",
    "import matplotlib.pyplot as plt\n",
    "from copy import copy, deepcopy\n",
    "from scipy import interpolate\n",
    "import cv2"
   ]
  },
  {
   "cell_type": "code",
   "execution_count": 73,
   "metadata": {},
   "outputs": [],
   "source": [
    "# Parameters\n",
    "font_type = 'C:/Windows/Fonts/Calibri/calibrib.ttf'\n",
    "font_size = 45\n",
    "character = 'i'"
   ]
  },
  {
   "cell_type": "code",
   "execution_count": 74,
   "metadata": {},
   "outputs": [],
   "source": [
    "# Befehl muss zweimal ausgeführt werden (komisch)\n",
    "%matplotlib qt\n",
    "%matplotlib qt"
   ]
  },
  {
   "cell_type": "code",
   "execution_count": 75,
   "metadata": {},
   "outputs": [
    {
     "name": "stdout",
     "output_type": "stream",
     "text": [
      "40 40 3\n"
     ]
    }
   ],
   "source": [
    "img = Image.new('RGB', (40, 40), color = (0, 0, 0))     \n",
    "fnt = ImageFont.truetype(font_type, font_size)\n",
    "d = ImageDraw.Draw(img)\n",
    "d.text((0,0), character, font=fnt, fill=(255, 255, 255))\n",
    "# img.show() \n",
    "# img.save('pil_text_font.bmp')\n",
    "img = np.array(img)\n",
    "plt.figure('dsfg')\n",
    "plt.imshow(img/255)\n",
    "x,y,z = np.shape(img)\n",
    "print(x,y,z)"
   ]
  },
  {
   "cell_type": "code",
   "execution_count": 48,
   "metadata": {},
   "outputs": [
    {
     "name": "stdout",
     "output_type": "stream",
     "text": [
      "[[[0 0 0]\n",
      "  [0 0 0]\n",
      "  [0 0 0]\n",
      "  ...\n",
      "  [0 0 0]\n",
      "  [0 0 0]\n",
      "  [0 0 0]]\n",
      "\n",
      " [[0 0 0]\n",
      "  [0 0 0]\n",
      "  [0 0 0]\n",
      "  ...\n",
      "  [0 0 0]\n",
      "  [0 0 0]\n",
      "  [0 0 0]]\n",
      "\n",
      " [[0 0 0]\n",
      "  [0 0 0]\n",
      "  [0 0 0]\n",
      "  ...\n",
      "  [0 0 0]\n",
      "  [0 0 0]\n",
      "  [0 0 0]]\n",
      "\n",
      " ...\n",
      "\n",
      " [[0 0 0]\n",
      "  [0 0 0]\n",
      "  [0 0 0]\n",
      "  ...\n",
      "  [0 0 0]\n",
      "  [0 0 0]\n",
      "  [0 0 0]]\n",
      "\n",
      " [[0 0 0]\n",
      "  [0 0 0]\n",
      "  [0 0 0]\n",
      "  ...\n",
      "  [0 0 0]\n",
      "  [0 0 0]\n",
      "  [0 0 0]]\n",
      "\n",
      " [[0 0 0]\n",
      "  [0 0 0]\n",
      "  [0 0 0]\n",
      "  ...\n",
      "  [0 0 0]\n",
      "  [0 0 0]\n",
      "  [0 0 0]]]\n",
      "40 40 3\n"
     ]
    }
   ],
   "source": [
    "print(img)\n",
    "x,y,z = np.shape(img)\n",
    "print(x,y,z)"
   ]
  },
  {
   "cell_type": "code",
   "execution_count": 55,
   "metadata": {},
   "outputs": [],
   "source": [
    "tmp_x_1 = int(-1*x/2)\n",
    "tmp_x_2 = abs(tmp_x_1)+1\n",
    "tmp_y_1 = int(-1*y/2)\n",
    "tmp_y_2 = abs(tmp_y_1)+1\n",
    "# print(tmp_x_1)\n",
    "# print(tmp_x_2)\n",
    "# print(tmp_y_1)\n",
    "# print(tmp_y_2)\n",
    "\n",
    "x_mesh = np.arange(tmp_x_1, tmp_x_2, 1)\n",
    "y_mesh = np.arange(tmp_y_1, tmp_y_2, 1)\n",
    "# print(x_mesh)\n",
    "# print(x_mesh)\n",
    "xx, yy = np.meshgrid(x_mesh, np.flip(y_mesh,0), sparse=True)\n",
    "yy = yy*1j\n",
    "c_meshgrid = (yy+xx)*5j -3\n",
    "# print(c_meshgrid)\n",
    "# print(x,y)\n",
    "x,y = c_meshgrid.shape\n",
    "c_meshgrid_reshape = c_meshgrid.reshape((x,y,1))\n",
    "# print(c_meshgrid_reshape)"
   ]
  },
  {
   "cell_type": "code",
   "execution_count": 56,
   "metadata": {},
   "outputs": [
    {
     "name": "stdout",
     "output_type": "stream",
     "text": [
      "92\n",
      "95\n",
      "-98\n",
      "-95\n"
     ]
    }
   ],
   "source": [
    "c_meshgrid_mask = deepcopy(c_meshgrid_reshape)\n",
    "max_real_meshgrid_mask = int(np.max(c_meshgrid_mask.real))\n",
    "max_imag_meshgrid_mask = int(np.max(c_meshgrid_mask.imag))\n",
    "min_real_meshgrid_mask = int(np.min(c_meshgrid_mask.real))\n",
    "min_imag_meshgrid_mask = int(np.min(c_meshgrid_mask.imag))\n",
    "print(max_real_meshgrid_mask)\n",
    "print(max_imag_meshgrid_mask)\n",
    "print(min_real_meshgrid_mask)\n",
    "print(min_imag_meshgrid_mask)"
   ]
  },
  {
   "cell_type": "code",
   "execution_count": 64,
   "metadata": {},
   "outputs": [
    {
     "name": "stdout",
     "output_type": "stream",
     "text": [
      "190 190 3\n"
     ]
    }
   ],
   "source": [
    "z_transform = np.array(np.zeros((max_imag_meshgrid_mask - min_imag_meshgrid_mask, max_real_meshgrid_mask - min_real_meshgrid_mask,3)))\n",
    "x,y,z = z_transform.shape\n",
    "# print(z_transform)\n",
    "print(x,y,z)"
   ]
  },
  {
   "cell_type": "code",
   "execution_count": 68,
   "metadata": {},
   "outputs": [
    {
     "ename": "IndexError",
     "evalue": "index 190 is out of bounds for axis 0 with size 190",
     "output_type": "error",
     "traceback": [
      "\u001b[1;31m---------------------------------------------------------------------------\u001b[0m",
      "\u001b[1;31mIndexError\u001b[0m                                Traceback (most recent call last)",
      "\u001b[1;32m<ipython-input-68-23dd6dafdc6f>\u001b[0m in \u001b[0;36m<module>\u001b[1;34m()\u001b[0m\n\u001b[0;32m      1\u001b[0m \u001b[1;32mfor\u001b[0m \u001b[0mi\u001b[0m \u001b[1;32min\u001b[0m \u001b[0mrange\u001b[0m\u001b[1;33m(\u001b[0m\u001b[0mx\u001b[0m\u001b[1;33m-\u001b[0m\u001b[1;36m8\u001b[0m\u001b[1;33m)\u001b[0m\u001b[1;33m:\u001b[0m\u001b[1;33m\u001b[0m\u001b[0m\n\u001b[0;32m      2\u001b[0m     \u001b[1;32mfor\u001b[0m \u001b[0mj\u001b[0m \u001b[1;32min\u001b[0m \u001b[0mrange\u001b[0m\u001b[1;33m(\u001b[0m\u001b[0my\u001b[0m\u001b[1;33m-\u001b[0m\u001b[1;36m8\u001b[0m\u001b[1;33m)\u001b[0m\u001b[1;33m:\u001b[0m\u001b[1;33m\u001b[0m\u001b[0m\n\u001b[1;32m----> 3\u001b[1;33m         \u001b[0mz_transform\u001b[0m\u001b[1;33m[\u001b[0m\u001b[0mint\u001b[0m\u001b[1;33m(\u001b[0m\u001b[0mmax_imag_meshgrid_mask\u001b[0m\u001b[1;33m-\u001b[0m\u001b[0mc_meshgrid_mask\u001b[0m\u001b[1;33m[\u001b[0m\u001b[0mi\u001b[0m\u001b[1;33m,\u001b[0m\u001b[0mj\u001b[0m\u001b[1;33m]\u001b[0m\u001b[1;33m.\u001b[0m\u001b[0mimag\u001b[0m\u001b[1;33m)\u001b[0m\u001b[1;33m,\u001b[0m \u001b[0mint\u001b[0m\u001b[1;33m(\u001b[0m\u001b[0mc_meshgrid_mask\u001b[0m\u001b[1;33m[\u001b[0m\u001b[0mi\u001b[0m\u001b[1;33m,\u001b[0m\u001b[0mj\u001b[0m\u001b[1;33m]\u001b[0m\u001b[1;33m.\u001b[0m\u001b[0mreal\u001b[0m\u001b[1;33m-\u001b[0m\u001b[0mmin_real_meshgrid_mask\u001b[0m\u001b[1;33m)\u001b[0m\u001b[1;33m,\u001b[0m\u001b[1;33m:\u001b[0m\u001b[1;33m]\u001b[0m \u001b[1;33m=\u001b[0m \u001b[0mimg\u001b[0m\u001b[1;33m[\u001b[0m\u001b[0mi\u001b[0m\u001b[1;33m,\u001b[0m\u001b[0mj\u001b[0m\u001b[1;33m,\u001b[0m\u001b[1;33m:\u001b[0m\u001b[1;33m]\u001b[0m\u001b[1;33m\u001b[0m\u001b[0m\n\u001b[0m\u001b[0;32m      4\u001b[0m \u001b[1;33m\u001b[0m\u001b[0m\n\u001b[0;32m      5\u001b[0m \u001b[1;31m#   Für Y-Achse => max-y\u001b[0m\u001b[1;33m\u001b[0m\u001b[1;33m\u001b[0m\u001b[0m\n",
      "\u001b[1;31mIndexError\u001b[0m: index 190 is out of bounds for axis 0 with size 190"
     ]
    }
   ],
   "source": [
    "for i in range(x):\n",
    "    for j in range(y):\n",
    "        z_transform[int(max_imag_meshgrid_mask-c_meshgrid_mask[i,j].imag), int(c_meshgrid_mask[i,j].real-min_real_meshgrid_mask),:] = img[i,j,:]\n",
    "        \n",
    "#   Für Y-Achse => max-y\n",
    "#   Für X-Achse => x-min"
   ]
  },
  {
   "cell_type": "code",
   "execution_count": 63,
   "metadata": {},
   "outputs": [
    {
     "data": {
      "text/plain": [
       "<matplotlib.image.AxesImage at 0xe60cf28>"
      ]
     },
     "execution_count": 63,
     "metadata": {},
     "output_type": "execute_result"
    }
   ],
   "source": [
    "plt.figure('transformation')\n",
    "plt.imshow(z_transform/255)"
   ]
  },
  {
   "cell_type": "code",
   "execution_count": 60,
   "metadata": {},
   "outputs": [
    {
     "name": "stdout",
     "output_type": "stream",
     "text": [
      "[[[0. 0. 0.]\n",
      "  [0. 0. 0.]\n",
      "  [0. 0. 0.]\n",
      "  ...\n",
      "  [0. 0. 0.]\n",
      "  [0. 0. 0.]\n",
      "  [0. 0. 0.]]\n",
      "\n",
      " [[0. 0. 0.]\n",
      "  [0. 0. 0.]\n",
      "  [0. 0. 0.]\n",
      "  ...\n",
      "  [0. 0. 0.]\n",
      "  [0. 0. 0.]\n",
      "  [0. 0. 0.]]\n",
      "\n",
      " [[0. 0. 0.]\n",
      "  [0. 0. 0.]\n",
      "  [0. 0. 0.]\n",
      "  ...\n",
      "  [0. 0. 0.]\n",
      "  [0. 0. 0.]\n",
      "  [0. 0. 0.]]\n",
      "\n",
      " ...\n",
      "\n",
      " [[0. 0. 0.]\n",
      "  [0. 0. 0.]\n",
      "  [0. 0. 0.]\n",
      "  ...\n",
      "  [0. 0. 0.]\n",
      "  [0. 0. 0.]\n",
      "  [0. 0. 0.]]\n",
      "\n",
      " [[0. 0. 0.]\n",
      "  [0. 0. 0.]\n",
      "  [0. 0. 0.]\n",
      "  ...\n",
      "  [0. 0. 0.]\n",
      "  [0. 0. 0.]\n",
      "  [0. 0. 0.]]\n",
      "\n",
      " [[0. 0. 0.]\n",
      "  [0. 0. 0.]\n",
      "  [0. 0. 0.]\n",
      "  ...\n",
      "  [0. 0. 0.]\n",
      "  [0. 0. 0.]\n",
      "  [0. 0. 0.]]]\n"
     ]
    }
   ],
   "source": [
    "# print(z_transform)"
   ]
  },
  {
   "cell_type": "code",
   "execution_count": null,
   "metadata": {},
   "outputs": [],
   "source": []
  },
  {
   "cell_type": "code",
   "execution_count": null,
   "metadata": {},
   "outputs": [],
   "source": []
  },
  {
   "cell_type": "code",
   "execution_count": null,
   "metadata": {},
   "outputs": [],
   "source": []
  },
  {
   "cell_type": "code",
   "execution_count": null,
   "metadata": {},
   "outputs": [],
   "source": []
  },
  {
   "cell_type": "code",
   "execution_count": null,
   "metadata": {},
   "outputs": [],
   "source": []
  },
  {
   "cell_type": "code",
   "execution_count": null,
   "metadata": {},
   "outputs": [],
   "source": []
  },
  {
   "cell_type": "code",
   "execution_count": null,
   "metadata": {},
   "outputs": [],
   "source": []
  },
  {
   "cell_type": "code",
   "execution_count": null,
   "metadata": {},
   "outputs": [],
   "source": []
  },
  {
   "cell_type": "code",
   "execution_count": null,
   "metadata": {},
   "outputs": [],
   "source": []
  },
  {
   "cell_type": "code",
   "execution_count": 13,
   "metadata": {},
   "outputs": [
    {
     "name": "stdout",
     "output_type": "stream",
     "text": [
      "[[-91.+91.j -90.+91.j -89.+91.j ...  89.+91.j  90.+91.j  91.+91.j]\n",
      " [-91.+90.j -90.+90.j -89.+90.j ...  89.+90.j  90.+90.j  91.+90.j]\n",
      " [-91.+89.j -90.+89.j -89.+89.j ...  89.+89.j  90.+89.j  91.+89.j]\n",
      " ...\n",
      " [-91.-89.j -90.-89.j -89.-89.j ...  89.-89.j  90.-89.j  91.-89.j]\n",
      " [-91.-90.j -90.-90.j -89.-90.j ...  89.-90.j  90.-90.j  91.-90.j]\n",
      " [-91.-91.j -90.-91.j -89.-91.j ...  89.-91.j  90.-91.j  91.-91.j]]\n"
     ]
    }
   ],
   "source": [
    "pixel_numbers = x\n",
    "x_mesh = np.arange(-1*pixel_numbers+1, pixel_numbers, 1)\n",
    "y_mesh = np.arange(-1*pixel_numbers+1, pixel_numbers, 1)\n",
    "xx, yy = np.meshgrid(x_mesh, np.flip(y_mesh,0), sparse=True)\n",
    "yy = yy*1j\n",
    "complex_meshgrid = (yy+xx)\n",
    "\n",
    "print(complex_meshgrid)"
   ]
  },
  {
   "cell_type": "code",
   "execution_count": 14,
   "metadata": {},
   "outputs": [],
   "source": [
    "max_real_complex_meshgrid = int(np.max(complex_meshgrid.real)+1)\n",
    "max_imag_complex_meshgrid = int(np.max(complex_meshgrid.imag)+1)\n",
    "min_real_complex_meshgrid = int(np.min(complex_meshgrid.real)-1)\n",
    "min_imag_complex_meshgrid = int(np.min(complex_meshgrid.imag)-1)\n",
    "# print(max_real_complex_meshgrid)\n",
    "# print(max_imag_complex_meshgrid)\n",
    "# print(min_real_complex_meshgrid)\n",
    "# print(min_real_complex_meshgrid)\n",
    "size_transform_real = max_real_complex_meshgrid - min_real_complex_meshgrid\n",
    "size_transform_imag = max_imag_complex_meshgrid - min_imag_complex_meshgrid\n",
    "# print(size_transform_real)\n",
    "# print(size_transform_imag)"
   ]
  },
  {
   "cell_type": "code",
   "execution_count": 15,
   "metadata": {},
   "outputs": [],
   "source": [
    "z_transform = np.array(np.empty((size_transform_imag, size_transform_real,3)))\n",
    "z_transform.fill(np.nan) # nan werden später interpoliert"
   ]
  },
  {
   "cell_type": "code",
   "execution_count": 16,
   "metadata": {},
   "outputs": [
    {
     "ename": "IndexError",
     "evalue": "index 32 is out of bounds for axis 1 with size 32",
     "output_type": "error",
     "traceback": [
      "\u001b[1;31m---------------------------------------------------------------------------\u001b[0m",
      "\u001b[1;31mIndexError\u001b[0m                                Traceback (most recent call last)",
      "\u001b[1;32m<ipython-input-16-54bf3b702f9f>\u001b[0m in \u001b[0;36m<module>\u001b[1;34m()\u001b[0m\n\u001b[0;32m      5\u001b[0m         \u001b[0mtmp_imag\u001b[0m \u001b[1;33m=\u001b[0m \u001b[0mint\u001b[0m\u001b[1;33m(\u001b[0m\u001b[0mcomplex_meshgrid\u001b[0m\u001b[1;33m[\u001b[0m\u001b[0mi\u001b[0m\u001b[1;33m,\u001b[0m\u001b[0mj\u001b[0m\u001b[1;33m]\u001b[0m\u001b[1;33m.\u001b[0m\u001b[0mimag\u001b[0m \u001b[1;33m-\u001b[0m \u001b[0mmin_imag_complex_meshgrid\u001b[0m\u001b[1;33m)\u001b[0m\u001b[1;33m\u001b[0m\u001b[0m\n\u001b[0;32m      6\u001b[0m \u001b[1;31m#         print(tmp_imag)\u001b[0m\u001b[1;33m\u001b[0m\u001b[1;33m\u001b[0m\u001b[0m\n\u001b[1;32m----> 7\u001b[1;33m         \u001b[0mz_transform\u001b[0m\u001b[1;33m[\u001b[0m\u001b[0mtmp_imag\u001b[0m\u001b[1;33m,\u001b[0m \u001b[0mtmp_real\u001b[0m\u001b[1;33m]\u001b[0m \u001b[1;33m=\u001b[0m \u001b[0mimg\u001b[0m\u001b[1;33m[\u001b[0m\u001b[0mi\u001b[0m\u001b[1;33m,\u001b[0m\u001b[0mj\u001b[0m\u001b[1;33m]\u001b[0m\u001b[1;33m\u001b[0m\u001b[0m\n\u001b[0m",
      "\u001b[1;31mIndexError\u001b[0m: index 32 is out of bounds for axis 1 with size 32"
     ]
    }
   ],
   "source": [
    "for i in range(pixel_numbers):\n",
    "    for j in range(pixel_numbers):\n",
    "        tmp_real = int(complex_meshgrid[i,j].real - min_real_complex_meshgrid)\n",
    "#         print(tmp_real)\n",
    "        tmp_imag = int(complex_meshgrid[i,j].imag - min_imag_complex_meshgrid)\n",
    "#         print(tmp_imag)\n",
    "        z_transform[tmp_imag, tmp_real] = img[i,j] "
   ]
  },
  {
   "cell_type": "code",
   "execution_count": 17,
   "metadata": {},
   "outputs": [
    {
     "data": {
      "text/plain": [
       "91"
      ]
     },
     "execution_count": 17,
     "metadata": {},
     "output_type": "execute_result"
    }
   ],
   "source": [
    "int(complex_meshgrid[0,0].imag)"
   ]
  },
  {
   "cell_type": "code",
   "execution_count": 18,
   "metadata": {},
   "outputs": [
    {
     "data": {
      "text/plain": [
       "<matplotlib.image.AxesImage at 0xf2c7940>"
      ]
     },
     "execution_count": 18,
     "metadata": {},
     "output_type": "execute_result"
    }
   ],
   "source": [
    "plt.figure('z transform')\n",
    "plt.imshow(z_transform)"
   ]
  },
  {
   "cell_type": "code",
   "execution_count": 32,
   "metadata": {},
   "outputs": [
    {
     "name": "stderr",
     "output_type": "stream",
     "text": [
      "C:\\Users\\User\\Anaconda3\\lib\\site-packages\\ipykernel_launcher.py:2: RuntimeWarning: invalid value encountered in greater\n",
      "  \n"
     ]
    }
   ],
   "source": [
    "z_transform_mask = deepcopy(z_transform)\n",
    "z_transform_mask[z_transform_mask>0] = 0\n",
    "where_are_NaNs = np.isnan(z_transform)\n",
    "z_transform_mask[where_are_NaNs] = 255\n",
    "# print(z_transform)\n",
    "z_transform[where_are_NaNs] = 0"
   ]
  },
  {
   "cell_type": "code",
   "execution_count": 183,
   "metadata": {},
   "outputs": [],
   "source": [
    "# cv2.inpaint benötigt arrays vom typ uint8\n",
    "# print(z_transform_mask.dtype)\n",
    "# print(z_transform.dtype)\n",
    "\n",
    "mask = np.uint8(z_transform_mask)\n",
    "img = np.uint8(z_transform)\n",
    "\n",
    "# print(mask.dtype)\n",
    "# print(img.dtype)\n",
    "\n",
    "dst_TELEA = cv2.inpaint(img, mask[:,:,0], 3, cv2.INPAINT_TELEA)\n",
    "dst_NS = cv2.inpaint(img, mask[:,:,0], 3, cv2.INPAINT_NS)"
   ]
  },
  {
   "cell_type": "code",
   "execution_count": 184,
   "metadata": {},
   "outputs": [
    {
     "data": {
      "text/plain": [
       "<matplotlib.image.AxesImage at 0xa1574a8>"
      ]
     },
     "execution_count": 184,
     "metadata": {},
     "output_type": "execute_result"
    }
   ],
   "source": [
    "plt.figure('dst_NS')\n",
    "plt.imshow(dst_NS/255)"
   ]
  },
  {
   "cell_type": "code",
   "execution_count": 9,
   "metadata": {},
   "outputs": [
    {
     "data": {
      "text/plain": [
       "0.0015926529164868282"
      ]
     },
     "execution_count": 9,
     "metadata": {},
     "output_type": "execute_result"
    }
   ],
   "source": []
  },
  {
   "cell_type": "code",
   "execution_count": 33,
   "metadata": {},
   "outputs": [
    {
     "name": "stdout",
     "output_type": "stream",
     "text": [
      "C:/Users/User/Desktop/Laederach/Labels/single_bmp/\n",
      "['20181027_Haselnuss.bmp', '20181027_Haselnuss_choco.bmp']\n",
      "2\n",
      "266 380 3\n"
     ]
    }
   ],
   "source": [
    "\n",
    "\n",
    "\n",
    "import os\n",
    "import numpy as np\n",
    "import matplotlib.pyplot as plt\n",
    "from PIL import Image\n",
    "import random\n",
    "import copy\n",
    "import matplotlib.colors as c \n",
    "import time\n",
    "\n",
    "\n",
    "\n",
    "# Befehl muss zweimal ausgeführt werden (komisch)\n",
    "%matplotlib qt\n",
    "%matplotlib qt\n",
    "plt.close('all')\n",
    "\n",
    "\n",
    "\n",
    "path_folder = 'C:/Users/User/Desktop/Laederach/Labels/single_bmp/' # Image path\n",
    "r = [100,125]\n",
    "rg_variation = [9, 30]\n",
    "gb_variation = [-70, -50]\n",
    "variation = 10\n",
    "\n",
    "\n",
    "path_folder, dirs, files = next(os.walk(path_folder))\n",
    "number_images = len(files)\n",
    "\n",
    "print(path_folder)\n",
    "print(files)\n",
    "print(number_images)\n",
    "\n",
    "\n",
    "\n",
    "\n",
    "\n",
    "with Image.open(path_folder + files[1]) as file:\n",
    "    img = np.array(file)\n",
    "    plt.figure(files[1])\n",
    "    plt.imshow(img/255)\n",
    "\n",
    "x,y,z = img.shape\n",
    "print(x,y,z)\n",
    "\n"
   ]
  },
  {
   "cell_type": "code",
   "execution_count": 34,
   "metadata": {},
   "outputs": [
    {
     "name": "stdout",
     "output_type": "stream",
     "text": [
      "[[[255 255 255]\n",
      "  [255 255 255]\n",
      "  [255 255 255]\n",
      "  ...\n",
      "  [255 255 255]\n",
      "  [255 255 255]\n",
      "  [255 255 255]]\n",
      "\n",
      " [[255 255 255]\n",
      "  [255 255 255]\n",
      "  [255 255 255]\n",
      "  ...\n",
      "  [255 255 255]\n",
      "  [255 255 255]\n",
      "  [255 255 255]]\n",
      "\n",
      " [[255 255 255]\n",
      "  [255 255 255]\n",
      "  [255 255 255]\n",
      "  ...\n",
      "  [255 255 255]\n",
      "  [255 255 255]\n",
      "  [255 255 255]]\n",
      "\n",
      " ...\n",
      "\n",
      " [[255 255 255]\n",
      "  [255 255 255]\n",
      "  [255 255 255]\n",
      "  ...\n",
      "  [100  98  99]\n",
      "  [255 255 255]\n",
      "  [255 255 255]]\n",
      "\n",
      " [[255 255 255]\n",
      "  [255 255 255]\n",
      "  [255 255 255]\n",
      "  ...\n",
      "  [241 241 241]\n",
      "  [255 255 255]\n",
      "  [255 255 255]]\n",
      "\n",
      " [[255 255 255]\n",
      "  [255 255 255]\n",
      "  [255 255 255]\n",
      "  ...\n",
      "  [255 255 255]\n",
      "  [255 255 255]\n",
      "  [255 255 255]]]\n"
     ]
    }
   ],
   "source": [
    "print(img)"
   ]
  },
  {
   "cell_type": "code",
   "execution_count": null,
   "metadata": {},
   "outputs": [],
   "source": []
  }
 ],
 "metadata": {
  "kernelspec": {
   "display_name": "Python 3",
   "language": "python",
   "name": "python3"
  },
  "language_info": {
   "codemirror_mode": {
    "name": "ipython",
    "version": 3
   },
   "file_extension": ".py",
   "mimetype": "text/x-python",
   "name": "python",
   "nbconvert_exporter": "python",
   "pygments_lexer": "ipython3",
   "version": "3.6.4"
  }
 },
 "nbformat": 4,
 "nbformat_minor": 2
}
