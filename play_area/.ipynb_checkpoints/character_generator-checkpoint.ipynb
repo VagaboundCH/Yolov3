{
 "cells": [
  {
   "cell_type": "code",
   "execution_count": 8,
   "metadata": {},
   "outputs": [],
   "source": [
    "from PIL import Image, ImageDraw, ImageFont  \n",
    "import numpy as np\n",
    "import matplotlib.pyplot as plt\n",
    "from copy import copy, deepcopy\n",
    "from scipy import interpolate\n",
    "import cv2 \n",
    "from scipy.integrate import quad\n",
    "from scipy.misc import derivative\n",
    "import sympy as sp\n",
    "import math\n",
    "from math import sqrt, pi\n",
    "# from scipy import integrate\n",
    "from sympy import integrate, Symbol \n",
    "import scipy.integrate as spi\n",
    "import Augmentor as Aug\n",
    "import os\n",
    "import shutil\n",
    "import time\n",
    "import import_ipynb # pip install import-ipynb # https://stackoverflow.com/questions/20186344/ipynb-import-another-ipynb-file\n",
    "# import Operations # file operation.ipynb # https://github.com/mdbloice/Augmentor/tree/master/Augmentor\n",
    "# import Pipeline"
   ]
  },
  {
   "cell_type": "code",
   "execution_count": 2,
   "metadata": {},
   "outputs": [],
   "source": [
    "# Parameters\n",
    "font_type = 'C:/Windows/Fonts/Calibri/calibrib.ttf'\n",
    "font_size = 49 # 49\n",
    "character = 'A'\n",
    "threshold_binarisation = 100"
   ]
  },
  {
   "cell_type": "code",
   "execution_count": 3,
   "metadata": {},
   "outputs": [],
   "source": [
    "# Befehl muss zweimal ausgeführt werden (komisch)\n",
    "%matplotlib qt\n",
    "%matplotlib qt"
   ]
  },
  {
   "cell_type": "code",
   "execution_count": 4,
   "metadata": {},
   "outputs": [
    {
     "name": "stdout",
     "output_type": "stream",
     "text": [
      "<class 'numpy.ndarray'>\n",
      "21 26 28 31\n",
      "84 86\n",
      "<class 'numpy.ndarray'>\n"
     ]
    }
   ],
   "source": [
    "plt.close('all')\n",
    "size_y, size_x = 200, 200\n",
    "img = Image.new('RGB', (size_y, size_x), color = (0, 0, 0))   # (50,50)  \n",
    "fnt = ImageFont.truetype(font_type, font_size)\n",
    "d = ImageDraw.Draw(img)\n",
    "d.text((20,20), character, font=fnt, fill=(255, 255, 255))\n",
    "# img.show() \n",
    "# img.save('pil_text_font.bmp')\n",
    "img = np.array(img)\n",
    "plt.figure('img')\n",
    "plt.imshow(img)\n",
    "x,y,z = np.shape(img)\n",
    "# print(x,y,z)\n",
    "img[img<threshold_binarisation] = 0\n",
    "plt.figure('binarised')\n",
    "plt.imshow(img)\n",
    "print(type(img))\n",
    "\n",
    "x, y, w, h = cv2.boundingRect(img[:,:,0])\n",
    "print(x, y, w, h)\n",
    "x_min = x-1\n",
    "y_min = y-1\n",
    "x_max = x+w\n",
    "y_max = y+h\n",
    "\n",
    "y_position = int((size_y-h)/2)\n",
    "x_position = int((size_x-w)/2)\n",
    "print(y_position,x_position)\n",
    "\n",
    "img_centered = Image.new('RGB', (size_y, size_x), color = (0, 0, 0))   # (50,50)  \n",
    "fnt = ImageFont.truetype(font_type, font_size)\n",
    "d_centered = ImageDraw.Draw(img_centered)\n",
    "d_centered.text((x_position,y_position-5), character, font=fnt, fill=(255, 255, 255))\n",
    "# img.show() \n",
    "# img.save('pil_text_font.bmp')\n",
    "img_centered = np.array(img_centered)\n",
    "plt.figure('img_centered')\n",
    "plt.imshow(img_centered)\n",
    "\n",
    "img_centered_binarised = deepcopy(img_centered)\n",
    "img_centered_binarised[img_centered_binarised<threshold_binarisation] = 0\n",
    "img_centered_binarised[img_centered_binarised>=threshold_binarisation] = 255\n",
    "\n",
    "plt.figure('img_center_binarised')\n",
    "plt.imshow(img_centered_binarised)\n",
    "print(type(img_centered_binarised))\n",
    "\n",
    "   \n",
    "img_inverted = np.abs(img_centered_binarised-255)*255\n",
    "plt.figure('img_inverted')\n",
    "plt.imshow(img_inverted)\n",
    "\n",
    "img_size_uint8 = Image.fromarray(np.uint8(img_inverted))\n",
    "img_size_uint8.save('C:/Users/User/Desktop/test/generateImages/' + 'test.bmp')\n",
    "\n"
   ]
  },
  {
   "cell_type": "code",
   "execution_count": 5,
   "metadata": {},
   "outputs": [],
   "source": [
    "def image_rect(img):\n",
    "    img_rect = deepcopy(img)\n",
    "    x, y, w, h = cv2.boundingRect(img_rect[:,:,0])\n",
    "    # print(x, y, w, h)\n",
    "    x_min = x-1\n",
    "    y_min = y-1\n",
    "    x_max = x+w\n",
    "    y_max = y+h\n",
    "    cv2.rectangle(img_rect, (x_min, y_min), (x_max, y_max), (0, 255, 0), 0)   # img wird überschrieben\n",
    "    img_without_boundary = img_rect[y:y_max, x:x_max, :]\n",
    "    return img_without_boundary"
   ]
  },
  {
   "cell_type": "code",
   "execution_count": 6,
   "metadata": {},
   "outputs": [
    {
     "data": {
      "text/plain": [
       "<matplotlib.image.AxesImage at 0xfe2b320>"
      ]
     },
     "execution_count": 6,
     "metadata": {},
     "output_type": "execute_result"
    }
   ],
   "source": [
    "# img.astype(np.float32)\n",
    "# img.astype(np.uint8)\n",
    "# get the bounding rect\n",
    "img_rect = deepcopy(img)\n",
    "x, y, w, h = cv2.boundingRect(img_rect[:,:,0])\n",
    "# print(x, y, w, h)\n",
    "x_min = x-1\n",
    "y_min = y-1\n",
    "x_max = x+w\n",
    "y_max = y+h\n",
    "cv2.rectangle(img_rect, (x_min, y_min), (x_max, y_max), (0, 255, 0), 0)   # img wird überschrieben\n",
    "plt.figure('img_rect')\n",
    "plt.imshow(img_rect/255)"
   ]
  },
  {
   "cell_type": "code",
   "execution_count": 7,
   "metadata": {},
   "outputs": [
    {
     "data": {
      "text/plain": [
       "<matplotlib.image.AxesImage at 0xfe58cc0>"
      ]
     },
     "execution_count": 7,
     "metadata": {},
     "output_type": "execute_result"
    }
   ],
   "source": [
    "img_without_boundary = img_rect[y:y_max, x:x_max,:]\n",
    "plt.figure('img_without_boundary')\n",
    "plt.imshow(img_without_boundary/255)"
   ]
  },
  {
   "cell_type": "code",
   "execution_count": 8,
   "metadata": {
    "scrolled": true
   },
   "outputs": [],
   "source": [
    "# print(img_without_boundary)\n",
    "y_img_without_boundary, x_img_without_boundary, z_img_without_boundary = np.shape(img_without_boundary)\n",
    "# print(y_img_without_boundary, x_img_without_boundary, z_img_without_boundary)"
   ]
  },
  {
   "cell_type": "code",
   "execution_count": 9,
   "metadata": {
    "scrolled": true
   },
   "outputs": [],
   "source": [
    "tmp_x_min = int(-1*x_img_without_boundary/2)\n",
    "tmp_x_max = int(np.ceil(x_img_without_boundary/2))\n",
    "tmp_y_min = int(-1*y_img_without_boundary/2)\n",
    "tmp_y_max = int(np.ceil(y_img_without_boundary/2))\n",
    "# print(tmp_x_min)\n",
    "# print(tmp_x_max)\n",
    "# print(tmp_y_min)\n",
    "# print(tmp_y_max)\n",
    "x_mesh = np.arange(tmp_x_min, tmp_x_max, 1)\n",
    "y_mesh = np.arange(tmp_y_min, tmp_y_max, 1)\n",
    "# print(x_mesh)\n",
    "# print(y_mesh)\n",
    "xx, yy = np.meshgrid(x_mesh, np.flip(y_mesh,0), sparse=True)\n",
    "yy = yy*1j\n",
    "z = (yy+xx)\n",
    "# print(z)\n",
    "q = np.pi/180\n",
    "c_meshgrid = 0.5*z.imag*1j + 2*z.real  # (z*np.cos(q)-np.sin(q)) / (z*np.sin(q)+np.cos(q*5))\n",
    "# print(c_meshgrid)\n",
    "y_meshgrid, x_meshgrid = c_meshgrid.shape\n",
    "# print(y_meshgrid, x_meshgrid)\n",
    "# c_meshgrid_reshape = c_meshgrid.reshape((y_meshgrid,x_meshgrid,1))"
   ]
  },
  {
   "cell_type": "code",
   "execution_count": 10,
   "metadata": {},
   "outputs": [],
   "source": [
    "c_meshgrid_mask = deepcopy(c_meshgrid)\n",
    "max_real_meshgrid_mask = int(np.max(c_meshgrid_mask.real))\n",
    "max_imag_meshgrid_mask = int(np.max(c_meshgrid_mask.imag))\n",
    "min_real_meshgrid_mask = int(np.min(c_meshgrid_mask.real))\n",
    "min_imag_meshgrid_mask = int(np.min(c_meshgrid_mask.imag))\n",
    "# print(max_real_meshgrid_mask)\n",
    "# print(max_imag_meshgrid_mask)\n",
    "# print(min_real_meshgrid_mask)\n",
    "# print(min_imag_meshgrid_mask)\n",
    "# print(c_meshgrid_mask.shape)"
   ]
  },
  {
   "cell_type": "code",
   "execution_count": 11,
   "metadata": {},
   "outputs": [],
   "source": [
    "z_transform = np.array(np.zeros((max_imag_meshgrid_mask+1-min_imag_meshgrid_mask, max_real_meshgrid_mask-min_real_meshgrid_mask+1, 3)))\n",
    "y_z_transform, x_z_transform, z_z_transform = z_transform.shape\n",
    "# print(z_transform)\n",
    "# print(y_z_transform, x_z_transform, z_z_transform)"
   ]
  },
  {
   "cell_type": "code",
   "execution_count": 12,
   "metadata": {},
   "outputs": [],
   "source": [
    "for i in range(y_meshgrid):\n",
    "    for j in range(x_meshgrid):\n",
    "        for k in range(3):\n",
    "            z_transform[int(max_imag_meshgrid_mask-c_meshgrid_mask[i,j].imag), int(c_meshgrid_mask[i,j].real-min_real_meshgrid_mask),:] = img_without_boundary[i,j,k]\n",
    "        \n",
    "#   Für Y-Achse => max-y\n",
    "#   Für X-Achse => x-min"
   ]
  },
  {
   "cell_type": "code",
   "execution_count": 13,
   "metadata": {},
   "outputs": [
    {
     "name": "stdout",
     "output_type": "stream",
     "text": [
      "(15, 55, 3)\n",
      "(31, 28, 3)\n"
     ]
    }
   ],
   "source": [
    "print(z_transform.shape)\n",
    "print(img_without_boundary.shape)"
   ]
  },
  {
   "cell_type": "code",
   "execution_count": 14,
   "metadata": {},
   "outputs": [
    {
     "data": {
      "text/plain": [
       "<matplotlib.image.AxesImage at 0x10085e10>"
      ]
     },
     "execution_count": 14,
     "metadata": {},
     "output_type": "execute_result"
    }
   ],
   "source": [
    "plt.figure('transformation')\n",
    "plt.imshow(z_transform/255)"
   ]
  },
  {
   "cell_type": "markdown",
   "metadata": {},
   "source": [
    "# Without complex numbers <br>"
   ]
  },
  {
   "cell_type": "code",
   "execution_count": null,
   "metadata": {},
   "outputs": [],
   "source": [
    "plt.figure('img_without_boundary')\n",
    "plt.imshow(img_without_boundary/255)\n",
    "y_img, x_img, z_img = img_without_boundary.shape\n",
    "print(y_img, x_img, z_img)"
   ]
  },
  {
   "cell_type": "code",
   "execution_count": null,
   "metadata": {},
   "outputs": [],
   "source": [
    "# setting the x - coordinates \n",
    "x_plot = np.arange(-1*x_img/2, x_img/2 , 0.1) \n",
    "# print(x_plot)\n",
    "# setting the corresponding y - coordinates \n",
    "# potting the points \n",
    "f_plot = x_plot\n",
    "plt.figure('plot')\n",
    "plt.plot(x_plot, f_plot)\n",
    "plt.grid(True)\n",
    "# function to show the plot \n",
    "plt.show() "
   ]
  },
  {
   "cell_type": "code",
   "execution_count": null,
   "metadata": {},
   "outputs": [],
   "source": [
    "import scipy.integrate as integrate\n",
    "x = sp.Symbol('x')  \n",
    "f = x**2\n",
    "# shift half pixel to the right \n",
    "f_derviate = sp.diff(f) \n",
    "print(type(f_derviate)) \n",
    "# func = sp.Symbol(str(f_derviate))\n",
    "func = f_derviate\n",
    "print(func)\n",
    "print(type(func))\n",
    "\n",
    "u = np.zeros((10, 3), dtype=sp.Symbol)\n",
    "\n",
    "def get_function(x):\n",
    "    return x\n",
    "\n",
    "tmp = integrate.quad(lambda x: sp.Symbol('f_derviate'),0,1)\n",
    "print(type(tmp))"
   ]
  },
  {
   "cell_type": "code",
   "execution_count": null,
   "metadata": {},
   "outputs": [],
   "source": [
    "# https://www.youtube.com/watch?v=QAqadzwo19Q\n",
    "# a = quad(lambda x: sqrt(x**2+1),0,5)\n",
    "# print(type(x))\n",
    "# print(a)\n",
    "# print(type(float(a[0])))"
   ]
  },
  {
   "cell_type": "code",
   "execution_count": null,
   "metadata": {},
   "outputs": [],
   "source": [
    "index = np.array(np.zeros((1,40)))\n",
    "for i in range(0,math.ceil(x_img/2)):\n",
    "    function = lambda x: d\n",
    "    tmp = quad(get_function(x),0,2)\n",
    "    \n",
    "    \n",
    "#     index[0,i] = round(float(tmp[0]))\n",
    "#     print(index[0,i])\n",
    "#     if index[0,i] >= math.ceil(x_img/2):\n",
    "#         break\n",
    "\n",
    "#     print(index[0,i])\n",
    "#     print(type(index[0,0]))\n",
    "\n",
    "print(tmp[0])"
   ]
  },
  {
   "cell_type": "code",
   "execution_count": null,
   "metadata": {},
   "outputs": [],
   "source": [
    "max_value = i-1 \n",
    "print(max_value)\n",
    "print(x_img/2)"
   ]
  },
  {
   "cell_type": "code",
   "execution_count": null,
   "metadata": {},
   "outputs": [],
   "source": [
    "empty_field = np.array(np.zeros((y_img, x_img, z_img)))\n",
    "print(empty_field.shape)\n",
    "for i in range(0,y_img):\n",
    "    for j in range(0,2*max_value):\n",
    "        for z in range(0,z_img):\n",
    "            l = math.floor(j-max_value)\n",
    "#             print(l)\n",
    "            tmp = quad(lambda x: sqrt(x**2+1),0,l)\n",
    "            tmp = round(tmp[0])\n",
    "            print(tmp)\n",
    "#             print(j)\n",
    "            if img_without_boundary[i,j,z] > 0:\n",
    "                    empty_field[i,tmp+max_value,z] = img_without_boundary[i,j,z]\n",
    "plt.figure('after_transforamtion')\n",
    "plt.imshow(empty_field/255)"
   ]
  },
  {
   "cell_type": "code",
   "execution_count": null,
   "metadata": {},
   "outputs": [],
   "source": [
    "b = np.array([0, 1, 2, 3, 4, 5, 6, 7, 8, 9])\n",
    "b[1:7:2]\n",
    "np.array([1, 3, 5])\n",
    "b[-2:10]\n",
    "np.array([8, 9])\n",
    "b[-3:3:-1]\n",
    "np.array([7, 6, 5, 4])"
   ]
  },
  {
   "cell_type": "code",
   "execution_count": null,
   "metadata": {},
   "outputs": [],
   "source": [
    "print(img_without_boundary[:,i,:])"
   ]
  },
  {
   "cell_type": "code",
   "execution_count": null,
   "metadata": {},
   "outputs": [],
   "source": [
    "# https://www.math.ubc.ca/~pwalls/math-python/differentiation/#arc-length\n",
    "def arc_length(f,a,b,h=0.001,N=1000):\n",
    "    '''Approximate the ac length of y=f(x) from x=a to x=b.\n",
    "\n",
    "    Parameters\n",
    "    ----------\n",
    "    f : (vectorized) function of one variable\n",
    "    a,b : numbers defining the interval [a,b]\n",
    "    h : step size to use in difference formulas\n",
    "    N : number of subintervals in trapezoid method\n",
    "\n",
    "    Returns\n",
    "    -------\n",
    "    Approximation of the integral \\int_a^b \\sqrt{1 + (f'(x))^2} dx\n",
    "    representing the arc length of y=f(x) from x=a to x=b.\n",
    "    '''\n",
    "    x = np.linspace(a,b,N+1)\n",
    "    y = f(x)\n",
    "\n",
    "    # Compute central difference formula for x_k for 1 <= k <= N-1\n",
    "    h = np.min([h,(b-a)/N]) # Make sure that h is smaller than the size of the subintervals\n",
    "    x_interior = x[1:-1]\n",
    "    df_interior = (f(x_interior + h) - f(x_interior - h))/(2*h)\n",
    "\n",
    "    # Use forward/backward difference formula at the endpoints\n",
    "    df_a = (f(a + h) - f(a))/h\n",
    "    df_b = (f(b) - f(b - h))/h\n",
    "    df = np.hstack([[df_a],df_interior,[df_b]])\n",
    "\n",
    "    # Compute values of the integrand in arc length formula\n",
    "    y = np.sqrt(1 + df**2)\n",
    "\n",
    "    # Compute the integral\n",
    "    L = spi.trapz(y,x)\n",
    "\n",
    "    return L"
   ]
  },
  {
   "cell_type": "code",
   "execution_count": null,
   "metadata": {},
   "outputs": [],
   "source": [
    "a = 1\n",
    "result = arc_length(lambda x: a*x**2,0,1,h=10**(-10),N=10**5)\n",
    "print(result)"
   ]
  },
  {
   "cell_type": "code",
   "execution_count": null,
   "metadata": {},
   "outputs": [],
   "source": [
    "def function(x)\n",
    "    return x**2"
   ]
  },
  {
   "cell_type": "code",
   "execution_count": null,
   "metadata": {},
   "outputs": [],
   "source": [
    "import numpy as np\n",
    "import matplotlib.pyplot as plt\n",
    "import matplotlib.animation as animation\n",
    "\n",
    "# Fixing random state for reproducibility\n",
    "np.random.seed(123456789)\n",
    "y_max = 50\n",
    "\n",
    "fig, ax = plt.subplots()\n",
    "line, = ax.plot(np.random.rand(y_max))\n",
    "ax.set_ylim(0, 1)\n",
    "\n",
    "\n",
    "def update(data):\n",
    "    line.set_ydata(data)\n",
    "    return line,\n",
    "\n",
    "\n",
    "def data_gen():\n",
    "    while True:\n",
    "        yield np.random.rand(y_max)\n",
    "\n",
    "ani = animation.FuncAnimation(fig, update, data_gen, interval=100)\n",
    "plt.show()"
   ]
  },
  {
   "cell_type": "markdown",
   "metadata": {},
   "source": [
    "# Transformation from internet modified <br>"
   ]
  },
  {
   "cell_type": "code",
   "execution_count": 12,
   "metadata": {},
   "outputs": [
    {
     "name": "stdout",
     "output_type": "stream",
     "text": [
      "C:/Users/Vagabound/Desktop/Test/GeneratedData/\n",
      "['BackgroundImages', 'DistortedImages', 'FinalImages', 'InitalImages', 'SegmentedImages', 'TailoredImages', 'TempFolder', 'XML_Files']\n",
      "[]\n",
      "8\n",
      "0\n"
     ]
    },
    {
     "ename": "StopIteration",
     "evalue": "",
     "output_type": "error",
     "traceback": [
      "\u001b[1;31m---------------------------------------------------------------------------\u001b[0m",
      "\u001b[1;31mStopIteration\u001b[0m                             Traceback (most recent call last)",
      "\u001b[1;32m<ipython-input-12-50fa40197fbf>\u001b[0m in \u001b[0;36m<module>\u001b[1;34m()\u001b[0m\n\u001b[0;32m     10\u001b[0m \u001b[1;33m\u001b[0m\u001b[0m\n\u001b[0;32m     11\u001b[0m \u001b[0mpath_output\u001b[0m \u001b[1;33m=\u001b[0m \u001b[0mpath_folder\u001b[0m \u001b[1;33m+\u001b[0m \u001b[1;34m'output/'\u001b[0m \u001b[1;31m# Bilder Pfad\u001b[0m\u001b[1;33m\u001b[0m\u001b[0m\n\u001b[1;32m---> 12\u001b[1;33m \u001b[0mpath_output\u001b[0m\u001b[1;33m,\u001b[0m \u001b[0mdirs\u001b[0m\u001b[1;33m,\u001b[0m \u001b[0moutput_figles\u001b[0m \u001b[1;33m=\u001b[0m \u001b[0mnext\u001b[0m\u001b[1;33m(\u001b[0m\u001b[0mos\u001b[0m\u001b[1;33m.\u001b[0m\u001b[0mwalk\u001b[0m\u001b[1;33m(\u001b[0m\u001b[0mpath_output\u001b[0m\u001b[1;33m)\u001b[0m\u001b[1;33m)\u001b[0m\u001b[1;33m\u001b[0m\u001b[0m\n\u001b[0m\u001b[0;32m     13\u001b[0m \u001b[0moutput_number_images\u001b[0m \u001b[1;33m=\u001b[0m \u001b[0mlen\u001b[0m\u001b[1;33m(\u001b[0m\u001b[0mfiles\u001b[0m\u001b[1;33m)\u001b[0m\u001b[1;33m\u001b[0m\u001b[0m\n\u001b[0;32m     14\u001b[0m \u001b[0mprint\u001b[0m\u001b[1;33m(\u001b[0m\u001b[0mpath_output\u001b[0m\u001b[1;33m)\u001b[0m\u001b[1;33m\u001b[0m\u001b[0m\n",
      "\u001b[1;31mStopIteration\u001b[0m: "
     ]
    }
   ],
   "source": [
    "path_folder = 'C:/Users/Vagabound/Desktop/Test/GeneratedData/' # Bilder Pfad\n",
    "path_folder, dirs, files = next(os.walk(path_folder))\n",
    "number_images = len(files)\n",
    "# save_folder = 'C:/Users/User/Desktop/test/Augmentor/GenerateImages/'\n",
    "print(path_folder)\n",
    "print(dirs)\n",
    "print(files)\n",
    "print(len(dirs))\n",
    "print(number_images)\n",
    "\n",
    "path_output = path_folder + 'output/' # Bilder Pfad\n",
    "path_output, dirs, output_figles = next(os.walk(path_output))\n",
    "output_number_images = len(files)\n",
    "print(path_output)\n",
    "print(output_number_images)\n",
    "print(output_files)"
   ]
  },
  {
   "cell_type": "code",
   "execution_count": 35,
   "metadata": {},
   "outputs": [
    {
     "name": "stdout",
     "output_type": "stream",
     "text": [
      "Initialised with 1 image(s) found.\n",
      "Output directory set to C:/Users/User/Desktop/test/generateImages/output."
     ]
    },
    {
     "name": "stderr",
     "output_type": "stream",
     "text": [
      "Processing <PIL.Image.Image image mode=RGB size=200x200 at 0xC14EC50>: 100%|█| 1/1 [00:00<00:00, 40.00 Samples/s]\n"
     ]
    },
    {
     "name": "stdout",
     "output_type": "stream",
     "text": [
      "Initialised with 1 image(s) found.\n",
      "Output directory set to C:/Users/User/Desktop/test/generateImages/output."
     ]
    },
    {
     "name": "stderr",
     "output_type": "stream",
     "text": [
      "Processing <PIL.Image.Image image mode=RGB size=200x200 at 0xC14EAC8>: 100%|█| 1/1 [00:00<00:00, 71.42 Samples/s]\n"
     ]
    },
    {
     "name": "stdout",
     "output_type": "stream",
     "text": [
      "Initialised with 1 image(s) found.\n",
      "Output directory set to C:/Users/User/Desktop/test/generateImages/output."
     ]
    },
    {
     "name": "stderr",
     "output_type": "stream",
     "text": [
      "Processing <PIL.Image.Image image mode=RGB size=200x200 at 0xC14E9E8>: 100%|█| 1/1 [00:00<00:00, 35.71 Samples/s]\n"
     ]
    },
    {
     "name": "stdout",
     "output_type": "stream",
     "text": [
      "Initialised with 1 image(s) found.\n",
      "Output directory set to C:/Users/User/Desktop/test/generateImages/output."
     ]
    },
    {
     "name": "stderr",
     "output_type": "stream",
     "text": [
      "Processing <PIL.Image.Image image mode=RGB size=200x200 at 0xC14EC88>: 100%|█| 1/1 [00:00<00:00, 40.00 Samples/s]\n"
     ]
    },
    {
     "name": "stdout",
     "output_type": "stream",
     "text": [
      "Initialised with 1 image(s) found.\n",
      "Output directory set to C:/Users/User/Desktop/test/generateImages/output."
     ]
    },
    {
     "name": "stderr",
     "output_type": "stream",
     "text": [
      "Processing <PIL.Image.Image image mode=RGB size=200x200 at 0xC14EBE0>: 100%|█| 1/1 [00:00<00:00, 40.00 Samples/s]\n"
     ]
    },
    {
     "name": "stdout",
     "output_type": "stream",
     "text": [
      "Initialised with 1 image(s) found.\n",
      "Output directory set to C:/Users/User/Desktop/test/generateImages/output."
     ]
    },
    {
     "name": "stderr",
     "output_type": "stream",
     "text": [
      "Processing <PIL.Image.Image image mode=RGB size=200x200 at 0xC14E898>: 100%|█| 1/1 [00:00<00:00, 22.22 Samples/s]\n"
     ]
    },
    {
     "name": "stdout",
     "output_type": "stream",
     "text": [
      "Initialised with 1 image(s) found.\n",
      "Output directory set to C:/Users/User/Desktop/test/generateImages/output."
     ]
    },
    {
     "name": "stderr",
     "output_type": "stream",
     "text": [
      "Processing <PIL.Image.Image image mode=RGB size=200x200 at 0xC14EBA8>: 100%|█| 1/1 [00:00<00:00, 43.48 Samples/s]\n"
     ]
    },
    {
     "name": "stdout",
     "output_type": "stream",
     "text": [
      "Initialised with 1 image(s) found.\n",
      "Output directory set to C:/Users/User/Desktop/test/generateImages/output."
     ]
    },
    {
     "name": "stderr",
     "output_type": "stream",
     "text": [
      "Processing <PIL.Image.Image image mode=RGB size=200x200 at 0xC14EB70>: 100%|█| 1/1 [00:00<00:00, 32.26 Samples/s]\n"
     ]
    },
    {
     "name": "stdout",
     "output_type": "stream",
     "text": [
      "Initialised with 1 image(s) found.\n",
      "Output directory set to C:/Users/User/Desktop/test/generateImages/output."
     ]
    },
    {
     "name": "stderr",
     "output_type": "stream",
     "text": [
      "Processing <PIL.Image.Image image mode=RGB size=200x200 at 0xC14EC50>: 100%|█| 1/1 [00:00<00:00, 20.41 Samples/s]\n"
     ]
    },
    {
     "name": "stdout",
     "output_type": "stream",
     "text": [
      "Initialised with 1 image(s) found.\n",
      "Output directory set to C:/Users/User/Desktop/test/generateImages/output."
     ]
    },
    {
     "name": "stderr",
     "output_type": "stream",
     "text": [
      "Processing <PIL.Image.Image image mode=RGB size=200x200 at 0xC14EB38>: 100%|█| 1/1 [00:00<00:00, 25.00 Samples/s]\n"
     ]
    },
    {
     "name": "stdout",
     "output_type": "stream",
     "text": [
      "Initialised with 1 image(s) found.\n",
      "Output directory set to C:/Users/User/Desktop/test/generateImages/output."
     ]
    },
    {
     "name": "stderr",
     "output_type": "stream",
     "text": [
      "Processing <PIL.Image.Image image mode=RGB size=200x200 at 0xC14E8D0>: 100%|█| 1/1 [00:00<00:00, 58.82 Samples/s]\n"
     ]
    },
    {
     "name": "stdout",
     "output_type": "stream",
     "text": [
      "Initialised with 1 image(s) found.\n",
      "Output directory set to C:/Users/User/Desktop/test/generateImages/output."
     ]
    },
    {
     "name": "stderr",
     "output_type": "stream",
     "text": [
      "Processing <PIL.Image.Image image mode=RGB size=200x200 at 0xC14EC88>: 100%|█| 1/1 [00:00<00:00, 33.33 Samples/s]\n"
     ]
    },
    {
     "name": "stdout",
     "output_type": "stream",
     "text": [
      "Initialised with 1 image(s) found.\n",
      "Output directory set to C:/Users/User/Desktop/test/generateImages/output."
     ]
    },
    {
     "name": "stderr",
     "output_type": "stream",
     "text": [
      "Processing <PIL.Image.Image image mode=RGB size=200x200 at 0xC14E668>: 100%|█| 1/1 [00:00<00:00, 34.48 Samples/s]\n"
     ]
    },
    {
     "name": "stdout",
     "output_type": "stream",
     "text": [
      "Initialised with 1 image(s) found.\n",
      "Output directory set to C:/Users/User/Desktop/test/generateImages/output."
     ]
    },
    {
     "name": "stderr",
     "output_type": "stream",
     "text": [
      "Processing <PIL.Image.Image image mode=RGB size=200x200 at 0xC14EA20>: 100%|█| 1/1 [00:00<00:00, 22.22 Samples/s]\n"
     ]
    },
    {
     "name": "stdout",
     "output_type": "stream",
     "text": [
      "Initialised with 1 image(s) found.\n",
      "Output directory set to C:/Users/User/Desktop/test/generateImages/output."
     ]
    },
    {
     "name": "stderr",
     "output_type": "stream",
     "text": [
      "Processing <PIL.Image.Image image mode=RGB size=200x200 at 0xC14EBA8>: 100%|█| 1/1 [00:00<00:00, 62.50 Samples/s]\n"
     ]
    },
    {
     "name": "stdout",
     "output_type": "stream",
     "text": [
      "Initialised with 1 image(s) found.\n",
      "Output directory set to C:/Users/User/Desktop/test/generateImages/output."
     ]
    },
    {
     "name": "stderr",
     "output_type": "stream",
     "text": [
      "Processing <PIL.Image.Image image mode=RGB size=200x200 at 0xC14E898>: 100%|█| 1/1 [00:00<00:00, 40.00 Samples/s]\n"
     ]
    },
    {
     "name": "stdout",
     "output_type": "stream",
     "text": [
      "Initialised with 1 image(s) found.\n",
      "Output directory set to C:/Users/User/Desktop/test/generateImages/output."
     ]
    },
    {
     "name": "stderr",
     "output_type": "stream",
     "text": [
      "Processing <PIL.Image.Image image mode=RGB size=200x200 at 0xC14EBE0>: 100%|█| 1/1 [00:00<00:00, 31.25 Samples/s]\n"
     ]
    },
    {
     "name": "stdout",
     "output_type": "stream",
     "text": [
      "Initialised with 1 image(s) found.\n",
      "Output directory set to C:/Users/User/Desktop/test/generateImages/output."
     ]
    },
    {
     "name": "stderr",
     "output_type": "stream",
     "text": [
      "Processing <PIL.Image.Image image mode=RGB size=200x200 at 0xC14E780>: 100%|█| 1/1 [00:00<00:00, 29.41 Samples/s]\n"
     ]
    },
    {
     "name": "stdout",
     "output_type": "stream",
     "text": [
      "Initialised with 1 image(s) found.\n",
      "Output directory set to C:/Users/User/Desktop/test/generateImages/output."
     ]
    },
    {
     "name": "stderr",
     "output_type": "stream",
     "text": [
      "Processing <PIL.Image.Image image mode=RGB size=200x200 at 0xC14E9B0>: 100%|█| 1/1 [00:00<00:00, 27.03 Samples/s]\n"
     ]
    },
    {
     "name": "stdout",
     "output_type": "stream",
     "text": [
      "Initialised with 1 image(s) found.\n",
      "Output directory set to C:/Users/User/Desktop/test/generateImages/output."
     ]
    },
    {
     "name": "stderr",
     "output_type": "stream",
     "text": [
      "Processing <PIL.Image.Image image mode=RGB size=200x200 at 0xC14EAC8>: 100%|█| 1/1 [00:00<00:00, 47.62 Samples/s]\n"
     ]
    },
    {
     "name": "stdout",
     "output_type": "stream",
     "text": [
      "Initialised with 1 image(s) found.\n",
      "Output directory set to C:/Users/User/Desktop/test/generateImages/output."
     ]
    },
    {
     "name": "stderr",
     "output_type": "stream",
     "text": [
      "Processing <PIL.Image.Image image mode=RGB size=200x200 at 0xC14E908>: 100%|█| 1/1 [00:00<00:00, 52.63 Samples/s]\n"
     ]
    },
    {
     "name": "stdout",
     "output_type": "stream",
     "text": [
      "Initialised with 1 image(s) found.\n",
      "Output directory set to C:/Users/User/Desktop/test/generateImages/output."
     ]
    },
    {
     "name": "stderr",
     "output_type": "stream",
     "text": [
      "Processing <PIL.Image.Image image mode=RGB size=200x200 at 0xC14ED68>: 100%|█| 1/1 [00:00<00:00, 45.45 Samples/s]\n"
     ]
    },
    {
     "name": "stdout",
     "output_type": "stream",
     "text": [
      "Initialised with 1 image(s) found.\n",
      "Output directory set to C:/Users/User/Desktop/test/generateImages/output."
     ]
    },
    {
     "name": "stderr",
     "output_type": "stream",
     "text": [
      "Processing <PIL.Image.Image image mode=RGB size=200x200 at 0xC14E8D0>: 100%|█| 1/1 [00:00<00:00, 17.86 Samples/s]\n"
     ]
    },
    {
     "name": "stdout",
     "output_type": "stream",
     "text": [
      "Initialised with 1 image(s) found.\n",
      "Output directory set to C:/Users/User/Desktop/test/generateImages/output."
     ]
    },
    {
     "name": "stderr",
     "output_type": "stream",
     "text": [
      "Processing <PIL.Image.Image image mode=RGB size=200x200 at 0xC14EBA8>: 100%|█| 1/1 [00:00<00:00, 33.33 Samples/s]\n"
     ]
    },
    {
     "name": "stdout",
     "output_type": "stream",
     "text": [
      "Initialised with 1 image(s) found.\n",
      "Output directory set to C:/Users/User/Desktop/test/generateImages/output."
     ]
    },
    {
     "name": "stderr",
     "output_type": "stream",
     "text": [
      "Processing <PIL.Image.Image image mode=RGB size=200x200 at 0xC14EBE0>: 100%|█| 1/1 [00:00<00:00, 58.82 Samples/s]\n"
     ]
    },
    {
     "name": "stdout",
     "output_type": "stream",
     "text": [
      "Initialised with 1 image(s) found.\n",
      "Output directory set to C:/Users/User/Desktop/test/generateImages/output."
     ]
    },
    {
     "name": "stderr",
     "output_type": "stream",
     "text": [
      "Processing <PIL.Image.Image image mode=RGB size=200x200 at 0xC14EA20>: 100%|█| 1/1 [00:00<00:00, 43.48 Samples/s]\n"
     ]
    },
    {
     "name": "stdout",
     "output_type": "stream",
     "text": [
      "Initialised with 1 image(s) found.\n",
      "Output directory set to C:/Users/User/Desktop/test/generateImages/output."
     ]
    },
    {
     "name": "stderr",
     "output_type": "stream",
     "text": [
      "Processing <PIL.Image.Image image mode=RGB size=200x200 at 0xC14EC88>: 100%|█| 1/1 [00:00<00:00, 17.24 Samples/s]\n"
     ]
    },
    {
     "name": "stdout",
     "output_type": "stream",
     "text": [
      "Initialised with 1 image(s) found.\n",
      "Output directory set to C:/Users/User/Desktop/test/generateImages/output."
     ]
    },
    {
     "name": "stderr",
     "output_type": "stream",
     "text": [
      "Processing <PIL.Image.Image image mode=RGB size=200x200 at 0xC14EAC8>: 100%|█| 1/1 [00:00<00:00, 71.42 Samples/s]\n"
     ]
    },
    {
     "name": "stdout",
     "output_type": "stream",
     "text": [
      "Initialised with 1 image(s) found.\n",
      "Output directory set to C:/Users/User/Desktop/test/generateImages/output."
     ]
    },
    {
     "name": "stderr",
     "output_type": "stream",
     "text": [
      "Processing <PIL.Image.Image image mode=RGB size=200x200 at 0xC14E9B0>: 100%|█| 1/1 [00:00<00:00, 52.63 Samples/s]\n"
     ]
    },
    {
     "name": "stdout",
     "output_type": "stream",
     "text": [
      "Initialised with 1 image(s) found.\n",
      "Output directory set to C:/Users/User/Desktop/test/generateImages/output."
     ]
    },
    {
     "name": "stderr",
     "output_type": "stream",
     "text": [
      "Processing <PIL.Image.Image image mode=RGB size=200x200 at 0xC14EC50>: 100%|█| 1/1 [00:00<00:00, 22.73 Samples/s]\n"
     ]
    },
    {
     "name": "stdout",
     "output_type": "stream",
     "text": [
      "Initialised with 1 image(s) found.\n",
      "Output directory set to C:/Users/User/Desktop/test/generateImages/output."
     ]
    },
    {
     "name": "stderr",
     "output_type": "stream",
     "text": [
      "Processing <PIL.Image.Image image mode=RGB size=200x200 at 0xC14EDA0>: 100%|█| 1/1 [00:00<00:00, 47.62 Samples/s]\n"
     ]
    },
    {
     "name": "stdout",
     "output_type": "stream",
     "text": [
      "Initialised with 1 image(s) found.\n",
      "Output directory set to C:/Users/User/Desktop/test/generateImages/output."
     ]
    },
    {
     "name": "stderr",
     "output_type": "stream",
     "text": [
      "Processing <PIL.Image.Image image mode=RGB size=200x200 at 0xC14EA58>: 100%|█| 1/1 [00:00<00:00, 76.92 Samples/s]\n"
     ]
    },
    {
     "name": "stdout",
     "output_type": "stream",
     "text": [
      "Initialised with 1 image(s) found.\n",
      "Output directory set to C:/Users/User/Desktop/test/generateImages/output."
     ]
    },
    {
     "name": "stderr",
     "output_type": "stream",
     "text": [
      "Processing <PIL.Image.Image image mode=RGB size=200x200 at 0xC14E9E8>: 100%|█| 1/1 [00:00<00:00, 50.00 Samples/s]\n"
     ]
    },
    {
     "name": "stdout",
     "output_type": "stream",
     "text": [
      "Initialised with 1 image(s) found.\n",
      "Output directory set to C:/Users/User/Desktop/test/generateImages/output."
     ]
    },
    {
     "name": "stderr",
     "output_type": "stream",
     "text": [
      "Processing <PIL.Image.Image image mode=RGB size=200x200 at 0xC14E6A0>: 100%|█| 1/1 [00:00<00:00, 50.00 Samples/s]\n"
     ]
    },
    {
     "name": "stdout",
     "output_type": "stream",
     "text": [
      "Initialised with 1 image(s) found.\n",
      "Output directory set to C:/Users/User/Desktop/test/generateImages/output."
     ]
    },
    {
     "name": "stderr",
     "output_type": "stream",
     "text": [
      "Processing <PIL.Image.Image image mode=RGB size=200x200 at 0xC14EA20>: 100%|█| 1/1 [00:00<00:00, 52.63 Samples/s]\n"
     ]
    },
    {
     "name": "stdout",
     "output_type": "stream",
     "text": [
      "Initialised with 1 image(s) found.\n",
      "Output directory set to C:/Users/User/Desktop/test/generateImages/output."
     ]
    },
    {
     "name": "stderr",
     "output_type": "stream",
     "text": [
      "Processing <PIL.Image.Image image mode=RGB size=200x200 at 0xC14E940>: 100%|█| 1/1 [00:00<00:00, 21.74 Samples/s]\n"
     ]
    },
    {
     "name": "stdout",
     "output_type": "stream",
     "text": [
      "Initialised with 1 image(s) found.\n",
      "Output directory set to C:/Users/User/Desktop/test/generateImages/output."
     ]
    },
    {
     "name": "stderr",
     "output_type": "stream",
     "text": [
      "Processing <PIL.Image.Image image mode=RGB size=200x200 at 0xC14EC88>: 100%|█| 1/1 [00:00<00:00, 55.55 Samples/s]\n"
     ]
    },
    {
     "name": "stdout",
     "output_type": "stream",
     "text": [
      "Initialised with 1 image(s) found.\n",
      "Output directory set to C:/Users/User/Desktop/test/generateImages/output."
     ]
    },
    {
     "name": "stderr",
     "output_type": "stream",
     "text": [
      "Processing <PIL.Image.Image image mode=RGB size=200x200 at 0xC14EB00>: 100%|█| 1/1 [00:00<00:00, 23.81 Samples/s]\n"
     ]
    },
    {
     "name": "stdout",
     "output_type": "stream",
     "text": [
      "Initialised with 1 image(s) found.\n",
      "Output directory set to C:/Users/User/Desktop/test/generateImages/output."
     ]
    },
    {
     "name": "stderr",
     "output_type": "stream",
     "text": [
      "Processing <PIL.Image.Image image mode=RGB size=200x200 at 0xC14ECC0>: 100%|█| 1/1 [00:00<00:00, 62.50 Samples/s]\n"
     ]
    },
    {
     "name": "stdout",
     "output_type": "stream",
     "text": [
      "Initialised with 1 image(s) found.\n",
      "Output directory set to C:/Users/User/Desktop/test/generateImages/output."
     ]
    },
    {
     "name": "stderr",
     "output_type": "stream",
     "text": [
      "Processing <PIL.Image.Image image mode=RGB size=200x200 at 0xC14E6D8>: 100%|█| 1/1 [00:00<00:00, 33.33 Samples/s]\n"
     ]
    },
    {
     "name": "stdout",
     "output_type": "stream",
     "text": [
      "Initialised with 1 image(s) found.\n",
      "Output directory set to C:/Users/User/Desktop/test/generateImages/output."
     ]
    },
    {
     "name": "stderr",
     "output_type": "stream",
     "text": [
      "Processing <PIL.Image.Image image mode=RGB size=200x200 at 0xC14E898>: 100%|█| 1/1 [00:00<00:00, 21.28 Samples/s]\n"
     ]
    },
    {
     "name": "stdout",
     "output_type": "stream",
     "text": [
      "Initialised with 1 image(s) found.\n",
      "Output directory set to C:/Users/User/Desktop/test/generateImages/output."
     ]
    },
    {
     "name": "stderr",
     "output_type": "stream",
     "text": [
      "Processing <PIL.Image.Image image mode=RGB size=200x200 at 0xC14E978>: 100%|█| 1/1 [00:00<00:00, 71.43 Samples/s]\n"
     ]
    },
    {
     "name": "stdout",
     "output_type": "stream",
     "text": [
      "Initialised with 1 image(s) found.\n",
      "Output directory set to C:/Users/User/Desktop/test/generateImages/output."
     ]
    },
    {
     "name": "stderr",
     "output_type": "stream",
     "text": [
      "Processing <PIL.Image.Image image mode=RGB size=200x200 at 0xC14ED68>: 100%|█| 1/1 [00:00<00:00, 41.66 Samples/s]\n"
     ]
    },
    {
     "name": "stdout",
     "output_type": "stream",
     "text": [
      "Initialised with 1 image(s) found.\n",
      "Output directory set to C:/Users/User/Desktop/test/generateImages/output."
     ]
    },
    {
     "name": "stderr",
     "output_type": "stream",
     "text": [
      "Processing <PIL.Image.Image image mode=RGB size=200x200 at 0xC14E9E8>: 100%|█| 1/1 [00:00<00:00, 50.00 Samples/s]\n"
     ]
    },
    {
     "name": "stdout",
     "output_type": "stream",
     "text": [
      "Initialised with 1 image(s) found.\n",
      "Output directory set to C:/Users/User/Desktop/test/generateImages/output."
     ]
    },
    {
     "name": "stderr",
     "output_type": "stream",
     "text": [
      "Processing <PIL.Image.Image image mode=RGB size=200x200 at 0xC14EA90>: 100%|█| 1/1 [00:00<00:00, 52.63 Samples/s]\n"
     ]
    },
    {
     "name": "stdout",
     "output_type": "stream",
     "text": [
      "Initialised with 1 image(s) found.\n",
      "Output directory set to C:/Users/User/Desktop/test/generateImages/output."
     ]
    },
    {
     "name": "stderr",
     "output_type": "stream",
     "text": [
      "Processing <PIL.Image.Image image mode=RGB size=200x200 at 0xC14E978>: 100%|█| 1/1 [00:00<00:00, 50.00 Samples/s]\n"
     ]
    },
    {
     "name": "stdout",
     "output_type": "stream",
     "text": [
      "Initialised with 1 image(s) found.\n",
      "Output directory set to C:/Users/User/Desktop/test/generateImages/output."
     ]
    },
    {
     "name": "stderr",
     "output_type": "stream",
     "text": [
      "Processing <PIL.Image.Image image mode=RGB size=200x200 at 0xC14EC50>: 100%|█| 1/1 [00:00<00:00, 38.46 Samples/s]\n"
     ]
    },
    {
     "name": "stdout",
     "output_type": "stream",
     "text": [
      "Initialised with 1 image(s) found.\n",
      "Output directory set to C:/Users/User/Desktop/test/generateImages/output."
     ]
    },
    {
     "name": "stderr",
     "output_type": "stream",
     "text": [
      "Processing <PIL.Image.Image image mode=RGB size=200x200 at 0xC14EA20>: 100%|█| 1/1 [00:00<00:00, 38.46 Samples/s]\n"
     ]
    },
    {
     "name": "stdout",
     "output_type": "stream",
     "text": [
      "Initialised with 1 image(s) found.\n",
      "Output directory set to C:/Users/User/Desktop/test/generateImages/output."
     ]
    },
    {
     "name": "stderr",
     "output_type": "stream",
     "text": [
      "Processing <PIL.Image.Image image mode=RGB size=200x200 at 0xC14E828>: 100%|█| 1/1 [00:00<00:00, 40.00 Samples/s]\n"
     ]
    },
    {
     "name": "stdout",
     "output_type": "stream",
     "text": [
      "Initialised with 1 image(s) found.\n",
      "Output directory set to C:/Users/User/Desktop/test/generateImages/output."
     ]
    },
    {
     "name": "stderr",
     "output_type": "stream",
     "text": [
      "Processing <PIL.Image.Image image mode=RGB size=200x200 at 0xC14EA58>: 100%|█| 1/1 [00:00<00:00, 43.48 Samples/s]\n"
     ]
    },
    {
     "name": "stdout",
     "output_type": "stream",
     "text": [
      "Initialised with 1 image(s) found.\n",
      "Output directory set to C:/Users/User/Desktop/test/generateImages/output."
     ]
    },
    {
     "name": "stderr",
     "output_type": "stream",
     "text": [
      "Processing <PIL.Image.Image image mode=RGB size=200x200 at 0xC14EBE0>: 100%|█| 1/1 [00:00<00:00, 50.00 Samples/s]\n"
     ]
    },
    {
     "name": "stdout",
     "output_type": "stream",
     "text": [
      "Initialised with 1 image(s) found.\n",
      "Output directory set to C:/Users/User/Desktop/test/generateImages/output."
     ]
    },
    {
     "name": "stderr",
     "output_type": "stream",
     "text": [
      "Processing <PIL.Image.Image image mode=RGB size=200x200 at 0xC14E630>: 100%|█| 1/1 [00:00<00:00, 22.73 Samples/s]\n"
     ]
    },
    {
     "name": "stdout",
     "output_type": "stream",
     "text": [
      "Initialised with 1 image(s) found.\n",
      "Output directory set to C:/Users/User/Desktop/test/generateImages/output."
     ]
    },
    {
     "name": "stderr",
     "output_type": "stream",
     "text": [
      "Processing <PIL.Image.Image image mode=RGB size=200x200 at 0xC14E6A0>: 100%|█| 1/1 [00:00<00:00, 18.87 Samples/s]\n"
     ]
    },
    {
     "name": "stdout",
     "output_type": "stream",
     "text": [
      "Initialised with 1 image(s) found.\n",
      "Output directory set to C:/Users/User/Desktop/test/generateImages/output."
     ]
    },
    {
     "name": "stderr",
     "output_type": "stream",
     "text": [
      "Processing <PIL.Image.Image image mode=RGB size=200x200 at 0xC14E828>: 100%|█| 1/1 [00:00<00:00, 62.50 Samples/s]\n"
     ]
    },
    {
     "name": "stdout",
     "output_type": "stream",
     "text": [
      "Initialised with 1 image(s) found.\n",
      "Output directory set to C:/Users/User/Desktop/test/generateImages/output."
     ]
    },
    {
     "name": "stderr",
     "output_type": "stream",
     "text": [
      "Processing <PIL.Image.Image image mode=RGB size=200x200 at 0xC14E898>: 100%|█| 1/1 [00:00<00:00, 38.46 Samples/s]\n"
     ]
    },
    {
     "name": "stdout",
     "output_type": "stream",
     "text": [
      "Initialised with 1 image(s) found.\n",
      "Output directory set to C:/Users/User/Desktop/test/generateImages/output."
     ]
    },
    {
     "name": "stderr",
     "output_type": "stream",
     "text": [
      "Processing <PIL.Image.Image image mode=RGB size=200x200 at 0xC14EB70>: 100%|█| 1/1 [00:00<00:00, 71.43 Samples/s]\n"
     ]
    },
    {
     "name": "stdout",
     "output_type": "stream",
     "text": [
      "Initialised with 1 image(s) found.\n",
      "Output directory set to C:/Users/User/Desktop/test/generateImages/output."
     ]
    },
    {
     "name": "stderr",
     "output_type": "stream",
     "text": [
      "Processing <PIL.Image.Image image mode=RGB size=200x200 at 0xC14EAC8>: 100%|█| 1/1 [00:00<00:00, 62.50 Samples/s]\n"
     ]
    },
    {
     "name": "stdout",
     "output_type": "stream",
     "text": [
      "Initialised with 1 image(s) found.\n",
      "Output directory set to C:/Users/User/Desktop/test/generateImages/output."
     ]
    },
    {
     "name": "stderr",
     "output_type": "stream",
     "text": [
      "Processing <PIL.Image.Image image mode=RGB size=200x200 at 0xC14E780>: 100%|█| 1/1 [00:00<00:00, 52.63 Samples/s]\n"
     ]
    },
    {
     "name": "stdout",
     "output_type": "stream",
     "text": [
      "Initialised with 1 image(s) found.\n",
      "Output directory set to C:/Users/User/Desktop/test/generateImages/output."
     ]
    },
    {
     "name": "stderr",
     "output_type": "stream",
     "text": [
      "Processing <PIL.Image.Image image mode=RGB size=200x200 at 0xC14EBA8>: 100%|█| 1/1 [00:00<00:00, 52.63 Samples/s]\n"
     ]
    },
    {
     "name": "stdout",
     "output_type": "stream",
     "text": [
      "Initialised with 1 image(s) found.\n",
      "Output directory set to C:/Users/User/Desktop/test/generateImages/output."
     ]
    },
    {
     "name": "stderr",
     "output_type": "stream",
     "text": [
      "Processing <PIL.Image.Image image mode=RGB size=200x200 at 0xC14E7F0>: 100%|█| 1/1 [00:00<00:00, 71.42 Samples/s]\n"
     ]
    },
    {
     "name": "stdout",
     "output_type": "stream",
     "text": [
      "Initialised with 1 image(s) found.\n",
      "Output directory set to C:/Users/User/Desktop/test/generateImages/output."
     ]
    },
    {
     "name": "stderr",
     "output_type": "stream",
     "text": [
      "Processing <PIL.Image.Image image mode=RGB size=200x200 at 0xC14ED68>: 100%|█| 1/1 [00:00<00:00, 62.50 Samples/s]\n"
     ]
    },
    {
     "name": "stdout",
     "output_type": "stream",
     "text": [
      "Initialised with 1 image(s) found.\n",
      "Output directory set to C:/Users/User/Desktop/test/generateImages/output."
     ]
    },
    {
     "name": "stderr",
     "output_type": "stream",
     "text": [
      "Processing <PIL.Image.Image image mode=RGB size=200x200 at 0xC14EA58>: 100%|█| 1/1 [00:00<00:00, 27.78 Samples/s]\n"
     ]
    },
    {
     "name": "stdout",
     "output_type": "stream",
     "text": [
      "Initialised with 1 image(s) found.\n",
      "Output directory set to C:/Users/User/Desktop/test/generateImages/output."
     ]
    },
    {
     "name": "stderr",
     "output_type": "stream",
     "text": [
      "Processing <PIL.Image.Image image mode=RGB size=200x200 at 0xC14E940>: 100%|█| 1/1 [00:00<00:00, 27.78 Samples/s]\n"
     ]
    },
    {
     "name": "stdout",
     "output_type": "stream",
     "text": [
      "Initialised with 1 image(s) found.\n",
      "Output directory set to C:/Users/User/Desktop/test/generateImages/output."
     ]
    },
    {
     "name": "stderr",
     "output_type": "stream",
     "text": [
      "Processing <PIL.Image.Image image mode=RGB size=200x200 at 0xC14E978>: 100%|█| 1/1 [00:00<00:00, 55.55 Samples/s]\n"
     ]
    },
    {
     "name": "stdout",
     "output_type": "stream",
     "text": [
      "Initialised with 1 image(s) found.\n",
      "Output directory set to C:/Users/User/Desktop/test/generateImages/output."
     ]
    },
    {
     "name": "stderr",
     "output_type": "stream",
     "text": [
      "Processing <PIL.Image.Image image mode=RGB size=200x200 at 0xC14E668>: 100%|█| 1/1 [00:00<00:00, 71.43 Samples/s]\n"
     ]
    },
    {
     "name": "stdout",
     "output_type": "stream",
     "text": [
      "Initialised with 1 image(s) found.\n",
      "Output directory set to C:/Users/User/Desktop/test/generateImages/output."
     ]
    },
    {
     "name": "stderr",
     "output_type": "stream",
     "text": [
      "Processing <PIL.Image.Image image mode=RGB size=200x200 at 0xC14E6D8>: 100%|█| 1/1 [00:00<00:00, 25.64 Samples/s]\n"
     ]
    },
    {
     "name": "stdout",
     "output_type": "stream",
     "text": [
      "Initialised with 1 image(s) found.\n",
      "Output directory set to C:/Users/User/Desktop/test/generateImages/output."
     ]
    },
    {
     "name": "stderr",
     "output_type": "stream",
     "text": [
      "Processing <PIL.Image.Image image mode=RGB size=200x200 at 0xC14EC88>: 100%|█| 1/1 [00:00<00:00, 47.62 Samples/s]\n"
     ]
    },
    {
     "name": "stdout",
     "output_type": "stream",
     "text": [
      "Initialised with 1 image(s) found.\n",
      "Output directory set to C:/Users/User/Desktop/test/generateImages/output."
     ]
    },
    {
     "name": "stderr",
     "output_type": "stream",
     "text": [
      "Processing <PIL.Image.Image image mode=RGB size=200x200 at 0xC14EBA8>: 100%|█| 1/1 [00:00<00:00, 43.48 Samples/s]\n"
     ]
    },
    {
     "name": "stdout",
     "output_type": "stream",
     "text": [
      "Initialised with 1 image(s) found.\n",
      "Output directory set to C:/Users/User/Desktop/test/generateImages/output."
     ]
    },
    {
     "name": "stderr",
     "output_type": "stream",
     "text": [
      "Processing <PIL.Image.Image image mode=RGB size=200x200 at 0xC14E908>: 100%|█| 1/1 [00:00<00:00, 99.99 Samples/s]\n"
     ]
    },
    {
     "name": "stdout",
     "output_type": "stream",
     "text": [
      "Initialised with 1 image(s) found.\n",
      "Output directory set to C:/Users/User/Desktop/test/generateImages/output."
     ]
    },
    {
     "name": "stderr",
     "output_type": "stream",
     "text": [
      "Processing <PIL.Image.Image image mode=RGB size=200x200 at 0xC14ED68>: 100%|█| 1/1 [00:00<00:00, 50.00 Samples/s]\n"
     ]
    },
    {
     "name": "stdout",
     "output_type": "stream",
     "text": [
      "Initialised with 1 image(s) found.\n",
      "Output directory set to C:/Users/User/Desktop/test/generateImages/output."
     ]
    },
    {
     "name": "stderr",
     "output_type": "stream",
     "text": [
      "Processing <PIL.Image.Image image mode=RGB size=200x200 at 0xC14EB00>: 100%|█| 1/1 [00:00<00:00, 52.63 Samples/s]\n"
     ]
    },
    {
     "name": "stdout",
     "output_type": "stream",
     "text": [
      "Initialised with 1 image(s) found.\n",
      "Output directory set to C:/Users/User/Desktop/test/generateImages/output."
     ]
    },
    {
     "name": "stderr",
     "output_type": "stream",
     "text": [
      "Processing <PIL.Image.Image image mode=RGB size=200x200 at 0xC14E9E8>: 100%|█| 1/1 [00:00<00:00, 43.48 Samples/s]\n"
     ]
    },
    {
     "name": "stdout",
     "output_type": "stream",
     "text": [
      "Initialised with 1 image(s) found.\n",
      "Output directory set to C:/Users/User/Desktop/test/generateImages/output."
     ]
    },
    {
     "name": "stderr",
     "output_type": "stream",
     "text": [
      "Processing <PIL.Image.Image image mode=RGB size=200x200 at 0xC14E978>: 100%|█| 1/1 [00:00<00:00, 25.00 Samples/s]\n"
     ]
    },
    {
     "name": "stdout",
     "output_type": "stream",
     "text": [
      "Initialised with 1 image(s) found.\n",
      "Output directory set to C:/Users/User/Desktop/test/generateImages/output."
     ]
    },
    {
     "name": "stderr",
     "output_type": "stream",
     "text": [
      "Processing <PIL.Image.Image image mode=RGB size=200x200 at 0xC14E630>: 100%|█| 1/1 [00:00<00:00, 71.43 Samples/s]\n"
     ]
    },
    {
     "name": "stdout",
     "output_type": "stream",
     "text": [
      "Initialised with 1 image(s) found.\n",
      "Output directory set to C:/Users/User/Desktop/test/generateImages/output."
     ]
    },
    {
     "name": "stderr",
     "output_type": "stream",
     "text": [
      "Processing <PIL.Image.Image image mode=RGB size=200x200 at 0xC14E668>: 100%|█| 1/1 [00:00<00:00, 55.55 Samples/s]\n"
     ]
    },
    {
     "name": "stdout",
     "output_type": "stream",
     "text": [
      "Initialised with 1 image(s) found.\n",
      "Output directory set to C:/Users/User/Desktop/test/generateImages/output."
     ]
    },
    {
     "name": "stderr",
     "output_type": "stream",
     "text": [
      "Processing <PIL.Image.Image image mode=RGB size=200x200 at 0xC14EB70>: 100%|█| 1/1 [00:00<00:00, 35.71 Samples/s]\n"
     ]
    },
    {
     "name": "stdout",
     "output_type": "stream",
     "text": [
      "Initialised with 1 image(s) found.\n",
      "Output directory set to C:/Users/User/Desktop/test/generateImages/output."
     ]
    },
    {
     "name": "stderr",
     "output_type": "stream",
     "text": [
      "Processing <PIL.Image.Image image mode=RGB size=200x200 at 0xC14E9B0>: 100%|█| 1/1 [00:00<00:00, 37.04 Samples/s]\n"
     ]
    },
    {
     "name": "stdout",
     "output_type": "stream",
     "text": [
      "Initialised with 1 image(s) found.\n",
      "Output directory set to C:/Users/User/Desktop/test/generateImages/output."
     ]
    },
    {
     "name": "stderr",
     "output_type": "stream",
     "text": [
      "Processing <PIL.Image.Image image mode=RGB size=200x200 at 0xC14E7F0>: 100%|█| 1/1 [00:00<00:00, 41.66 Samples/s]\n"
     ]
    },
    {
     "name": "stdout",
     "output_type": "stream",
     "text": [
      "Initialised with 1 image(s) found.\n",
      "Output directory set to C:/Users/User/Desktop/test/generateImages/output."
     ]
    },
    {
     "name": "stderr",
     "output_type": "stream",
     "text": [
      "Processing <PIL.Image.Image image mode=RGB size=200x200 at 0xC14EB00>: 100%|█| 1/1 [00:00<00:00, 71.43 Samples/s]\n"
     ]
    },
    {
     "name": "stdout",
     "output_type": "stream",
     "text": [
      "Initialised with 1 image(s) found.\n",
      "Output directory set to C:/Users/User/Desktop/test/generateImages/output."
     ]
    },
    {
     "name": "stderr",
     "output_type": "stream",
     "text": [
      "Processing <PIL.Image.Image image mode=RGB size=200x200 at 0xC14E9E8>: 100%|█| 1/1 [00:00<00:00, 15.38 Samples/s]\n"
     ]
    },
    {
     "name": "stdout",
     "output_type": "stream",
     "text": [
      "Initialised with 1 image(s) found.\n",
      "Output directory set to C:/Users/User/Desktop/test/generateImages/output."
     ]
    },
    {
     "name": "stderr",
     "output_type": "stream",
     "text": [
      "Processing <PIL.Image.Image image mode=RGB size=200x200 at 0xC14ED68>: 100%|█| 1/1 [00:00<00:00, 55.55 Samples/s]\n"
     ]
    },
    {
     "name": "stdout",
     "output_type": "stream",
     "text": [
      "Initialised with 1 image(s) found.\n",
      "Output directory set to C:/Users/User/Desktop/test/generateImages/output."
     ]
    },
    {
     "name": "stderr",
     "output_type": "stream",
     "text": [
      "Processing <PIL.Image.Image image mode=RGB size=200x200 at 0xC14E7B8>: 100%|█| 1/1 [00:00<00:00, 66.66 Samples/s]\n"
     ]
    },
    {
     "name": "stdout",
     "output_type": "stream",
     "text": [
      "Initialised with 1 image(s) found.\n",
      "Output directory set to C:/Users/User/Desktop/test/generateImages/output."
     ]
    },
    {
     "name": "stderr",
     "output_type": "stream",
     "text": [
      "Processing <PIL.Image.Image image mode=RGB size=200x200 at 0xC14E630>: 100%|█| 1/1 [00:00<00:00, 47.62 Samples/s]\n"
     ]
    },
    {
     "name": "stdout",
     "output_type": "stream",
     "text": [
      "Initialised with 1 image(s) found.\n",
      "Output directory set to C:/Users/User/Desktop/test/generateImages/output."
     ]
    },
    {
     "name": "stderr",
     "output_type": "stream",
     "text": [
      "Processing <PIL.Image.Image image mode=RGB size=200x200 at 0xC14EA20>: 100%|█| 1/1 [00:00<00:00, 47.62 Samples/s]\n"
     ]
    },
    {
     "name": "stdout",
     "output_type": "stream",
     "text": [
      "Initialised with 1 image(s) found.\n",
      "Output directory set to C:/Users/User/Desktop/test/generateImages/output."
     ]
    },
    {
     "name": "stderr",
     "output_type": "stream",
     "text": [
      "Processing <PIL.Image.Image image mode=RGB size=200x200 at 0xC14EDA0>: 100%|█| 1/1 [00:00<00:00, 43.48 Samples/s]\n"
     ]
    },
    {
     "name": "stdout",
     "output_type": "stream",
     "text": [
      "Initialised with 1 image(s) found.\n",
      "Output directory set to C:/Users/User/Desktop/test/generateImages/output."
     ]
    },
    {
     "name": "stderr",
     "output_type": "stream",
     "text": [
      "Processing <PIL.Image.Image image mode=RGB size=200x200 at 0xC14E898>: 100%|█| 1/1 [00:00<00:00, 76.92 Samples/s]\n"
     ]
    },
    {
     "name": "stdout",
     "output_type": "stream",
     "text": [
      "Initialised with 1 image(s) found.\n",
      "Output directory set to C:/Users/User/Desktop/test/generateImages/output."
     ]
    },
    {
     "name": "stderr",
     "output_type": "stream",
     "text": [
      "Processing <PIL.Image.Image image mode=RGB size=200x200 at 0xC14EB70>: 100%|█| 1/1 [00:00<00:00, 43.48 Samples/s]\n"
     ]
    },
    {
     "name": "stdout",
     "output_type": "stream",
     "text": [
      "Initialised with 1 image(s) found.\n",
      "Output directory set to C:/Users/User/Desktop/test/generateImages/output."
     ]
    },
    {
     "name": "stderr",
     "output_type": "stream",
     "text": [
      "Processing <PIL.Image.Image image mode=RGB size=200x200 at 0xC14E780>: 100%|█| 1/1 [00:00<00:00, 29.41 Samples/s]\n"
     ]
    },
    {
     "name": "stdout",
     "output_type": "stream",
     "text": [
      "Initialised with 1 image(s) found.\n",
      "Output directory set to C:/Users/User/Desktop/test/generateImages/output."
     ]
    },
    {
     "name": "stderr",
     "output_type": "stream",
     "text": [
      "Processing <PIL.Image.Image image mode=RGB size=200x200 at 0xC14EB00>: 100%|█| 1/1 [00:00<00:00, 58.82 Samples/s]\n"
     ]
    },
    {
     "name": "stdout",
     "output_type": "stream",
     "text": [
      "Initialised with 1 image(s) found.\n",
      "Output directory set to C:/Users/User/Desktop/test/generateImages/output."
     ]
    },
    {
     "name": "stderr",
     "output_type": "stream",
     "text": [
      "Processing <PIL.Image.Image image mode=RGB size=200x200 at 0xC14EC88>: 100%|█| 1/1 [00:00<00:00, 55.55 Samples/s]\n"
     ]
    },
    {
     "name": "stdout",
     "output_type": "stream",
     "text": [
      "Initialised with 1 image(s) found.\n",
      "Output directory set to C:/Users/User/Desktop/test/generateImages/output."
     ]
    },
    {
     "name": "stderr",
     "output_type": "stream",
     "text": [
      "Processing <PIL.Image.Image image mode=RGB size=200x200 at 0xC14ED68>: 100%|█| 1/1 [00:00<00:00, 20.00 Samples/s]\n"
     ]
    },
    {
     "name": "stdout",
     "output_type": "stream",
     "text": [
      "Initialised with 1 image(s) found.\n",
      "Output directory set to C:/Users/User/Desktop/test/generateImages/output."
     ]
    },
    {
     "name": "stderr",
     "output_type": "stream",
     "text": [
      "Processing <PIL.Image.Image image mode=RGB size=200x200 at 0xC14E7F0>: 100%|█| 1/1 [00:00<00:00, 50.00 Samples/s]\n"
     ]
    },
    {
     "name": "stdout",
     "output_type": "stream",
     "text": [
      "Initialised with 1 image(s) found.\n",
      "Output directory set to C:/Users/User/Desktop/test/generateImages/output."
     ]
    },
    {
     "name": "stderr",
     "output_type": "stream",
     "text": [
      "Processing <PIL.Image.Image image mode=RGB size=200x200 at 0xC14EC18>: 100%|█| 1/1 [00:00<00:00, 52.63 Samples/s]\n"
     ]
    },
    {
     "name": "stdout",
     "output_type": "stream",
     "text": [
      "Initialised with 1 image(s) found.\n",
      "Output directory set to C:/Users/User/Desktop/test/generateImages/output."
     ]
    },
    {
     "name": "stderr",
     "output_type": "stream",
     "text": [
      "Processing <PIL.Image.Image image mode=RGB size=200x200 at 0xC14EDA0>: 100%|█| 1/1 [00:00<00:00, 12.82 Samples/s]\n"
     ]
    },
    {
     "name": "stdout",
     "output_type": "stream",
     "text": [
      "Initialised with 1 image(s) found.\n",
      "Output directory set to C:/Users/User/Desktop/test/generateImages/output."
     ]
    },
    {
     "name": "stderr",
     "output_type": "stream",
     "text": [
      "Processing <PIL.Image.Image image mode=RGB size=200x200 at 0xC14E6D8>: 100%|█| 1/1 [00:00<00:00, 55.55 Samples/s]\n"
     ]
    },
    {
     "name": "stdout",
     "output_type": "stream",
     "text": [
      "Initialised with 1 image(s) found.\n",
      "Output directory set to C:/Users/User/Desktop/test/generateImages/output."
     ]
    },
    {
     "name": "stderr",
     "output_type": "stream",
     "text": [
      "Processing <PIL.Image.Image image mode=RGB size=200x200 at 0xC14E780>: 100%|█| 1/1 [00:00<00:00, 71.42 Samples/s]\n"
     ]
    },
    {
     "name": "stdout",
     "output_type": "stream",
     "text": [
      "Initialised with 1 image(s) found.\n",
      "Output directory set to C:/Users/User/Desktop/test/generateImages/output."
     ]
    },
    {
     "name": "stderr",
     "output_type": "stream",
     "text": [
      "Processing <PIL.Image.Image image mode=RGB size=200x200 at 0xC14E710>: 100%|█| 1/1 [00:00<00:00, 55.55 Samples/s]\n"
     ]
    },
    {
     "name": "stdout",
     "output_type": "stream",
     "text": [
      "Initialised with 1 image(s) found.\n",
      "Output directory set to C:/Users/User/Desktop/test/generateImages/output."
     ]
    },
    {
     "name": "stderr",
     "output_type": "stream",
     "text": [
      "Processing <PIL.Image.Image image mode=RGB size=200x200 at 0xC14E828>: 100%|█| 1/1 [00:00<00:00, 19.23 Samples/s]\n"
     ]
    },
    {
     "name": "stdout",
     "output_type": "stream",
     "text": [
      "Initialised with 1 image(s) found.\n",
      "Output directory set to C:/Users/User/Desktop/test/generateImages/output."
     ]
    },
    {
     "name": "stderr",
     "output_type": "stream",
     "text": [
      "Processing <PIL.Image.Image image mode=RGB size=200x200 at 0xC14EB00>: 100%|█| 1/1 [00:00<00:00, 33.33 Samples/s]\n"
     ]
    },
    {
     "name": "stdout",
     "output_type": "stream",
     "text": [
      "Initialised with 1 image(s) found.\n",
      "Output directory set to C:/Users/User/Desktop/test/generateImages/output."
     ]
    },
    {
     "name": "stderr",
     "output_type": "stream",
     "text": [
      "Processing <PIL.Image.Image image mode=RGB size=200x200 at 0xC14EAC8>: 100%|█| 1/1 [00:00<00:00, 71.42 Samples/s]\n"
     ]
    },
    {
     "name": "stdout",
     "output_type": "stream",
     "text": [
      "<class 'Augmentor.Pipeline.Pipeline'>\n"
     ]
    }
   ],
   "source": [
    "for i in range(100):\n",
    "    skew_magnitude = np.round(np.random.uniform(0.1, 1.0),1) # sm 0.1-1.0\n",
    "    rd_grid_with = np.random.randint(2,10) # rdgw 2-10g\n",
    "    rd_grid_hight = np.random.randint(2,10) # rdgh 2-10\n",
    "    rd_magnitude = np.random.randint(1,10) # rdm 1-10 ### 20 to much\n",
    "    rc_factor = np.random.randint(0,100)/100.0 # rc 0-1 ### 255*rc_factor ist die Pixeldifferenz\n",
    "    rcolor_factor = np.random.randint(0,20)/10.0\n",
    "    re_factor = np.random.randint(11,100)/100.0\n",
    "    \n",
    "    p = Aug.Pipeline(path_folder, output_directory='output', save_format=\"BMP\")\n",
    "    p.random_distortion(probability=1, grid_width=rd_grid_with, grid_height=rd_grid_hight, magnitude=rd_magnitude)\n",
    "    p.rotate(probability=1, max_left_rotation=25, max_right_rotation=25) # <= 25° for botch\n",
    "    p.skew(probability=0.5, magnitude=skew_magnitude)\n",
    "    p.shear(probability=0.5, max_shear_left=25, max_shear_right=25) # <= 25° for botch\n",
    "#     p.random_contrast(probability=1, min_factor=rc_factor, max_factor=rc_factor)\n",
    "#     p.random_color(probability=1, min_factor=rcolor_factor, max_factor=rcolor_factor)\n",
    "#     p.random_erasing(probability=1, rectangle_area=re_factor)\n",
    "    p.sample(1)\n",
    "    path_output, dirs, output_files = next(os.walk(path_output))\n",
    "    timestr = time.strftime('%Y%m%d_%H%M%S')\n",
    "    name = str(timestr) + '_' + 'sm' + str(skew_magnitude) + '_' + 'rdgw' + str(rd_grid_with) + '_' + 'rdgh' + str(rd_grid_hight) + '_' + 'rdm' + str(rd_magnitude) + '_' + 'rc' + str(rc_factor) + '_' + 'rcolor' + str(rcolor_factor) + '_' + 'se' + str(re_factor)\n",
    "#     os.rename(path_output + output_files[0], path_output + name + '.BMP')\n",
    "    shutil.move(path_output + output_files[0], path_output + 'renamed/' + name + '.BMP')\n",
    "    time.sleep(0.1)\n",
    "    \n",
    "print(type(p))\n",
    "# print(b.shape)\n",
    "# img_size_uint8 = Image.fromarray(np.uint8(img_mini))\n",
    "# img_size_uint8.save(save_folder +"
   ]
  },
  {
   "cell_type": "code",
   "execution_count": null,
   "metadata": {},
   "outputs": [],
   "source": [
    "print(path_folder)"
   ]
  },
  {
   "cell_type": "code",
   "execution_count": 42,
   "metadata": {},
   "outputs": [
    {
     "name": "stdout",
     "output_type": "stream",
     "text": [
      "C:/Users/User/Desktop/test/generateImages/output/renamed/\n",
      "1000\n"
     ]
    }
   ],
   "source": [
    "path_renamed = path_output + 'renamed/' # Bilder Pfad\n",
    "path_renamed, dirs, renamed_files = next(os.walk(path_renamed))\n",
    "renamed_number_images = len(renamed_files)\n",
    "print(path_renamed)\n",
    "print(renamed_number_images)\n",
    "# print(renamed_files)"
   ]
  },
  {
   "cell_type": "code",
   "execution_count": 43,
   "metadata": {},
   "outputs": [],
   "source": [
    "threshold = 150\n",
    "for i in range (renamed_number_images):\n",
    "    with Image.open(path_renamed + renamed_files[i]) as file:\n",
    "        img = np.array(file)\n",
    "        y,x,z = img.shape\n",
    "        img = img[3:y-4,3:x-4,:]\n",
    "        img_binarised = deepcopy(img)\n",
    "        img_binarised[img<threshold] = 0\n",
    "        img_binarised[img>=threshold] = 255\n",
    "        img_inverted = abs(img_binarised-255)*255\n",
    " \n",
    "        \n",
    "#         plt.figure('img')\n",
    "#         plt.imshow(img)\n",
    "        \n",
    "        img_without_boundary = image_rect(img_inverted)\n",
    "        \n",
    "#         print(img_without_boundary.shape)\n",
    "#         plt.figure('img_without_boundary')\n",
    "#         plt.imshow(img_without_boundary)\n",
    "\n",
    "        img_size_uint8 = Image.fromarray(np.uint8(img_without_boundary))\n",
    "        img_size_uint8.save(path_output + 'without_boundary_binarised/' + renamed_files[i])"
   ]
  },
  {
   "cell_type": "code",
   "execution_count": 78,
   "metadata": {},
   "outputs": [
    {
     "name": "stdout",
     "output_type": "stream",
     "text": [
      "0 0 280 280\n"
     ]
    }
   ],
   "source": [
    "print(path_output)\n",
    "    "
   ]
  },
  {
   "cell_type": "code",
   "execution_count": 30,
   "metadata": {},
   "outputs": [],
   "source": [
    "# https://github.com/mdbloice/Augmentor\n",
    "# https://www.kaggle.com/bguberfain/elastic-transform-for-data-augmentation\n",
    "# https://www.ritchieng.com/machine-learning-photo-ocr/"
   ]
  },
  {
   "cell_type": "code",
   "execution_count": 31,
   "metadata": {},
   "outputs": [],
   "source": [
    "# def iterate():\n",
    "#     img_output = np.zeros((rows+512, cols+512))\n",
    "#     for i in range(rows):\n",
    "#         for j in range(cols):\n",
    "#             offset_x = int(15.0 * np.sin(6*np.pi*i/180))\n",
    "#             offset_y = 0 #int(d * np.sin(e * 3.14 * 1*(i+f)))\n",
    "# #             print(offset_x,offset_y)\n",
    "# #             print(i+offset_y+h,j+offset_x+d)\n",
    "\n",
    "#             img_output[i+offset_y+200,j+offset_x+200] = img[i,j]\n",
    "            \n",
    "# #             plt.figure('Input')\n",
    "# #             plt.imshow(img, cmap='gray')\n",
    "# #             plt.figure('Vertical wavecols')\n",
    "# #             plt.imshow(img_output, cmap='gray')\n",
    "\n",
    "#     plt.figure('bla')\n",
    "#     plt.imshow(img_output/255)\n",
    "\n",
    "#     img_rect = deepcopy(img_output)\n",
    "#     x, y, w, h = cv2.boundingRect(img_rect)\n",
    "#     # print(x, y, w, h)\n",
    "#     x_min = x-1\n",
    "#     y_min = y-1\n",
    "#     x_max = x+w\n",
    "#     y_max = y+h\n",
    "#     cv2.rectangle(img_rect, (x_min, y_min), (x_max, y_max), (0, 255, 0), 0)   # img wird überschrieben\n",
    "#     plt.figure('img_rect')\n",
    "#     plt.imshow(img_rect/255)\n",
    "\n",
    "\n",
    "    \n",
    "#     img_save = image_rect(img_output)\n",
    "#     img_size_uint8 = Image.fromarray(np.uint8(img_output))\n",
    "#     img_size_uint8.save(path + str(a)+'_'+str(b)+'_'+str(c)+'_'+str(d)+'.bmp')\n",
    "                    \n",
    "#         img_size_uint8 = Image.fromarray(np.uint8(img_size))\n",
    "#         img_size_uint8.save(path_save_image + files[i])"
   ]
  },
  {
   "cell_type": "code",
   "execution_count": null,
   "metadata": {},
   "outputs": [],
   "source": [
    "# https://subscription.packtpub.com/book/application_development/9781785283932/1/ch01lvl1sec16/image-warping\n",
    "# img_2D = img[:,:,0]\n",
    "a = 15\n",
    "b = 3\n",
    "c = 1\n",
    "d = 1\n",
    "\n",
    "rows, cols = img_2D.shape \n",
    "img_output = np.zeros((200, 200))\n",
    "img_output_3D = np.zeros((200, 200,3))\n",
    "print(img_output.shape)\n",
    "print(img.shape)\n",
    "for i in range(rows):\n",
    "    for j in range(cols):\n",
    "        offset_x = int(a * np.sin(2*np.pi*i*b/180))\n",
    "        offset_y = 0 # int(c * np.sin(2*np.pi*j*d/180))\n",
    "#       print(offset_x,offset_y)\n",
    "#       print(i+offset_y+h,j+offset_x+d)\n",
    "        img_output[i+offset_y+50, j+offset_x+50] = img_2D[i,j]\n",
    "\n",
    "# plt.figure('img_output')\n",
    "# plt.imshow(img_output)\n",
    "# print(type(img_output))\n",
    "\n",
    "img_output_3D[:,:,0] = img_output\n",
    "img_output_3D[:,:,1] = img_output\n",
    "img_output_3D[:,:,2] = img_output\n",
    "\n",
    "img_rect = deepcopy(img_output_3D)\n",
    "img_rect = img_rect.astype(np.uint8)\n",
    "x, y, w, h = cv2.boundingRect(img_rect[:,:,0])\n",
    "# print(x, y, w, h)\n",
    "x_min = x-1\n",
    "y_min = y-1\n",
    "x_max = x+w\n",
    "y_max = y+h\n",
    "cv2.rectangle(img_rect, (x_min, y_min), (x_max, y_max), (0, 255, 0), 0)   # img wird überschrieben\n",
    "# plt.figure('img_rect')\n",
    "# plt.imshow(img_rect/255)\n",
    "\n",
    "img_without_boundary = img_rect[y:y_max, x:x_max,:]\n",
    "plt.figure('img_without_boundary'+str(a)+'_'+str(b)+'_'+str(c)+'_'+str(d))\n",
    "plt.imshow(img_without_boundary/255)\n"
   ]
  },
  {
   "cell_type": "code",
   "execution_count": null,
   "metadata": {},
   "outputs": [],
   "source": [
    "import os"
   ]
  },
  {
   "cell_type": "code",
   "execution_count": 3,
   "metadata": {},
   "outputs": [],
   "source": []
  },
  {
   "cell_type": "code",
   "execution_count": 300,
   "metadata": {},
   "outputs": [],
   "source": [
    "class GenerateData():\n",
    "    \n",
    "    all_character = ('ABCDEFGHIJKLMNOPQRSTUVWXYabcdefghijklmnopqrstuvwxy0123456789')\n",
    "    character_folder = []\n",
    "    \n",
    "    def __init__(self,path, create_folder_structur = False,  *character):\n",
    "        self.__path = path + '/GeneratedData/'\n",
    "        self.__character = character\n",
    "        self.__create_folder_structur = create_folder_structur\n",
    "        self.__initalImages_path = path + '/GeneratedData/InitalImages/'\n",
    "        self.__tempFolder_path = path + '/GeneratedData/TempFolder/'\n",
    "        self.__distortedImages_path = path + '/GeneratedData/DistortedImages/'\n",
    "        self.__tailoredImages_path = path + '/GeneratedData/TailoredImages/'\n",
    "        self.__backgroundImages_path = path + '/GeneratedData/BackgroundImages/'\n",
    "        self.__segmentedImages_path = path + '/GeneratedData/SegmentedImages/'\n",
    "        self.__finalImages_path = path + '/GeneratedData/FinalImages/'\n",
    "        self.__xml_Files_path = path + '/GeneratedData/XML_Files/'\n",
    "        \n",
    "        \n",
    "        if self.__create_folder_structur == True:\n",
    "            self.set_folder_structur()\n",
    "    \n",
    "    def set_character_folder(self):\n",
    "        \n",
    "        for i in range(len(self.__character)):\n",
    "            if len(self.__character[i]) == 1:\n",
    "                type(self).character_folder.append(self.__character[i][0])\n",
    "#                 print(self.__character[i][0])\n",
    "            else:\n",
    "                \n",
    "                for j in range(type(self).all_character.find(self.__character[i][0]), type(self).all_character.find(self.__character[i][2])+1):\n",
    "                    type(self).character_folder.append(type(self).all_character[j])\n",
    "#                     print(type(self).all_character[j])\n",
    "                \n",
    "                                                          \n",
    "        for k in range(len(type(self).character_folder)):\n",
    "            os.mkdir(self.__initalImages_path + type(self).character_folder[k])                                              \n",
    "            os.mkdir(self.__tempFolder_path + type(self).character_folder[k])\n",
    "            os.mkdir(self.__distortedImages_path + type(self).character_folder[k])    \n",
    "            os.mkdir(self.__tailoredImages_path + type(self).character_folder[k])\n",
    "                                                          \n",
    "    def set_folder_structur(self):\n",
    "        os.mkdir(self.__path)\n",
    "        os.mkdir(self.__initalImages_path)\n",
    "        os.mkdir(self.__tempFolder_path)\n",
    "        os.mkdir(self.__distortedImages_path)\n",
    "        os.mkdir(self.__tailoredImages_path)\n",
    "        os.mkdir(self.__backgroundImages_path)\n",
    "        os.mkdir(self.__segmentedImages_path)\n",
    "        os.mkdir(self.__finalImages_path)\n",
    "        os.mkdir(self.__xml_Files_path)\n",
    "        if len(self.__character) > 0:\n",
    "            self.set_character_folder()\n",
    "            \n",
    "        \n",
    "    "
   ]
  },
  {
   "cell_type": "code",
   "execution_count": 302,
   "metadata": {},
   "outputs": [
    {
     "data": {
      "text/plain": [
       "<__main__.GenerateData at 0xbaaef98>"
      ]
     },
     "execution_count": 302,
     "metadata": {},
     "output_type": "execute_result"
    }
   ],
   "source": [
    "GenerateData('C:/Users/User/Desktop/test/', True, ('D-H'),('A'), ('C'), ('K-P'), ('0-9'))"
   ]
  },
  {
   "cell_type": "code",
   "execution_count": 301,
   "metadata": {},
   "outputs": [],
   "source": [
    "shutil.rmtree('C:/Users/User/Desktop/test/GeneratedData') "
   ]
  },
  {
   "cell_type": "code",
   "execution_count": 122,
   "metadata": {},
   "outputs": [
    {
     "name": "stdout",
     "output_type": "stream",
     "text": [
      "F\n"
     ]
    }
   ],
   "source": [
    "u = ('A-F','a-i')\n",
    "len(u)\n",
    "print(u[0][2])"
   ]
  },
  {
   "cell_type": "code",
   "execution_count": 94,
   "metadata": {},
   "outputs": [],
   "source": [
    "h = []\n",
    "h.append('5')"
   ]
  },
  {
   "cell_type": "code",
   "execution_count": 66,
   "metadata": {},
   "outputs": [
    {
     "data": {
      "text/plain": [
       "3"
      ]
     },
     "execution_count": 66,
     "metadata": {},
     "output_type": "execute_result"
    }
   ],
   "source": [
    "A_Z.find('D')"
   ]
  },
  {
   "cell_type": "code",
   "execution_count": 215,
   "metadata": {},
   "outputs": [],
   "source": [
    "def test(*d):\n",
    "    print(d[0][1])\n",
    "    print(d)"
   ]
  },
  {
   "cell_type": "code",
   "execution_count": 216,
   "metadata": {},
   "outputs": [
    {
     "name": "stdout",
     "output_type": "stream",
     "text": [
      "s\n",
      "('asdfasdf',)\n"
     ]
    }
   ],
   "source": [
    "test(('asdfasdf'))"
   ]
  },
  {
   "cell_type": "code",
   "execution_count": 248,
   "metadata": {},
   "outputs": [
    {
     "data": {
      "text/plain": [
       "3"
      ]
     },
     "execution_count": 248,
     "metadata": {},
     "output_type": "execute_result"
    }
   ],
   "source": [
    "all_character = ('ABCDEFGHIJKLMNOPQRSTUVWXYabcdefghijklmnopqrstuvwxy0123456789')\n",
    "all_character.find('D')"
   ]
  },
  {
   "cell_type": "code",
   "execution_count": 3,
   "metadata": {},
   "outputs": [
    {
     "name": "stdout",
     "output_type": "stream",
     "text": [
      "C:/Users/User/Desktop/test/generateImages/\n",
      "1\n",
      "['test.bmp']\n"
     ]
    }
   ],
   "source": [
    "path_folder = 'C:/Users/User/Desktop/test/generateImages/' # Bilder Pfad\n",
    "path_folder, dirs, files = next(os.walk(path_folder))\n",
    "number_images = len(files)\n",
    "# save_folder = 'C:/Users/User/Desktop/test/Augmentor/GenerateImages/'\n",
    "print(path_folder)\n",
    "print(number_images)\n",
    "print(files)"
   ]
  },
  {
   "cell_type": "code",
   "execution_count": 6,
   "metadata": {},
   "outputs": [
    {
     "data": {
      "text/plain": [
       "1"
      ]
     },
     "execution_count": 6,
     "metadata": {},
     "output_type": "execute_result"
    }
   ],
   "source": [
    "import os.path  \n",
    "import glob  \n",
    "folder = glob.glob('C:/Users/User/Desktop/test/GeneratedData/')\n",
    "len(folder)"
   ]
  },
  {
   "cell_type": "code",
   "execution_count": 11,
   "metadata": {},
   "outputs": [
    {
     "name": "stdout",
     "output_type": "stream",
     "text": [
      "0\n"
     ]
    }
   ],
   "source": [
    "import os\n",
    "cpt = sum([len(files) for r, d, files in os.walk(\"C:/Users/User/Desktop/test/GeneratedData/\")])\n",
    "print(cpt)"
   ]
  },
  {
   "cell_type": "code",
   "execution_count": 12,
   "metadata": {},
   "outputs": [
    {
     "name": "stdout",
     "output_type": "stream",
     "text": [
      "<generator object walk at 0x00000000059D0BA0>\n"
     ]
    }
   ],
   "source": [
    "print(os.walk(\"C:/Users/User/Desktop/test/GeneratedData/\"))"
   ]
  },
  {
   "cell_type": "code",
   "execution_count": 14,
   "metadata": {},
   "outputs": [
    {
     "name": "stdout",
     "output_type": "stream",
     "text": [
      "C:/Users/User/Desktop/test/GeneratedData/ consumes 0 bytes in 0 non-directory files\n",
      "C:/Users/User/Desktop/test/GeneratedData/BackgroundImages consumes 0 bytes in 0 non-directory files\n",
      "C:/Users/User/Desktop/test/GeneratedData/DistortedImages consumes 0 bytes in 0 non-directory files\n",
      "C:/Users/User/Desktop/test/GeneratedData/DistortedImages\\0_000026 consumes 0 bytes in 0 non-directory files\n",
      "C:/Users/User/Desktop/test/GeneratedData/DistortedImages\\1_000027 consumes 0 bytes in 0 non-directory files\n",
      "C:/Users/User/Desktop/test/GeneratedData/DistortedImages\\2_000028 consumes 0 bytes in 0 non-directory files\n",
      "C:/Users/User/Desktop/test/GeneratedData/DistortedImages\\3_000029 consumes 0 bytes in 0 non-directory files\n",
      "C:/Users/User/Desktop/test/GeneratedData/DistortedImages\\4_000030 consumes 0 bytes in 0 non-directory files\n",
      "C:/Users/User/Desktop/test/GeneratedData/DistortedImages\\5_000031 consumes 0 bytes in 0 non-directory files\n",
      "C:/Users/User/Desktop/test/GeneratedData/DistortedImages\\6_000032 consumes 0 bytes in 0 non-directory files\n",
      "C:/Users/User/Desktop/test/GeneratedData/DistortedImages\\7_000033 consumes 0 bytes in 0 non-directory files\n",
      "C:/Users/User/Desktop/test/GeneratedData/DistortedImages\\8_000034 consumes 0 bytes in 0 non-directory files\n",
      "C:/Users/User/Desktop/test/GeneratedData/DistortedImages\\9_000035 consumes 0 bytes in 0 non-directory files\n",
      "C:/Users/User/Desktop/test/GeneratedData/DistortedImages\\A_000000 consumes 0 bytes in 0 non-directory files\n",
      "C:/Users/User/Desktop/test/GeneratedData/DistortedImages\\BACKSLASH_000037 consumes 0 bytes in 0 non-directory files\n",
      "C:/Users/User/Desktop/test/GeneratedData/DistortedImages\\B_000001 consumes 0 bytes in 0 non-directory files\n",
      "C:/Users/User/Desktop/test/GeneratedData/DistortedImages\\COLON_000036 consumes 0 bytes in 0 non-directory files\n",
      "C:/Users/User/Desktop/test/GeneratedData/DistortedImages\\C_000002 consumes 0 bytes in 0 non-directory files\n",
      "C:/Users/User/Desktop/test/GeneratedData/DistortedImages\\DOT_000038 consumes 0 bytes in 0 non-directory files\n",
      "C:/Users/User/Desktop/test/GeneratedData/DistortedImages\\D_000003 consumes 0 bytes in 0 non-directory files\n",
      "C:/Users/User/Desktop/test/GeneratedData/DistortedImages\\E_000004 consumes 0 bytes in 0 non-directory files\n",
      "C:/Users/User/Desktop/test/GeneratedData/DistortedImages\\F_000005 consumes 0 bytes in 0 non-directory files\n",
      "C:/Users/User/Desktop/test/GeneratedData/DistortedImages\\G_000006 consumes 0 bytes in 0 non-directory files\n",
      "C:/Users/User/Desktop/test/GeneratedData/DistortedImages\\H_000007 consumes 0 bytes in 0 non-directory files\n",
      "C:/Users/User/Desktop/test/GeneratedData/DistortedImages\\I_000008 consumes 0 bytes in 0 non-directory files\n",
      "C:/Users/User/Desktop/test/GeneratedData/DistortedImages\\J_000009 consumes 0 bytes in 0 non-directory files\n",
      "C:/Users/User/Desktop/test/GeneratedData/DistortedImages\\K_000010 consumes 0 bytes in 0 non-directory files\n",
      "C:/Users/User/Desktop/test/GeneratedData/DistortedImages\\L_000011 consumes 0 bytes in 0 non-directory files\n",
      "C:/Users/User/Desktop/test/GeneratedData/DistortedImages\\M_000012 consumes 0 bytes in 0 non-directory files\n",
      "C:/Users/User/Desktop/test/GeneratedData/DistortedImages\\N_000013 consumes 0 bytes in 0 non-directory files\n",
      "C:/Users/User/Desktop/test/GeneratedData/DistortedImages\\O_000014 consumes 0 bytes in 0 non-directory files\n",
      "C:/Users/User/Desktop/test/GeneratedData/DistortedImages\\P_000015 consumes 0 bytes in 0 non-directory files\n",
      "C:/Users/User/Desktop/test/GeneratedData/DistortedImages\\Q_000016 consumes 0 bytes in 0 non-directory files\n",
      "C:/Users/User/Desktop/test/GeneratedData/DistortedImages\\R_000017 consumes 0 bytes in 0 non-directory files\n",
      "C:/Users/User/Desktop/test/GeneratedData/DistortedImages\\S_000018 consumes 0 bytes in 0 non-directory files\n",
      "C:/Users/User/Desktop/test/GeneratedData/DistortedImages\\T_000019 consumes 0 bytes in 0 non-directory files\n",
      "C:/Users/User/Desktop/test/GeneratedData/DistortedImages\\U_000020 consumes 0 bytes in 0 non-directory files\n",
      "C:/Users/User/Desktop/test/GeneratedData/DistortedImages\\V_000021 consumes 0 bytes in 0 non-directory files\n",
      "C:/Users/User/Desktop/test/GeneratedData/DistortedImages\\W_000022 consumes 0 bytes in 0 non-directory files\n",
      "C:/Users/User/Desktop/test/GeneratedData/DistortedImages\\X_000023 consumes 0 bytes in 0 non-directory files\n",
      "C:/Users/User/Desktop/test/GeneratedData/DistortedImages\\Y_000024 consumes 0 bytes in 0 non-directory files\n",
      "C:/Users/User/Desktop/test/GeneratedData/DistortedImages\\Z_000025 consumes 0 bytes in 0 non-directory files\n",
      "C:/Users/User/Desktop/test/GeneratedData/FinalImages consumes 0 bytes in 0 non-directory files\n",
      "C:/Users/User/Desktop/test/GeneratedData/InitalImages consumes 0 bytes in 0 non-directory files\n",
      "C:/Users/User/Desktop/test/GeneratedData/InitalImages\\0_000026 consumes 0 bytes in 0 non-directory files\n",
      "C:/Users/User/Desktop/test/GeneratedData/InitalImages\\1_000027 consumes 0 bytes in 0 non-directory files\n",
      "C:/Users/User/Desktop/test/GeneratedData/InitalImages\\2_000028 consumes 0 bytes in 0 non-directory files\n",
      "C:/Users/User/Desktop/test/GeneratedData/InitalImages\\3_000029 consumes 0 bytes in 0 non-directory files\n",
      "C:/Users/User/Desktop/test/GeneratedData/InitalImages\\4_000030 consumes 0 bytes in 0 non-directory files\n",
      "C:/Users/User/Desktop/test/GeneratedData/InitalImages\\5_000031 consumes 0 bytes in 0 non-directory files\n",
      "C:/Users/User/Desktop/test/GeneratedData/InitalImages\\6_000032 consumes 0 bytes in 0 non-directory files\n",
      "C:/Users/User/Desktop/test/GeneratedData/InitalImages\\7_000033 consumes 0 bytes in 0 non-directory files\n",
      "C:/Users/User/Desktop/test/GeneratedData/InitalImages\\8_000034 consumes 0 bytes in 0 non-directory files\n",
      "C:/Users/User/Desktop/test/GeneratedData/InitalImages\\9_000035 consumes 0 bytes in 0 non-directory files\n",
      "C:/Users/User/Desktop/test/GeneratedData/InitalImages\\A_000000 consumes 0 bytes in 0 non-directory files\n",
      "C:/Users/User/Desktop/test/GeneratedData/InitalImages\\BACKSLASH_000037 consumes 0 bytes in 0 non-directory files\n",
      "C:/Users/User/Desktop/test/GeneratedData/InitalImages\\B_000001 consumes 0 bytes in 0 non-directory files\n",
      "C:/Users/User/Desktop/test/GeneratedData/InitalImages\\COLON_000036 consumes 0 bytes in 0 non-directory files\n",
      "C:/Users/User/Desktop/test/GeneratedData/InitalImages\\C_000002 consumes 0 bytes in 0 non-directory files\n",
      "C:/Users/User/Desktop/test/GeneratedData/InitalImages\\DOT_000038 consumes 0 bytes in 0 non-directory files\n",
      "C:/Users/User/Desktop/test/GeneratedData/InitalImages\\D_000003 consumes 0 bytes in 0 non-directory files\n",
      "C:/Users/User/Desktop/test/GeneratedData/InitalImages\\E_000004 consumes 0 bytes in 0 non-directory files\n",
      "C:/Users/User/Desktop/test/GeneratedData/InitalImages\\F_000005 consumes 0 bytes in 0 non-directory files\n",
      "C:/Users/User/Desktop/test/GeneratedData/InitalImages\\G_000006 consumes 0 bytes in 0 non-directory files\n",
      "C:/Users/User/Desktop/test/GeneratedData/InitalImages\\H_000007 consumes 0 bytes in 0 non-directory files\n",
      "C:/Users/User/Desktop/test/GeneratedData/InitalImages\\I_000008 consumes 0 bytes in 0 non-directory files\n",
      "C:/Users/User/Desktop/test/GeneratedData/InitalImages\\J_000009 consumes 0 bytes in 0 non-directory files\n",
      "C:/Users/User/Desktop/test/GeneratedData/InitalImages\\K_000010 consumes 0 bytes in 0 non-directory files\n",
      "C:/Users/User/Desktop/test/GeneratedData/InitalImages\\L_000011 consumes 0 bytes in 0 non-directory files\n",
      "C:/Users/User/Desktop/test/GeneratedData/InitalImages\\M_000012 consumes 0 bytes in 0 non-directory files\n",
      "C:/Users/User/Desktop/test/GeneratedData/InitalImages\\N_000013 consumes 0 bytes in 0 non-directory files\n",
      "C:/Users/User/Desktop/test/GeneratedData/InitalImages\\O_000014 consumes 0 bytes in 0 non-directory files\n",
      "C:/Users/User/Desktop/test/GeneratedData/InitalImages\\P_000015 consumes 0 bytes in 0 non-directory files\n",
      "C:/Users/User/Desktop/test/GeneratedData/InitalImages\\Q_000016 consumes 0 bytes in 0 non-directory files\n",
      "C:/Users/User/Desktop/test/GeneratedData/InitalImages\\R_000017 consumes 0 bytes in 0 non-directory files\n",
      "C:/Users/User/Desktop/test/GeneratedData/InitalImages\\S_000018 consumes 0 bytes in 0 non-directory files\n",
      "C:/Users/User/Desktop/test/GeneratedData/InitalImages\\T_000019 consumes 0 bytes in 0 non-directory files\n",
      "C:/Users/User/Desktop/test/GeneratedData/InitalImages\\U_000020 consumes 0 bytes in 0 non-directory files\n",
      "C:/Users/User/Desktop/test/GeneratedData/InitalImages\\V_000021 consumes 0 bytes in 0 non-directory files\n",
      "C:/Users/User/Desktop/test/GeneratedData/InitalImages\\W_000022 consumes 0 bytes in 0 non-directory files\n",
      "C:/Users/User/Desktop/test/GeneratedData/InitalImages\\X_000023 consumes 0 bytes in 0 non-directory files\n",
      "C:/Users/User/Desktop/test/GeneratedData/InitalImages\\Y_000024 consumes 0 bytes in 0 non-directory files\n",
      "C:/Users/User/Desktop/test/GeneratedData/InitalImages\\Z_000025 consumes 0 bytes in 0 non-directory files\n",
      "C:/Users/User/Desktop/test/GeneratedData/SegmentedImages consumes 0 bytes in 0 non-directory files\n",
      "C:/Users/User/Desktop/test/GeneratedData/TailoredImages consumes 0 bytes in 0 non-directory files\n",
      "C:/Users/User/Desktop/test/GeneratedData/TailoredImages\\0_000026 consumes 0 bytes in 0 non-directory files\n",
      "C:/Users/User/Desktop/test/GeneratedData/TailoredImages\\1_000027 consumes 0 bytes in 0 non-directory files\n",
      "C:/Users/User/Desktop/test/GeneratedData/TailoredImages\\2_000028 consumes 0 bytes in 0 non-directory files\n",
      "C:/Users/User/Desktop/test/GeneratedData/TailoredImages\\3_000029 consumes 0 bytes in 0 non-directory files\n",
      "C:/Users/User/Desktop/test/GeneratedData/TailoredImages\\4_000030 consumes 0 bytes in 0 non-directory files\n",
      "C:/Users/User/Desktop/test/GeneratedData/TailoredImages\\5_000031 consumes 0 bytes in 0 non-directory files\n",
      "C:/Users/User/Desktop/test/GeneratedData/TailoredImages\\6_000032 consumes 0 bytes in 0 non-directory files\n",
      "C:/Users/User/Desktop/test/GeneratedData/TailoredImages\\7_000033 consumes 0 bytes in 0 non-directory files\n",
      "C:/Users/User/Desktop/test/GeneratedData/TailoredImages\\8_000034 consumes 0 bytes in 0 non-directory files\n",
      "C:/Users/User/Desktop/test/GeneratedData/TailoredImages\\9_000035 consumes 0 bytes in 0 non-directory files\n",
      "C:/Users/User/Desktop/test/GeneratedData/TailoredImages\\A_000000 consumes 0 bytes in 0 non-directory files\n",
      "C:/Users/User/Desktop/test/GeneratedData/TailoredImages\\BACKSLASH_000037 consumes 0 bytes in 0 non-directory files\n",
      "C:/Users/User/Desktop/test/GeneratedData/TailoredImages\\B_000001 consumes 0 bytes in 0 non-directory files\n",
      "C:/Users/User/Desktop/test/GeneratedData/TailoredImages\\COLON_000036 consumes 0 bytes in 0 non-directory files\n",
      "C:/Users/User/Desktop/test/GeneratedData/TailoredImages\\C_000002 consumes 0 bytes in 0 non-directory files\n",
      "C:/Users/User/Desktop/test/GeneratedData/TailoredImages\\DOT_000038 consumes 0 bytes in 0 non-directory files\n",
      "C:/Users/User/Desktop/test/GeneratedData/TailoredImages\\D_000003 consumes 0 bytes in 0 non-directory files\n",
      "C:/Users/User/Desktop/test/GeneratedData/TailoredImages\\E_000004 consumes 0 bytes in 0 non-directory files\n",
      "C:/Users/User/Desktop/test/GeneratedData/TailoredImages\\F_000005 consumes 0 bytes in 0 non-directory files\n",
      "C:/Users/User/Desktop/test/GeneratedData/TailoredImages\\G_000006 consumes 0 bytes in 0 non-directory files\n",
      "C:/Users/User/Desktop/test/GeneratedData/TailoredImages\\H_000007 consumes 0 bytes in 0 non-directory files\n",
      "C:/Users/User/Desktop/test/GeneratedData/TailoredImages\\I_000008 consumes 0 bytes in 0 non-directory files\n",
      "C:/Users/User/Desktop/test/GeneratedData/TailoredImages\\J_000009 consumes 0 bytes in 0 non-directory files\n",
      "C:/Users/User/Desktop/test/GeneratedData/TailoredImages\\K_000010 consumes 0 bytes in 0 non-directory files\n",
      "C:/Users/User/Desktop/test/GeneratedData/TailoredImages\\L_000011 consumes 0 bytes in 0 non-directory files\n",
      "C:/Users/User/Desktop/test/GeneratedData/TailoredImages\\M_000012 consumes 0 bytes in 0 non-directory files\n",
      "C:/Users/User/Desktop/test/GeneratedData/TailoredImages\\N_000013 consumes 0 bytes in 0 non-directory files\n",
      "C:/Users/User/Desktop/test/GeneratedData/TailoredImages\\O_000014 consumes 0 bytes in 0 non-directory files\n",
      "C:/Users/User/Desktop/test/GeneratedData/TailoredImages\\P_000015 consumes 0 bytes in 0 non-directory files\n",
      "C:/Users/User/Desktop/test/GeneratedData/TailoredImages\\Q_000016 consumes 0 bytes in 0 non-directory files\n",
      "C:/Users/User/Desktop/test/GeneratedData/TailoredImages\\R_000017 consumes 0 bytes in 0 non-directory files\n",
      "C:/Users/User/Desktop/test/GeneratedData/TailoredImages\\S_000018 consumes 0 bytes in 0 non-directory files\n",
      "C:/Users/User/Desktop/test/GeneratedData/TailoredImages\\T_000019 consumes 0 bytes in 0 non-directory files\n",
      "C:/Users/User/Desktop/test/GeneratedData/TailoredImages\\U_000020 consumes 0 bytes in 0 non-directory files\n",
      "C:/Users/User/Desktop/test/GeneratedData/TailoredImages\\V_000021 consumes 0 bytes in 0 non-directory files\n",
      "C:/Users/User/Desktop/test/GeneratedData/TailoredImages\\W_000022 consumes 0 bytes in 0 non-directory files\n",
      "C:/Users/User/Desktop/test/GeneratedData/TailoredImages\\X_000023 consumes 0 bytes in 0 non-directory files\n",
      "C:/Users/User/Desktop/test/GeneratedData/TailoredImages\\Y_000024 consumes 0 bytes in 0 non-directory files\n",
      "C:/Users/User/Desktop/test/GeneratedData/TailoredImages\\Z_000025 consumes 0 bytes in 0 non-directory files\n",
      "C:/Users/User/Desktop/test/GeneratedData/TempFolder consumes 0 bytes in 0 non-directory files\n",
      "C:/Users/User/Desktop/test/GeneratedData/TempFolder\\0_000026 consumes 0 bytes in 0 non-directory files\n",
      "C:/Users/User/Desktop/test/GeneratedData/TempFolder\\1_000027 consumes 0 bytes in 0 non-directory files\n",
      "C:/Users/User/Desktop/test/GeneratedData/TempFolder\\2_000028 consumes 0 bytes in 0 non-directory files\n",
      "C:/Users/User/Desktop/test/GeneratedData/TempFolder\\3_000029 consumes 0 bytes in 0 non-directory files\n",
      "C:/Users/User/Desktop/test/GeneratedData/TempFolder\\4_000030 consumes 0 bytes in 0 non-directory files\n",
      "C:/Users/User/Desktop/test/GeneratedData/TempFolder\\5_000031 consumes 0 bytes in 0 non-directory files\n",
      "C:/Users/User/Desktop/test/GeneratedData/TempFolder\\6_000032 consumes 0 bytes in 0 non-directory files\n",
      "C:/Users/User/Desktop/test/GeneratedData/TempFolder\\7_000033 consumes 0 bytes in 0 non-directory files\n",
      "C:/Users/User/Desktop/test/GeneratedData/TempFolder\\8_000034 consumes 0 bytes in 0 non-directory files\n",
      "C:/Users/User/Desktop/test/GeneratedData/TempFolder\\9_000035 consumes 0 bytes in 0 non-directory files\n",
      "C:/Users/User/Desktop/test/GeneratedData/TempFolder\\A_000000 consumes 0 bytes in 0 non-directory files\n",
      "C:/Users/User/Desktop/test/GeneratedData/TempFolder\\BACKSLASH_000037 consumes 0 bytes in 0 non-directory files\n",
      "C:/Users/User/Desktop/test/GeneratedData/TempFolder\\B_000001 consumes 0 bytes in 0 non-directory files\n",
      "C:/Users/User/Desktop/test/GeneratedData/TempFolder\\COLON_000036 consumes 0 bytes in 0 non-directory files\n",
      "C:/Users/User/Desktop/test/GeneratedData/TempFolder\\C_000002 consumes 0 bytes in 0 non-directory files\n",
      "C:/Users/User/Desktop/test/GeneratedData/TempFolder\\DOT_000038 consumes 0 bytes in 0 non-directory files\n",
      "C:/Users/User/Desktop/test/GeneratedData/TempFolder\\D_000003 consumes 0 bytes in 0 non-directory files\n",
      "C:/Users/User/Desktop/test/GeneratedData/TempFolder\\E_000004 consumes 0 bytes in 0 non-directory files\n",
      "C:/Users/User/Desktop/test/GeneratedData/TempFolder\\F_000005 consumes 0 bytes in 0 non-directory files\n",
      "C:/Users/User/Desktop/test/GeneratedData/TempFolder\\G_000006 consumes 0 bytes in 0 non-directory files\n",
      "C:/Users/User/Desktop/test/GeneratedData/TempFolder\\H_000007 consumes 0 bytes in 0 non-directory files\n",
      "C:/Users/User/Desktop/test/GeneratedData/TempFolder\\I_000008 consumes 0 bytes in 0 non-directory files\n",
      "C:/Users/User/Desktop/test/GeneratedData/TempFolder\\J_000009 consumes 0 bytes in 0 non-directory files\n",
      "C:/Users/User/Desktop/test/GeneratedData/TempFolder\\K_000010 consumes 0 bytes in 0 non-directory files\n",
      "C:/Users/User/Desktop/test/GeneratedData/TempFolder\\L_000011 consumes 0 bytes in 0 non-directory files\n",
      "C:/Users/User/Desktop/test/GeneratedData/TempFolder\\M_000012 consumes 0 bytes in 0 non-directory files\n",
      "C:/Users/User/Desktop/test/GeneratedData/TempFolder\\N_000013 consumes 0 bytes in 0 non-directory files\n",
      "C:/Users/User/Desktop/test/GeneratedData/TempFolder\\O_000014 consumes 0 bytes in 0 non-directory files\n",
      "C:/Users/User/Desktop/test/GeneratedData/TempFolder\\P_000015 consumes 0 bytes in 0 non-directory files\n"
     ]
    },
    {
     "name": "stdout",
     "output_type": "stream",
     "text": [
      "C:/Users/User/Desktop/test/GeneratedData/TempFolder\\Q_000016 consumes 0 bytes in 0 non-directory files\n",
      "C:/Users/User/Desktop/test/GeneratedData/TempFolder\\R_000017 consumes 0 bytes in 0 non-directory files\n",
      "C:/Users/User/Desktop/test/GeneratedData/TempFolder\\S_000018 consumes 0 bytes in 0 non-directory files\n",
      "C:/Users/User/Desktop/test/GeneratedData/TempFolder\\T_000019 consumes 0 bytes in 0 non-directory files\n",
      "C:/Users/User/Desktop/test/GeneratedData/TempFolder\\U_000020 consumes 0 bytes in 0 non-directory files\n",
      "C:/Users/User/Desktop/test/GeneratedData/TempFolder\\V_000021 consumes 0 bytes in 0 non-directory files\n",
      "C:/Users/User/Desktop/test/GeneratedData/TempFolder\\W_000022 consumes 0 bytes in 0 non-directory files\n",
      "C:/Users/User/Desktop/test/GeneratedData/TempFolder\\X_000023 consumes 0 bytes in 0 non-directory files\n",
      "C:/Users/User/Desktop/test/GeneratedData/TempFolder\\Y_000024 consumes 0 bytes in 0 non-directory files\n",
      "C:/Users/User/Desktop/test/GeneratedData/TempFolder\\Z_000025 consumes 0 bytes in 0 non-directory files\n",
      "C:/Users/User/Desktop/test/GeneratedData/XML_Files consumes 0 bytes in 0 non-directory files\n"
     ]
    }
   ],
   "source": [
    "import os\n",
    "from os.path import join, getsize\n",
    "for root, dirs, files in os.walk('C:/Users/User/Desktop/test/GeneratedData/'):\n",
    "#     print(root, \"consumes\", end=\" \")\n",
    "#     print(sum(getsize(join(root, name)) for name in files), end=\" \")\n",
    "#     print(\"bytes in\", len(files), \"non-directory files\")"
   ]
  },
  {
   "cell_type": "code",
   "execution_count": 21,
   "metadata": {},
   "outputs": [
    {
     "ename": "TypeError",
     "evalue": "object of type 'generator' has no len()",
     "output_type": "error",
     "traceback": [
      "\u001b[1;31m---------------------------------------------------------------------------\u001b[0m",
      "\u001b[1;31mTypeError\u001b[0m                                 Traceback (most recent call last)",
      "\u001b[1;32m<ipython-input-21-3a2de8f4ebb5>\u001b[0m in \u001b[0;36m<module>\u001b[1;34m()\u001b[0m\n\u001b[0;32m      1\u001b[0m \u001b[0mfiles\u001b[0m \u001b[1;33m=\u001b[0m \u001b[0mos\u001b[0m\u001b[1;33m.\u001b[0m\u001b[0mwalk\u001b[0m\u001b[1;33m(\u001b[0m\u001b[1;34m'C:/Users/User/Desktop/test/GeneratedData/'\u001b[0m\u001b[1;33m)\u001b[0m\u001b[1;33m\u001b[0m\u001b[0m\n\u001b[1;32m----> 2\u001b[1;33m \u001b[0mprint\u001b[0m\u001b[1;33m(\u001b[0m\u001b[0mlen\u001b[0m\u001b[1;33m(\u001b[0m\u001b[0mfiles\u001b[0m\u001b[1;33m)\u001b[0m\u001b[1;33m)\u001b[0m\u001b[1;33m\u001b[0m\u001b[0m\n\u001b[0m",
      "\u001b[1;31mTypeError\u001b[0m: object of type 'generator' has no len()"
     ]
    }
   ],
   "source": [
    "root, dirs, files = os.walk('C:/Users/User/Desktop/test/GeneratedData/')\n",
    "print(len(files))"
   ]
  },
  {
   "cell_type": "code",
   "execution_count": 19,
   "metadata": {},
   "outputs": [
    {
     "name": "stdout",
     "output_type": "stream",
     "text": [
      "<generator object walk at 0x000000000B8FCD00>\n"
     ]
    }
   ],
   "source": [
    "print(root)"
   ]
  },
  {
   "cell_type": "code",
   "execution_count": 22,
   "metadata": {},
   "outputs": [
    {
     "ename": "ValueError",
     "evalue": "too many values to unpack (expected 3)",
     "output_type": "error",
     "traceback": [
      "\u001b[1;31m---------------------------------------------------------------------------\u001b[0m",
      "\u001b[1;31mValueError\u001b[0m                                Traceback (most recent call last)",
      "\u001b[1;32m<ipython-input-22-d002b893a9d8>\u001b[0m in \u001b[0;36m<module>\u001b[1;34m()\u001b[0m\n\u001b[1;32m----> 1\u001b[1;33m \u001b[0mpath_folder\u001b[0m\u001b[1;33m,\u001b[0m \u001b[0mdirs\u001b[0m\u001b[1;33m,\u001b[0m \u001b[0mfiles\u001b[0m \u001b[1;33m=\u001b[0m \u001b[0mos\u001b[0m\u001b[1;33m.\u001b[0m\u001b[0mwalk\u001b[0m\u001b[1;33m(\u001b[0m\u001b[1;34m'C:/Users/User/Desktop/test/GeneratedData/'\u001b[0m\u001b[1;33m)\u001b[0m\u001b[1;33m\u001b[0m\u001b[0m\n\u001b[0m",
      "\u001b[1;31mValueError\u001b[0m: too many values to unpack (expected 3)"
     ]
    }
   ],
   "source": [
    "path_folder, dirs, files = os.walk('C:/Users/User/Desktop/test/GeneratedData/')"
   ]
  },
  {
   "cell_type": "code",
   "execution_count": 46,
   "metadata": {},
   "outputs": [],
   "source": [
    "# https://gist.github.com/iborko/5d9c2c16004ce8b926ea\n",
    "def zca_whiten(X):\n",
    "    \"\"\"\n",
    "    Applies ZCA whitening to the data (X)\n",
    "    http://xcorr.net/2011/05/27/whiten-a-matrix-matlab-code/\n",
    "\n",
    "    X: numpy 2d array\n",
    "        input data, rows are data points, columns are features\n",
    "\n",
    "    Returns: ZCA whitened 2d array\n",
    "    \"\"\"\n",
    "    assert(X.ndim == 2)\n",
    "    EPS = 10e-5\n",
    "\n",
    "    #   covariance matrix\n",
    "    cov = np.dot(X.T, X)\n",
    "    #   d = (lambda1, lambda2, ..., lambdaN)\n",
    "    d, E = np.linalg.eigh(cov)\n",
    "    #   D = diag(d) ^ (-1/2)\n",
    "    D = np.diag(1. / np.sqrt(d + EPS))\n",
    "    #   W_zca = E * D * E.T\n",
    "    W = np.dot(np.dot(E, D), E.T)\n",
    "\n",
    "    X_white = 0.0001*np.dot(X, W)\n",
    "\n",
    "    return X_white"
   ]
  },
  {
   "cell_type": "code",
   "execution_count": 47,
   "metadata": {},
   "outputs": [
    {
     "name": "stdout",
     "output_type": "stream",
     "text": [
      "[[0.         0.         0.         0.         0.         0.\n",
      "  0.         0.         0.         0.         0.75686275 0.94117647\n",
      "  0.98431373 1.         0.99215686 0.96470588 0.89803922 0.59607843\n",
      "  0.         0.         0.         0.         0.         0.\n",
      "  0.         0.         0.         0.        ]\n",
      " [0.         0.         0.         0.         0.         0.\n",
      "  0.         0.         0.         0.56078431 1.         1.\n",
      "  1.         1.         1.         1.         1.         1.\n",
      "  0.         0.         0.         0.         0.         0.\n",
      "  0.         0.         0.         0.        ]\n",
      " [0.         0.         0.         0.         0.         0.\n",
      "  0.         0.         0.         0.90196078 1.         1.\n",
      "  1.         1.         1.         1.         1.         1.\n",
      "  0.58823529 0.         0.         0.         0.         0.\n",
      "  0.         0.         0.         0.        ]\n",
      " [0.         0.         0.         0.         0.         0.\n",
      "  0.         0.         0.         1.         1.         1.\n",
      "  1.         1.         1.         1.         1.         1.\n",
      "  0.92156863 0.         0.         0.         0.         0.\n",
      "  0.         0.         0.         0.        ]\n",
      " [0.         0.         0.         0.         0.         0.\n",
      "  0.         0.         0.61960784 1.         1.         1.\n",
      "  1.         1.         1.         1.         1.         1.\n",
      "  1.         0.         0.         0.         0.         0.\n",
      "  0.         0.         0.         0.        ]\n",
      " [0.         0.         0.         0.         0.         0.\n",
      "  0.         0.         0.94117647 1.         1.         1.\n",
      "  1.         0.91372549 1.         1.         1.         1.\n",
      "  1.         0.64313725 0.         0.         0.         0.\n",
      "  0.         0.         0.         0.        ]\n",
      " [0.         0.         0.         0.         0.         0.\n",
      "  0.         0.         1.         1.         1.         1.\n",
      "  1.         0.         1.         1.         1.         1.\n",
      "  1.         0.95294118 0.         0.         0.         0.\n",
      "  0.         0.         0.         0.        ]\n",
      " [0.         0.         0.         0.         0.         0.\n",
      "  0.         0.67058824 1.         1.         1.         1.\n",
      "  0.84705882 0.         0.84313725 1.         1.         1.\n",
      "  1.         1.         0.         0.         0.         0.\n",
      "  0.         0.         0.         0.        ]\n",
      " [0.         0.         0.         0.         0.         0.\n",
      "  0.         0.96862745 1.         1.         1.         1.\n",
      "  0.52156863 0.         0.51764706 1.         1.         1.\n",
      "  1.         1.         0.69803922 0.         0.         0.\n",
      "  0.         0.         0.         0.        ]\n",
      " [0.         0.         0.         0.         0.         0.\n",
      "  0.         1.         1.         1.         1.         1.\n",
      "  0.         0.         0.         1.         1.         1.\n",
      "  1.         1.         0.98039216 0.         0.         0.\n",
      "  0.         0.         0.         0.        ]\n",
      " [0.         0.         0.         0.         0.         0.\n",
      "  0.7254902  1.         1.         1.         1.         0.8745098\n",
      "  0.         0.         0.         0.86666667 1.         1.\n",
      "  1.         1.         1.         0.4        0.         0.\n",
      "  0.         0.         0.         0.        ]\n",
      " [0.         0.         0.         0.         0.         0.\n",
      "  0.98823529 1.         1.         1.         1.         0.54901961\n",
      "  0.         0.         0.         0.54117647 1.         1.\n",
      "  1.         1.         1.         0.75294118 0.         0.\n",
      "  0.         0.         0.         0.        ]\n",
      " [0.         0.         0.         0.         0.         0.42745098\n",
      "  1.         1.         1.         1.         1.         0.\n",
      "  0.         0.         0.         0.         1.         1.\n",
      "  1.         1.         1.         0.99215686 0.         0.\n",
      "  0.         0.         0.         0.        ]\n",
      " [0.         0.         0.         0.         0.         0.77647059\n",
      "  1.         1.         1.         1.         0.89803922 0.\n",
      "  0.         0.         0.         0.         0.88627451 1.\n",
      "  1.         1.         1.         1.         0.45490196 0.\n",
      "  0.         0.         0.         0.        ]\n",
      " [0.         0.         0.         0.         0.         1.\n",
      "  1.         1.         1.         1.         0.58039216 0.\n",
      "  0.         0.         0.         0.         0.56470588 1.\n",
      "  1.         1.         1.         1.         0.80392157 0.\n",
      "  0.         0.         0.         0.        ]\n",
      " [0.         0.         0.         0.         0.47843137 1.\n",
      "  1.         1.         1.         1.         0.         0.\n",
      "  0.         0.         0.         0.         0.         1.\n",
      "  1.         1.         1.         1.         1.         0.\n",
      "  0.         0.         0.         0.        ]\n",
      " [0.         0.         0.         0.         0.82745098 1.\n",
      "  1.         1.         1.         0.92156863 0.         0.\n",
      "  0.         0.         0.         0.         0.         0.90196078\n",
      "  1.         1.         1.         1.         1.         0.50588235\n",
      "  0.         0.         0.         0.        ]\n",
      " [0.         0.         0.         0.         1.         1.\n",
      "  1.         1.         1.         0.60784314 0.         0.\n",
      "  0.         0.         0.         0.         0.         0.58431373\n",
      "  1.         1.         1.         1.         1.         0.85882353\n",
      "  0.         0.         0.         0.        ]\n",
      " [0.         0.         0.         0.53333333 1.         1.\n",
      "  1.         1.         1.         0.         0.         0.\n",
      "  0.         0.         0.         0.         0.         0.\n",
      "  1.         1.         1.         1.         1.         1.\n",
      "  0.         0.         0.         0.        ]\n",
      " [0.         0.         0.         0.87843137 1.         1.\n",
      "  1.         1.         1.         1.         1.         1.\n",
      "  1.         1.         1.         1.         1.         1.\n",
      "  1.         1.         1.         1.         1.         1.\n",
      "  0.56078431 0.         0.         0.        ]\n",
      " [0.         0.         0.         1.         1.         1.\n",
      "  1.         1.         1.         1.         1.         1.\n",
      "  1.         1.         1.         1.         1.         1.\n",
      "  1.         1.         1.         1.         1.         1.\n",
      "  0.90196078 0.         0.         0.        ]\n",
      " [0.         0.         0.58431373 1.         1.         1.\n",
      "  1.         1.         1.         1.         1.         1.\n",
      "  1.         1.         1.         1.         1.         1.\n",
      "  1.         1.         1.         1.         1.         1.\n",
      "  1.         0.         0.         0.        ]\n",
      " [0.         0.         0.91764706 1.         1.         1.\n",
      "  1.         1.         1.         1.         1.         1.\n",
      "  1.         1.         1.         1.         1.         1.\n",
      "  1.         1.         1.         1.         1.         1.\n",
      "  1.         0.61568627 0.         0.        ]\n",
      " [0.         0.         1.         1.         1.         1.\n",
      "  1.         1.         1.         1.         1.         1.\n",
      "  1.         1.         1.         1.         1.         1.\n",
      "  1.         1.         1.         1.         1.         1.\n",
      "  1.         0.9372549  0.         0.        ]\n",
      " [0.         0.63921569 1.         1.         1.         1.\n",
      "  1.         0.56470588 0.         0.         0.         0.\n",
      "  0.         0.         0.         0.         0.         0.\n",
      "  0.         0.47058824 1.         1.         1.         1.\n",
      "  1.         1.         0.         0.        ]\n",
      " [0.         0.94901961 1.         1.         1.         1.\n",
      "  1.         0.         0.         0.         0.         0.\n",
      "  0.         0.         0.         0.         0.         0.\n",
      "  0.         0.         1.         1.         1.         1.\n",
      "  1.         1.         0.67058824 0.        ]\n",
      " [0.         1.         1.         1.         1.         1.\n",
      "  0.89019608 0.         0.         0.         0.         0.\n",
      "  0.         0.         0.         0.         0.         0.\n",
      "  0.         0.         0.78431373 1.         1.         1.\n",
      "  1.         1.         0.96862745 0.        ]\n",
      " [0.69019608 1.         1.         1.         1.         1.\n",
      "  0.55686275 0.         0.         0.         0.         0.\n",
      "  0.         0.         0.         0.         0.         0.\n",
      "  0.         0.         0.43921569 1.         1.         1.\n",
      "  1.         1.         1.         0.        ]\n",
      " [0.97647059 1.         1.         1.         1.         1.\n",
      "  0.         0.         0.         0.         0.         0.\n",
      "  0.         0.         0.         0.         0.         0.\n",
      "  0.         0.         0.         0.99215686 1.         1.\n",
      "  1.         1.         1.         0.71764706]\n",
      " [1.         1.         1.         1.         1.         0.88235294\n",
      "  0.         0.         0.         0.         0.         0.\n",
      "  0.         0.         0.         0.         0.         0.\n",
      "  0.         0.         0.         0.74901961 1.         1.\n",
      "  1.         1.         1.         0.97254902]\n",
      " [0.89019608 0.98431373 1.         0.98039216 0.89019608 0.\n",
      "  0.         0.         0.         0.         0.         0.\n",
      "  0.         0.         0.         0.         0.         0.\n",
      "  0.         0.         0.         0.         0.87843137 0.97647059\n"
     ]
    },
    {
     "name": "stdout",
     "output_type": "stream",
     "text": [
      "  0.99607843 0.99607843 0.96470588 0.8       ]]\n"
     ]
    }
   ],
   "source": [
    "b = img_without_boundary[:,:,0]/255\n",
    "print(b)\n",
    "a = zca_whiten(b)"
   ]
  },
  {
   "cell_type": "code",
   "execution_count": 49,
   "metadata": {},
   "outputs": [
    {
     "name": "stdout",
     "output_type": "stream",
     "text": [
      "[[ 8.88234915e-06  9.33964569e-06 -3.43076660e-06 -2.98857119e-05\n",
      "  -1.83412101e-06  1.20584840e-06  6.54961343e-06  6.48253867e-06\n",
      "  -4.28554670e-06 -5.56575225e-05 -2.21518888e-05  1.03280448e-05\n",
      "   1.95829000e-05  2.36534855e-05  2.38060120e-05  2.21385737e-05\n",
      "   4.57012634e-05  9.64939219e-06 -1.17777587e-05  3.56586063e-06\n",
      "   1.07501062e-05  5.53037902e-06  7.23154553e-06 -1.88931641e-05\n",
      "   4.46481181e-07  2.06310154e-06  8.92832897e-06  7.73866030e-06]\n",
      " [ 2.67578576e-07  2.01089024e-06  2.04390873e-06  5.05595863e-07\n",
      "   5.51141218e-06  1.58790949e-06  5.39004765e-07 -2.37648716e-06\n",
      "  -4.97206176e-06 -5.91045834e-06  5.08287210e-05  1.65566106e-05\n",
      "   1.17302010e-05  1.26806716e-05  7.29412981e-06  4.21506054e-06\n",
      "  -1.92272387e-05  4.89526013e-05 -4.82330566e-05 -7.89090026e-06\n",
      "  -2.64472136e-06  2.78067428e-07  5.36113436e-06  9.45670032e-06\n",
      "  -3.00045647e-05 -1.49952930e-06 -2.46656720e-07  4.19958379e-07]\n",
      " [ 1.73347322e-06  1.79811326e-06  1.99977695e-06 -5.09979084e-06\n",
      "   4.29584854e-06 -7.07125335e-07 -1.45666485e-07 -4.05970783e-06\n",
      "  -3.78157923e-05  3.13694669e-05  1.10586022e-05  8.34063129e-06\n",
      "   1.08064799e-05  1.47890187e-05  1.14883819e-05  9.63809412e-06\n",
      "   1.30122485e-05  2.60240776e-06  7.22397559e-06 -5.86446994e-06\n",
      "  -1.38152016e-07 -2.29019037e-07  4.53561800e-06  1.28707773e-06\n",
      "  -1.92897242e-05 -7.23110283e-07  4.12455083e-06  1.63201600e-06]\n",
      " [ 2.28799007e-07 -8.04284452e-07 -1.86545480e-06 -3.65076428e-06\n",
      "  -2.09940389e-06  1.70893430e-07 -1.26812260e-06 -6.45249060e-06\n",
      "  -5.76841065e-05  1.41716456e-05  8.57195485e-06  8.42502545e-06\n",
      "   1.00564145e-05  1.42739105e-05  8.87229986e-06  7.41296350e-06\n",
      "   4.81269387e-06  1.22977279e-05  5.48376844e-05 -5.43138156e-06\n",
      "  -2.11373272e-06 -1.35471537e-06 -2.22432531e-06  7.56185912e-07\n",
      "  -1.63843257e-06  1.24718211e-06  5.28471205e-06  7.73067202e-07]\n",
      " [ 6.82863851e-07  1.76023862e-05 -2.50355188e-07 -8.13588043e-07\n",
      "   1.14282761e-06 -2.29174081e-06 -2.90360673e-06 -5.00972594e-06\n",
      "   4.43919377e-05  9.02036275e-06  5.05004223e-06  6.72648820e-06\n",
      "   7.31794723e-06  1.16218576e-05  9.46568532e-06  7.33473889e-06\n",
      "   1.10085660e-05  1.22227104e-05  3.06243033e-05 -6.97834986e-05\n",
      "  -7.23216426e-06 -1.17117595e-06  9.90154236e-07 -2.08566866e-06\n",
      "  -2.55047084e-06  5.08473535e-06 -2.06307686e-05 -1.79389488e-06]\n",
      " [-4.02951563e-06  3.39002075e-05  1.58502364e-06 -9.34420131e-06\n",
      "  -1.11410492e-05 -1.14887222e-06 -7.79313109e-06 -3.30732909e-05\n",
      "   3.35250620e-05  1.65406539e-05  6.41240222e-06  5.46113915e-06\n",
      "   5.55569335e-06  5.56681574e-05  3.10275276e-06  1.99294228e-06\n",
      "  -1.01250221e-05 -9.30510018e-06  1.02143013e-05  4.36465842e-05\n",
      "  -9.99747845e-06 -4.97547958e-06 -1.34585063e-05 -2.32639415e-06\n",
      "  -3.13696366e-06  6.05710299e-06  3.02790914e-06 -3.23251291e-06]\n",
      " [ 6.41352265e-06 -1.57416795e-05  3.52547510e-07  2.90062706e-06\n",
      "   3.95741830e-06 -4.75752910e-06 -2.75367286e-06 -5.79600273e-05\n",
      "   1.46699140e-05  3.24696017e-06  6.50694046e-06  8.81169470e-06\n",
      "   2.16352131e-05 -5.17571658e-05  2.43602248e-05  1.00591388e-05\n",
      "   1.60984679e-05  1.61795869e-05  1.24325580e-05  2.97316487e-05\n",
      "  -1.26960352e-07  7.96048293e-08  6.62631013e-06 -5.80311180e-07\n",
      "  -6.03005611e-07  9.88007537e-07 -6.58533887e-06  2.62804301e-06]\n",
      " [-1.99101255e-05  2.45788279e-05  1.44440391e-06  5.79195531e-07\n",
      "   2.26228101e-06  5.24990326e-06  3.58683667e-06  4.09393482e-05\n",
      "   1.23424242e-05  5.14379681e-06  5.19517497e-06  1.03493224e-05\n",
      "   1.50136603e-05 -3.17179298e-05  1.33088032e-05  1.38332905e-05\n",
      "   1.10814198e-05  8.86345433e-06  8.69733588e-06  1.45929532e-05\n",
      "  -5.76328305e-05 -1.12797936e-05 -5.25666379e-06 -3.16128908e-06\n",
      "  -1.10763900e-06  4.23508809e-06  5.70864471e-06 -1.05497695e-05]\n",
      " [ 8.95914662e-06  1.41161446e-05  1.64172285e-06 -1.11628204e-05\n",
      "  -1.57589252e-05 -5.98337135e-06 -3.39422994e-05  3.97521567e-05\n",
      "   9.20530577e-06  1.66923253e-05  1.00629211e-05  1.23000555e-05\n",
      "   2.74554166e-05 -2.10587878e-05  2.47549755e-05  5.32460757e-06\n",
      "  -1.40916458e-05 -1.40432193e-05  2.31112603e-06  5.69709006e-06\n",
      "   4.69785960e-05 -8.76561176e-06 -1.35894880e-05 -3.78534628e-07\n",
      "  -1.04884500e-06  3.03979311e-06  1.49263473e-05  1.60725628e-06]\n",
      " [-1.07876555e-05 -1.82741674e-07  4.50638044e-07  7.65926158e-06\n",
      "   1.13945813e-05  3.33738716e-06 -4.75583955e-05  4.89644334e-06\n",
      "   7.66918574e-06 -1.13369473e-06  8.72192016e-06  1.69944530e-05\n",
      "  -3.65098422e-05  4.51988976e-07 -3.43563785e-05  2.36031011e-05\n",
      "   2.74547799e-05  2.36256624e-05  1.08916901e-05  1.33182770e-05\n",
      "   2.89479903e-05 -1.91310528e-05  6.23268534e-06 -2.48194282e-06\n",
      "   9.45145157e-08  1.68375415e-06 -1.40747568e-06 -1.08324220e-05]\n",
      " [ 1.68317632e-05 -8.46288115e-08  2.33633024e-07 -3.88034672e-06\n",
      "  -6.77638639e-06  4.42502665e-06  4.78777337e-05  7.37810928e-06\n",
      "   6.77948206e-06  7.50477330e-06  6.53356478e-06  3.61544485e-05\n",
      "  -2.55416421e-05 -6.81559042e-06 -2.53158012e-05  3.19496880e-05\n",
      "   3.87167748e-06  2.11573438e-06  5.29920561e-06  6.17653101e-06\n",
      "   3.86713190e-06 -1.67624408e-05 -2.16031757e-05 -2.87340981e-06\n",
      "  -1.27571639e-06  5.77849859e-07  3.58369246e-06  1.19040858e-05]\n",
      " [ 3.93819368e-06  1.11083517e-06  1.31673077e-07 -6.53946304e-06\n",
      "  -1.04045866e-05 -5.78288937e-05  2.51544703e-05  8.42289286e-06\n",
      "   7.24215799e-06  1.07287057e-05  1.28116200e-05  1.25411713e-05\n",
      "  -9.59791110e-06 -6.43303332e-06 -1.07106847e-05  1.16433323e-05\n",
      "   5.74537577e-06 -1.37693458e-06  4.36468309e-06  5.25509480e-06\n",
      "   7.86873236e-06  5.24738745e-05  1.57955138e-07 -2.30162729e-06\n",
      "  -8.73329898e-07  4.75972098e-07  2.37681828e-06  6.89378237e-06]\n",
      " [ 5.09085708e-06  5.95396766e-06 -1.95690012e-07  1.18434344e-05\n",
      "   1.91437064e-06  3.52194732e-06  9.87189491e-06  1.22645021e-05\n",
      "   6.29591955e-06  3.72692362e-07  1.04573327e-05 -3.60463216e-05\n",
      "   1.97659282e-06  2.81528840e-06  4.37005924e-06 -3.14721634e-05\n",
      "   2.55151327e-05  3.21951219e-05  1.11625934e-05  1.17990766e-05\n",
      "   1.70702472e-05  1.79215248e-05 -5.91477202e-05  3.64659390e-06\n",
      "  -2.90406951e-06  9.53473438e-07  6.09244516e-06  4.25481338e-06]\n",
      " [-1.30667522e-06 -1.68884534e-06 -1.34028002e-06 -1.80051721e-05\n",
      "   1.34582937e-05  1.94943570e-05  9.67834117e-06  5.42176346e-06\n",
      "   7.76417366e-06  1.23636600e-05  4.83907524e-05 -2.18890506e-05\n",
      "  -7.45149054e-06 -5.16879360e-06 -9.79723882e-06 -2.57706896e-05\n",
      "   3.95366038e-05 -1.47641228e-05  2.86147078e-06  3.86900421e-06\n",
      "   1.36096791e-06  1.98643743e-06  2.81305746e-05 -3.22651834e-05\n",
      "   9.06441011e-07 -5.74957955e-07 -2.08763318e-06 -1.15873293e-06]\n",
      " [ 3.00184908e-06  6.06680876e-07 -1.53476172e-06 -2.10526882e-06\n",
      "  -7.72095458e-05  2.96666736e-05  1.21900968e-05  7.85352656e-06\n",
      "   6.62718380e-06  7.81344403e-06 -2.47870023e-06 -8.92177186e-06\n",
      "  -3.87477086e-06 -1.58276089e-06 -2.60110768e-06 -6.35957626e-06\n",
      "   3.39203194e-06  2.03276843e-05  7.99028755e-06  7.36864859e-06\n",
      "   6.96388116e-06  4.71110814e-06  3.82533685e-05  1.59161458e-05\n",
      "  -3.24556739e-06 -8.76500192e-07  1.39797148e-06  3.86616815e-06]\n",
      " [ 5.01429951e-06  3.99925737e-06 -2.36808197e-06  5.48320912e-06\n",
      "   2.00661464e-05  7.21473965e-06  1.04160609e-05  1.17585418e-05\n",
      "   7.41425869e-06  1.46726142e-05 -1.90051224e-05  4.22865822e-07\n",
      "   4.24558403e-06  3.91878121e-06  4.52294621e-06 -1.08686243e-06\n",
      "  -3.60543074e-05  2.21358075e-05  1.10380811e-05  1.14969120e-05\n",
      "   1.40300128e-05  1.33616856e-05  2.57216923e-05 -6.64582913e-05\n",
      "  -4.68038834e-06 -6.78074370e-07  4.50394612e-06  4.51845492e-06]\n",
      " [-2.30906883e-06 -2.91365512e-06 -2.47350727e-06 -8.86004628e-06\n",
      "   2.26474698e-05  1.12991491e-05  6.61249110e-06  6.00731396e-06\n",
      "   8.55375324e-06  1.92695966e-05 -4.45536337e-05 -7.18879490e-06\n",
      "  -4.68546834e-06 -3.18758922e-06 -4.68882876e-06 -2.81134823e-06\n",
      "  -6.16416166e-07  4.66257156e-05  3.37909702e-06  5.48283958e-06\n",
      "   2.95148973e-06  5.06865467e-06  2.83775101e-06  1.86825904e-05\n",
      "  -1.56161758e-05 -3.58405033e-06 -2.90485211e-06 -1.74645489e-06]\n",
      " [ 6.56562057e-08 -1.91251962e-06 -6.88514372e-06 -6.79028434e-05\n",
      "   3.14222448e-05  7.32317258e-06  7.22101778e-06  8.26170777e-06\n",
      "   9.68044250e-06  8.12385176e-06  3.00784188e-06 -2.95181771e-06\n",
      "  -1.39272356e-06 -1.24940134e-06 -6.41441319e-07 -3.50760432e-06\n",
      "  -1.12935936e-05 -6.23400551e-06  9.73176788e-06  8.71591952e-06\n",
      "   7.59738949e-06  6.95665218e-06  1.48837873e-05  4.27093621e-05\n",
      "   1.88193027e-06 -3.05993496e-06 -9.40497396e-07  1.29984540e-07]\n",
      " [ 6.25814856e-07 -2.05149795e-06 -3.86789375e-06  2.88644373e-05\n",
      "   1.41398449e-05  8.93774264e-06  9.34025235e-06  1.10478279e-05\n",
      "   1.24343705e-05 -4.77848986e-05  1.46853461e-05  2.88367759e-06\n",
      "   1.89807160e-06  3.76843968e-07 -3.76289739e-07 -2.73529645e-06\n",
      "  -1.58167161e-05 -1.72319628e-05  4.26345192e-05  1.28813124e-05\n",
      "   8.77568106e-06  7.91333499e-06  1.32710930e-05  1.86618433e-05\n",
      "  -4.95259910e-05 -7.44913551e-06 -2.71092618e-07  1.14307984e-06]\n",
      " [ 1.88961521e-06 -4.73264883e-07 -3.19482488e-05  3.66994051e-05\n",
      "   1.47846159e-05  6.58266304e-06  8.44846491e-06  8.96537367e-06\n",
      "   6.90058668e-06  3.80444300e-05 -1.43952623e-05  3.58215382e-06\n",
      "   9.73644867e-06  1.33563839e-05  1.36798202e-05  1.26931448e-05\n",
      "   3.29431649e-05 -2.55752312e-05 -2.40456152e-05  5.35837847e-06\n",
      "   8.85243048e-06  7.02438007e-06  1.43947962e-05  1.66795360e-05\n",
      "  -2.47411712e-05 -8.95521950e-06 -6.44343431e-07  1.68548063e-06]\n",
      " [-1.97462742e-06 -6.09919624e-06 -6.32541778e-05  1.79338860e-05\n",
      "   7.97988307e-06  7.60272353e-06  6.23546813e-06  6.48029925e-06\n",
      "   2.83808518e-06 -9.31394544e-06  1.78729088e-05  9.40098808e-06\n",
      "   8.97889374e-06  1.04226084e-05  6.60565242e-06  4.03699856e-06\n",
      "  -1.00107585e-05  1.50957785e-05  8.47840343e-06  5.07245271e-06\n",
      "   4.24538137e-06  5.52825679e-06  5.01309920e-06  1.10917417e-05\n",
      "   5.88210016e-05 -3.12963454e-06 -2.53578440e-06 -1.04904854e-06]\n",
      " [-2.11345885e-06 -1.63840615e-06  4.47818512e-05  1.28472204e-05\n",
      "   7.90380241e-06  6.18082329e-06  6.00878662e-06  7.63446846e-06\n",
      "   4.85051017e-06  2.31998953e-06  6.12304558e-06  6.69789938e-06\n",
      "   8.51213765e-06  1.13023462e-05  8.45001545e-06  6.20304588e-06\n",
      "   3.52903286e-06  3.31407870e-06  3.47269031e-06  5.76235824e-06\n",
      "   4.56838636e-06  5.14471074e-06  6.21303516e-06  8.42355816e-06\n",
      "   3.10297090e-05 -6.89745916e-05 -6.49881976e-06 -1.46515208e-06]\n",
      " [-4.69513214e-06 -3.13390815e-05  4.02585660e-05  1.04663305e-05\n",
      "   5.10187998e-06  5.31932449e-06  5.52023262e-06  1.15232048e-05\n",
      "   9.69326726e-06  5.86560781e-06  1.77782999e-06  5.32234061e-06\n",
      "   9.21868879e-06  1.54868730e-05  9.32711640e-06  5.93581492e-06\n",
      "   4.90659876e-06 -7.39246584e-08  2.20387560e-06  5.78444622e-06\n",
      "   2.68641983e-06  3.71937926e-06  3.36169019e-06  6.64358919e-06\n",
      "   1.18046569e-05  7.69058446e-06 -5.04399700e-06 -3.02597886e-06]\n",
      " [-6.06710322e-06 -4.77066907e-05  1.93834108e-05  6.92865190e-06\n",
      "   4.09784654e-06  4.97172073e-06  5.24530616e-06  1.33460048e-05\n",
      "   1.17111488e-05  4.02027143e-06  4.33962576e-06  5.42582701e-06\n",
      "   9.76618295e-06  1.75061165e-05  9.35098045e-06  5.02701752e-06\n",
      "   9.35626944e-07  2.70916710e-07  3.69243465e-06  5.76758143e-06\n",
      "   1.64720321e-06  3.06475843e-06  1.93347225e-06  5.25265370e-06\n",
      "   1.09993867e-05  5.84290790e-05 -3.63068994e-06 -3.80456273e-06]\n",
      " [-6.42429902e-06  4.64517242e-05  1.50036528e-05  9.96982268e-06\n",
      "   7.69659580e-06  6.98857957e-06  1.10064125e-05  9.12399685e-06\n",
      "  -2.45900274e-05 -4.92368003e-06 -9.12983402e-07  8.87136142e-07\n",
      "  -2.00249140e-06 -5.69978481e-06 -3.14326602e-07  5.19565516e-08\n",
      "  -1.54057193e-07 -1.72939745e-06 -6.46384503e-06  1.82943289e-05\n",
      "   1.01608899e-05  8.04439994e-06  7.12157732e-06  7.35028001e-06\n",
      "   1.14307009e-05  2.70679952e-05 -6.50265203e-05 -5.96000820e-06]\n",
      " [-1.81467251e-05  2.47231587e-05  1.16874364e-05  6.84713891e-06\n",
      "   5.45214417e-06  1.19421009e-05  2.14142773e-05 -2.63858867e-05\n",
      "   3.89707137e-06  3.52450714e-07 -3.19386674e-07  1.31138168e-06\n",
      "   8.30183029e-06 -1.66123344e-05  3.80271355e-06  3.48451664e-06\n",
      "  -2.50908219e-06 -4.77940077e-06 -4.65813921e-06 -2.32502624e-05\n",
      "   4.32162747e-05  2.16637339e-06  2.40104166e-06  7.08570359e-06\n",
      "   8.22472407e-06  1.19194037e-05  5.78220914e-06  3.92265338e-06]\n",
      " [-5.73210228e-05  1.95353883e-05  9.88384882e-06  8.43880038e-06\n",
      "   7.35388286e-06  7.84707403e-06  1.19645453e-05 -6.65128973e-06\n",
      "  -5.38701180e-06 -2.73392261e-06 -2.82700177e-07  2.64517559e-06\n",
      "  -5.83757224e-06 -1.34808531e-06 -2.92864996e-06  1.11093540e-06\n",
      "   1.28072563e-06  3.11446842e-07 -1.46300832e-06 -2.54271089e-06\n",
      "   1.80961690e-06  1.20198360e-05  7.60790443e-06  6.76920108e-06\n",
      "   8.78936182e-06  1.18872404e-05  5.68117279e-05 -7.31084718e-06]\n",
      " [ 5.92086078e-05  1.49786391e-05  9.55431628e-06  6.97572425e-06\n",
      "   8.62344950e-06  1.84400915e-05  9.84428369e-06 -5.48211055e-06\n",
      "  -2.39084732e-06 -2.53252858e-07  1.27169735e-06  2.06303572e-06\n",
      "  -1.97667291e-06 -3.72412082e-06 -1.87943000e-06  2.30084926e-06\n",
      "  -8.32170116e-07 -2.75307007e-06 -2.03122296e-06 -4.24460367e-06\n",
      "  -1.23764810e-06  6.38557038e-06  1.18628952e-06  5.29663748e-06\n",
      "   8.14157075e-06  1.05650398e-05  2.77701977e-05 -6.44736289e-05]\n",
      " [ 1.78538858e-05  1.27925635e-05  8.95973464e-06  8.71393066e-06\n",
      "   2.92451553e-06  5.03700640e-06 -4.25858194e-05 -1.16889816e-06\n",
      "  -2.81452706e-07 -1.60973390e-06 -1.22683316e-06  5.59668503e-06\n",
      "  -7.71168336e-06 -3.09690933e-06 -8.14673435e-06  4.58679971e-06\n",
      "   3.43459529e-06  3.03214522e-06 -2.69006759e-07 -2.74951985e-06\n",
      "  -2.02498644e-05  5.94720048e-05  1.41739736e-05  1.10416690e-05\n",
      "   8.10518387e-06  9.66982683e-06  8.80902080e-06  1.77517954e-05]\n",
      " [ 2.70074165e-05  9.29741485e-06  9.23330789e-06  4.48497327e-06\n",
      "   1.32320314e-05  4.02982767e-05 -2.89072118e-07 -2.31934321e-06\n",
      "  -6.96887384e-07  3.65226206e-06  4.44582508e-06  5.21063131e-06\n",
      "  -2.50639680e-06 -3.95041714e-06 -2.70510665e-06  4.92998091e-06\n",
      "  -3.84672345e-06 -8.20165027e-06 -2.06850096e-06 -2.16973454e-06\n",
      "  -8.36408369e-06 -3.47805707e-06 -1.13215836e-05  2.10757907e-06\n",
      "   8.01697302e-06  9.50433645e-06  1.44692392e-05  6.55687110e-05]\n",
      " [ 2.46656412e-05  1.97398431e-05  1.19708761e-05  1.76306327e-05\n",
      "   1.15869257e-05 -4.98139498e-05  6.48918568e-06  6.90582309e-06\n",
      "   2.15611481e-06 -1.25081631e-06 -4.22222844e-07 -1.82663156e-05\n",
      "   3.23205692e-07  5.27672270e-06  1.07474593e-06 -1.69758914e-05\n",
      "   6.78421797e-06  1.52313937e-05  4.81229253e-06  5.09381704e-06\n",
      "  -9.68273492e-07 -4.14092702e-05  3.68032586e-05  1.82783911e-05\n"
     ]
    },
    {
     "name": "stdout",
     "output_type": "stream",
     "text": [
      "   1.30296971e-05  1.34027086e-05  2.01477321e-05  2.29252490e-05]]\n"
     ]
    },
    {
     "data": {
      "text/plain": [
       "<matplotlib.image.AxesImage at 0xbd376a0>"
      ]
     },
     "execution_count": 49,
     "metadata": {},
     "output_type": "execute_result"
    }
   ],
   "source": [
    "print(a)\n",
    "plt.figure('zca')\n",
    "plt.imshow(a*255555,cmap='gray')"
   ]
  },
  {
   "cell_type": "code",
   "execution_count": null,
   "metadata": {},
   "outputs": [],
   "source": []
  }
 ],
 "metadata": {
  "kernelspec": {
   "display_name": "Python 3",
   "language": "python",
   "name": "python3"
  },
  "language_info": {
   "codemirror_mode": {
    "name": "ipython",
    "version": 3
   },
   "file_extension": ".py",
   "mimetype": "text/x-python",
   "name": "python",
   "nbconvert_exporter": "python",
   "pygments_lexer": "ipython3",
   "version": "3.6.4"
  }
 },
 "nbformat": 4,
 "nbformat_minor": 2
}
