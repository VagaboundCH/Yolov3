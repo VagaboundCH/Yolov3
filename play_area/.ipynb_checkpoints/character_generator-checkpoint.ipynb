{
 "cells": [
  {
   "cell_type": "code",
   "execution_count": 129,
   "metadata": {},
   "outputs": [],
   "source": [
    "from PIL import Image, ImageDraw, ImageFont  \n",
    "import numpy as np\n",
    "import matplotlib.pyplot as plt\n",
    "from copy import copy, deepcopy\n",
    "from scipy import interpolate\n",
    "import cv2"
   ]
  },
  {
   "cell_type": "code",
   "execution_count": 156,
   "metadata": {},
   "outputs": [],
   "source": [
    "# Parameters\n",
    "font_type = 'C:/Windows/Fonts/Calibri/calibrib.ttf'\n",
    "font_size = 40\n",
    "character = 'A'"
   ]
  },
  {
   "cell_type": "code",
   "execution_count": 157,
   "metadata": {},
   "outputs": [],
   "source": [
    "# Befehl muss zweimal ausgeführt werden (komisch)\n",
    "%matplotlib qt\n",
    "%matplotlib qt"
   ]
  },
  {
   "cell_type": "code",
   "execution_count": 158,
   "metadata": {},
   "outputs": [],
   "source": [
    "img = Image.new('RGB', (32, 32), color = (0, 0, 0))     \n",
    "fnt = ImageFont.truetype(font_type, font_size)\n",
    "d = ImageDraw.Draw(img)\n",
    "d.text((3,0), character, font=fnt, fill=(255, 255, 255))\n",
    "img.show() \n",
    "# img.save('pil_text_font.bmp')"
   ]
  },
  {
   "cell_type": "code",
   "execution_count": 159,
   "metadata": {},
   "outputs": [],
   "source": [
    "img = np.array(img)\n",
    "x,y,z = np.shape(img)"
   ]
  },
  {
   "cell_type": "code",
   "execution_count": 160,
   "metadata": {},
   "outputs": [
    {
     "name": "stdout",
     "output_type": "stream",
     "text": [
      "32\n"
     ]
    }
   ],
   "source": [
    "print(x)"
   ]
  },
  {
   "cell_type": "code",
   "execution_count": null,
   "metadata": {},
   "outputs": [],
   "source": []
  },
  {
   "cell_type": "code",
   "execution_count": null,
   "metadata": {},
   "outputs": [],
   "source": []
  },
  {
   "cell_type": "code",
   "execution_count": null,
   "metadata": {},
   "outputs": [],
   "source": []
  },
  {
   "cell_type": "code",
   "execution_count": 176,
   "metadata": {},
   "outputs": [
    {
     "name": "stdout",
     "output_type": "stream",
     "text": [
      "[[-31.+31.j -30.+31.j -29.+31.j ...  29.+31.j  30.+31.j  31.+31.j]\n",
      " [-31.+30.j -30.+30.j -29.+30.j ...  29.+30.j  30.+30.j  31.+30.j]\n",
      " [-31.+29.j -30.+29.j -29.+29.j ...  29.+29.j  30.+29.j  31.+29.j]\n",
      " ...\n",
      " [-31.-29.j -30.-29.j -29.-29.j ...  29.-29.j  30.-29.j  31.-29.j]\n",
      " [-31.-30.j -30.-30.j -29.-30.j ...  29.-30.j  30.-30.j  31.-30.j]\n",
      " [-31.-31.j -30.-31.j -29.-31.j ...  29.-31.j  30.-31.j  31.-31.j]]\n"
     ]
    }
   ],
   "source": [
    "pixel_numbers = x\n",
    "x_mesh = np.arange(-1*pixel_numbers+1, pixel_numbers, 1)\n",
    "y_mesh = np.arange(-1*pixel_numbers+1, pixel_numbers, 1)\n",
    "xx, yy = np.meshgrid(x_mesh, np.flip(y_mesh,0), sparse=True)\n",
    "yy = yy*1j\n",
    "complex_meshgrid = (yy+xx)\n",
    "\n",
    "print(complex_meshgrid)"
   ]
  },
  {
   "cell_type": "code",
   "execution_count": 177,
   "metadata": {},
   "outputs": [],
   "source": [
    "max_real_complex_meshgrid = int(np.max(complex_meshgrid.real) + 5)\n",
    "max_imag_complex_meshgrid = int(np.max(complex_meshgrid.imag) + 5)\n",
    "min_real_complex_meshgrid = int(np.min(complex_meshgrid.real) - 5)\n",
    "min_imag_complex_meshgrid = int(np.min(complex_meshgrid.imag) - 5)\n",
    "# print(max_real_complex_meshgrid)\n",
    "# print(max_imag_complex_meshgrid)\n",
    "# print(min_real_complex_meshgrid)\n",
    "# print(min_real_complex_meshgrid)\n",
    "size_transform_real = max_real_complex_meshgrid - min_real_complex_meshgrid\n",
    "size_transform_imag = max_imag_complex_meshgrid - min_imag_complex_meshgrid\n",
    "# print(size_transform_real)\n",
    "# print(size_transform_imag)"
   ]
  },
  {
   "cell_type": "code",
   "execution_count": 178,
   "metadata": {},
   "outputs": [],
   "source": [
    "z_transform = np.array(np.empty((size_transform_imag, size_transform_real,3)))\n",
    "z_transform.fill(np.nan) # nan werden später interpoliert"
   ]
  },
  {
   "cell_type": "code",
   "execution_count": 179,
   "metadata": {},
   "outputs": [],
   "source": [
    "for i in range(pixel_numbers):\n",
    "    for j in range(pixel_numbers):\n",
    "        tmp_real = int(complex_meshgrid[i,j].real - min_real_complex_meshgrid)\n",
    "#         print(tmp_real)\n",
    "        tmp_imag = int(complex_meshgrid[i,j].imag - min_imag_complex_meshgrid)\n",
    "#         print(tmp_imag)\n",
    "        z_transform[tmp_imag, tmp_real] = img[i,j] "
   ]
  },
  {
   "cell_type": "code",
   "execution_count": 180,
   "metadata": {},
   "outputs": [
    {
     "data": {
      "text/plain": [
       "31"
      ]
     },
     "execution_count": 180,
     "metadata": {},
     "output_type": "execute_result"
    }
   ],
   "source": [
    "int(complex_meshgrid[0,0].imag)"
   ]
  },
  {
   "cell_type": "code",
   "execution_count": 181,
   "metadata": {},
   "outputs": [
    {
     "data": {
      "text/plain": [
       "<matplotlib.image.AxesImage at 0x10dd7780>"
      ]
     },
     "execution_count": 181,
     "metadata": {},
     "output_type": "execute_result"
    }
   ],
   "source": [
    "plt.imshow(z_transform)"
   ]
  },
  {
   "cell_type": "code",
   "execution_count": 182,
   "metadata": {},
   "outputs": [
    {
     "name": "stderr",
     "output_type": "stream",
     "text": [
      "C:\\Users\\User\\Anaconda3\\lib\\site-packages\\ipykernel_launcher.py:2: RuntimeWarning: invalid value encountered in greater\n",
      "  \n"
     ]
    }
   ],
   "source": [
    "z_transform_mask = deepcopy(z_transform)\n",
    "z_transform_mask[z_transform_mask>0] = 0\n",
    "where_are_NaNs = np.isnan(z_transform)\n",
    "z_transform_mask[where_are_NaNs] = 255\n",
    "# print(z_transform)\n",
    "z_transform[where_are_NaNs] = 0"
   ]
  },
  {
   "cell_type": "code",
   "execution_count": 183,
   "metadata": {},
   "outputs": [],
   "source": [
    "# cv2.inpaint benötigt arrays vom typ uint8\n",
    "# print(z_transform_mask.dtype)\n",
    "# print(z_transform.dtype)\n",
    "\n",
    "mask = np.uint8(z_transform_mask)\n",
    "img = np.uint8(z_transform)\n",
    "\n",
    "# print(mask.dtype)\n",
    "# print(img.dtype)\n",
    "\n",
    "dst_TELEA = cv2.inpaint(img, mask[:,:,0], 3, cv2.INPAINT_TELEA)\n",
    "dst_NS = cv2.inpaint(img, mask[:,:,0], 3, cv2.INPAINT_NS)"
   ]
  },
  {
   "cell_type": "code",
   "execution_count": 184,
   "metadata": {},
   "outputs": [
    {
     "data": {
      "text/plain": [
       "<matplotlib.image.AxesImage at 0xa1574a8>"
      ]
     },
     "execution_count": 184,
     "metadata": {},
     "output_type": "execute_result"
    }
   ],
   "source": [
    "plt.figure('dst_NS')\n",
    "plt.imshow(dst_NS/255)"
   ]
  },
  {
   "cell_type": "code",
   "execution_count": 9,
   "metadata": {},
   "outputs": [
    {
     "data": {
      "text/plain": [
       "0.0015926529164868282"
      ]
     },
     "execution_count": 9,
     "metadata": {},
     "output_type": "execute_result"
    }
   ],
   "source": []
  },
  {
   "cell_type": "code",
   "execution_count": null,
   "metadata": {},
   "outputs": [],
   "source": []
  }
 ],
 "metadata": {
  "kernelspec": {
   "display_name": "Python 3",
   "language": "python",
   "name": "python3"
  },
  "language_info": {
   "codemirror_mode": {
    "name": "ipython",
    "version": 3
   },
   "file_extension": ".py",
   "mimetype": "text/x-python",
   "name": "python",
   "nbconvert_exporter": "python",
   "pygments_lexer": "ipython3",
   "version": "3.6.4"
  }
 },
 "nbformat": 4,
 "nbformat_minor": 2
}
