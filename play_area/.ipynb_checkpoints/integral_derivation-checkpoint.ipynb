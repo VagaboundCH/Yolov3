{
 "cells": [
  {
   "cell_type": "code",
   "execution_count": 1,
   "metadata": {},
   "outputs": [],
   "source": [
    "import numpy as np\n",
    "import matplotlib.pyplot as plt\n",
    "from scipy.integrate import quad\n",
    "from scipy.misc import derivative\n",
    "import sympy as sp\n",
    "import math\n",
    "from math import sqrt, pi"
   ]
  },
  {
   "cell_type": "code",
   "execution_count": 2,
   "metadata": {},
   "outputs": [
    {
     "name": "stdout",
     "output_type": "stream",
     "text": [
      "<class 'sympy.core.mul.Mul'>\n",
      "2*x\n"
     ]
    }
   ],
   "source": [
    "x = sp.Symbol('x')\n",
    "f = x**2\n",
    "f_derviate = sp.diff(f)\n",
    "# print(type(f_derviate))\n",
    "x =  sp.Symbol(str(f_derviate))\n",
    "# print(x)"
   ]
  },
  {
   "cell_type": "code",
   "execution_count": 3,
   "metadata": {},
   "outputs": [
    {
     "name": "stdout",
     "output_type": "stream",
     "text": [
      "<class 'sympy.core.symbol.Symbol'>\n",
      "(13.903767954618381, 1.2271340468189017e-07)\n",
      "<class 'float'>\n"
     ]
    }
   ],
   "source": [
    "# https://www.youtube.com/watch?v=QAqadzwo19Q\n",
    "a = quad(lambda x: sqrt(x**2+1),0,5)\n",
    "print(type(x))\n",
    "print(a)\n",
    "print(type(float(a[0])))"
   ]
  },
  {
   "cell_type": "code",
   "execution_count": 4,
   "metadata": {},
   "outputs": [
    {
     "name": "stdout",
     "output_type": "stream",
     "text": [
      "(1, 9)\n",
      "[[0. 0. 0. 0. 0. 0. 0. 0. 0.]]\n"
     ]
    }
   ],
   "source": [
    "index = np.array(np.zeros((1,9)))\n",
    "print(index.shape)\n",
    "print(index)"
   ]
  },
  {
   "cell_type": "code",
   "execution_count": 5,
   "metadata": {},
   "outputs": [
    {
     "name": "stdout",
     "output_type": "stream",
     "text": [
      "0.0\n",
      "<class 'numpy.float64'>\n",
      "1.0\n",
      "<class 'numpy.float64'>\n",
      "3.0\n",
      "<class 'numpy.float64'>\n",
      "6.0\n",
      "<class 'numpy.float64'>\n",
      "9.0\n",
      "<class 'numpy.float64'>\n"
     ]
    }
   ],
   "source": [
    "for i in range(0,5,1):\n",
    "    tmp = quad(lambda x: sqrt(x**2+1),0,i)\n",
    "    index[0,i] = round(float(tmp[0]))\n",
    "    print(index[0,i])\n",
    "    print(type(index[0,0]))"
   ]
  },
  {
   "cell_type": "code",
   "execution_count": null,
   "metadata": {},
   "outputs": [],
   "source": []
  },
  {
   "cell_type": "code",
   "execution_count": null,
   "metadata": {},
   "outputs": [],
   "source": []
  },
  {
   "cell_type": "code",
   "execution_count": null,
   "metadata": {},
   "outputs": [],
   "source": []
  }
 ],
 "metadata": {
  "kernelspec": {
   "display_name": "Python 3",
   "language": "python",
   "name": "python3"
  },
  "language_info": {
   "codemirror_mode": {
    "name": "ipython",
    "version": 3
   },
   "file_extension": ".py",
   "mimetype": "text/x-python",
   "name": "python",
   "nbconvert_exporter": "python",
   "pygments_lexer": "ipython3",
   "version": "3.6.4"
  }
 },
 "nbformat": 4,
 "nbformat_minor": 2
}
