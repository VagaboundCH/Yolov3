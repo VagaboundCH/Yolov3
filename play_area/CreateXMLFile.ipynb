{
 "cells": [
  {
   "cell_type": "code",
   "execution_count": null,
   "metadata": {},
   "outputs": [],
   "source": [
    "  "
   ]
  },
  {
   "cell_type": "code",
   "execution_count": null,
   "metadata": {},
   "outputs": [],
   "source": []
  },
  {
   "cell_type": "code",
   "execution_count": 3,
   "metadata": {},
   "outputs": [],
   "source": [
    "a = 512"
   ]
  },
  {
   "cell_type": "code",
   "execution_count": null,
   "metadata": {},
   "outputs": [],
   "source": []
  },
  {
   "cell_type": "code",
   "execution_count": null,
   "metadata": {},
   "outputs": [],
   "source": []
  },
  {
   "cell_type": "code",
   "execution_count": 1,
   "metadata": {},
   "outputs": [],
   "source": [
    "def get_body(name,xmin,ymin,xmax,ymax):\n",
    "    string_body = '<object>'\\\n",
    "                    '<name>'+str(name)+'</name>'\\\n",
    "                    '<pose>Unspecified</pose>'\\\n",
    "                    '<truncated>0</truncated>'\\\n",
    "                    '<difficult>0</difficult>'\\\n",
    "                    '<bndbox>'\\\n",
    "                        '<xmin>'+str(xmin)+'</xmin>'\\\n",
    "                        '<ymin>'+str(ymin)+'</ymin>'\\\n",
    "                        '<xmax>'+str(xmax)+'</xmax>'\\\n",
    "                        '<ymax>'+str(ymax)+'</ymax>'\\\n",
    "                        '</bndbox>'\\\n",
    "                    '</object>'\n",
    "    return string_body"
   ]
  },
  {
   "cell_type": "code",
   "execution_count": 2,
   "metadata": {},
   "outputs": [
    {
     "name": "stdout",
     "output_type": "stream",
     "text": [
      "<object><name>hallo</name><pose>Unspecified</pose><truncated>0</truncated><difficult>0</difficult><bndbox><xmin>3</xmin><ymin>4</ymin><xmax>5</xmax><ymax>6</ymax></bndbox></object>\n"
     ]
    }
   ],
   "source": [
    "body = get_body('hallo',3,4,5,6)\n",
    "print(body)"
   ]
  },
  {
   "cell_type": "code",
   "execution_count": 3,
   "metadata": {},
   "outputs": [],
   "source": [
    "def get_head(folder,filename,path,width,height,depth):\n",
    "    string_head =   '<annotation>'\\\n",
    "                    '<folder>'+str(folder)+'</folder>'\\\n",
    "                    '<filename>'+str(filename)+'</filename>'\\\n",
    "                    '<path>'+str(path)+'</path>'\\\n",
    "                    '<source>'\\\n",
    "                    '<database>Unknown</database>'\\\n",
    "                    '</source>'\\\n",
    "                    '<size>'\\\n",
    "                        '<width>'+str(width)+'</width>'\\\n",
    "                        '<height>'+str(height)+'</height>'\\\n",
    "                        '<depth>'+str(depth)+'</depth>'\\\n",
    "                    '</size>'\\\n",
    "                    '<segmented>0</segmented>'\\\n",
    "                    '</annotation>'\n",
    "    return string_head"
   ]
  },
  {
   "cell_type": "code",
   "execution_count": 4,
   "metadata": {},
   "outputs": [
    {
     "name": "stdout",
     "output_type": "stream",
     "text": [
      "<annotation><folder>Geissaefudi</folder><filename>Schlecki</filename><path>C:/hallo</path><source><database>Unknown</database></source><size><width>512</width><height>512</height><depth>3</depth></size><segmented>0</segmented></annotation>\n"
     ]
    }
   ],
   "source": [
    "head = get_head('Geissaefudi','Schlecki', 'C:/hallo',512,512,3)\n",
    "print(head)"
   ]
  },
  {
   "cell_type": "code",
   "execution_count": 5,
   "metadata": {},
   "outputs": [
    {
     "name": "stdout",
     "output_type": "stream",
     "text": [
      "226\n",
      "\n",
      "<annotation><folder>Geissaefudi</folder><filename>Schlecki</filename><path>C:/hallo</path><source><database>Unknown</database></source><size><width>512</width><height>512</height><depth>3</depth></size><segmented>0</segmented><object><name>hallo</name><pose>Unspecified</pose><truncated>0</truncated><difficult>0</difficult><bndbox><xmin>3</xmin><ymin>4</ymin><xmax>5</xmax><ymax>6</ymax></bndbox></object><object><name>hallo</name><pose>Unspecified</pose><truncated>0</truncated><difficult>0</difficult><bndbox><xmin>3</xmin><ymin>4</ymin><xmax>5</xmax><ymax>6</ymax></bndbox></object><object><name>hallo</name><pose>Unspecified</pose><truncated>0</truncated><difficult>0</difficult><bndbox><xmin>3</xmin><ymin>4</ymin><xmax>5</xmax><ymax>6</ymax></bndbox></object></annotation>\n"
     ]
    }
   ],
   "source": [
    "t = head.find('</annotation>')\n",
    "print(t)\n",
    "print()\n",
    "juhu = head[:t]+body+body+body+head[t:]\n",
    "print(juhu)"
   ]
  },
  {
   "cell_type": "code",
   "execution_count": 6,
   "metadata": {},
   "outputs": [
    {
     "name": "stdout",
     "output_type": "stream",
     "text": [
      "[1 2 3 4 5 6 7 8]\n"
     ]
    }
   ],
   "source": [
    "import numpy as np\n",
    "a = np.array([1,2,3,4])\n",
    "x = a.shape\n",
    "b = np.array([5,6,7,8])\n",
    "c = np.append(a,b)\n",
    "print(c)"
   ]
  },
  {
   "cell_type": "code",
   "execution_count": null,
   "metadata": {},
   "outputs": [],
   "source": []
  },
  {
   "cell_type": "code",
   "execution_count": 7,
   "metadata": {
    "scrolled": true
   },
   "outputs": [],
   "source": [
    "import xml.dom.minidom\n",
    "import xml.etree.cElementTree as ET\n",
    "\n",
    "a = xml.dom.minidom.parseString(body)\n",
    "pretty_xml_as_string_body = a.toprettyxml()\n",
    "# print(pretty_xml_as_string)"
   ]
  },
  {
   "cell_type": "code",
   "execution_count": 8,
   "metadata": {},
   "outputs": [],
   "source": [
    "b = xml.dom.minidom.parseString(head)\n",
    "pretty_xml_as_string_head = b.toprettyxml()\n",
    "pretty_xml_as_string_head_without_version = pretty_xml_as_string_head[23:]"
   ]
  },
  {
   "cell_type": "code",
   "execution_count": 9,
   "metadata": {},
   "outputs": [],
   "source": [
    "with open('body.xml', \"w\") as file:\n",
    "    file.write(pretty_xml_as_string_body)\n",
    "    \n",
    "with open('head.xml', \"w\") as file:\n",
    "    file.write(pretty_xml_as_string_head)\n",
    "    \n",
    "with open('head_without_version.xml', \"w\") as file:\n",
    "    file.write(pretty_xml_as_string_head_without_version)"
   ]
  },
  {
   "cell_type": "code",
   "execution_count": 10,
   "metadata": {},
   "outputs": [],
   "source": [
    "c = xml.dom.minidom.parseString(juhu)\n",
    "c = c.toprettyxml()\n",
    "c = c[23:]"
   ]
  },
  {
   "cell_type": "code",
   "execution_count": 14,
   "metadata": {},
   "outputs": [],
   "source": [
    "with open('YOLO.xml', 'w+') as file:\n",
    "    file.write(c)\n",
    "    file.close"
   ]
  },
  {
   "cell_type": "code",
   "execution_count": 18,
   "metadata": {},
   "outputs": [],
   "source": [
    "filepath = 'C:/Users/User/Desktop/Test/Windowed/file.xml'\n",
    "with open(filepath, 'w+') as file:\n",
    "    file.write(c)"
   ]
  },
  {
   "cell_type": "code",
   "execution_count": 33,
   "metadata": {},
   "outputs": [
    {
     "name": "stdout",
     "output_type": "stream",
     "text": [
      "20191125_224003\n"
     ]
    }
   ],
   "source": [
    "from datetime import datetime\n",
    "now = datetime.now()\n",
    "date_time = now.strftime(\"%Y%m%d_%H%M%S\")\n",
    "print(date_time)"
   ]
  },
  {
   "cell_type": "code",
   "execution_count": null,
   "metadata": {},
   "outputs": [],
   "source": []
  }
 ],
 "metadata": {
  "kernelspec": {
   "display_name": "Python 3",
   "language": "python",
   "name": "python3"
  },
  "language_info": {
   "codemirror_mode": {
    "name": "ipython",
    "version": 3
   },
   "file_extension": ".py",
   "mimetype": "text/x-python",
   "name": "python",
   "nbconvert_exporter": "python",
   "pygments_lexer": "ipython3",
   "version": "3.6.4"
  }
 },
 "nbformat": 4,
 "nbformat_minor": 2
}
