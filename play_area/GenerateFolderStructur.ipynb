{
 "cells": [
  {
   "cell_type": "code",
   "execution_count": 5,
   "metadata": {},
   "outputs": [],
   "source": [
    "import os\n",
    "import shutil\n",
    "import time"
   ]
  },
  {
   "cell_type": "code",
   "execution_count": 6,
   "metadata": {},
   "outputs": [],
   "source": [
    "class GenerateFolderStructur():\n",
    "    \n",
    "    all_characters = ('ABCDEFGHIJKLMNOPQRSTUVWXYZabcdefghijklmnopqrstuvwxyz')\n",
    "    numbers = ('0123456789')\n",
    "    characters_folder = []\n",
    "    \n",
    "    def __init__(self, path,  characters):\n",
    "        self._path = path + '/GeneratedData/'\n",
    "        self._characters = characters\n",
    "        self._initalImages_path = path + '/GeneratedData/InitalImages/'\n",
    "        self._tempFolder_path = path + '/GeneratedData/TempFolder/'\n",
    "        self._distortedImages_path = path + '/GeneratedData/DistortedImages/'\n",
    "        self._tailoredImages_path = path + '/GeneratedData/TailoredImages/'\n",
    "        self._backgroundImages_path = path + '/GeneratedData/BackgroundImages/'\n",
    "        self._segmentedImages_path = path + '/GeneratedData/SegmentedImages/'\n",
    "        self._finalImages_path = path + '/GeneratedData/FinalImages/'\n",
    "        self._xml_Files_path = path + '/GeneratedData/XML_Files/'\n",
    "        self.set_folder_structur()\n",
    "    \n",
    "    def set_characters_folder(self):\n",
    "        for i in range(len(self._characters)):\n",
    "### For -./: and single characterss\n",
    "            if len(self._characters[i]) == 1:\n",
    "#                 print('singleShit')\n",
    "                if self._characters[i] == '-':\n",
    "                    type(self).characters_folder.append('DASH')\n",
    "                    continue\n",
    "                elif self._characters[i] == '.':\n",
    "                    type(self).characters_folder.append('DOT')\n",
    "                    continue\n",
    "                elif self._characters[i] == '/':\n",
    "                    type(self).characters_folder.append('BACKSLASH')\n",
    "                    continue\n",
    "                elif self._characters[i] == ':':\n",
    "                    type(self).characters_folder.append('COLON')\n",
    "                    continue\n",
    "                else:\n",
    "                    type(self).characters_folder.append(self._characters[i])\n",
    "                    continue\n",
    "### for Names    \n",
    "            if len(self._characters[i]) > 1 and self._characters[i].find('-') == -1:\n",
    "#                 print('forNames')\n",
    "                type(self).characters_folder.append(self._characters[i])\n",
    "                \n",
    "### for A-Z or a-z   \n",
    "            if type(self).all_characters.find(self._characters[i][0]) != -1 and self._characters[i].find('-') != -1:\n",
    "#                 print('A-Z')\n",
    "                for j in range(type(self).all_characters.find(self._characters[i][0]), type(self).all_characters.find(self._characters[i][2])+1):\n",
    "                    type(self).characters_folder.append(type(self).all_characters[j])\n",
    "                    \n",
    "### for 1023-1026\n",
    "            elif self._characters[i].find('-') != -1 and type(self).numbers.find(self._characters[i][0]) != -1: \n",
    "#                 print('10023-1026')\n",
    "                tmp_0 = ''\n",
    "                tmp_1 = ''\n",
    "                for u in range(0, self._characters[i].find('-')):\n",
    "                    tmp_0 = tmp_0 + self._characters[i][u]\n",
    "                for v in range(self._characters[i].find('-')+1, len(self._characters[i])):\n",
    "                    tmp_1 = tmp_1 + self._characters[i][v]\n",
    "                for k in range(int(tmp_0), int(tmp_1)+1):\n",
    "                    type(self).characters_folder.append(str(k))\n",
    "#                 print(tmp_0,tmp_1)    \n",
    "            \n",
    "#         print(type(self).characters_folder)    \n",
    "        for m in range(len(type(self).characters_folder)):\n",
    "#             print(self._initalImages_path + type(self).characters_folder[m])\n",
    "            \n",
    "            os.mkdir(self._initalImages_path + type(self).characters_folder[m] + '_' + f'{m:06}')                                              \n",
    "            os.mkdir(self._tempFolder_path + type(self).characters_folder[m] + '_' + f'{m:06}')\n",
    "            os.mkdir(self._distortedImages_path + type(self).characters_folder[m] + '_' + f'{m:06}')\n",
    "            os.mkdir(self._tailoredImages_path + type(self).characters_folder[m] + '_' + f'{m:06}')\n",
    "            \n",
    "        \n",
    "    def set_folder_structur(self):\n",
    "        os.mkdir(self._path)\n",
    "        os.mkdir(self._initalImages_path)\n",
    "        os.mkdir(self._tempFolder_path)\n",
    "        os.mkdir(self._distortedImages_path)\n",
    "        os.mkdir(self._tailoredImages_path)\n",
    "        os.mkdir(self._backgroundImages_path)\n",
    "        os.mkdir(self._segmentedImages_path)\n",
    "        os.mkdir(self._finalImages_path)\n",
    "        os.mkdir(self._xml_Files_path)\n",
    "        if len(self._characters) > 0:\n",
    "            self.set_characters_folder()\n",
    "\n",
    "    "
   ]
  },
  {
   "cell_type": "markdown",
   "metadata": {},
   "source": [
    "### For Tests"
   ]
  },
  {
   "cell_type": "code",
   "execution_count": 7,
   "metadata": {},
   "outputs": [],
   "source": [
    "# obj = GenerateFolderStructur('C:/Users/User/Desktop/test/', ['A-B','0','-','u','10-15','hallo','a-c'])"
   ]
  },
  {
   "cell_type": "code",
   "execution_count": 8,
   "metadata": {},
   "outputs": [],
   "source": [
    "# shutil.rmtree('C:/Users/User/Desktop/test/GeneratedData') "
   ]
  },
  {
   "cell_type": "code",
   "execution_count": null,
   "metadata": {},
   "outputs": [],
   "source": []
  }
 ],
 "metadata": {
  "kernelspec": {
   "display_name": "Python 3",
   "language": "python",
   "name": "python3"
  },
  "language_info": {
   "codemirror_mode": {
    "name": "ipython",
    "version": 3
   },
   "file_extension": ".py",
   "mimetype": "text/x-python",
   "name": "python",
   "nbconvert_exporter": "python",
   "pygments_lexer": "ipython3",
   "version": "3.6.4"
  }
 },
 "nbformat": 4,
 "nbformat_minor": 2
}
