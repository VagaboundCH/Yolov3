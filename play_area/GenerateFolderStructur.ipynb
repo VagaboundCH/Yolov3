{
 "cells": [
  {
   "cell_type": "code",
   "execution_count": 1,
   "metadata": {},
   "outputs": [],
   "source": [
    "import os\n",
    "import shutil"
   ]
  },
  {
   "cell_type": "code",
   "execution_count": 2,
   "metadata": {},
   "outputs": [],
   "source": [
    "class GenerateFolderStructur():\n",
    "    \n",
    "    all_character = ('ABCDEFGHIJKLMNOPQRSTUVWXYZabcdefghijklmnopqrstuvwxyz')\n",
    "    numbers = ('0123456789')\n",
    "    character_folder = []\n",
    "    \n",
    "    def __init__(self,path, create_folder_structur = False,  *character):\n",
    "        self.__path = path + '/GeneratedData/'\n",
    "        self.__character = character\n",
    "        self.__create_folder_structur = create_folder_structur\n",
    "        self.__initalImages_path = path + '/GeneratedData/InitalImages/'\n",
    "        self.__tempFolder_path = path + '/GeneratedData/TempFolder/'\n",
    "        self.__distortedImages_path = path + '/GeneratedData/DistortedImages/'\n",
    "        self.__tailoredImages_path = path + '/GeneratedData/TailoredImages/'\n",
    "        self.__backgroundImages_path = path + '/GeneratedData/BackgroundImages/'\n",
    "        self.__segmentedImages_path = path + '/GeneratedData/SegmentedImages/'\n",
    "        self.__finalImages_path = path + '/GeneratedData/FinalImages/'\n",
    "        self.__xml_Files_path = path + '/GeneratedData/XML_Files/'\n",
    "    \n",
    "        \n",
    "        if self.__create_folder_structur == True:\n",
    "            self.set_folder_structur()\n",
    "    \n",
    "    def set_character_folder(self):\n",
    "        for i in range(len(self.__character)):\n",
    "### For -./; and single characters\n",
    "            if len(self.__character[i]) == 1:\n",
    "                print('singleShit')\n",
    "                if self.__character[i] == '-':\n",
    "                    type(self).character_folder.append('DASH')\n",
    "                    continue\n",
    "                elif self.__character[i] == '.':\n",
    "                    type(self).character_folder.append('DOT')\n",
    "                    continue\n",
    "                elif self.__character[i] == '/':\n",
    "                    type(self).character_folder.append('BACKSLASH')\n",
    "                    continue\n",
    "                elif self.__character[i] == ':':\n",
    "                    type(self).character_folder.append('COLON')\n",
    "                    continue\n",
    "                else:\n",
    "                    type(self).character_folder.append(self.__character[i])\n",
    "                    continue\n",
    "### for Names    \n",
    "            if len(self.__character[i]) > 1 and self.__character[i].find('-') == -1:\n",
    "                print('forNames')\n",
    "                type(self).character_folder.append(self.__character[i])\n",
    "                \n",
    "### for A-Z or a-z   \n",
    "            if type(self).all_character.find(self.__character[i][0]) != -1 and self.__character[i].find('-') != -1:\n",
    "                print('A-Z')\n",
    "                for j in range(type(self).all_character.find(self.__character[i][0]), type(self).all_character.find(self.__character[i][2])+1):\n",
    "                    type(self).character_folder.append(type(self).all_character[j])\n",
    "                    \n",
    "### for 1023-1026\n",
    "            elif self.__character[i].find('-') != -1 and type(self).numbers.find(self.__character[i][0]) != -1: \n",
    "                print('1023-1026')\n",
    "                tmp_0 = ''\n",
    "                tmp_1 = ''\n",
    "                for u in range(0, self.__character[i].find('-')):\n",
    "                    tmp_0 = tmp_0 + self.__character[i][u]\n",
    "                for v in range(self.__character[i].find('-')+1, len(self.__character[i])):\n",
    "                    tmp_1 = tmp_1 + self.__character[i][v]\n",
    "                for k in range(int(tmp_0), int(tmp_1)+1):\n",
    "                    type(self).character_folder.append(str(k))\n",
    "#                 print(tmp_0,tmp_1)    \n",
    "            \n",
    "        print(type(self).character_folder)    \n",
    "        for m in range(len(type(self).character_folder)):\n",
    "            print(self.__initalImages_path + type(self).character_folder[m])\n",
    "            os.mkdir(self.__initalImages_path + type(self).character_folder[m])                                              \n",
    "            os.mkdir(self.__tempFolder_path + type(self).character_folder[m])\n",
    "            os.mkdir(self.__distortedImages_path + type(self).character_folder[m])    \n",
    "            os.mkdir(self.__tailoredImages_path + type(self).character_folder[m])\n",
    "        \n",
    "        \n",
    "        \n",
    "    def set_folder_structur(self):\n",
    "        os.mkdir(self.__path)\n",
    "        os.mkdir(self.__initalImages_path)\n",
    "        os.mkdir(self.__tempFolder_path)\n",
    "        os.mkdir(self.__distortedImages_path)\n",
    "        os.mkdir(self.__tailoredImages_path)\n",
    "        os.mkdir(self.__backgroundImages_path)\n",
    "        os.mkdir(self.__segmentedImages_path)\n",
    "        os.mkdir(self.__finalImages_path)\n",
    "        os.mkdir(self.__xml_Files_path)\n",
    "        if len(self.__character) > 0:\n",
    "            self.set_character_folder()\n",
    "            \n",
    "    def __del__(self):\n",
    "        print('deleted')\n",
    "    "
   ]
  },
  {
   "cell_type": "code",
   "execution_count": 6,
   "metadata": {},
   "outputs": [
    {
     "name": "stdout",
     "output_type": "stream",
     "text": [
      "A-Z\n",
      "['D', 'E', 'F', 'G', 'H', 'D', 'E', 'F', 'G', 'H']\n",
      "C:/Users/User/Desktop/test//GeneratedData/InitalImages/D\n",
      "C:/Users/User/Desktop/test//GeneratedData/InitalImages/E\n",
      "C:/Users/User/Desktop/test//GeneratedData/InitalImages/F\n",
      "C:/Users/User/Desktop/test//GeneratedData/InitalImages/G\n",
      "C:/Users/User/Desktop/test//GeneratedData/InitalImages/H\n",
      "C:/Users/User/Desktop/test//GeneratedData/InitalImages/D\n"
     ]
    },
    {
     "ename": "FileExistsError",
     "evalue": "[WinError 183] Eine Datei kann nicht erstellt werden, wenn sie bereits vorhanden ist: 'C:/Users/User/Desktop/test//GeneratedData/InitalImages/D'",
     "output_type": "error",
     "traceback": [
      "\u001b[1;31m---------------------------------------------------------------------------\u001b[0m",
      "\u001b[1;31mFileExistsError\u001b[0m                           Traceback (most recent call last)",
      "\u001b[1;32m<ipython-input-6-8ced86238f21>\u001b[0m in \u001b[0;36m<module>\u001b[1;34m()\u001b[0m\n\u001b[1;32m----> 1\u001b[1;33m \u001b[0mobj\u001b[0m \u001b[1;33m=\u001b[0m \u001b[0mGenerateFolderStructur\u001b[0m\u001b[1;33m(\u001b[0m\u001b[1;34m'C:/Users/User/Desktop/test/'\u001b[0m\u001b[1;33m,\u001b[0m \u001b[1;32mTrue\u001b[0m\u001b[1;33m,\u001b[0m \u001b[1;33m(\u001b[0m\u001b[1;34m'D-H'\u001b[0m\u001b[1;33m)\u001b[0m\u001b[1;33m)\u001b[0m\u001b[1;33m\u001b[0m\u001b[0m\n\u001b[0m",
      "\u001b[1;32m<ipython-input-2-bbfc34135c39>\u001b[0m in \u001b[0;36m__init__\u001b[1;34m(self, path, create_folder_structur, *character)\u001b[0m\n\u001b[0;32m     20\u001b[0m \u001b[1;33m\u001b[0m\u001b[0m\n\u001b[0;32m     21\u001b[0m         \u001b[1;32mif\u001b[0m \u001b[0mself\u001b[0m\u001b[1;33m.\u001b[0m\u001b[0m__create_folder_structur\u001b[0m \u001b[1;33m==\u001b[0m \u001b[1;32mTrue\u001b[0m\u001b[1;33m:\u001b[0m\u001b[1;33m\u001b[0m\u001b[0m\n\u001b[1;32m---> 22\u001b[1;33m             \u001b[0mself\u001b[0m\u001b[1;33m.\u001b[0m\u001b[0mset_folder_structur\u001b[0m\u001b[1;33m(\u001b[0m\u001b[1;33m)\u001b[0m\u001b[1;33m\u001b[0m\u001b[0m\n\u001b[0m\u001b[0;32m     23\u001b[0m \u001b[1;33m\u001b[0m\u001b[0m\n\u001b[0;32m     24\u001b[0m     \u001b[1;32mdef\u001b[0m \u001b[0mset_character_folder\u001b[0m\u001b[1;33m(\u001b[0m\u001b[0mself\u001b[0m\u001b[1;33m)\u001b[0m\u001b[1;33m:\u001b[0m\u001b[1;33m\u001b[0m\u001b[0m\n",
      "\u001b[1;32m<ipython-input-2-bbfc34135c39>\u001b[0m in \u001b[0;36mset_folder_structur\u001b[1;34m(self)\u001b[0m\n\u001b[0;32m     87\u001b[0m         \u001b[0mos\u001b[0m\u001b[1;33m.\u001b[0m\u001b[0mmkdir\u001b[0m\u001b[1;33m(\u001b[0m\u001b[0mself\u001b[0m\u001b[1;33m.\u001b[0m\u001b[0m__xml_Files_path\u001b[0m\u001b[1;33m)\u001b[0m\u001b[1;33m\u001b[0m\u001b[0m\n\u001b[0;32m     88\u001b[0m         \u001b[1;32mif\u001b[0m \u001b[0mlen\u001b[0m\u001b[1;33m(\u001b[0m\u001b[0mself\u001b[0m\u001b[1;33m.\u001b[0m\u001b[0m__character\u001b[0m\u001b[1;33m)\u001b[0m \u001b[1;33m>\u001b[0m \u001b[1;36m0\u001b[0m\u001b[1;33m:\u001b[0m\u001b[1;33m\u001b[0m\u001b[0m\n\u001b[1;32m---> 89\u001b[1;33m             \u001b[0mself\u001b[0m\u001b[1;33m.\u001b[0m\u001b[0mset_character_folder\u001b[0m\u001b[1;33m(\u001b[0m\u001b[1;33m)\u001b[0m\u001b[1;33m\u001b[0m\u001b[0m\n\u001b[0m\u001b[0;32m     90\u001b[0m \u001b[1;33m\u001b[0m\u001b[0m\n\u001b[0;32m     91\u001b[0m     \u001b[1;32mdef\u001b[0m \u001b[0m__del__\u001b[0m\u001b[1;33m(\u001b[0m\u001b[0mself\u001b[0m\u001b[1;33m)\u001b[0m\u001b[1;33m:\u001b[0m\u001b[1;33m\u001b[0m\u001b[0m\n",
      "\u001b[1;32m<ipython-input-2-bbfc34135c39>\u001b[0m in \u001b[0;36mset_character_folder\u001b[1;34m(self)\u001b[0m\n\u001b[0;32m     69\u001b[0m         \u001b[1;32mfor\u001b[0m \u001b[0mm\u001b[0m \u001b[1;32min\u001b[0m \u001b[0mrange\u001b[0m\u001b[1;33m(\u001b[0m\u001b[0mlen\u001b[0m\u001b[1;33m(\u001b[0m\u001b[0mtype\u001b[0m\u001b[1;33m(\u001b[0m\u001b[0mself\u001b[0m\u001b[1;33m)\u001b[0m\u001b[1;33m.\u001b[0m\u001b[0mcharacter_folder\u001b[0m\u001b[1;33m)\u001b[0m\u001b[1;33m)\u001b[0m\u001b[1;33m:\u001b[0m\u001b[1;33m\u001b[0m\u001b[0m\n\u001b[0;32m     70\u001b[0m             \u001b[0mprint\u001b[0m\u001b[1;33m(\u001b[0m\u001b[0mself\u001b[0m\u001b[1;33m.\u001b[0m\u001b[0m__initalImages_path\u001b[0m \u001b[1;33m+\u001b[0m \u001b[0mtype\u001b[0m\u001b[1;33m(\u001b[0m\u001b[0mself\u001b[0m\u001b[1;33m)\u001b[0m\u001b[1;33m.\u001b[0m\u001b[0mcharacter_folder\u001b[0m\u001b[1;33m[\u001b[0m\u001b[0mm\u001b[0m\u001b[1;33m]\u001b[0m\u001b[1;33m)\u001b[0m\u001b[1;33m\u001b[0m\u001b[0m\n\u001b[1;32m---> 71\u001b[1;33m             \u001b[0mos\u001b[0m\u001b[1;33m.\u001b[0m\u001b[0mmkdir\u001b[0m\u001b[1;33m(\u001b[0m\u001b[0mself\u001b[0m\u001b[1;33m.\u001b[0m\u001b[0m__initalImages_path\u001b[0m \u001b[1;33m+\u001b[0m \u001b[0mtype\u001b[0m\u001b[1;33m(\u001b[0m\u001b[0mself\u001b[0m\u001b[1;33m)\u001b[0m\u001b[1;33m.\u001b[0m\u001b[0mcharacter_folder\u001b[0m\u001b[1;33m[\u001b[0m\u001b[0mm\u001b[0m\u001b[1;33m]\u001b[0m\u001b[1;33m)\u001b[0m\u001b[1;33m\u001b[0m\u001b[0m\n\u001b[0m\u001b[0;32m     72\u001b[0m             \u001b[0mos\u001b[0m\u001b[1;33m.\u001b[0m\u001b[0mmkdir\u001b[0m\u001b[1;33m(\u001b[0m\u001b[0mself\u001b[0m\u001b[1;33m.\u001b[0m\u001b[0m__tempFolder_path\u001b[0m \u001b[1;33m+\u001b[0m \u001b[0mtype\u001b[0m\u001b[1;33m(\u001b[0m\u001b[0mself\u001b[0m\u001b[1;33m)\u001b[0m\u001b[1;33m.\u001b[0m\u001b[0mcharacter_folder\u001b[0m\u001b[1;33m[\u001b[0m\u001b[0mm\u001b[0m\u001b[1;33m]\u001b[0m\u001b[1;33m)\u001b[0m\u001b[1;33m\u001b[0m\u001b[0m\n\u001b[0;32m     73\u001b[0m             \u001b[0mos\u001b[0m\u001b[1;33m.\u001b[0m\u001b[0mmkdir\u001b[0m\u001b[1;33m(\u001b[0m\u001b[0mself\u001b[0m\u001b[1;33m.\u001b[0m\u001b[0m__distortedImages_path\u001b[0m \u001b[1;33m+\u001b[0m \u001b[0mtype\u001b[0m\u001b[1;33m(\u001b[0m\u001b[0mself\u001b[0m\u001b[1;33m)\u001b[0m\u001b[1;33m.\u001b[0m\u001b[0mcharacter_folder\u001b[0m\u001b[1;33m[\u001b[0m\u001b[0mm\u001b[0m\u001b[1;33m]\u001b[0m\u001b[1;33m)\u001b[0m\u001b[1;33m\u001b[0m\u001b[0m\n",
      "\u001b[1;31mFileExistsError\u001b[0m: [WinError 183] Eine Datei kann nicht erstellt werden, wenn sie bereits vorhanden ist: 'C:/Users/User/Desktop/test//GeneratedData/InitalImages/D'"
     ]
    }
   ],
   "source": [
    "obj = GenerateFolderStructur('C:/Users/User/Desktop/test/', True, ('D-H'))"
   ]
  },
  {
   "cell_type": "code",
   "execution_count": 7,
   "metadata": {},
   "outputs": [
    {
     "ename": "NameError",
     "evalue": "name 'obj' is not defined",
     "output_type": "error",
     "traceback": [
      "\u001b[1;31m---------------------------------------------------------------------------\u001b[0m",
      "\u001b[1;31mNameError\u001b[0m                                 Traceback (most recent call last)",
      "\u001b[1;32m<ipython-input-7-12baf185c15c>\u001b[0m in \u001b[0;36m<module>\u001b[1;34m()\u001b[0m\n\u001b[1;32m----> 1\u001b[1;33m \u001b[1;32mdel\u001b[0m \u001b[0mobj\u001b[0m\u001b[1;33m\u001b[0m\u001b[0m\n\u001b[0m\u001b[0;32m      2\u001b[0m \u001b[0mshutil\u001b[0m\u001b[1;33m.\u001b[0m\u001b[0mrmtree\u001b[0m\u001b[1;33m(\u001b[0m\u001b[1;34m'C:/Users/User/Desktop/test/GeneratedData'\u001b[0m\u001b[1;33m)\u001b[0m\u001b[1;33m\u001b[0m\u001b[0m\n",
      "\u001b[1;31mNameError\u001b[0m: name 'obj' is not defined"
     ]
    }
   ],
   "source": [
    "del obj\n",
    "shutil.rmtree('C:/Users/User/Desktop/test/GeneratedData') \n"
   ]
  },
  {
   "cell_type": "code",
   "execution_count": 9,
   "metadata": {},
   "outputs": [],
   "source": [
    "('D-H'),('A'), ('C'), ('K-P'), ('102-105'), ('-'),('Hallo')"
   ]
  },
  {
   "cell_type": "code",
   "execution_count": 131,
   "metadata": {},
   "outputs": [
    {
     "name": "stdout",
     "output_type": "stream",
     "text": [
      "2\n"
     ]
    },
    {
     "ename": "AttributeError",
     "evalue": "'tuple' object has no attribute 'find'",
     "output_type": "error",
     "traceback": [
      "\u001b[1;31m---------------------------------------------------------------------------\u001b[0m",
      "\u001b[1;31mAttributeError\u001b[0m                            Traceback (most recent call last)",
      "\u001b[1;32m<ipython-input-131-1cd2e6c14c67>\u001b[0m in \u001b[0;36m<module>\u001b[1;34m()\u001b[0m\n\u001b[0;32m      1\u001b[0m \u001b[0mliste1\u001b[0m \u001b[1;33m=\u001b[0m \u001b[1;33m(\u001b[0m\u001b[1;34m'102-103'\u001b[0m\u001b[1;33m,\u001b[0m\u001b[1;34m'klhjkl'\u001b[0m\u001b[1;33m)\u001b[0m\u001b[1;33m\u001b[0m\u001b[0m\n\u001b[0;32m      2\u001b[0m \u001b[0mprint\u001b[0m\u001b[1;33m(\u001b[0m\u001b[0mlen\u001b[0m\u001b[1;33m(\u001b[0m\u001b[0mliste1\u001b[0m\u001b[1;33m)\u001b[0m\u001b[1;33m)\u001b[0m\u001b[1;33m\u001b[0m\u001b[0m\n\u001b[1;32m----> 3\u001b[1;33m \u001b[0mliste1\u001b[0m\u001b[1;33m.\u001b[0m\u001b[0mfind\u001b[0m\u001b[1;33m(\u001b[0m\u001b[1;34m'-'\u001b[0m\u001b[1;33m)\u001b[0m\u001b[1;33m\u001b[0m\u001b[0m\n\u001b[0m",
      "\u001b[1;31mAttributeError\u001b[0m: 'tuple' object has no attribute 'find'"
     ]
    }
   ],
   "source": [
    "liste1 = ('102-103','klhjkl')\n",
    "print(len(liste1))\n",
    "liste1.find('-')"
   ]
  },
  {
   "cell_type": "code",
   "execution_count": 90,
   "metadata": {},
   "outputs": [
    {
     "ename": "SyntaxError",
     "evalue": "unexpected EOF while parsing (<ipython-input-90-14072486b04f>, line 3)",
     "output_type": "error",
     "traceback": [
      "\u001b[1;36m  File \u001b[1;32m\"<ipython-input-90-14072486b04f>\"\u001b[1;36m, line \u001b[1;32m3\u001b[0m\n\u001b[1;33m    for i in range(tmp.append(liste1[j]) for j in range(0,liste1.find('-')), tmp.append(liste1[k] for k in range(liste1.fine('-'),len(liste1)))\u001b[0m\n\u001b[1;37m                                                                                                                                               ^\u001b[0m\n\u001b[1;31mSyntaxError\u001b[0m\u001b[1;31m:\u001b[0m unexpected EOF while parsing\n"
     ]
    }
   ],
   "source": [
    "int(liste())\n",
    "tmp = ['']\n",
    "for i in range(tmp.append(liste1[j]) for j in range(0,liste1.find('-')), tmp.append(liste1[k] for k in range(liste1.fine('-'),len(liste1)))\n"
   ]
  },
  {
   "cell_type": "code",
   "execution_count": 216,
   "metadata": {},
   "outputs": [
    {
     "name": "stdout",
     "output_type": "stream",
     "text": [
      "-1\n"
     ]
    }
   ],
   "source": [
    "tmp = ''\n",
    "liste1 = ('14814','541514')\n",
    "print(str(liste1[0].find('-')))\n",
    "\n",
    "\n",
    "if -1 == False:\n",
    "    print('true')"
   ]
  },
  {
   "cell_type": "code",
   "execution_count": 127,
   "metadata": {},
   "outputs": [],
   "source": []
  },
  {
   "cell_type": "code",
   "execution_count": 128,
   "metadata": {},
   "outputs": [
    {
     "ename": "AttributeError",
     "evalue": "'tuple' object has no attribute 'find'",
     "output_type": "error",
     "traceback": [
      "\u001b[1;31m---------------------------------------------------------------------------\u001b[0m",
      "\u001b[1;31mAttributeError\u001b[0m                            Traceback (most recent call last)",
      "\u001b[1;32m<ipython-input-128-ad9dae73fa88>\u001b[0m in \u001b[0;36m<module>\u001b[1;34m()\u001b[0m\n\u001b[1;32m----> 1\u001b[1;33m \u001b[0mliste\u001b[0m\u001b[1;33m.\u001b[0m\u001b[0mfind\u001b[0m\u001b[1;33m(\u001b[0m\u001b[1;36m8\u001b[0m\u001b[1;33m)\u001b[0m\u001b[1;33m\u001b[0m\u001b[0m\n\u001b[0m",
      "\u001b[1;31mAttributeError\u001b[0m: 'tuple' object has no attribute 'find'"
     ]
    }
   ],
   "source": [
    "liste.find(8)"
   ]
  },
  {
   "cell_type": "code",
   "execution_count": null,
   "metadata": {},
   "outputs": [],
   "source": []
  }
 ],
 "metadata": {
  "kernelspec": {
   "display_name": "Python 3",
   "language": "python",
   "name": "python3"
  },
  "language_info": {
   "codemirror_mode": {
    "name": "ipython",
    "version": 3
   },
   "file_extension": ".py",
   "mimetype": "text/x-python",
   "name": "python",
   "nbconvert_exporter": "python",
   "pygments_lexer": "ipython3",
   "version": "3.6.4"
  }
 },
 "nbformat": 4,
 "nbformat_minor": 2
}
