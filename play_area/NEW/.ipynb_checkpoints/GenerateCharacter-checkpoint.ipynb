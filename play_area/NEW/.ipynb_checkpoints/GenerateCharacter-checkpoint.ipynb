{
 "cells": [
  {
   "cell_type": "code",
   "execution_count": 1,
   "metadata": {},
   "outputs": [
    {
     "name": "stdout",
     "output_type": "stream",
     "text": [
      "importing Jupyter notebook from GenerateFolderStructur.ipynb\n"
     ]
    }
   ],
   "source": [
    "from copy import copy, deepcopy\n",
    "import numpy as np\n",
    "from PIL import Image, ImageDraw, ImageFont  \n",
    "import os\n",
    "import import_ipynb\n",
    "from generatefolderStructur import GenerateFolderStructur\n",
    "import shutil\n",
    "import matplotlib.pyplot as plt\n",
    "import cv2 "
   ]
  },
  {
   "cell_type": "code",
   "execution_count": 2,
   "metadata": {},
   "outputs": [],
   "source": [
    "class GenerateCharacter(GenerateFolderStructur):\n",
    "    \"\"\"\n",
    "    Die Klasse erzeugt Buchstaben, Zahlen und Zeichen\n",
    "    Die Klasse kann mit folgenden Parameter initalisiert werden:\n",
    "    Dateiname: 'C:/Users/User/Desktop/test/'\n",
    "    Ordner: ['A-Z', '0-9', ':', '-', '/', '.', 'a-z', 'rdm_namen']\n",
    "    Schrifttyp: ['C:/Windows/Fonts/MTCORSVA.TTF','C:/Windows/Fonts/Arial/arial.ttf','C:/Windows/Fonts/serif_dot_digital-7.ttf']\n",
    "    Schriftgrösse: 100 in px\n",
    "    Binarisierungsschwelle: 128 {0-255}\n",
    "    \"\"\"\n",
    "    \n",
    "    def __init__(self, path, characters, path_font_type, font_size, binarisation_threshold):\n",
    "        GenerateFolderStructur.__init__(self, path, characters)       \n",
    "        \n",
    "        self._path_font_type = path_font_type\n",
    "        self._font_size = font_size\n",
    "        self._binarisation_threshold = binarisation_threshold\n",
    "        self._size_y, self._size_x = font_size*7, font_size*7\n",
    "        \n",
    "        \n",
    "        self._path_folder, self._dirs, self._files = next(os.walk(self._initalImages_path))\n",
    "        self._number_folders = len(self._dirs)\n",
    "        \n",
    "        for i in range(len(self._path_font_type)):\n",
    "            tmp_start = self._path_font_type[i].rfind('/')+1\n",
    "            tmp_end = self._path_font_type[i].rfind('.')\n",
    "            for j in range(self._number_folders):\n",
    "                self.generate_inital_image(j, i, tmp_start, tmp_end)\n",
    "        \n",
    "    def generate_inital_image(self,j,i,tmp_start,tmp_end):\n",
    "        img = Image.new('RGB', (self._size_y, self._size_x), color = (0, 0, 0))   # (50,50)\n",
    "        fnt = ImageFont.truetype(self._path_font_type[i], self._font_size)\n",
    "        tmp_img = ImageDraw.Draw(img)\n",
    "        \n",
    "        if self._dirs[j] == 'DASH':\n",
    "            character = '-'\n",
    "        elif self._dirs[j] == 'FORWARD_SLASH':\n",
    "            character = '/'\n",
    "        elif self._dirs[j] == 'COLON':\n",
    "            character = ':'\n",
    "        elif self._dirs[j] == 'DOT':\n",
    "            character = '.'\n",
    "        else:\n",
    "            character = self._dirs[j][0] \n",
    "        \n",
    "        tmp_img.text((self._size_y/3, self._size_x/3), character, font=fnt, fill=(255, 255, 255))\n",
    "#         img.show() \n",
    "#         img.save('pil_text_font.bmp')\n",
    "        img = np.array(img)\n",
    "#         plt.figure('img')\n",
    "#         plt.imshow(img)\n",
    "#         x,y,z = np.shape(img)\n",
    "#         print(x,y,z)\n",
    "        img[img<self._binarisation_threshold] = 0\n",
    "        img[img>=self._binarisation_threshold] = 255\n",
    "#         plt.figure('binarised')\n",
    "#         plt.imshow(img)\n",
    "#         print(type(img))\n",
    "\n",
    "        x, y, w, h = cv2.boundingRect(img[:,:,0])\n",
    "#         print(x, y, w, h)\n",
    "        x_min = x-1\n",
    "        y_min = y-1\n",
    "        x_max = x+w\n",
    "        y_max = y+h\n",
    "\n",
    "        y_position = int((self._size_y-h)/2)\n",
    "        x_position = int((self._size_x-w)/2)\n",
    "#         print(y_position,x_position)\n",
    "\n",
    "        img_centered = Image.new('RGB', (self._size_y, self._size_x), color = (0, 0, 0))   # (50,50)  \n",
    "        fnt = ImageFont.truetype(self._path_font_type[i], self._font_size)\n",
    "        d_centered = ImageDraw.Draw(img_centered)\n",
    "        d_centered.text((x_position-5,y_position-19), character, font=fnt, fill=(255, 255, 255))\n",
    "#         img.show() \n",
    "#         img.save('pil_text_font.bmp')\n",
    "        img_centered = np.array(img_centered)\n",
    "#         plt.figure('img_centered')\n",
    "#         plt.imshow(img_centered)\n",
    "        img_centered[img_centered<self._binarisation_threshold] = 0\n",
    "        img_centered[img_centered>=self._binarisation_threshold] = 255\n",
    "        \n",
    "        img_size_uint8 = Image.fromarray(np.uint8(img_centered))\n",
    "        img_size_uint8.save(self._initalImages_path + self._dirs[j] + '/' + self._dirs[j] + '_' + str(self._path_font_type[i][tmp_start:tmp_end]) + '.bmp')\n",
    "        "
   ]
  },
  {
   "cell_type": "markdown",
   "metadata": {},
   "source": [
    "### For Tests"
   ]
  },
  {
   "cell_type": "code",
   "execution_count": 3,
   "metadata": {},
   "outputs": [],
   "source": [
    "# obj1 = GenerateCharacter('C:/Users/Vagabound/Yolov3/', ['A-Z','0-9'], ['C:/Windows/Fonts/MTCORSVA.TTF','C:/Windows/Fonts/Arial/arial.ttf'], 100, 150)"
   ]
  },
  {
   "cell_type": "code",
   "execution_count": 4,
   "metadata": {},
   "outputs": [],
   "source": [
    "# shutil.rmtree('C:/Users/User/Desktop/test/GeneratedData') "
   ]
  },
  {
   "cell_type": "code",
   "execution_count": null,
   "metadata": {},
   "outputs": [],
   "source": []
  },
  {
   "cell_type": "code",
   "execution_count": null,
   "metadata": {},
   "outputs": [],
   "source": []
  }
 ],
 "metadata": {
  "kernelspec": {
   "display_name": "Python 3",
   "language": "python",
   "name": "python3"
  },
  "language_info": {
   "codemirror_mode": {
    "name": "ipython",
    "version": 3
   },
   "file_extension": ".py",
   "mimetype": "text/x-python",
   "name": "python",
   "nbconvert_exporter": "python",
   "pygments_lexer": "ipython3",
   "version": "3.6.4"
  }
 },
 "nbformat": 4,
 "nbformat_minor": 2
}
