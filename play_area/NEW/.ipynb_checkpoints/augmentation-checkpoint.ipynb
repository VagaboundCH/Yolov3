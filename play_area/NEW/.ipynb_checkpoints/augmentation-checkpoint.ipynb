{
 "cells": [
  {
   "cell_type": "code",
   "execution_count": 5,
   "metadata": {},
   "outputs": [],
   "source": [
    "import Augmentor as Aug\n",
    "import numpy as np\n",
    "import os"
   ]
  },
  {
   "cell_type": "code",
   "execution_count": 6,
   "metadata": {},
   "outputs": [],
   "source": [
    "class Augmentation():\n",
    "    \n",
    "    def __init__(self, source_directory, tmp_directory, output_directory, save_format, number_images):\n",
    "        self._source_directory = source_directory\n",
    "        self._tmp_directory = tmp_directory\n",
    "        self._output_directory = output_directory\n",
    "        self._save_format = save_format\n",
    "        self._number_images = number_images\n",
    "        \n",
    "    \n",
    "    def distortion_1(self):\n",
    "        for i in range(self._number_images):\n",
    "            skew_magnitude = np.round(np.random.uniform(0.1, 1.0),1) # sm 0.1-1.0\n",
    "            rd_grid_with = np.random.randint(2,10) # rdgw 2-10g\n",
    "            rd_grid_hight = np.random.randint(2,10) # rdgh 2-10\n",
    "            rd_magnitude = np.random.randint(1,10) # rdm 1-10 ### 20 to much\n",
    "            \n",
    "            useless_path1, dirs, useless_files = next(os.walk(self._source_directory))\n",
    "            \n",
    "            for j in range(len(dirs)):\n",
    "            \n",
    "                p = Aug.Pipeline(self._source_directory + '/' + dirs[j], self._tmp_directory + '/' + dirs[j], save_format=self._save_format)\n",
    "                p.random_distortion(probability=1, grid_width=rd_grid_with, grid_height=rd_grid_hight, magnitude=rd_magnitude)\n",
    "                p.rotate(probability=1, max_left_rotation=25, max_right_rotation=25) # <= 25° for botch\n",
    "                p.skew(probability=0.5, magnitude=skew_magnitude)\n",
    "                p.shear(probability=0.5, max_shear_left=25, max_shear_right=25) # <= 25° for botch\n",
    "                p.sample(1)\n",
    "\n",
    "#                 save_images()\n",
    "            \n",
    "#     def save_images(self):\n",
    "        \n",
    "#         for k in range(len)\n",
    "#         path_output, dirs, output_files = next(os.walk(self._tmp_directory))\n",
    "#         timestr = time.strftime('%Y%m%d_%H%M%S')\n",
    "#         name = str(timestr) + '_' + 'sm' + str(skew_magnitude) + '_' + 'rdgw' + str(rd_grid_with) + '_' + 'rdgh' + str(rd_grid_hight) + '_' + 'rdm' + str(rd_magnitude) + '_' + 'rc' + str(rc_factor) + '_' + 'rcolor' + str(rcolor_factor) + '_' + 'se' + str(re_factor)\n",
    "#         print('neger')\n",
    "#         shutil.move(path_output + output_files[0], self._output_directory + name + '.' + self._save_format)\n",
    "#         time.sleep(0.1)"
   ]
  },
  {
   "cell_type": "code",
   "execution_count": null,
   "metadata": {},
   "outputs": [],
   "source": [
    "\n",
    "\n"
   ]
  },
  {
   "cell_type": "code",
   "execution_count": null,
   "metadata": {},
   "outputs": [],
   "source": []
  },
  {
   "cell_type": "code",
   "execution_count": null,
   "metadata": {},
   "outputs": [],
   "source": []
  }
 ],
 "metadata": {
  "kernelspec": {
   "display_name": "Python 3",
   "language": "python",
   "name": "python3"
  },
  "language_info": {
   "codemirror_mode": {
    "name": "ipython",
    "version": 3
   },
   "file_extension": ".py",
   "mimetype": "text/x-python",
   "name": "python",
   "nbconvert_exporter": "python",
   "pygments_lexer": "ipython3",
   "version": "3.6.4"
  }
 },
 "nbformat": 4,
 "nbformat_minor": 2
}
