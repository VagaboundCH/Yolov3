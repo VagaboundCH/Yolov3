{
 "cells": [
  {
   "cell_type": "code",
   "execution_count": 5,
   "metadata": {},
   "outputs": [],
   "source": [
    "import cv2\n",
    "import os\n",
    "import numpy as np\n",
    "from PIL import Image\n",
    "import matplotlib.pyplot as plt\n",
    "import skimage.util as sk"
   ]
  },
  {
   "cell_type": "code",
   "execution_count": 91,
   "metadata": {},
   "outputs": [],
   "source": [
    "class GenerateBackgroundImages():\n",
    "    \"\"\"\n",
    "    Bei der Initalisierung der Klasse werden die Bilder aus dem Eingangs Ordner in den Ausgangs Ordner kopiert.\n",
    "    Falls ein Bild grösser als die angegebene Bildgrösse ist, wird zufällig ein Teil es Bildes ausgeschnitten.\n",
    "    Wenn das Bild kleiner ist als die angegebene Bildgrösse wird das Bild geresized auf die angegebene Bildgrösse.\n",
    "    Die Bilder werden neu benannt mit background0, background1, wobei background0 das erste Bild im input Ordner ist.\n",
    "    \n",
    "    \n",
    "    Die Klasse kann mit folgenden Parameter initalisiert werden:\n",
    "    Eingangs Ordnerpfad: 'C:/Users/User/Desktop/test/'\n",
    "    Ausgangs Ordnerpfad: 'C:/Users/Users/Background'.\n",
    "    Bildgrösse: 512\n",
    "    format (bmp,jpg,png): 'bmp'\n",
    "    \n",
    "\n",
    "    \"\"\"\n",
    "    \n",
    "    def __init__(self, input_path, background_path, image_size, format_images):   \n",
    "        \n",
    "        self._input_path = input_path\n",
    "        self._background_path = background_path\n",
    "        self._image_size = image_size\n",
    "        self._format_images = format_images\n",
    " \n",
    "        self._input_path_folder, self._input_dirs, self._input_files = next(os.walk(self._input_path))\n",
    "        self._number_input_files = len(self._input_files)\n",
    "        \n",
    "\n",
    "        \n",
    "        self._noise_types = ['No noise','gaussian','localvar','poisson','salt','pepper','s&p','speckle']\n",
    "        \n",
    "        \n",
    "        \n",
    "        for i in range(self._number_input_files):\n",
    "            with Image.open(self._input_path + '/' + self._input_files[i]) as input_image:\n",
    "                self._input_img = np.array(input_image)\n",
    "                y,x,z = self._input_img.shape\n",
    "                self._input_image = input_image\n",
    "\n",
    "                self._input_image_resized = self._input_image.resize((self._image_size, self._image_size), Image.LANCZOS)\n",
    "                self._input_image_resized.save(self._background_path + '/' + 'background_' + str(i) + '.' + self._format_images)\n",
    "\n",
    "    \n",
    "    def add_noise(self):\n",
    "        self._background_path_folder, self._background_dirs, self._background_files = next(os.walk(self._background_path))\n",
    "        self._number_background_files = len(self._background_files)\n",
    "        \n",
    "        for i in range(self._number_background_files):\n",
    "            with Image.open(self._background_path_folder + '/' + self._background_files[i]) as background_image:\n",
    "                self._background_img = np.array(background_image)\n",
    "                y,x,z = self._background_img.shape\n",
    "                self._background_image = background_image\n",
    "\n",
    "\n",
    "                number_noise = np.random.randint(len(self._noise_types))\n",
    "\n",
    "                if number_noise != 0:\n",
    "                    self._background_img = sk.random_noise(self._background_img, mode=self._noise_types[number_noise])\n",
    "\n",
    "                    background_img_size_uint8 = Image.fromarray(np.uint8(self._background_img))\n",
    "                    name = self._background_files[i]\n",
    "                    \n",
    "                    index = name.find('.')\n",
    "                    print(name[:index])\n",
    "                    background_img_size_uint8.save(self._background_path + '/' + name[:index] + '_' + self._noise_types[number_noise] + '.' + self._format_images)        \n",
    "                        \n",
    "                    "
   ]
  },
  {
   "cell_type": "code",
   "execution_count": 92,
   "metadata": {},
   "outputs": [],
   "source": [
    "obj = GenerateBackgroundImages('C:/Users/User/Desktop/Test/PossibleBackgrounds/test_background_images','C:/Users/User/Desktop/Test/GeneratedData/BackgroundImages',512,'bmp')"
   ]
  },
  {
   "cell_type": "code",
   "execution_count": 84,
   "metadata": {},
   "outputs": [
    {
     "name": "stdout",
     "output_type": "stream",
     "text": [
      "background_0\n",
      "background_10\n",
      "background_11\n",
      "background_12\n",
      "background_13\n",
      "background_14\n",
      "background_15\n",
      "background_16\n",
      "background_17\n",
      "background_19\n",
      "background_2\n",
      "background_20\n",
      "background_21\n",
      "background_22\n",
      "background_23\n",
      "background_24\n",
      "background_25\n",
      "background_26\n",
      "background_27\n",
      "background_28\n",
      "background_29\n",
      "background_3\n",
      "background_30\n",
      "background_32\n",
      "background_33\n",
      "background_34\n",
      "background_35\n",
      "background_36\n",
      "background_4\n",
      "background_5\n",
      "background_6\n",
      "background_7\n",
      "background_8\n",
      "background_9\n"
     ]
    }
   ],
   "source": [
    "obj.add_noise()"
   ]
  },
  {
   "cell_type": "code",
   "execution_count": 58,
   "metadata": {},
   "outputs": [
    {
     "data": {
      "text/plain": [
       "2"
      ]
     },
     "execution_count": 58,
     "metadata": {},
     "output_type": "execute_result"
    }
   ],
   "source": [
    "np.random.randint(3)"
   ]
  },
  {
   "cell_type": "code",
   "execution_count": 28,
   "metadata": {},
   "outputs": [
    {
     "name": "stdout",
     "output_type": "stream",
     "text": [
      "4\n"
     ]
    },
    {
     "data": {
      "text/plain": [
       "0"
      ]
     },
     "execution_count": 28,
     "metadata": {},
     "output_type": "execute_result"
    }
   ],
   "source": [
    "a = [0,1,2,3]\n",
    "print(len(a))\n",
    "np.random.randint(b)"
   ]
  },
  {
   "cell_type": "code",
   "execution_count": null,
   "metadata": {},
   "outputs": [],
   "source": []
  }
 ],
 "metadata": {
  "kernelspec": {
   "display_name": "Python 3",
   "language": "python",
   "name": "python3"
  },
  "language_info": {
   "codemirror_mode": {
    "name": "ipython",
    "version": 3
   },
   "file_extension": ".py",
   "mimetype": "text/x-python",
   "name": "python",
   "nbconvert_exporter": "python",
   "pygments_lexer": "ipython3",
   "version": "3.6.4"
  }
 },
 "nbformat": 4,
 "nbformat_minor": 2
}
