{
 "cells": [
  {
   "cell_type": "code",
   "execution_count": 21,
   "metadata": {},
   "outputs": [],
   "source": [
    "import cv2\n",
    "import os\n",
    "import numpy as np\n",
    "from PIL import Image\n",
    "import matplotlib.pyplot as plt"
   ]
  },
  {
   "cell_type": "code",
   "execution_count": 33,
   "metadata": {},
   "outputs": [],
   "source": [
    "class GenerateBackgroundImages():\n",
    "    \"\"\"\n",
    "    Bei der Initalisierung der Klasse werden die Bilder aus dem Eingangs Ordner in den Ausgangs Ordner kopiert.\n",
    "    Falls ein Bild grösser als die angegebene Bildgrösse ist, wird zufällig ein Teil es Bildes ausgeschnitten.\n",
    "    Wenn das Bild kleiner ist als die angegebene Bildgrösse wird das Bild geresized auf die angegebene Bildgrösse.\n",
    "    Die Bilder werden neu benannt mit background0, background1, wobei background0 das erste Bild im input Ordner ist.\n",
    "    \n",
    "    \n",
    "    Die Klasse kann mit folgenden Parameter initalisiert werden:\n",
    "    Eingangs Ordnerpfad: 'C:/Users/User/Desktop/test/'\n",
    "    Ausgangs Ordnerpfad: 'C:/Users/Users/Background'.\n",
    "    Bildgrösse: 512\n",
    "    format (bmp,jpg,png): 'bmp'\n",
    "    \n",
    "\n",
    "    \"\"\"\n",
    "    \n",
    "    def __init__(self, input_path, backGroundImages_path, image_size, format_images):   \n",
    "        \n",
    "        self._input_path = input_path\n",
    "        self._background_path = backGroundImages_path\n",
    "        self._image_size = image_size\n",
    "        self._format_images = format_images\n",
    " \n",
    "        self._path_folder, self._dirs, self._files = next(os.walk(self._input_path))\n",
    "        self._number_files = len(self._files)\n",
    "        \n",
    "        \n",
    "        for i in range(self._number_files):\n",
    "            with Image.open(self._input_path + '/' + self._files[i]) as image:\n",
    "                self._img = np.array(image)\n",
    "                y,x,z = self._img.shape\n",
    "                self._image = image\n",
    "\n",
    "                self._image_resized = self._image.resize((self._image_size, self._image_size), Image.LANCZOS)\n",
    "                self._image_resized.save(self._background_path + '/' + 'background_' + str(i) + '.' + self._format_images)   "
   ]
  },
  {
   "cell_type": "code",
   "execution_count": 34,
   "metadata": {},
   "outputs": [
    {
     "ename": "ValueError",
     "evalue": "not enough values to unpack (expected 3, got 0)",
     "output_type": "error",
     "traceback": [
      "\u001b[1;31m---------------------------------------------------------------------------\u001b[0m",
      "\u001b[1;31mValueError\u001b[0m                                Traceback (most recent call last)",
      "\u001b[1;32m<ipython-input-34-a4ec2c05da4e>\u001b[0m in \u001b[0;36m<module>\u001b[1;34m()\u001b[0m\n\u001b[1;32m----> 1\u001b[1;33m \u001b[0mobj\u001b[0m \u001b[1;33m=\u001b[0m \u001b[0mGenerateBackgroundImages\u001b[0m\u001b[1;33m(\u001b[0m\u001b[1;34m'C:/Users/User/Desktop/Test/PossibleBackgrounds/ALL'\u001b[0m\u001b[1;33m,\u001b[0m\u001b[1;34m'C:/Users/User/Desktop/Test/GeneratedData/BackgroundImages'\u001b[0m\u001b[1;33m,\u001b[0m\u001b[1;36m512\u001b[0m\u001b[1;33m,\u001b[0m\u001b[1;34m'bmp'\u001b[0m\u001b[1;33m)\u001b[0m\u001b[1;33m\u001b[0m\u001b[0m\n\u001b[0m",
      "\u001b[1;32m<ipython-input-33-f1e076b74851>\u001b[0m in \u001b[0;36m__init__\u001b[1;34m(self, input_path, backGroundImages_path, image_size, format_images)\u001b[0m\n\u001b[0;32m     30\u001b[0m             \u001b[1;32mwith\u001b[0m \u001b[0mImage\u001b[0m\u001b[1;33m.\u001b[0m\u001b[0mopen\u001b[0m\u001b[1;33m(\u001b[0m\u001b[0mself\u001b[0m\u001b[1;33m.\u001b[0m\u001b[0m_input_path\u001b[0m \u001b[1;33m+\u001b[0m \u001b[1;34m'/'\u001b[0m \u001b[1;33m+\u001b[0m \u001b[0mself\u001b[0m\u001b[1;33m.\u001b[0m\u001b[0m_files\u001b[0m\u001b[1;33m[\u001b[0m\u001b[0mi\u001b[0m\u001b[1;33m]\u001b[0m\u001b[1;33m)\u001b[0m \u001b[1;32mas\u001b[0m \u001b[0mimage\u001b[0m\u001b[1;33m:\u001b[0m\u001b[1;33m\u001b[0m\u001b[0m\n\u001b[0;32m     31\u001b[0m                 \u001b[0mself\u001b[0m\u001b[1;33m.\u001b[0m\u001b[0m_img\u001b[0m \u001b[1;33m=\u001b[0m \u001b[0mnp\u001b[0m\u001b[1;33m.\u001b[0m\u001b[0marray\u001b[0m\u001b[1;33m(\u001b[0m\u001b[0mimage\u001b[0m\u001b[1;33m)\u001b[0m\u001b[1;33m\u001b[0m\u001b[0m\n\u001b[1;32m---> 32\u001b[1;33m                 \u001b[0my\u001b[0m\u001b[1;33m,\u001b[0m\u001b[0mx\u001b[0m\u001b[1;33m,\u001b[0m\u001b[0mz\u001b[0m \u001b[1;33m=\u001b[0m \u001b[0mself\u001b[0m\u001b[1;33m.\u001b[0m\u001b[0m_img\u001b[0m\u001b[1;33m.\u001b[0m\u001b[0mshape\u001b[0m\u001b[1;33m\u001b[0m\u001b[0m\n\u001b[0m\u001b[0;32m     33\u001b[0m                 \u001b[0mself\u001b[0m\u001b[1;33m.\u001b[0m\u001b[0m_image\u001b[0m \u001b[1;33m=\u001b[0m \u001b[0mimage\u001b[0m\u001b[1;33m\u001b[0m\u001b[0m\n\u001b[0;32m     34\u001b[0m \u001b[1;33m\u001b[0m\u001b[0m\n",
      "\u001b[1;31mValueError\u001b[0m: not enough values to unpack (expected 3, got 0)"
     ]
    }
   ],
   "source": [
    "obj = GenerateBackgroundImages('C:/Users/User/Desktop/Test/PossibleBackgrounds/ALL','C:/Users/User/Desktop/Test/GeneratedData/BackgroundImages',512,'bmp')"
   ]
  },
  {
   "cell_type": "code",
   "execution_count": 27,
   "metadata": {},
   "outputs": [
    {
     "ename": "NameError",
     "evalue": "name 'obj' is not defined",
     "output_type": "error",
     "traceback": [
      "\u001b[1;31m---------------------------------------------------------------------------\u001b[0m",
      "\u001b[1;31mNameError\u001b[0m                                 Traceback (most recent call last)",
      "\u001b[1;32m<ipython-input-27-5e8d27dfc196>\u001b[0m in \u001b[0;36m<module>\u001b[1;34m()\u001b[0m\n\u001b[1;32m----> 1\u001b[1;33m \u001b[0mobj\u001b[0m\u001b[1;33m.\u001b[0m\u001b[0m_self\u001b[0m\u001b[1;33m.\u001b[0m\u001b[0mimage_size\u001b[0m\u001b[1;33m\u001b[0m\u001b[0m\n\u001b[0m",
      "\u001b[1;31mNameError\u001b[0m: name 'obj' is not defined"
     ]
    }
   ],
   "source": [
    "obj._self.image_size"
   ]
  },
  {
   "cell_type": "code",
   "execution_count": null,
   "metadata": {},
   "outputs": [],
   "source": []
  }
 ],
 "metadata": {
  "kernelspec": {
   "display_name": "Python 3",
   "language": "python",
   "name": "python3"
  },
  "language_info": {
   "codemirror_mode": {
    "name": "ipython",
    "version": 3
   },
   "file_extension": ".py",
   "mimetype": "text/x-python",
   "name": "python",
   "nbconvert_exporter": "python",
   "pygments_lexer": "ipython3",
   "version": "3.6.4"
  }
 },
 "nbformat": 4,
 "nbformat_minor": 2
}
