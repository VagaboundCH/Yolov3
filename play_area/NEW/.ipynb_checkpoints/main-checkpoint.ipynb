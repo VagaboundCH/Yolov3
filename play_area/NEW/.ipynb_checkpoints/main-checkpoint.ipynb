{
 "cells": [
  {
   "cell_type": "code",
   "execution_count": 1,
   "metadata": {},
   "outputs": [
    {
     "name": "stdout",
     "output_type": "stream",
     "text": [
      "importing Jupyter notebook from generateFolderStructur.ipynb\n",
      "importing Jupyter notebook from generateCharacter.ipynb\n",
      "importing Jupyter notebook from generatefolderStructur.ipynb\n",
      "importing Jupyter notebook from augmentation.ipynb\n",
      "importing Jupyter notebook from tailor.ipynb\n",
      "importing Jupyter notebook from place.ipynb\n",
      "importing Jupyter notebook from generateBackgroundImages.ipynb\n"
     ]
    }
   ],
   "source": [
    "import import_ipynb \n",
    "import os\n",
    "from generateFolderStructur import GenerateFolderStructur\n",
    "from generateCharacter import GenerateCharacter\n",
    "from augmentation import Augmentation\n",
    "import Augmentor as Aug\n",
    "from tailor import Tailor\n",
    "from place import Place\n",
    "from generateBackgroundImages import GenerateBackgroundImages\n",
    "import numpy as np"
   ]
  },
  {
   "cell_type": "code",
   "execution_count": 2,
   "metadata": {},
   "outputs": [],
   "source": [
    "## Eigene Distortion function ###\n",
    "## Es muss Augmentation durch OwnDistortion ersetzt werden ###\n",
    "class OwnDistortion(Augmentation):\n",
    "    \n",
    "    def __init__(self, initalImages, distortedImages, tmp_distortion, tmp_rename,  root_path, save_format, number_images):\n",
    "        \n",
    "        Augmentation.__init__(self, initalImages, distortedImages, tmp_distortion, tmp_rename, root_path, save_format, number_images)\n",
    "            \n",
    "    def distortion(self, input_path, output_path, save_format):   \n",
    "            p = Aug.Pipeline(input_path, output_path, save_format)\n",
    "            \n",
    "            # Write here your distortion function \n",
    "            ###########################################\n",
    "            \n",
    "            rd_grid_with = np.random.randint(2,10) # rdgw 2-10\n",
    "            rd_grid_hight = np.random.randint(2,10) # rdgh 2-10\n",
    "            rd_magnitude = np.random.randint(10,20) # 1-10\n",
    "            p.random_distortion(probability=1, grid_width=rd_grid_with, grid_height=rd_grid_hight, magnitude=rd_magnitude)\n",
    "            \n",
    "            \n",
    "            \n",
    "            ############################################\n",
    "            # End of your distortion function\n",
    "            \n",
    "            p.sample(1)  "
   ]
  },
  {
   "cell_type": "code",
   "execution_count": 3,
   "metadata": {},
   "outputs": [],
   "source": [
    "# path, dirs, files = next(os.walk('C:/Users/User/Desktop/Test/Fonts/FirstTest'))\n",
    "# for i in range(len(files)):\n",
    "#     files[i] = 'C:/Users/User/Desktop/Test/Fonts/FirstTest/' + files[i]        "
   ]
  },
  {
   "cell_type": "code",
   "execution_count": 4,
   "metadata": {},
   "outputs": [
    {
     "name": "stderr",
     "output_type": "stream",
     "text": [
      "Processing <PIL.Image.Image image mode=RGB size=700x700 at 0x28A25789DD8>: 100%|███| 1/1 [00:00<00:00,  8.27 Samples/s]\n",
      "Executing Pipeline:   0%|                                                                  | 0/1 [00:00<?, ? Samples/s]"
     ]
    },
    {
     "name": "stdout",
     "output_type": "stream",
     "text": [
      "Initialised with 1 image(s) found.\n",
      "Output directory set to C:/Users/User/Desktop/Test/GeneratedData/TempFolderRename/.Initialised with 1 image(s) found.\n",
      "Output directory set to C:/Users/User/Desktop/Test/GeneratedData/TempFolderRename/."
     ]
    },
    {
     "name": "stderr",
     "output_type": "stream",
     "text": [
      "Processing <PIL.Image.Image image mode=RGB size=700x700 at 0x28A25789E80>: 100%|███| 1/1 [00:00<00:00,  8.27 Samples/s]\n",
      "Processing <PIL.Image.Image image mode=RGB size=700x700 at 0x28A257A3080>: 100%|███| 1/1 [00:00<00:00,  5.53 Samples/s]\n",
      "Executing Pipeline:   0%|                                                                  | 0/1 [00:00<?, ? Samples/s]"
     ]
    },
    {
     "name": "stdout",
     "output_type": "stream",
     "text": [
      "Initialised with 1 image(s) found.\n",
      "Output directory set to C:/Users/User/Desktop/Test/GeneratedData/TempFolderRename/.Initialised with 1 image(s) found.\n",
      "Output directory set to C:/Users/User/Desktop/Test/GeneratedData/TempFolderRename/."
     ]
    },
    {
     "name": "stderr",
     "output_type": "stream",
     "text": [
      "Processing <PIL.Image.Image image mode=RGB size=700x700 at 0x28A257A3160>: 100%|███| 1/1 [00:00<00:00,  5.44 Samples/s]\n",
      "Processing <PIL.Image.Image image mode=RGB size=700x700 at 0x28A257A22B0>: 100%|███| 1/1 [00:00<00:00,  6.95 Samples/s]\n",
      "Executing Pipeline:   0%|                                                                  | 0/1 [00:00<?, ? Samples/s]"
     ]
    },
    {
     "name": "stdout",
     "output_type": "stream",
     "text": [
      "Initialised with 1 image(s) found.\n",
      "Output directory set to C:/Users/User/Desktop/Test/GeneratedData/TempFolderRename/.Initialised with 1 image(s) found.\n",
      "Output directory set to C:/Users/User/Desktop/Test/GeneratedData/TempFolderRename/."
     ]
    },
    {
     "name": "stderr",
     "output_type": "stream",
     "text": [
      "Processing <PIL.Image.Image image mode=RGB size=700x700 at 0x28A257A2358>: 100%|███| 1/1 [00:00<00:00,  5.01 Samples/s]\n",
      "Processing <PIL.Image.Image image mode=RGB size=700x700 at 0x28A257A2240>: 100%|███| 1/1 [00:00<00:00,  6.63 Samples/s]\n",
      "Executing Pipeline:   0%|                                                                  | 0/1 [00:00<?, ? Samples/s]"
     ]
    },
    {
     "name": "stdout",
     "output_type": "stream",
     "text": [
      "Initialised with 1 image(s) found.\n",
      "Output directory set to C:/Users/User/Desktop/Test/GeneratedData/TempFolderRename/.Initialised with 1 image(s) found.\n",
      "Output directory set to C:/Users/User/Desktop/Test/GeneratedData/TempFolderRename/."
     ]
    },
    {
     "name": "stderr",
     "output_type": "stream",
     "text": [
      "Processing <PIL.Image.Image image mode=RGB size=700x700 at 0x28A257A2080>: 100%|███| 1/1 [00:00<00:00,  5.16 Samples/s]\n",
      "Processing <PIL.Image.Image image mode=RGB size=700x700 at 0x28A257A2588>: 100%|███| 1/1 [00:00<00:00,  5.08 Samples/s]"
     ]
    },
    {
     "name": "stdout",
     "output_type": "stream",
     "text": [
      "Initialised with 1 image(s) found.\n",
      "Output directory set to C:/Users/User/Desktop/Test/GeneratedData/TempFolderRename/."
     ]
    },
    {
     "name": "stderr",
     "output_type": "stream",
     "text": [
      "\n",
      "\r",
      "Executing Pipeline:   0%|                                                                  | 0/1 [00:00<?, ? Samples/s]"
     ]
    },
    {
     "name": "stdout",
     "output_type": "stream",
     "text": [
      "Initialised with 1 image(s) found.\n",
      "Output directory set to C:/Users/User/Desktop/Test/GeneratedData/TempFolderRename/."
     ]
    },
    {
     "name": "stderr",
     "output_type": "stream",
     "text": [
      "Processing <PIL.Image.Image image mode=RGB size=700x700 at 0x28A257A25C0>: 100%|███| 1/1 [00:00<00:00,  3.56 Samples/s]\n",
      "Processing <PIL.Image.Image image mode=RGB size=700x700 at 0x28A257A2908>: 100%|███| 1/1 [00:00<00:00,  7.58 Samples/s]\n",
      "Executing Pipeline:   0%|                                                                  | 0/1 [00:00<?, ? Samples/s]"
     ]
    },
    {
     "name": "stdout",
     "output_type": "stream",
     "text": [
      "Initialised with 1 image(s) found.\n",
      "Output directory set to C:/Users/User/Desktop/Test/GeneratedData/TempFolderRename/.Initialised with 1 image(s) found.\n",
      "Output directory set to C:/Users/User/Desktop/Test/GeneratedData/TempFolderRename/."
     ]
    },
    {
     "name": "stderr",
     "output_type": "stream",
     "text": [
      "Processing <PIL.Image.Image image mode=RGB size=700x700 at 0x28A257A29B0>: 100%|███| 1/1 [00:00<00:00,  5.27 Samples/s]\n",
      "Processing <PIL.Image.Image image mode=RGB size=700x700 at 0x28A257A27F0>: 100%|███| 1/1 [00:00<00:00,  5.24 Samples/s]"
     ]
    },
    {
     "name": "stdout",
     "output_type": "stream",
     "text": [
      "Initialised with 1 image(s) found.\n",
      "Output directory set to C:/Users/User/Desktop/Test/GeneratedData/TempFolderRename/."
     ]
    },
    {
     "name": "stderr",
     "output_type": "stream",
     "text": [
      "\n",
      "Processing <PIL.Image.Image image mode=RGB size=700x700 at 0x28A257A2C50>: 100%|███| 1/1 [00:00<00:00,  7.58 Samples/s]\n",
      "Executing Pipeline:   0%|                                                                  | 0/1 [00:00<?, ? Samples/s]"
     ]
    },
    {
     "name": "stdout",
     "output_type": "stream",
     "text": [
      "Initialised with 1 image(s) found.\n",
      "Output directory set to C:/Users/User/Desktop/Test/GeneratedData/TempFolderRename/.Initialised with 1 image(s) found.\n",
      "Output directory set to C:/Users/User/Desktop/Test/GeneratedData/TempFolderRename/."
     ]
    },
    {
     "name": "stderr",
     "output_type": "stream",
     "text": [
      "Processing <PIL.Image.Image image mode=RGB size=700x700 at 0x28A257A2D68>: 100%|███| 1/1 [00:00<00:00,  7.82 Samples/s]\n",
      "Executing Pipeline:   0%|                                                                  | 0/1 [00:00<?, ? Samples/s]"
     ]
    },
    {
     "name": "stdout",
     "output_type": "stream",
     "text": [
      "Initialised with 1 image(s) found.\n",
      "Output directory set to C:/Users/User/Desktop/Test/GeneratedData/TempFolderRename/."
     ]
    },
    {
     "name": "stderr",
     "output_type": "stream",
     "text": [
      "Processing <PIL.Image.Image image mode=RGB size=700x700 at 0x28A257A2E48>: 100%|███| 1/1 [00:00<00:00,  3.67 Samples/s]\n",
      "Processing <PIL.Image.Image image mode=RGB size=700x700 at 0x28A257A2F28>: 100%|███| 1/1 [00:00<00:00,  5.56 Samples/s]\n",
      "Executing Pipeline:   0%|                                                                  | 0/1 [00:00<?, ? Samples/s]"
     ]
    },
    {
     "name": "stdout",
     "output_type": "stream",
     "text": [
      "Initialised with 1 image(s) found.\n",
      "Output directory set to C:/Users/User/Desktop/Test/GeneratedData/TempFolderRename/.Initialised with 1 image(s) found.\n",
      "Output directory set to C:/Users/User/Desktop/Test/GeneratedData/TempFolderRename/."
     ]
    },
    {
     "name": "stderr",
     "output_type": "stream",
     "text": [
      "Processing <PIL.Image.Image image mode=RGB size=700x700 at 0x28A257AC128>: 100%|███| 1/1 [00:00<00:00,  7.64 Samples/s]\n",
      "Processing <PIL.Image.Image image mode=RGB size=700x700 at 0x28A257AC240>: 100%|███| 1/1 [00:00<00:00,  8.07 Samples/s]\n",
      "Executing Pipeline:   0%|                                                                  | 0/1 [00:00<?, ? Samples/s]"
     ]
    },
    {
     "name": "stdout",
     "output_type": "stream",
     "text": [
      "Initialised with 1 image(s) found.\n",
      "Output directory set to C:/Users/User/Desktop/Test/GeneratedData/TempFolderRename/.Initialised with 1 image(s) found.\n",
      "Output directory set to C:/Users/User/Desktop/Test/GeneratedData/TempFolderRename/."
     ]
    },
    {
     "name": "stderr",
     "output_type": "stream",
     "text": [
      "Processing <PIL.Image.Image image mode=RGB size=700x700 at 0x28A257AC2E8>: 100%|███| 1/1 [00:00<00:00,  4.72 Samples/s]\n",
      "Processing <PIL.Image.Image image mode=RGB size=700x700 at 0x28A257AC1D0>: 100%|███| 1/1 [00:00<00:00, 11.92 Samples/s]\n",
      "Executing Pipeline:   0%|                                                                  | 0/1 [00:00<?, ? Samples/s]"
     ]
    },
    {
     "name": "stdout",
     "output_type": "stream",
     "text": [
      "Initialised with 1 image(s) found.\n",
      "Output directory set to C:/Users/User/Desktop/Test/GeneratedData/TempFolderRename/.Initialised with 1 image(s) found.\n",
      "Output directory set to C:/Users/User/Desktop/Test/GeneratedData/TempFolderRename/."
     ]
    },
    {
     "name": "stderr",
     "output_type": "stream",
     "text": [
      "Processing <PIL.Image.Image image mode=RGB size=700x700 at 0x28A257AC4E0>: 100%|███| 1/1 [00:00<00:00,  3.24 Samples/s]\n",
      "Processing <PIL.Image.Image image mode=RGB size=700x700 at 0x28A257AC6A0>: 100%|███| 1/1 [00:00<00:00,  6.38 Samples/s]\n",
      "Executing Pipeline:   0%|                                                                  | 0/1 [00:00<?, ? Samples/s]"
     ]
    },
    {
     "name": "stdout",
     "output_type": "stream",
     "text": [
      "Initialised with 1 image(s) found.\n",
      "Output directory set to C:/Users/User/Desktop/Test/GeneratedData/TempFolderRename/.Initialised with 1 image(s) found.\n",
      "Output directory set to C:/Users/User/Desktop/Test/GeneratedData/TempFolderRename/."
     ]
    },
    {
     "name": "stderr",
     "output_type": "stream",
     "text": [
      "Processing <PIL.Image.Image image mode=RGB size=700x700 at 0x28A257AC748>: 100%|███| 1/1 [00:00<00:00,  2.37 Samples/s]\n",
      "Processing <PIL.Image.Image image mode=RGB size=700x700 at 0x28A257AC828>: 100%|███| 1/1 [00:00<00:00,  6.67 Samples/s]\n",
      "Executing Pipeline:   0%|                                                                  | 0/1 [00:00<?, ? Samples/s]"
     ]
    },
    {
     "name": "stdout",
     "output_type": "stream",
     "text": [
      "Initialised with 1 image(s) found.\n",
      "Output directory set to C:/Users/User/Desktop/Test/GeneratedData/TempFolderRename/.Initialised with 1 image(s) found.\n",
      "Output directory set to C:/Users/User/Desktop/Test/GeneratedData/TempFolderRename/."
     ]
    },
    {
     "name": "stderr",
     "output_type": "stream",
     "text": [
      "Processing <PIL.Image.Image image mode=RGB size=700x700 at 0x28A257AC7F0>: 100%|███| 1/1 [00:00<00:00,  5.11 Samples/s]\n",
      "Processing <PIL.Image.Image image mode=RGB size=700x700 at 0x28A257ACA20>: 100%|███| 1/1 [00:00<00:00,  5.53 Samples/s]\n",
      "Executing Pipeline:   0%|                                                                  | 0/1 [00:00<?, ? Samples/s]"
     ]
    },
    {
     "name": "stdout",
     "output_type": "stream",
     "text": [
      "Initialised with 1 image(s) found.\n",
      "Output directory set to C:/Users/User/Desktop/Test/GeneratedData/TempFolderRename/.Initialised with 1 image(s) found.\n",
      "Output directory set to C:/Users/User/Desktop/Test/GeneratedData/TempFolderRename/."
     ]
    },
    {
     "name": "stderr",
     "output_type": "stream",
     "text": [
      "Processing <PIL.Image.Image image mode=RGB size=700x700 at 0x28A257ACC18>: 100%|███| 1/1 [00:00<00:00,  7.70 Samples/s]\n",
      "Processing <PIL.Image.Image image mode=RGB size=700x700 at 0x28A257ACD30>: 100%|███| 1/1 [00:00<00:00,  7.94 Samples/s]\n",
      "Executing Pipeline:   0%|                                                                  | 0/1 [00:00<?, ? Samples/s]"
     ]
    },
    {
     "name": "stdout",
     "output_type": "stream",
     "text": [
      "Initialised with 1 image(s) found.\n",
      "Output directory set to C:/Users/User/Desktop/Test/GeneratedData/TempFolderRename/.Initialised with 1 image(s) found.\n",
      "Output directory set to C:/Users/User/Desktop/Test/GeneratedData/TempFolderRename/."
     ]
    },
    {
     "name": "stderr",
     "output_type": "stream",
     "text": [
      "Processing <PIL.Image.Image image mode=RGB size=700x700 at 0x28A257ACBA8>: 100%|███| 1/1 [00:00<00:00,  4.33 Samples/s]\n",
      "Processing <PIL.Image.Image image mode=RGB size=700x700 at 0x28A257ACEF0>: 100%|███| 1/1 [00:00<00:00,  5.66 Samples/s]\n",
      "Executing Pipeline:   0%|                                                                  | 0/1 [00:00<?, ? Samples/s]"
     ]
    },
    {
     "name": "stdout",
     "output_type": "stream",
     "text": [
      "Initialised with 1 image(s) found.\n",
      "Output directory set to C:/Users/User/Desktop/Test/GeneratedData/TempFolderRename/.Initialised with 1 image(s) found.\n",
      "Output directory set to C:/Users/User/Desktop/Test/GeneratedData/TempFolderRename/."
     ]
    },
    {
     "name": "stderr",
     "output_type": "stream",
     "text": [
      "Processing <PIL.Image.Image image mode=RGB size=700x700 at 0x28A257ACF98>: 100%|███| 1/1 [00:00<00:00, 15.40 Samples/s]\n",
      "Processing <PIL.Image.Image image mode=RGB size=700x700 at 0x28A257AF198>: 100%|███| 1/1 [00:00<00:00,  7.00 Samples/s]\n",
      "Executing Pipeline:   0%|                                                                  | 0/1 [00:00<?, ? Samples/s]"
     ]
    },
    {
     "name": "stdout",
     "output_type": "stream",
     "text": [
      "Initialised with 1 image(s) found.\n",
      "Output directory set to C:/Users/User/Desktop/Test/GeneratedData/TempFolderRename/.Initialised with 1 image(s) found.\n",
      "Output directory set to C:/Users/User/Desktop/Test/GeneratedData/TempFolderRename/."
     ]
    },
    {
     "name": "stderr",
     "output_type": "stream",
     "text": [
      "Processing <PIL.Image.Image image mode=RGB size=700x700 at 0x28A257AF2B0>: 100%|███| 1/1 [00:00<00:00,  6.90 Samples/s]\n",
      "Processing <PIL.Image.Image image mode=RGB size=700x700 at 0x28A257AF3C8>: 100%|███| 1/1 [00:00<00:00,  6.22 Samples/s]\n",
      "Executing Pipeline:   0%|                                                                  | 0/1 [00:00<?, ? Samples/s]"
     ]
    },
    {
     "name": "stdout",
     "output_type": "stream",
     "text": [
      "Initialised with 1 image(s) found.\n",
      "Output directory set to C:/Users/User/Desktop/Test/GeneratedData/TempFolderRename/.Initialised with 1 image(s) found.\n",
      "Output directory set to C:/Users/User/Desktop/Test/GeneratedData/TempFolderRename/."
     ]
    },
    {
     "name": "stderr",
     "output_type": "stream",
     "text": [
      "Processing <PIL.Image.Image image mode=RGB size=700x700 at 0x28A257AF470>: 100%|███| 1/1 [00:00<00:00,  5.32 Samples/s]\n",
      "Processing <PIL.Image.Image image mode=RGB size=700x700 at 0x28A257AF5F8>: 100%|███| 1/1 [00:00<00:00,  5.66 Samples/s]\n",
      "Executing Pipeline:   0%|                                                                  | 0/1 [00:00<?, ? Samples/s]"
     ]
    },
    {
     "name": "stdout",
     "output_type": "stream",
     "text": [
      "Initialised with 1 image(s) found.\n",
      "Output directory set to C:/Users/User/Desktop/Test/GeneratedData/TempFolderRename/.Initialised with 1 image(s) found.\n",
      "Output directory set to C:/Users/User/Desktop/Test/GeneratedData/TempFolderRename/."
     ]
    },
    {
     "name": "stderr",
     "output_type": "stream",
     "text": [
      "Processing <PIL.Image.Image image mode=RGB size=700x700 at 0x28A257AF6A0>: 100%|███| 1/1 [00:00<00:00,  4.45 Samples/s]\n",
      "Processing <PIL.Image.Image image mode=RGB size=700x700 at 0x28A257AF828>: 100%|███| 1/1 [00:00<00:00,  7.76 Samples/s]\n",
      "Executing Pipeline:   0%|                                                                  | 0/1 [00:00<?, ? Samples/s]"
     ]
    },
    {
     "name": "stdout",
     "output_type": "stream",
     "text": [
      "Initialised with 1 image(s) found.\n",
      "Output directory set to C:/Users/User/Desktop/Test/GeneratedData/TempFolderRename/.Initialised with 1 image(s) found.\n",
      "Output directory set to C:/Users/User/Desktop/Test/GeneratedData/TempFolderRename/."
     ]
    },
    {
     "name": "stderr",
     "output_type": "stream",
     "text": [
      "Processing <PIL.Image.Image image mode=RGB size=700x700 at 0x28A257AF940>: 100%|███| 1/1 [00:00<00:00,  7.25 Samples/s]\n",
      "Processing <PIL.Image.Image image mode=RGB size=700x700 at 0x28A257AF8D0>: 100%|███| 1/1 [00:00<00:00,  8.21 Samples/s]\n",
      "Executing Pipeline:   0%|                                                                  | 0/1 [00:00<?, ? Samples/s]"
     ]
    },
    {
     "name": "stdout",
     "output_type": "stream",
     "text": [
      "Initialised with 1 image(s) found.\n",
      "Output directory set to C:/Users/User/Desktop/Test/GeneratedData/TempFolderRename/.Initialised with 1 image(s) found.\n",
      "Output directory set to C:/Users/User/Desktop/Test/GeneratedData/TempFolderRename/."
     ]
    },
    {
     "name": "stderr",
     "output_type": "stream",
     "text": [
      "Processing <PIL.Image.Image image mode=RGB size=700x700 at 0x28A257AFB00>: 100%|███| 1/1 [00:00<00:00,  5.59 Samples/s]\n",
      "Processing <PIL.Image.Image image mode=RGB size=700x700 at 0x28A257AFA90>: 100%|███| 1/1 [00:00<00:00,  5.59 Samples/s]\n",
      "Executing Pipeline:   0%|                                                                  | 0/1 [00:00<?, ? Samples/s]"
     ]
    },
    {
     "name": "stdout",
     "output_type": "stream",
     "text": [
      "Initialised with 1 image(s) found.\n",
      "Output directory set to C:/Users/User/Desktop/Test/GeneratedData/TempFolderRename/.Initialised with 1 image(s) found.\n",
      "Output directory set to C:/Users/User/Desktop/Test/GeneratedData/TempFolderRename/."
     ]
    },
    {
     "name": "stderr",
     "output_type": "stream",
     "text": [
      "Processing <PIL.Image.Image image mode=RGB size=700x700 at 0x28A257AFDA0>: 100%|███| 1/1 [00:00<00:00,  8.14 Samples/s]\n",
      "Executing Pipeline:   0%|                                                                  | 0/1 [00:00<?, ? Samples/s]"
     ]
    },
    {
     "name": "stdout",
     "output_type": "stream",
     "text": [
      "Initialised with 1 image(s) found.\n",
      "Output directory set to C:/Users/User/Desktop/Test/GeneratedData/TempFolderRename/."
     ]
    },
    {
     "name": "stderr",
     "output_type": "stream",
     "text": [
      "Processing <PIL.Image.Image image mode=RGB size=700x700 at 0x28A257AFC50>: 100%|███| 1/1 [00:00<00:00,  4.22 Samples/s]\n",
      "Processing <PIL.Image.Image image mode=RGB size=700x700 at 0x28A257AFD30>: 100%|███| 1/1 [00:00<00:00,  8.27 Samples/s]\n",
      "Executing Pipeline:   0%|                                                                  | 0/1 [00:00<?, ? Samples/s]"
     ]
    },
    {
     "name": "stdout",
     "output_type": "stream",
     "text": [
      "Initialised with 1 image(s) found.\n",
      "Output directory set to C:/Users/User/Desktop/Test/GeneratedData/TempFolderRename/.Initialised with 1 image(s) found.\n",
      "Output directory set to C:/Users/User/Desktop/Test/GeneratedData/TempFolderRename/."
     ]
    },
    {
     "name": "stderr",
     "output_type": "stream",
     "text": [
      "Processing <PIL.Image.Image image mode=RGB size=700x700 at 0x28A258620B8>: 100%|███| 1/1 [00:00<00:00,  5.69 Samples/s]\n",
      "Processing <PIL.Image.Image image mode=RGB size=700x700 at 0x28A25862198>: 100%|███| 1/1 [00:00<00:00, 15.89 Samples/s]\n",
      "Executing Pipeline:   0%|                                                                  | 0/1 [00:00<?, ? Samples/s]"
     ]
    },
    {
     "name": "stdout",
     "output_type": "stream",
     "text": [
      "Initialised with 1 image(s) found.\n",
      "Output directory set to C:/Users/User/Desktop/Test/GeneratedData/TempFolderRename/.Initialised with 1 image(s) found.\n",
      "Output directory set to C:/Users/User/Desktop/Test/GeneratedData/TempFolderRename/."
     ]
    },
    {
     "name": "stderr",
     "output_type": "stream",
     "text": [
      "Processing <PIL.Image.Image image mode=RGB size=700x700 at 0x28A25862390>: 100%|███| 1/1 [00:00<00:00,  5.03 Samples/s]\n",
      "Executing Pipeline:   0%|                                                                  | 0/1 [00:00<?, ? Samples/s]"
     ]
    },
    {
     "name": "stdout",
     "output_type": "stream",
     "text": [
      "Initialised with 1 image(s) found.\n",
      "Output directory set to C:/Users/User/Desktop/Test/GeneratedData/TempFolderRename/."
     ]
    },
    {
     "name": "stderr",
     "output_type": "stream",
     "text": [
      "Processing <PIL.Image.Image image mode=RGB size=700x700 at 0x28A258621D0>: 100%|███| 1/1 [00:00<00:00,  4.55 Samples/s]\n",
      "Processing <PIL.Image.Image image mode=RGB size=700x700 at 0x28A25862518>: 100%|███| 1/1 [00:00<00:00,  5.27 Samples/s]"
     ]
    },
    {
     "name": "stdout",
     "output_type": "stream",
     "text": [
      "Initialised with 1 image(s) found.\n",
      "Output directory set to C:/Users/User/Desktop/Test/GeneratedData/TempFolderRename/."
     ]
    },
    {
     "name": "stderr",
     "output_type": "stream",
     "text": [
      "\n",
      "\r",
      "Executing Pipeline:   0%|                                                                  | 0/1 [00:00<?, ? Samples/s]"
     ]
    },
    {
     "name": "stdout",
     "output_type": "stream",
     "text": [
      "Initialised with 1 image(s) found.\n",
      "Output directory set to C:/Users/User/Desktop/Test/GeneratedData/TempFolderRename/."
     ]
    },
    {
     "name": "stderr",
     "output_type": "stream",
     "text": [
      "Processing <PIL.Image.Image image mode=RGB size=700x700 at 0x28A25862668>: 100%|███| 1/1 [00:00<00:00,  2.44 Samples/s]\n",
      "Executing Pipeline:   0%|                                                                  | 0/1 [00:00<?, ? Samples/s]"
     ]
    },
    {
     "name": "stdout",
     "output_type": "stream",
     "text": [
      "Initialised with 1 image(s) found.\n",
      "Output directory set to C:/Users/User/Desktop/Test/GeneratedData/TempFolderRename/."
     ]
    },
    {
     "name": "stderr",
     "output_type": "stream",
     "text": [
      "Processing <PIL.Image.Image image mode=RGB size=700x700 at 0x28A25862710>: 100%|███| 1/1 [00:00<00:00,  4.07 Samples/s]\n",
      "Processing <PIL.Image.Image image mode=RGB size=700x700 at 0x28A25862828>: 100%|███| 1/1 [00:00<00:00,  5.21 Samples/s]"
     ]
    },
    {
     "name": "stdout",
     "output_type": "stream",
     "text": [
      "Initialised with 1 image(s) found.\n",
      "Output directory set to C:/Users/User/Desktop/Test/GeneratedData/TempFolderRename/."
     ]
    },
    {
     "name": "stderr",
     "output_type": "stream",
     "text": [
      "\n",
      "Processing <PIL.Image.Image image mode=RGB size=700x700 at 0x28A258629B0>: 100%|███| 1/1 [00:00<00:00,  8.07 Samples/s]\n",
      "Executing Pipeline:   0%|                                                                  | 0/1 [00:00<?, ? Samples/s]"
     ]
    },
    {
     "name": "stdout",
     "output_type": "stream",
     "text": [
      "Initialised with 1 image(s) found.\n",
      "Output directory set to C:/Users/User/Desktop/Test/GeneratedData/TempFolderRename/.Initialised with 1 image(s) found.\n",
      "Output directory set to C:/Users/User/Desktop/Test/GeneratedData/TempFolderRename/."
     ]
    },
    {
     "name": "stderr",
     "output_type": "stream",
     "text": [
      "Processing <PIL.Image.Image image mode=RGB size=700x700 at 0x28A25862AC8>: 100%|███| 1/1 [00:00<00:00,  8.01 Samples/s]\n",
      "Processing <PIL.Image.Image image mode=RGB size=700x700 at 0x28A25862B70>: 100%|███| 1/1 [00:00<00:00,  8.01 Samples/s]\n",
      "Executing Pipeline:   0%|                                                                  | 0/1 [00:00<?, ? Samples/s]"
     ]
    },
    {
     "name": "stdout",
     "output_type": "stream",
     "text": [
      "Initialised with 1 image(s) found.\n",
      "Output directory set to C:/Users/User/Desktop/Test/GeneratedData/TempFolderRename/.Initialised with 1 image(s) found.\n",
      "Output directory set to C:/Users/User/Desktop/Test/GeneratedData/TempFolderRename/."
     ]
    },
    {
     "name": "stderr",
     "output_type": "stream",
     "text": [
      "Processing <PIL.Image.Image image mode=RGB size=700x700 at 0x28A25862CF8>: 100%|███| 1/1 [00:00<00:00,  5.96 Samples/s]\n",
      "Processing <PIL.Image.Image image mode=RGB size=700x700 at 0x28A25862C88>: 100%|███| 1/1 [00:00<00:00,  5.24 Samples/s]"
     ]
    },
    {
     "name": "stdout",
     "output_type": "stream",
     "text": [
      "Initialised with 1 image(s) found.\n",
      "Output directory set to C:/Users/User/Desktop/Test/GeneratedData/TempFolderRename/."
     ]
    },
    {
     "name": "stderr",
     "output_type": "stream",
     "text": [
      "\n",
      "Executing Pipeline:   0%|                                                                  | 0/1 [00:00<?, ? Samples/s]"
     ]
    },
    {
     "name": "stdout",
     "output_type": "stream",
     "text": [
      "Initialised with 1 image(s) found.\n",
      "Output directory set to C:/Users/User/Desktop/Test/GeneratedData/TempFolderRename/."
     ]
    },
    {
     "name": "stderr",
     "output_type": "stream",
     "text": [
      "Processing <PIL.Image.Image image mode=RGB size=700x700 at 0x28A25862EB8>: 100%|███| 1/1 [00:00<00:00,  4.88 Samples/s]\n",
      "Processing <PIL.Image.Image image mode=RGB size=700x700 at 0x28A25874080>: 100%|███| 1/1 [00:00<00:00,  5.30 Samples/s]"
     ]
    },
    {
     "name": "stdout",
     "output_type": "stream",
     "text": [
      "Initialised with 1 image(s) found.\n",
      "Output directory set to C:/Users/User/Desktop/Test/GeneratedData/TempFolderRename/.Initialised with 1 image(s) found.\n"
     ]
    },
    {
     "name": "stderr",
     "output_type": "stream",
     "text": [
      "\n",
      "\r",
      "Executing Pipeline:   0%|                                                                  | 0/1 [00:00<?, ? Samples/s]"
     ]
    },
    {
     "name": "stdout",
     "output_type": "stream",
     "text": [
      "Output directory set to C:/Users/User/Desktop/Test/GeneratedData/TempFolderRename/."
     ]
    },
    {
     "name": "stderr",
     "output_type": "stream",
     "text": [
      "Processing <PIL.Image.Image image mode=RGB size=700x700 at 0x28A25874128>: 100%|███| 1/1 [00:00<00:00,  4.43 Samples/s]\n",
      "Processing <PIL.Image.Image image mode=RGB size=700x700 at 0x28A25874240>: 100%|███| 1/1 [00:00<00:00,  5.06 Samples/s]"
     ]
    },
    {
     "name": "stdout",
     "output_type": "stream",
     "text": [
      "Initialised with 1 image(s) found.\n",
      "Output directory set to C:/Users/User/Desktop/Test/GeneratedData/TempFolderRename/."
     ]
    },
    {
     "name": "stderr",
     "output_type": "stream",
     "text": [
      "\n",
      "\r",
      "Executing Pipeline:   0%|                                                                  | 0/1 [00:00<?, ? Samples/s]"
     ]
    },
    {
     "name": "stdout",
     "output_type": "stream",
     "text": [
      "Initialised with 1 image(s) found.\n",
      "Output directory set to C:/Users/User/Desktop/Test/GeneratedData/TempFolderRename/."
     ]
    },
    {
     "name": "stderr",
     "output_type": "stream",
     "text": [
      "Processing <PIL.Image.Image image mode=RGB size=700x700 at 0x28A2587B358>: 100%|███| 1/1 [00:00<00:00,  4.07 Samples/s]\n",
      "Processing <PIL.Image.Image image mode=RGB size=700x700 at 0x28A2587B470>: 100%|███| 1/1 [00:00<00:00,  5.66 Samples/s]\n",
      "Executing Pipeline:   0%|                                                                  | 0/1 [00:00<?, ? Samples/s]"
     ]
    },
    {
     "name": "stdout",
     "output_type": "stream",
     "text": [
      "Initialised with 1 image(s) found.\n",
      "Output directory set to C:/Users/User/Desktop/Test/GeneratedData/TempFolderRename/.Initialised with 1 image(s) found.\n",
      "Output directory set to C:/Users/User/Desktop/Test/GeneratedData/TempFolderRename/."
     ]
    },
    {
     "name": "stderr",
     "output_type": "stream",
     "text": [
      "Processing <PIL.Image.Image image mode=RGB size=700x700 at 0x28A2587B588>: 100%|███| 1/1 [00:00<00:00,  5.27 Samples/s]\n",
      "Processing <PIL.Image.Image image mode=RGB size=700x700 at 0x28A2587B6A0>: 100%|███| 1/1 [00:00<00:00,  5.59 Samples/s]\n",
      "Executing Pipeline:   0%|                                                                  | 0/1 [00:00<?, ? Samples/s]"
     ]
    },
    {
     "name": "stdout",
     "output_type": "stream",
     "text": [
      "Initialised with 1 image(s) found.\n",
      "Output directory set to C:/Users/User/Desktop/Test/GeneratedData/TempFolderRename/.Initialised with 1 image(s) found.\n",
      "Output directory set to C:/Users/User/Desktop/Test/GeneratedData/TempFolderRename/."
     ]
    },
    {
     "name": "stderr",
     "output_type": "stream",
     "text": [
      "Processing <PIL.Image.Image image mode=RGB size=700x700 at 0x28A2587B860>: 100%|███| 1/1 [00:00<00:00,  8.14 Samples/s]\n",
      "Processing <PIL.Image.Image image mode=RGB size=700x700 at 0x28A2587B630>: 100%|███| 1/1 [00:00<00:00,  5.21 Samples/s]"
     ]
    },
    {
     "name": "stdout",
     "output_type": "stream",
     "text": [
      "Initialised with 1 image(s) found.\n",
      "Output directory set to C:/Users/User/Desktop/Test/GeneratedData/TempFolderRename/."
     ]
    },
    {
     "name": "stderr",
     "output_type": "stream",
     "text": [
      "\n",
      "Processing <PIL.Image.Image image mode=RGB size=700x700 at 0x28A2587B9E8>: 100%|███| 1/1 [00:00<00:00,  5.62 Samples/s]\n"
     ]
    },
    {
     "name": "stdout",
     "output_type": "stream",
     "text": [
      "Initialised with 1 image(s) found.\n",
      "Output directory set to C:/Users/User/Desktop/Test/GeneratedData/TempFolderRename/."
     ]
    },
    {
     "name": "stderr",
     "output_type": "stream",
     "text": [
      "\r",
      "Executing Pipeline:   0%|                                                                  | 0/1 [00:00<?, ? Samples/s]"
     ]
    },
    {
     "name": "stdout",
     "output_type": "stream",
     "text": [
      "Initialised with 1 image(s) found.\n",
      "Output directory set to C:/Users/User/Desktop/Test/GeneratedData/TempFolderRename/."
     ]
    },
    {
     "name": "stderr",
     "output_type": "stream",
     "text": [
      "Processing <PIL.Image.Image image mode=RGB size=700x700 at 0x28A2587BB00>: 100%|███| 1/1 [00:00<00:00,  3.93 Samples/s]\n",
      "Executing Pipeline:   0%|                                                                  | 0/1 [00:00<?, ? Samples/s]"
     ]
    },
    {
     "name": "stdout",
     "output_type": "stream",
     "text": [
      "Initialised with 1 image(s) found.\n",
      "Output directory set to C:/Users/User/Desktop/Test/GeneratedData/TempFolderRename/."
     ]
    },
    {
     "name": "stderr",
     "output_type": "stream",
     "text": [
      "Processing <PIL.Image.Image image mode=RGB size=700x700 at 0x28A2587B748>: 100%|███| 1/1 [00:00<00:00,  4.41 Samples/s]\n",
      "Processing <PIL.Image.Image image mode=RGB size=700x700 at 0x28A2587BDA0>: 100%|███| 1/1 [00:00<00:00,  8.01 Samples/s]\n",
      "Executing Pipeline:   0%|                                                                  | 0/1 [00:00<?, ? Samples/s]"
     ]
    },
    {
     "name": "stdout",
     "output_type": "stream",
     "text": [
      "Initialised with 1 image(s) found.\n",
      "Output directory set to C:/Users/User/Desktop/Test/GeneratedData/TempFolderRename/.Initialised with 1 image(s) found.\n",
      "Output directory set to C:/Users/User/Desktop/Test/GeneratedData/TempFolderRename/."
     ]
    },
    {
     "name": "stderr",
     "output_type": "stream",
     "text": [
      "Processing <PIL.Image.Image image mode=RGB size=700x700 at 0x28A2587BEB8>: 100%|███| 1/1 [00:00<00:00,  6.81 Samples/s]\n",
      "Executing Pipeline:   0%|                                                                  | 0/1 [00:00<?, ? Samples/s]"
     ]
    },
    {
     "name": "stdout",
     "output_type": "stream",
     "text": [
      "Initialised with 1 image(s) found.\n",
      "Output directory set to C:/Users/User/Desktop/Test/GeneratedData/TempFolderRename/."
     ]
    },
    {
     "name": "stderr",
     "output_type": "stream",
     "text": [
      "Processing <PIL.Image.Image image mode=RGB size=700x700 at 0x28A2587BFD0>: 100%|███| 1/1 [00:00<00:00,  4.59 Samples/s]\n",
      "Processing <PIL.Image.Image image mode=RGB size=700x700 at 0x28A2587D0B8>: 100%|███| 1/1 [00:00<00:00,  5.03 Samples/s]"
     ]
    },
    {
     "name": "stdout",
     "output_type": "stream",
     "text": [
      "Initialised with 1 image(s) found.\n",
      "Output directory set to C:/Users/User/Desktop/Test/GeneratedData/TempFolderRename/."
     ]
    },
    {
     "name": "stderr",
     "output_type": "stream",
     "text": [
      "\n",
      "\r",
      "Executing Pipeline:   0%|                                                                  | 0/1 [00:00<?, ? Samples/s]"
     ]
    },
    {
     "name": "stdout",
     "output_type": "stream",
     "text": [
      "Initialised with 1 image(s) found.\n",
      "Output directory set to C:/Users/User/Desktop/Test/GeneratedData/TempFolderRename/."
     ]
    },
    {
     "name": "stderr",
     "output_type": "stream",
     "text": [
      "Processing <PIL.Image.Image image mode=RGB size=700x700 at 0x28A2587D208>: 100%|███| 1/1 [00:00<00:00,  4.04 Samples/s]\n",
      "Processing <PIL.Image.Image image mode=RGB size=700x700 at 0x28A2587D358>: 100%|███| 1/1 [00:00<00:00,  6.67 Samples/s]\n",
      "Executing Pipeline:   0%|                                                                  | 0/1 [00:00<?, ? Samples/s]"
     ]
    },
    {
     "name": "stdout",
     "output_type": "stream",
     "text": [
      "Initialised with 1 image(s) found.\n",
      "Output directory set to C:/Users/User/Desktop/Test/GeneratedData/TempFolderRename/.Initialised with 1 image(s) found.\n",
      "Output directory set to C:/Users/User/Desktop/Test/GeneratedData/TempFolderRename/."
     ]
    },
    {
     "name": "stderr",
     "output_type": "stream",
     "text": [
      "Processing <PIL.Image.Image image mode=RGB size=700x700 at 0x28A2587D470>: 100%|███| 1/1 [00:00<00:00,  7.70 Samples/s]\n",
      "Processing <PIL.Image.Image image mode=RGB size=700x700 at 0x28A2587D400>: 100%|███| 1/1 [00:00<00:00,  5.32 Samples/s]"
     ]
    },
    {
     "name": "stdout",
     "output_type": "stream",
     "text": [
      "Initialised with 1 image(s) found.\n",
      "Output directory set to C:/Users/User/Desktop/Test/GeneratedData/TempFolderRename/."
     ]
    },
    {
     "name": "stderr",
     "output_type": "stream",
     "text": [
      "\n",
      "Processing <PIL.Image.Image image mode=RGB size=700x700 at 0x28A2587D6A0>: 100%|███| 1/1 [00:00<00:00,  8.21 Samples/s]\n",
      "Executing Pipeline:   0%|                                                                  | 0/1 [00:00<?, ? Samples/s]"
     ]
    },
    {
     "name": "stdout",
     "output_type": "stream",
     "text": [
      "Initialised with 1 image(s) found.\n",
      "Output directory set to C:/Users/User/Desktop/Test/GeneratedData/TempFolderRename/.Initialised with 1 image(s) found.\n",
      "Output directory set to C:/Users/User/Desktop/Test/GeneratedData/TempFolderRename/."
     ]
    },
    {
     "name": "stderr",
     "output_type": "stream",
     "text": [
      "Processing <PIL.Image.Image image mode=RGB size=700x700 at 0x28A2587D748>: 100%|███| 1/1 [00:00<00:00,  5.53 Samples/s]\n",
      "Processing <PIL.Image.Image image mode=RGB size=700x700 at 0x28A2587D550>: 100%|███| 1/1 [00:00<00:00,  5.62 Samples/s]\n",
      "Executing Pipeline:   0%|                                                                  | 0/1 [00:00<?, ? Samples/s]"
     ]
    },
    {
     "name": "stdout",
     "output_type": "stream",
     "text": [
      "Initialised with 1 image(s) found.\n",
      "Output directory set to C:/Users/User/Desktop/Test/GeneratedData/TempFolderRename/.Initialised with 1 image(s) found.\n",
      "Output directory set to C:/Users/User/Desktop/Test/GeneratedData/TempFolderRename/."
     ]
    },
    {
     "name": "stderr",
     "output_type": "stream",
     "text": [
      "Processing <PIL.Image.Image image mode=RGB size=700x700 at 0x28A2587D9E8>: 100%|███| 1/1 [00:00<00:00,  7.15 Samples/s]\n",
      "Executing Pipeline:   0%|                                                                  | 0/1 [00:00<?, ? Samples/s]"
     ]
    },
    {
     "name": "stdout",
     "output_type": "stream",
     "text": [
      "Initialised with 1 image(s) found.\n",
      "Output directory set to C:/Users/User/Desktop/Test/GeneratedData/TempFolderRename/."
     ]
    },
    {
     "name": "stderr",
     "output_type": "stream",
     "text": [
      "Processing <PIL.Image.Image image mode=RGB size=700x700 at 0x28A2587DB00>: 100%|███| 1/1 [00:00<00:00,  4.68 Samples/s]\n",
      "Processing <PIL.Image.Image image mode=RGB size=700x700 at 0x28A2587DBA8>: 100%|███| 1/1 [00:00<00:00,  5.62 Samples/s]\n",
      "Executing Pipeline:   0%|                                                                  | 0/1 [00:00<?, ? Samples/s]"
     ]
    },
    {
     "name": "stdout",
     "output_type": "stream",
     "text": [
      "Initialised with 1 image(s) found.\n",
      "Output directory set to C:/Users/User/Desktop/Test/GeneratedData/TempFolderRename/.Initialised with 1 image(s) found.\n",
      "Output directory set to C:/Users/User/Desktop/Test/GeneratedData/TempFolderRename/."
     ]
    },
    {
     "name": "stderr",
     "output_type": "stream",
     "text": [
      "Processing <PIL.Image.Image image mode=RGB size=700x700 at 0x28A2587DD30>: 100%|███| 1/1 [00:00<00:00,  7.58 Samples/s]\n",
      "Executing Pipeline:   0%|                                                                  | 0/1 [00:00<?, ? Samples/s]"
     ]
    },
    {
     "name": "stdout",
     "output_type": "stream",
     "text": [
      "Initialised with 1 image(s) found.\n",
      "Output directory set to C:/Users/User/Desktop/Test/GeneratedData/TempFolderRename/."
     ]
    },
    {
     "name": "stderr",
     "output_type": "stream",
     "text": [
      "Processing <PIL.Image.Image image mode=RGB size=700x700 at 0x28A2587DDD8>: 100%|███| 1/1 [00:00<00:00,  4.37 Samples/s]\n",
      "Processing <PIL.Image.Image image mode=RGB size=700x700 at 0x28A2587DF60>: 100%|███| 1/1 [00:00<00:00,  6.76 Samples/s]\n",
      "Executing Pipeline:   0%|                                                                  | 0/1 [00:00<?, ? Samples/s]"
     ]
    },
    {
     "name": "stdout",
     "output_type": "stream",
     "text": [
      "Initialised with 1 image(s) found.\n",
      "Output directory set to C:/Users/User/Desktop/Test/GeneratedData/TempFolderRename/.Initialised with 1 image(s) found.\n",
      "Output directory set to C:/Users/User/Desktop/Test/GeneratedData/TempFolderRename/."
     ]
    },
    {
     "name": "stderr",
     "output_type": "stream",
     "text": [
      "Processing <PIL.Image.Image image mode=RGB size=700x700 at 0x28A2588A0B8>: 100%|███| 1/1 [00:00<00:00,  7.76 Samples/s]\n"
     ]
    }
   ],
   "source": [
    "if __name__ == \"__main__\":\n",
    "    obj = GenerateCharacter('C:/Users/User/Desktop/Test', ['0-2','A-D','-','/'], ['C:/Windows/Fonts/arial.ttf'], 100, 150)  # ['C:/Windows/Fonts/MTCORSVA.TTF','C:/Windows/Fonts/Arial/arial.ttf', 'C:/Windows/Fonts/DotsAllForNow.ttf']\n",
    "    obj1 = Augmentation(obj._initalImages_path, obj._distortedImages_path, obj._tempFolderDistortion_path, obj._tempFolderRename_path, obj._path, 'BMP',10)\n",
    "    obj1.generate_distorted_images()\n",
    "#     obj2 = Augmentation(obj._initalImages_path, 'Juhu', obj._tempFolderDistortion_path, obj._tempFolderRename_path, obj._path, 'BMP', 5)\n",
    "#     obj2.generate_distorted_images()    \n",
    "#     obj2 = OwnDistortion(obj._distortedImages_path, 'Juhu', obj._tempFolderDistortion_path, obj._tempFolderRename_path, obj._path, 'BMP', 5)\n",
    "#     obj2.generate_distorted_images()\n",
    "    obj2 = Tailor(obj1._distortedImages_path, obj._tailoredImages_path, 127)\n",
    "    obj2.tailor()\n",
    "#     obj4 = OwnDistortion(obj3._tailoredImages_path, 'Juhu123', obj._tempFolderDistortion_path, obj._tempFolderRename_path, obj._path, 'BMP', 5)\n",
    "#     obj4.generate_distorted_images() \n",
    "    obj3 = Place(obj._tailoredImages_path, obj._xml_Files_path, obj._segmentedImages_path, 512, 3, 0.05)\n",
    "#     obj3.resize('A-F','1/2',80,120,40,60)\n",
    "#     obj3.resize('0-9','1/2',80,81,40,41)\n",
    "    obj3.rdm()\n",
    "    obj4 = GenerateBackgroundImages('C:/Users/User/Desktop/Test/PossibleBackgrounds/test_background_images',obj._backgroundImages_path,512,'bmp')\n",
    "    obj4.add_noise()"
   ]
  },
  {
   "cell_type": "code",
   "execution_count": null,
   "metadata": {},
   "outputs": [],
   "source": []
  },
  {
   "cell_type": "code",
   "execution_count": null,
   "metadata": {},
   "outputs": [],
   "source": []
  },
  {
   "cell_type": "code",
   "execution_count": null,
   "metadata": {},
   "outputs": [],
   "source": []
  }
 ],
 "metadata": {
  "kernelspec": {
   "display_name": "Python 3",
   "language": "python",
   "name": "python3"
  },
  "language_info": {
   "codemirror_mode": {
    "name": "ipython",
    "version": 3
   },
   "file_extension": ".py",
   "mimetype": "text/x-python",
   "name": "python",
   "nbconvert_exporter": "python",
   "pygments_lexer": "ipython3",
   "version": "3.6.4"
  }
 },
 "nbformat": 4,
 "nbformat_minor": 2
}
