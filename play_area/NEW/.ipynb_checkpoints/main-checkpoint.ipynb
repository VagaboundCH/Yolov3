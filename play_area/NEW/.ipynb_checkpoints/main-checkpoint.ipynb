{
 "cells": [
  {
   "cell_type": "code",
   "execution_count": 1,
   "metadata": {},
   "outputs": [
    {
     "name": "stdout",
     "output_type": "stream",
     "text": [
      "importing Jupyter notebook from generateFolderStructur.ipynb\n",
      "importing Jupyter notebook from generateCharacter.ipynb\n",
      "importing Jupyter notebook from generatefolderStructur.ipynb\n",
      "importing Jupyter notebook from augmentation.ipynb\n",
      "importing Jupyter notebook from tailor.ipynb\n",
      "importing Jupyter notebook from place.ipynb\n",
      "importing Jupyter notebook from generateBackgroundImages.ipynb\n"
     ]
    }
   ],
   "source": [
    "import import_ipynb \n",
    "import os\n",
    "from generateFolderStructur import GenerateFolderStructur\n",
    "from generateCharacter import GenerateCharacter\n",
    "from augmentation import Augmentation\n",
    "import Augmentor as Aug\n",
    "from tailor import Tailor\n",
    "from place import Place\n",
    "from generateBackgroundImages import GenerateBackgroundImages\n",
    "import numpy as np"
   ]
  },
  {
   "cell_type": "code",
   "execution_count": 2,
   "metadata": {},
   "outputs": [],
   "source": [
    "## Eigene Distortion function ###\n",
    "## Es muss Augmentation durch OwnDistortion ersetzt werden ###\n",
    "class OwnDistortion(Augmentation):\n",
    "    \n",
    "    def __init__(self, initalImages, distortedImages, tmp_distortion, tmp_rename,  root_path, save_format, number_images):\n",
    "        \n",
    "        Augmentation.__init__(self, initalImages, distortedImages, tmp_distortion, tmp_rename, root_path, save_format, number_images)\n",
    "            \n",
    "    def distortion(self, input_path, output_path, save_format):   \n",
    "            p = Aug.Pipeline(input_path, output_path, save_format)\n",
    "            \n",
    "            # Write here your distortion function \n",
    "            ###########################################\n",
    "            \n",
    "            rd_grid_with = np.random.randint(2,10) # rdgw 2-10\n",
    "            rd_grid_hight = np.random.randint(2,10) # rdgh 2-10\n",
    "            rd_magnitude = np.random.randint(10,20) # 1-10\n",
    "            p.random_distortion(probability=1, grid_width=rd_grid_with, grid_height=rd_grid_hight, magnitude=rd_magnitude)\n",
    "            \n",
    "            \n",
    "            \n",
    "            ############################################\n",
    "            # End of your distortion function\n",
    "            \n",
    "            p.sample(1)  "
   ]
  },
  {
   "cell_type": "code",
   "execution_count": 3,
   "metadata": {},
   "outputs": [],
   "source": [
    "# path, dirs, files = next(os.walk('C:/Users/User/Desktop/Test/Fonts/FirstTest'))\n",
    "# for i in range(len(files)):\n",
    "#     files[i] = 'C:/Users/User/Desktop/Test/Fonts/FirstTest/' + files[i]        "
   ]
  },
  {
   "cell_type": "code",
   "execution_count": 4,
   "metadata": {},
   "outputs": [
    {
     "name": "stderr",
     "output_type": "stream",
     "text": [
      "Processing <PIL.Image.Image image mode=RGB size=700x700 at 0x2B74527AEB8>: 100%|███| 1/1 [00:00<00:00,  7.53 Samples/s]\n",
      "Executing Pipeline:   0%|                                                                  | 0/1 [00:00<?, ? Samples/s]"
     ]
    },
    {
     "name": "stdout",
     "output_type": "stream",
     "text": [
      "Initialised with 1 image(s) found.\n",
      "Output directory set to C:/Users/User/Desktop/Test/GeneratedData/TempFolderRename/.Initialised with 1 image(s) found.\n",
      "Output directory set to C:/Users/User/Desktop/Test/GeneratedData/TempFolderRename/."
     ]
    },
    {
     "name": "stderr",
     "output_type": "stream",
     "text": [
      "Processing <PIL.Image.Image image mode=RGB size=700x700 at 0x2B745293048>: 100%|███| 1/1 [00:00<00:00,  4.72 Samples/s]\n",
      "Executing Pipeline:   0%|                                                                  | 0/1 [00:00<?, ? Samples/s]"
     ]
    },
    {
     "name": "stdout",
     "output_type": "stream",
     "text": [
      "Initialised with 1 image(s) found.\n",
      "Output directory set to C:/Users/User/Desktop/Test/GeneratedData/TempFolderRename/."
     ]
    },
    {
     "name": "stderr",
     "output_type": "stream",
     "text": [
      "Processing <PIL.Image.Image image mode=RGB size=700x700 at 0x2B745288160>: 100%|███| 1/1 [00:00<00:00,  4.07 Samples/s]\n",
      "Executing Pipeline:   0%|                                                                  | 0/1 [00:00<?, ? Samples/s]"
     ]
    },
    {
     "name": "stdout",
     "output_type": "stream",
     "text": [
      "Initialised with 1 image(s) found.\n",
      "Output directory set to C:/Users/User/Desktop/Test/GeneratedData/TempFolderRename/."
     ]
    },
    {
     "name": "stderr",
     "output_type": "stream",
     "text": [
      "Processing <PIL.Image.Image image mode=RGB size=700x700 at 0x2B745288240>: 100%|███| 1/1 [00:00<00:00,  4.17 Samples/s]\n",
      "Processing <PIL.Image.Image image mode=RGB size=700x700 at 0x2B745288390>: 100%|███| 1/1 [00:00<00:00,  7.82 Samples/s]\n",
      "Executing Pipeline:   0%|                                                                  | 0/1 [00:00<?, ? Samples/s]"
     ]
    },
    {
     "name": "stdout",
     "output_type": "stream",
     "text": [
      "Initialised with 1 image(s) found.\n",
      "Output directory set to C:/Users/User/Desktop/Test/GeneratedData/TempFolderRename/.Initialised with 1 image(s) found.\n",
      "Output directory set to C:/Users/User/Desktop/Test/GeneratedData/TempFolderRename/."
     ]
    },
    {
     "name": "stderr",
     "output_type": "stream",
     "text": [
      "Processing <PIL.Image.Image image mode=RGB size=700x700 at 0x2B7452884A8>: 100%|███| 1/1 [00:00<00:00,  2.03 Samples/s]\n",
      "Processing <PIL.Image.Image image mode=RGB size=700x700 at 0x2B745288438>: 100%|███| 1/1 [00:00<00:00,  7.41 Samples/s]\n",
      "Executing Pipeline:   0%|                                                                  | 0/1 [00:00<?, ? Samples/s]"
     ]
    },
    {
     "name": "stdout",
     "output_type": "stream",
     "text": [
      "Initialised with 1 image(s) found.\n",
      "Output directory set to C:/Users/User/Desktop/Test/GeneratedData/TempFolderRename/.Initialised with 1 image(s) found.\n",
      "Output directory set to C:/Users/User/Desktop/Test/GeneratedData/TempFolderRename/."
     ]
    },
    {
     "name": "stderr",
     "output_type": "stream",
     "text": [
      "Processing <PIL.Image.Image image mode=RGB size=700x700 at 0x2B7452886D8>: 100%|███| 1/1 [00:00<00:00,  7.47 Samples/s]\n",
      "Processing <PIL.Image.Image image mode=RGB size=700x700 at 0x2B745288588>: 100%|███| 1/1 [00:00<00:00,  7.53 Samples/s]\n",
      "Executing Pipeline:   0%|                                                                  | 0/1 [00:00<?, ? Samples/s]"
     ]
    },
    {
     "name": "stdout",
     "output_type": "stream",
     "text": [
      "Initialised with 1 image(s) found.\n",
      "Output directory set to C:/Users/User/Desktop/Test/GeneratedData/TempFolderRename/.Initialised with 1 image(s) found.\n",
      "Output directory set to C:/Users/User/Desktop/Test/GeneratedData/TempFolderRename/."
     ]
    },
    {
     "name": "stderr",
     "output_type": "stream",
     "text": [
      "Processing <PIL.Image.Image image mode=RGB size=700x700 at 0x2B745288908>: 100%|███| 1/1 [00:00<00:00,  7.88 Samples/s]\n",
      "Processing <PIL.Image.Image image mode=RGB size=700x700 at 0x2B745288898>: 100%|███| 1/1 [00:00<00:00,  5.24 Samples/s]"
     ]
    },
    {
     "name": "stdout",
     "output_type": "stream",
     "text": [
      "Initialised with 1 image(s) found.\n",
      "Output directory set to C:/Users/User/Desktop/Test/GeneratedData/TempFolderRename/."
     ]
    },
    {
     "name": "stderr",
     "output_type": "stream",
     "text": [
      "\n",
      "\r",
      "Executing Pipeline:   0%|                                                                  | 0/1 [00:00<?, ? Samples/s]"
     ]
    },
    {
     "name": "stdout",
     "output_type": "stream",
     "text": [
      "Initialised with 1 image(s) found.\n",
      "Output directory set to C:/Users/User/Desktop/Test/GeneratedData/TempFolderRename/."
     ]
    },
    {
     "name": "stderr",
     "output_type": "stream",
     "text": [
      "Processing <PIL.Image.Image image mode=RGB size=700x700 at 0x2B745288AC8>: 100%|███| 1/1 [00:00<00:00,  3.74 Samples/s]\n",
      "Processing <PIL.Image.Image image mode=RGB size=700x700 at 0x2B745288BE0>: 100%|███| 1/1 [00:00<00:00,  5.82 Samples/s]\n",
      "Executing Pipeline:   0%|                                                                  | 0/1 [00:00<?, ? Samples/s]"
     ]
    },
    {
     "name": "stdout",
     "output_type": "stream",
     "text": [
      "Initialised with 1 image(s) found.\n",
      "Output directory set to C:/Users/User/Desktop/Test/GeneratedData/TempFolderRename/.Initialised with 1 image(s) found.\n",
      "Output directory set to C:/Users/User/Desktop/Test/GeneratedData/TempFolderRename/."
     ]
    },
    {
     "name": "stderr",
     "output_type": "stream",
     "text": [
      "Processing <PIL.Image.Image image mode=RGB size=700x700 at 0x2B745288CF8>: 100%|███| 1/1 [00:00<00:00,  4.96 Samples/s]\n",
      "Processing <PIL.Image.Image image mode=RGB size=700x700 at 0x2B745288E80>: 100%|███| 1/1 [00:00<00:00,  7.20 Samples/s]\n",
      "Executing Pipeline:   0%|                                                                  | 0/1 [00:00<?, ? Samples/s]"
     ]
    },
    {
     "name": "stdout",
     "output_type": "stream",
     "text": [
      "Initialised with 1 image(s) found.\n",
      "Output directory set to C:/Users/User/Desktop/Test/GeneratedData/TempFolderRename/.Initialised with 1 image(s) found.\n",
      "Output directory set to C:/Users/User/Desktop/Test/GeneratedData/TempFolderRename/."
     ]
    },
    {
     "name": "stderr",
     "output_type": "stream",
     "text": [
      "Processing <PIL.Image.Image image mode=RGB size=700x700 at 0x2B745288F98>: 100%|███| 1/1 [00:00<00:00,  6.07 Samples/s]\n",
      "Executing Pipeline:   0%|                                                                  | 0/1 [00:00<?, ? Samples/s]"
     ]
    },
    {
     "name": "stdout",
     "output_type": "stream",
     "text": [
      "Initialised with 1 image(s) found.\n",
      "Output directory set to C:/Users/User/Desktop/Test/GeneratedData/TempFolderRename/."
     ]
    },
    {
     "name": "stderr",
     "output_type": "stream",
     "text": [
      "Processing <PIL.Image.Image image mode=RGB size=700x700 at 0x2B7452950F0>: 100%|███| 1/1 [00:00<00:00,  4.49 Samples/s]\n",
      "Processing <PIL.Image.Image image mode=RGB size=700x700 at 0x2B7452951D0>: 100%|███| 1/1 [00:00<00:00,  5.03 Samples/s]"
     ]
    },
    {
     "name": "stdout",
     "output_type": "stream",
     "text": [
      "Initialised with 1 image(s) found.\n",
      "Output directory set to C:/Users/User/Desktop/Test/GeneratedData/TempFolderRename/."
     ]
    },
    {
     "name": "stderr",
     "output_type": "stream",
     "text": [
      "Processing <PIL.Image.Image image mode=RGB size=700x700 at 0x2B7452951D0>: 100%|███| 1/1 [00:00<00:00,  5.01 Samples/s]\n",
      "Executing Pipeline:   0%|                                                                  | 0/1 [00:00<?, ? Samples/s]"
     ]
    },
    {
     "name": "stdout",
     "output_type": "stream",
     "text": [
      "Initialised with 1 image(s) found.\n",
      "Output directory set to C:/Users/User/Desktop/Test/GeneratedData/TempFolderRename/."
     ]
    },
    {
     "name": "stderr",
     "output_type": "stream",
     "text": [
      "Processing <PIL.Image.Image image mode=RGB size=700x700 at 0x2B745295358>: 100%|███| 1/1 [00:00<00:00,  4.79 Samples/s]\n",
      "Processing <PIL.Image.Image image mode=RGB size=700x700 at 0x2B745295470>: 100%|███| 1/1 [00:00<00:00,  8.27 Samples/s]\n",
      "Executing Pipeline:   0%|                                                                  | 0/1 [00:00<?, ? Samples/s]"
     ]
    },
    {
     "name": "stdout",
     "output_type": "stream",
     "text": [
      "Initialised with 1 image(s) found.\n",
      "Output directory set to C:/Users/User/Desktop/Test/GeneratedData/TempFolderRename/.Initialised with 1 image(s) found.\n",
      "Output directory set to C:/Users/User/Desktop/Test/GeneratedData/TempFolderRename/."
     ]
    },
    {
     "name": "stderr",
     "output_type": "stream",
     "text": [
      "Processing <PIL.Image.Image image mode=RGB size=700x700 at 0x2B745295400>: 100%|███| 1/1 [00:00<00:00,  9.18 Samples/s]\n",
      "Processing <PIL.Image.Image image mode=RGB size=700x700 at 0x2B7452956A0>: 100%|███| 1/1 [00:00<00:00,  7.47 Samples/s]\n",
      "Executing Pipeline:   0%|                                                                  | 0/1 [00:00<?, ? Samples/s]"
     ]
    },
    {
     "name": "stdout",
     "output_type": "stream",
     "text": [
      "Initialised with 1 image(s) found.\n",
      "Output directory set to C:/Users/User/Desktop/Test/GeneratedData/TempFolderRename/.Initialised with 1 image(s) found.\n",
      "Output directory set to C:/Users/User/Desktop/Test/GeneratedData/TempFolderRename/."
     ]
    },
    {
     "name": "stderr",
     "output_type": "stream",
     "text": [
      "Processing <PIL.Image.Image image mode=RGB size=700x700 at 0x2B745295748>: 100%|███| 1/1 [00:00<00:00,  5.53 Samples/s]\n",
      "Processing <PIL.Image.Image image mode=RGB size=700x700 at 0x2B745295518>: 100%|███| 1/1 [00:00<00:00,  5.69 Samples/s]\n"
     ]
    },
    {
     "name": "stdout",
     "output_type": "stream",
     "text": [
      "Initialised with 1 image(s) found.\n",
      "Output directory set to C:/Users/User/Desktop/Test/GeneratedData/TempFolderRename/."
     ]
    },
    {
     "name": "stderr",
     "output_type": "stream",
     "text": [
      "Processing <PIL.Image.Image image mode=RGB size=700x700 at 0x2B745295908>: 100%|███| 1/1 [00:00<00:00,  8.86 Samples/s]\n",
      "Executing Pipeline:   0%|                                                                  | 0/1 [00:00<?, ? Samples/s]"
     ]
    },
    {
     "name": "stdout",
     "output_type": "stream",
     "text": [
      "Initialised with 1 image(s) found.\n",
      "Output directory set to C:/Users/User/Desktop/Test/GeneratedData/TempFolderRename/.Initialised with 1 image(s) found.\n",
      "Output directory set to C:/Users/User/Desktop/Test/GeneratedData/TempFolderRename/."
     ]
    },
    {
     "name": "stderr",
     "output_type": "stream",
     "text": [
      "Processing <PIL.Image.Image image mode=RGB size=700x700 at 0x2B745295B38>: 100%|███| 1/1 [00:00<00:00,  2.76 Samples/s]\n",
      "Executing Pipeline:   0%|                                                                  | 0/1 [00:00<?, ? Samples/s]"
     ]
    },
    {
     "name": "stdout",
     "output_type": "stream",
     "text": [
      "Initialised with 1 image(s) found.\n",
      "Output directory set to C:/Users/User/Desktop/Test/GeneratedData/TempFolderRename/."
     ]
    },
    {
     "name": "stderr",
     "output_type": "stream",
     "text": [
      "Processing <PIL.Image.Image image mode=RGB size=700x700 at 0x2B745295BE0>: 100%|███| 1/1 [00:00<00:00,  1.94 Samples/s]\n",
      "Processing <PIL.Image.Image image mode=RGB size=700x700 at 0x2B745295CF8>: 100%|███| 1/1 [00:00<00:00,  8.34 Samples/s]\n",
      "Executing Pipeline:   0%|                                                                  | 0/1 [00:00<?, ? Samples/s]"
     ]
    },
    {
     "name": "stdout",
     "output_type": "stream",
     "text": [
      "Initialised with 1 image(s) found.\n",
      "Output directory set to C:/Users/User/Desktop/Test/GeneratedData/TempFolderRename/.Initialised with 1 image(s) found.\n",
      "Output directory set to C:/Users/User/Desktop/Test/GeneratedData/TempFolderRename/."
     ]
    },
    {
     "name": "stderr",
     "output_type": "stream",
     "text": [
      "Processing <PIL.Image.Image image mode=RGB size=700x700 at 0x2B745295E10>: 100%|███| 1/1 [00:00<00:00,  8.34 Samples/s]\n",
      "Processing <PIL.Image.Image image mode=RGB size=700x700 at 0x2B745295EB8>: 100%|███| 1/1 [00:00<00:00,  7.31 Samples/s]\n",
      "Executing Pipeline:   0%|                                                                  | 0/1 [00:00<?, ? Samples/s]"
     ]
    },
    {
     "name": "stdout",
     "output_type": "stream",
     "text": [
      "Initialised with 1 image(s) found.\n",
      "Output directory set to C:/Users/User/Desktop/Test/GeneratedData/TempFolderRename/.Initialised with 1 image(s) found.\n",
      "Output directory set to C:/Users/User/Desktop/Test/GeneratedData/TempFolderRename/."
     ]
    },
    {
     "name": "stderr",
     "output_type": "stream",
     "text": [
      "Processing <PIL.Image.Image image mode=RGB size=700x700 at 0x2B745377080>: 100%|███| 1/1 [00:00<00:00,  5.47 Samples/s]\n",
      "Processing <PIL.Image.Image image mode=RGB size=700x700 at 0x2B745377198>: 100%|███| 1/1 [00:00<00:00,  6.07 Samples/s]\n",
      "Executing Pipeline:   0%|                                                                  | 0/1 [00:00<?, ? Samples/s]"
     ]
    },
    {
     "name": "stdout",
     "output_type": "stream",
     "text": [
      "Initialised with 1 image(s) found.\n",
      "Output directory set to C:/Users/User/Desktop/Test/GeneratedData/TempFolderRename/.Initialised with 1 image(s) found.\n",
      "Output directory set to C:/Users/User/Desktop/Test/GeneratedData/TempFolderRename/."
     ]
    },
    {
     "name": "stderr",
     "output_type": "stream",
     "text": [
      "Processing <PIL.Image.Image image mode=RGB size=700x700 at 0x2B7453752B0>: 100%|███| 1/1 [00:00<00:00,  4.02 Samples/s]\n",
      "Processing <PIL.Image.Image image mode=RGB size=700x700 at 0x2B745296390>: 100%|███| 1/1 [00:00<00:00,  7.94 Samples/s]\n",
      "Executing Pipeline:   0%|                                                                  | 0/1 [00:00<?, ? Samples/s]"
     ]
    },
    {
     "name": "stdout",
     "output_type": "stream",
     "text": [
      "Initialised with 1 image(s) found.\n",
      "Output directory set to C:/Users/User/Desktop/Test/GeneratedData/TempFolderRename/.Initialised with 1 image(s) found.\n",
      "Output directory set to C:/Users/User/Desktop/Test/GeneratedData/TempFolderRename/."
     ]
    },
    {
     "name": "stderr",
     "output_type": "stream",
     "text": [
      "Processing <PIL.Image.Image image mode=RGB size=700x700 at 0x2B7452964A8>: 100%|███| 1/1 [00:00<00:00,  6.63 Samples/s]\n",
      "Processing <PIL.Image.Image image mode=RGB size=700x700 at 0x2B745296400>: 100%|███| 1/1 [00:00<00:00,  7.05 Samples/s]\n",
      "Executing Pipeline:   0%|                                                                  | 0/1 [00:00<?, ? Samples/s]"
     ]
    },
    {
     "name": "stdout",
     "output_type": "stream",
     "text": [
      "Initialised with 1 image(s) found.\n",
      "Output directory set to C:/Users/User/Desktop/Test/GeneratedData/TempFolderRename/.Initialised with 1 image(s) found.\n",
      "Output directory set to C:/Users/User/Desktop/Test/GeneratedData/TempFolderRename/."
     ]
    },
    {
     "name": "stderr",
     "output_type": "stream",
     "text": [
      "Processing <PIL.Image.Image image mode=RGB size=700x700 at 0x2B7452966D8>: 100%|███| 1/1 [00:00<00:00,  5.82 Samples/s]\n",
      "Processing <PIL.Image.Image image mode=RGB size=700x700 at 0x2B7452965F8>: 100%|███| 1/1 [00:00<00:00,  7.53 Samples/s]\n",
      "Executing Pipeline:   0%|                                                                  | 0/1 [00:00<?, ? Samples/s]"
     ]
    },
    {
     "name": "stdout",
     "output_type": "stream",
     "text": [
      "Initialised with 1 image(s) found.\n",
      "Output directory set to C:/Users/User/Desktop/Test/GeneratedData/TempFolderRename/.Initialised with 1 image(s) found.\n",
      "Output directory set to C:/Users/User/Desktop/Test/GeneratedData/TempFolderRename/."
     ]
    },
    {
     "name": "stderr",
     "output_type": "stream",
     "text": [
      "Processing <PIL.Image.Image image mode=RGB size=700x700 at 0x2B745296898>: 100%|███| 1/1 [00:00<00:00,  4.47 Samples/s]\n",
      "Processing <PIL.Image.Image image mode=RGB size=700x700 at 0x2B745296208>: 100%|███| 1/1 [00:00<00:00,  5.30 Samples/s]"
     ]
    },
    {
     "name": "stdout",
     "output_type": "stream",
     "text": [
      "Initialised with 1 image(s) found.\n",
      "Output directory set to C:/Users/User/Desktop/Test/GeneratedData/TempFolderRename/."
     ]
    },
    {
     "name": "stderr",
     "output_type": "stream",
     "text": [
      "\n",
      "Processing <PIL.Image.Image image mode=RGB size=700x700 at 0x2B745296AC8>: 100%|███| 1/1 [00:00<00:00,  5.24 Samples/s]"
     ]
    },
    {
     "name": "stdout",
     "output_type": "stream",
     "text": [
      "Initialised with 1 image(s) found.\n",
      "Output directory set to C:/Users/User/Desktop/Test/GeneratedData/TempFolderRename/."
     ]
    },
    {
     "name": "stderr",
     "output_type": "stream",
     "text": [
      "\n",
      "Processing <PIL.Image.Image image mode=RGB size=700x700 at 0x2B745296BE0>: 100%|███| 1/1 [00:00<00:00,  5.50 Samples/s]\n",
      "Executing Pipeline:   0%|                                                                  | 0/1 [00:00<?, ? Samples/s]"
     ]
    },
    {
     "name": "stdout",
     "output_type": "stream",
     "text": [
      "Initialised with 1 image(s) found.\n",
      "Output directory set to C:/Users/User/Desktop/Test/GeneratedData/TempFolderRename/.Initialised with 1 image(s) found.\n",
      "Output directory set to C:/Users/User/Desktop/Test/GeneratedData/TempFolderRename/."
     ]
    },
    {
     "name": "stderr",
     "output_type": "stream",
     "text": [
      "Processing <PIL.Image.Image image mode=RGB size=700x700 at 0x2B745296D68>: 100%|███| 1/1 [00:00<00:00,  8.14 Samples/s]\n",
      "Processing <PIL.Image.Image image mode=RGB size=700x700 at 0x2B745296E80>: 100%|███| 1/1 [00:00<00:00,  8.41 Samples/s]\n",
      "Executing Pipeline:   0%|                                                                  | 0/1 [00:00<?, ? Samples/s]"
     ]
    },
    {
     "name": "stdout",
     "output_type": "stream",
     "text": [
      "Initialised with 1 image(s) found.\n",
      "Output directory set to C:/Users/User/Desktop/Test/GeneratedData/TempFolderRename/.Initialised with 1 image(s) found.\n",
      "Output directory set to C:/Users/User/Desktop/Test/GeneratedData/TempFolderRename/."
     ]
    },
    {
     "name": "stderr",
     "output_type": "stream",
     "text": [
      "Processing <PIL.Image.Image image mode=RGB size=700x700 at 0x2B745296F28>: 100%|███| 1/1 [00:00<00:00,  5.27 Samples/s]\n",
      "Processing <PIL.Image.Image image mode=RGB size=700x700 at 0x2B74537F0F0>: 100%|███| 1/1 [00:00<00:00,  7.82 Samples/s]\n",
      "Executing Pipeline:   0%|                                                                  | 0/1 [00:00<?, ? Samples/s]"
     ]
    },
    {
     "name": "stdout",
     "output_type": "stream",
     "text": [
      "Initialised with 1 image(s) found.\n",
      "Output directory set to C:/Users/User/Desktop/Test/GeneratedData/TempFolderRename/.Initialised with 1 image(s) found.\n",
      "Output directory set to C:/Users/User/Desktop/Test/GeneratedData/TempFolderRename/."
     ]
    },
    {
     "name": "stderr",
     "output_type": "stream",
     "text": [
      "Processing <PIL.Image.Image image mode=RGB size=700x700 at 0x2B745382198>: 100%|███| 1/1 [00:00<00:00,  4.08 Samples/s]\n",
      "Processing <PIL.Image.Image image mode=RGB size=700x700 at 0x2B745382358>: 100%|███| 1/1 [00:00<00:00,  6.90 Samples/s]\n",
      "Executing Pipeline:   0%|                                                                  | 0/1 [00:00<?, ? Samples/s]"
     ]
    },
    {
     "name": "stdout",
     "output_type": "stream",
     "text": [
      "Initialised with 1 image(s) found.\n",
      "Output directory set to C:/Users/User/Desktop/Test/GeneratedData/TempFolderRename/.Initialised with 1 image(s) found.\n",
      "Output directory set to C:/Users/User/Desktop/Test/GeneratedData/TempFolderRename/."
     ]
    },
    {
     "name": "stderr",
     "output_type": "stream",
     "text": [
      "Processing <PIL.Image.Image image mode=RGB size=700x700 at 0x2B745375438>: 100%|███| 1/1 [00:00<00:00,  6.50 Samples/s]\n",
      "Processing <PIL.Image.Image image mode=RGB size=700x700 at 0x2B745375588>: 100%|███| 1/1 [00:00<00:00,  5.69 Samples/s]\n"
     ]
    },
    {
     "name": "stdout",
     "output_type": "stream",
     "text": [
      "Initialised with 1 image(s) found.\n",
      "Output directory set to C:/Users/User/Desktop/Test/GeneratedData/TempFolderRename/."
     ]
    },
    {
     "name": "stderr",
     "output_type": "stream",
     "text": [
      "\r",
      "Executing Pipeline:   0%|                                                                  | 0/1 [00:00<?, ? Samples/s]"
     ]
    },
    {
     "name": "stdout",
     "output_type": "stream",
     "text": [
      "Initialised with 1 image(s) found.\n",
      "Output directory set to C:/Users/User/Desktop/Test/GeneratedData/TempFolderRename/."
     ]
    },
    {
     "name": "stderr",
     "output_type": "stream",
     "text": [
      "Processing <PIL.Image.Image image mode=RGB size=700x700 at 0x2B7453756A0>: 100%|███| 1/1 [00:00<00:00,  4.96 Samples/s]\n",
      "Processing <PIL.Image.Image image mode=RGB size=700x700 at 0x2B7453750F0>: 100%|███| 1/1 [00:00<00:00,  7.15 Samples/s]\n",
      "Executing Pipeline:   0%|                                                                  | 0/1 [00:00<?, ? Samples/s]"
     ]
    },
    {
     "name": "stdout",
     "output_type": "stream",
     "text": [
      "Initialised with 1 image(s) found.\n",
      "Output directory set to C:/Users/User/Desktop/Test/GeneratedData/TempFolderRename/.Initialised with 1 image(s) found.\n",
      "Output directory set to C:/Users/User/Desktop/Test/GeneratedData/TempFolderRename/."
     ]
    },
    {
     "name": "stderr",
     "output_type": "stream",
     "text": [
      "Processing <PIL.Image.Image image mode=RGB size=700x700 at 0x2B745375860>: 100%|███| 1/1 [00:00<00:00,  6.72 Samples/s]\n",
      "Executing Pipeline:   0%|                                                                  | 0/1 [00:00<?, ? Samples/s]"
     ]
    },
    {
     "name": "stdout",
     "output_type": "stream",
     "text": [
      "Initialised with 1 image(s) found.\n",
      "Output directory set to C:/Users/User/Desktop/Test/GeneratedData/TempFolderRename/."
     ]
    },
    {
     "name": "stderr",
     "output_type": "stream",
     "text": [
      "Processing <PIL.Image.Image image mode=RGB size=700x700 at 0x2B7453757F0>: 100%|███| 1/1 [00:00<00:00,  4.35 Samples/s]\n",
      "Processing <PIL.Image.Image image mode=RGB size=700x700 at 0x2B745375A90>: 100%|███| 1/1 [00:00<00:00,  5.99 Samples/s]\n",
      "Executing Pipeline:   0%|                                                                  | 0/1 [00:00<?, ? Samples/s]"
     ]
    },
    {
     "name": "stdout",
     "output_type": "stream",
     "text": [
      "Initialised with 1 image(s) found.\n",
      "Output directory set to C:/Users/User/Desktop/Test/GeneratedData/TempFolderRename/.Initialised with 1 image(s) found.\n",
      "Output directory set to C:/Users/User/Desktop/Test/GeneratedData/TempFolderRename/."
     ]
    },
    {
     "name": "stderr",
     "output_type": "stream",
     "text": [
      "Processing <PIL.Image.Image image mode=RGB size=700x700 at 0x2B745375BA8>: 100%|███| 1/1 [00:00<00:00,  6.26 Samples/s]\n",
      "Processing <PIL.Image.Image image mode=RGB size=700x700 at 0x2B745375C50>: 100%|███| 1/1 [00:00<00:00,  5.32 Samples/s]"
     ]
    },
    {
     "name": "stdout",
     "output_type": "stream",
     "text": [
      "Initialised with 1 image(s) found.\n",
      "Output directory set to C:/Users/User/Desktop/Test/GeneratedData/TempFolderRename/."
     ]
    },
    {
     "name": "stderr",
     "output_type": "stream",
     "text": [
      "\n",
      "Processing <PIL.Image.Image image mode=RGB size=700x700 at 0x2B745375E10>: 100%|███| 1/1 [00:00<00:00,  6.76 Samples/s]\n",
      "Executing Pipeline:   0%|                                                                  | 0/1 [00:00<?, ? Samples/s]"
     ]
    },
    {
     "name": "stdout",
     "output_type": "stream",
     "text": [
      "Initialised with 1 image(s) found.\n",
      "Output directory set to C:/Users/User/Desktop/Test/GeneratedData/TempFolderRename/.Initialised with 1 image(s) found.\n",
      "Output directory set to C:/Users/User/Desktop/Test/GeneratedData/TempFolderRename/."
     ]
    },
    {
     "name": "stderr",
     "output_type": "stream",
     "text": [
      "Processing <PIL.Image.Image image mode=RGB size=700x700 at 0x2B745375D68>: 100%|███| 1/1 [00:00<00:00,  2.99 Samples/s]\n",
      "Processing <PIL.Image.Image image mode=RGB size=700x700 at 0x2B745375EF0>: 100%|███| 1/1 [00:00<00:00,  5.92 Samples/s]\n",
      "Executing Pipeline:   0%|                                                                  | 0/1 [00:00<?, ? Samples/s]"
     ]
    },
    {
     "name": "stdout",
     "output_type": "stream",
     "text": [
      "Initialised with 1 image(s) found.\n",
      "Output directory set to C:/Users/User/Desktop/Test/GeneratedData/TempFolderRename/.Initialised with 1 image(s) found.\n",
      "Output directory set to C:/Users/User/Desktop/Test/GeneratedData/TempFolderRename/."
     ]
    },
    {
     "name": "stderr",
     "output_type": "stream",
     "text": [
      "Processing <PIL.Image.Image image mode=RGB size=700x700 at 0x2B74537B0F0>: 100%|███| 1/1 [00:00<00:00,  5.50 Samples/s]\n",
      "Processing <PIL.Image.Image image mode=RGB size=700x700 at 0x2B74538F278>: 100%|███| 1/1 [00:00<00:00,  8.21 Samples/s]\n",
      "Executing Pipeline:   0%|                                                                  | 0/1 [00:00<?, ? Samples/s]"
     ]
    },
    {
     "name": "stdout",
     "output_type": "stream",
     "text": [
      "Initialised with 1 image(s) found.\n",
      "Output directory set to C:/Users/User/Desktop/Test/GeneratedData/TempFolderRename/.Initialised with 1 image(s) found.\n",
      "Output directory set to C:/Users/User/Desktop/Test/GeneratedData/TempFolderRename/."
     ]
    },
    {
     "name": "stderr",
     "output_type": "stream",
     "text": [
      "Processing <PIL.Image.Image image mode=RGB size=700x700 at 0x2B74538F320>: 100%|███| 1/1 [00:00<00:00,  5.72 Samples/s]\n",
      "Processing <PIL.Image.Image image mode=RGB size=700x700 at 0x2B7453914A8>: 100%|███| 1/1 [00:00<00:00,  8.34 Samples/s]\n",
      "Executing Pipeline:   0%|                                                                  | 0/1 [00:00<?, ? Samples/s]"
     ]
    },
    {
     "name": "stdout",
     "output_type": "stream",
     "text": [
      "Initialised with 1 image(s) found.\n",
      "Output directory set to C:/Users/User/Desktop/Test/GeneratedData/TempFolderRename/.Initialised with 1 image(s) found.\n",
      "Output directory set to C:/Users/User/Desktop/Test/GeneratedData/TempFolderRename/."
     ]
    },
    {
     "name": "stderr",
     "output_type": "stream",
     "text": [
      "Processing <PIL.Image.Image image mode=RGB size=700x700 at 0x2B745391550>: 100%|███| 1/1 [00:00<00:00,  3.99 Samples/s]\n",
      "Processing <PIL.Image.Image image mode=RGB size=700x700 at 0x2B745391668>: 100%|███| 1/1 [00:00<00:00,  6.22 Samples/s]\n",
      "Executing Pipeline:   0%|                                                                  | 0/1 [00:00<?, ? Samples/s]"
     ]
    },
    {
     "name": "stdout",
     "output_type": "stream",
     "text": [
      "Initialised with 1 image(s) found.\n",
      "Output directory set to C:/Users/User/Desktop/Test/GeneratedData/TempFolderRename/.Initialised with 1 image(s) found.\n",
      "Output directory set to C:/Users/User/Desktop/Test/GeneratedData/TempFolderRename/."
     ]
    },
    {
     "name": "stderr",
     "output_type": "stream",
     "text": [
      "Processing <PIL.Image.Image image mode=RGB size=700x700 at 0x2B745391630>: 100%|███| 1/1 [00:00<00:00,  4.33 Samples/s]\n",
      "Processing <PIL.Image.Image image mode=RGB size=700x700 at 0x2B745391780>: 100%|███| 1/1 [00:00<00:00,  7.25 Samples/s]\n",
      "Executing Pipeline:   0%|                                                                  | 0/1 [00:00<?, ? Samples/s]"
     ]
    },
    {
     "name": "stdout",
     "output_type": "stream",
     "text": [
      "Initialised with 1 image(s) found.\n",
      "Output directory set to C:/Users/User/Desktop/Test/GeneratedData/TempFolderRename/.Initialised with 1 image(s) found.\n",
      "Output directory set to C:/Users/User/Desktop/Test/GeneratedData/TempFolderRename/."
     ]
    },
    {
     "name": "stderr",
     "output_type": "stream",
     "text": [
      "Processing <PIL.Image.Image image mode=RGB size=700x700 at 0x2B745391A20>: 100%|███| 1/1 [00:00<00:00,  6.38 Samples/s]\n",
      "Processing <PIL.Image.Image image mode=RGB size=700x700 at 0x2B745391940>: 100%|███| 1/1 [00:00<00:00,  7.31 Samples/s]\n",
      "Executing Pipeline:   0%|                                                                  | 0/1 [00:00<?, ? Samples/s]"
     ]
    },
    {
     "name": "stdout",
     "output_type": "stream",
     "text": [
      "Initialised with 1 image(s) found.\n",
      "Output directory set to C:/Users/User/Desktop/Test/GeneratedData/TempFolderRename/.Initialised with 1 image(s) found.\n",
      "Output directory set to C:/Users/User/Desktop/Test/GeneratedData/TempFolderRename/."
     ]
    },
    {
     "name": "stderr",
     "output_type": "stream",
     "text": [
      "Processing <PIL.Image.Image image mode=RGB size=700x700 at 0x2B745391C50>: 100%|███| 1/1 [00:00<00:00,  6.38 Samples/s]\n",
      "Executing Pipeline:   0%|                                                                  | 0/1 [00:00<?, ? Samples/s]"
     ]
    },
    {
     "name": "stdout",
     "output_type": "stream",
     "text": [
      "Initialised with 1 image(s) found.\n",
      "Output directory set to C:/Users/User/Desktop/Test/GeneratedData/TempFolderRename/."
     ]
    },
    {
     "name": "stderr",
     "output_type": "stream",
     "text": [
      "Processing <PIL.Image.Image image mode=RGB size=700x700 at 0x2B745391D68>: 100%|███| 1/1 [00:00<00:00,  3.21 Samples/s]\n",
      "Executing Pipeline:   0%|                                                                  | 0/1 [00:00<?, ? Samples/s]"
     ]
    },
    {
     "name": "stdout",
     "output_type": "stream",
     "text": [
      "Initialised with 1 image(s) found.\n",
      "Output directory set to C:/Users/User/Desktop/Test/GeneratedData/TempFolderRename/."
     ]
    },
    {
     "name": "stderr",
     "output_type": "stream",
     "text": [
      "Processing <PIL.Image.Image image mode=RGB size=700x700 at 0x2B745391E10>: 100%|███| 1/1 [00:00<00:00,  4.93 Samples/s]\n",
      "Executing Pipeline:   0%|                                                                  | 0/1 [00:00<?, ? Samples/s]"
     ]
    },
    {
     "name": "stdout",
     "output_type": "stream",
     "text": [
      "Initialised with 1 image(s) found.\n",
      "Output directory set to C:/Users/User/Desktop/Test/GeneratedData/TempFolderRename/."
     ]
    },
    {
     "name": "stderr",
     "output_type": "stream",
     "text": [
      "Processing <PIL.Image.Image image mode=RGB size=700x700 at 0x2B745391FD0>: 100%|███| 1/1 [00:00<00:00,  4.39 Samples/s]\n",
      "Processing <PIL.Image.Image image mode=RGB size=700x700 at 0x2B7453930F0>: 100%|███| 1/1 [00:00<00:00,  7.15 Samples/s]\n",
      "Executing Pipeline:   0%|                                                                  | 0/1 [00:00<?, ? Samples/s]"
     ]
    },
    {
     "name": "stdout",
     "output_type": "stream",
     "text": [
      "Initialised with 1 image(s) found.\n",
      "Output directory set to C:/Users/User/Desktop/Test/GeneratedData/TempFolderRename/.Initialised with 1 image(s) found.\n",
      "Output directory set to C:/Users/User/Desktop/Test/GeneratedData/TempFolderRename/."
     ]
    },
    {
     "name": "stderr",
     "output_type": "stream",
     "text": [
      "Processing <PIL.Image.Image image mode=RGB size=700x700 at 0x2B745393198>: 100%|███| 1/1 [00:00<00:00,  5.44 Samples/s]\n",
      "Processing <PIL.Image.Image image mode=RGB size=700x700 at 0x2B745393278>: 100%|███| 1/1 [00:00<00:00,  8.27 Samples/s]\n",
      "Executing Pipeline:   0%|                                                                  | 0/1 [00:00<?, ? Samples/s]"
     ]
    },
    {
     "name": "stdout",
     "output_type": "stream",
     "text": [
      "Initialised with 1 image(s) found.\n",
      "Output directory set to C:/Users/User/Desktop/Test/GeneratedData/TempFolderRename/.Initialised with 1 image(s) found.\n",
      "Output directory set to C:/Users/User/Desktop/Test/GeneratedData/TempFolderRename/."
     ]
    },
    {
     "name": "stderr",
     "output_type": "stream",
     "text": [
      "Processing <PIL.Image.Image image mode=RGB size=700x700 at 0x2B745393438>: 100%|███| 1/1 [00:00<00:00,  3.72 Samples/s]\n",
      "Executing Pipeline:   0%|                                                                  | 0/1 [00:00<?, ? Samples/s]"
     ]
    },
    {
     "name": "stdout",
     "output_type": "stream",
     "text": [
      "Initialised with 1 image(s) found.\n",
      "Output directory set to C:/Users/User/Desktop/Test/GeneratedData/TempFolderRename/."
     ]
    },
    {
     "name": "stderr",
     "output_type": "stream",
     "text": [
      "Processing <PIL.Image.Image image mode=RGB size=700x700 at 0x2B7453934E0>: 100%|███| 1/1 [00:00<00:00,  3.24 Samples/s]\n",
      "Processing <PIL.Image.Image image mode=RGB size=700x700 at 0x2B745393668>: 100%|███| 1/1 [00:00<00:00,  6.72 Samples/s]\n",
      "Executing Pipeline:   0%|                                                                  | 0/1 [00:00<?, ? Samples/s]"
     ]
    },
    {
     "name": "stdout",
     "output_type": "stream",
     "text": [
      "Initialised with 1 image(s) found.\n",
      "Output directory set to C:/Users/User/Desktop/Test/GeneratedData/TempFolderRename/.Initialised with 1 image(s) found.\n",
      "Output directory set to C:/Users/User/Desktop/Test/GeneratedData/TempFolderRename/."
     ]
    },
    {
     "name": "stderr",
     "output_type": "stream",
     "text": [
      "Processing <PIL.Image.Image image mode=RGB size=700x700 at 0x2B745393780>: 100%|███| 1/1 [00:00<00:00,  7.88 Samples/s]\n",
      "Processing <PIL.Image.Image image mode=RGB size=700x700 at 0x2B745393710>: 100%|███| 1/1 [00:00<00:00,  5.03 Samples/s]"
     ]
    },
    {
     "name": "stdout",
     "output_type": "stream",
     "text": [
      "Initialised with 1 image(s) found.\n",
      "Output directory set to C:/Users/User/Desktop/Test/GeneratedData/TempFolderRename/."
     ]
    },
    {
     "name": "stderr",
     "output_type": "stream",
     "text": [
      "\n",
      "Processing <PIL.Image.Image image mode=RGB size=700x700 at 0x2B7453939B0>: 100%|███| 1/1 [00:00<00:00,  7.15 Samples/s]\n",
      "Executing Pipeline:   0%|                                                                  | 0/1 [00:00<?, ? Samples/s]"
     ]
    },
    {
     "name": "stdout",
     "output_type": "stream",
     "text": [
      "Initialised with 1 image(s) found.\n",
      "Output directory set to C:/Users/User/Desktop/Test/GeneratedData/TempFolderRename/.Initialised with 1 image(s) found.\n",
      "Output directory set to C:/Users/User/Desktop/Test/GeneratedData/TempFolderRename/."
     ]
    },
    {
     "name": "stderr",
     "output_type": "stream",
     "text": [
      "Processing <PIL.Image.Image image mode=RGB size=700x700 at 0x2B745393AC8>: 100%|███| 1/1 [00:00<00:00,  5.75 Samples/s]\n",
      "Executing Pipeline:   0%|                                                                  | 0/1 [00:00<?, ? Samples/s]"
     ]
    },
    {
     "name": "stdout",
     "output_type": "stream",
     "text": [
      "Initialised with 1 image(s) found.\n",
      "Output directory set to C:/Users/User/Desktop/Test/GeneratedData/TempFolderRename/."
     ]
    },
    {
     "name": "stderr",
     "output_type": "stream",
     "text": [
      "Processing <PIL.Image.Image image mode=RGB size=700x700 at 0x2B7453939E8>: 100%|███| 1/1 [00:00<00:00,  3.04 Samples/s]\n",
      "Executing Pipeline:   0%|                                                                  | 0/1 [00:00<?, ? Samples/s]"
     ]
    },
    {
     "name": "stdout",
     "output_type": "stream",
     "text": [
      "Initialised with 1 image(s) found.\n",
      "Output directory set to C:/Users/User/Desktop/Test/GeneratedData/TempFolderRename/."
     ]
    },
    {
     "name": "stderr",
     "output_type": "stream",
     "text": [
      "Processing <PIL.Image.Image image mode=RGB size=700x700 at 0x2B745393CF8>: 100%|███| 1/1 [00:00<00:00,  4.35 Samples/s]\n",
      "Executing Pipeline:   0%|                                                                  | 0/1 [00:00<?, ? Samples/s]"
     ]
    },
    {
     "name": "stdout",
     "output_type": "stream",
     "text": [
      "Initialised with 1 image(s) found.\n",
      "Output directory set to C:/Users/User/Desktop/Test/GeneratedData/TempFolderRename/."
     ]
    },
    {
     "name": "stderr",
     "output_type": "stream",
     "text": [
      "Processing <PIL.Image.Image image mode=RGB size=700x700 at 0x2B745393DA0>: 100%|███| 1/1 [00:00<00:00,  4.91 Samples/s]\n",
      "Processing <PIL.Image.Image image mode=RGB size=700x700 at 0x2B745393EB8>: 100%|███| 1/1 [00:00<00:00,  5.13 Samples/s]"
     ]
    },
    {
     "name": "stdout",
     "output_type": "stream",
     "text": [
      "Initialised with 1 image(s) found.\n",
      "Output directory set to C:/Users/User/Desktop/Test/GeneratedData/TempFolderRename/."
     ]
    },
    {
     "name": "stderr",
     "output_type": "stream",
     "text": [
      "\n",
      "Processing <PIL.Image.Image image mode=RGB size=700x700 at 0x2B74539C048>: 100%|███| 1/1 [00:00<00:00,  6.42 Samples/s]\n",
      "Executing Pipeline:   0%|                                                                  | 0/1 [00:00<?, ? Samples/s]"
     ]
    },
    {
     "name": "stdout",
     "output_type": "stream",
     "text": [
      "Initialised with 1 image(s) found.\n",
      "Output directory set to C:/Users/User/Desktop/Test/GeneratedData/TempFolderRename/.Initialised with 1 image(s) found.\n",
      "Output directory set to C:/Users/User/Desktop/Test/GeneratedData/TempFolderRename/."
     ]
    },
    {
     "name": "stderr",
     "output_type": "stream",
     "text": [
      "Processing <PIL.Image.Image image mode=RGB size=700x700 at 0x2B74539C198>: 100%|███| 1/1 [00:00<00:00,  6.86 Samples/s]\n",
      "Processing <PIL.Image.Image image mode=RGB size=700x700 at 0x2B745390240>: 100%|███| 1/1 [00:00<00:00,  5.72 Samples/s]\n",
      "Executing Pipeline:   0%|                                                                  | 0/1 [00:00<?, ? Samples/s]"
     ]
    },
    {
     "name": "stdout",
     "output_type": "stream",
     "text": [
      "Initialised with 1 image(s) found.\n",
      "Output directory set to C:/Users/User/Desktop/Test/GeneratedData/TempFolderRename/.Initialised with 1 image(s) found.\n",
      "Output directory set to C:/Users/User/Desktop/Test/GeneratedData/TempFolderRename/."
     ]
    },
    {
     "name": "stderr",
     "output_type": "stream",
     "text": [
      "Processing <PIL.Image.Image image mode=RGB size=700x700 at 0x2B74537F3C8>: 100%|███| 1/1 [00:00<00:00,  8.01 Samples/s]\n",
      "Processing <PIL.Image.Image image mode=RGB size=700x700 at 0x2B74537F198>: 100%|███| 1/1 [00:00<00:00,  5.88 Samples/s]\n",
      "Executing Pipeline:   0%|                                                                  | 0/1 [00:00<?, ? Samples/s]"
     ]
    },
    {
     "name": "stdout",
     "output_type": "stream",
     "text": [
      "Initialised with 1 image(s) found.\n",
      "Output directory set to C:/Users/User/Desktop/Test/GeneratedData/TempFolderRename/.Initialised with 1 image(s) found.\n",
      "Output directory set to C:/Users/User/Desktop/Test/GeneratedData/TempFolderRename/."
     ]
    },
    {
     "name": "stderr",
     "output_type": "stream",
     "text": [
      "Processing <PIL.Image.Image image mode=RGB size=700x700 at 0x2B74537F550>: 100%|███| 1/1 [00:00<00:00,  5.75 Samples/s]\n",
      "Processing <PIL.Image.Image image mode=RGB size=700x700 at 0x2B74537F6D8>: 100%|███| 1/1 [00:00<00:00,  6.72 Samples/s]\n",
      "Executing Pipeline:   0%|                                                                  | 0/1 [00:00<?, ? Samples/s]"
     ]
    },
    {
     "name": "stdout",
     "output_type": "stream",
     "text": [
      "Initialised with 1 image(s) found.\n",
      "Output directory set to C:/Users/User/Desktop/Test/GeneratedData/TempFolderRename/.Initialised with 1 image(s) found.\n",
      "Output directory set to C:/Users/User/Desktop/Test/GeneratedData/TempFolderRename/."
     ]
    },
    {
     "name": "stderr",
     "output_type": "stream",
     "text": [
      "Processing <PIL.Image.Image image mode=RGB size=700x700 at 0x2B74537F780>: 100%|███| 1/1 [00:00<00:00,  4.30 Samples/s]\n",
      "Executing Pipeline:   0%|                                                                  | 0/1 [00:00<?, ? Samples/s]"
     ]
    },
    {
     "name": "stdout",
     "output_type": "stream",
     "text": [
      "Initialised with 1 image(s) found.\n",
      "Output directory set to C:/Users/User/Desktop/Test/GeneratedData/TempFolderRename/."
     ]
    },
    {
     "name": "stderr",
     "output_type": "stream",
     "text": [
      "Processing <PIL.Image.Image image mode=RGB size=700x700 at 0x2B74537F668>: 100%|███| 1/1 [00:00<00:00,  2.66 Samples/s]\n",
      "Processing <PIL.Image.Image image mode=RGB size=700x700 at 0x2B74537F9B0>: 100%|███| 1/1 [00:00<00:00,  5.27 Samples/s]"
     ]
    },
    {
     "name": "stdout",
     "output_type": "stream",
     "text": [
      "Initialised with 1 image(s) found.\n",
      "Output directory set to C:/Users/User/Desktop/Test/GeneratedData/TempFolderRename/.Initialised with 1 image(s) found.\n",
      "Output directory set to C:/Users/User/Desktop/Test/GeneratedData/TempFolderRename/."
     ]
    },
    {
     "name": "stderr",
     "output_type": "stream",
     "text": [
      "\n",
      "Processing <PIL.Image.Image image mode=RGB size=700x700 at 0x2B74537FB38>: 100%|███| 1/1 [00:00<00:00,  5.53 Samples/s]\n",
      "Executing Pipeline:   0%|                                                                  | 0/1 [00:00<?, ? Samples/s]"
     ]
    },
    {
     "name": "stdout",
     "output_type": "stream",
     "text": [
      "Initialised with 1 image(s) found.\n",
      "Output directory set to C:/Users/User/Desktop/Test/GeneratedData/TempFolderRename/."
     ]
    },
    {
     "name": "stderr",
     "output_type": "stream",
     "text": [
      "Processing <PIL.Image.Image image mode=RGB size=700x700 at 0x2B74537FC50>: 100%|███| 1/1 [00:00<00:00,  4.91 Samples/s]\n",
      "Processing <PIL.Image.Image image mode=RGB size=700x700 at 0x2B74537FDA0>: 100%|███| 1/1 [00:00<00:00,  6.46 Samples/s]\n",
      "Executing Pipeline:   0%|                                                                  | 0/1 [00:00<?, ? Samples/s]"
     ]
    },
    {
     "name": "stdout",
     "output_type": "stream",
     "text": [
      "Initialised with 1 image(s) found.\n",
      "Output directory set to C:/Users/User/Desktop/Test/GeneratedData/TempFolderRename/.Initialised with 1 image(s) found.\n",
      "Output directory set to C:/Users/User/Desktop/Test/GeneratedData/TempFolderRename/."
     ]
    },
    {
     "name": "stderr",
     "output_type": "stream",
     "text": [
      "Processing <PIL.Image.Image image mode=RGB size=700x700 at 0x2B74537FC88>: 100%|███| 1/1 [00:00<00:00,  4.30 Samples/s]\n",
      "Processing <PIL.Image.Image image mode=RGB size=700x700 at 0x2B74537FCF8>: 100%|███| 1/1 [00:00<00:00,  6.30 Samples/s]\n"
     ]
    },
    {
     "name": "stdout",
     "output_type": "stream",
     "text": [
      "Initialised with 1 image(s) found.\n",
      "Output directory set to C:/Users/User/Desktop/Test/GeneratedData/TempFolderRename/."
     ]
    },
    {
     "name": "stderr",
     "output_type": "stream",
     "text": [
      "Processing <PIL.Image.Image image mode=RGB size=700x700 at 0x2B74539D128>: 100%|███| 1/1 [00:00<00:00,  6.03 Samples/s]\n",
      "Executing Pipeline:   0%|                                                                  | 0/1 [00:00<?, ? Samples/s]"
     ]
    },
    {
     "name": "stdout",
     "output_type": "stream",
     "text": [
      "Initialised with 1 image(s) found.\n",
      "Output directory set to C:/Users/User/Desktop/Test/GeneratedData/TempFolderRename/.Initialised with 1 image(s) found.\n",
      "Output directory set to C:/Users/User/Desktop/Test/GeneratedData/TempFolderRename/."
     ]
    },
    {
     "name": "stderr",
     "output_type": "stream",
     "text": [
      "Processing <PIL.Image.Image image mode=RGB size=700x700 at 0x2B745398198>: 100%|███| 1/1 [00:00<00:00,  3.52 Samples/s]\n",
      "Processing <PIL.Image.Image image mode=RGB size=700x700 at 0x2B74539D320>: 100%|███| 1/1 [00:00<00:00,  7.47 Samples/s]\n",
      "Executing Pipeline:   0%|                                                                  | 0/1 [00:00<?, ? Samples/s]"
     ]
    },
    {
     "name": "stdout",
     "output_type": "stream",
     "text": [
      "Initialised with 1 image(s) found.\n",
      "Output directory set to C:/Users/User/Desktop/Test/GeneratedData/TempFolderRename/.Initialised with 1 image(s) found.\n",
      "Output directory set to C:/Users/User/Desktop/Test/GeneratedData/TempFolderRename/."
     ]
    },
    {
     "name": "stderr",
     "output_type": "stream",
     "text": [
      "Processing <PIL.Image.Image image mode=RGB size=700x700 at 0x2B7453983C8>: 100%|███| 1/1 [00:00<00:00,  5.27 Samples/s]\n",
      "Processing <PIL.Image.Image image mode=RGB size=700x700 at 0x2B745398400>: 100%|███| 1/1 [00:00<00:00,  5.16 Samples/s]"
     ]
    },
    {
     "name": "stdout",
     "output_type": "stream",
     "text": [
      "Initialised with 1 image(s) found.\n",
      "Output directory set to C:/Users/User/Desktop/Test/GeneratedData/TempFolderRename/."
     ]
    },
    {
     "name": "stderr",
     "output_type": "stream",
     "text": [
      "\n",
      "\r",
      "Executing Pipeline:   0%|                                                                  | 0/1 [00:00<?, ? Samples/s]"
     ]
    },
    {
     "name": "stdout",
     "output_type": "stream",
     "text": [
      "Initialised with 1 image(s) found.\n",
      "Output directory set to C:/Users/User/Desktop/Test/GeneratedData/TempFolderRename/."
     ]
    },
    {
     "name": "stderr",
     "output_type": "stream",
     "text": [
      "Processing <PIL.Image.Image image mode=RGB size=700x700 at 0x2B745398668>: 100%|███| 1/1 [00:00<00:00,  3.67 Samples/s]\n",
      "Processing <PIL.Image.Image image mode=RGB size=700x700 at 0x2B745398780>: 100%|███| 1/1 [00:00<00:00,  6.59 Samples/s]\n",
      "Executing Pipeline:   0%|                                                                  | 0/1 [00:00<?, ? Samples/s]"
     ]
    },
    {
     "name": "stdout",
     "output_type": "stream",
     "text": [
      "Initialised with 1 image(s) found.\n",
      "Output directory set to C:/Users/User/Desktop/Test/GeneratedData/TempFolderRename/.Initialised with 1 image(s) found.\n",
      "Output directory set to C:/Users/User/Desktop/Test/GeneratedData/TempFolderRename/."
     ]
    },
    {
     "name": "stderr",
     "output_type": "stream",
     "text": [
      "Processing <PIL.Image.Image image mode=RGB size=700x700 at 0x2B745398828>: 100%|███| 1/1 [00:00<00:00,  4.72 Samples/s]\n",
      "Processing <PIL.Image.Image image mode=RGB size=700x700 at 0x2B7453989B0>: 100%|███| 1/1 [00:00<00:00,  6.33 Samples/s]\n",
      "Executing Pipeline:   0%|                                                                  | 0/1 [00:00<?, ? Samples/s]"
     ]
    },
    {
     "name": "stdout",
     "output_type": "stream",
     "text": [
      "Initialised with 1 image(s) found.\n",
      "Output directory set to C:/Users/User/Desktop/Test/GeneratedData/TempFolderRename/.Initialised with 1 image(s) found.\n",
      "Output directory set to C:/Users/User/Desktop/Test/GeneratedData/TempFolderRename/."
     ]
    },
    {
     "name": "stderr",
     "output_type": "stream",
     "text": [
      "Processing <PIL.Image.Image image mode=RGB size=700x700 at 0x2B745398A58>: 100%|███| 1/1 [00:00<00:00,  5.03 Samples/s]\n",
      "Processing <PIL.Image.Image image mode=RGB size=700x700 at 0x2B7453985F8>: 100%|███| 1/1 [00:00<00:00,  5.66 Samples/s]\n",
      "Executing Pipeline:   0%|                                                                  | 0/1 [00:00<?, ? Samples/s]"
     ]
    },
    {
     "name": "stdout",
     "output_type": "stream",
     "text": [
      "Initialised with 1 image(s) found.\n",
      "Output directory set to C:/Users/User/Desktop/Test/GeneratedData/TempFolderRename/.Initialised with 1 image(s) found.\n",
      "Output directory set to C:/Users/User/Desktop/Test/GeneratedData/TempFolderRename/."
     ]
    },
    {
     "name": "stderr",
     "output_type": "stream",
     "text": [
      "Processing <PIL.Image.Image image mode=RGB size=700x700 at 0x2B745398CF8>: 100%|███| 1/1 [00:00<00:00,  6.90 Samples/s]\n",
      "Executing Pipeline:   0%|                                                                  | 0/1 [00:00<?, ? Samples/s]"
     ]
    },
    {
     "name": "stdout",
     "output_type": "stream",
     "text": [
      "Initialised with 1 image(s) found.\n",
      "Output directory set to C:/Users/User/Desktop/Test/GeneratedData/TempFolderRename/."
     ]
    },
    {
     "name": "stderr",
     "output_type": "stream",
     "text": [
      "Processing <PIL.Image.Image image mode=RGB size=700x700 at 0x2B745398D30>: 100%|███| 1/1 [00:00<00:00,  4.24 Samples/s]\n",
      "Executing Pipeline:   0%|                                                                  | 0/1 [00:00<?, ? Samples/s]"
     ]
    },
    {
     "name": "stdout",
     "output_type": "stream",
     "text": [
      "Initialised with 1 image(s) found.\n",
      "Output directory set to C:/Users/User/Desktop/Test/GeneratedData/TempFolderRename/."
     ]
    },
    {
     "name": "stderr",
     "output_type": "stream",
     "text": [
      "Processing <PIL.Image.Image image mode=RGB size=700x700 at 0x2B745398EB8>: 100%|███| 1/1 [00:00<00:00,  4.63 Samples/s]\n",
      "Executing Pipeline:   0%|                                                                  | 0/1 [00:00<?, ? Samples/s]"
     ]
    },
    {
     "name": "stdout",
     "output_type": "stream",
     "text": [
      "Initialised with 1 image(s) found.\n",
      "Output directory set to C:/Users/User/Desktop/Test/GeneratedData/TempFolderRename/."
     ]
    },
    {
     "name": "stderr",
     "output_type": "stream",
     "text": [
      "Processing <PIL.Image.Image image mode=RGB size=700x700 at 0x2B7453AC048>: 100%|███| 1/1 [00:00<00:00,  3.79 Samples/s]\n",
      "Processing <PIL.Image.Image image mode=RGB size=700x700 at 0x2B7453AC198>: 100%|███| 1/1 [00:00<00:00,  8.27 Samples/s]\n",
      "Executing Pipeline:   0%|                                                                  | 0/1 [00:00<?, ? Samples/s]"
     ]
    },
    {
     "name": "stdout",
     "output_type": "stream",
     "text": [
      "Initialised with 1 image(s) found.\n",
      "Output directory set to C:/Users/User/Desktop/Test/GeneratedData/TempFolderRename/.Initialised with 1 image(s) found.\n",
      "Output directory set to C:/Users/User/Desktop/Test/GeneratedData/TempFolderRename/."
     ]
    },
    {
     "name": "stderr",
     "output_type": "stream",
     "text": [
      "Processing <PIL.Image.Image image mode=RGB size=700x700 at 0x2B7453AC278>: 100%|███| 1/1 [00:00<00:00,  3.99 Samples/s]\n",
      "Processing <PIL.Image.Image image mode=RGB size=700x700 at 0x2B7453AC3C8>: 100%|███| 1/1 [00:00<00:00,  7.58 Samples/s]\n",
      "Executing Pipeline:   0%|                                                                  | 0/1 [00:00<?, ? Samples/s]"
     ]
    },
    {
     "name": "stdout",
     "output_type": "stream",
     "text": [
      "Initialised with 1 image(s) found.\n",
      "Output directory set to C:/Users/User/Desktop/Test/GeneratedData/TempFolderRename/.Initialised with 1 image(s) found.\n",
      "Output directory set to C:/Users/User/Desktop/Test/GeneratedData/TempFolderRename/."
     ]
    },
    {
     "name": "stderr",
     "output_type": "stream",
     "text": [
      "Processing <PIL.Image.Image image mode=RGB size=700x700 at 0x2B7453AC320>: 100%|███| 1/1 [00:00<00:00,  3.54 Samples/s]\n",
      "Processing <PIL.Image.Image image mode=RGB size=700x700 at 0x2B7453AC5F8>: 100%|███| 1/1 [00:00<00:00,  7.20 Samples/s]\n",
      "Executing Pipeline:   0%|                                                                  | 0/1 [00:00<?, ? Samples/s]"
     ]
    },
    {
     "name": "stdout",
     "output_type": "stream",
     "text": [
      "Initialised with 1 image(s) found.\n",
      "Output directory set to C:/Users/User/Desktop/Test/GeneratedData/TempFolderRename/.Initialised with 1 image(s) found.\n",
      "Output directory set to C:/Users/User/Desktop/Test/GeneratedData/TempFolderRename/."
     ]
    },
    {
     "name": "stderr",
     "output_type": "stream",
     "text": [
      "Processing <PIL.Image.Image image mode=RGB size=700x700 at 0x2B7453AC710>: 100%|███| 1/1 [00:00<00:00,  8.07 Samples/s]\n",
      "Executing Pipeline:   0%|                                                                  | 0/1 [00:00<?, ? Samples/s]"
     ]
    },
    {
     "name": "stdout",
     "output_type": "stream",
     "text": [
      "Initialised with 1 image(s) found.\n",
      "Output directory set to C:/Users/User/Desktop/Test/GeneratedData/TempFolderRename/."
     ]
    },
    {
     "name": "stderr",
     "output_type": "stream",
     "text": [
      "Processing <PIL.Image.Image image mode=RGB size=700x700 at 0x2B7453AC588>: 100%|███| 1/1 [00:00<00:00,  4.04 Samples/s]\n",
      "Processing <PIL.Image.Image image mode=RGB size=700x700 at 0x2B7453AC940>: 100%|███| 1/1 [00:00<00:00,  7.58 Samples/s]\n",
      "Executing Pipeline:   0%|                                                                  | 0/1 [00:00<?, ? Samples/s]"
     ]
    },
    {
     "name": "stdout",
     "output_type": "stream",
     "text": [
      "Initialised with 1 image(s) found.\n",
      "Output directory set to C:/Users/User/Desktop/Test/GeneratedData/TempFolderRename/.Initialised with 1 image(s) found.\n",
      "Output directory set to C:/Users/User/Desktop/Test/GeneratedData/TempFolderRename/."
     ]
    },
    {
     "name": "stderr",
     "output_type": "stream",
     "text": [
      "Processing <PIL.Image.Image image mode=RGB size=700x700 at 0x2B7453ACAC8>: 100%|███| 1/1 [00:00<00:00,  5.35 Samples/s]\n",
      "Processing <PIL.Image.Image image mode=RGB size=700x700 at 0x2B7453ACB38>: 100%|███| 1/1 [00:00<00:00,  5.06 Samples/s]"
     ]
    },
    {
     "name": "stdout",
     "output_type": "stream",
     "text": [
      "Initialised with 1 image(s) found.\n",
      "Output directory set to C:/Users/User/Desktop/Test/GeneratedData/TempFolderRename/."
     ]
    },
    {
     "name": "stderr",
     "output_type": "stream",
     "text": [
      "\n",
      "\r",
      "Executing Pipeline:   0%|                                                                  | 0/1 [00:00<?, ? Samples/s]"
     ]
    },
    {
     "name": "stdout",
     "output_type": "stream",
     "text": [
      "Initialised with 1 image(s) found.\n",
      "Output directory set to C:/Users/User/Desktop/Test/GeneratedData/TempFolderRename/."
     ]
    },
    {
     "name": "stderr",
     "output_type": "stream",
     "text": [
      "Processing <PIL.Image.Image image mode=RGB size=700x700 at 0x2B7453ACC88>: 100%|███| 1/1 [00:00<00:00,  4.61 Samples/s]\n",
      "Processing <PIL.Image.Image image mode=RGB size=700x700 at 0x2B7453ACDA0>: 100%|███| 1/1 [00:00<00:00,  7.88 Samples/s]\n",
      "Executing Pipeline:   0%|                                                                  | 0/1 [00:00<?, ? Samples/s]"
     ]
    },
    {
     "name": "stdout",
     "output_type": "stream",
     "text": [
      "Initialised with 1 image(s) found.\n",
      "Output directory set to C:/Users/User/Desktop/Test/GeneratedData/TempFolderRename/.Initialised with 1 image(s) found.\n",
      "Output directory set to C:/Users/User/Desktop/Test/GeneratedData/TempFolderRename/."
     ]
    },
    {
     "name": "stderr",
     "output_type": "stream",
     "text": [
      "Processing <PIL.Image.Image image mode=RGB size=700x700 at 0x2B7453ACEB8>: 100%|███| 1/1 [00:00<00:00,  7.70 Samples/s]\n",
      "Executing Pipeline:   0%|                                                                  | 0/1 [00:00<?, ? Samples/s]"
     ]
    },
    {
     "name": "stdout",
     "output_type": "stream",
     "text": [
      "Initialised with 1 image(s) found.\n",
      "Output directory set to C:/Users/User/Desktop/Test/GeneratedData/TempFolderRename/."
     ]
    },
    {
     "name": "stderr",
     "output_type": "stream",
     "text": [
      "Processing <PIL.Image.Image image mode=RGB size=700x700 at 0x2B7453ACB00>: 100%|███| 1/1 [00:00<00:00,  4.57 Samples/s]\n",
      "Executing Pipeline:   0%|                                                                  | 0/1 [00:00<?, ? Samples/s]"
     ]
    },
    {
     "name": "stdout",
     "output_type": "stream",
     "text": [
      "Initialised with 1 image(s) found.\n",
      "Output directory set to C:/Users/User/Desktop/Test/GeneratedData/TempFolderRename/."
     ]
    },
    {
     "name": "stderr",
     "output_type": "stream",
     "text": [
      "Processing <PIL.Image.Image image mode=RGB size=700x700 at 0x2B7453B6198>: 100%|███| 1/1 [00:00<00:00,  3.99 Samples/s]\n",
      "Executing Pipeline:   0%|                                                                  | 0/1 [00:00<?, ? Samples/s]"
     ]
    },
    {
     "name": "stdout",
     "output_type": "stream",
     "text": [
      "Initialised with 1 image(s) found.\n",
      "Output directory set to C:/Users/User/Desktop/Test/GeneratedData/TempFolderRename/."
     ]
    },
    {
     "name": "stderr",
     "output_type": "stream",
     "text": [
      "Processing <PIL.Image.Image image mode=RGB size=700x700 at 0x2B7453B6208>: 100%|███| 1/1 [00:00<00:00,  3.33 Samples/s]\n",
      "Processing <PIL.Image.Image image mode=RGB size=700x700 at 0x2B7453B6358>: 100%|███| 1/1 [00:00<00:00,  6.34 Samples/s]\n",
      "Executing Pipeline:   0%|                                                                  | 0/1 [00:00<?, ? Samples/s]"
     ]
    },
    {
     "name": "stdout",
     "output_type": "stream",
     "text": [
      "Initialised with 1 image(s) found.\n",
      "Output directory set to C:/Users/User/Desktop/Test/GeneratedData/TempFolderRename/.Initialised with 1 image(s) found.\n",
      "Output directory set to C:/Users/User/Desktop/Test/GeneratedData/TempFolderRename/."
     ]
    },
    {
     "name": "stderr",
     "output_type": "stream",
     "text": [
      "Processing <PIL.Image.Image image mode=RGB size=700x700 at 0x2B7453B6438>: 100%|███| 1/1 [00:00<00:00,  2.18 Samples/s]\n",
      "Processing <PIL.Image.Image image mode=RGB size=700x700 at 0x2B7453B63C8>: 100%|███| 1/1 [00:00<00:00,  7.36 Samples/s]\n",
      "Executing Pipeline:   0%|                                                                  | 0/1 [00:00<?, ? Samples/s]"
     ]
    },
    {
     "name": "stdout",
     "output_type": "stream",
     "text": [
      "Initialised with 1 image(s) found.\n",
      "Output directory set to C:/Users/User/Desktop/Test/GeneratedData/TempFolderRename/.Initialised with 1 image(s) found.\n",
      "Output directory set to C:/Users/User/Desktop/Test/GeneratedData/TempFolderRename/."
     ]
    },
    {
     "name": "stderr",
     "output_type": "stream",
     "text": [
      "Processing <PIL.Image.Image image mode=RGB size=700x700 at 0x2B7453B66A0>: 100%|███| 1/1 [00:00<00:00,  5.24 Samples/s]\n",
      "Processing <PIL.Image.Image image mode=RGB size=700x700 at 0x2B7453B6630>: 100%|███| 1/1 [00:00<00:00,  5.41 Samples/s]"
     ]
    },
    {
     "name": "stdout",
     "output_type": "stream",
     "text": [
      "Initialised with 1 image(s) found.\n",
      "Output directory set to C:/Users/User/Desktop/Test/GeneratedData/TempFolderRename/."
     ]
    },
    {
     "name": "stderr",
     "output_type": "stream",
     "text": [
      "\n",
      "\r",
      "Executing Pipeline:   0%|                                                                  | 0/1 [00:00<?, ? Samples/s]"
     ]
    },
    {
     "name": "stdout",
     "output_type": "stream",
     "text": [
      "Initialised with 1 image(s) found.\n",
      "Output directory set to C:/Users/User/Desktop/Test/GeneratedData/TempFolderRename/."
     ]
    },
    {
     "name": "stderr",
     "output_type": "stream",
     "text": [
      "Processing <PIL.Image.Image image mode=RGB size=700x700 at 0x2B7453B6860>: 100%|███| 1/1 [00:00<00:00,  3.08 Samples/s]\n",
      "Executing Pipeline:   0%|                                                                  | 0/1 [00:00<?, ? Samples/s]"
     ]
    },
    {
     "name": "stdout",
     "output_type": "stream",
     "text": [
      "Initialised with 1 image(s) found.\n",
      "Output directory set to C:/Users/User/Desktop/Test/GeneratedData/TempFolderRename/."
     ]
    },
    {
     "name": "stderr",
     "output_type": "stream",
     "text": [
      "Processing <PIL.Image.Image image mode=RGB size=700x700 at 0x2B7453B69E8>: 100%|███| 1/1 [00:00<00:00,  3.58 Samples/s]\n",
      "Processing <PIL.Image.Image image mode=RGB size=700x700 at 0x2B7453B6B00>: 100%|███| 1/1 [00:00<00:00,  7.05 Samples/s]\n",
      "Executing Pipeline:   0%|                                                                  | 0/1 [00:00<?, ? Samples/s]"
     ]
    },
    {
     "name": "stdout",
     "output_type": "stream",
     "text": [
      "Initialised with 1 image(s) found.\n",
      "Output directory set to C:/Users/User/Desktop/Test/GeneratedData/TempFolderRename/.Initialised with 1 image(s) found.\n",
      "Output directory set to C:/Users/User/Desktop/Test/GeneratedData/TempFolderRename/."
     ]
    },
    {
     "name": "stderr",
     "output_type": "stream",
     "text": [
      "Processing <PIL.Image.Image image mode=RGB size=700x700 at 0x2B7453B6BA8>: 100%|███| 1/1 [00:00<00:00,  4.86 Samples/s]\n",
      "Processing <PIL.Image.Image image mode=RGB size=700x700 at 0x2B7453B6A90>: 100%|███| 1/1 [00:00<00:00,  6.26 Samples/s]\n",
      "Executing Pipeline:   0%|                                                                  | 0/1 [00:00<?, ? Samples/s]"
     ]
    },
    {
     "name": "stdout",
     "output_type": "stream",
     "text": [
      "Initialised with 1 image(s) found.\n",
      "Output directory set to C:/Users/User/Desktop/Test/GeneratedData/TempFolderRename/.Initialised with 1 image(s) found.\n",
      "Output directory set to C:/Users/User/Desktop/Test/GeneratedData/TempFolderRename/."
     ]
    },
    {
     "name": "stderr",
     "output_type": "stream",
     "text": [
      "Processing <PIL.Image.Image image mode=RGB size=700x700 at 0x2B7453B6C50>: 100%|███| 1/1 [00:00<00:00,  6.34 Samples/s]\n",
      "Executing Pipeline:   0%|                                                                  | 0/1 [00:00<?, ? Samples/s]"
     ]
    },
    {
     "name": "stdout",
     "output_type": "stream",
     "text": [
      "Initialised with 1 image(s) found.\n",
      "Output directory set to C:/Users/User/Desktop/Test/GeneratedData/TempFolderRename/."
     ]
    },
    {
     "name": "stderr",
     "output_type": "stream",
     "text": [
      "Processing <PIL.Image.Image image mode=RGB size=700x700 at 0x2B7453B6F60>: 100%|███| 1/1 [00:00<00:00,  2.00 Samples/s]\n",
      "Executing Pipeline:   0%|                                                                  | 0/1 [00:00<?, ? Samples/s]"
     ]
    },
    {
     "name": "stdout",
     "output_type": "stream",
     "text": [
      "Initialised with 1 image(s) found.\n",
      "Output directory set to C:/Users/User/Desktop/Test/GeneratedData/TempFolderRename/."
     ]
    },
    {
     "name": "stderr",
     "output_type": "stream",
     "text": [
      "Processing <PIL.Image.Image image mode=RGB size=700x700 at 0x2B7453C0128>: 100%|███| 1/1 [00:00<00:00,  4.47 Samples/s]\n",
      "Processing <PIL.Image.Image image mode=RGB size=700x700 at 0x2B7453BA1D0>: 100%|███| 1/1 [00:00<00:00,  6.72 Samples/s]\n",
      "Executing Pipeline:   0%|                                                                  | 0/1 [00:00<?, ? Samples/s]"
     ]
    },
    {
     "name": "stdout",
     "output_type": "stream",
     "text": [
      "Initialised with 1 image(s) found.\n",
      "Output directory set to C:/Users/User/Desktop/Test/GeneratedData/TempFolderRename/.Initialised with 1 image(s) found.\n",
      "Output directory set to C:/Users/User/Desktop/Test/GeneratedData/TempFolderRename/."
     ]
    },
    {
     "name": "stderr",
     "output_type": "stream",
     "text": [
      "Processing <PIL.Image.Image image mode=RGB size=700x700 at 0x2B7453BA278>: 100%|███| 1/1 [00:00<00:00,  5.27 Samples/s]\n",
      "Processing <PIL.Image.Image image mode=RGB size=700x700 at 0x2B7453C2400>: 100%|███| 1/1 [00:00<00:00,  8.14 Samples/s]\n",
      "Executing Pipeline:   0%|                                                                  | 0/1 [00:00<?, ? Samples/s]"
     ]
    },
    {
     "name": "stdout",
     "output_type": "stream",
     "text": [
      "Initialised with 1 image(s) found.\n",
      "Output directory set to C:/Users/User/Desktop/Test/GeneratedData/TempFolderRename/.Initialised with 1 image(s) found.\n",
      "Output directory set to C:/Users/User/Desktop/Test/GeneratedData/TempFolderRename/."
     ]
    },
    {
     "name": "stderr",
     "output_type": "stream",
     "text": [
      "Processing <PIL.Image.Image image mode=RGB size=700x700 at 0x2B7453C2518>: 100%|███| 1/1 [00:00<00:00,  2.99 Samples/s]\n",
      "Processing <PIL.Image.Image image mode=RGB size=700x700 at 0x2B7453C25C0>: 100%|███| 1/1 [00:00<00:00,  7.94 Samples/s]\n",
      "Executing Pipeline:   0%|                                                                  | 0/1 [00:00<?, ? Samples/s]"
     ]
    },
    {
     "name": "stdout",
     "output_type": "stream",
     "text": [
      "Initialised with 1 image(s) found.\n",
      "Output directory set to C:/Users/User/Desktop/Test/GeneratedData/TempFolderRename/.Initialised with 1 image(s) found.\n",
      "Output directory set to C:/Users/User/Desktop/Test/GeneratedData/TempFolderRename/."
     ]
    },
    {
     "name": "stderr",
     "output_type": "stream",
     "text": [
      "Processing <PIL.Image.Image image mode=RGB size=700x700 at 0x2B7453C2748>: 100%|███| 1/1 [00:00<00:00,  8.21 Samples/s]\n",
      "Processing <PIL.Image.Image image mode=RGB size=700x700 at 0x2B7453C26D8>: 100%|███| 1/1 [00:00<00:00,  5.69 Samples/s]\n",
      "Executing Pipeline:   0%|                                                                  | 0/1 [00:00<?, ? Samples/s]"
     ]
    },
    {
     "name": "stdout",
     "output_type": "stream",
     "text": [
      "Initialised with 1 image(s) found.\n",
      "Output directory set to C:/Users/User/Desktop/Test/GeneratedData/TempFolderRename/.Initialised with 1 image(s) found.\n",
      "Output directory set to C:/Users/User/Desktop/Test/GeneratedData/TempFolderRename/."
     ]
    },
    {
     "name": "stderr",
     "output_type": "stream",
     "text": [
      "Processing <PIL.Image.Image image mode=RGB size=700x700 at 0x2B7453C2978>: 100%|███| 1/1 [00:00<00:00,  7.00 Samples/s]\n",
      "Executing Pipeline:   0%|                                                                  | 0/1 [00:00<?, ? Samples/s]"
     ]
    },
    {
     "name": "stdout",
     "output_type": "stream",
     "text": [
      "Initialised with 1 image(s) found.\n",
      "Output directory set to C:/Users/User/Desktop/Test/GeneratedData/TempFolderRename/."
     ]
    },
    {
     "name": "stderr",
     "output_type": "stream",
     "text": [
      "Processing <PIL.Image.Image image mode=RGB size=700x700 at 0x2B7453C2A20>: 100%|███| 1/1 [00:00<00:00,  4.61 Samples/s]\n",
      "Processing <PIL.Image.Image image mode=RGB size=700x700 at 0x2B7453C2BA8>: 100%|███| 1/1 [00:00<00:00,  6.18 Samples/s]\n",
      "Executing Pipeline:   0%|                                                                  | 0/1 [00:00<?, ? Samples/s]"
     ]
    },
    {
     "name": "stdout",
     "output_type": "stream",
     "text": [
      "Initialised with 1 image(s) found.\n",
      "Output directory set to C:/Users/User/Desktop/Test/GeneratedData/TempFolderRename/.Initialised with 1 image(s) found.\n",
      "Output directory set to C:/Users/User/Desktop/Test/GeneratedData/TempFolderRename/."
     ]
    },
    {
     "name": "stderr",
     "output_type": "stream",
     "text": [
      "Processing <PIL.Image.Image image mode=RGB size=700x700 at 0x2B7453C2CC0>: 100%|███| 1/1 [00:00<00:00,  2.73 Samples/s]\n",
      "Processing <PIL.Image.Image image mode=RGB size=700x700 at 0x2B7453C2D68>: 100%|███| 1/1 [00:00<00:00,  5.82 Samples/s]\n",
      "Executing Pipeline:   0%|                                                                  | 0/1 [00:00<?, ? Samples/s]"
     ]
    },
    {
     "name": "stdout",
     "output_type": "stream",
     "text": [
      "Initialised with 1 image(s) found.\n",
      "Output directory set to C:/Users/User/Desktop/Test/GeneratedData/TempFolderRename/.Initialised with 1 image(s) found.\n",
      "Output directory set to C:/Users/User/Desktop/Test/GeneratedData/TempFolderRename/."
     ]
    },
    {
     "name": "stderr",
     "output_type": "stream",
     "text": [
      "Processing <PIL.Image.Image image mode=RGB size=700x700 at 0x2B7453C2E80>: 100%|███| 1/1 [00:00<00:00,  4.84 Samples/s]\n",
      "Processing <PIL.Image.Image image mode=RGB size=700x700 at 0x2B7453C0048>: 100%|███| 1/1 [00:00<00:00,  5.27 Samples/s]"
     ]
    },
    {
     "name": "stdout",
     "output_type": "stream",
     "text": [
      "Initialised with 1 image(s) found.\n",
      "Output directory set to C:/Users/User/Desktop/Test/GeneratedData/TempFolderRename/.Initialised with 1 image(s) found.\n",
      "Output directory set to C:/Users/User/Desktop/Test/GeneratedData/TempFolderRename/."
     ]
    },
    {
     "name": "stderr",
     "output_type": "stream",
     "text": [
      "\n",
      "Processing <PIL.Image.Image image mode=RGB size=700x700 at 0x2B7453C00F0>: 100%|███| 1/1 [00:00<00:00,  5.13 Samples/s]\n",
      "Processing <PIL.Image.Image image mode=RGB size=700x700 at 0x2B7453C0278>: 100%|███| 1/1 [00:00<00:00,  7.75 Samples/s]\n",
      "Executing Pipeline:   0%|                                                                  | 0/1 [00:00<?, ? Samples/s]"
     ]
    },
    {
     "name": "stdout",
     "output_type": "stream",
     "text": [
      "Initialised with 1 image(s) found.\n",
      "Output directory set to C:/Users/User/Desktop/Test/GeneratedData/TempFolderRename/.Initialised with 1 image(s) found.\n",
      "Output directory set to C:/Users/User/Desktop/Test/GeneratedData/TempFolderRename/."
     ]
    },
    {
     "name": "stderr",
     "output_type": "stream",
     "text": [
      "Processing <PIL.Image.Image image mode=RGB size=700x700 at 0x2B7453C0390>: 100%|███| 1/1 [00:00<00:00,  1.83 Samples/s]\n",
      "Processing <PIL.Image.Image image mode=RGB size=700x700 at 0x2B7453C34A8>: 100%|███| 1/1 [00:00<00:00,  8.34 Samples/s]\n",
      "Executing Pipeline:   0%|                                                                  | 0/1 [00:00<?, ? Samples/s]"
     ]
    },
    {
     "name": "stdout",
     "output_type": "stream",
     "text": [
      "Initialised with 1 image(s) found.\n",
      "Output directory set to C:/Users/User/Desktop/Test/GeneratedData/TempFolderRename/.Initialised with 1 image(s) found.\n",
      "Output directory set to C:/Users/User/Desktop/Test/GeneratedData/TempFolderRename/."
     ]
    },
    {
     "name": "stderr",
     "output_type": "stream",
     "text": [
      "Processing <PIL.Image.Image image mode=RGB size=700x700 at 0x2B7453C3550>: 100%|███| 1/1 [00:00<00:00,  4.88 Samples/s]\n",
      "Processing <PIL.Image.Image image mode=RGB size=700x700 at 0x2B7453C3668>: 100%|███| 1/1 [00:00<00:00,  6.46 Samples/s]\n",
      "Executing Pipeline:   0%|                                                                  | 0/1 [00:00<?, ? Samples/s]"
     ]
    },
    {
     "name": "stdout",
     "output_type": "stream",
     "text": [
      "Initialised with 1 image(s) found.\n",
      "Output directory set to C:/Users/User/Desktop/Test/GeneratedData/TempFolderRename/.Initialised with 1 image(s) found.\n",
      "Output directory set to C:/Users/User/Desktop/Test/GeneratedData/TempFolderRename/."
     ]
    },
    {
     "name": "stderr",
     "output_type": "stream",
     "text": [
      "Processing <PIL.Image.Image image mode=RGB size=700x700 at 0x2B7453C3780>: 100%|███| 1/1 [00:00<00:00,  4.37 Samples/s]\n",
      "Executing Pipeline:   0%|                                                                  | 0/1 [00:00<?, ? Samples/s]"
     ]
    },
    {
     "name": "stdout",
     "output_type": "stream",
     "text": [
      "Initialised with 1 image(s) found.\n",
      "Output directory set to C:/Users/User/Desktop/Test/GeneratedData/TempFolderRename/."
     ]
    },
    {
     "name": "stderr",
     "output_type": "stream",
     "text": [
      "Processing <PIL.Image.Image image mode=RGB size=700x700 at 0x2B7453C33C8>: 100%|███| 1/1 [00:00<00:00,  2.74 Samples/s]\n",
      "Processing <PIL.Image.Image image mode=RGB size=700x700 at 0x2B7453C3A20>: 100%|███| 1/1 [00:00<00:00,  8.27 Samples/s]\n",
      "Executing Pipeline:   0%|                                                                  | 0/1 [00:00<?, ? Samples/s]"
     ]
    },
    {
     "name": "stdout",
     "output_type": "stream",
     "text": [
      "Initialised with 1 image(s) found.\n",
      "Output directory set to C:/Users/User/Desktop/Test/GeneratedData/TempFolderRename/.Initialised with 1 image(s) found.\n",
      "Output directory set to C:/Users/User/Desktop/Test/GeneratedData/TempFolderRename/."
     ]
    },
    {
     "name": "stderr",
     "output_type": "stream",
     "text": [
      "Processing <PIL.Image.Image image mode=RGB size=700x700 at 0x2B7453C3BA8>: 100%|███| 1/1 [00:00<00:00,  3.91 Samples/s]\n",
      "Processing <PIL.Image.Image image mode=RGB size=700x700 at 0x2B7453C3C50>: 100%|███| 1/1 [00:00<00:00,  8.07 Samples/s]\n",
      "Executing Pipeline:   0%|                                                                  | 0/1 [00:00<?, ? Samples/s]"
     ]
    },
    {
     "name": "stdout",
     "output_type": "stream",
     "text": [
      "Initialised with 1 image(s) found.\n",
      "Output directory set to C:/Users/User/Desktop/Test/GeneratedData/TempFolderRename/.Initialised with 1 image(s) found.\n",
      "Output directory set to C:/Users/User/Desktop/Test/GeneratedData/TempFolderRename/."
     ]
    },
    {
     "name": "stderr",
     "output_type": "stream",
     "text": [
      "Processing <PIL.Image.Image image mode=RGB size=700x700 at 0x2B7453C3D68>: 100%|███| 1/1 [00:00<00:00,  7.70 Samples/s]\n",
      "Processing <PIL.Image.Image image mode=RGB size=700x700 at 0x2B7453C3E10>: 100%|███| 1/1 [00:00<00:00,  7.20 Samples/s]\n",
      "Executing Pipeline:   0%|                                                                  | 0/1 [00:00<?, ? Samples/s]"
     ]
    },
    {
     "name": "stdout",
     "output_type": "stream",
     "text": [
      "Initialised with 1 image(s) found.\n",
      "Output directory set to C:/Users/User/Desktop/Test/GeneratedData/TempFolderRename/.Initialised with 1 image(s) found.\n",
      "Output directory set to C:/Users/User/Desktop/Test/GeneratedData/TempFolderRename/."
     ]
    },
    {
     "name": "stderr",
     "output_type": "stream",
     "text": [
      "Processing <PIL.Image.Image image mode=RGB size=700x700 at 0x2B7453C3CF8>: 100%|███| 1/1 [00:00<00:00, 13.71 Samples/s]\n",
      "Executing Pipeline:   0%|                                                                  | 0/1 [00:00<?, ? Samples/s]"
     ]
    },
    {
     "name": "stdout",
     "output_type": "stream",
     "text": [
      "Initialised with 1 image(s) found.\n",
      "Output directory set to C:/Users/User/Desktop/Test/GeneratedData/TempFolderRename/."
     ]
    },
    {
     "name": "stderr",
     "output_type": "stream",
     "text": [
      "Processing <PIL.Image.Image image mode=RGB size=700x700 at 0x2B7453D0080>: 100%|███| 1/1 [00:00<00:00,  3.04 Samples/s]\n",
      "Executing Pipeline:   0%|                                                                  | 0/1 [00:00<?, ? Samples/s]"
     ]
    },
    {
     "name": "stdout",
     "output_type": "stream",
     "text": [
      "Initialised with 1 image(s) found.\n",
      "Output directory set to C:/Users/User/Desktop/Test/GeneratedData/TempFolderRename/."
     ]
    },
    {
     "name": "stderr",
     "output_type": "stream",
     "text": [
      "Processing <PIL.Image.Image image mode=RGB size=700x700 at 0x2B7453D1208>: 100%|███| 1/1 [00:00<00:00,  4.61 Samples/s]\n",
      "Processing <PIL.Image.Image image mode=RGB size=700x700 at 0x2B7453D12B0>: 100%|███| 1/1 [00:00<00:00,  5.32 Samples/s]"
     ]
    },
    {
     "name": "stdout",
     "output_type": "stream",
     "text": [
      "Initialised with 1 image(s) found.\n",
      "Output directory set to C:/Users/User/Desktop/Test/GeneratedData/TempFolderRename/.Initialised with 1 image(s) found.\n",
      "Output directory set to C:/Users/User/Desktop/Test/GeneratedData/TempFolderRename/."
     ]
    },
    {
     "name": "stderr",
     "output_type": "stream",
     "text": [
      "\n",
      "Processing <PIL.Image.Image image mode=RGB size=700x700 at 0x2B7453D03C8>: 100%|███| 1/1 [00:00<00:00,  4.24 Samples/s]\n",
      "Processing <PIL.Image.Image image mode=RGB size=700x700 at 0x2B7453D0588>: 100%|███| 1/1 [00:00<00:00,  7.15 Samples/s]\n",
      "Executing Pipeline:   0%|                                                                  | 0/1 [00:00<?, ? Samples/s]"
     ]
    },
    {
     "name": "stdout",
     "output_type": "stream",
     "text": [
      "Initialised with 1 image(s) found.\n",
      "Output directory set to C:/Users/User/Desktop/Test/GeneratedData/TempFolderRename/.Initialised with 1 image(s) found.\n",
      "Output directory set to C:/Users/User/Desktop/Test/GeneratedData/TempFolderRename/."
     ]
    },
    {
     "name": "stderr",
     "output_type": "stream",
     "text": [
      "Processing <PIL.Image.Image image mode=RGB size=700x700 at 0x2B7453D04A8>: 100%|███| 1/1 [00:00<00:00,  2.39 Samples/s]\n",
      "Executing Pipeline:   0%|                                                                  | 0/1 [00:00<?, ? Samples/s]"
     ]
    },
    {
     "name": "stdout",
     "output_type": "stream",
     "text": [
      "Initialised with 1 image(s) found.\n",
      "Output directory set to C:/Users/User/Desktop/Test/GeneratedData/TempFolderRename/."
     ]
    },
    {
     "name": "stderr",
     "output_type": "stream",
     "text": [
      "Processing <PIL.Image.Image image mode=RGB size=700x700 at 0x2B7453D0390>: 100%|███| 1/1 [00:00<00:00,  3.46 Samples/s]\n",
      "Processing <PIL.Image.Image image mode=RGB size=700x700 at 0x2B7453D0898>: 100%|███| 1/1 [00:00<00:00,  6.54 Samples/s]\n",
      "Executing Pipeline:   0%|                                                                  | 0/1 [00:00<?, ? Samples/s]"
     ]
    },
    {
     "name": "stdout",
     "output_type": "stream",
     "text": [
      "Initialised with 1 image(s) found.\n",
      "Output directory set to C:/Users/User/Desktop/Test/GeneratedData/TempFolderRename/.Initialised with 1 image(s) found.\n",
      "Output directory set to C:/Users/User/Desktop/Test/GeneratedData/TempFolderRename/."
     ]
    },
    {
     "name": "stderr",
     "output_type": "stream",
     "text": [
      "Processing <PIL.Image.Image image mode=RGB size=700x700 at 0x2B7453D0940>: 100%|███| 1/1 [00:00<00:00,  5.72 Samples/s]\n",
      "Processing <PIL.Image.Image image mode=RGB size=700x700 at 0x2B7453D0A58>: 100%|███| 1/1 [00:00<00:00,  5.75 Samples/s]\n",
      "Executing Pipeline:   0%|                                                                  | 0/1 [00:00<?, ? Samples/s]"
     ]
    },
    {
     "name": "stdout",
     "output_type": "stream",
     "text": [
      "Initialised with 1 image(s) found.\n",
      "Output directory set to C:/Users/User/Desktop/Test/GeneratedData/TempFolderRename/.Initialised with 1 image(s) found.\n",
      "Output directory set to C:/Users/User/Desktop/Test/GeneratedData/TempFolderRename/."
     ]
    },
    {
     "name": "stderr",
     "output_type": "stream",
     "text": [
      "Processing <PIL.Image.Image image mode=RGB size=700x700 at 0x2B7453D0BE0>: 100%|███| 1/1 [00:00<00:00,  8.34 Samples/s]\n",
      "Executing Pipeline:   0%|                                                                  | 0/1 [00:00<?, ? Samples/s]"
     ]
    },
    {
     "name": "stdout",
     "output_type": "stream",
     "text": [
      "Initialised with 1 image(s) found.\n",
      "Output directory set to C:/Users/User/Desktop/Test/GeneratedData/TempFolderRename/."
     ]
    },
    {
     "name": "stderr",
     "output_type": "stream",
     "text": [
      "Processing <PIL.Image.Image image mode=RGB size=700x700 at 0x2B7453D0C88>: 100%|███| 1/1 [00:00<00:00,  4.51 Samples/s]\n",
      "Processing <PIL.Image.Image image mode=RGB size=700x700 at 0x2B7453D0DA0>: 100%|███| 1/1 [00:00<00:00,  5.53 Samples/s]\n",
      "Executing Pipeline:   0%|                                                                  | 0/1 [00:00<?, ? Samples/s]"
     ]
    },
    {
     "name": "stdout",
     "output_type": "stream",
     "text": [
      "Initialised with 1 image(s) found.\n",
      "Output directory set to C:/Users/User/Desktop/Test/GeneratedData/TempFolderRename/.Initialised with 1 image(s) found.\n",
      "Output directory set to C:/Users/User/Desktop/Test/GeneratedData/TempFolderRename/."
     ]
    },
    {
     "name": "stderr",
     "output_type": "stream",
     "text": [
      "Processing <PIL.Image.Image image mode=RGB size=700x700 at 0x2B7453D0F28>: 100%|███| 1/1 [00:00<00:00,  8.41 Samples/s]\n",
      "Processing <PIL.Image.Image image mode=RGB size=700x700 at 0x2B7453DC080>: 100%|███| 1/1 [00:00<00:00,  5.72 Samples/s]\n"
     ]
    },
    {
     "name": "stdout",
     "output_type": "stream",
     "text": [
      "Initialised with 1 image(s) found.\n",
      "Output directory set to C:/Users/User/Desktop/Test/GeneratedData/TempFolderRename/."
     ]
    }
   ],
   "source": [
    "if __name__ == \"__main__\":\n",
    "    obj = GenerateCharacter('C:/Users/User/Desktop/Test', ['0-2','A-F','-','/','.',':','a-f'], ['C:/Windows/Fonts/arial.ttf'], 100, 150)  # ['C:/Windows/Fonts/MTCORSVA.TTF','C:/Windows/Fonts/Arial/arial.ttf', 'C:/Windows/Fonts/DotsAllForNow.ttf']\n",
    "    obj1 = Augmentation(obj._initalImages_path, obj._distortedImages_path, obj._tempFolderDistortion_path, obj._tempFolderRename_path, obj._path, 'BMP',10)\n",
    "    obj1.generate_distorted_images()\n",
    "#     obj2 = Augmentation(obj._initalImages_path, 'Juhu', obj._tempFolderDistortion_path, obj._tempFolderRename_path, obj._path, 'BMP', 5)\n",
    "#     obj2.generate_distorted_images()    \n",
    "#     obj2 = OwnDistortion(obj._distortedImages_path, 'Juhu', obj._tempFolderDistortion_path, obj._tempFolderRename_path, obj._path, 'BMP', 5)\n",
    "#     obj2.generate_distorted_images()\n",
    "    obj2 = Tailor(obj1._distortedImages_path, obj._tailoredImages_path, 127)\n",
    "    obj2.tailor()\n",
    "#     obj4 = OwnDistortion(obj3._tailoredImages_path, 'Juhu123', obj._tempFolderDistortion_path, obj._tempFolderRename_path, obj._path, 'BMP', 5)\n",
    "#     obj4.generate_distorted_images() \n",
    "\n",
    "\n",
    "### alles unterhalb wieder einkommentieren ###\n",
    "#     obj3 = Place(obj._tailoredImages_path, obj._xml_Files_path, obj._segmentedImages_path, 512, 3, 0.05)\n",
    "# #     obj3.resize('A-F','1/2',80,120,40,60)\n",
    "#     obj3.resize('A','1/1',25,35,15,22)\n",
    "#     obj3.color_hsv('0','1/1',50,80,80,0,0,0)\n",
    "#     obj3.color_hsv('1','1/1',110,80,80,0,0,0)\n",
    "#     obj3.color_hsv('2','1/1',200,80,80,0,0,0)\n",
    "#     obj3.color_hsv('A-D','1/1',240,80,80,0,0,0)\n",
    "#     obj3.rdm()\n",
    "#     obj4 = GenerateBackgroundImages('C:/Users/User/Desktop/Test/PossibleBackgrounds/test_background_images',obj._backgroundImages_path,512,'bmp')\n",
    "#     obj4.add_noise()"
   ]
  },
  {
   "cell_type": "code",
   "execution_count": null,
   "metadata": {},
   "outputs": [],
   "source": []
  },
  {
   "cell_type": "code",
   "execution_count": null,
   "metadata": {},
   "outputs": [],
   "source": []
  },
  {
   "cell_type": "code",
   "execution_count": null,
   "metadata": {},
   "outputs": [],
   "source": []
  }
 ],
 "metadata": {
  "kernelspec": {
   "display_name": "Python 3",
   "language": "python",
   "name": "python3"
  },
  "language_info": {
   "codemirror_mode": {
    "name": "ipython",
    "version": 3
   },
   "file_extension": ".py",
   "mimetype": "text/x-python",
   "name": "python",
   "nbconvert_exporter": "python",
   "pygments_lexer": "ipython3",
   "version": "3.6.4"
  }
 },
 "nbformat": 4,
 "nbformat_minor": 2
}
