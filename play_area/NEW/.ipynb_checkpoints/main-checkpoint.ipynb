{
 "cells": [
  {
   "cell_type": "code",
   "execution_count": 3,
   "metadata": {},
   "outputs": [
    {
     "ename": "ImportError",
     "evalue": "cannot import name 'Place'",
     "output_type": "error",
     "traceback": [
      "\u001b[1;31m---------------------------------------------------------------------------\u001b[0m",
      "\u001b[1;31mImportError\u001b[0m                               Traceback (most recent call last)",
      "\u001b[1;32m<ipython-input-3-0562b91cd771>\u001b[0m in \u001b[0;36m<module>\u001b[1;34m()\u001b[0m\n\u001b[0;32m      6\u001b[0m \u001b[1;32mimport\u001b[0m \u001b[0mAugmentor\u001b[0m \u001b[1;32mas\u001b[0m \u001b[0mAug\u001b[0m\u001b[1;33m\u001b[0m\u001b[0m\n\u001b[0;32m      7\u001b[0m \u001b[1;32mfrom\u001b[0m \u001b[0mtailor\u001b[0m \u001b[1;32mimport\u001b[0m \u001b[0mTailor\u001b[0m\u001b[1;33m\u001b[0m\u001b[0m\n\u001b[1;32m----> 8\u001b[1;33m \u001b[1;32mfrom\u001b[0m \u001b[0mplace\u001b[0m \u001b[1;32mimport\u001b[0m \u001b[0mPlace\u001b[0m\u001b[1;33m\u001b[0m\u001b[0m\n\u001b[0m\u001b[0;32m      9\u001b[0m \u001b[1;32mimport\u001b[0m \u001b[0mnumpy\u001b[0m \u001b[1;32mas\u001b[0m \u001b[0mnp\u001b[0m\u001b[1;33m\u001b[0m\u001b[0m\n",
      "\u001b[1;31mImportError\u001b[0m: cannot import name 'Place'"
     ]
    }
   ],
   "source": [
    "import import_ipynb \n",
    "import os\n",
    "from generateFolderStructur import GenerateFolderStructur\n",
    "from generateCharacter import GenerateCharacter\n",
    "from augmentation import Augmentation\n",
    "import Augmentor as Aug\n",
    "from tailor import Tailor\n",
    "from place import Place\n",
    "import numpy as np"
   ]
  },
  {
   "cell_type": "code",
   "execution_count": null,
   "metadata": {},
   "outputs": [],
   "source": [
    "## Eigene Distortion function ###\n",
    "## Es muss Augmentation durch OwnDistortion ersetzt werden ###\n",
    "class OwnDistortion(Augmentation):\n",
    "    \n",
    "    def __init__(self, initalImages, distortedImages, tmp_distortion, tmp_rename,  root_path, save_format, number_images):\n",
    "        \n",
    "        Augmentation.__init__(self, initalImages, distortedImages, tmp_distortion, tmp_rename, root_path, save_format, number_images)\n",
    "            \n",
    "    def distortion(self, input_path, output_path, save_format):   \n",
    "            p = Aug.Pipeline(input_path, output_path, save_format)\n",
    "            \n",
    "            # Write here your distortion function \n",
    "            ###########################################\n",
    "            \n",
    "            rd_grid_with = np.random.randint(2,10) # rdgw 2-10\n",
    "            rd_grid_hight = np.random.randint(2,10) # rdgh 2-10\n",
    "            rd_magnitude = np.random.randint(10,20) # 1-10\n",
    "            p.random_distortion(probability=1, grid_width=rd_grid_with, grid_height=rd_grid_hight, magnitude=rd_magnitude)\n",
    "            \n",
    "            \n",
    "            \n",
    "            ############################################\n",
    "            # End of your distortion function\n",
    "            \n",
    "            p.sample(1)  "
   ]
  },
  {
   "cell_type": "code",
   "execution_count": 3,
   "metadata": {},
   "outputs": [],
   "source": [
    "# path, dirs, files = next(os.walk('C:/Users/User/Desktop/Test/Fonts/FirstTest'))\n",
    "# for i in range(len(files)):\n",
    "#     files[i] = 'C:/Users/User/Desktop/Test/Fonts/FirstTest/' + files[i]        "
   ]
  },
  {
   "cell_type": "code",
   "execution_count": 4,
   "metadata": {},
   "outputs": [],
   "source": [
    "if __name__ == \"__main__\":\n",
    "    obj = GenerateCharacter('C:/Users/User/Desktop/Test', ['A-G','0-9',':','-','/','.','a-h'], ['C:/Windows/Fonts/ARIALNI.TTF'], 70, 150)  # ['C:/Windows/Fonts/MTCORSVA.TTF','C:/Windows/Fonts/Arial/arial.ttf', 'C:/Windows/Fonts/DotsAllForNow.ttf']\n",
    "    obj1 = Augmentation(obj._initalImages_path, obj._distortedImages_path, obj._tempFolderDistortion_path, obj._tempFolderRename_path, obj._path, 'BMP', 1)\n",
    "    obj1.generate_distorted_images()\n",
    "#     obj2 = Augmentation(obj._initalImages_path, 'Juhu', obj._tempFolderDistortion_path, obj._tempFolderRename_path, obj._path, 'BMP', 5)\n",
    "#     obj2.generate_distorted_images()    \n",
    "#     obj2 = OwnDistortion(obj._distortedImages_path, 'Juhu', obj._tempFolderDistortion_path, obj._tempFolderRename_path, obj._path, 'BMP', 5)\n",
    "#     obj2.generate_distorted_images()\n",
    "     obj2 = Tailor(obj1._distortedImages_path, obj._tailoredImages_path, 127)\n",
    "     obj2.tailor()\n",
    "#     obj4 = OwnDistortion(obj3._tailoredImages_path, 'Juhu123', obj._tempFolderDistortion_path, obj._tempFolderRename_path, obj._path, 'BMP', 5)\n",
    "#     obj4.generate_distorted_images() \n",
    "#### obj3 = Place(obj._tailoredImages_path, obj._xml_Files_path, obj._segmentedImages_path, 512, 3, 0.05)\n",
    "#### obj3.rdm()"
   ]
  },
  {
   "cell_type": "code",
   "execution_count": 7,
   "metadata": {},
   "outputs": [],
   "source": []
  },
  {
   "cell_type": "code",
   "execution_count": null,
   "metadata": {},
   "outputs": [],
   "source": []
  }
 ],
 "metadata": {
  "kernelspec": {
   "display_name": "Python 3",
   "language": "python",
   "name": "python3"
  },
  "language_info": {
   "codemirror_mode": {
    "name": "ipython",
    "version": 3
   },
   "file_extension": ".py",
   "mimetype": "text/x-python",
   "name": "python",
   "nbconvert_exporter": "python",
   "pygments_lexer": "ipython3",
   "version": "3.6.4"
  }
 },
 "nbformat": 4,
 "nbformat_minor": 2
}
