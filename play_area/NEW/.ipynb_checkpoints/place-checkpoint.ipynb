{
 "cells": [
  {
   "cell_type": "code",
   "execution_count": 6,
   "metadata": {},
   "outputs": [],
   "source": [
    "import numpy as np\n",
    "import os\n",
    "import xml.dom.minidom\n",
    "import xml.etree.cElementTree as ET\n",
    "import copy\n",
    "from PIL import Image\n",
    "from datetime import datetime\n",
    "import time"
   ]
  },
  {
   "cell_type": "code",
   "execution_count": 129,
   "metadata": {},
   "outputs": [],
   "source": [
    "class Place():\n",
    "    place_counter = -1\n",
    "    \"\"\"\n",
    "    Eingangsdaten:\n",
    "    Klassenpfad, Ausgangsbildgrösse in px, Anzahl Bilder Channel\n",
    "    \n",
    "    Konstruktor genieriert ein dictonary, welches wie folgt aussieht:\n",
    "    \n",
    "    {Pfad_Klassen:{Klassenname_1:{0:Bildname_1, 1:Bildname1}}\n",
    "                 :{Klassenname_2:{0:Bildname_1, 1:Bildname2}}\n",
    "    }\n",
    "    \n",
    "    2 Varianten wie die einzelen Zeichen platziert werden können:\n",
    "    \n",
    "    1. rdm Verteilung\n",
    "    2. ....\n",
    "    \n",
    "    \"\"\"\n",
    "    \n",
    "    def __init__(self, path, xml_path, segemented_image_path, size, depth, iou_threshold):\n",
    "        self._path = path\n",
    "        self._xml_path = xml_path\n",
    "        self._segemented_image_path = segemented_image_path\n",
    "        self._size = size\n",
    "        self._depth= depth\n",
    "        self._iou_threshold = iou_threshold\n",
    "        self._dictonary = {'path':{'folder_name':{0:'image_name'}}}\n",
    "        self._segmented_image = np.zeros((self._size, self._size, self._depth))\n",
    "        self._bounding_boxes = np.array([0,0,0,0])\n",
    "        self._body_name = ''\n",
    "        self._date_time = ''\n",
    "        self._placed_image_path = ''\n",
    "        self._x_rdm_min = 0\n",
    "        self._y_rdm_min = 0\n",
    "        self._x_rdm_max = 0\n",
    "        self._y_rdm_max = 0\n",
    "        self._dict_folders = ''\n",
    "        self._number_dict_folders = 0\n",
    "        self._number_dict_images = 0\n",
    "        self._rdm_image = 0\n",
    "        self._filename = ''\n",
    "        \n",
    "        path_1, dirs_1, files_1 = next(os.walk(self._path))\n",
    "        self._dictonary = {path_1:{}}\n",
    "        for folder in dirs_1:\n",
    "            self._dictonary[path_1][folder] = {}\n",
    "#             print(folder)\n",
    "            path_2, dirs_2, files_2 = next(os.walk(path_1 + folder))\n",
    "            for i, files in zip(range(len(files_2)), files_2):\n",
    "                self._dictonary[path_1][folder][i] = {files}\n",
    "#                 print(files) \n",
    "\n",
    "\n",
    "    def get_head(self):\n",
    "        print('get_head')\n",
    "        now = datetime.now()\n",
    "        self._date_time = now.strftime(\"%Y%m%d_%H%M%S\")\n",
    "        slice_position_r = self._placed_image_path.rfind('/')\n",
    "        slice_position_l = self._placed_image_path[:slice_position_r].rfind('/')\n",
    "        self._filename = self._date_time + self._filename\n",
    "        folder = self._placed_image_path[slice_position_l+1:slice_position_r]\n",
    "        \n",
    "        string_head =   '<annotation>'\\\n",
    "                        '<folder>'+str(folder)+'</folder>'\\\n",
    "                        '<filename>'+str(self._filename)+'</filename>'\\\n",
    "                        '<path>'+str(self._placed_image_path)+'</path>'\\\n",
    "                        '<source>'\\\n",
    "                        '<database>Unknown</database>'\\\n",
    "                        '</source>'\\\n",
    "                        '<size>'\\\n",
    "                            '<width>'+str(self._size)+'</width>'\\\n",
    "                            '<height>'+str(self._size)+'</height>'\\\n",
    "                            '<depth>'+str(self._depth)+'</depth>'\\\n",
    "                        '</size>'\\\n",
    "                        '<segmented>0</segmented>'\\\n",
    "                        '</annotation>'\n",
    "        return string_head\n",
    "\n",
    "    \n",
    "    def get_body(self,image_name,xmin,ymin,xmax,ymax):\n",
    "        print('get_body')\n",
    "        tmp_slice_r = self._placed_image_path.rfind('_tailored')\n",
    "        tmp_slice_l = self._placed_image_path[:tmp_slice_r].rfind('_')\n",
    "        self._filename = self._filename + '_' + self._placed_image_path[tmp_slice_l+1:tmp_slice_r]\n",
    "        slice_position = image_name.find('_')\n",
    "        name = image_name[slice_position-1:slice_position]\n",
    "        string_object = '<object>'\\\n",
    "                        '<name>'+str(name)+'</name>'\\\n",
    "                        '<pose>Unspecified</pose>'\\\n",
    "                        '<truncated>0</truncated>'\\\n",
    "                        '<difficult>0</difficult>'\\\n",
    "                        '<bndbox>'\\\n",
    "                            '<xmin>'+str(xmin)+'</xmin>'\\\n",
    "                            '<ymin>'+str(ymin)+'</ymin>'\\\n",
    "                            '<xmax>'+str(xmax)+'</xmax>'\\\n",
    "                            '<ymax>'+str(ymax)+'</ymax>'\\\n",
    "                            '</bndbox>'\\\n",
    "                        '</object>'\n",
    "        return string_object\n",
    "\n",
    "    \n",
    "    def iou_check(self):\n",
    "        print('iou_check')\n",
    "        if np.count_nonzero(self._segmented_image) == 0:\n",
    "            self._bounding_boxes[0] = self._x_rdm_max\n",
    "            self._bounding_boxes[1] = self._y_rdm_max\n",
    "            self._bounding_boxes[2] = self._x_rdm_min\n",
    "            self._bounding_boxes[3] = self._y_rdm_min\n",
    "            tmp_counter = 0\n",
    "            result = True\n",
    "        else:\n",
    "            bounding_box = np.array([0,0,0,0])\n",
    "            bounding_box[0] = self._x_rdm_max\n",
    "            bounding_box[1] = self._y_rdm_max\n",
    "            bounding_box[2] = self._x_rdm_min\n",
    "            bounding_box[3] = self._y_rdm_min\n",
    "            length = int(len(self._bounding_boxes)/4)\n",
    "            \n",
    "            tmp_iou = np.array([])\n",
    "            \n",
    "            for i in range(length):\n",
    "                tmp_start = 0+(4*i)\n",
    "                tmp_end = 3+(4*i)\n",
    "                \n",
    "                print(tmp_start,tmp_end)\n",
    "                tmp_bounding_boxes = self._bounding_boxes[tmp_start:tmp_end+1]\n",
    "                tmp_iou[i] = self.bb_intersection_over_union(bounding_box, tmp_bounding_boxes)\n",
    "                #########################################################################\n",
    "                ############\n",
    "                ##############################\n",
    "                ######################\n",
    "            if iou <= self._iou_threshold:\n",
    "                np.append(self._bounding_boxes,bounding_box)\n",
    "                print('bounding: ',self._bounding_boxes)\n",
    "                tmp_counter = 0\n",
    "                result = True\n",
    "            else:\n",
    "                if tmp_counter == 3:\n",
    "                    result = False\n",
    "                else:\n",
    "                    tmp_counter += 1\n",
    "                    self.place(self)         \n",
    "        return result\n",
    "    \n",
    "    \n",
    "    def place(self):\n",
    "        print('place')\n",
    "        with Image.open(self._placed_image_path) as image:\n",
    "            img = np.array(image)\n",
    "            y,x,z = img.shape\n",
    "#             print(y,x,z)\n",
    "  \n",
    "            x_max = self._size - x - 5\n",
    "            y_max = self._size - y - 5\n",
    "            self._x_rdm_min = np.random.randint(5,x_max)\n",
    "            self._y_rdm_min = np.random.randint(5,y_max)\n",
    "            self._x_rdm_max = self._x_rdm_min + x\n",
    "            self._y_rdm_max = self._y_rdm_min + y\n",
    "            result = self.iou_check()\n",
    "            \n",
    "            \n",
    "            if result == True:\n",
    "                self._segmented_image[self._y_rdm_min:self._y_rdm_max,self._x_rdm_min:self._x_rdm_max,:] = self._segmented_image[self._y_rdm_min:self._y_rdm_max,self._x_rdm_min:self._x_rdm_max,:] + img\n",
    "                return True   \n",
    "            else: \n",
    "                Place.place_counter += 1 \n",
    "                return False\n",
    "        \n",
    "        \n",
    "    def create_xml_segmented_image(self, string):\n",
    "        print('create_xml_segmented_image')\n",
    "        dom = xml.dom.minidom.parseString(string)\n",
    "        pretty_xml_as_string_body = dom.toprettyxml()\n",
    "        pretty_xml_as_string_body_without_version = pretty_xml_as_string_body[23:]\n",
    "        filepath = self._xml_path + '/' + self._filename + '.xml'\n",
    "        with open(filepath, 'w+') as file:\n",
    "            file.write(pretty_xml_as_string_body_without_version)\n",
    "            \n",
    "        \n",
    "        img_uint8 = Image.fromarray(np.uint8(self._segmented_image))\n",
    "        img_uint8.save(self._segemented_image_path +'/'+self._filename+'.bmp')\n",
    "        self._segmented_image = np.zeros((self._size, self._size, self._depth))\n",
    "        self._filename = ''\n",
    "            \n",
    "        \n",
    "    def create_xml_body(self,):\n",
    "        print('create_xml_body')\n",
    "        slice_position = self._placed_image_path.find('_')\n",
    "        object_name = self._placed_image_path[:slice_position]\n",
    "        xml_name_tmp = self.get_body(self._placed_image_path,self._x_rdm_min-1,self._y_rdm_min-1,self._x_rdm_max+1,self._y_rdm_max+1)\n",
    "        self._body_name = self._body_name + xml_name_tmp\n",
    "#         print(self._body_name)\n",
    "              \n",
    "    def create_xml(self):\n",
    "        print('create_xml')\n",
    "#         name = str(Place.placeIt_counter) + \n",
    "#         print(xml_head)\n",
    "        if Place.place_counter == 3:\n",
    "            xml_head = self.get_head()\n",
    "            slice_position = xml_head.find('</annotation>')\n",
    "            complete_xml = xml_head[:slice_position] + self._body_name + xml_head[slice_position:]\n",
    "    #         print(complete_xml)\n",
    "\n",
    "            self.create_xml_segmented_image(complete_xml)\n",
    "            self._body_name = ''     \n",
    "        else:\n",
    "            self.rdm()\n",
    "    \n",
    "    def delete_dict(self): \n",
    "        print('delete')\n",
    "        del self._dictonary[self._path][self._dict_folders][self._rdm_image]\n",
    "        if len(list(self._dictonary[self._path][self._dict_folders]))== 0:\n",
    "            del self._dictonary[self._path][self._dict_folders]\n",
    "        elif len(list(self._dictonary[self._path])) == 0:\n",
    "            return True\n",
    "        else:\n",
    "            return False\n",
    "    \n",
    "    def rdm(self):\n",
    "        time.sleep(1)\n",
    "        print('rdm')\n",
    "        ### Zufälliger Ordner von Zeichen z.B. A oder B ###\n",
    "        self._dict_folders = list(self._dictonary[self._path].keys())\n",
    "        self._number_dict_folders = len(self._dict_folders)\n",
    "        \n",
    "        if self._number_dict_folders != 0:\n",
    "            rdm_folder = np.random.randint(self._number_dict_folders)\n",
    "            self._dict_folders = self._dict_folders[rdm_folder]\n",
    "            \n",
    "            ### Zufälliges Bild von oben bestimmten Zeichen ###\n",
    "            dict_images = list(self._dictonary[self._path][self._dict_folders].keys())\n",
    "#             print('dict_images: ',dict_images)\n",
    "            self._number_dict_images = len(dict_images)\n",
    "            rdm_element = np.random.randint(self._number_dict_images)\n",
    "            self._rdm_image = dict_images[rdm_element]\n",
    "            dict_image_name = str(self._dictonary[self._path][self._dict_folders][self._rdm_image])\n",
    "\n",
    "            r_tmp = dict_image_name.find('}')\n",
    "            dict_image_name = dict_image_name[2:r_tmp-1]\n",
    "    #         print(dict_image)\n",
    "\n",
    "            ### Bild Pfad des Zeichens ###\n",
    "            self._placed_image_path = self._path + self._dict_folders + '/' +  dict_image_name\n",
    "            Place.place_counter +=1\n",
    "\n",
    "            placed = self.place()\n",
    "    #         print(self._segmented_image, x_rdm_min,y_rdm_min,x_rdm_max,y_rdm_max, placed)\n",
    "\n",
    "            if placed == True:\n",
    "                self.create_xml_body()    \n",
    "                finish = self.delete_dict()\n",
    "                if finish == True:\n",
    "                    print('finish')\n",
    "                else:\n",
    "                    self.create_xml()\n",
    "                    self.rdm()\n",
    "    \n",
    "    \n",
    "    def bb_intersection_over_union(self, boxA, boxB):\n",
    "        print('bb_intersection_over_union')\n",
    "        print('xA: ',boxA)\n",
    "        print('xB: ',boxB)\n",
    "        xA = max(boxA[0], boxB[0])\n",
    "        yA = max(boxA[1], boxB[1])\n",
    "        xB = min(boxA[2], boxB[2])\n",
    "        yB = min(boxA[3], boxB[3])\n",
    "        \n",
    "        # compute the area of intersection rectangle\n",
    "        interArea = max(0, xB - xA + 1) * max(0, yB - yA + 1)\n",
    "        # compute the area of both the prediction and ground-truth\n",
    "        # rectangles\n",
    "        boxAArea = (boxA[2] - boxA[0] + 1) * (boxA[3] - boxA[1] + 1)\n",
    "        boxBArea = (boxB[2] - boxB[0] + 1) * (boxB[3] - boxB[1] + 1)\n",
    "        # compute the intersection over union by taking the intersection\n",
    "        # area and dividing it by the sum of prediction + ground-truth\n",
    "        # areas - the interesection area\n",
    "        iou = interArea / float(boxAArea + boxBArea - interArea)\n",
    "        # return the intersection over union value\n",
    "        print('iou: ', iou)\n",
    "        return iou    \n",
    "    \n",
    "        \n",
    "        \n",
    "#     def create_xml(self):    \n",
    "#     def segmented_image(self):"
   ]
  },
  {
   "cell_type": "code",
   "execution_count": 130,
   "metadata": {},
   "outputs": [],
   "source": [
    "obj33 = Place('C:/Users/User/Desktop/Test/GeneratedData/TailoredImages/','C:/Users/User/Desktop/Test/GeneratedData/XML_Files/','C:/Users/User/Desktop/Test/GeneratedData/SegmentedImages',512,3,0)"
   ]
  },
  {
   "cell_type": "code",
   "execution_count": 131,
   "metadata": {
    "scrolled": true
   },
   "outputs": [
    {
     "name": "stdout",
     "output_type": "stream",
     "text": [
      "rdm\n",
      "place\n",
      "iou_check\n",
      "create_xml_body\n",
      "get_body\n",
      "delete\n",
      "create_xml\n",
      "rdm\n",
      "place\n",
      "iou_check\n",
      "length:  1\n",
      "0 3\n",
      "bb_intersection_over_union\n",
      "xA:  [106 476  28 389]\n",
      "xB:  [458 331 402 257]\n",
      "iou:  0.0\n",
      "bounding:  [458 331 402 257]\n",
      "create_xml_body\n",
      "get_body\n",
      "delete\n",
      "create_xml\n",
      "rdm\n",
      "place\n",
      "iou_check\n",
      "length:  1\n",
      "0 3\n",
      "bb_intersection_over_union\n",
      "xA:  [112 435  52 382]\n",
      "xB:  [458 331 402 257]\n",
      "iou:  0.0\n",
      "bounding:  [458 331 402 257]\n",
      "create_xml_body\n",
      "get_body\n",
      "delete\n",
      "create_xml\n",
      "rdm\n",
      "place\n",
      "iou_check\n",
      "length:  1\n",
      "0 3\n",
      "bb_intersection_over_union\n",
      "xA:  [192 196  35  44]\n",
      "xB:  [458 331 402 257]\n",
      "iou:  0.0\n",
      "bounding:  [458 331 402 257]\n",
      "create_xml_body\n",
      "get_body\n",
      "delete\n",
      "create_xml\n",
      "get_head\n",
      "create_xml_segmented_image\n",
      "rdm\n",
      "place\n",
      "iou_check\n",
      "create_xml_body\n",
      "get_body\n",
      "delete\n",
      "create_xml\n",
      "rdm\n",
      "place\n",
      "iou_check\n",
      "length:  1\n",
      "0 3\n",
      "bb_intersection_over_union\n",
      "xA:  [487 317 394 165]\n",
      "xB:  [505 287 415 191]\n",
      "iou:  0.0\n",
      "bounding:  [505 287 415 191]\n",
      "create_xml_body\n",
      "get_body\n",
      "delete\n",
      "create_xml\n",
      "rdm\n",
      "rdm\n",
      "rdm\n",
      "rdm\n",
      "rdm\n",
      "rdm\n"
     ]
    }
   ],
   "source": [
    "obj33.rdm()"
   ]
  },
  {
   "cell_type": "code",
   "execution_count": null,
   "metadata": {},
   "outputs": [],
   "source": [
    "np.append(self._bounding_boxes,bounding_box)"
   ]
  },
  {
   "cell_type": "code",
   "execution_count": 135,
   "metadata": {},
   "outputs": [
    {
     "name": "stdout",
     "output_type": "stream",
     "text": [
      "4.0\n"
     ]
    }
   ],
   "source": [
    "a = np.array([])\n",
    "b = np.array([4,5,6,7])\n",
    "c = np.append(a,b)\n",
    "print(c[0])"
   ]
  },
  {
   "cell_type": "code",
   "execution_count": 101,
   "metadata": {},
   "outputs": [
    {
     "name": "stdout",
     "output_type": "stream",
     "text": [
      "[[[0. 0. 0.]\n",
      "  [0. 0. 0.]\n",
      "  [0. 0. 0.]\n",
      "  ...\n",
      "  [0. 0. 0.]\n",
      "  [0. 0. 0.]\n",
      "  [0. 0. 0.]]\n",
      "\n",
      " [[0. 0. 0.]\n",
      "  [0. 0. 0.]\n",
      "  [0. 0. 0.]\n",
      "  ...\n",
      "  [0. 0. 0.]\n",
      "  [0. 0. 0.]\n",
      "  [0. 0. 0.]]\n",
      "\n",
      " [[0. 0. 0.]\n",
      "  [0. 0. 0.]\n",
      "  [0. 0. 0.]\n",
      "  ...\n",
      "  [0. 0. 0.]\n",
      "  [0. 0. 0.]\n",
      "  [0. 0. 0.]]\n",
      "\n",
      " ...\n",
      "\n",
      " [[0. 0. 0.]\n",
      "  [0. 0. 0.]\n",
      "  [0. 0. 0.]\n",
      "  ...\n",
      "  [0. 0. 0.]\n",
      "  [0. 0. 0.]\n",
      "  [0. 0. 0.]]\n",
      "\n",
      " [[0. 0. 0.]\n",
      "  [0. 0. 0.]\n",
      "  [0. 0. 0.]\n",
      "  ...\n",
      "  [0. 0. 0.]\n",
      "  [0. 0. 0.]\n",
      "  [0. 0. 0.]]\n",
      "\n",
      " [[0. 0. 0.]\n",
      "  [0. 0. 0.]\n",
      "  [0. 0. 0.]\n",
      "  ...\n",
      "  [0. 0. 0.]\n",
      "  [0. 0. 0.]\n",
      "  [0. 0. 0.]]]\n"
     ]
    }
   ],
   "source": [
    "print(obj33._segmented_image)"
   ]
  },
  {
   "cell_type": "code",
   "execution_count": 66,
   "metadata": {},
   "outputs": [
    {
     "name": "stdout",
     "output_type": "stream",
     "text": [
      "0\n",
      "_5_3\n",
      "{'C:/Users/User/Desktop/Test/GeneratedData/TailoredImages/': {}}\n"
     ]
    }
   ],
   "source": [
    "print(obj33._rdm_image)\n",
    "print(obj33._filename)\n",
    "# print(obj33._dictonary[obj33._path][obj33._dict_folders][obj33._rdm_image])\n",
    "print(obj33._dictonary)\n",
    "# dict_image_name = str(obj33._dictonary[obj33._path][obj33._dict_folders][obj33._rdm_image])"
   ]
  },
  {
   "cell_type": "code",
   "execution_count": 39,
   "metadata": {},
   "outputs": [
    {
     "name": "stdout",
     "output_type": "stream",
     "text": [
      "{'C': {'a': {0: {'hallo'}}, 'b': {0: {'hallo1'}}}}\n",
      "{'C': {'a': {}, 'b': {0: {'hallo1'}}}}\n",
      "0\n",
      "{'C': {'b': {0: {'hallo1'}}}}\n",
      "{'C': {}}\n",
      "0\n"
     ]
    }
   ],
   "source": [
    "dicti = {'C':{'a':{0:{'hallo'}},'b':{0:{'hallo1'}}}}\n",
    "print(dicti)\n",
    "print(len(dicti[]))\n",
    "# del dicti['C']['a'][0]\n",
    "# print(dicti)\n",
    "# print(len(list(dicti['C']['a'])))\n",
    "# del dicti['C']['a']\n",
    "# print(dicti)\n",
    "# del dicti['C']['b']\n",
    "# print(dicti)\n",
    "# print(len(dicti['C']))"
   ]
  },
  {
   "cell_type": "code",
   "execution_count": 27,
   "metadata": {},
   "outputs": [
    {
     "name": "stdout",
     "output_type": "stream",
     "text": [
      "{'C:/Users/User/Desktop/Test/GeneratedData/TailoredImages/': {'A_upperCase': {}, 'B_upperCase': {0: {'B_upperCase_arial_3_tailored.BMP'}, 1: {'B_upperCase_DotsAllForNow_4_tailored.BMP'}, 2: {'B_upperCase_MTCORSVA_5_tailored.BMP'}}}}\n"
     ]
    }
   ],
   "source": [
    "# print(obj33._dictonary['C:/Users/User/Desktop/Test/GeneratedData/TailoredImages/']['A_upperCase'][2])\n",
    "# del obj33._dictonary['C:/Users/User/Desktop/Test/GeneratedData/TailoredImages/']['A_upperCase'][2]\n",
    "print(obj33._dictonary)"
   ]
  },
  {
   "cell_type": "code",
   "execution_count": 80,
   "metadata": {},
   "outputs": [
    {
     "name": "stdout",
     "output_type": "stream",
     "text": [
      "3\n"
     ]
    }
   ],
   "source": [
    "a = [0,1,2]\n",
    "print(len(a))"
   ]
  },
  {
   "cell_type": "code",
   "execution_count": 5,
   "metadata": {},
   "outputs": [
    {
     "name": "stdout",
     "output_type": "stream",
     "text": [
      "Ungleichgewicht: Nicht gleichviele Bilder von jeder Klasse vorhanden, siehe KlasseB_upperCase\n"
     ]
    }
   ],
   "source": [
    "for classes in list(obj33._dictonary['C:/Users/User/Desktop/Test/GeneratedData/TailoredImages/']):\n",
    "    class_1 = list(obj33._dictonary['C:/Users/User/Desktop/Test/GeneratedData/TailoredImages/'])\n",
    "    number_images = len(list(list(obj33._dictonary['C:/Users/User/Desktop/Test/GeneratedData/TailoredImages/'][class_1[0]])))\n",
    "    if number_images != len(list(list(obj33._dictonary['C:/Users/User/Desktop/Test/GeneratedData/TailoredImages/'][classes]))):\n",
    "        print('Ungleichgewicht: Nicht gleichviele Bilder von jeder Klasse vorhanden, siehe Klasse: ' + classes)\n",
    "        break\n",
    "#     print('alles i.O')\n",
    "#     print(class_1[0])\n",
    "#     print(number_images)\n",
    "#     print(classes)\n",
    "# # len(list(obj33._dictonary['C:/Users/User/Desktop/Test/GeneratedData/TailoredImages/']))\n",
    "# list(obj33._dictonary['C:/Users/User/Desktop/Test/GeneratedData/TailoredImages/'])"
   ]
  },
  {
   "cell_type": "code",
   "execution_count": 5,
   "metadata": {},
   "outputs": [
    {
     "name": "stdout",
     "output_type": "stream",
     "text": [
      "['C:/Users/User/Desktop/Test/GeneratedData/TailoredImages/']\n"
     ]
    }
   ],
   "source": [
    "print(list(obj33._dictonary))"
   ]
  },
  {
   "cell_type": "code",
   "execution_count": 7,
   "metadata": {},
   "outputs": [
    {
     "name": "stdout",
     "output_type": "stream",
     "text": [
      "2\n"
     ]
    },
    {
     "ename": "KeyError",
     "evalue": "2",
     "output_type": "error",
     "traceback": [
      "\u001b[1;31m---------------------------------------------------------------------------\u001b[0m",
      "\u001b[1;31mKeyError\u001b[0m                                  Traceback (most recent call last)",
      "\u001b[1;32m<ipython-input-7-84866548df3c>\u001b[0m in \u001b[0;36m<module>\u001b[1;34m()\u001b[0m\n\u001b[0;32m      1\u001b[0m \u001b[0mprint\u001b[0m\u001b[1;33m(\u001b[0m\u001b[0mlen\u001b[0m\u001b[1;33m(\u001b[0m\u001b[0mlist\u001b[0m\u001b[1;33m(\u001b[0m\u001b[0mobj33\u001b[0m\u001b[1;33m.\u001b[0m\u001b[0m_dictonary\u001b[0m\u001b[1;33m[\u001b[0m\u001b[1;34m'C:/Users/User/Desktop/Test/GeneratedData/TailoredImages/'\u001b[0m\u001b[1;33m]\u001b[0m\u001b[1;33m[\u001b[0m\u001b[1;34m'A_upperCase'\u001b[0m\u001b[1;33m]\u001b[0m\u001b[1;33m)\u001b[0m\u001b[1;33m)\u001b[0m\u001b[1;33m)\u001b[0m\u001b[1;33m\u001b[0m\u001b[0m\n\u001b[1;32m----> 2\u001b[1;33m \u001b[1;32mdel\u001b[0m \u001b[0mobj33\u001b[0m\u001b[1;33m.\u001b[0m\u001b[0m_dictonary\u001b[0m\u001b[1;33m[\u001b[0m\u001b[1;34m'C:/Users/User/Desktop/Test/GeneratedData/TailoredImages/'\u001b[0m\u001b[1;33m]\u001b[0m\u001b[1;33m[\u001b[0m\u001b[1;34m'A_upperCase'\u001b[0m\u001b[1;33m]\u001b[0m\u001b[1;33m[\u001b[0m\u001b[1;36m2\u001b[0m\u001b[1;33m]\u001b[0m\u001b[1;33m\u001b[0m\u001b[0m\n\u001b[0m\u001b[0;32m      3\u001b[0m \u001b[0mprint\u001b[0m\u001b[1;33m(\u001b[0m\u001b[0mlen\u001b[0m\u001b[1;33m(\u001b[0m\u001b[0mlist\u001b[0m\u001b[1;33m(\u001b[0m\u001b[0mobj33\u001b[0m\u001b[1;33m.\u001b[0m\u001b[0m_dictonary\u001b[0m\u001b[1;33m[\u001b[0m\u001b[1;34m'C:/Users/User/Desktop/Test/GeneratedData/TailoredImages/'\u001b[0m\u001b[1;33m]\u001b[0m\u001b[1;33m[\u001b[0m\u001b[1;34m'A_upperCase'\u001b[0m\u001b[1;33m]\u001b[0m\u001b[1;33m)\u001b[0m\u001b[1;33m)\u001b[0m\u001b[1;33m)\u001b[0m\u001b[1;33m\u001b[0m\u001b[0m\n",
      "\u001b[1;31mKeyError\u001b[0m: 2"
     ]
    }
   ],
   "source": [
    "print(len(list(obj33._dictonary['C:/Users/User/Desktop/Test/GeneratedData/TailoredImages/']['A_upperCase'])))\n",
    "del obj33._dictonary['C:/Users/User/Desktop/Test/GeneratedData/TailoredImages/']['A_upperCase'][2]"
   ]
  },
  {
   "cell_type": "code",
   "execution_count": 19,
   "metadata": {},
   "outputs": [
    {
     "name": "stdout",
     "output_type": "stream",
     "text": [
      "</annotation>\n",
      "<annotation><folder>hallo</folder><filename>filename</filename><path>path</path><source><database>Unknown</database></source><size><width>self._size</width><height>self._size</height><depth>self._depth</depth></size><segmented>0</segmented>\n"
     ]
    }
   ],
   "source": [
    "def get_head():\n",
    "    string_head =   '<annotation>'\\\n",
    "                    '<folder>'+str('hallo')+'</folder>'\\\n",
    "                    '<filename>'+str('filename')+'</filename>'\\\n",
    "                    '<path>'+str('path')+'</path>'\\\n",
    "                    '<source>'\\\n",
    "                    '<database>Unknown</database>'\\\n",
    "                    '</source>'\\\n",
    "                    '<size>'\\\n",
    "                        '<width>'+str('self._size')+'</width>'\\\n",
    "                        '<height>'+str('self._size')+'</height>'\\\n",
    "                        '<depth>'+str('self._depth')+'</depth>'\\\n",
    "                    '</size>'\\\n",
    "                    '<segmented>0</segmented>'\\\n",
    "                    '</annotation>'\n",
    "    return string_head\n",
    "\n",
    "a = get_head()\n",
    "a.find('</annotation>')\n",
    "print(a[240:])\n",
    "print(a[:240])"
   ]
  },
  {
   "cell_type": "code",
   "execution_count": 22,
   "metadata": {},
   "outputs": [],
   "source": [
    "dom = xml.dom.minidom.parseString(a)\n",
    "pretty_xml_as_string_body = dom.toprettyxml()"
   ]
  },
  {
   "cell_type": "code",
   "execution_count": 26,
   "metadata": {},
   "outputs": [
    {
     "name": "stdout",
     "output_type": "stream",
     "text": [
      "1\n",
      "1\n",
      "0\n"
     ]
    }
   ],
   "source": [
    "a = {'C':{0:{'a':0}}}\n",
    "print(len(a['C'][0]))\n",
    "del a['C'][0]\n",
    "print(len(a))\n",
    "print(len(a['C']))"
   ]
  },
  {
   "cell_type": "code",
   "execution_count": 2,
   "metadata": {},
   "outputs": [],
   "source": [
    "a = 'C:/Users/User/Desktop/Ablaufdatum/ablaufdatum_selber/all/20180528_200104.jpg'"
   ]
  },
  {
   "cell_type": "code",
   "execution_count": 10,
   "metadata": {},
   "outputs": [
    {
     "name": "stdout",
     "output_type": "stream",
     "text": [
      "20180528_200104.jpg\n",
      "52\n",
      "all\n"
     ]
    }
   ],
   "source": [
    "b = a.rfind('/')\n",
    "print(a[b+1:])\n",
    "c = a[:b].rfind('/')\n",
    "print(c)\n",
    "print(a[c+1:b])"
   ]
  },
  {
   "cell_type": "code",
   "execution_count": null,
   "metadata": {},
   "outputs": [],
   "source": []
  },
  {
   "cell_type": "code",
   "execution_count": 52,
   "metadata": {},
   "outputs": [],
   "source": []
  },
  {
   "cell_type": "code",
   "execution_count": 53,
   "metadata": {},
   "outputs": [
    {
     "name": "stdout",
     "output_type": "stream",
     "text": [
      "set_folder_structur\n",
      "set_character_folder\n",
      "__init__\n"
     ]
    }
   ],
   "source": [
    "a = GenerateFolderStructur()"
   ]
  },
  {
   "cell_type": "code",
   "execution_count": 17,
   "metadata": {},
   "outputs": [],
   "source": [
    "class Coordinates:\n",
    "    def __init__(self):\n",
    "        print('whatever')\n",
    "    \n",
    "    def distToPoint(self,a):\n",
    "        a +=1\n",
    "        if a <=2:\n",
    "            self.distToPoint(a)\n",
    "            return a\n",
    "            \n",
    "        \"\"\"a\n",
    "        Use pythagoras to find distance\n",
    "        (a^2 = b^2 + c^2)\n",
    "        \"\"\"\n",
    "        print('disToPoint')\n",
    "\n",
    "    def isNear(self,a):\n",
    "        a +=1\n",
    "        d = self.distToPoint(a)\n",
    "        print('isNear')\n",
    "        "
   ]
  },
  {
   "cell_type": "code",
   "execution_count": 18,
   "metadata": {},
   "outputs": [
    {
     "name": "stdout",
     "output_type": "stream",
     "text": [
      "whatever\n",
      "disToPoint\n",
      "isNear\n"
     ]
    }
   ],
   "source": [
    "obj123 = Coordinates()\n",
    "a = 0\n",
    "obj123.isNear(a)"
   ]
  },
  {
   "cell_type": "code",
   "execution_count": null,
   "metadata": {},
   "outputs": [],
   "source": []
  }
 ],
 "metadata": {
  "kernelspec": {
   "display_name": "Python 3",
   "language": "python",
   "name": "python3"
  },
  "language_info": {
   "codemirror_mode": {
    "name": "ipython",
    "version": 3
   },
   "file_extension": ".py",
   "mimetype": "text/x-python",
   "name": "python",
   "nbconvert_exporter": "python",
   "pygments_lexer": "ipython3",
   "version": "3.6.4"
  }
 },
 "nbformat": 4,
 "nbformat_minor": 2
}
