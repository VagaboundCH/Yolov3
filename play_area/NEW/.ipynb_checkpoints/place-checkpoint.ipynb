{
 "cells": [
  {
   "cell_type": "code",
   "execution_count": 1,
   "metadata": {},
   "outputs": [],
   "source": [
    "import numpy as np\n",
    "import os\n",
    "import xml.dom.minidom\n",
    "import xml.etree.cElementTree as ET\n",
    "import copy\n",
    "from PIL import Image\n",
    "from datetime import datetime"
   ]
  },
  {
   "cell_type": "code",
   "execution_count": 25,
   "metadata": {},
   "outputs": [],
   "source": [
    "class Place():\n",
    "    place_counter = -1\n",
    "    \"\"\"\n",
    "    Eingangsdaten:\n",
    "    Klassenpfad, Ausgangsbildgrösse in px, Anzahl Bilder Channel\n",
    "    \n",
    "    Konstruktor genieriert ein dictonary, welches wie folgt aussieht:\n",
    "    \n",
    "    {Pfad_Klassen:{Klassenname_1:{0:Bildname_1, 1:Bildname1}}\n",
    "                 :{Klassenname_2:{0:Bildname_1, 1:Bildname2}}\n",
    "    }\n",
    "    \n",
    "    2 Varianten wie die einzelen Zeichen platziert werden können:\n",
    "    \n",
    "    1. rdm Verteilung\n",
    "    2. ....\n",
    "    \n",
    "    \"\"\"\n",
    "    \n",
    "    def __init__(self, path, xml_path, segemented_image_path, size, depth, iou_threshold):\n",
    "        self._path = path\n",
    "        self._xml_path = xml_path\n",
    "        self._segemented_image_path = segemented_image_path\n",
    "        self._size = size\n",
    "        self._depth= depth\n",
    "        self._iou_threshold = iou_threshold\n",
    "        self._dictonary = {'path':{'folder_name':{0:'image_name'}}}\n",
    "        self._segmented_image = np.zeros((self._size, self._size, self._depth))\n",
    "        self._bounding_boxes = np.array([0,0,0,0])\n",
    "        self._body_name = ''\n",
    "        \n",
    "        path_1, dirs_1, files_1 = next(os.walk(self._path))\n",
    "        self._dictonary = {path_1:{}}\n",
    "        for folder in dirs_1:\n",
    "            self._dictonary[path_1][folder] = {}\n",
    "#             print(folder)\n",
    "            path_2, dirs_2, files_2 = next(os.walk(path_1 + folder))\n",
    "            for i, files in zip(range(len(files_2)), files_2):\n",
    "                self._dictonary[path_1][folder][i] = {files}\n",
    "#                 print(files) \n",
    "\n",
    "\n",
    "    def get_head(self,place_image_path,width,height,depth):\n",
    "        now = datetime.now()\n",
    "        self._date_time = now.strftime(\"%Y%m%d_%H%M%S\")\n",
    "        filename = self._date_time\n",
    "        slice_position_r = place_image_path.rfind('/')\n",
    "        slice_position_l = place_image_path[slice_position_r+1:]\n",
    "        folder = place_image_path[slice_position_r+1:slice_position_l]        \n",
    "        path = place_image_path\n",
    "        string_head =   '<annotation>'\\\n",
    "                        '<folder>'+str(folder)+'</folder>'\\\n",
    "                        '<filename>'+str(filename)+'</filename>'\\\n",
    "                        '<path>'+str(path)+'</path>'\\\n",
    "                        '<source>'\\\n",
    "                        '<database>Unknown</database>'\\\n",
    "                        '</source>'\\\n",
    "                        '<size>'\\\n",
    "                            '<width>'+str(self._size)+'</width>'\\\n",
    "                            '<height>'+str(self._size)+'</height>'\\\n",
    "                            '<depth>'+str(self._depth)+'</depth>'\\\n",
    "                        '</size>'\\\n",
    "                        '<segmented>0</segmented>'\\\n",
    "                        '</annotation>'\n",
    "        return string_head\n",
    "\n",
    "    \n",
    "    def get_body(self,image_name,xmin,ymin,xmax,ymax):\n",
    "        slice_position = image_name.find('_')\n",
    "        name = image_name[:slice_position]\n",
    "        string_object = '<object>'\\\n",
    "                        '<name>'+str(name)+'</name>'\\\n",
    "                        '<pose>Unspecified</pose>'\\\n",
    "                        '<truncated>0</truncated>'\\\n",
    "                        '<difficult>0</difficult>'\\\n",
    "                        '<bndbox>'\\\n",
    "                            '<xmin>'+str(xmin)+'</xmin>'\\\n",
    "                            '<ymin>'+str(ymin)+'</ymin>'\\\n",
    "                            '<xmax>'+str(xmax)+'</xmax>'\\\n",
    "                            '<ymax>'+str(ymax)+'</ymax>'\\\n",
    "                            '</bndbox>'\\\n",
    "                        '</object>'\n",
    "        return string_object\n",
    "\n",
    "    \n",
    "    def iou_check(self,x_rdm_min,y_rdm_min,x_rdm_max,y_rdm_max,iou_threshold,place_image_path):\n",
    "        print('iou_check')\n",
    "        if self._segmented_image.all()==0.0:\n",
    "            self._bounding_boxes[0] = x_rdm_max\n",
    "            self._bounding_boxes[1] = y_rdm_max\n",
    "            self._bounding_boxes[2] = x_rdm_min\n",
    "            self._bounding_boxes[3] = y_rdm_min\n",
    "            tmp_counter = 0\n",
    "            result = True\n",
    "        else:\n",
    "            bounding_box[0] = x_rdm_max\n",
    "            bounding_box[1] = y_rdm_max\n",
    "            bounding_box[2] = x_rdm_min\n",
    "            bounding_box[3] = y_rdm_min\n",
    "            length = len(self._bounding_boxes)/4\n",
    "            for i in range(length):\n",
    "                tmp_start = 0+(4*i)\n",
    "                tmp_end = 3+(4*i)\n",
    "                tmp_bounding_boxes = self._bounding_boxes[tmp_start:tmp_end]\n",
    "                iou = bb_intersection_over_union(bounding_box, tmp_bounding_boxes)\n",
    "                if iou <= iou_threshold:\n",
    "                    np.append(self._bounding_boxes,bounding_boxes)\n",
    "                    tmp_counter = 0\n",
    "                    result = True\n",
    "                else:\n",
    "                    if tmp_counter == 3:\n",
    "                        result = False\n",
    "                    else:\n",
    "                        tmp_counter += 1\n",
    "                        place(self, place_image_path)         \n",
    "        return result\n",
    "    \n",
    "    \n",
    "    def place(self, place_image_path):\n",
    "        with Image.open(place_image_path) as image:\n",
    "            img = np.array(image)\n",
    "            y,x,z = img.shape\n",
    "#             print(y,x,z)\n",
    "            \n",
    "            if Place.place_counter == 0:\n",
    "                \n",
    "                x_max = self._size - x - 5\n",
    "                y_max = self._size - y - 5\n",
    "                x_rdm_min = np.random.randint(5,x_max)\n",
    "                y_rdm_min = np.random.randint(5,y_max)\n",
    "                x_rdm_max = x_rdm_min + x\n",
    "                y_rdm_max = y_rdm_min + y\n",
    "                result = self.iou_check(x_rdm_min,y_rdm_min,x_rdm_max,y_rdm_max,self._iou_threshold,place_image_path)\n",
    "#                 print(x_rdm_min,y_rdm_min,x_rdm_max,y_rdm_max)\n",
    "                y1,x1,z1 = self._segmented_image.shape\n",
    "#                 print(y1,x1,z1)\n",
    "#                 print(result)\n",
    "                if result == True:\n",
    "                    self._segmented_image[y_rdm_min:y_rdm_max,x_rdm_min:x_rdm_max,:] = img\n",
    "                    return self._segmented_image, x_rdm_min,y_rdm_min,x_rdm_max,y_rdm_max, True \n",
    "                    \n",
    "                else: \n",
    "                    return self._segmented_image, x_rdm_min,y_rdm_min,x_rdm_max,y_rdm_max, False\n",
    "                    \n",
    "          \n",
    "        print(result)\n",
    "        \n",
    "    def create_xml_segmented_image(self, string):\n",
    "        \n",
    "        dom = xml.dom.minidom.parseString(string)\n",
    "        pretty_xml_as_string_body = dom.toprettyxml()\n",
    "\n",
    "        filepath = self._xml_path + '/' + str(date_time) + '.xml'\n",
    "        with open(filepath, 'w+') as file:\n",
    "            file.write(pretty_xml_as_string_body)\n",
    "        \n",
    "        im = Image.fromarray(self._segmented_image)\n",
    "        im.save('self._segemented_image_path'+'/'+'date_time'+'.bmp')\n",
    "        self._segmented_image = np.zeros((self._size, self._size, self._depth))\n",
    "            \n",
    "        \n",
    "    def create_xml_body(self,place_image_path,x_rdm_min,y_rdm_min,x_rdm_max,y_rdm_max):\n",
    "\n",
    "            slice_position = place_image_path.find('_')\n",
    "            object_name = place_image_path[:slice_position]\n",
    "            xml_name_tmp = self.get_body(place_image_path,x_rdm_min-1,y_rdm_min-1,x_rdm_max+1,y_rdm_max+1)\n",
    "            self._body_name = self._body_name + xml_name_tmp\n",
    "\n",
    "              \n",
    "    def create_xml(self,place_image_path):\n",
    "#         name = str(Place.placeIt_counter) + \n",
    "        xml_head = get_body(dict_folder,x_rdm_min-1,y_rdm_min-1,x_rdm_max+1,y_rdm_max+1)\n",
    "        slice_position = xml_head.find('</annotation>')\n",
    "        complete_xml = xml_head[:slice_position] + self._body_name + xml_head[slice_position:]\n",
    "        \n",
    "        create_xml_segmented_image(full_xml)\n",
    "        self._body_name = ''     \n",
    "       \n",
    "    \n",
    "    def delete_dict(self, dict_folder,number_dict_images): \n",
    "        del self._dictonary[self._path][dict_folder][number_dict_images]\n",
    "        if len(list(self._dictonary[self._path][dict_folder]))== 0:\n",
    "            del self._dictonary[self._path][dict_folder]\n",
    "\n",
    "\n",
    "    def rdm(self):\n",
    "        \n",
    "        ### Zufälliger Ordner von Zeichen z.B. A oder B ###\n",
    "        dict_folders = list(self._dictonary[self._path].keys())\n",
    "        print(dict_folders)\n",
    "        if len(dict_folders) == 0:\n",
    "            number_dict_folders = 0\n",
    "        else:\n",
    "            number_dict_folders = np.random.randint(len(dict_folders))\n",
    "        print(number_dict_folders)\n",
    "        \n",
    "        if number_dict_folders == 0:\n",
    "            rdm_folder = 0\n",
    "        else:\n",
    "            rdm_folder = np.random.randint(number_dict_folders)\n",
    "        print(rdm_folder)\n",
    "        dict_folder = dict_folders[rdm_folder]\n",
    "        print('dict_folder: ',dict_folder)\n",
    "        \n",
    "        ### Zufälliges Bild von oben bestimmten Zeichen ###\n",
    "        dict_images = list(self._dictonary[self._path][dict_folder].keys())\n",
    "        print('dict_images: ',dict_images)\n",
    "        if len(dict_images) == 0:\n",
    "            number_dict_images = 0\n",
    "        else:\n",
    "            number_dict_images = np.random.randint(len(dict_images))\n",
    "        print(number_dict_images)\n",
    "        \n",
    "        if number_dict_images == 0:\n",
    "            rdm_image = 0\n",
    "        else:\n",
    "            rdm_image = np.random.randint(number_dict_images)\n",
    "            \n",
    "        print(rdm_image)\n",
    "        dict_image_number = dict_images[rdm_image]\n",
    "        dict_image = str(self._dictonary[self._path][dict_folder][dict_image_number])\n",
    "        print(dict_image)\n",
    "        \n",
    "        r_tmp = dict_image.find('}')\n",
    "        dict_image = dict_image[2:r_tmp-1]\n",
    "        print(dict_image)\n",
    "        \n",
    "        ### Bild Pfad des Zeichens ###\n",
    "        place_image_path = self._path + dict_folder + '/' +  dict_image\n",
    "        Place.place_counter +=1\n",
    "        \n",
    "        \n",
    "        self._segmented_image, x_rdm_min,y_rdm_min,x_rdm_max,y_rdm_max, placed = self.place(place_image_path)\n",
    "        print(self._segmented_image, x_rdm_min,y_rdm_min,x_rdm_max,y_rdm_max, placed)\n",
    "        ################################## Hier weiter machen, bis hier hin kam der code\n",
    "        \n",
    "        \n",
    "        if placed == True:\n",
    "            self.create_xml_body(place_image_path, x_rdm_min,y_rdm_min,x_rdm_max,y_rdm_max)    \n",
    "            self.delete_dict(dict_folder,number_dict_images)\n",
    "        else:\n",
    "            self.create_xml(place_image_path,x_rdm_min,y_rdm_min,x_rdm_max,y_rdm_max,place_image_path)  \n",
    "            rdm()\n",
    "    \n",
    "    \n",
    "    def bb_intersection_over_union(self, boxA, boxB):\n",
    "        xA = max(boxA[0], boxB[0])\n",
    "        yA = max(boxA[1], boxB[1])\n",
    "        xB = min(boxA[2], boxB[2])\n",
    "        yB = min(boxA[3], boxB[3])\n",
    "        \n",
    "        # compute the area of intersection rectangle\n",
    "        interArea = max(0, xB - xA + 1) * max(0, yB - yA + 1)\n",
    "        # compute the area of both the prediction and ground-truth\n",
    "        # rectangles\n",
    "        boxAArea = (boxA[2] - boxA[0] + 1) * (boxA[3] - boxA[1] + 1)\n",
    "        boxBArea = (boxB[2] - boxB[0] + 1) * (boxB[3] - boxB[1] + 1)\n",
    "        # compute the intersection over union by taking the intersection\n",
    "        # area and dividing it by the sum of prediction + ground-truth\n",
    "        # areas - the interesection area\n",
    "        iou = interArea / float(boxAArea + boxBArea - interArea)\n",
    "        # return the intersection over union value\n",
    "        return iou    \n",
    "    \n",
    "        \n",
    "        \n",
    "#     def create_xml(self):    \n",
    "#     def segmented_image(self):"
   ]
  },
  {
   "cell_type": "code",
   "execution_count": 26,
   "metadata": {},
   "outputs": [],
   "source": [
    "obj33 = Place('C:/Users/User/Desktop/Test/GeneratedData/TailoredImages/','C:/Users/User/Desktop/Test/GeneratedData/XML_Files/','C:/Users/User/Desktop/Test/GeneratedData/SegmentedImages',512,3,0.3)"
   ]
  },
  {
   "cell_type": "code",
   "execution_count": 27,
   "metadata": {},
   "outputs": [
    {
     "name": "stdout",
     "output_type": "stream",
     "text": [
      "['A_upperCase', 'B_upperCase']\n",
      "0\n",
      "0\n",
      "dict_folder:  A_upperCase\n",
      "dict_images:  [0, 1, 2]\n",
      "1\n",
      "0\n",
      "{'A_upperCase_arial_0_tailored.BMP'}\n",
      "A_upperCase_arial_0_tailored.BMP\n",
      "152 93 3\n",
      "iou_check\n",
      "213 136 306 288\n",
      "512 512 3\n",
      "True\n",
      "[[[0. 0. 0.]\n",
      "  [0. 0. 0.]\n",
      "  [0. 0. 0.]\n",
      "  ...\n",
      "  [0. 0. 0.]\n",
      "  [0. 0. 0.]\n",
      "  [0. 0. 0.]]\n",
      "\n",
      " [[0. 0. 0.]\n",
      "  [0. 0. 0.]\n",
      "  [0. 0. 0.]\n",
      "  ...\n",
      "  [0. 0. 0.]\n",
      "  [0. 0. 0.]\n",
      "  [0. 0. 0.]]\n",
      "\n",
      " [[0. 0. 0.]\n",
      "  [0. 0. 0.]\n",
      "  [0. 0. 0.]\n",
      "  ...\n",
      "  [0. 0. 0.]\n",
      "  [0. 0. 0.]\n",
      "  [0. 0. 0.]]\n",
      "\n",
      " ...\n",
      "\n",
      " [[0. 0. 0.]\n",
      "  [0. 0. 0.]\n",
      "  [0. 0. 0.]\n",
      "  ...\n",
      "  [0. 0. 0.]\n",
      "  [0. 0. 0.]\n",
      "  [0. 0. 0.]]\n",
      "\n",
      " [[0. 0. 0.]\n",
      "  [0. 0. 0.]\n",
      "  [0. 0. 0.]\n",
      "  ...\n",
      "  [0. 0. 0.]\n",
      "  [0. 0. 0.]\n",
      "  [0. 0. 0.]]\n",
      "\n",
      " [[0. 0. 0.]\n",
      "  [0. 0. 0.]\n",
      "  [0. 0. 0.]\n",
      "  ...\n",
      "  [0. 0. 0.]\n",
      "  [0. 0. 0.]\n",
      "  [0. 0. 0.]]] 213 136 306 288 True\n"
     ]
    }
   ],
   "source": [
    "obj33.rdm()"
   ]
  },
  {
   "cell_type": "code",
   "execution_count": 6,
   "metadata": {},
   "outputs": [
    {
     "data": {
      "text/plain": [
       "{'A_upperCase_arial_0_tailored.BMP'}"
      ]
     },
     "execution_count": 6,
     "metadata": {},
     "output_type": "execute_result"
    }
   ],
   "source": [
    "obj33._dictonary['C:/Users/User/Desktop/Test/GeneratedData/TailoredImages/']['A_upperCase'][0]\n",
    "len()"
   ]
  },
  {
   "cell_type": "code",
   "execution_count": null,
   "metadata": {},
   "outputs": [],
   "source": [
    "b = 'hallo'\n",
    "a = c + b\n",
    "print(a)"
   ]
  },
  {
   "cell_type": "code",
   "execution_count": 5,
   "metadata": {},
   "outputs": [
    {
     "name": "stdout",
     "output_type": "stream",
     "text": [
      "Ungleichgewicht: Nicht gleichviele Bilder von jeder Klasse vorhanden, siehe KlasseB_upperCase\n"
     ]
    }
   ],
   "source": [
    "for classes in list(obj33._dictonary['C:/Users/User/Desktop/Test/GeneratedData/TailoredImages/']):\n",
    "    class_1 = list(obj33._dictonary['C:/Users/User/Desktop/Test/GeneratedData/TailoredImages/'])\n",
    "    number_images = len(list(list(obj33._dictonary['C:/Users/User/Desktop/Test/GeneratedData/TailoredImages/'][class_1[0]])))\n",
    "    if number_images != len(list(list(obj33._dictonary['C:/Users/User/Desktop/Test/GeneratedData/TailoredImages/'][classes]))):\n",
    "        print('Ungleichgewicht: Nicht gleichviele Bilder von jeder Klasse vorhanden, siehe Klasse: ' + classes)\n",
    "        break\n",
    "#     print('alles i.O')\n",
    "#     print(class_1[0])\n",
    "#     print(number_images)\n",
    "#     print(classes)\n",
    "# # len(list(obj33._dictonary['C:/Users/User/Desktop/Test/GeneratedData/TailoredImages/']))\n",
    "# list(obj33._dictonary['C:/Users/User/Desktop/Test/GeneratedData/TailoredImages/'])"
   ]
  },
  {
   "cell_type": "code",
   "execution_count": 5,
   "metadata": {},
   "outputs": [
    {
     "name": "stdout",
     "output_type": "stream",
     "text": [
      "['C:/Users/User/Desktop/Test/GeneratedData/TailoredImages/']\n"
     ]
    }
   ],
   "source": [
    "print(list(obj33._dictonary))"
   ]
  },
  {
   "cell_type": "code",
   "execution_count": 7,
   "metadata": {},
   "outputs": [
    {
     "name": "stdout",
     "output_type": "stream",
     "text": [
      "2\n"
     ]
    },
    {
     "ename": "KeyError",
     "evalue": "2",
     "output_type": "error",
     "traceback": [
      "\u001b[1;31m---------------------------------------------------------------------------\u001b[0m",
      "\u001b[1;31mKeyError\u001b[0m                                  Traceback (most recent call last)",
      "\u001b[1;32m<ipython-input-7-84866548df3c>\u001b[0m in \u001b[0;36m<module>\u001b[1;34m()\u001b[0m\n\u001b[0;32m      1\u001b[0m \u001b[0mprint\u001b[0m\u001b[1;33m(\u001b[0m\u001b[0mlen\u001b[0m\u001b[1;33m(\u001b[0m\u001b[0mlist\u001b[0m\u001b[1;33m(\u001b[0m\u001b[0mobj33\u001b[0m\u001b[1;33m.\u001b[0m\u001b[0m_dictonary\u001b[0m\u001b[1;33m[\u001b[0m\u001b[1;34m'C:/Users/User/Desktop/Test/GeneratedData/TailoredImages/'\u001b[0m\u001b[1;33m]\u001b[0m\u001b[1;33m[\u001b[0m\u001b[1;34m'A_upperCase'\u001b[0m\u001b[1;33m]\u001b[0m\u001b[1;33m)\u001b[0m\u001b[1;33m)\u001b[0m\u001b[1;33m)\u001b[0m\u001b[1;33m\u001b[0m\u001b[0m\n\u001b[1;32m----> 2\u001b[1;33m \u001b[1;32mdel\u001b[0m \u001b[0mobj33\u001b[0m\u001b[1;33m.\u001b[0m\u001b[0m_dictonary\u001b[0m\u001b[1;33m[\u001b[0m\u001b[1;34m'C:/Users/User/Desktop/Test/GeneratedData/TailoredImages/'\u001b[0m\u001b[1;33m]\u001b[0m\u001b[1;33m[\u001b[0m\u001b[1;34m'A_upperCase'\u001b[0m\u001b[1;33m]\u001b[0m\u001b[1;33m[\u001b[0m\u001b[1;36m2\u001b[0m\u001b[1;33m]\u001b[0m\u001b[1;33m\u001b[0m\u001b[0m\n\u001b[0m\u001b[0;32m      3\u001b[0m \u001b[0mprint\u001b[0m\u001b[1;33m(\u001b[0m\u001b[0mlen\u001b[0m\u001b[1;33m(\u001b[0m\u001b[0mlist\u001b[0m\u001b[1;33m(\u001b[0m\u001b[0mobj33\u001b[0m\u001b[1;33m.\u001b[0m\u001b[0m_dictonary\u001b[0m\u001b[1;33m[\u001b[0m\u001b[1;34m'C:/Users/User/Desktop/Test/GeneratedData/TailoredImages/'\u001b[0m\u001b[1;33m]\u001b[0m\u001b[1;33m[\u001b[0m\u001b[1;34m'A_upperCase'\u001b[0m\u001b[1;33m]\u001b[0m\u001b[1;33m)\u001b[0m\u001b[1;33m)\u001b[0m\u001b[1;33m)\u001b[0m\u001b[1;33m\u001b[0m\u001b[0m\n",
      "\u001b[1;31mKeyError\u001b[0m: 2"
     ]
    }
   ],
   "source": [
    "print(len(list(obj33._dictonary['C:/Users/User/Desktop/Test/GeneratedData/TailoredImages/']['A_upperCase'])))\n",
    "del obj33._dictonary['C:/Users/User/Desktop/Test/GeneratedData/TailoredImages/']['A_upperCase'][2]"
   ]
  },
  {
   "cell_type": "code",
   "execution_count": 19,
   "metadata": {},
   "outputs": [
    {
     "name": "stdout",
     "output_type": "stream",
     "text": [
      "</annotation>\n",
      "<annotation><folder>hallo</folder><filename>filename</filename><path>path</path><source><database>Unknown</database></source><size><width>self._size</width><height>self._size</height><depth>self._depth</depth></size><segmented>0</segmented>\n"
     ]
    }
   ],
   "source": [
    "def get_head():\n",
    "    string_head =   '<annotation>'\\\n",
    "                    '<folder>'+str('hallo')+'</folder>'\\\n",
    "                    '<filename>'+str('filename')+'</filename>'\\\n",
    "                    '<path>'+str('path')+'</path>'\\\n",
    "                    '<source>'\\\n",
    "                    '<database>Unknown</database>'\\\n",
    "                    '</source>'\\\n",
    "                    '<size>'\\\n",
    "                        '<width>'+str('self._size')+'</width>'\\\n",
    "                        '<height>'+str('self._size')+'</height>'\\\n",
    "                        '<depth>'+str('self._depth')+'</depth>'\\\n",
    "                    '</size>'\\\n",
    "                    '<segmented>0</segmented>'\\\n",
    "                    '</annotation>'\n",
    "    return string_head\n",
    "\n",
    "a = get_head()\n",
    "a.find('</annotation>')\n",
    "print(a[240:])\n",
    "print(a[:240])"
   ]
  },
  {
   "cell_type": "code",
   "execution_count": 22,
   "metadata": {},
   "outputs": [],
   "source": [
    "dom = xml.dom.minidom.parseString(a)\n",
    "pretty_xml_as_string_body = dom.toprettyxml()"
   ]
  },
  {
   "cell_type": "code",
   "execution_count": 39,
   "metadata": {},
   "outputs": [
    {
     "name": "stdout",
     "output_type": "stream",
     "text": [
      "1\n",
      "1\n",
      "0\n"
     ]
    }
   ],
   "source": [
    "a = {'C':{0:{'a':0}}}\n",
    "print(len(a['C'][0]))\n",
    "del a['C'][0]\n",
    "print(len(a))\n",
    "print(len(a['C']))"
   ]
  },
  {
   "cell_type": "code",
   "execution_count": 2,
   "metadata": {},
   "outputs": [],
   "source": [
    "a = 'C:/Users/User/Desktop/Ablaufdatum/ablaufdatum_selber/all/20180528_200104.jpg'"
   ]
  },
  {
   "cell_type": "code",
   "execution_count": 10,
   "metadata": {},
   "outputs": [
    {
     "name": "stdout",
     "output_type": "stream",
     "text": [
      "20180528_200104.jpg\n",
      "52\n",
      "all\n"
     ]
    }
   ],
   "source": [
    "b = a.rfind('/')\n",
    "print(a[b+1:])\n",
    "c = a[:b].rfind('/')\n",
    "print(c)\n",
    "print(a[c+1:b])"
   ]
  },
  {
   "cell_type": "code",
   "execution_count": null,
   "metadata": {},
   "outputs": [],
   "source": []
  }
 ],
 "metadata": {
  "kernelspec": {
   "display_name": "Python 3",
   "language": "python",
   "name": "python3"
  },
  "language_info": {
   "codemirror_mode": {
    "name": "ipython",
    "version": 3
   },
   "file_extension": ".py",
   "mimetype": "text/x-python",
   "name": "python",
   "nbconvert_exporter": "python",
   "pygments_lexer": "ipython3",
   "version": "3.6.4"
  }
 },
 "nbformat": 4,
 "nbformat_minor": 2
}
