{
 "cells": [
  {
   "cell_type": "code",
   "execution_count": 10,
   "metadata": {},
   "outputs": [],
   "source": [
    "import os\n",
    "from PIL import Image, ImageDraw, ImageFont  \n",
    "import numpy as np\n",
    "import matplotlib.pyplot as plt\n",
    "from copy import copy, deepcopy\n",
    "import cv2 "
   ]
  },
  {
   "cell_type": "code",
   "execution_count": 11,
   "metadata": {},
   "outputs": [],
   "source": [
    "class Tailor():\n",
    "    \n",
    "    def __init__(self, distortedImages_path, tailoredImages_path, threshold):\n",
    "        self._distortedImages_path = distortedImages_path\n",
    "        self._tailoredImages_path = tailoredImages_path\n",
    "        self._threshold = threshold\n",
    "        \n",
    "    def tailor(self):\n",
    "        path_1, dirs_1, files_1 = next(os.walk(self._distortedImages_path))\n",
    "#         print(path_1,'\\n',dirs_1,'\\n',files_1)\n",
    "        for i in range(len(dirs_1)):\n",
    "            path_2, dirs_2, files_2 = next(os.walk(path_1 + '/' + dirs_1[i]))\n",
    "#             print(path_2,'\\n',dirs_2,'\\n',files_2)\n",
    "            for j in range(len(files_2)):\n",
    "                with Image.open(path_2 + '/' + files_2[j]) as file:\n",
    "                    img = np.array(file)\n",
    "                    img[img<=self._threshold] = 0\n",
    "                    img[img>self._threshold] = 255\n",
    "                    # get the bounding rect\n",
    "                    img_rect = deepcopy(img)\n",
    "                    x, y, w, h = cv2.boundingRect(img_rect[:,:,0])\n",
    "                    # print(x, y, w, h)\n",
    "                    x_min = x-1\n",
    "                    y_min = y-1\n",
    "                    x_max = x+w\n",
    "                    y_max = y+h\n",
    "                    cv2.rectangle(img_rect, (x_min, y_min), (x_max, y_max), (0, 255, 0), 0)   # img wird überschrieben\n",
    "#                     plt.figure('img_rect')\n",
    "#                     plt.imshow(img_rect)\n",
    "\n",
    "                    img_without_boundary = img_rect[y:y_max, x:x_max,:]\n",
    "#                     plt.figure('without_boundary')\n",
    "#                     plt.imshow(img_without_boundary)\n",
    "                    img_size_uint8 = Image.fromarray(np.uint8(img_without_boundary))\n",
    "                    name = files_2[j]\n",
    "                    index = name.rindex('.')\n",
    "                    name_sliced_left = name[:index]\n",
    "                    name_sliced_right = name[index:]\n",
    "#                     print(self._tailoredImages_path + '/' + path_2 + '/' + name_sliced_left + '_tailored' + name_sliced_right)\n",
    "                    img_size_uint8.save(self._tailoredImages_path + '/' + dirs_1[i] + '/' + name_sliced_left + '_tailored' + name_sliced_right)\n",
    "                    "
   ]
  },
  {
   "cell_type": "code",
   "execution_count": null,
   "metadata": {},
   "outputs": [],
   "source": [
    "#print(self._tailoredImages_path + '/' + path_2 + '/' + name_sliced_left + '_tailored' + name_sliced_right)"
   ]
  }
 ],
 "metadata": {
  "kernelspec": {
   "display_name": "Python 3",
   "language": "python",
   "name": "python3"
  },
  "language_info": {
   "codemirror_mode": {
    "name": "ipython",
    "version": 3
   },
   "file_extension": ".py",
   "mimetype": "text/x-python",
   "name": "python",
   "nbconvert_exporter": "python",
   "pygments_lexer": "ipython3",
   "version": "3.6.4"
  }
 },
 "nbformat": 4,
 "nbformat_minor": 2
}
