{
 "cells": [
  {
   "cell_type": "code",
   "execution_count": 1,
   "metadata": {},
   "outputs": [],
   "source": [
    "import Augmentor as Aug\n",
    "import numpy as np\n",
    "import os\n",
    "import shutil\n",
    "import time\n",
    "import time"
   ]
  },
  {
   "cell_type": "code",
   "execution_count": 2,
   "metadata": {},
   "outputs": [],
   "source": [
    "class Augmentation():\n",
    "    counter = -1\n",
    "    def __init__(self, initalImages, distortedImages, tmp_distortion, tmp_rename, root_path, save_format, number_images):\n",
    "        self._initalImages_path = initalImages\n",
    "        self._tmp_rename_path = tmp_rename\n",
    "        self._tmp_distortion_path = tmp_distortion\n",
    "        self._distortedImages_path = distortedImages\n",
    "        self._save_format = save_format\n",
    "        self._number_images = number_images\n",
    "        self._root_path = root_path\n",
    "        \n",
    "        if self._distortedImages_path.find(':') == -1:\n",
    "            os.mkdir(self._root_path + self._distortedImages_path)\n",
    "            path_0, dirs_0, files_0 = next(os.walk(self._initalImages_path))\n",
    "            for i in range(len(dirs_0)):\n",
    "                os.mkdir(self._root_path + self._distortedImages_path + '/' + dirs_0[i])\n",
    "            self._distortedImages_path = self._root_path + distortedImages\n",
    "        \n",
    "    def distortion(self, input_path, output_path, save_format):   \n",
    "            p = Aug.Pipeline(input_path, output_path, save_format)\n",
    "            \n",
    "            # Write here your distortion function \n",
    "            ###########################################\n",
    "            \n",
    "            skew_magnitude = np.round(np.random.uniform(0.1, 1.0),1) # sm 0.1-1.0\n",
    "            rd_grid_with = np.random.randint(2,10) # rdgw 2-10\n",
    "            rd_grid_hight = np.random.randint(2,10) # rdgh 2-10\n",
    "            rd_magnitude = np.random.randint(10,20) # 1-10\n",
    "            \n",
    "            p.random_distortion(probability=1, grid_width=rd_grid_with, grid_height=rd_grid_hight, magnitude=rd_magnitude)\n",
    "            p.rotate(probability=1, max_left_rotation=25, max_right_rotation=25) # <= 25° for botch\n",
    "            p.skew(probability=0.5, magnitude=skew_magnitude)\n",
    "            p.shear(probability=0.5, max_shear_left=25, max_shear_right=25) # <= 25° for botch\n",
    "            \n",
    "            ############################################\n",
    "            # End of your distortion function\n",
    "            \n",
    "            p.sample(1)        \n",
    "           \n",
    "        \n",
    "\n",
    "    def generate_distorted_images(self):\n",
    "        path_1, dirs_1, files_1 = next(os.walk(self._initalImages_path))\n",
    "#         print(path_1,'\\n',dirs_1,'\\n',files_1)\n",
    "        \n",
    "        ### Anzahl Klassen ###\n",
    "        for i in range(len(dirs_1)): \n",
    "            path_2, dirs_2, files_2 = next(os.walk(path_1 + dirs_1[i]))\n",
    "#             print(path_2,'\\n',dirs_2,'\\n',files_2)\n",
    "        \n",
    "        ### Anzahl Beispiele jeder Klasse ###\n",
    "            for j in range(len(files_2)):\n",
    "                shutil.copy(path_2 + '/' + files_2[j], self._tmp_distortion_path)\n",
    "                \n",
    "                ### Anzahl neu generierter Bilder ###\n",
    "                for k in range(self._number_images):\n",
    "                    Augmentation.counter =+ 1\n",
    "                    self.distortion(self._tmp_distortion_path, self._tmp_rename_path, self._save_format)\n",
    "                    time.sleep(0.01)\n",
    "                    \n",
    "                    print(str(Augmentation.counter) + 'juhu')\n",
    "                    \n",
    "                    path_3, dirs_3, files_3 = next(os.walk(self._tmp_rename_path))\n",
    "                    name = files_2[j]\n",
    "                    index = name.rindex('.')\n",
    "                    name_sliced = name[:index]\n",
    "                    shutil.move(path_3 + '/' + files_3[0], self._distortedImages_path + '/' + dirs_1[i] + '/' + name_sliced + '_' + str(Augmentation.counter) + '.' + self._save_format) \n",
    "                    if k == self._number_images-1:\n",
    "                        path_4, dirs_4, files_4 = next(os.walk(self._tmp_distortion_path))\n",
    "                        os.remove(path_4 + '/' + files_4[0])\n",
    "    \n"
   ]
  },
  {
   "cell_type": "code",
   "execution_count": null,
   "metadata": {},
   "outputs": [],
   "source": [
    "\n",
    "\n"
   ]
  },
  {
   "cell_type": "code",
   "execution_count": null,
   "metadata": {},
   "outputs": [],
   "source": []
  },
  {
   "cell_type": "code",
   "execution_count": null,
   "metadata": {},
   "outputs": [],
   "source": []
  }
 ],
 "metadata": {
  "kernelspec": {
   "display_name": "Python 3",
   "language": "python",
   "name": "python3"
  },
  "language_info": {
   "codemirror_mode": {
    "name": "ipython",
    "version": 3
   },
   "file_extension": ".py",
   "mimetype": "text/x-python",
   "name": "python",
   "nbconvert_exporter": "python",
   "pygments_lexer": "ipython3",
   "version": "3.6.4"
  }
 },
 "nbformat": 4,
 "nbformat_minor": 2
}
