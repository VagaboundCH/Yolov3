{
 "cells": [
  {
   "cell_type": "code",
   "execution_count": 1,
   "metadata": {},
   "outputs": [
    {
     "name": "stdout",
     "output_type": "stream",
     "text": [
      "importing Jupyter notebook from generateFolderStructur.ipynb\n",
      "importing Jupyter notebook from generateCharacter.ipynb\n",
      "importing Jupyter notebook from generatefolderStructur.ipynb\n",
      "importing Jupyter notebook from augmentation.ipynb\n",
      "importing Jupyter notebook from tailor.ipynb\n",
      "importing Jupyter notebook from place.ipynb\n"
     ]
    }
   ],
   "source": [
    "import import_ipynb \n",
    "import os\n",
    "from generateFolderStructur import GenerateFolderStructur\n",
    "from generateCharacter import GenerateCharacter\n",
    "from augmentation import Augmentation\n",
    "import Augmentor as Aug\n",
    "from tailor import Tailor\n",
    "from place import Place\n",
    "import numpy as np"
   ]
  },
  {
   "cell_type": "code",
   "execution_count": 2,
   "metadata": {},
   "outputs": [],
   "source": [
    "## Eigene Distortion function ###\n",
    "## Es muss Augmentation durch OwnDistortion ersetzt werden ###\n",
    "class OwnDistortion(Augmentation):\n",
    "    \n",
    "    def __init__(self, initalImages, distortedImages, tmp_distortion, tmp_rename,  root_path, save_format, number_images):\n",
    "        \n",
    "        Augmentation.__init__(self, initalImages, distortedImages, tmp_distortion, tmp_rename, root_path, save_format, number_images)\n",
    "            \n",
    "    def distortion(self, input_path, output_path, save_format):   \n",
    "            p = Aug.Pipeline(input_path, output_path, save_format)\n",
    "            \n",
    "            # Write here your distortion function \n",
    "            ###########################################\n",
    "            \n",
    "            rd_grid_with = np.random.randint(2,10) # rdgw 2-10\n",
    "            rd_grid_hight = np.random.randint(2,10) # rdgh 2-10\n",
    "            rd_magnitude = np.random.randint(10,20) # 1-10\n",
    "            p.random_distortion(probability=1, grid_width=rd_grid_with, grid_height=rd_grid_hight, magnitude=rd_magnitude)\n",
    "            \n",
    "            \n",
    "            \n",
    "            ############################################\n",
    "            # End of your distortion function\n",
    "            \n",
    "            p.sample(1)  "
   ]
  },
  {
   "cell_type": "code",
   "execution_count": 3,
   "metadata": {},
   "outputs": [],
   "source": [
    "# path, dirs, files = next(os.walk('C:/Users/User/Desktop/Test/Fonts/FirstTest'))\n",
    "# for i in range(len(files)):\n",
    "#     files[i] = 'C:/Users/User/Desktop/Test/Fonts/FirstTest/' + files[i]        "
   ]
  },
  {
   "cell_type": "code",
   "execution_count": 4,
   "metadata": {},
   "outputs": [
    {
     "name": "stdout",
     "output_type": "stream",
     "text": [
      "Initialised with 1 image(s) found.\n",
      "Output directory set to C:/Users/User/Desktop/Test/GeneratedData/TempFolderRename/."
     ]
    },
    {
     "name": "stderr",
     "output_type": "stream",
     "text": [
      "Processing <PIL.Image.Image image mode=RGB size=490x490 at 0xA2391D0>: 100%|█| 1/1 [00:00<00:00,  5.65 Samples/s]\n"
     ]
    },
    {
     "name": "stdout",
     "output_type": "stream",
     "text": [
      "Initialised with 1 image(s) found.\n",
      "Output directory set to C:/Users/User/Desktop/Test/GeneratedData/TempFolderRename/."
     ]
    },
    {
     "name": "stderr",
     "output_type": "stream",
     "text": [
      "Processing <PIL.Image.Image image mode=RGB size=490x490 at 0xA239240>: 100%|█| 1/1 [00:00<00:00,  7.41 Samples/s]\n"
     ]
    },
    {
     "name": "stdout",
     "output_type": "stream",
     "text": [
      "Initialised with 1 image(s) found.\n",
      "Output directory set to C:/Users/User/Desktop/Test/GeneratedData/TempFolderRename/."
     ]
    },
    {
     "name": "stderr",
     "output_type": "stream",
     "text": [
      "Processing <PIL.Image.Image image mode=RGB size=490x490 at 0xA239320>: 100%|█| 1/1 [00:00<00:00, 27.78 Samples/s]\n"
     ]
    },
    {
     "name": "stdout",
     "output_type": "stream",
     "text": [
      "Initialised with 1 image(s) found.\n",
      "Output directory set to C:/Users/User/Desktop/Test/GeneratedData/TempFolderRename/."
     ]
    },
    {
     "name": "stderr",
     "output_type": "stream",
     "text": [
      "Processing <PIL.Image.Image image mode=RGB size=490x490 at 0xA239208>: 100%|█| 1/1 [00:00<00:00,  9.90 Samples/s]\n"
     ]
    },
    {
     "name": "stdout",
     "output_type": "stream",
     "text": [
      "Initialised with 1 image(s) found.\n",
      "Output directory set to C:/Users/User/Desktop/Test/GeneratedData/TempFolderRename/."
     ]
    },
    {
     "name": "stderr",
     "output_type": "stream",
     "text": [
      "Processing <PIL.Image.Image image mode=RGB size=490x490 at 0xA2392B0>: 100%|█| 1/1 [00:00<00:00, 16.39 Samples/s]\n"
     ]
    },
    {
     "name": "stdout",
     "output_type": "stream",
     "text": [
      "Initialised with 1 image(s) found.\n",
      "Output directory set to C:/Users/User/Desktop/Test/GeneratedData/TempFolderRename/."
     ]
    },
    {
     "name": "stderr",
     "output_type": "stream",
     "text": [
      "Processing <PIL.Image.Image image mode=RGB size=490x490 at 0xA239320>: 100%|█| 1/1 [00:00<00:00, 10.75 Samples/s]\n"
     ]
    },
    {
     "name": "stdout",
     "output_type": "stream",
     "text": [
      "Initialised with 1 image(s) found.\n",
      "Output directory set to C:/Users/User/Desktop/Test/GeneratedData/TempFolderRename/."
     ]
    },
    {
     "name": "stderr",
     "output_type": "stream",
     "text": [
      "Processing <PIL.Image.Image image mode=RGB size=490x490 at 0xA2391D0>: 100%|█| 1/1 [00:00<00:00, 10.64 Samples/s]\n"
     ]
    },
    {
     "name": "stdout",
     "output_type": "stream",
     "text": [
      "Initialised with 1 image(s) found.\n",
      "Output directory set to C:/Users/User/Desktop/Test/GeneratedData/TempFolderRename/."
     ]
    },
    {
     "name": "stderr",
     "output_type": "stream",
     "text": [
      "Processing <PIL.Image.Image image mode=RGB size=490x490 at 0xA239320>: 100%|█| 1/1 [00:00<00:00, 10.10 Samples/s]\n"
     ]
    },
    {
     "name": "stdout",
     "output_type": "stream",
     "text": [
      "Initialised with 1 image(s) found.\n",
      "Output directory set to C:/Users/User/Desktop/Test/GeneratedData/TempFolderRename/."
     ]
    },
    {
     "name": "stderr",
     "output_type": "stream",
     "text": [
      "Processing <PIL.Image.Image image mode=RGB size=490x490 at 0xA2391D0>: 100%|█| 1/1 [00:00<00:00, 14.92 Samples/s]\n"
     ]
    },
    {
     "name": "stdout",
     "output_type": "stream",
     "text": [
      "Initialised with 1 image(s) found.\n",
      "Output directory set to C:/Users/User/Desktop/Test/GeneratedData/TempFolderRename/."
     ]
    },
    {
     "name": "stderr",
     "output_type": "stream",
     "text": [
      "Processing <PIL.Image.Image image mode=RGB size=490x490 at 0xA239320>: 100%|█| 1/1 [00:00<00:00, 14.49 Samples/s]\n"
     ]
    },
    {
     "name": "stdout",
     "output_type": "stream",
     "text": [
      "Initialised with 1 image(s) found.\n",
      "Output directory set to C:/Users/User/Desktop/Test/GeneratedData/TempFolderRename/."
     ]
    },
    {
     "name": "stderr",
     "output_type": "stream",
     "text": [
      "Processing <PIL.Image.Image image mode=RGB size=490x490 at 0xA2391D0>: 100%|█| 1/1 [00:00<00:00, 10.87 Samples/s]\n"
     ]
    },
    {
     "name": "stdout",
     "output_type": "stream",
     "text": [
      "Initialised with 1 image(s) found.\n",
      "Output directory set to C:/Users/User/Desktop/Test/GeneratedData/TempFolderRename/."
     ]
    },
    {
     "name": "stderr",
     "output_type": "stream",
     "text": [
      "Processing <PIL.Image.Image image mode=RGB size=490x490 at 0xA239320>: 100%|█| 1/1 [00:00<00:00, 10.31 Samples/s]\n"
     ]
    },
    {
     "name": "stdout",
     "output_type": "stream",
     "text": [
      "Initialised with 1 image(s) found.\n",
      "Output directory set to C:/Users/User/Desktop/Test/GeneratedData/TempFolderRename/."
     ]
    },
    {
     "name": "stderr",
     "output_type": "stream",
     "text": [
      "Processing <PIL.Image.Image image mode=RGB size=490x490 at 0xA239080>: 100%|█| 1/1 [00:00<00:00, 16.39 Samples/s]\n"
     ]
    },
    {
     "name": "stdout",
     "output_type": "stream",
     "text": [
      "Initialised with 1 image(s) found.\n",
      "Output directory set to C:/Users/User/Desktop/Test/GeneratedData/TempFolderRename/."
     ]
    },
    {
     "name": "stderr",
     "output_type": "stream",
     "text": [
      "Processing <PIL.Image.Image image mode=RGB size=490x490 at 0xA239320>: 100%|█| 1/1 [00:00<00:00, 12.19 Samples/s]\n"
     ]
    },
    {
     "name": "stdout",
     "output_type": "stream",
     "text": [
      "Initialised with 1 image(s) found.\n",
      "Output directory set to C:/Users/User/Desktop/Test/GeneratedData/TempFolderRename/."
     ]
    },
    {
     "name": "stderr",
     "output_type": "stream",
     "text": [
      "Processing <PIL.Image.Image image mode=RGB size=490x490 at 0xA239080>: 100%|█| 1/1 [00:00<00:00, 11.24 Samples/s]\n"
     ]
    },
    {
     "name": "stdout",
     "output_type": "stream",
     "text": [
      "Initialised with 1 image(s) found.\n",
      "Output directory set to C:/Users/User/Desktop/Test/GeneratedData/TempFolderRename/."
     ]
    },
    {
     "name": "stderr",
     "output_type": "stream",
     "text": [
      "Processing <PIL.Image.Image image mode=RGB size=490x490 at 0xA2391D0>: 100%|█| 1/1 [00:00<00:00, 14.92 Samples/s]\n"
     ]
    },
    {
     "name": "stdout",
     "output_type": "stream",
     "text": [
      "Initialised with 1 image(s) found.\n",
      "Output directory set to C:/Users/User/Desktop/Test/GeneratedData/TempFolderRename/."
     ]
    },
    {
     "name": "stderr",
     "output_type": "stream",
     "text": [
      "Processing <PIL.Image.Image image mode=RGB size=490x490 at 0xA2392E8>: 100%|█| 1/1 [00:00<00:00, 10.99 Samples/s]\n"
     ]
    },
    {
     "name": "stdout",
     "output_type": "stream",
     "text": [
      "Initialised with 1 image(s) found.\n",
      "Output directory set to C:/Users/User/Desktop/Test/GeneratedData/TempFolderRename/."
     ]
    },
    {
     "name": "stderr",
     "output_type": "stream",
     "text": [
      "Processing <PIL.Image.Image image mode=RGB size=490x490 at 0xA2390F0>: 100%|█| 1/1 [00:00<00:00, 10.42 Samples/s]\n"
     ]
    },
    {
     "name": "stdout",
     "output_type": "stream",
     "text": [
      "Initialised with 1 image(s) found.\n",
      "Output directory set to C:/Users/User/Desktop/Test/GeneratedData/TempFolderRename/."
     ]
    },
    {
     "name": "stderr",
     "output_type": "stream",
     "text": [
      "Processing <PIL.Image.Image image mode=RGB size=490x490 at 0xA2392B0>: 100%|█| 1/1 [00:00<00:00, 33.33 Samples/s]\n"
     ]
    },
    {
     "name": "stdout",
     "output_type": "stream",
     "text": [
      "Initialised with 1 image(s) found.\n",
      "Output directory set to C:/Users/User/Desktop/Test/GeneratedData/TempFolderRename/."
     ]
    },
    {
     "name": "stderr",
     "output_type": "stream",
     "text": [
      "Processing <PIL.Image.Image image mode=RGB size=490x490 at 0xA2392E8>: 100%|█| 1/1 [00:00<00:00, 11.36 Samples/s]\n"
     ]
    },
    {
     "name": "stdout",
     "output_type": "stream",
     "text": [
      "Initialised with 1 image(s) found.\n",
      "Output directory set to C:/Users/User/Desktop/Test/GeneratedData/TempFolderRename/."
     ]
    },
    {
     "name": "stderr",
     "output_type": "stream",
     "text": [
      "Processing <PIL.Image.Image image mode=RGB size=490x490 at 0xA239128>: 100%|█| 1/1 [00:00<00:00,  6.71 Samples/s]\n"
     ]
    },
    {
     "name": "stdout",
     "output_type": "stream",
     "text": [
      "Initialised with 1 image(s) found.\n",
      "Output directory set to C:/Users/User/Desktop/Test/GeneratedData/TempFolderRename/."
     ]
    },
    {
     "name": "stderr",
     "output_type": "stream",
     "text": [
      "Processing <PIL.Image.Image image mode=RGB size=490x490 at 0xA239320>: 100%|█| 1/1 [00:00<00:00, 15.38 Samples/s]\n"
     ]
    },
    {
     "name": "stdout",
     "output_type": "stream",
     "text": [
      "Initialised with 1 image(s) found.\n",
      "Output directory set to C:/Users/User/Desktop/Test/GeneratedData/TempFolderRename/."
     ]
    },
    {
     "name": "stderr",
     "output_type": "stream",
     "text": [
      "Processing <PIL.Image.Image image mode=RGB size=490x490 at 0xA2390F0>: 100%|█| 1/1 [00:00<00:00, 10.87 Samples/s]\n"
     ]
    },
    {
     "name": "stdout",
     "output_type": "stream",
     "text": [
      "Initialised with 1 image(s) found.\n",
      "Output directory set to C:/Users/User/Desktop/Test/GeneratedData/TempFolderRename/."
     ]
    },
    {
     "name": "stderr",
     "output_type": "stream",
     "text": [
      "Processing <PIL.Image.Image image mode=RGB size=490x490 at 0xA239080>: 100%|█| 1/1 [00:00<00:00, 14.71 Samples/s]\n"
     ]
    },
    {
     "name": "stdout",
     "output_type": "stream",
     "text": [
      "Initialised with 1 image(s) found.\n",
      "Output directory set to C:/Users/User/Desktop/Test/GeneratedData/TempFolderRename/."
     ]
    },
    {
     "name": "stderr",
     "output_type": "stream",
     "text": [
      "Processing <PIL.Image.Image image mode=RGB size=490x490 at 0xA2392E8>: 100%|█| 1/1 [00:00<00:00, 14.92 Samples/s]\n"
     ]
    },
    {
     "name": "stdout",
     "output_type": "stream",
     "text": [
      "Initialised with 1 image(s) found.\n",
      "Output directory set to C:/Users/User/Desktop/Test/GeneratedData/TempFolderRename/."
     ]
    },
    {
     "name": "stderr",
     "output_type": "stream",
     "text": [
      "Processing <PIL.Image.Image image mode=RGB size=490x490 at 0xA2392B0>: 100%|█| 1/1 [00:00<00:00, 14.08 Samples/s]\n"
     ]
    },
    {
     "name": "stdout",
     "output_type": "stream",
     "text": [
      "Initialised with 1 image(s) found.\n",
      "Output directory set to C:/Users/User/Desktop/Test/GeneratedData/TempFolderRename/."
     ]
    },
    {
     "name": "stderr",
     "output_type": "stream",
     "text": [
      "Processing <PIL.Image.Image image mode=RGB size=490x490 at 0xA239128>: 100%|█| 1/1 [00:00<00:00, 16.13 Samples/s]\n"
     ]
    },
    {
     "name": "stdout",
     "output_type": "stream",
     "text": [
      "Initialised with 1 image(s) found.\n",
      "Output directory set to C:/Users/User/Desktop/Test/GeneratedData/TempFolderRename/."
     ]
    },
    {
     "name": "stderr",
     "output_type": "stream",
     "text": [
      "Processing <PIL.Image.Image image mode=RGB size=490x490 at 0xA239320>: 100%|█| 1/1 [00:00<00:00, 14.92 Samples/s]\n"
     ]
    },
    {
     "name": "stdout",
     "output_type": "stream",
     "text": [
      "Initialised with 1 image(s) found.\n",
      "Output directory set to C:/Users/User/Desktop/Test/GeneratedData/TempFolderRename/."
     ]
    },
    {
     "name": "stderr",
     "output_type": "stream",
     "text": [
      "Processing <PIL.Image.Image image mode=RGB size=490x490 at 0xA2390F0>: 100%|█| 1/1 [00:00<00:00, 14.28 Samples/s]\n"
     ]
    },
    {
     "name": "stdout",
     "output_type": "stream",
     "text": [
      "Initialised with 1 image(s) found.\n",
      "Output directory set to C:/Users/User/Desktop/Test/GeneratedData/TempFolderRename/."
     ]
    },
    {
     "name": "stderr",
     "output_type": "stream",
     "text": [
      "Processing <PIL.Image.Image image mode=RGB size=490x490 at 0xA2392E8>: 100%|█| 1/1 [00:00<00:00, 16.95 Samples/s]\n"
     ]
    },
    {
     "name": "stdout",
     "output_type": "stream",
     "text": [
      "Initialised with 1 image(s) found.\n",
      "Output directory set to C:/Users/User/Desktop/Test/GeneratedData/TempFolderRename/."
     ]
    },
    {
     "name": "stderr",
     "output_type": "stream",
     "text": [
      "Processing <PIL.Image.Image image mode=RGB size=490x490 at 0xA2390F0>: 100%|█| 1/1 [00:00<00:00, 16.39 Samples/s]\n"
     ]
    },
    {
     "name": "stdout",
     "output_type": "stream",
     "text": [
      "Initialised with 1 image(s) found.\n",
      "Output directory set to C:/Users/User/Desktop/Test/GeneratedData/TempFolderRename/."
     ]
    },
    {
     "name": "stderr",
     "output_type": "stream",
     "text": [
      "Processing <PIL.Image.Image image mode=RGB size=490x490 at 0xA2392E8>: 100%|█| 1/1 [00:00<00:00, 11.11 Samples/s]\n"
     ]
    },
    {
     "name": "stdout",
     "output_type": "stream",
     "text": [
      "Initialised with 1 image(s) found.\n",
      "Output directory set to C:/Users/User/Desktop/Test/GeneratedData/TempFolderRename/."
     ]
    },
    {
     "name": "stderr",
     "output_type": "stream",
     "text": [
      "Processing <PIL.Image.Image image mode=RGB size=490x490 at 0xA239390>: 100%|█| 1/1 [00:00<00:00, 16.95 Samples/s]\n"
     ]
    },
    {
     "name": "stdout",
     "output_type": "stream",
     "text": [
      "Initialised with 1 image(s) found.\n",
      "Output directory set to C:/Users/User/Desktop/Test/GeneratedData/TempFolderRename/."
     ]
    },
    {
     "name": "stderr",
     "output_type": "stream",
     "text": [
      "Processing <PIL.Image.Image image mode=RGB size=490x490 at 0xA239080>: 100%|█| 1/1 [00:00<00:00, 16.67 Samples/s]\n"
     ]
    },
    {
     "name": "stdout",
     "output_type": "stream",
     "text": [
      "Initialised with 1 image(s) found.\n",
      "Output directory set to C:/Users/User/Desktop/Test/GeneratedData/TempFolderRename/."
     ]
    },
    {
     "name": "stderr",
     "output_type": "stream",
     "text": [
      "Processing <PIL.Image.Image image mode=RGB size=490x490 at 0xA239278>: 100%|█| 1/1 [00:00<00:00, 16.67 Samples/s]\n"
     ]
    },
    {
     "name": "stdout",
     "output_type": "stream",
     "text": [
      "Initialised with 1 image(s) found.\n",
      "Output directory set to C:/Users/User/Desktop/Test/GeneratedData/TempFolderRename/."
     ]
    },
    {
     "name": "stderr",
     "output_type": "stream",
     "text": [
      "Processing <PIL.Image.Image image mode=RGB size=490x490 at 0xA239080>: 100%|█| 1/1 [00:00<00:00, 10.87 Samples/s]\n"
     ]
    },
    {
     "name": "stdout",
     "output_type": "stream",
     "text": [
      "Initialised with 1 image(s) found.\n",
      "Output directory set to C:/Users/User/Desktop/Test/GeneratedData/TempFolderRename/."
     ]
    },
    {
     "name": "stderr",
     "output_type": "stream",
     "text": [
      "Processing <PIL.Image.Image image mode=RGB size=490x490 at 0xA239278>: 100%|█| 1/1 [00:00<00:00, 11.11 Samples/s]\n"
     ]
    },
    {
     "name": "stdout",
     "output_type": "stream",
     "text": [
      "Initialised with 1 image(s) found.\n",
      "Output directory set to C:/Users/User/Desktop/Test/GeneratedData/TempFolderRename/."
     ]
    },
    {
     "name": "stderr",
     "output_type": "stream",
     "text": [
      "Processing <PIL.Image.Image image mode=RGB size=490x490 at 0xA2390F0>: 100%|█| 1/1 [00:00<00:00, 30.30 Samples/s]\n"
     ]
    },
    {
     "name": "stdout",
     "output_type": "stream",
     "text": [
      "Initialised with 1 image(s) found.\n",
      "Output directory set to C:/Users/User/Desktop/Test/GeneratedData/TempFolderRename/."
     ]
    },
    {
     "name": "stderr",
     "output_type": "stream",
     "text": [
      "Processing <PIL.Image.Image image mode=RGB size=490x490 at 0xA239320>: 100%|█| 1/1 [00:00<00:00, 15.38 Samples/s]\n"
     ]
    },
    {
     "name": "stdout",
     "output_type": "stream",
     "text": [
      "Initialised with 1 image(s) found.\n",
      "Output directory set to C:/Users/User/Desktop/Test/GeneratedData/TempFolderRename/."
     ]
    },
    {
     "name": "stderr",
     "output_type": "stream",
     "text": [
      "Processing <PIL.Image.Image image mode=RGB size=490x490 at 0xA239358>: 100%|█| 1/1 [00:00<00:00,  8.33 Samples/s]\n"
     ]
    },
    {
     "name": "stdout",
     "output_type": "stream",
     "text": [
      "Initialised with 1 image(s) found.\n",
      "Output directory set to C:/Users/User/Desktop/Test/GeneratedData/TempFolderRename/."
     ]
    },
    {
     "name": "stderr",
     "output_type": "stream",
     "text": [
      "Processing <PIL.Image.Image image mode=RGB size=490x490 at 0xA239198>: 100%|█| 1/1 [00:00<00:00, 12.99 Samples/s]\n"
     ]
    },
    {
     "name": "stdout",
     "output_type": "stream",
     "text": [
      "Initialised with 1 image(s) found.\n",
      "Output directory set to C:/Users/User/Desktop/Test/GeneratedData/TempFolderRename/."
     ]
    },
    {
     "name": "stderr",
     "output_type": "stream",
     "text": [
      "Processing <PIL.Image.Image image mode=RGB size=490x490 at 0xA239358>: 100%|█| 1/1 [00:00<00:00, 17.24 Samples/s]\n"
     ]
    },
    {
     "name": "stdout",
     "output_type": "stream",
     "text": [
      "Initialised with 1 image(s) found.\n",
      "Output directory set to C:/Users/User/Desktop/Test/GeneratedData/TempFolderRename/."
     ]
    },
    {
     "name": "stderr",
     "output_type": "stream",
     "text": [
      "Processing <PIL.Image.Image image mode=RGB size=490x490 at 0xA239198>: 100%|█| 1/1 [00:00<00:00, 16.39 Samples/s]\n"
     ]
    },
    {
     "name": "stdout",
     "output_type": "stream",
     "text": [
      "Initialised with 1 image(s) found.\n",
      "Output directory set to C:/Users/User/Desktop/Test/GeneratedData/TempFolderRename/."
     ]
    },
    {
     "name": "stderr",
     "output_type": "stream",
     "text": [
      "Processing <PIL.Image.Image image mode=RGB size=490x490 at 0xA239358>: 100%|█| 1/1 [00:00<00:00, 10.75 Samples/s]\n"
     ]
    },
    {
     "name": "stdout",
     "output_type": "stream",
     "text": [
      "Initialised with 1 image(s) found.\n",
      "Output directory set to C:/Users/User/Desktop/Test/GeneratedData/TempFolderRename/."
     ]
    },
    {
     "name": "stderr",
     "output_type": "stream",
     "text": [
      "Processing <PIL.Image.Image image mode=RGB size=490x490 at 0xA239198>: 100%|█| 1/1 [00:00<00:00,  9.43 Samples/s]\n"
     ]
    },
    {
     "name": "stdout",
     "output_type": "stream",
     "text": [
      "Initialised with 1 image(s) found.\n",
      "Output directory set to C:/Users/User/Desktop/Test/GeneratedData/TempFolderRename/."
     ]
    },
    {
     "name": "stderr",
     "output_type": "stream",
     "text": [
      "Processing <PIL.Image.Image image mode=RGB size=490x490 at 0xA239080>: 100%|█| 1/1 [00:00<00:00, 16.95 Samples/s]\n"
     ]
    },
    {
     "name": "stdout",
     "output_type": "stream",
     "text": [
      "Initialised with 1 image(s) found.\n",
      "Output directory set to C:/Users/User/Desktop/Test/GeneratedData/TempFolderRename/."
     ]
    },
    {
     "name": "stderr",
     "output_type": "stream",
     "text": [
      "Processing <PIL.Image.Image image mode=RGB size=490x490 at 0xA239208>: 100%|█| 1/1 [00:00<00:00, 17.24 Samples/s]\n"
     ]
    },
    {
     "name": "stdout",
     "output_type": "stream",
     "text": [
      "Initialised with 1 image(s) found.\n",
      "Output directory set to C:/Users/User/Desktop/Test/GeneratedData/TempFolderRename/."
     ]
    },
    {
     "name": "stderr",
     "output_type": "stream",
     "text": [
      "Processing <PIL.Image.Image image mode=RGB size=490x490 at 0xA239198>: 100%|█| 1/1 [00:00<00:00, 11.63 Samples/s]\n"
     ]
    },
    {
     "name": "stdout",
     "output_type": "stream",
     "text": [
      "Initialised with 1 image(s) found.\n",
      "Output directory set to C:/Users/User/Desktop/Test/GeneratedData/TempFolderRename/."
     ]
    },
    {
     "name": "stderr",
     "output_type": "stream",
     "text": [
      "Processing <PIL.Image.Image image mode=RGB size=490x490 at 0xA239208>: 100%|█| 1/1 [00:00<00:00, 11.63 Samples/s]\n"
     ]
    },
    {
     "name": "stdout",
     "output_type": "stream",
     "text": [
      "Initialised with 1 image(s) found.\n",
      "Output directory set to C:/Users/User/Desktop/Test/GeneratedData/TempFolderRename/."
     ]
    },
    {
     "name": "stderr",
     "output_type": "stream",
     "text": [
      "Processing <PIL.Image.Image image mode=RGB size=490x490 at 0xA239278>: 100%|█| 1/1 [00:00<00:00, 16.95 Samples/s]\n"
     ]
    },
    {
     "name": "stdout",
     "output_type": "stream",
     "text": [
      "Initialised with 1 image(s) found.\n",
      "Output directory set to C:/Users/User/Desktop/Test/GeneratedData/TempFolderRename/."
     ]
    },
    {
     "name": "stderr",
     "output_type": "stream",
     "text": [
      "Processing <PIL.Image.Image image mode=RGB size=490x490 at 0xA239208>: 100%|█| 1/1 [00:00<00:00, 17.24 Samples/s]\n"
     ]
    },
    {
     "name": "stdout",
     "output_type": "stream",
     "text": [
      "Initialised with 1 image(s) found.\n",
      "Output directory set to C:/Users/User/Desktop/Test/GeneratedData/TempFolderRename/."
     ]
    },
    {
     "name": "stderr",
     "output_type": "stream",
     "text": [
      "Processing <PIL.Image.Image image mode=RGB size=490x490 at 0xA239358>: 100%|█| 1/1 [00:00<00:00, 17.24 Samples/s]\n"
     ]
    },
    {
     "name": "stdout",
     "output_type": "stream",
     "text": [
      "Initialised with 1 image(s) found.\n",
      "Output directory set to C:/Users/User/Desktop/Test/GeneratedData/TempFolderRename/."
     ]
    },
    {
     "name": "stderr",
     "output_type": "stream",
     "text": [
      "Processing <PIL.Image.Image image mode=RGB size=490x490 at 0xA239208>: 100%|█| 1/1 [00:00<00:00, 16.95 Samples/s]\n"
     ]
    },
    {
     "name": "stdout",
     "output_type": "stream",
     "text": [
      "Initialised with 1 image(s) found.\n",
      "Output directory set to C:/Users/User/Desktop/Test/GeneratedData/TempFolderRename/."
     ]
    },
    {
     "name": "stderr",
     "output_type": "stream",
     "text": [
      "Processing <PIL.Image.Image image mode=RGB size=490x490 at 0xA239358>: 100%|█| 1/1 [00:00<00:00, 17.24 Samples/s]\n"
     ]
    },
    {
     "name": "stdout",
     "output_type": "stream",
     "text": [
      "Initialised with 1 image(s) found.\n",
      "Output directory set to C:/Users/User/Desktop/Test/GeneratedData/TempFolderRename/."
     ]
    },
    {
     "name": "stderr",
     "output_type": "stream",
     "text": [
      "Processing <PIL.Image.Image image mode=RGB size=490x490 at 0xA239208>: 100%|█| 1/1 [00:00<00:00, 11.76 Samples/s]\n"
     ]
    },
    {
     "name": "stdout",
     "output_type": "stream",
     "text": [
      "Initialised with 1 image(s) found.\n",
      "Output directory set to C:/Users/User/Desktop/Test/GeneratedData/TempFolderRename/."
     ]
    },
    {
     "name": "stderr",
     "output_type": "stream",
     "text": [
      "Processing <PIL.Image.Image image mode=RGB size=490x490 at 0xA239358>: 100%|█| 1/1 [00:00<00:00, 11.24 Samples/s]\n"
     ]
    },
    {
     "name": "stdout",
     "output_type": "stream",
     "text": [
      "Initialised with 1 image(s) found.\n",
      "Output directory set to C:/Users/User/Desktop/Test/GeneratedData/TempFolderRename/."
     ]
    },
    {
     "name": "stderr",
     "output_type": "stream",
     "text": [
      "Processing <PIL.Image.Image image mode=RGB size=490x490 at 0xA239208>: 100%|█| 1/1 [00:00<00:00, 11.11 Samples/s]\n"
     ]
    },
    {
     "name": "stdout",
     "output_type": "stream",
     "text": [
      "Initialised with 1 image(s) found.\n",
      "Output directory set to C:/Users/User/Desktop/Test/GeneratedData/TempFolderRename/."
     ]
    },
    {
     "name": "stderr",
     "output_type": "stream",
     "text": [
      "Processing <PIL.Image.Image image mode=RGB size=490x490 at 0xA239358>: 100%|█| 1/1 [00:00<00:00, 11.76 Samples/s]\n"
     ]
    },
    {
     "name": "stdout",
     "output_type": "stream",
     "text": [
      "Initialised with 1 image(s) found.\n",
      "Output directory set to C:/Users/User/Desktop/Test/GeneratedData/TempFolderRename/."
     ]
    },
    {
     "name": "stderr",
     "output_type": "stream",
     "text": [
      "Processing <PIL.Image.Image image mode=RGB size=490x490 at 0xA239278>: 100%|█| 1/1 [00:00<00:00, 11.90 Samples/s]\n"
     ]
    },
    {
     "name": "stdout",
     "output_type": "stream",
     "text": [
      "Initialised with 1 image(s) found.\n",
      "Output directory set to C:/Users/User/Desktop/Test/GeneratedData/TempFolderRename/."
     ]
    },
    {
     "name": "stderr",
     "output_type": "stream",
     "text": [
      "Processing <PIL.Image.Image image mode=RGB size=490x490 at 0xA239240>: 100%|█| 1/1 [00:00<00:00, 16.67 Samples/s]\n"
     ]
    },
    {
     "name": "stdout",
     "output_type": "stream",
     "text": [
      "Initialised with 1 image(s) found.\n",
      "Output directory set to C:/Users/User/Desktop/Test/GeneratedData/TempFolderRename/."
     ]
    },
    {
     "name": "stderr",
     "output_type": "stream",
     "text": [
      "Processing <PIL.Image.Image image mode=RGB size=490x490 at 0xA239208>: 100%|█| 1/1 [00:00<00:00,  2.71 Samples/s]\n"
     ]
    },
    {
     "name": "stdout",
     "output_type": "stream",
     "text": [
      "Initialised with 1 image(s) found.\n",
      "Output directory set to C:/Users/User/Desktop/Test/GeneratedData/TempFolderRename/."
     ]
    },
    {
     "name": "stderr",
     "output_type": "stream",
     "text": [
      "Processing <PIL.Image.Image image mode=RGB size=490x490 at 0xA2390F0>: 100%|█| 1/1 [00:00<00:00, 27.78 Samples/s]\n"
     ]
    },
    {
     "name": "stdout",
     "output_type": "stream",
     "text": [
      "Initialised with 1 image(s) found.\n",
      "Output directory set to C:/Users/User/Desktop/Test/GeneratedData/TempFolderRename/."
     ]
    },
    {
     "name": "stderr",
     "output_type": "stream",
     "text": [
      "Processing <PIL.Image.Image image mode=RGB size=490x490 at 0xA2392E8>: 100%|█| 1/1 [00:00<00:00, 14.92 Samples/s]\n"
     ]
    },
    {
     "name": "stdout",
     "output_type": "stream",
     "text": [
      "Initialised with 1 image(s) found.\n",
      "Output directory set to C:/Users/User/Desktop/Test/GeneratedData/TempFolderRename/."
     ]
    },
    {
     "name": "stderr",
     "output_type": "stream",
     "text": [
      "Processing <PIL.Image.Image image mode=RGB size=490x490 at 0xA2392B0>: 100%|█| 1/1 [00:00<00:00,  8.55 Samples/s]\n"
     ]
    },
    {
     "name": "stdout",
     "output_type": "stream",
     "text": [
      "Initialised with 1 image(s) found.\n",
      "Output directory set to C:/Users/User/Desktop/Test/GeneratedData/TempFolderRename/."
     ]
    },
    {
     "name": "stderr",
     "output_type": "stream",
     "text": [
      "Processing <PIL.Image.Image image mode=RGB size=490x490 at 0xA239080>: 100%|█| 1/1 [00:00<00:00, 11.24 Samples/s]\n"
     ]
    },
    {
     "name": "stdout",
     "output_type": "stream",
     "text": [
      "Initialised with 1 image(s) found.\n",
      "Output directory set to C:/Users/User/Desktop/Test/GeneratedData/TempFolderRename/."
     ]
    },
    {
     "name": "stderr",
     "output_type": "stream",
     "text": [
      "Processing <PIL.Image.Image image mode=RGB size=490x490 at 0xA239358>: 100%|█| 1/1 [00:00<00:00, 16.39 Samples/s]\n"
     ]
    },
    {
     "name": "stdout",
     "output_type": "stream",
     "text": [
      "Initialised with 1 image(s) found.\n",
      "Output directory set to C:/Users/User/Desktop/Test/GeneratedData/TempFolderRename/."
     ]
    },
    {
     "name": "stderr",
     "output_type": "stream",
     "text": [
      "Processing <PIL.Image.Image image mode=RGB size=490x490 at 0xA239080>: 100%|█| 1/1 [00:00<00:00, 16.95 Samples/s]\n"
     ]
    },
    {
     "name": "stdout",
     "output_type": "stream",
     "text": [
      "Initialised with 1 image(s) found.\n",
      "Output directory set to C:/Users/User/Desktop/Test/GeneratedData/TempFolderRename/."
     ]
    },
    {
     "name": "stderr",
     "output_type": "stream",
     "text": [
      "Processing <PIL.Image.Image image mode=RGB size=490x490 at 0xA239278>: 100%|█| 1/1 [00:00<00:00, 16.39 Samples/s]\n"
     ]
    },
    {
     "name": "stdout",
     "output_type": "stream",
     "text": [
      "Initialised with 1 image(s) found.\n",
      "Output directory set to C:/Users/User/Desktop/Test/GeneratedData/TempFolderRename/."
     ]
    },
    {
     "name": "stderr",
     "output_type": "stream",
     "text": [
      "Processing <PIL.Image.Image image mode=RGB size=490x490 at 0xA239240>: 100%|█| 1/1 [00:00<00:00,  8.00 Samples/s]\n"
     ]
    },
    {
     "name": "stdout",
     "output_type": "stream",
     "text": [
      "Initialised with 1 image(s) found.\n",
      "Output directory set to C:/Users/User/Desktop/Test/GeneratedData/TempFolderRename/."
     ]
    },
    {
     "name": "stderr",
     "output_type": "stream",
     "text": [
      "Processing <PIL.Image.Image image mode=RGB size=490x490 at 0xA239080>: 100%|█| 1/1 [00:00<00:00, 16.67 Samples/s]\n"
     ]
    },
    {
     "name": "stdout",
     "output_type": "stream",
     "text": [
      "Initialised with 1 image(s) found.\n",
      "Output directory set to C:/Users/User/Desktop/Test/GeneratedData/TempFolderRename/."
     ]
    },
    {
     "name": "stderr",
     "output_type": "stream",
     "text": [
      "Processing <PIL.Image.Image image mode=RGB size=490x490 at 0xA239278>: 100%|█| 1/1 [00:00<00:00, 10.99 Samples/s]\n"
     ]
    },
    {
     "name": "stdout",
     "output_type": "stream",
     "text": [
      "Initialised with 1 image(s) found.\n",
      "Output directory set to C:/Users/User/Desktop/Test/GeneratedData/TempFolderRename/."
     ]
    },
    {
     "name": "stderr",
     "output_type": "stream",
     "text": [
      "Processing <PIL.Image.Image image mode=RGB size=490x490 at 0xA239080>: 100%|█| 1/1 [00:00<00:00, 11.63 Samples/s]\n"
     ]
    },
    {
     "name": "stdout",
     "output_type": "stream",
     "text": [
      "Initialised with 1 image(s) found.\n",
      "Output directory set to C:/Users/User/Desktop/Test/GeneratedData/TempFolderRename/."
     ]
    },
    {
     "name": "stderr",
     "output_type": "stream",
     "text": [
      "Processing <PIL.Image.Image image mode=RGB size=490x490 at 0xA239278>: 100%|█| 1/1 [00:00<00:00, 11.36 Samples/s]\n"
     ]
    },
    {
     "name": "stdout",
     "output_type": "stream",
     "text": [
      "Initialised with 1 image(s) found.\n",
      "Output directory set to C:/Users/User/Desktop/Test/GeneratedData/TempFolderRename/."
     ]
    },
    {
     "name": "stderr",
     "output_type": "stream",
     "text": [
      "Processing <PIL.Image.Image image mode=RGB size=490x490 at 0xA239198>: 100%|█| 1/1 [00:00<00:00, 17.24 Samples/s]\n"
     ]
    },
    {
     "name": "stdout",
     "output_type": "stream",
     "text": [
      "Initialised with 1 image(s) found.\n",
      "Output directory set to C:/Users/User/Desktop/Test/GeneratedData/TempFolderRename/."
     ]
    },
    {
     "name": "stderr",
     "output_type": "stream",
     "text": [
      "Processing <PIL.Image.Image image mode=RGB size=490x490 at 0xA239278>: 100%|█| 1/1 [00:00<00:00, 11.49 Samples/s]\n"
     ]
    },
    {
     "name": "stdout",
     "output_type": "stream",
     "text": [
      "Initialised with 1 image(s) found.\n",
      "Output directory set to C:/Users/User/Desktop/Test/GeneratedData/TempFolderRename/."
     ]
    },
    {
     "name": "stderr",
     "output_type": "stream",
     "text": [
      "Processing <PIL.Image.Image image mode=RGB size=490x490 at 0xA239198>: 100%|█| 1/1 [00:00<00:00, 14.71 Samples/s]\n"
     ]
    },
    {
     "name": "stdout",
     "output_type": "stream",
     "text": [
      "Initialised with 1 image(s) found.\n",
      "Output directory set to C:/Users/User/Desktop/Test/GeneratedData/TempFolderRename/."
     ]
    },
    {
     "name": "stderr",
     "output_type": "stream",
     "text": [
      "Processing <PIL.Image.Image image mode=RGB size=490x490 at 0xA239390>: 100%|█| 1/1 [00:00<00:00,  1.18 Samples/s]\n"
     ]
    },
    {
     "name": "stdout",
     "output_type": "stream",
     "text": [
      "Initialised with 1 image(s) found.\n",
      "Output directory set to C:/Users/User/Desktop/Test/GeneratedData/TempFolderRename/."
     ]
    },
    {
     "name": "stderr",
     "output_type": "stream",
     "text": [
      "Processing <PIL.Image.Image image mode=RGB size=490x490 at 0xA239198>: 100%|█| 1/1 [00:00<00:00, 11.36 Samples/s]\n"
     ]
    },
    {
     "name": "stdout",
     "output_type": "stream",
     "text": [
      "Initialised with 1 image(s) found.\n",
      "Output directory set to C:/Users/User/Desktop/Test/GeneratedData/TempFolderRename/."
     ]
    },
    {
     "name": "stderr",
     "output_type": "stream",
     "text": [
      "Processing <PIL.Image.Image image mode=RGB size=490x490 at 0xA239390>: 100%|█| 1/1 [00:00<00:00, 11.76 Samples/s]\n"
     ]
    },
    {
     "name": "stdout",
     "output_type": "stream",
     "text": [
      "Initialised with 1 image(s) found.\n",
      "Output directory set to C:/Users/User/Desktop/Test/GeneratedData/TempFolderRename/."
     ]
    },
    {
     "name": "stderr",
     "output_type": "stream",
     "text": [
      "Processing <PIL.Image.Image image mode=RGB size=490x490 at 0xA239198>: 100%|█| 1/1 [00:00<00:00, 16.13 Samples/s]\n"
     ]
    },
    {
     "name": "stdout",
     "output_type": "stream",
     "text": [
      "Initialised with 1 image(s) found.\n",
      "Output directory set to C:/Users/User/Desktop/Test/GeneratedData/TempFolderRename/."
     ]
    },
    {
     "name": "stderr",
     "output_type": "stream",
     "text": [
      "Processing <PIL.Image.Image image mode=RGB size=490x490 at 0xA239240>: 100%|█| 1/1 [00:00<00:00,  8.62 Samples/s]\n"
     ]
    },
    {
     "name": "stdout",
     "output_type": "stream",
     "text": [
      "Initialised with 1 image(s) found.\n",
      "Output directory set to C:/Users/User/Desktop/Test/GeneratedData/TempFolderRename/."
     ]
    },
    {
     "name": "stderr",
     "output_type": "stream",
     "text": [
      "Processing <PIL.Image.Image image mode=RGB size=490x490 at 0xA2392B0>: 100%|█| 1/1 [00:00<00:00, 33.33 Samples/s]\n"
     ]
    },
    {
     "name": "stdout",
     "output_type": "stream",
     "text": [
      "Initialised with 1 image(s) found.\n",
      "Output directory set to C:/Users/User/Desktop/Test/GeneratedData/TempFolderRename/."
     ]
    },
    {
     "name": "stderr",
     "output_type": "stream",
     "text": [
      "Processing <PIL.Image.Image image mode=RGB size=490x490 at 0xA239240>: 100%|█| 1/1 [00:00<00:00, 15.38 Samples/s]\n"
     ]
    },
    {
     "name": "stdout",
     "output_type": "stream",
     "text": [
      "Initialised with 1 image(s) found.\n",
      "Output directory set to C:/Users/User/Desktop/Test/GeneratedData/TempFolderRename/."
     ]
    },
    {
     "name": "stderr",
     "output_type": "stream",
     "text": [
      "Processing <PIL.Image.Image image mode=RGB size=490x490 at 0xA239080>: 100%|█| 1/1 [00:00<00:00, 14.49 Samples/s]\n"
     ]
    },
    {
     "name": "stdout",
     "output_type": "stream",
     "text": [
      "Initialised with 1 image(s) found.\n",
      "Output directory set to C:/Users/User/Desktop/Test/GeneratedData/TempFolderRename/."
     ]
    },
    {
     "name": "stderr",
     "output_type": "stream",
     "text": [
      "Processing <PIL.Image.Image image mode=RGB size=490x490 at 0xA239240>: 100%|█| 1/1 [00:00<00:00, 10.10 Samples/s]\n"
     ]
    },
    {
     "name": "stdout",
     "output_type": "stream",
     "text": [
      "Initialised with 1 image(s) found.\n",
      "Output directory set to C:/Users/User/Desktop/Test/GeneratedData/TempFolderRename/."
     ]
    },
    {
     "name": "stderr",
     "output_type": "stream",
     "text": [
      "Processing <PIL.Image.Image image mode=RGB size=490x490 at 0xA239080>: 100%|█| 1/1 [00:00<00:00, 11.24 Samples/s]\n"
     ]
    },
    {
     "name": "stdout",
     "output_type": "stream",
     "text": [
      "Initialised with 1 image(s) found.\n",
      "Output directory set to C:/Users/User/Desktop/Test/GeneratedData/TempFolderRename/."
     ]
    },
    {
     "name": "stderr",
     "output_type": "stream",
     "text": [
      "Processing <PIL.Image.Image image mode=RGB size=490x490 at 0xA239240>: 100%|█| 1/1 [00:00<00:00, 11.24 Samples/s]\n"
     ]
    },
    {
     "name": "stdout",
     "output_type": "stream",
     "text": [
      "Initialised with 1 image(s) found.\n",
      "Output directory set to C:/Users/User/Desktop/Test/GeneratedData/TempFolderRename/."
     ]
    },
    {
     "name": "stderr",
     "output_type": "stream",
     "text": [
      "Processing <PIL.Image.Image image mode=RGB size=490x490 at 0xA2392B0>: 100%|█| 1/1 [00:00<00:00, 11.76 Samples/s]\n"
     ]
    },
    {
     "name": "stdout",
     "output_type": "stream",
     "text": [
      "Initialised with 1 image(s) found.\n",
      "Output directory set to C:/Users/User/Desktop/Test/GeneratedData/TempFolderRename/."
     ]
    },
    {
     "name": "stderr",
     "output_type": "stream",
     "text": [
      "Processing <PIL.Image.Image image mode=RGB size=490x490 at 0xA239240>: 100%|█| 1/1 [00:00<00:00,  7.30 Samples/s]\n"
     ]
    },
    {
     "name": "stdout",
     "output_type": "stream",
     "text": [
      "Initialised with 1 image(s) found.\n",
      "Output directory set to C:/Users/User/Desktop/Test/GeneratedData/TempFolderRename/."
     ]
    },
    {
     "name": "stderr",
     "output_type": "stream",
     "text": [
      "Processing <PIL.Image.Image image mode=RGB size=490x490 at 0xA2392B0>: 100%|█| 1/1 [00:00<00:00, 16.13 Samples/s]\n"
     ]
    },
    {
     "name": "stdout",
     "output_type": "stream",
     "text": [
      "Initialised with 1 image(s) found.\n",
      "Output directory set to C:/Users/User/Desktop/Test/GeneratedData/TempFolderRename/."
     ]
    },
    {
     "name": "stderr",
     "output_type": "stream",
     "text": [
      "Processing <PIL.Image.Image image mode=RGB size=490x490 at 0xA239240>: 100%|█| 1/1 [00:00<00:00, 16.95 Samples/s]\n"
     ]
    },
    {
     "name": "stdout",
     "output_type": "stream",
     "text": [
      "Initialised with 1 image(s) found.\n",
      "Output directory set to C:/Users/User/Desktop/Test/GeneratedData/TempFolderRename/."
     ]
    },
    {
     "name": "stderr",
     "output_type": "stream",
     "text": [
      "Processing <PIL.Image.Image image mode=RGB size=490x490 at 0xA2390F0>: 100%|█| 1/1 [00:00<00:00, 15.62 Samples/s]\n"
     ]
    },
    {
     "name": "stdout",
     "output_type": "stream",
     "text": [
      "Initialised with 1 image(s) found.\n",
      "Output directory set to C:/Users/User/Desktop/Test/GeneratedData/TempFolderRename/."
     ]
    },
    {
     "name": "stderr",
     "output_type": "stream",
     "text": [
      "Processing <PIL.Image.Image image mode=RGB size=490x490 at 0xA2392E8>: 100%|█| 1/1 [00:00<00:00,  6.99 Samples/s]\n"
     ]
    },
    {
     "name": "stdout",
     "output_type": "stream",
     "text": [
      "Initialised with 1 image(s) found.\n",
      "Output directory set to C:/Users/User/Desktop/Test/GeneratedData/TempFolderRename/."
     ]
    },
    {
     "name": "stderr",
     "output_type": "stream",
     "text": [
      "Processing <PIL.Image.Image image mode=RGB size=490x490 at 0xA239198>: 100%|█| 1/1 [00:00<00:00, 17.24 Samples/s]\n"
     ]
    },
    {
     "name": "stdout",
     "output_type": "stream",
     "text": [
      "Initialised with 1 image(s) found.\n",
      "Output directory set to C:/Users/User/Desktop/Test/GeneratedData/TempFolderRename/."
     ]
    },
    {
     "name": "stderr",
     "output_type": "stream",
     "text": [
      "Processing <PIL.Image.Image image mode=RGB size=490x490 at 0xA239358>: 100%|█| 1/1 [00:00<00:00, 16.39 Samples/s]\n"
     ]
    },
    {
     "name": "stdout",
     "output_type": "stream",
     "text": [
      "Initialised with 1 image(s) found.\n",
      "Output directory set to C:/Users/User/Desktop/Test/GeneratedData/TempFolderRename/."
     ]
    },
    {
     "name": "stderr",
     "output_type": "stream",
     "text": [
      "Processing <PIL.Image.Image image mode=RGB size=490x490 at 0xA239198>: 100%|█| 1/1 [00:00<00:00, 11.24 Samples/s]\n"
     ]
    },
    {
     "name": "stdout",
     "output_type": "stream",
     "text": [
      "Initialised with 1 image(s) found.\n",
      "Output directory set to C:/Users/User/Desktop/Test/GeneratedData/TempFolderRename/."
     ]
    },
    {
     "name": "stderr",
     "output_type": "stream",
     "text": [
      "Processing <PIL.Image.Image image mode=RGB size=490x490 at 0xA239390>: 100%|█| 1/1 [00:00<00:00, 14.28 Samples/s]\n"
     ]
    },
    {
     "name": "stdout",
     "output_type": "stream",
     "text": [
      "Initialised with 1 image(s) found.\n",
      "Output directory set to C:/Users/User/Desktop/Test/GeneratedData/TempFolderRename/."
     ]
    },
    {
     "name": "stderr",
     "output_type": "stream",
     "text": [
      "Processing <PIL.Image.Image image mode=RGB size=490x490 at 0xA239198>: 100%|█| 1/1 [00:00<00:00,  9.90 Samples/s]\n"
     ]
    },
    {
     "name": "stdout",
     "output_type": "stream",
     "text": [
      "Initialised with 1 image(s) found.\n",
      "Output directory set to C:/Users/User/Desktop/Test/GeneratedData/TempFolderRename/."
     ]
    },
    {
     "name": "stderr",
     "output_type": "stream",
     "text": [
      "Processing <PIL.Image.Image image mode=RGB size=490x490 at 0xA239390>: 100%|█| 1/1 [00:00<00:00, 15.62 Samples/s]\n"
     ]
    },
    {
     "name": "stdout",
     "output_type": "stream",
     "text": [
      "Initialised with 1 image(s) found.\n",
      "Output directory set to C:/Users/User/Desktop/Test/GeneratedData/TempFolderRename/."
     ]
    },
    {
     "name": "stderr",
     "output_type": "stream",
     "text": [
      "Processing <PIL.Image.Image image mode=RGB size=490x490 at 0xA2392E8>: 100%|█| 1/1 [00:00<00:00,  8.70 Samples/s]\n"
     ]
    },
    {
     "name": "stdout",
     "output_type": "stream",
     "text": [
      "Initialised with 1 image(s) found.\n",
      "Output directory set to C:/Users/User/Desktop/Test/GeneratedData/TempFolderRename/."
     ]
    },
    {
     "name": "stderr",
     "output_type": "stream",
     "text": [
      "Processing <PIL.Image.Image image mode=RGB size=490x490 at 0xA239390>: 100%|█| 1/1 [00:00<00:00,  7.87 Samples/s]\n"
     ]
    },
    {
     "name": "stdout",
     "output_type": "stream",
     "text": [
      "Initialised with 1 image(s) found.\n",
      "Output directory set to C:/Users/User/Desktop/Test/GeneratedData/TempFolderRename/."
     ]
    },
    {
     "name": "stderr",
     "output_type": "stream",
     "text": [
      "Processing <PIL.Image.Image image mode=RGB size=490x490 at 0xA2392E8>: 100%|█| 1/1 [00:00<00:00, 10.42 Samples/s]\n"
     ]
    },
    {
     "name": "stdout",
     "output_type": "stream",
     "text": [
      "Initialised with 1 image(s) found.\n",
      "Output directory set to C:/Users/User/Desktop/Test/GeneratedData/TempFolderRename/."
     ]
    },
    {
     "name": "stderr",
     "output_type": "stream",
     "text": [
      "Processing <PIL.Image.Image image mode=RGB size=490x490 at 0xA239390>: 100%|█| 1/1 [00:00<00:00,  9.80 Samples/s]\n"
     ]
    },
    {
     "name": "stdout",
     "output_type": "stream",
     "text": [
      "Initialised with 1 image(s) found.\n",
      "Output directory set to C:/Users/User/Desktop/Test/GeneratedData/TempFolderRename/."
     ]
    },
    {
     "name": "stderr",
     "output_type": "stream",
     "text": [
      "Processing <PIL.Image.Image image mode=RGB size=490x490 at 0xA2392E8>: 100%|█| 1/1 [00:00<00:00, 10.10 Samples/s]\n"
     ]
    },
    {
     "name": "stdout",
     "output_type": "stream",
     "text": [
      "Initialised with 1 image(s) found.\n",
      "Output directory set to C:/Users/User/Desktop/Test/GeneratedData/TempFolderRename/."
     ]
    },
    {
     "name": "stderr",
     "output_type": "stream",
     "text": [
      "Processing <PIL.Image.Image image mode=RGB size=490x490 at 0xA239198>: 100%|█| 1/1 [00:00<00:00, 14.49 Samples/s]\n"
     ]
    },
    {
     "name": "stdout",
     "output_type": "stream",
     "text": [
      "Initialised with 1 image(s) found.\n",
      "Output directory set to C:/Users/User/Desktop/Test/GeneratedData/TempFolderRename/."
     ]
    },
    {
     "name": "stderr",
     "output_type": "stream",
     "text": [
      "Processing <PIL.Image.Image image mode=RGB size=490x490 at 0xA239208>: 100%|█| 1/1 [00:00<00:00, 23.25 Samples/s]\n"
     ]
    },
    {
     "name": "stdout",
     "output_type": "stream",
     "text": [
      "Initialised with 1 image(s) found.\n",
      "Output directory set to C:/Users/User/Desktop/Test/GeneratedData/TempFolderRename/."
     ]
    },
    {
     "name": "stderr",
     "output_type": "stream",
     "text": [
      "Processing <PIL.Image.Image image mode=RGB size=490x490 at 0xA239198>: 100%|█| 1/1 [00:00<00:00, 15.87 Samples/s]\n"
     ]
    },
    {
     "name": "stdout",
     "output_type": "stream",
     "text": [
      "Initialised with 1 image(s) found.\n",
      "Output directory set to C:/Users/User/Desktop/Test/GeneratedData/TempFolderRename/."
     ]
    },
    {
     "name": "stderr",
     "output_type": "stream",
     "text": [
      "Processing <PIL.Image.Image image mode=RGB size=490x490 at 0xA239278>: 100%|█| 1/1 [00:00<00:00, 14.70 Samples/s]\n"
     ]
    },
    {
     "name": "stdout",
     "output_type": "stream",
     "text": [
      "Initialised with 1 image(s) found.\n",
      "Output directory set to C:/Users/User/Desktop/Test/GeneratedData/TempFolderRename/."
     ]
    },
    {
     "name": "stderr",
     "output_type": "stream",
     "text": [
      "Processing <PIL.Image.Image image mode=RGB size=490x490 at 0xA239080>: 100%|█| 1/1 [00:00<00:00,  1.72 Samples/s]\n"
     ]
    },
    {
     "name": "stdout",
     "output_type": "stream",
     "text": [
      "Initialised with 1 image(s) found.\n",
      "Output directory set to C:/Users/User/Desktop/Test/GeneratedData/TempFolderRename/."
     ]
    },
    {
     "name": "stderr",
     "output_type": "stream",
     "text": [
      "Processing <PIL.Image.Image image mode=RGB size=490x490 at 0xA239278>: 100%|█| 1/1 [00:00<00:00, 11.36 Samples/s]\n"
     ]
    },
    {
     "name": "stdout",
     "output_type": "stream",
     "text": [
      "Initialised with 1 image(s) found.\n",
      "Output directory set to C:/Users/User/Desktop/Test/GeneratedData/TempFolderRename/."
     ]
    },
    {
     "name": "stderr",
     "output_type": "stream",
     "text": [
      "Processing <PIL.Image.Image image mode=RGB size=490x490 at 0xA239320>: 100%|█| 1/1 [00:00<00:00, 11.49 Samples/s]\n"
     ]
    },
    {
     "name": "stdout",
     "output_type": "stream",
     "text": [
      "Initialised with 1 image(s) found.\n",
      "Output directory set to C:/Users/User/Desktop/Test/GeneratedData/TempFolderRename/."
     ]
    },
    {
     "name": "stderr",
     "output_type": "stream",
     "text": [
      "Processing <PIL.Image.Image image mode=RGB size=490x490 at 0xA2392B0>: 100%|█| 1/1 [00:00<00:00, 33.33 Samples/s]\n"
     ]
    },
    {
     "name": "stdout",
     "output_type": "stream",
     "text": [
      "Initialised with 1 image(s) found.\n",
      "Output directory set to C:/Users/User/Desktop/Test/GeneratedData/TempFolderRename/."
     ]
    },
    {
     "name": "stderr",
     "output_type": "stream",
     "text": [
      "Processing <PIL.Image.Image image mode=RGB size=490x490 at 0xA239198>: 100%|█| 1/1 [00:00<00:00,  8.85 Samples/s]\n"
     ]
    },
    {
     "name": "stdout",
     "output_type": "stream",
     "text": [
      "Initialised with 1 image(s) found.\n",
      "Output directory set to C:/Users/User/Desktop/Test/GeneratedData/TempFolderRename/."
     ]
    },
    {
     "name": "stderr",
     "output_type": "stream",
     "text": [
      "Processing <PIL.Image.Image image mode=RGB size=490x490 at 0xA239320>: 100%|█| 1/1 [00:00<00:00, 15.87 Samples/s]\n"
     ]
    },
    {
     "name": "stdout",
     "output_type": "stream",
     "text": [
      "Initialised with 1 image(s) found.\n",
      "Output directory set to C:/Users/User/Desktop/Test/GeneratedData/TempFolderRename/."
     ]
    },
    {
     "name": "stderr",
     "output_type": "stream",
     "text": [
      "Processing <PIL.Image.Image image mode=RGB size=490x490 at 0xA239198>: 100%|█| 1/1 [00:00<00:00, 14.08 Samples/s]\n"
     ]
    },
    {
     "name": "stdout",
     "output_type": "stream",
     "text": [
      "Initialised with 1 image(s) found.\n",
      "Output directory set to C:/Users/User/Desktop/Test/GeneratedData/TempFolderRename/."
     ]
    },
    {
     "name": "stderr",
     "output_type": "stream",
     "text": [
      "Processing <PIL.Image.Image image mode=RGB size=490x490 at 0xA239240>: 100%|█| 1/1 [00:00<00:00, 15.38 Samples/s]\n"
     ]
    },
    {
     "name": "stdout",
     "output_type": "stream",
     "text": [
      "Initialised with 1 image(s) found.\n",
      "Output directory set to C:/Users/User/Desktop/Test/GeneratedData/TempFolderRename/."
     ]
    },
    {
     "name": "stderr",
     "output_type": "stream",
     "text": [
      "Processing <PIL.Image.Image image mode=RGB size=490x490 at 0xA2390F0>: 100%|█| 1/1 [00:00<00:00,  7.46 Samples/s]\n"
     ]
    },
    {
     "name": "stdout",
     "output_type": "stream",
     "text": [
      "Initialised with 1 image(s) found.\n",
      "Output directory set to C:/Users/User/Desktop/Test/GeneratedData/TempFolderRename/."
     ]
    },
    {
     "name": "stderr",
     "output_type": "stream",
     "text": [
      "Processing <PIL.Image.Image image mode=RGB size=490x490 at 0xA239240>: 100%|█| 1/1 [00:00<00:00, 15.62 Samples/s]\n"
     ]
    },
    {
     "name": "stdout",
     "output_type": "stream",
     "text": [
      "Initialised with 1 image(s) found.\n",
      "Output directory set to C:/Users/User/Desktop/Test/GeneratedData/TempFolderRename/."
     ]
    },
    {
     "name": "stderr",
     "output_type": "stream",
     "text": [
      "Processing <PIL.Image.Image image mode=RGB size=490x490 at 0xA2390F0>: 100%|█| 1/1 [00:00<00:00, 11.49 Samples/s]\n"
     ]
    },
    {
     "name": "stdout",
     "output_type": "stream",
     "text": [
      "Initialised with 1 image(s) found.\n",
      "Output directory set to C:/Users/User/Desktop/Test/GeneratedData/TempFolderRename/."
     ]
    },
    {
     "name": "stderr",
     "output_type": "stream",
     "text": [
      "Processing <PIL.Image.Image image mode=RGB size=490x490 at 0xA239240>: 100%|█| 1/1 [00:00<00:00, 11.76 Samples/s]\n"
     ]
    },
    {
     "name": "stdout",
     "output_type": "stream",
     "text": [
      "Initialised with 1 image(s) found.\n",
      "Output directory set to C:/Users/User/Desktop/Test/GeneratedData/TempFolderRename/."
     ]
    },
    {
     "name": "stderr",
     "output_type": "stream",
     "text": [
      "Processing <PIL.Image.Image image mode=RGB size=490x490 at 0xA2390F0>: 100%|█| 1/1 [00:00<00:00,  7.81 Samples/s]\n"
     ]
    },
    {
     "name": "stdout",
     "output_type": "stream",
     "text": [
      "Initialised with 1 image(s) found.\n",
      "Output directory set to C:/Users/User/Desktop/Test/GeneratedData/TempFolderRename/."
     ]
    },
    {
     "name": "stderr",
     "output_type": "stream",
     "text": [
      "Processing <PIL.Image.Image image mode=RGB size=490x490 at 0xA239240>: 100%|█| 1/1 [00:00<00:00, 12.19 Samples/s]\n"
     ]
    },
    {
     "name": "stdout",
     "output_type": "stream",
     "text": [
      "Initialised with 1 image(s) found.\n",
      "Output directory set to C:/Users/User/Desktop/Test/GeneratedData/TempFolderRename/."
     ]
    },
    {
     "name": "stderr",
     "output_type": "stream",
     "text": [
      "Processing <PIL.Image.Image image mode=RGB size=490x490 at 0xA2392E8>: 100%|█| 1/1 [00:00<00:00, 16.67 Samples/s]\n"
     ]
    },
    {
     "name": "stdout",
     "output_type": "stream",
     "text": [
      "Initialised with 1 image(s) found.\n",
      "Output directory set to C:/Users/User/Desktop/Test/GeneratedData/TempFolderRename/."
     ]
    },
    {
     "name": "stderr",
     "output_type": "stream",
     "text": [
      "Processing <PIL.Image.Image image mode=RGB size=490x490 at 0xA239208>: 100%|█| 1/1 [00:00<00:00, 16.95 Samples/s]\n"
     ]
    },
    {
     "name": "stdout",
     "output_type": "stream",
     "text": [
      "Initialised with 1 image(s) found.\n",
      "Output directory set to C:/Users/User/Desktop/Test/GeneratedData/TempFolderRename/."
     ]
    },
    {
     "name": "stderr",
     "output_type": "stream",
     "text": [
      "Processing <PIL.Image.Image image mode=RGB size=490x490 at 0xA2392E8>: 100%|█| 1/1 [00:00<00:00,  1.78 Samples/s]\n"
     ]
    },
    {
     "name": "stdout",
     "output_type": "stream",
     "text": [
      "Initialised with 1 image(s) found.\n",
      "Output directory set to C:/Users/User/Desktop/Test/GeneratedData/TempFolderRename/."
     ]
    },
    {
     "name": "stderr",
     "output_type": "stream",
     "text": [
      "Processing <PIL.Image.Image image mode=RGB size=490x490 at 0xA239080>: 100%|█| 1/1 [00:00<00:00, 11.76 Samples/s]\n"
     ]
    },
    {
     "name": "stdout",
     "output_type": "stream",
     "text": [
      "Initialised with 1 image(s) found.\n",
      "Output directory set to C:/Users/User/Desktop/Test/GeneratedData/TempFolderRename/."
     ]
    },
    {
     "name": "stderr",
     "output_type": "stream",
     "text": [
      "Processing <PIL.Image.Image image mode=RGB size=490x490 at 0xA239278>: 100%|█| 1/1 [00:00<00:00, 16.13 Samples/s]\n"
     ]
    },
    {
     "name": "stdout",
     "output_type": "stream",
     "text": [
      "Initialised with 1 image(s) found.\n",
      "Output directory set to C:/Users/User/Desktop/Test/GeneratedData/TempFolderRename/."
     ]
    },
    {
     "name": "stderr",
     "output_type": "stream",
     "text": [
      "Processing <PIL.Image.Image image mode=RGB size=490x490 at 0xA239208>: 100%|█| 1/1 [00:00<00:00, 16.95 Samples/s]\n"
     ]
    },
    {
     "name": "stdout",
     "output_type": "stream",
     "text": [
      "Initialised with 1 image(s) found.\n",
      "Output directory set to C:/Users/User/Desktop/Test/GeneratedData/TempFolderRename/."
     ]
    },
    {
     "name": "stderr",
     "output_type": "stream",
     "text": [
      "Processing <PIL.Image.Image image mode=RGB size=490x490 at 0xA239240>: 100%|█| 1/1 [00:00<00:00,  8.62 Samples/s]\n"
     ]
    },
    {
     "name": "stdout",
     "output_type": "stream",
     "text": [
      "Initialised with 1 image(s) found.\n",
      "Output directory set to C:/Users/User/Desktop/Test/GeneratedData/TempFolderRename/."
     ]
    },
    {
     "name": "stderr",
     "output_type": "stream",
     "text": [
      "Processing <PIL.Image.Image image mode=RGB size=490x490 at 0xA239208>: 100%|█| 1/1 [00:00<00:00, 11.36 Samples/s]\n"
     ]
    },
    {
     "name": "stdout",
     "output_type": "stream",
     "text": [
      "Initialised with 1 image(s) found.\n",
      "Output directory set to C:/Users/User/Desktop/Test/GeneratedData/TempFolderRename/."
     ]
    },
    {
     "name": "stderr",
     "output_type": "stream",
     "text": [
      "Processing <PIL.Image.Image image mode=RGB size=490x490 at 0xA239240>: 100%|█| 1/1 [00:00<00:00, 10.99 Samples/s]\n"
     ]
    },
    {
     "name": "stdout",
     "output_type": "stream",
     "text": [
      "Initialised with 1 image(s) found.\n",
      "Output directory set to C:/Users/User/Desktop/Test/GeneratedData/TempFolderRename/."
     ]
    },
    {
     "name": "stderr",
     "output_type": "stream",
     "text": [
      "Processing <PIL.Image.Image image mode=RGB size=490x490 at 0xA239278>: 100%|█| 1/1 [00:00<00:00, 16.67 Samples/s]\n"
     ]
    },
    {
     "name": "stdout",
     "output_type": "stream",
     "text": [
      "Initialised with 1 image(s) found.\n",
      "Output directory set to C:/Users/User/Desktop/Test/GeneratedData/TempFolderRename/."
     ]
    },
    {
     "name": "stderr",
     "output_type": "stream",
     "text": [
      "Processing <PIL.Image.Image image mode=RGB size=490x490 at 0xA239240>: 100%|█| 1/1 [00:00<00:00, 16.67 Samples/s]\n"
     ]
    },
    {
     "name": "stdout",
     "output_type": "stream",
     "text": [
      "Initialised with 1 image(s) found.\n",
      "Output directory set to C:/Users/User/Desktop/Test/GeneratedData/TempFolderRename/."
     ]
    },
    {
     "name": "stderr",
     "output_type": "stream",
     "text": [
      "Processing <PIL.Image.Image image mode=RGB size=490x490 at 0xA2390F0>: 100%|█| 1/1 [00:00<00:00,  8.93 Samples/s]\n"
     ]
    },
    {
     "name": "stdout",
     "output_type": "stream",
     "text": [
      "Initialised with 1 image(s) found.\n",
      "Output directory set to C:/Users/User/Desktop/Test/GeneratedData/TempFolderRename/."
     ]
    },
    {
     "name": "stderr",
     "output_type": "stream",
     "text": [
      "Processing <PIL.Image.Image image mode=RGB size=490x490 at 0xA239358>: 100%|█| 1/1 [00:00<00:00, 11.90 Samples/s]\n"
     ]
    },
    {
     "name": "stdout",
     "output_type": "stream",
     "text": [
      "Initialised with 1 image(s) found.\n",
      "Output directory set to C:/Users/User/Desktop/Test/GeneratedData/TempFolderRename/."
     ]
    },
    {
     "name": "stderr",
     "output_type": "stream",
     "text": [
      "Processing <PIL.Image.Image image mode=RGB size=490x490 at 0xA239390>: 100%|█| 1/1 [00:00<00:00, 16.95 Samples/s]\n"
     ]
    },
    {
     "name": "stdout",
     "output_type": "stream",
     "text": [
      "Initialised with 1 image(s) found.\n",
      "Output directory set to C:/Users/User/Desktop/Test/GeneratedData/TempFolderRename/."
     ]
    },
    {
     "name": "stderr",
     "output_type": "stream",
     "text": [
      "Processing <PIL.Image.Image image mode=RGB size=490x490 at 0xA239240>: 100%|█| 1/1 [00:00<00:00, 13.16 Samples/s]\n"
     ]
    },
    {
     "name": "stdout",
     "output_type": "stream",
     "text": [
      "Initialised with 1 image(s) found.\n",
      "Output directory set to C:/Users/User/Desktop/Test/GeneratedData/TempFolderRename/."
     ]
    },
    {
     "name": "stderr",
     "output_type": "stream",
     "text": [
      "Processing <PIL.Image.Image image mode=RGB size=490x490 at 0xA239358>: 100%|█| 1/1 [00:00<00:00,  9.09 Samples/s]\n"
     ]
    },
    {
     "name": "stdout",
     "output_type": "stream",
     "text": [
      "Initialised with 1 image(s) found.\n",
      "Output directory set to C:/Users/User/Desktop/Test/GeneratedData/TempFolderRename/."
     ]
    },
    {
     "name": "stderr",
     "output_type": "stream",
     "text": [
      "Processing <PIL.Image.Image image mode=RGB size=490x490 at 0xA239240>: 100%|█| 1/1 [00:00<00:00, 17.24 Samples/s]\n"
     ]
    },
    {
     "name": "stdout",
     "output_type": "stream",
     "text": [
      "Initialised with 1 image(s) found.\n",
      "Output directory set to C:/Users/User/Desktop/Test/GeneratedData/TempFolderRename/."
     ]
    },
    {
     "name": "stderr",
     "output_type": "stream",
     "text": [
      "Processing <PIL.Image.Image image mode=RGB size=490x490 at 0xA239208>: 100%|█| 1/1 [00:00<00:00, 16.67 Samples/s]\n"
     ]
    },
    {
     "name": "stdout",
     "output_type": "stream",
     "text": [
      "Initialised with 1 image(s) found.\n",
      "Output directory set to C:/Users/User/Desktop/Test/GeneratedData/TempFolderRename/."
     ]
    },
    {
     "name": "stderr",
     "output_type": "stream",
     "text": [
      "Processing <PIL.Image.Image image mode=RGB size=490x490 at 0xA239198>: 100%|█| 1/1 [00:00<00:00,  1.23 Samples/s]\n"
     ]
    },
    {
     "name": "stdout",
     "output_type": "stream",
     "text": [
      "Initialised with 1 image(s) found.\n",
      "Output directory set to C:/Users/User/Desktop/Test/GeneratedData/TempFolderRename/."
     ]
    },
    {
     "name": "stderr",
     "output_type": "stream",
     "text": [
      "Processing <PIL.Image.Image image mode=RGB size=490x490 at 0xA2392E8>: 100%|█| 1/1 [00:00<00:00, 11.49 Samples/s]\n"
     ]
    }
   ],
   "source": [
    "if __name__ == \"__main__\":\n",
    "    obj = GenerateCharacter('C:/Users/User/Desktop/Test', ['A-Z','0-9','a-z',':','.','/','-','24-27','hallo'], ['C:/Windows/Fonts/arial.ttf'], 70, 150)  # ['C:/Windows/Fonts/MTCORSVA.TTF','C:/Windows/Fonts/Arial/arial.ttf', 'C:/Windows/Fonts/DotsAllForNow.ttf']\n",
    "    obj1 = Augmentation(obj._initalImages_path, obj._distortedImages_path, obj._tempFolderDistortion_path, obj._tempFolderRename_path, obj._path, 'BMP',2)\n",
    "    obj1.generate_distorted_images()\n",
    "#     obj2 = Augmentation(obj._initalImages_path, 'Juhu', obj._tempFolderDistortion_path, obj._tempFolderRename_path, obj._path, 'BMP', 5)\n",
    "#     obj2.generate_distorted_images()    \n",
    "#     obj2 = OwnDistortion(obj._distortedImages_path, 'Juhu', obj._tempFolderDistortion_path, obj._tempFolderRename_path, obj._path, 'BMP', 5)\n",
    "#     obj2.generate_distorted_images()\n",
    "    obj2 = Tailor(obj1._distortedImages_path, obj._tailoredImages_path, 127)\n",
    "    obj2.tailor()\n",
    "#     obj4 = OwnDistortion(obj3._tailoredImages_path, 'Juhu123', obj._tempFolderDistortion_path, obj._tempFolderRename_path, obj._path, 'BMP', 5)\n",
    "#     obj4.generate_distorted_images() \n",
    "    obj3 = Place(obj._tailoredImages_path, obj._xml_Files_path, obj._segmentedImages_path, 512, 3, 0.05)\n",
    "#     obj3.resize('A-Z',420,480,120,200)\n",
    "#     obj3.resize('0-9',30,40,10)\n",
    "#     obj3.resize('A-Z',30,480,10)\n",
    "#     obj3.resize('a-z',20,480,10)\n",
    "#     obj3.resize('0-9',30,480,10)\n",
    "#     obj3.rdm()\n",
    "    "
   ]
  },
  {
   "cell_type": "code",
   "execution_count": 5,
   "metadata": {},
   "outputs": [],
   "source": []
  },
  {
   "cell_type": "code",
   "execution_count": 6,
   "metadata": {},
   "outputs": [],
   "source": [
    "obj3.rdm()"
   ]
  },
  {
   "cell_type": "code",
   "execution_count": null,
   "metadata": {},
   "outputs": [],
   "source": []
  }
 ],
 "metadata": {
  "kernelspec": {
   "display_name": "Python 3",
   "language": "python",
   "name": "python3"
  },
  "language_info": {
   "codemirror_mode": {
    "name": "ipython",
    "version": 3
   },
   "file_extension": ".py",
   "mimetype": "text/x-python",
   "name": "python",
   "nbconvert_exporter": "python",
   "pygments_lexer": "ipython3",
   "version": "3.6.4"
  }
 },
 "nbformat": 4,
 "nbformat_minor": 2
}
