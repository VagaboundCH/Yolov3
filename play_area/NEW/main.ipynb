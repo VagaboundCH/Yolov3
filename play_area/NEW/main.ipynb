{
 "cells": [
  {
   "cell_type": "code",
   "execution_count": 1,
   "metadata": {},
   "outputs": [
    {
     "name": "stdout",
     "output_type": "stream",
     "text": [
      "importing Jupyter notebook from generatecharacter.ipynb\n",
      "importing Jupyter notebook from generatefolderStructur.ipynb\n",
      "importing Jupyter notebook from augmentation.ipynb\n"
     ]
    }
   ],
   "source": [
    "import import_ipynb \n",
    "# from GenerateFolderStructur import GenerateFolderStructur\n",
    "# from GenerateCharacter import GenerateCharacter\n",
    "import generatecharacter as GCh\n",
    "import generatefolderStructur as GFSt\n",
    "import augmentation as p"
   ]
  },
  {
   "cell_type": "code",
   "execution_count": 2,
   "metadata": {},
   "outputs": [],
   "source": [
    "if __name__ == \"__main__\":\n",
    "    obj = GCh.GenerateCharacter('C:/Users/Vagabound/Desktop/Test/', ['A-B'], ['C:/Windows/Fonts/MTCORSVA.TTF','C:/Windows/Fonts/Arial/arial.ttf'], 100, 150)\n",
    "    obj1 = p.Augmentation(obj._initalImages_path, obj._tempFolder_path, obj._distortedImages_path, 'BMP', 100)\n",
    "    "
   ]
  },
  {
   "cell_type": "code",
   "execution_count": 3,
   "metadata": {},
   "outputs": [
    {
     "name": "stdout",
     "output_type": "stream",
     "text": [
      "Initialised with 2 image(s) found.\n",
      "Output directory set to C:/Users/Vagabound/Desktop/Test//GeneratedData/TempFolder//A_upperCase."
     ]
    },
    {
     "name": "stderr",
     "output_type": "stream",
     "text": [
      "Processing <PIL.Image.Image image mode=RGB size=500x500 at 0x9E4D710>: 100%|█| 1/1 [00:00<00:00,  2.37 Samples/s]\n"
     ]
    },
    {
     "name": "stdout",
     "output_type": "stream",
     "text": [
      "Initialised with 2 image(s) found.\n",
      "Output directory set to C:/Users/Vagabound/Desktop/Test//GeneratedData/TempFolder//B_upperCase."
     ]
    },
    {
     "name": "stderr",
     "output_type": "stream",
     "text": [
      "Processing <PIL.Image.Image image mode=RGB size=500x500 at 0x9E4D8D0>: 100%|█| 1/1 [00:00<00:00,  4.95 Samples/s]\n"
     ]
    },
    {
     "name": "stdout",
     "output_type": "stream",
     "text": [
      "Initialised with 2 image(s) found.\n",
      "Output directory set to C:/Users/Vagabound/Desktop/Test//GeneratedData/TempFolder//A_upperCase."
     ]
    },
    {
     "name": "stderr",
     "output_type": "stream",
     "text": [
      "Processing <PIL.Image.Image image mode=RGB size=500x500 at 0x9E4D9B0>: 100%|█| 1/1 [00:00<00:00,  3.42 Samples/s]\n"
     ]
    },
    {
     "name": "stdout",
     "output_type": "stream",
     "text": [
      "Initialised with 2 image(s) found.\n",
      "Output directory set to C:/Users/Vagabound/Desktop/Test//GeneratedData/TempFolder//B_upperCase."
     ]
    },
    {
     "name": "stderr",
     "output_type": "stream",
     "text": [
      "Processing <PIL.Image.Image image mode=RGB size=500x500 at 0x9E4DA58>: 100%|█| 1/1 [00:00<00:00,  3.01 Samples/s]\n"
     ]
    },
    {
     "name": "stdout",
     "output_type": "stream",
     "text": [
      "Initialised with 2 image(s) found.\n",
      "Output directory set to C:/Users/Vagabound/Desktop/Test//GeneratedData/TempFolder//A_upperCase."
     ]
    },
    {
     "name": "stderr",
     "output_type": "stream",
     "text": [
      "Processing <PIL.Image.Image image mode=RGB size=500x500 at 0x9E4DA20>: 100%|█| 1/1 [00:00<00:00,  3.29 Samples/s]\n"
     ]
    },
    {
     "name": "stdout",
     "output_type": "stream",
     "text": [
      "Initialised with 2 image(s) found.\n",
      "Output directory set to C:/Users/Vagabound/Desktop/Test//GeneratedData/TempFolder//B_upperCase."
     ]
    },
    {
     "name": "stderr",
     "output_type": "stream",
     "text": [
      "Processing <PIL.Image.Image image mode=RGB size=500x500 at 0x9E4DD68>: 100%|█| 1/1 [00:00<00:00,  3.92 Samples/s]\n"
     ]
    },
    {
     "name": "stdout",
     "output_type": "stream",
     "text": [
      "Initialised with 2 image(s) found.\n",
      "Output directory set to C:/Users/Vagabound/Desktop/Test//GeneratedData/TempFolder//A_upperCase."
     ]
    },
    {
     "name": "stderr",
     "output_type": "stream",
     "text": [
      "Processing <PIL.Image.Image image mode=RGB size=500x500 at 0x9E4DE80>: 100%|█| 1/1 [00:00<00:00,  4.59 Samples/s]\n"
     ]
    },
    {
     "name": "stdout",
     "output_type": "stream",
     "text": [
      "Initialised with 2 image(s) found.\n",
      "Output directory set to C:/Users/Vagabound/Desktop/Test//GeneratedData/TempFolder//B_upperCase."
     ]
    },
    {
     "name": "stderr",
     "output_type": "stream",
     "text": [
      "Processing <PIL.Image.Image image mode=RGB size=500x500 at 0x9E4DEF0>: 100%|█| 1/1 [00:00<00:00,  3.37 Samples/s]\n"
     ]
    },
    {
     "name": "stdout",
     "output_type": "stream",
     "text": [
      "Initialised with 2 image(s) found.\n",
      "Output directory set to C:/Users/Vagabound/Desktop/Test//GeneratedData/TempFolder//A_upperCase."
     ]
    },
    {
     "name": "stderr",
     "output_type": "stream",
     "text": [
      "Processing <PIL.Image.Image image mode=RGB size=500x500 at 0x9E68128>: 100%|█| 1/1 [00:00<00:00,  3.68 Samples/s]\n"
     ]
    },
    {
     "name": "stdout",
     "output_type": "stream",
     "text": [
      "Initialised with 2 image(s) found.\n",
      "Output directory set to C:/Users/Vagabound/Desktop/Test//GeneratedData/TempFolder//B_upperCase."
     ]
    },
    {
     "name": "stderr",
     "output_type": "stream",
     "text": [
      "Processing <PIL.Image.Image image mode=RGB size=500x500 at 0x9E68160>: 100%|█| 1/1 [00:00<00:00,  3.70 Samples/s]\n"
     ]
    },
    {
     "name": "stdout",
     "output_type": "stream",
     "text": [
      "Initialised with 2 image(s) found.\n",
      "Output directory set to C:/Users/Vagabound/Desktop/Test//GeneratedData/TempFolder//A_upperCase."
     ]
    },
    {
     "name": "stderr",
     "output_type": "stream",
     "text": [
      "Processing <PIL.Image.Image image mode=RGB size=500x500 at 0x9E62358>: 100%|█| 1/1 [00:00<00:00,  2.46 Samples/s]\n"
     ]
    },
    {
     "name": "stdout",
     "output_type": "stream",
     "text": [
      "Initialised with 2 image(s) found.\n",
      "Output directory set to C:/Users/Vagabound/Desktop/Test//GeneratedData/TempFolder//B_upperCase."
     ]
    },
    {
     "name": "stderr",
     "output_type": "stream",
     "text": [
      "Processing <PIL.Image.Image image mode=RGB size=500x500 at 0x9E62278>: 100%|█| 1/1 [00:00<00:00,  2.00 Samples/s]\n"
     ]
    },
    {
     "name": "stdout",
     "output_type": "stream",
     "text": [
      "Initialised with 2 image(s) found.\n",
      "Output directory set to C:/Users/Vagabound/Desktop/Test//GeneratedData/TempFolder//A_upperCase."
     ]
    },
    {
     "name": "stderr",
     "output_type": "stream",
     "text": [
      "Processing <PIL.Image.Image image mode=RGB size=500x500 at 0x9E62518>: 100%|█| 1/1 [00:00<00:00,  3.02 Samples/s]\n"
     ]
    },
    {
     "name": "stdout",
     "output_type": "stream",
     "text": [
      "Initialised with 2 image(s) found.\n",
      "Output directory set to C:/Users/Vagabound/Desktop/Test//GeneratedData/TempFolder//B_upperCase."
     ]
    },
    {
     "name": "stderr",
     "output_type": "stream",
     "text": [
      "Processing <PIL.Image.Image image mode=RGB size=500x500 at 0x9E626A0>: 100%|█| 1/1 [00:00<00:00,  3.91 Samples/s]\n"
     ]
    },
    {
     "name": "stdout",
     "output_type": "stream",
     "text": [
      "Initialised with 2 image(s) found.\n",
      "Output directory set to C:/Users/Vagabound/Desktop/Test//GeneratedData/TempFolder//A_upperCase."
     ]
    },
    {
     "name": "stderr",
     "output_type": "stream",
     "text": [
      "Processing <PIL.Image.Image image mode=RGB size=500x500 at 0x9E62710>: 100%|█| 1/1 [00:00<00:00,  2.89 Samples/s]\n"
     ]
    },
    {
     "name": "stdout",
     "output_type": "stream",
     "text": [
      "Initialised with 2 image(s) found.\n",
      "Output directory set to C:/Users/Vagabound/Desktop/Test//GeneratedData/TempFolder//B_upperCase."
     ]
    },
    {
     "name": "stderr",
     "output_type": "stream",
     "text": [
      "Processing <PIL.Image.Image image mode=RGB size=500x500 at 0x9E627B8>: 100%|█| 1/1 [00:00<00:00,  2.26 Samples/s]\n"
     ]
    },
    {
     "name": "stdout",
     "output_type": "stream",
     "text": [
      "Initialised with 2 image(s) found.\n",
      "Output directory set to C:/Users/Vagabound/Desktop/Test//GeneratedData/TempFolder//A_upperCase."
     ]
    },
    {
     "name": "stderr",
     "output_type": "stream",
     "text": [
      "Processing <PIL.Image.Image image mode=RGB size=500x500 at 0x9E629E8>: 100%|█| 1/1 [00:00<00:00,  4.00 Samples/s]\n"
     ]
    },
    {
     "name": "stdout",
     "output_type": "stream",
     "text": [
      "Initialised with 2 image(s) found.\n",
      "Output directory set to C:/Users/Vagabound/Desktop/Test//GeneratedData/TempFolder//B_upperCase."
     ]
    },
    {
     "name": "stderr",
     "output_type": "stream",
     "text": [
      "Processing <PIL.Image.Image image mode=RGB size=500x500 at 0x9E62940>: 100%|█| 1/1 [00:00<00:00,  2.46 Samples/s]\n"
     ]
    },
    {
     "name": "stdout",
     "output_type": "stream",
     "text": [
      "Initialised with 2 image(s) found.\n",
      "Output directory set to C:/Users/Vagabound/Desktop/Test//GeneratedData/TempFolder//A_upperCase."
     ]
    },
    {
     "name": "stderr",
     "output_type": "stream",
     "text": [
      "Processing <PIL.Image.Image image mode=RGB size=500x500 at 0x9E62BE0>: 100%|█| 1/1 [00:00<00:00,  1.61 Samples/s]\n"
     ]
    },
    {
     "name": "stdout",
     "output_type": "stream",
     "text": [
      "Initialised with 2 image(s) found.\n",
      "Output directory set to C:/Users/Vagabound/Desktop/Test//GeneratedData/TempFolder//B_upperCase."
     ]
    },
    {
     "name": "stderr",
     "output_type": "stream",
     "text": [
      "Processing <PIL.Image.Image image mode=RGB size=500x500 at 0x9E62D30>: 100%|█| 1/1 [00:00<00:00,  3.48 Samples/s]\n"
     ]
    },
    {
     "name": "stdout",
     "output_type": "stream",
     "text": [
      "Initialised with 2 image(s) found.\n",
      "Output directory set to C:/Users/Vagabound/Desktop/Test//GeneratedData/TempFolder//A_upperCase."
     ]
    },
    {
     "name": "stderr",
     "output_type": "stream",
     "text": [
      "Processing <PIL.Image.Image image mode=RGB size=500x500 at 0x9E62898>: 100%|█| 1/1 [00:00<00:00,  2.70 Samples/s]\n"
     ]
    },
    {
     "name": "stdout",
     "output_type": "stream",
     "text": [
      "Initialised with 2 image(s) found.\n",
      "Output directory set to C:/Users/Vagabound/Desktop/Test//GeneratedData/TempFolder//B_upperCase."
     ]
    },
    {
     "name": "stderr",
     "output_type": "stream",
     "text": [
      "Processing <PIL.Image.Image image mode=RGB size=500x500 at 0x9E62C18>: 100%|█| 1/1 [00:00<00:00,  3.27 Samples/s]\n"
     ]
    },
    {
     "name": "stdout",
     "output_type": "stream",
     "text": [
      "Initialised with 2 image(s) found.\n",
      "Output directory set to C:/Users/Vagabound/Desktop/Test//GeneratedData/TempFolder//A_upperCase."
     ]
    },
    {
     "name": "stderr",
     "output_type": "stream",
     "text": [
      "Processing <PIL.Image.Image image mode=RGB size=500x500 at 0x9FF1048>: 100%|█| 1/1 [00:00<00:00,  2.49 Samples/s]\n"
     ]
    },
    {
     "name": "stdout",
     "output_type": "stream",
     "text": [
      "Initialised with 2 image(s) found.\n",
      "Output directory set to C:/Users/Vagabound/Desktop/Test//GeneratedData/TempFolder//B_upperCase."
     ]
    },
    {
     "name": "stderr",
     "output_type": "stream",
     "text": [
      "Processing <PIL.Image.Image image mode=RGB size=500x500 at 0x9FF1128>: 100%|█| 1/1 [00:00<00:00,  3.12 Samples/s]\n"
     ]
    },
    {
     "name": "stdout",
     "output_type": "stream",
     "text": [
      "Initialised with 2 image(s) found.\n",
      "Output directory set to C:/Users/Vagabound/Desktop/Test//GeneratedData/TempFolder//A_upperCase."
     ]
    },
    {
     "name": "stderr",
     "output_type": "stream",
     "text": [
      "Processing <PIL.Image.Image image mode=RGB size=500x500 at 0x9FF1240>: 100%|█| 1/1 [00:00<00:00,  2.15 Samples/s]\n"
     ]
    },
    {
     "name": "stdout",
     "output_type": "stream",
     "text": [
      "Initialised with 2 image(s) found.\n",
      "Output directory set to C:/Users/Vagabound/Desktop/Test//GeneratedData/TempFolder//B_upperCase."
     ]
    },
    {
     "name": "stderr",
     "output_type": "stream",
     "text": [
      "Processing <PIL.Image.Image image mode=RGB size=500x500 at 0x9FF1358>: 100%|█| 1/1 [00:00<00:00,  2.92 Samples/s]\n"
     ]
    },
    {
     "name": "stdout",
     "output_type": "stream",
     "text": [
      "Initialised with 2 image(s) found.\n",
      "Output directory set to C:/Users/Vagabound/Desktop/Test//GeneratedData/TempFolder//A_upperCase."
     ]
    },
    {
     "name": "stderr",
     "output_type": "stream",
     "text": [
      "Processing <PIL.Image.Image image mode=RGB size=500x500 at 0x9FF1320>: 100%|█| 1/1 [00:00<00:00,  2.23 Samples/s]\n"
     ]
    },
    {
     "name": "stdout",
     "output_type": "stream",
     "text": [
      "Initialised with 2 image(s) found.\n",
      "Output directory set to C:/Users/Vagabound/Desktop/Test//GeneratedData/TempFolder//B_upperCase."
     ]
    },
    {
     "name": "stderr",
     "output_type": "stream",
     "text": [
      "Processing <PIL.Image.Image image mode=RGB size=500x500 at 0x9FF1588>: 100%|█| 1/1 [00:00<00:00,  2.14 Samples/s]\n"
     ]
    },
    {
     "name": "stdout",
     "output_type": "stream",
     "text": [
      "Initialised with 2 image(s) found.\n",
      "Output directory set to C:/Users/Vagabound/Desktop/Test//GeneratedData/TempFolder//A_upperCase."
     ]
    },
    {
     "name": "stderr",
     "output_type": "stream",
     "text": [
      "Processing <PIL.Image.Image image mode=RGB size=500x500 at 0x9FF1710>: 100%|█| 1/1 [00:00<00:00,  2.27 Samples/s]\n"
     ]
    },
    {
     "name": "stdout",
     "output_type": "stream",
     "text": [
      "Initialised with 2 image(s) found.\n",
      "Output directory set to C:/Users/Vagabound/Desktop/Test//GeneratedData/TempFolder//B_upperCase."
     ]
    },
    {
     "name": "stderr",
     "output_type": "stream",
     "text": [
      "Processing <PIL.Image.Image image mode=RGB size=500x500 at 0x9FF1390>: 100%|█| 1/1 [00:00<00:00,  2.58 Samples/s]\n"
     ]
    },
    {
     "name": "stdout",
     "output_type": "stream",
     "text": [
      "Initialised with 2 image(s) found.\n",
      "Output directory set to C:/Users/Vagabound/Desktop/Test//GeneratedData/TempFolder//A_upperCase."
     ]
    },
    {
     "name": "stderr",
     "output_type": "stream",
     "text": [
      "Processing <PIL.Image.Image image mode=RGB size=500x500 at 0x9FF1978>: 100%|█| 1/1 [00:00<00:00,  4.52 Samples/s]\n"
     ]
    },
    {
     "name": "stdout",
     "output_type": "stream",
     "text": [
      "Initialised with 2 image(s) found.\n",
      "Output directory set to C:/Users/Vagabound/Desktop/Test//GeneratedData/TempFolder//B_upperCase."
     ]
    },
    {
     "name": "stderr",
     "output_type": "stream",
     "text": [
      "Processing <PIL.Image.Image image mode=RGB size=500x500 at 0x9FF18D0>: 100%|█| 1/1 [00:00<00:00,  3.17 Samples/s]\n"
     ]
    },
    {
     "name": "stdout",
     "output_type": "stream",
     "text": [
      "Initialised with 2 image(s) found.\n",
      "Output directory set to C:/Users/Vagabound/Desktop/Test//GeneratedData/TempFolder//A_upperCase."
     ]
    },
    {
     "name": "stderr",
     "output_type": "stream",
     "text": [
      "Processing <PIL.Image.Image image mode=RGB size=500x500 at 0x9FF1B70>: 100%|█| 1/1 [00:00<00:00,  4.76 Samples/s]\n"
     ]
    },
    {
     "name": "stdout",
     "output_type": "stream",
     "text": [
      "Initialised with 2 image(s) found.\n",
      "Output directory set to C:/Users/Vagabound/Desktop/Test//GeneratedData/TempFolder//B_upperCase."
     ]
    },
    {
     "name": "stderr",
     "output_type": "stream",
     "text": [
      "Processing <PIL.Image.Image image mode=RGB size=500x500 at 0x9FF1A58>: 100%|█| 1/1 [00:00<00:00,  3.23 Samples/s]\n"
     ]
    },
    {
     "name": "stdout",
     "output_type": "stream",
     "text": [
      "Initialised with 2 image(s) found.\n",
      "Output directory set to C:/Users/Vagabound/Desktop/Test//GeneratedData/TempFolder//A_upperCase."
     ]
    },
    {
     "name": "stderr",
     "output_type": "stream",
     "text": [
      "Processing <PIL.Image.Image image mode=RGB size=500x500 at 0x9FF1DA0>: 100%|█| 1/1 [00:00<00:00,  3.57 Samples/s]\n"
     ]
    },
    {
     "name": "stdout",
     "output_type": "stream",
     "text": [
      "Initialised with 2 image(s) found.\n",
      "Output directory set to C:/Users/Vagabound/Desktop/Test//GeneratedData/TempFolder//B_upperCase."
     ]
    },
    {
     "name": "stderr",
     "output_type": "stream",
     "text": [
      "Processing <PIL.Image.Image image mode=RGB size=500x500 at 0x9FF1DD8>: 100%|█| 1/1 [00:00<00:00,  3.73 Samples/s]\n"
     ]
    },
    {
     "name": "stdout",
     "output_type": "stream",
     "text": [
      "Initialised with 2 image(s) found.\n",
      "Output directory set to C:/Users/Vagabound/Desktop/Test//GeneratedData/TempFolder//A_upperCase."
     ]
    },
    {
     "name": "stderr",
     "output_type": "stream",
     "text": [
      "Processing <PIL.Image.Image image mode=RGB size=500x500 at 0x9FF1FD0>: 100%|█| 1/1 [00:00<00:00,  5.26 Samples/s]\n"
     ]
    },
    {
     "name": "stdout",
     "output_type": "stream",
     "text": [
      "Initialised with 2 image(s) found.\n",
      "Output directory set to C:/Users/Vagabound/Desktop/Test//GeneratedData/TempFolder//B_upperCase."
     ]
    },
    {
     "name": "stderr",
     "output_type": "stream",
     "text": [
      "Processing <PIL.Image.Image image mode=RGB size=500x500 at 0x9FF30F0>: 100%|█| 1/1 [00:00<00:00,  2.27 Samples/s]\n"
     ]
    },
    {
     "name": "stdout",
     "output_type": "stream",
     "text": [
      "Initialised with 2 image(s) found.\n",
      "Output directory set to C:/Users/Vagabound/Desktop/Test//GeneratedData/TempFolder//A_upperCase."
     ]
    },
    {
     "name": "stderr",
     "output_type": "stream",
     "text": [
      "Processing <PIL.Image.Image image mode=RGB size=500x500 at 0x9FF3278>: 100%|█| 1/1 [00:00<00:00,  2.48 Samples/s]\n"
     ]
    },
    {
     "name": "stdout",
     "output_type": "stream",
     "text": [
      "Initialised with 2 image(s) found.\n",
      "Output directory set to C:/Users/Vagabound/Desktop/Test//GeneratedData/TempFolder//B_upperCase."
     ]
    },
    {
     "name": "stderr",
     "output_type": "stream",
     "text": [
      "Processing <PIL.Image.Image image mode=RGB size=500x500 at 0x9FF3320>: 100%|█| 1/1 [00:00<00:00,  3.25 Samples/s]\n"
     ]
    },
    {
     "name": "stdout",
     "output_type": "stream",
     "text": [
      "Initialised with 2 image(s) found.\n",
      "Output directory set to C:/Users/Vagabound/Desktop/Test//GeneratedData/TempFolder//A_upperCase."
     ]
    },
    {
     "name": "stderr",
     "output_type": "stream",
     "text": [
      "Processing <PIL.Image.Image image mode=RGB size=500x500 at 0x9FF32E8>: 100%|█| 1/1 [00:00<00:00,  3.51 Samples/s]\n"
     ]
    },
    {
     "name": "stdout",
     "output_type": "stream",
     "text": [
      "Initialised with 2 image(s) found.\n",
      "Output directory set to C:/Users/Vagabound/Desktop/Test//GeneratedData/TempFolder//B_upperCase."
     ]
    },
    {
     "name": "stderr",
     "output_type": "stream",
     "text": [
      "Processing <PIL.Image.Image image mode=RGB size=500x500 at 0x9FF3128>: 100%|█| 1/1 [00:00<00:00,  2.52 Samples/s]\n"
     ]
    },
    {
     "name": "stdout",
     "output_type": "stream",
     "text": [
      "Initialised with 2 image(s) found.\n",
      "Output directory set to C:/Users/Vagabound/Desktop/Test//GeneratedData/TempFolder//A_upperCase."
     ]
    },
    {
     "name": "stderr",
     "output_type": "stream",
     "text": [
      "Processing <PIL.Image.Image image mode=RGB size=500x500 at 0x9FF35F8>: 100%|█| 1/1 [00:00<00:00,  3.42 Samples/s]\n"
     ]
    },
    {
     "name": "stdout",
     "output_type": "stream",
     "text": [
      "Initialised with 2 image(s) found.\n",
      "Output directory set to C:/Users/Vagabound/Desktop/Test//GeneratedData/TempFolder//B_upperCase."
     ]
    },
    {
     "name": "stderr",
     "output_type": "stream",
     "text": [
      "Processing <PIL.Image.Image image mode=RGB size=500x500 at 0x9FF37B8>: 100%|█| 1/1 [00:00<00:00,  4.39 Samples/s]\n"
     ]
    },
    {
     "name": "stdout",
     "output_type": "stream",
     "text": [
      "Initialised with 2 image(s) found.\n",
      "Output directory set to C:/Users/Vagabound/Desktop/Test//GeneratedData/TempFolder//A_upperCase."
     ]
    },
    {
     "name": "stderr",
     "output_type": "stream",
     "text": [
      "Processing <PIL.Image.Image image mode=RGB size=500x500 at 0x9FF3160>: 100%|█| 1/1 [00:00<00:00,  3.31 Samples/s]\n"
     ]
    },
    {
     "name": "stdout",
     "output_type": "stream",
     "text": [
      "Initialised with 2 image(s) found.\n",
      "Output directory set to C:/Users/Vagabound/Desktop/Test//GeneratedData/TempFolder//B_upperCase."
     ]
    },
    {
     "name": "stderr",
     "output_type": "stream",
     "text": [
      "Processing <PIL.Image.Image image mode=RGB size=500x500 at 0x9FF35F8>: 100%|█| 1/1 [00:00<00:00,  3.23 Samples/s]\n"
     ]
    },
    {
     "name": "stdout",
     "output_type": "stream",
     "text": [
      "Initialised with 2 image(s) found.\n",
      "Output directory set to C:/Users/Vagabound/Desktop/Test//GeneratedData/TempFolder//A_upperCase."
     ]
    },
    {
     "name": "stderr",
     "output_type": "stream",
     "text": [
      "Processing <PIL.Image.Image image mode=RGB size=500x500 at 0x9FF3A90>: 100%|█| 1/1 [00:00<00:00,  3.66 Samples/s]\n"
     ]
    },
    {
     "name": "stdout",
     "output_type": "stream",
     "text": [
      "Initialised with 2 image(s) found.\n",
      "Output directory set to C:/Users/Vagabound/Desktop/Test//GeneratedData/TempFolder//B_upperCase."
     ]
    },
    {
     "name": "stderr",
     "output_type": "stream",
     "text": [
      "Processing <PIL.Image.Image image mode=RGB size=500x500 at 0x9FF3B38>: 100%|█| 1/1 [00:00<00:00,  2.69 Samples/s]\n"
     ]
    },
    {
     "name": "stdout",
     "output_type": "stream",
     "text": [
      "Initialised with 2 image(s) found.\n",
      "Output directory set to C:/Users/Vagabound/Desktop/Test//GeneratedData/TempFolder//A_upperCase."
     ]
    },
    {
     "name": "stderr",
     "output_type": "stream",
     "text": [
      "Processing <PIL.Image.Image image mode=RGB size=500x500 at 0x9FF3C88>: 100%|█| 1/1 [00:00<00:00,  4.06 Samples/s]\n"
     ]
    },
    {
     "name": "stdout",
     "output_type": "stream",
     "text": [
      "Initialised with 2 image(s) found.\n",
      "Output directory set to C:/Users/Vagabound/Desktop/Test//GeneratedData/TempFolder//B_upperCase."
     ]
    },
    {
     "name": "stderr",
     "output_type": "stream",
     "text": [
      "Processing <PIL.Image.Image image mode=RGB size=500x500 at 0x9FF3DA0>: 100%|█| 1/1 [00:00<00:00,  3.72 Samples/s]\n"
     ]
    },
    {
     "name": "stdout",
     "output_type": "stream",
     "text": [
      "Initialised with 2 image(s) found.\n",
      "Output directory set to C:/Users/Vagabound/Desktop/Test//GeneratedData/TempFolder//A_upperCase."
     ]
    },
    {
     "name": "stderr",
     "output_type": "stream",
     "text": [
      "Processing <PIL.Image.Image image mode=RGB size=500x500 at 0x9FF3B00>: 100%|█| 1/1 [00:00<00:00,  3.68 Samples/s]\n"
     ]
    },
    {
     "name": "stdout",
     "output_type": "stream",
     "text": [
      "Initialised with 2 image(s) found.\n",
      "Output directory set to C:/Users/Vagabound/Desktop/Test//GeneratedData/TempFolder//B_upperCase."
     ]
    },
    {
     "name": "stderr",
     "output_type": "stream",
     "text": [
      "Processing <PIL.Image.Image image mode=RGB size=500x500 at 0xA003128>: 100%|█| 1/1 [00:00<00:00,  3.44 Samples/s]\n"
     ]
    },
    {
     "name": "stdout",
     "output_type": "stream",
     "text": [
      "Initialised with 2 image(s) found.\n",
      "Output directory set to C:/Users/Vagabound/Desktop/Test//GeneratedData/TempFolder//A_upperCase."
     ]
    },
    {
     "name": "stderr",
     "output_type": "stream",
     "text": [
      "Processing <PIL.Image.Image image mode=RGB size=500x500 at 0xA002208>: 100%|█| 1/1 [00:00<00:00,  2.70 Samples/s]\n"
     ]
    },
    {
     "name": "stdout",
     "output_type": "stream",
     "text": [
      "Initialised with 2 image(s) found.\n",
      "Output directory set to C:/Users/Vagabound/Desktop/Test//GeneratedData/TempFolder//B_upperCase."
     ]
    },
    {
     "name": "stderr",
     "output_type": "stream",
     "text": [
      "Processing <PIL.Image.Image image mode=RGB size=500x500 at 0xA0022E8>: 100%|█| 1/1 [00:00<00:00,  5.05 Samples/s]\n"
     ]
    },
    {
     "name": "stdout",
     "output_type": "stream",
     "text": [
      "Initialised with 2 image(s) found.\n",
      "Output directory set to C:/Users/Vagabound/Desktop/Test//GeneratedData/TempFolder//A_upperCase."
     ]
    },
    {
     "name": "stderr",
     "output_type": "stream",
     "text": [
      "Processing <PIL.Image.Image image mode=RGB size=500x500 at 0xA002390>: 100%|█| 1/1 [00:00<00:00,  3.38 Samples/s]\n"
     ]
    },
    {
     "name": "stdout",
     "output_type": "stream",
     "text": [
      "Initialised with 2 image(s) found.\n",
      "Output directory set to C:/Users/Vagabound/Desktop/Test//GeneratedData/TempFolder//B_upperCase."
     ]
    },
    {
     "name": "stderr",
     "output_type": "stream",
     "text": [
      "Processing <PIL.Image.Image image mode=RGB size=500x500 at 0xA002438>: 100%|█| 1/1 [00:00<00:00,  3.53 Samples/s]\n"
     ]
    },
    {
     "name": "stdout",
     "output_type": "stream",
     "text": [
      "Initialised with 2 image(s) found.\n",
      "Output directory set to C:/Users/Vagabound/Desktop/Test//GeneratedData/TempFolder//A_upperCase."
     ]
    },
    {
     "name": "stderr",
     "output_type": "stream",
     "text": [
      "Processing <PIL.Image.Image image mode=RGB size=500x500 at 0xA002588>: 100%|█| 1/1 [00:00<00:00,  3.66 Samples/s]\n"
     ]
    },
    {
     "name": "stdout",
     "output_type": "stream",
     "text": [
      "Initialised with 2 image(s) found.\n",
      "Output directory set to C:/Users/Vagabound/Desktop/Test//GeneratedData/TempFolder//B_upperCase."
     ]
    },
    {
     "name": "stderr",
     "output_type": "stream",
     "text": [
      "Processing <PIL.Image.Image image mode=RGB size=500x500 at 0xA0026A0>: 100%|█| 1/1 [00:00<00:00,  3.66 Samples/s]\n"
     ]
    },
    {
     "name": "stdout",
     "output_type": "stream",
     "text": [
      "Initialised with 2 image(s) found.\n",
      "Output directory set to C:/Users/Vagabound/Desktop/Test//GeneratedData/TempFolder//A_upperCase."
     ]
    },
    {
     "name": "stderr",
     "output_type": "stream",
     "text": [
      "Processing <PIL.Image.Image image mode=RGB size=500x500 at 0xA0026D8>: 100%|█| 1/1 [00:00<00:00,  2.93 Samples/s]\n"
     ]
    },
    {
     "name": "stdout",
     "output_type": "stream",
     "text": [
      "Initialised with 2 image(s) found.\n",
      "Output directory set to C:/Users/Vagabound/Desktop/Test//GeneratedData/TempFolder//B_upperCase."
     ]
    },
    {
     "name": "stderr",
     "output_type": "stream",
     "text": [
      "Processing <PIL.Image.Image image mode=RGB size=500x500 at 0xA002978>: 100%|█| 1/1 [00:00<00:00,  2.70 Samples/s]\n"
     ]
    },
    {
     "name": "stdout",
     "output_type": "stream",
     "text": [
      "Initialised with 2 image(s) found.\n",
      "Output directory set to C:/Users/Vagabound/Desktop/Test//GeneratedData/TempFolder//A_upperCase."
     ]
    },
    {
     "name": "stderr",
     "output_type": "stream",
     "text": [
      "Processing <PIL.Image.Image image mode=RGB size=500x500 at 0xA002AC8>: 100%|█| 1/1 [00:00<00:00,  2.04 Samples/s]\n"
     ]
    },
    {
     "name": "stdout",
     "output_type": "stream",
     "text": [
      "Initialised with 2 image(s) found.\n",
      "Output directory set to C:/Users/Vagabound/Desktop/Test//GeneratedData/TempFolder//B_upperCase."
     ]
    },
    {
     "name": "stderr",
     "output_type": "stream",
     "text": [
      "Processing <PIL.Image.Image image mode=RGB size=500x500 at 0xA002B70>: 100%|█| 1/1 [00:00<00:00,  2.81 Samples/s]\n"
     ]
    },
    {
     "name": "stdout",
     "output_type": "stream",
     "text": [
      "Initialised with 2 image(s) found.\n",
      "Output directory set to C:/Users/Vagabound/Desktop/Test//GeneratedData/TempFolder//A_upperCase."
     ]
    },
    {
     "name": "stderr",
     "output_type": "stream",
     "text": [
      "Processing <PIL.Image.Image image mode=RGB size=500x500 at 0xA002CC0>: 100%|█| 1/1 [00:00<00:00,  5.52 Samples/s]\n"
     ]
    },
    {
     "name": "stdout",
     "output_type": "stream",
     "text": [
      "Initialised with 2 image(s) found.\n",
      "Output directory set to C:/Users/Vagabound/Desktop/Test//GeneratedData/TempFolder//B_upperCase."
     ]
    },
    {
     "name": "stderr",
     "output_type": "stream",
     "text": [
      "Processing <PIL.Image.Image image mode=RGB size=500x500 at 0xA0024A8>: 100%|█| 1/1 [00:00<00:00,  3.14 Samples/s]\n"
     ]
    },
    {
     "name": "stdout",
     "output_type": "stream",
     "text": [
      "Initialised with 2 image(s) found.\n",
      "Output directory set to C:/Users/Vagabound/Desktop/Test//GeneratedData/TempFolder//A_upperCase."
     ]
    },
    {
     "name": "stderr",
     "output_type": "stream",
     "text": [
      "Processing <PIL.Image.Image image mode=RGB size=500x500 at 0xA002E80>: 100%|█| 1/1 [00:00<00:00,  2.80 Samples/s]\n"
     ]
    },
    {
     "name": "stdout",
     "output_type": "stream",
     "text": [
      "Initialised with 2 image(s) found.\n",
      "Output directory set to C:/Users/Vagabound/Desktop/Test//GeneratedData/TempFolder//B_upperCase."
     ]
    },
    {
     "name": "stderr",
     "output_type": "stream",
     "text": [
      "Processing <PIL.Image.Image image mode=RGB size=500x500 at 0xA002F98>: 100%|█| 1/1 [00:00<00:00,  2.57 Samples/s]\n"
     ]
    },
    {
     "name": "stdout",
     "output_type": "stream",
     "text": [
      "Initialised with 2 image(s) found.\n",
      "Output directory set to C:/Users/Vagabound/Desktop/Test//GeneratedData/TempFolder//A_upperCase."
     ]
    },
    {
     "name": "stderr",
     "output_type": "stream",
     "text": [
      "Processing <PIL.Image.Image image mode=RGB size=500x500 at 0xA0061D0>: 100%|█| 1/1 [00:00<00:00,  3.61 Samples/s]\n"
     ]
    },
    {
     "name": "stdout",
     "output_type": "stream",
     "text": [
      "Initialised with 2 image(s) found.\n",
      "Output directory set to C:/Users/Vagabound/Desktop/Test//GeneratedData/TempFolder//B_upperCase."
     ]
    },
    {
     "name": "stderr",
     "output_type": "stream",
     "text": [
      "Processing <PIL.Image.Image image mode=RGB size=500x500 at 0xA006240>: 100%|█| 1/1 [00:00<00:00,  3.30 Samples/s]\n"
     ]
    },
    {
     "name": "stdout",
     "output_type": "stream",
     "text": [
      "Initialised with 2 image(s) found.\n",
      "Output directory set to C:/Users/Vagabound/Desktop/Test//GeneratedData/TempFolder//A_upperCase."
     ]
    },
    {
     "name": "stderr",
     "output_type": "stream",
     "text": [
      "Processing <PIL.Image.Image image mode=RGB size=500x500 at 0xA0063C8>: 100%|█| 1/1 [00:00<00:00,  5.59 Samples/s]\n"
     ]
    },
    {
     "name": "stdout",
     "output_type": "stream",
     "text": [
      "Initialised with 2 image(s) found.\n",
      "Output directory set to C:/Users/Vagabound/Desktop/Test//GeneratedData/TempFolder//B_upperCase."
     ]
    },
    {
     "name": "stderr",
     "output_type": "stream",
     "text": [
      "Processing <PIL.Image.Image image mode=RGB size=500x500 at 0xA0064A8>: 100%|█| 1/1 [00:00<00:00,  2.92 Samples/s]\n"
     ]
    },
    {
     "name": "stdout",
     "output_type": "stream",
     "text": [
      "Initialised with 2 image(s) found.\n",
      "Output directory set to C:/Users/Vagabound/Desktop/Test//GeneratedData/TempFolder//A_upperCase."
     ]
    },
    {
     "name": "stderr",
     "output_type": "stream",
     "text": [
      "Processing <PIL.Image.Image image mode=RGB size=500x500 at 0xA006550>: 100%|█| 1/1 [00:00<00:00,  3.48 Samples/s]\n"
     ]
    },
    {
     "name": "stdout",
     "output_type": "stream",
     "text": [
      "Initialised with 2 image(s) found.\n",
      "Output directory set to C:/Users/Vagabound/Desktop/Test//GeneratedData/TempFolder//B_upperCase."
     ]
    },
    {
     "name": "stderr",
     "output_type": "stream",
     "text": [
      "Processing <PIL.Image.Image image mode=RGB size=500x500 at 0xA006710>: 100%|█| 1/1 [00:00<00:00,  3.80 Samples/s]\n"
     ]
    },
    {
     "name": "stdout",
     "output_type": "stream",
     "text": [
      "Initialised with 2 image(s) found.\n",
      "Output directory set to C:/Users/Vagabound/Desktop/Test//GeneratedData/TempFolder//A_upperCase."
     ]
    },
    {
     "name": "stderr",
     "output_type": "stream",
     "text": [
      "Processing <PIL.Image.Image image mode=RGB size=500x500 at 0xA006828>: 100%|█| 1/1 [00:00<00:00,  3.76 Samples/s]\n"
     ]
    },
    {
     "name": "stdout",
     "output_type": "stream",
     "text": [
      "Initialised with 2 image(s) found.\n",
      "Output directory set to C:/Users/Vagabound/Desktop/Test//GeneratedData/TempFolder//B_upperCase."
     ]
    },
    {
     "name": "stderr",
     "output_type": "stream",
     "text": [
      "Processing <PIL.Image.Image image mode=RGB size=500x500 at 0xA006940>: 100%|█| 1/1 [00:00<00:00,  3.53 Samples/s]\n"
     ]
    },
    {
     "name": "stdout",
     "output_type": "stream",
     "text": [
      "Initialised with 2 image(s) found.\n",
      "Output directory set to C:/Users/Vagabound/Desktop/Test//GeneratedData/TempFolder//A_upperCase."
     ]
    },
    {
     "name": "stderr",
     "output_type": "stream",
     "text": [
      "Processing <PIL.Image.Image image mode=RGB size=500x500 at 0xA006A20>: 100%|█| 1/1 [00:00<00:00,  5.29 Samples/s]\n"
     ]
    },
    {
     "name": "stdout",
     "output_type": "stream",
     "text": [
      "Initialised with 2 image(s) found.\n",
      "Output directory set to C:/Users/Vagabound/Desktop/Test//GeneratedData/TempFolder//B_upperCase."
     ]
    },
    {
     "name": "stderr",
     "output_type": "stream",
     "text": [
      "Processing <PIL.Image.Image image mode=RGB size=500x500 at 0xA0065F8>: 100%|█| 1/1 [00:00<00:00,  3.23 Samples/s]\n"
     ]
    },
    {
     "name": "stdout",
     "output_type": "stream",
     "text": [
      "Initialised with 2 image(s) found.\n",
      "Output directory set to C:/Users/Vagabound/Desktop/Test//GeneratedData/TempFolder//A_upperCase."
     ]
    },
    {
     "name": "stderr",
     "output_type": "stream",
     "text": [
      "Processing <PIL.Image.Image image mode=RGB size=500x500 at 0xA006BA8>: 100%|█| 1/1 [00:00<00:00,  3.72 Samples/s]\n"
     ]
    },
    {
     "name": "stdout",
     "output_type": "stream",
     "text": [
      "Initialised with 2 image(s) found.\n",
      "Output directory set to C:/Users/Vagabound/Desktop/Test//GeneratedData/TempFolder//B_upperCase."
     ]
    },
    {
     "name": "stderr",
     "output_type": "stream",
     "text": [
      "Processing <PIL.Image.Image image mode=RGB size=500x500 at 0xA006DA0>: 100%|█| 1/1 [00:00<00:00,  4.93 Samples/s]\n"
     ]
    },
    {
     "name": "stdout",
     "output_type": "stream",
     "text": [
      "Initialised with 2 image(s) found.\n",
      "Output directory set to C:/Users/Vagabound/Desktop/Test//GeneratedData/TempFolder//A_upperCase."
     ]
    },
    {
     "name": "stderr",
     "output_type": "stream",
     "text": [
      "Processing <PIL.Image.Image image mode=RGB size=500x500 at 0xA006EB8>: 100%|█| 1/1 [00:00<00:00,  5.05 Samples/s]\n"
     ]
    },
    {
     "name": "stdout",
     "output_type": "stream",
     "text": [
      "Initialised with 2 image(s) found.\n",
      "Output directory set to C:/Users/Vagabound/Desktop/Test//GeneratedData/TempFolder//B_upperCase."
     ]
    },
    {
     "name": "stderr",
     "output_type": "stream",
     "text": [
      "Processing <PIL.Image.Image image mode=RGB size=500x500 at 0xA006F98>: 100%|█| 1/1 [00:00<00:00,  1.58 Samples/s]\n"
     ]
    },
    {
     "name": "stdout",
     "output_type": "stream",
     "text": [
      "Initialised with 2 image(s) found.\n",
      "Output directory set to C:/Users/Vagabound/Desktop/Test//GeneratedData/TempFolder//A_upperCase."
     ]
    },
    {
     "name": "stderr",
     "output_type": "stream",
     "text": [
      "Processing <PIL.Image.Image image mode=RGB size=500x500 at 0xA0170F0>: 100%|█| 1/1 [00:00<00:00,  2.82 Samples/s]\n"
     ]
    },
    {
     "name": "stdout",
     "output_type": "stream",
     "text": [
      "Initialised with 2 image(s) found.\n",
      "Output directory set to C:/Users/Vagabound/Desktop/Test//GeneratedData/TempFolder//B_upperCase."
     ]
    },
    {
     "name": "stderr",
     "output_type": "stream",
     "text": [
      "Processing <PIL.Image.Image image mode=RGB size=500x500 at 0xA01A1D0>: 100%|█| 1/1 [00:00<00:00,  2.27 Samples/s]\n"
     ]
    },
    {
     "name": "stdout",
     "output_type": "stream",
     "text": [
      "Initialised with 2 image(s) found.\n",
      "Output directory set to C:/Users/Vagabound/Desktop/Test//GeneratedData/TempFolder//A_upperCase."
     ]
    },
    {
     "name": "stderr",
     "output_type": "stream",
     "text": [
      "Processing <PIL.Image.Image image mode=RGB size=500x500 at 0xA0172B0>: 100%|█| 1/1 [00:00<00:00,  3.77 Samples/s]\n"
     ]
    },
    {
     "name": "stdout",
     "output_type": "stream",
     "text": [
      "Initialised with 2 image(s) found.\n",
      "Output directory set to C:/Users/Vagabound/Desktop/Test//GeneratedData/TempFolder//B_upperCase."
     ]
    },
    {
     "name": "stderr",
     "output_type": "stream",
     "text": [
      "Processing <PIL.Image.Image image mode=RGB size=500x500 at 0xA017278>: 100%|█| 1/1 [00:00<00:00,  3.53 Samples/s]\n"
     ]
    },
    {
     "name": "stdout",
     "output_type": "stream",
     "text": [
      "Initialised with 2 image(s) found.\n",
      "Output directory set to C:/Users/Vagabound/Desktop/Test//GeneratedData/TempFolder//A_upperCase."
     ]
    },
    {
     "name": "stderr",
     "output_type": "stream",
     "text": [
      "Processing <PIL.Image.Image image mode=RGB size=500x500 at 0xA0174A8>: 100%|█| 1/1 [00:00<00:00,  2.82 Samples/s]\n"
     ]
    },
    {
     "name": "stdout",
     "output_type": "stream",
     "text": [
      "Initialised with 2 image(s) found.\n",
      "Output directory set to C:/Users/Vagabound/Desktop/Test//GeneratedData/TempFolder//B_upperCase."
     ]
    },
    {
     "name": "stderr",
     "output_type": "stream",
     "text": [
      "Processing <PIL.Image.Image image mode=RGB size=500x500 at 0xA017668>: 100%|█| 1/1 [00:00<00:00,  2.13 Samples/s]\n"
     ]
    },
    {
     "name": "stdout",
     "output_type": "stream",
     "text": [
      "Initialised with 2 image(s) found.\n",
      "Output directory set to C:/Users/Vagabound/Desktop/Test//GeneratedData/TempFolder//A_upperCase."
     ]
    },
    {
     "name": "stderr",
     "output_type": "stream",
     "text": [
      "Processing <PIL.Image.Image image mode=RGB size=500x500 at 0xA017710>: 100%|█| 1/1 [00:00<00:00,  4.20 Samples/s]\n"
     ]
    },
    {
     "name": "stdout",
     "output_type": "stream",
     "text": [
      "Initialised with 2 image(s) found.\n",
      "Output directory set to C:/Users/Vagabound/Desktop/Test//GeneratedData/TempFolder//B_upperCase."
     ]
    },
    {
     "name": "stderr",
     "output_type": "stream",
     "text": [
      "Processing <PIL.Image.Image image mode=RGB size=500x500 at 0xA017198>: 100%|█| 1/1 [00:00<00:00,  3.55 Samples/s]\n"
     ]
    },
    {
     "name": "stdout",
     "output_type": "stream",
     "text": [
      "Initialised with 2 image(s) found.\n",
      "Output directory set to C:/Users/Vagabound/Desktop/Test//GeneratedData/TempFolder//A_upperCase."
     ]
    },
    {
     "name": "stderr",
     "output_type": "stream",
     "text": [
      "Processing <PIL.Image.Image image mode=RGB size=500x500 at 0xA0178D0>: 100%|█| 1/1 [00:00<00:00,  2.89 Samples/s]\n"
     ]
    },
    {
     "name": "stdout",
     "output_type": "stream",
     "text": [
      "Initialised with 2 image(s) found.\n",
      "Output directory set to C:/Users/Vagabound/Desktop/Test//GeneratedData/TempFolder//B_upperCase."
     ]
    },
    {
     "name": "stderr",
     "output_type": "stream",
     "text": [
      "Processing <PIL.Image.Image image mode=RGB size=500x500 at 0xA017A20>: 100%|█| 1/1 [00:00<00:00,  4.15 Samples/s]\n"
     ]
    },
    {
     "name": "stdout",
     "output_type": "stream",
     "text": [
      "Initialised with 2 image(s) found.\n",
      "Output directory set to C:/Users/Vagabound/Desktop/Test//GeneratedData/TempFolder//A_upperCase."
     ]
    },
    {
     "name": "stderr",
     "output_type": "stream",
     "text": [
      "Processing <PIL.Image.Image image mode=RGB size=500x500 at 0xA017A58>: 100%|█| 1/1 [00:00<00:00,  3.06 Samples/s]\n"
     ]
    },
    {
     "name": "stdout",
     "output_type": "stream",
     "text": [
      "Initialised with 2 image(s) found.\n",
      "Output directory set to C:/Users/Vagabound/Desktop/Test//GeneratedData/TempFolder//B_upperCase."
     ]
    },
    {
     "name": "stderr",
     "output_type": "stream",
     "text": [
      "Processing <PIL.Image.Image image mode=RGB size=500x500 at 0xA017CF8>: 100%|█| 1/1 [00:00<00:00,  4.78 Samples/s]\n"
     ]
    },
    {
     "name": "stdout",
     "output_type": "stream",
     "text": [
      "Initialised with 2 image(s) found.\n",
      "Output directory set to C:/Users/Vagabound/Desktop/Test//GeneratedData/TempFolder//A_upperCase."
     ]
    },
    {
     "name": "stderr",
     "output_type": "stream",
     "text": [
      "Processing <PIL.Image.Image image mode=RGB size=500x500 at 0xA017DA0>: 100%|█| 1/1 [00:00<00:00,  3.60 Samples/s]\n"
     ]
    },
    {
     "name": "stdout",
     "output_type": "stream",
     "text": [
      "Initialised with 2 image(s) found.\n",
      "Output directory set to C:/Users/Vagabound/Desktop/Test//GeneratedData/TempFolder//B_upperCase."
     ]
    },
    {
     "name": "stderr",
     "output_type": "stream",
     "text": [
      "Processing <PIL.Image.Image image mode=RGB size=500x500 at 0xA017EB8>: 100%|█| 1/1 [00:00<00:00,  3.77 Samples/s]\n"
     ]
    },
    {
     "name": "stdout",
     "output_type": "stream",
     "text": [
      "Initialised with 2 image(s) found.\n",
      "Output directory set to C:/Users/Vagabound/Desktop/Test//GeneratedData/TempFolder//A_upperCase."
     ]
    },
    {
     "name": "stderr",
     "output_type": "stream",
     "text": [
      "Processing <PIL.Image.Image image mode=RGB size=500x500 at 0xA022080>: 100%|█| 1/1 [00:00<00:00,  3.37 Samples/s]\n"
     ]
    },
    {
     "name": "stdout",
     "output_type": "stream",
     "text": [
      "Initialised with 2 image(s) found.\n",
      "Output directory set to C:/Users/Vagabound/Desktop/Test//GeneratedData/TempFolder//B_upperCase."
     ]
    },
    {
     "name": "stderr",
     "output_type": "stream",
     "text": [
      "Processing <PIL.Image.Image image mode=RGB size=500x500 at 0xA022198>: 100%|█| 1/1 [00:00<00:00,  5.24 Samples/s]\n"
     ]
    },
    {
     "name": "stdout",
     "output_type": "stream",
     "text": [
      "Initialised with 2 image(s) found.\n",
      "Output directory set to C:/Users/Vagabound/Desktop/Test//GeneratedData/TempFolder//A_upperCase."
     ]
    },
    {
     "name": "stderr",
     "output_type": "stream",
     "text": [
      "Processing <PIL.Image.Image image mode=RGB size=500x500 at 0xA022048>: 100%|█| 1/1 [00:00<00:00,  2.84 Samples/s]\n"
     ]
    },
    {
     "name": "stdout",
     "output_type": "stream",
     "text": [
      "Initialised with 2 image(s) found.\n",
      "Output directory set to C:/Users/Vagabound/Desktop/Test//GeneratedData/TempFolder//B_upperCase."
     ]
    },
    {
     "name": "stderr",
     "output_type": "stream",
     "text": [
      "Processing <PIL.Image.Image image mode=RGB size=500x500 at 0xA022128>: 100%|█| 1/1 [00:00<00:00,  2.61 Samples/s]\n"
     ]
    },
    {
     "name": "stdout",
     "output_type": "stream",
     "text": [
      "Initialised with 2 image(s) found.\n",
      "Output directory set to C:/Users/Vagabound/Desktop/Test//GeneratedData/TempFolder//A_upperCase."
     ]
    },
    {
     "name": "stderr",
     "output_type": "stream",
     "text": [
      "Processing <PIL.Image.Image image mode=RGB size=500x500 at 0xA022470>: 100%|█| 1/1 [00:00<00:00,  3.51 Samples/s]\n"
     ]
    },
    {
     "name": "stdout",
     "output_type": "stream",
     "text": [
      "Initialised with 2 image(s) found.\n",
      "Output directory set to C:/Users/Vagabound/Desktop/Test//GeneratedData/TempFolder//B_upperCase."
     ]
    },
    {
     "name": "stderr",
     "output_type": "stream",
     "text": [
      "Processing <PIL.Image.Image image mode=RGB size=500x500 at 0xA022518>: 100%|█| 1/1 [00:00<00:00,  3.95 Samples/s]\n"
     ]
    },
    {
     "name": "stdout",
     "output_type": "stream",
     "text": [
      "Initialised with 2 image(s) found.\n",
      "Output directory set to C:/Users/Vagabound/Desktop/Test//GeneratedData/TempFolder//A_upperCase."
     ]
    },
    {
     "name": "stderr",
     "output_type": "stream",
     "text": [
      "Processing <PIL.Image.Image image mode=RGB size=500x500 at 0xA022588>: 100%|█| 1/1 [00:00<00:00,  2.88 Samples/s]\n"
     ]
    },
    {
     "name": "stdout",
     "output_type": "stream",
     "text": [
      "Initialised with 2 image(s) found.\n",
      "Output directory set to C:/Users/Vagabound/Desktop/Test//GeneratedData/TempFolder//B_upperCase."
     ]
    },
    {
     "name": "stderr",
     "output_type": "stream",
     "text": [
      "Processing <PIL.Image.Image image mode=RGB size=500x500 at 0xA022710>: 100%|█| 1/1 [00:00<00:00,  3.04 Samples/s]\n"
     ]
    },
    {
     "name": "stdout",
     "output_type": "stream",
     "text": [
      "Initialised with 2 image(s) found.\n",
      "Output directory set to C:/Users/Vagabound/Desktop/Test//GeneratedData/TempFolder//A_upperCase."
     ]
    },
    {
     "name": "stderr",
     "output_type": "stream",
     "text": [
      "Processing <PIL.Image.Image image mode=RGB size=500x500 at 0xA022860>: 100%|█| 1/1 [00:00<00:00,  2.63 Samples/s]\n"
     ]
    },
    {
     "name": "stdout",
     "output_type": "stream",
     "text": [
      "Initialised with 2 image(s) found.\n",
      "Output directory set to C:/Users/Vagabound/Desktop/Test//GeneratedData/TempFolder//B_upperCase."
     ]
    },
    {
     "name": "stderr",
     "output_type": "stream",
     "text": [
      "Processing <PIL.Image.Image image mode=RGB size=500x500 at 0xA022828>: 100%|█| 1/1 [00:00<00:00,  2.93 Samples/s]\n"
     ]
    },
    {
     "name": "stdout",
     "output_type": "stream",
     "text": [
      "Initialised with 2 image(s) found.\n",
      "Output directory set to C:/Users/Vagabound/Desktop/Test//GeneratedData/TempFolder//A_upperCase."
     ]
    },
    {
     "name": "stderr",
     "output_type": "stream",
     "text": [
      "Processing <PIL.Image.Image image mode=RGB size=500x500 at 0xA022A90>: 100%|█| 1/1 [00:00<00:00,  2.74 Samples/s]\n"
     ]
    },
    {
     "name": "stdout",
     "output_type": "stream",
     "text": [
      "Initialised with 2 image(s) found.\n",
      "Output directory set to C:/Users/Vagabound/Desktop/Test//GeneratedData/TempFolder//B_upperCase."
     ]
    },
    {
     "name": "stderr",
     "output_type": "stream",
     "text": [
      "Processing <PIL.Image.Image image mode=RGB size=500x500 at 0xA022C18>: 100%|█| 1/1 [00:00<00:00,  3.62 Samples/s]\n"
     ]
    },
    {
     "name": "stdout",
     "output_type": "stream",
     "text": [
      "Initialised with 2 image(s) found.\n",
      "Output directory set to C:/Users/Vagabound/Desktop/Test//GeneratedData/TempFolder//A_upperCase."
     ]
    },
    {
     "name": "stderr",
     "output_type": "stream",
     "text": [
      "Processing <PIL.Image.Image image mode=RGB size=500x500 at 0xA022DD8>: 100%|█| 1/1 [00:00<00:00,  4.93 Samples/s]\n"
     ]
    },
    {
     "name": "stdout",
     "output_type": "stream",
     "text": [
      "Initialised with 2 image(s) found.\n",
      "Output directory set to C:/Users/Vagabound/Desktop/Test//GeneratedData/TempFolder//B_upperCase."
     ]
    },
    {
     "name": "stderr",
     "output_type": "stream",
     "text": [
      "Processing <PIL.Image.Image image mode=RGB size=500x500 at 0xA022D30>: 100%|█| 1/1 [00:00<00:00,  3.36 Samples/s]\n"
     ]
    },
    {
     "name": "stdout",
     "output_type": "stream",
     "text": [
      "Initialised with 2 image(s) found.\n",
      "Output directory set to C:/Users/Vagabound/Desktop/Test//GeneratedData/TempFolder//A_upperCase."
     ]
    },
    {
     "name": "stderr",
     "output_type": "stream",
     "text": [
      "Processing <PIL.Image.Image image mode=RGB size=500x500 at 0xA022EB8>: 100%|█| 1/1 [00:00<00:00,  3.70 Samples/s]\n"
     ]
    },
    {
     "name": "stdout",
     "output_type": "stream",
     "text": [
      "Initialised with 2 image(s) found.\n",
      "Output directory set to C:/Users/Vagabound/Desktop/Test//GeneratedData/TempFolder//B_upperCase."
     ]
    },
    {
     "name": "stderr",
     "output_type": "stream",
     "text": [
      "Processing <PIL.Image.Image image mode=RGB size=500x500 at 0xA027198>: 100%|█| 1/1 [00:00<00:00,  3.68 Samples/s]\n"
     ]
    },
    {
     "name": "stdout",
     "output_type": "stream",
     "text": [
      "Initialised with 2 image(s) found.\n",
      "Output directory set to C:/Users/Vagabound/Desktop/Test//GeneratedData/TempFolder//A_upperCase."
     ]
    },
    {
     "name": "stderr",
     "output_type": "stream",
     "text": [
      "Processing <PIL.Image.Image image mode=RGB size=500x500 at 0xA0261D0>: 100%|█| 1/1 [00:00<00:00,  2.73 Samples/s]\n"
     ]
    },
    {
     "name": "stdout",
     "output_type": "stream",
     "text": [
      "Initialised with 2 image(s) found.\n",
      "Output directory set to C:/Users/Vagabound/Desktop/Test//GeneratedData/TempFolder//B_upperCase."
     ]
    },
    {
     "name": "stderr",
     "output_type": "stream",
     "text": [
      "Processing <PIL.Image.Image image mode=RGB size=500x500 at 0xA0272E8>: 100%|█| 1/1 [00:00<00:00,  3.65 Samples/s]\n"
     ]
    },
    {
     "name": "stdout",
     "output_type": "stream",
     "text": [
      "Initialised with 2 image(s) found.\n",
      "Output directory set to C:/Users/Vagabound/Desktop/Test//GeneratedData/TempFolder//A_upperCase."
     ]
    },
    {
     "name": "stderr",
     "output_type": "stream",
     "text": [
      "Processing <PIL.Image.Image image mode=RGB size=500x500 at 0xA0274A8>: 100%|█| 1/1 [00:00<00:00,  5.46 Samples/s]\n"
     ]
    },
    {
     "name": "stdout",
     "output_type": "stream",
     "text": [
      "Initialised with 2 image(s) found.\n",
      "Output directory set to C:/Users/Vagabound/Desktop/Test//GeneratedData/TempFolder//B_upperCase."
     ]
    },
    {
     "name": "stderr",
     "output_type": "stream",
     "text": [
      "Processing <PIL.Image.Image image mode=RGB size=500x500 at 0xA027588>: 100%|█| 1/1 [00:00<00:00,  5.75 Samples/s]\n"
     ]
    },
    {
     "name": "stdout",
     "output_type": "stream",
     "text": [
      "Initialised with 2 image(s) found.\n",
      "Output directory set to C:/Users/Vagabound/Desktop/Test//GeneratedData/TempFolder//A_upperCase."
     ]
    },
    {
     "name": "stderr",
     "output_type": "stream",
     "text": [
      "Processing <PIL.Image.Image image mode=RGB size=500x500 at 0xA0276A0>: 100%|█| 1/1 [00:00<00:00,  2.56 Samples/s]\n"
     ]
    },
    {
     "name": "stdout",
     "output_type": "stream",
     "text": [
      "Initialised with 2 image(s) found.\n",
      "Output directory set to C:/Users/Vagabound/Desktop/Test//GeneratedData/TempFolder//B_upperCase."
     ]
    },
    {
     "name": "stderr",
     "output_type": "stream",
     "text": [
      "Processing <PIL.Image.Image image mode=RGB size=500x500 at 0xA0277F0>: 100%|█| 1/1 [00:00<00:00,  4.85 Samples/s]\n"
     ]
    },
    {
     "name": "stdout",
     "output_type": "stream",
     "text": [
      "Initialised with 2 image(s) found.\n",
      "Output directory set to C:/Users/Vagabound/Desktop/Test//GeneratedData/TempFolder//A_upperCase."
     ]
    },
    {
     "name": "stderr",
     "output_type": "stream",
     "text": [
      "Processing <PIL.Image.Image image mode=RGB size=500x500 at 0xA0278D0>: 100%|█| 1/1 [00:00<00:00,  5.43 Samples/s]\n"
     ]
    },
    {
     "name": "stdout",
     "output_type": "stream",
     "text": [
      "Initialised with 2 image(s) found.\n",
      "Output directory set to C:/Users/Vagabound/Desktop/Test//GeneratedData/TempFolder//B_upperCase."
     ]
    },
    {
     "name": "stderr",
     "output_type": "stream",
     "text": [
      "Processing <PIL.Image.Image image mode=RGB size=500x500 at 0xA027748>: 100%|█| 1/1 [00:00<00:00,  2.92 Samples/s]\n"
     ]
    },
    {
     "name": "stdout",
     "output_type": "stream",
     "text": [
      "Initialised with 2 image(s) found.\n",
      "Output directory set to C:/Users/Vagabound/Desktop/Test//GeneratedData/TempFolder//A_upperCase."
     ]
    },
    {
     "name": "stderr",
     "output_type": "stream",
     "text": [
      "Processing <PIL.Image.Image image mode=RGB size=500x500 at 0xA027B38>: 100%|█| 1/1 [00:00<00:00,  5.43 Samples/s]\n"
     ]
    },
    {
     "name": "stdout",
     "output_type": "stream",
     "text": [
      "Initialised with 2 image(s) found.\n",
      "Output directory set to C:/Users/Vagabound/Desktop/Test//GeneratedData/TempFolder//B_upperCase."
     ]
    },
    {
     "name": "stderr",
     "output_type": "stream",
     "text": [
      "Processing <PIL.Image.Image image mode=RGB size=500x500 at 0xA027A90>: 100%|█| 1/1 [00:00<00:00,  3.64 Samples/s]\n"
     ]
    },
    {
     "name": "stdout",
     "output_type": "stream",
     "text": [
      "Initialised with 2 image(s) found.\n",
      "Output directory set to C:/Users/Vagabound/Desktop/Test//GeneratedData/TempFolder//A_upperCase."
     ]
    },
    {
     "name": "stderr",
     "output_type": "stream",
     "text": [
      "Processing <PIL.Image.Image image mode=RGB size=500x500 at 0xA027CC0>: 100%|█| 1/1 [00:00<00:00, 10.42 Samples/s]\n"
     ]
    },
    {
     "name": "stdout",
     "output_type": "stream",
     "text": [
      "Initialised with 2 image(s) found.\n",
      "Output directory set to C:/Users/Vagabound/Desktop/Test//GeneratedData/TempFolder//B_upperCase."
     ]
    },
    {
     "name": "stderr",
     "output_type": "stream",
     "text": [
      "Processing <PIL.Image.Image image mode=RGB size=500x500 at 0xA027E48>: 100%|█| 1/1 [00:00<00:00,  2.92 Samples/s]\n"
     ]
    },
    {
     "name": "stdout",
     "output_type": "stream",
     "text": [
      "Initialised with 2 image(s) found.\n",
      "Output directory set to C:/Users/Vagabound/Desktop/Test//GeneratedData/TempFolder//A_upperCase."
     ]
    },
    {
     "name": "stderr",
     "output_type": "stream",
     "text": [
      "Processing <PIL.Image.Image image mode=RGB size=500x500 at 0xA027F60>: 100%|█| 1/1 [00:00<00:00,  4.61 Samples/s]\n"
     ]
    },
    {
     "name": "stdout",
     "output_type": "stream",
     "text": [
      "Initialised with 2 image(s) found.\n",
      "Output directory set to C:/Users/Vagabound/Desktop/Test//GeneratedData/TempFolder//B_upperCase."
     ]
    },
    {
     "name": "stderr",
     "output_type": "stream",
     "text": [
      "Processing <PIL.Image.Image image mode=RGB size=500x500 at 0xA030128>: 100%|█| 1/1 [00:00<00:00,  2.62 Samples/s]\n"
     ]
    },
    {
     "name": "stdout",
     "output_type": "stream",
     "text": [
      "Initialised with 2 image(s) found.\n",
      "Output directory set to C:/Users/Vagabound/Desktop/Test//GeneratedData/TempFolder//A_upperCase."
     ]
    },
    {
     "name": "stderr",
     "output_type": "stream",
     "text": [
      "Processing <PIL.Image.Image image mode=RGB size=500x500 at 0xA030198>: 100%|█| 1/1 [00:00<00:00,  5.18 Samples/s]\n"
     ]
    },
    {
     "name": "stdout",
     "output_type": "stream",
     "text": [
      "Initialised with 2 image(s) found.\n",
      "Output directory set to C:/Users/Vagabound/Desktop/Test//GeneratedData/TempFolder//B_upperCase."
     ]
    },
    {
     "name": "stderr",
     "output_type": "stream",
     "text": [
      "Processing <PIL.Image.Image image mode=RGB size=500x500 at 0xA0302B0>: 100%|█| 1/1 [00:00<00:00,  3.62 Samples/s]\n"
     ]
    },
    {
     "name": "stdout",
     "output_type": "stream",
     "text": [
      "Initialised with 2 image(s) found.\n",
      "Output directory set to C:/Users/Vagabound/Desktop/Test//GeneratedData/TempFolder//A_upperCase."
     ]
    },
    {
     "name": "stderr",
     "output_type": "stream",
     "text": [
      "Processing <PIL.Image.Image image mode=RGB size=500x500 at 0xA030358>: 100%|█| 1/1 [00:00<00:00,  3.55 Samples/s]\n"
     ]
    },
    {
     "name": "stdout",
     "output_type": "stream",
     "text": [
      "Initialised with 2 image(s) found.\n",
      "Output directory set to C:/Users/Vagabound/Desktop/Test//GeneratedData/TempFolder//B_upperCase."
     ]
    },
    {
     "name": "stderr",
     "output_type": "stream",
     "text": [
      "Processing <PIL.Image.Image image mode=RGB size=500x500 at 0xA030518>: 100%|█| 1/1 [00:00<00:00,  1.99 Samples/s]\n"
     ]
    },
    {
     "name": "stdout",
     "output_type": "stream",
     "text": [
      "Initialised with 2 image(s) found.\n",
      "Output directory set to C:/Users/Vagabound/Desktop/Test//GeneratedData/TempFolder//A_upperCase."
     ]
    },
    {
     "name": "stderr",
     "output_type": "stream",
     "text": [
      "Processing <PIL.Image.Image image mode=RGB size=500x500 at 0xA0305C0>: 100%|█| 1/1 [00:00<00:00,  3.70 Samples/s]\n"
     ]
    },
    {
     "name": "stdout",
     "output_type": "stream",
     "text": [
      "Initialised with 2 image(s) found.\n",
      "Output directory set to C:/Users/Vagabound/Desktop/Test//GeneratedData/TempFolder//B_upperCase."
     ]
    },
    {
     "name": "stderr",
     "output_type": "stream",
     "text": [
      "Processing <PIL.Image.Image image mode=RGB size=500x500 at 0xA030748>: 100%|█| 1/1 [00:00<00:00,  2.43 Samples/s]\n"
     ]
    },
    {
     "name": "stdout",
     "output_type": "stream",
     "text": [
      "Initialised with 2 image(s) found.\n",
      "Output directory set to C:/Users/Vagabound/Desktop/Test//GeneratedData/TempFolder//A_upperCase."
     ]
    },
    {
     "name": "stderr",
     "output_type": "stream",
     "text": [
      "Processing <PIL.Image.Image image mode=RGB size=500x500 at 0xA030860>: 100%|█| 1/1 [00:00<00:00,  2.88 Samples/s]\n"
     ]
    },
    {
     "name": "stdout",
     "output_type": "stream",
     "text": [
      "Initialised with 2 image(s) found.\n",
      "Output directory set to C:/Users/Vagabound/Desktop/Test//GeneratedData/TempFolder//B_upperCase."
     ]
    },
    {
     "name": "stderr",
     "output_type": "stream",
     "text": [
      "Processing <PIL.Image.Image image mode=RGB size=500x500 at 0xA030550>: 100%|█| 1/1 [00:00<00:00,  3.69 Samples/s]\n"
     ]
    },
    {
     "name": "stdout",
     "output_type": "stream",
     "text": [
      "Initialised with 2 image(s) found.\n",
      "Output directory set to C:/Users/Vagabound/Desktop/Test//GeneratedData/TempFolder//A_upperCase."
     ]
    },
    {
     "name": "stderr",
     "output_type": "stream",
     "text": [
      "Processing <PIL.Image.Image image mode=RGB size=500x500 at 0xA030A20>: 100%|█| 1/1 [00:00<00:00,  3.30 Samples/s]\n"
     ]
    },
    {
     "name": "stdout",
     "output_type": "stream",
     "text": [
      "Initialised with 2 image(s) found.\n",
      "Output directory set to C:/Users/Vagabound/Desktop/Test//GeneratedData/TempFolder//B_upperCase."
     ]
    },
    {
     "name": "stderr",
     "output_type": "stream",
     "text": [
      "Processing <PIL.Image.Image image mode=RGB size=500x500 at 0xA030908>: 100%|█| 1/1 [00:00<00:00,  3.64 Samples/s]\n"
     ]
    },
    {
     "name": "stdout",
     "output_type": "stream",
     "text": [
      "Initialised with 2 image(s) found.\n",
      "Output directory set to C:/Users/Vagabound/Desktop/Test//GeneratedData/TempFolder//A_upperCase."
     ]
    },
    {
     "name": "stderr",
     "output_type": "stream",
     "text": [
      "Processing <PIL.Image.Image image mode=RGB size=500x500 at 0xA030A90>: 100%|█| 1/1 [00:00<00:00,  3.79 Samples/s]\n"
     ]
    },
    {
     "name": "stdout",
     "output_type": "stream",
     "text": [
      "Initialised with 2 image(s) found.\n",
      "Output directory set to C:/Users/Vagabound/Desktop/Test//GeneratedData/TempFolder//B_upperCase."
     ]
    },
    {
     "name": "stderr",
     "output_type": "stream",
     "text": [
      "Processing <PIL.Image.Image image mode=RGB size=500x500 at 0xA030BA8>: 100%|█| 1/1 [00:00<00:00,  3.58 Samples/s]\n"
     ]
    },
    {
     "name": "stdout",
     "output_type": "stream",
     "text": [
      "Initialised with 2 image(s) found.\n",
      "Output directory set to C:/Users/Vagabound/Desktop/Test//GeneratedData/TempFolder//A_upperCase."
     ]
    },
    {
     "name": "stderr",
     "output_type": "stream",
     "text": [
      "Processing <PIL.Image.Image image mode=RGB size=500x500 at 0xA030E48>: 100%|█| 1/1 [00:00<00:00,  3.62 Samples/s]\n"
     ]
    },
    {
     "name": "stdout",
     "output_type": "stream",
     "text": [
      "Initialised with 2 image(s) found.\n",
      "Output directory set to C:/Users/Vagabound/Desktop/Test//GeneratedData/TempFolder//B_upperCase."
     ]
    },
    {
     "name": "stderr",
     "output_type": "stream",
     "text": [
      "Processing <PIL.Image.Image image mode=RGB size=500x500 at 0xA03C048>: 100%|█| 1/1 [00:00<00:00,  3.68 Samples/s]\n"
     ]
    },
    {
     "name": "stdout",
     "output_type": "stream",
     "text": [
      "Initialised with 2 image(s) found.\n",
      "Output directory set to C:/Users/Vagabound/Desktop/Test//GeneratedData/TempFolder//A_upperCase."
     ]
    },
    {
     "name": "stderr",
     "output_type": "stream",
     "text": [
      "Processing <PIL.Image.Image image mode=RGB size=500x500 at 0xA038128>: 100%|█| 1/1 [00:00<00:00,  2.53 Samples/s]\n"
     ]
    },
    {
     "name": "stdout",
     "output_type": "stream",
     "text": [
      "Initialised with 2 image(s) found.\n",
      "Output directory set to C:/Users/Vagabound/Desktop/Test//GeneratedData/TempFolder//B_upperCase."
     ]
    },
    {
     "name": "stderr",
     "output_type": "stream",
     "text": [
      "Processing <PIL.Image.Image image mode=RGB size=500x500 at 0xA03C2B0>: 100%|█| 1/1 [00:00<00:00,  5.52 Samples/s]\n"
     ]
    },
    {
     "name": "stdout",
     "output_type": "stream",
     "text": [
      "Initialised with 2 image(s) found.\n",
      "Output directory set to C:/Users/Vagabound/Desktop/Test//GeneratedData/TempFolder//A_upperCase."
     ]
    },
    {
     "name": "stderr",
     "output_type": "stream",
     "text": [
      "Processing <PIL.Image.Image image mode=RGB size=500x500 at 0xA03C390>: 100%|█| 1/1 [00:00<00:00,  5.62 Samples/s]\n"
     ]
    },
    {
     "name": "stdout",
     "output_type": "stream",
     "text": [
      "Initialised with 2 image(s) found.\n",
      "Output directory set to C:/Users/Vagabound/Desktop/Test//GeneratedData/TempFolder//B_upperCase."
     ]
    },
    {
     "name": "stderr",
     "output_type": "stream",
     "text": [
      "Processing <PIL.Image.Image image mode=RGB size=500x500 at 0xA03C4A8>: 100%|█| 1/1 [00:00<00:00,  2.78 Samples/s]\n"
     ]
    },
    {
     "name": "stdout",
     "output_type": "stream",
     "text": [
      "Initialised with 2 image(s) found.\n",
      "Output directory set to C:/Users/Vagabound/Desktop/Test//GeneratedData/TempFolder//A_upperCase."
     ]
    },
    {
     "name": "stderr",
     "output_type": "stream",
     "text": [
      "Processing <PIL.Image.Image image mode=RGB size=500x500 at 0xA03C5C0>: 100%|█| 1/1 [00:00<00:00,  4.69 Samples/s]\n"
     ]
    },
    {
     "name": "stdout",
     "output_type": "stream",
     "text": [
      "Initialised with 2 image(s) found.\n",
      "Output directory set to C:/Users/Vagabound/Desktop/Test//GeneratedData/TempFolder//B_upperCase."
     ]
    },
    {
     "name": "stderr",
     "output_type": "stream",
     "text": [
      "Processing <PIL.Image.Image image mode=RGB size=500x500 at 0xA03C4E0>: 100%|█| 1/1 [00:00<00:00,  3.86 Samples/s]\n"
     ]
    },
    {
     "name": "stdout",
     "output_type": "stream",
     "text": [
      "Initialised with 2 image(s) found.\n",
      "Output directory set to C:/Users/Vagabound/Desktop/Test//GeneratedData/TempFolder//A_upperCase."
     ]
    },
    {
     "name": "stderr",
     "output_type": "stream",
     "text": [
      "Processing <PIL.Image.Image image mode=RGB size=500x500 at 0xA03C668>: 100%|█| 1/1 [00:00<00:00,  3.83 Samples/s]\n"
     ]
    },
    {
     "name": "stdout",
     "output_type": "stream",
     "text": [
      "Initialised with 2 image(s) found.\n",
      "Output directory set to C:/Users/Vagabound/Desktop/Test//GeneratedData/TempFolder//B_upperCase."
     ]
    },
    {
     "name": "stderr",
     "output_type": "stream",
     "text": [
      "Processing <PIL.Image.Image image mode=RGB size=500x500 at 0xA03C240>: 100%|█| 1/1 [00:00<00:00,  3.27 Samples/s]\n"
     ]
    },
    {
     "name": "stdout",
     "output_type": "stream",
     "text": [
      "Initialised with 2 image(s) found.\n",
      "Output directory set to C:/Users/Vagabound/Desktop/Test//GeneratedData/TempFolder//A_upperCase."
     ]
    },
    {
     "name": "stderr",
     "output_type": "stream",
     "text": [
      "Processing <PIL.Image.Image image mode=RGB size=500x500 at 0xA03C940>: 100%|█| 1/1 [00:00<00:00,  3.48 Samples/s]\n"
     ]
    },
    {
     "name": "stdout",
     "output_type": "stream",
     "text": [
      "Initialised with 2 image(s) found.\n",
      "Output directory set to C:/Users/Vagabound/Desktop/Test//GeneratedData/TempFolder//B_upperCase."
     ]
    },
    {
     "name": "stderr",
     "output_type": "stream",
     "text": [
      "Processing <PIL.Image.Image image mode=RGB size=500x500 at 0xA03CB00>: 100%|█| 1/1 [00:00<00:00,  2.92 Samples/s]\n"
     ]
    },
    {
     "name": "stdout",
     "output_type": "stream",
     "text": [
      "Initialised with 2 image(s) found.\n",
      "Output directory set to C:/Users/Vagabound/Desktop/Test//GeneratedData/TempFolder//A_upperCase."
     ]
    },
    {
     "name": "stderr",
     "output_type": "stream",
     "text": [
      "Processing <PIL.Image.Image image mode=RGB size=500x500 at 0xA03CC50>: 100%|█| 1/1 [00:00<00:00,  3.95 Samples/s]\n"
     ]
    },
    {
     "name": "stdout",
     "output_type": "stream",
     "text": [
      "Initialised with 2 image(s) found.\n",
      "Output directory set to C:/Users/Vagabound/Desktop/Test//GeneratedData/TempFolder//B_upperCase."
     ]
    },
    {
     "name": "stderr",
     "output_type": "stream",
     "text": [
      "Processing <PIL.Image.Image image mode=RGB size=500x500 at 0xA03CB38>: 100%|█| 1/1 [00:00<00:00,  3.08 Samples/s]\n"
     ]
    },
    {
     "name": "stdout",
     "output_type": "stream",
     "text": [
      "Initialised with 2 image(s) found.\n",
      "Output directory set to C:/Users/Vagabound/Desktop/Test//GeneratedData/TempFolder//A_upperCase."
     ]
    },
    {
     "name": "stderr",
     "output_type": "stream",
     "text": [
      "Processing <PIL.Image.Image image mode=RGB size=500x500 at 0xA03CA20>: 100%|█| 1/1 [00:00<00:00,  2.56 Samples/s]\n"
     ]
    },
    {
     "name": "stdout",
     "output_type": "stream",
     "text": [
      "Initialised with 2 image(s) found.\n",
      "Output directory set to C:/Users/Vagabound/Desktop/Test//GeneratedData/TempFolder//B_upperCase."
     ]
    },
    {
     "name": "stderr",
     "output_type": "stream",
     "text": [
      "Processing <PIL.Image.Image image mode=RGB size=500x500 at 0xA03CF98>: 100%|█| 1/1 [00:00<00:00,  2.26 Samples/s]\n"
     ]
    },
    {
     "name": "stdout",
     "output_type": "stream",
     "text": [
      "Initialised with 2 image(s) found.\n",
      "Output directory set to C:/Users/Vagabound/Desktop/Test//GeneratedData/TempFolder//A_upperCase."
     ]
    },
    {
     "name": "stderr",
     "output_type": "stream",
     "text": [
      "Processing <PIL.Image.Image image mode=RGB size=500x500 at 0xA044160>: 100%|█| 1/1 [00:00<00:00,  3.33 Samples/s]\n"
     ]
    },
    {
     "name": "stdout",
     "output_type": "stream",
     "text": [
      "Initialised with 2 image(s) found.\n",
      "Output directory set to C:/Users/Vagabound/Desktop/Test//GeneratedData/TempFolder//B_upperCase."
     ]
    },
    {
     "name": "stderr",
     "output_type": "stream",
     "text": [
      "Processing <PIL.Image.Image image mode=RGB size=500x500 at 0xA045240>: 100%|█| 1/1 [00:00<00:00,  1.75 Samples/s]\n"
     ]
    },
    {
     "name": "stdout",
     "output_type": "stream",
     "text": [
      "Initialised with 2 image(s) found.\n",
      "Output directory set to C:/Users/Vagabound/Desktop/Test//GeneratedData/TempFolder//A_upperCase."
     ]
    },
    {
     "name": "stderr",
     "output_type": "stream",
     "text": [
      "Processing <PIL.Image.Image image mode=RGB size=500x500 at 0xA045358>: 100%|█| 1/1 [00:00<00:00,  5.26 Samples/s]\n"
     ]
    },
    {
     "name": "stdout",
     "output_type": "stream",
     "text": [
      "Initialised with 2 image(s) found.\n",
      "Output directory set to C:/Users/Vagabound/Desktop/Test//GeneratedData/TempFolder//B_upperCase."
     ]
    },
    {
     "name": "stderr",
     "output_type": "stream",
     "text": [
      "Processing <PIL.Image.Image image mode=RGB size=500x500 at 0xA043470>: 100%|█| 1/1 [00:00<00:00,  4.41 Samples/s]\n"
     ]
    },
    {
     "name": "stdout",
     "output_type": "stream",
     "text": [
      "Initialised with 2 image(s) found.\n",
      "Output directory set to C:/Users/Vagabound/Desktop/Test//GeneratedData/TempFolder//A_upperCase."
     ]
    },
    {
     "name": "stderr",
     "output_type": "stream",
     "text": [
      "Processing <PIL.Image.Image image mode=RGB size=500x500 at 0xA043240>: 100%|█| 1/1 [00:00<00:00,  2.87 Samples/s]\n"
     ]
    },
    {
     "name": "stdout",
     "output_type": "stream",
     "text": [
      "Initialised with 2 image(s) found.\n",
      "Output directory set to C:/Users/Vagabound/Desktop/Test//GeneratedData/TempFolder//B_upperCase."
     ]
    },
    {
     "name": "stderr",
     "output_type": "stream",
     "text": [
      "Processing <PIL.Image.Image image mode=RGB size=500x500 at 0xA043588>: 100%|█| 1/1 [00:00<00:00,  3.80 Samples/s]\n"
     ]
    },
    {
     "name": "stdout",
     "output_type": "stream",
     "text": [
      "Initialised with 2 image(s) found.\n",
      "Output directory set to C:/Users/Vagabound/Desktop/Test//GeneratedData/TempFolder//A_upperCase."
     ]
    },
    {
     "name": "stderr",
     "output_type": "stream",
     "text": [
      "Processing <PIL.Image.Image image mode=RGB size=500x500 at 0xA043780>: 100%|█| 1/1 [00:00<00:00,  3.88 Samples/s]\n"
     ]
    },
    {
     "name": "stdout",
     "output_type": "stream",
     "text": [
      "Initialised with 2 image(s) found.\n",
      "Output directory set to C:/Users/Vagabound/Desktop/Test//GeneratedData/TempFolder//B_upperCase."
     ]
    },
    {
     "name": "stderr",
     "output_type": "stream",
     "text": [
      "Processing <PIL.Image.Image image mode=RGB size=500x500 at 0xA0438D0>: 100%|█| 1/1 [00:00<00:00,  4.97 Samples/s]\n"
     ]
    },
    {
     "name": "stdout",
     "output_type": "stream",
     "text": [
      "Initialised with 2 image(s) found.\n",
      "Output directory set to C:/Users/Vagabound/Desktop/Test//GeneratedData/TempFolder//A_upperCase."
     ]
    },
    {
     "name": "stderr",
     "output_type": "stream",
     "text": [
      "Processing <PIL.Image.Image image mode=RGB size=500x500 at 0xA043438>: 100%|█| 1/1 [00:00<00:00,  1.81 Samples/s]\n"
     ]
    },
    {
     "name": "stdout",
     "output_type": "stream",
     "text": [
      "Initialised with 2 image(s) found.\n",
      "Output directory set to C:/Users/Vagabound/Desktop/Test//GeneratedData/TempFolder//B_upperCase."
     ]
    },
    {
     "name": "stderr",
     "output_type": "stream",
     "text": [
      "Processing <PIL.Image.Image image mode=RGB size=500x500 at 0xA043AC8>: 100%|█| 1/1 [00:00<00:00,  2.02 Samples/s]\n"
     ]
    },
    {
     "name": "stdout",
     "output_type": "stream",
     "text": [
      "Initialised with 2 image(s) found.\n",
      "Output directory set to C:/Users/Vagabound/Desktop/Test//GeneratedData/TempFolder//A_upperCase."
     ]
    },
    {
     "name": "stderr",
     "output_type": "stream",
     "text": [
      "Processing <PIL.Image.Image image mode=RGB size=500x500 at 0xA0433C8>: 100%|█| 1/1 [00:00<00:00,  3.73 Samples/s]\n"
     ]
    },
    {
     "name": "stdout",
     "output_type": "stream",
     "text": [
      "Initialised with 2 image(s) found.\n",
      "Output directory set to C:/Users/Vagabound/Desktop/Test//GeneratedData/TempFolder//B_upperCase."
     ]
    },
    {
     "name": "stderr",
     "output_type": "stream",
     "text": [
      "Processing <PIL.Image.Image image mode=RGB size=500x500 at 0xA043B70>: 100%|█| 1/1 [00:00<00:00,  3.31 Samples/s]\n"
     ]
    },
    {
     "name": "stdout",
     "output_type": "stream",
     "text": [
      "Initialised with 2 image(s) found.\n",
      "Output directory set to C:/Users/Vagabound/Desktop/Test//GeneratedData/TempFolder//A_upperCase."
     ]
    },
    {
     "name": "stderr",
     "output_type": "stream",
     "text": [
      "Processing <PIL.Image.Image image mode=RGB size=500x500 at 0xA043E48>: 100%|█| 1/1 [00:00<00:00,  3.69 Samples/s]\n"
     ]
    },
    {
     "name": "stdout",
     "output_type": "stream",
     "text": [
      "Initialised with 2 image(s) found.\n",
      "Output directory set to C:/Users/Vagabound/Desktop/Test//GeneratedData/TempFolder//B_upperCase."
     ]
    },
    {
     "name": "stderr",
     "output_type": "stream",
     "text": [
      "Processing <PIL.Image.Image image mode=RGB size=500x500 at 0xA0439B0>: 100%|█| 1/1 [00:00<00:00,  2.13 Samples/s]\n"
     ]
    },
    {
     "name": "stdout",
     "output_type": "stream",
     "text": [
      "Initialised with 2 image(s) found.\n",
      "Output directory set to C:/Users/Vagabound/Desktop/Test//GeneratedData/TempFolder//A_upperCase."
     ]
    },
    {
     "name": "stderr",
     "output_type": "stream",
     "text": [
      "Processing <PIL.Image.Image image mode=RGB size=500x500 at 0xA04C048>: 100%|█| 1/1 [00:00<00:00,  3.64 Samples/s]\n"
     ]
    },
    {
     "name": "stdout",
     "output_type": "stream",
     "text": [
      "Initialised with 2 image(s) found.\n",
      "Output directory set to C:/Users/Vagabound/Desktop/Test//GeneratedData/TempFolder//B_upperCase."
     ]
    },
    {
     "name": "stderr",
     "output_type": "stream",
     "text": [
      "Processing <PIL.Image.Image image mode=RGB size=500x500 at 0xA04C208>: 100%|█| 1/1 [00:00<00:00,  3.82 Samples/s]\n"
     ]
    },
    {
     "name": "stdout",
     "output_type": "stream",
     "text": [
      "Initialised with 2 image(s) found.\n",
      "Output directory set to C:/Users/Vagabound/Desktop/Test//GeneratedData/TempFolder//A_upperCase."
     ]
    },
    {
     "name": "stderr",
     "output_type": "stream",
     "text": [
      "Processing <PIL.Image.Image image mode=RGB size=500x500 at 0xA04C240>: 100%|█| 1/1 [00:00<00:00,  3.44 Samples/s]\n"
     ]
    },
    {
     "name": "stdout",
     "output_type": "stream",
     "text": [
      "Initialised with 2 image(s) found.\n",
      "Output directory set to C:/Users/Vagabound/Desktop/Test//GeneratedData/TempFolder//B_upperCase."
     ]
    },
    {
     "name": "stderr",
     "output_type": "stream",
     "text": [
      "Processing <PIL.Image.Image image mode=RGB size=500x500 at 0xA04C400>: 100%|█| 1/1 [00:00<00:00,  5.18 Samples/s]\n"
     ]
    },
    {
     "name": "stdout",
     "output_type": "stream",
     "text": [
      "Initialised with 2 image(s) found.\n",
      "Output directory set to C:/Users/Vagabound/Desktop/Test//GeneratedData/TempFolder//A_upperCase."
     ]
    },
    {
     "name": "stderr",
     "output_type": "stream",
     "text": [
      "Processing <PIL.Image.Image image mode=RGB size=500x500 at 0xA04C358>: 100%|█| 1/1 [00:00<00:00,  3.75 Samples/s]\n"
     ]
    },
    {
     "name": "stdout",
     "output_type": "stream",
     "text": [
      "Initialised with 2 image(s) found.\n",
      "Output directory set to C:/Users/Vagabound/Desktop/Test//GeneratedData/TempFolder//B_upperCase."
     ]
    },
    {
     "name": "stderr",
     "output_type": "stream",
     "text": [
      "Processing <PIL.Image.Image image mode=RGB size=500x500 at 0xA04C5F8>: 100%|█| 1/1 [00:00<00:00,  3.58 Samples/s]\n"
     ]
    },
    {
     "name": "stdout",
     "output_type": "stream",
     "text": [
      "Initialised with 2 image(s) found.\n",
      "Output directory set to C:/Users/Vagabound/Desktop/Test//GeneratedData/TempFolder//A_upperCase."
     ]
    },
    {
     "name": "stderr",
     "output_type": "stream",
     "text": [
      "Processing <PIL.Image.Image image mode=RGB size=500x500 at 0xA04C780>: 100%|█| 1/1 [00:00<00:00,  2.77 Samples/s]\n"
     ]
    },
    {
     "name": "stdout",
     "output_type": "stream",
     "text": [
      "Initialised with 2 image(s) found.\n",
      "Output directory set to C:/Users/Vagabound/Desktop/Test//GeneratedData/TempFolder//B_upperCase."
     ]
    },
    {
     "name": "stderr",
     "output_type": "stream",
     "text": [
      "Processing <PIL.Image.Image image mode=RGB size=500x500 at 0xA04C828>: 100%|█| 1/1 [00:00<00:00,  2.23 Samples/s]\n"
     ]
    },
    {
     "name": "stdout",
     "output_type": "stream",
     "text": [
      "Initialised with 2 image(s) found.\n",
      "Output directory set to C:/Users/Vagabound/Desktop/Test//GeneratedData/TempFolder//A_upperCase."
     ]
    },
    {
     "name": "stderr",
     "output_type": "stream",
     "text": [
      "Processing <PIL.Image.Image image mode=RGB size=500x500 at 0xA04C8D0>: 100%|█| 1/1 [00:00<00:00,  3.33 Samples/s]\n"
     ]
    },
    {
     "name": "stdout",
     "output_type": "stream",
     "text": [
      "Initialised with 2 image(s) found.\n",
      "Output directory set to C:/Users/Vagabound/Desktop/Test//GeneratedData/TempFolder//B_upperCase."
     ]
    },
    {
     "name": "stderr",
     "output_type": "stream",
     "text": [
      "Processing <PIL.Image.Image image mode=RGB size=500x500 at 0xA04C860>: 100%|█| 1/1 [00:00<00:00,  3.39 Samples/s]\n"
     ]
    },
    {
     "name": "stdout",
     "output_type": "stream",
     "text": [
      "Initialised with 2 image(s) found.\n",
      "Output directory set to C:/Users/Vagabound/Desktop/Test//GeneratedData/TempFolder//A_upperCase."
     ]
    },
    {
     "name": "stderr",
     "output_type": "stream",
     "text": [
      "Processing <PIL.Image.Image image mode=RGB size=500x500 at 0xA04C9E8>: 100%|█| 1/1 [00:00<00:00,  3.48 Samples/s]\n"
     ]
    },
    {
     "name": "stdout",
     "output_type": "stream",
     "text": [
      "Initialised with 2 image(s) found.\n",
      "Output directory set to C:/Users/Vagabound/Desktop/Test//GeneratedData/TempFolder//B_upperCase."
     ]
    },
    {
     "name": "stderr",
     "output_type": "stream",
     "text": [
      "Processing <PIL.Image.Image image mode=RGB size=500x500 at 0xA04CCC0>: 100%|█| 1/1 [00:00<00:00,  4.97 Samples/s]\n"
     ]
    },
    {
     "name": "stdout",
     "output_type": "stream",
     "text": [
      "Initialised with 2 image(s) found.\n",
      "Output directory set to C:/Users/Vagabound/Desktop/Test//GeneratedData/TempFolder//A_upperCase."
     ]
    },
    {
     "name": "stderr",
     "output_type": "stream",
     "text": [
      "Processing <PIL.Image.Image image mode=RGB size=500x500 at 0xA04CDA0>: 100%|█| 1/1 [00:00<00:00,  2.62 Samples/s]\n"
     ]
    },
    {
     "name": "stdout",
     "output_type": "stream",
     "text": [
      "Initialised with 2 image(s) found.\n",
      "Output directory set to C:/Users/Vagabound/Desktop/Test//GeneratedData/TempFolder//B_upperCase."
     ]
    },
    {
     "name": "stderr",
     "output_type": "stream",
     "text": [
      "Processing <PIL.Image.Image image mode=RGB size=500x500 at 0xA04CE48>: 100%|█| 1/1 [00:00<00:00,  3.41 Samples/s]\n"
     ]
    },
    {
     "name": "stdout",
     "output_type": "stream",
     "text": [
      "Initialised with 2 image(s) found.\n",
      "Output directory set to C:/Users/Vagabound/Desktop/Test//GeneratedData/TempFolder//A_upperCase."
     ]
    },
    {
     "name": "stderr",
     "output_type": "stream",
     "text": [
      "Processing <PIL.Image.Image image mode=RGB size=500x500 at 0xA04CC88>: 100%|█| 1/1 [00:00<00:00,  2.46 Samples/s]\n"
     ]
    },
    {
     "name": "stdout",
     "output_type": "stream",
     "text": [
      "Initialised with 2 image(s) found.\n",
      "Output directory set to C:/Users/Vagabound/Desktop/Test//GeneratedData/TempFolder//B_upperCase."
     ]
    },
    {
     "name": "stderr",
     "output_type": "stream",
     "text": [
      "Processing <PIL.Image.Image image mode=RGB size=500x500 at 0xA054198>: 100%|█| 1/1 [00:00<00:00,  3.65 Samples/s]\n"
     ]
    },
    {
     "name": "stdout",
     "output_type": "stream",
     "text": [
      "Initialised with 2 image(s) found.\n",
      "Output directory set to C:/Users/Vagabound/Desktop/Test//GeneratedData/TempFolder//A_upperCase."
     ]
    },
    {
     "name": "stderr",
     "output_type": "stream",
     "text": [
      "Processing <PIL.Image.Image image mode=RGB size=500x500 at 0xA0541D0>: 100%|█| 1/1 [00:00<00:00,  3.86 Samples/s]\n"
     ]
    },
    {
     "name": "stdout",
     "output_type": "stream",
     "text": [
      "Initialised with 2 image(s) found.\n",
      "Output directory set to C:/Users/Vagabound/Desktop/Test//GeneratedData/TempFolder//B_upperCase."
     ]
    },
    {
     "name": "stderr",
     "output_type": "stream",
     "text": [
      "Processing <PIL.Image.Image image mode=RGB size=500x500 at 0xA054128>: 100%|█| 1/1 [00:00<00:00,  2.74 Samples/s]\n"
     ]
    },
    {
     "name": "stdout",
     "output_type": "stream",
     "text": [
      "Initialised with 2 image(s) found.\n",
      "Output directory set to C:/Users/Vagabound/Desktop/Test//GeneratedData/TempFolder//A_upperCase."
     ]
    },
    {
     "name": "stderr",
     "output_type": "stream",
     "text": [
      "Processing <PIL.Image.Image image mode=RGB size=500x500 at 0xA0542E8>: 100%|█| 1/1 [00:00<00:00,  2.77 Samples/s]\n"
     ]
    },
    {
     "name": "stdout",
     "output_type": "stream",
     "text": [
      "Initialised with 2 image(s) found.\n",
      "Output directory set to C:/Users/Vagabound/Desktop/Test//GeneratedData/TempFolder//B_upperCase."
     ]
    },
    {
     "name": "stderr",
     "output_type": "stream",
     "text": [
      "Processing <PIL.Image.Image image mode=RGB size=500x500 at 0xA0544E0>: 100%|█| 1/1 [00:00<00:00,  2.65 Samples/s]\n"
     ]
    },
    {
     "name": "stdout",
     "output_type": "stream",
     "text": [
      "Initialised with 2 image(s) found.\n",
      "Output directory set to C:/Users/Vagabound/Desktop/Test//GeneratedData/TempFolder//A_upperCase."
     ]
    },
    {
     "name": "stderr",
     "output_type": "stream",
     "text": [
      "Processing <PIL.Image.Image image mode=RGB size=500x500 at 0xA0546A0>: 100%|█| 1/1 [00:00<00:00,  5.21 Samples/s]\n"
     ]
    },
    {
     "name": "stdout",
     "output_type": "stream",
     "text": [
      "Initialised with 2 image(s) found.\n",
      "Output directory set to C:/Users/Vagabound/Desktop/Test//GeneratedData/TempFolder//B_upperCase."
     ]
    },
    {
     "name": "stderr",
     "output_type": "stream",
     "text": [
      "Processing <PIL.Image.Image image mode=RGB size=500x500 at 0xA0547B8>: 100%|█| 1/1 [00:00<00:00,  2.72 Samples/s]\n"
     ]
    },
    {
     "name": "stdout",
     "output_type": "stream",
     "text": [
      "Initialised with 2 image(s) found.\n",
      "Output directory set to C:/Users/Vagabound/Desktop/Test//GeneratedData/TempFolder//A_upperCase."
     ]
    },
    {
     "name": "stderr",
     "output_type": "stream",
     "text": [
      "Processing <PIL.Image.Image image mode=RGB size=500x500 at 0xA054860>: 100%|█| 1/1 [00:00<00:00,  3.61 Samples/s]\n"
     ]
    },
    {
     "name": "stdout",
     "output_type": "stream",
     "text": [
      "Initialised with 2 image(s) found.\n",
      "Output directory set to C:/Users/Vagabound/Desktop/Test//GeneratedData/TempFolder//B_upperCase."
     ]
    },
    {
     "name": "stderr",
     "output_type": "stream",
     "text": [
      "Processing <PIL.Image.Image image mode=RGB size=500x500 at 0xA054908>: 100%|█| 1/1 [00:00<00:00,  3.25 Samples/s]\n"
     ]
    },
    {
     "name": "stdout",
     "output_type": "stream",
     "text": [
      "Initialised with 2 image(s) found.\n",
      "Output directory set to C:/Users/Vagabound/Desktop/Test//GeneratedData/TempFolder//A_upperCase."
     ]
    },
    {
     "name": "stderr",
     "output_type": "stream",
     "text": [
      "Processing <PIL.Image.Image image mode=RGB size=500x500 at 0xA054B00>: 100%|█| 1/1 [00:00<00:00,  2.84 Samples/s]\n"
     ]
    },
    {
     "name": "stdout",
     "output_type": "stream",
     "text": [
      "Initialised with 2 image(s) found.\n",
      "Output directory set to C:/Users/Vagabound/Desktop/Test//GeneratedData/TempFolder//B_upperCase."
     ]
    },
    {
     "name": "stderr",
     "output_type": "stream",
     "text": [
      "Processing <PIL.Image.Image image mode=RGB size=500x500 at 0xA0549E8>: 100%|█| 1/1 [00:00<00:00,  3.45 Samples/s]\n"
     ]
    },
    {
     "name": "stdout",
     "output_type": "stream",
     "text": [
      "Initialised with 2 image(s) found.\n",
      "Output directory set to C:/Users/Vagabound/Desktop/Test//GeneratedData/TempFolder//A_upperCase."
     ]
    },
    {
     "name": "stderr",
     "output_type": "stream",
     "text": [
      "Processing <PIL.Image.Image image mode=RGB size=500x500 at 0xA054C88>: 100%|█| 1/1 [00:00<00:00,  3.50 Samples/s]\n"
     ]
    },
    {
     "name": "stdout",
     "output_type": "stream",
     "text": [
      "Initialised with 2 image(s) found.\n",
      "Output directory set to C:/Users/Vagabound/Desktop/Test//GeneratedData/TempFolder//B_upperCase."
     ]
    },
    {
     "name": "stderr",
     "output_type": "stream",
     "text": [
      "Processing <PIL.Image.Image image mode=RGB size=500x500 at 0xA054DA0>: 100%|█| 1/1 [00:00<00:00,  2.43 Samples/s]\n"
     ]
    },
    {
     "name": "stdout",
     "output_type": "stream",
     "text": [
      "Initialised with 2 image(s) found.\n",
      "Output directory set to C:/Users/Vagabound/Desktop/Test//GeneratedData/TempFolder//A_upperCase."
     ]
    },
    {
     "name": "stderr",
     "output_type": "stream",
     "text": [
      "Processing <PIL.Image.Image image mode=RGB size=500x500 at 0xA054D68>: 100%|█| 1/1 [00:00<00:00,  2.97 Samples/s]\n"
     ]
    },
    {
     "name": "stdout",
     "output_type": "stream",
     "text": [
      "Initialised with 2 image(s) found.\n",
      "Output directory set to C:/Users/Vagabound/Desktop/Test//GeneratedData/TempFolder//B_upperCase."
     ]
    },
    {
     "name": "stderr",
     "output_type": "stream",
     "text": [
      "Processing <PIL.Image.Image image mode=RGB size=500x500 at 0xA05F0F0>: 100%|█| 1/1 [00:00<00:00,  2.63 Samples/s]\n"
     ]
    },
    {
     "name": "stdout",
     "output_type": "stream",
     "text": [
      "Initialised with 2 image(s) found.\n",
      "Output directory set to C:/Users/Vagabound/Desktop/Test//GeneratedData/TempFolder//A_upperCase."
     ]
    },
    {
     "name": "stderr",
     "output_type": "stream",
     "text": [
      "Processing <PIL.Image.Image image mode=RGB size=500x500 at 0xA05E160>: 100%|█| 1/1 [00:00<00:00,  3.30 Samples/s]\n"
     ]
    },
    {
     "name": "stdout",
     "output_type": "stream",
     "text": [
      "Initialised with 2 image(s) found.\n",
      "Output directory set to C:/Users/Vagabound/Desktop/Test//GeneratedData/TempFolder//B_upperCase."
     ]
    },
    {
     "name": "stderr",
     "output_type": "stream",
     "text": [
      "Processing <PIL.Image.Image image mode=RGB size=500x500 at 0xA05E2E8>: 100%|█| 1/1 [00:00<00:00,  4.61 Samples/s]\n"
     ]
    },
    {
     "name": "stdout",
     "output_type": "stream",
     "text": [
      "Initialised with 2 image(s) found.\n",
      "Output directory set to C:/Users/Vagabound/Desktop/Test//GeneratedData/TempFolder//A_upperCase."
     ]
    },
    {
     "name": "stderr",
     "output_type": "stream",
     "text": [
      "Processing <PIL.Image.Image image mode=RGB size=500x500 at 0xA05E438>: 100%|█| 1/1 [00:00<00:00,  2.15 Samples/s]\n"
     ]
    },
    {
     "name": "stdout",
     "output_type": "stream",
     "text": [
      "Initialised with 2 image(s) found.\n",
      "Output directory set to C:/Users/Vagabound/Desktop/Test//GeneratedData/TempFolder//B_upperCase."
     ]
    },
    {
     "name": "stderr",
     "output_type": "stream",
     "text": [
      "Processing <PIL.Image.Image image mode=RGB size=500x500 at 0xA05E4E0>: 100%|█| 1/1 [00:00<00:00,  3.57 Samples/s]\n"
     ]
    }
   ],
   "source": [
    "obj1.distortion_1()\n"
   ]
  },
  {
   "cell_type": "code",
   "execution_count": 5,
   "metadata": {},
   "outputs": [
    {
     "name": "stdout",
     "output_type": "stream",
     "text": [
      "BMP\n"
     ]
    }
   ],
   "source": [
    "print(obj1._save_format)"
   ]
  },
  {
   "cell_type": "code",
   "execution_count": null,
   "metadata": {},
   "outputs": [],
   "source": []
  }
 ],
 "metadata": {
  "kernelspec": {
   "display_name": "Python 3",
   "language": "python",
   "name": "python3"
  },
  "language_info": {
   "codemirror_mode": {
    "name": "ipython",
    "version": 3
   },
   "file_extension": ".py",
   "mimetype": "text/x-python",
   "name": "python",
   "nbconvert_exporter": "python",
   "pygments_lexer": "ipython3",
   "version": "3.6.4"
  }
 },
 "nbformat": 4,
 "nbformat_minor": 2
}
