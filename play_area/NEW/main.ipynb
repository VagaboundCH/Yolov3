{
 "cells": [
  {
   "cell_type": "code",
   "execution_count": 2,
   "metadata": {},
   "outputs": [
    {
     "name": "stdout",
     "output_type": "stream",
     "text": [
      "importing Jupyter notebook from generateFolderStructur.ipynb\n",
      "importing Jupyter notebook from generateCharacter.ipynb\n",
      "importing Jupyter notebook from generatefolderStructur.ipynb\n",
      "importing Jupyter notebook from augmentation.ipynb\n",
      "importing Jupyter notebook from tailor.ipynb\n"
     ]
    }
   ],
   "source": [
    "import import_ipynb \n",
    "from generateFolderStructur import GenerateFolderStructur\n",
    "from generateCharacter import GenerateCharacter\n",
    "from augmentation import Augmentation\n",
    "import Augmentor as Aug\n",
    "from tailor import Tailor\n",
    "import numpy as np\n",
    "# import generatecharacter as GCh\n",
    "# import generatefolderStructur as GFSt\n",
    "# import augmentation as p"
   ]
  },
  {
   "cell_type": "code",
   "execution_count": 3,
   "metadata": {},
   "outputs": [],
   "source": [
    "## Eigene Distortion function ###\n",
    "## Es muss Augmentation durch OwnDistortion ersetzt werden ###\n",
    "class OwnDistortion(Augmentation):\n",
    "    \n",
    "    def __init__(self, initalImages, distortedImages, tmp_distortion, tmp_rename,  root_path, save_format, number_images):\n",
    "        \n",
    "        Augmentation.__init__(self, initalImages, distortedImages, tmp_distortion, tmp_rename, root_path, save_format, number_images)\n",
    "            \n",
    "    def distortion(self, input_path, output_path, save_format):   \n",
    "            p = Aug.Pipeline(input_path, output_path, save_format)\n",
    "            \n",
    "            # Write here your distortion function \n",
    "            ###########################################\n",
    "            \n",
    "            rd_grid_with = np.random.randint(2,10) # rdgw 2-10\n",
    "            rd_grid_hight = np.random.randint(2,10) # rdgh 2-10\n",
    "            rd_magnitude = np.random.randint(10,20) # 1-10\n",
    "            p.random_distortion(probability=1, grid_width=rd_grid_with, grid_height=rd_grid_hight, magnitude=rd_magnitude)\n",
    "            \n",
    "            \n",
    "            \n",
    "            ############################################\n",
    "            # End of your distortion function\n",
    "            \n",
    "            p.sample(1)  "
   ]
  },
  {
   "cell_type": "code",
   "execution_count": 4,
   "metadata": {},
   "outputs": [
    {
     "name": "stdout",
     "output_type": "stream",
     "text": [
      "Initialised with 1 image(s) found.\n",
      "Output directory set to C:/Users/Vagabound/Desktop/Test/GeneratedData/TempFolderRename/."
     ]
    },
    {
     "name": "stderr",
     "output_type": "stream",
     "text": [
      "Processing <PIL.Image.Image image mode=RGB size=500x500 at 0xA5FF630>: 100%|█| 1/1 [00:00<00:00,  1.18 Samples/s]\n"
     ]
    },
    {
     "name": "stdout",
     "output_type": "stream",
     "text": [
      "Initialised with 1 image(s) found.\n",
      "Output directory set to C:/Users/Vagabound/Desktop/Test/GeneratedData/TempFolderRename/."
     ]
    },
    {
     "name": "stderr",
     "output_type": "stream",
     "text": [
      "Processing <PIL.Image.Image image mode=RGB size=500x500 at 0xA5FF5F8>: 100%|█| 1/1 [00:00<00:00,  2.17 Samples/s]\n"
     ]
    },
    {
     "name": "stdout",
     "output_type": "stream",
     "text": [
      "Initialised with 1 image(s) found.\n",
      "Output directory set to C:/Users/Vagabound/Desktop/Test/GeneratedData/TempFolderRename/."
     ]
    },
    {
     "name": "stderr",
     "output_type": "stream",
     "text": [
      "Processing <PIL.Image.Image image mode=RGB size=500x500 at 0xA5FF8D0>: 100%|█| 1/1 [00:00<00:00,  2.16 Samples/s]\n"
     ]
    },
    {
     "name": "stdout",
     "output_type": "stream",
     "text": [
      "Initialised with 1 image(s) found.\n",
      "Output directory set to C:/Users/Vagabound/Desktop/Test/GeneratedData/TempFolderRename/."
     ]
    },
    {
     "name": "stderr",
     "output_type": "stream",
     "text": [
      "Processing <PIL.Image.Image image mode=RGB size=500x500 at 0xA5FFA20>: 100%|█| 1/1 [00:00<00:00,  1.91 Samples/s]\n"
     ]
    },
    {
     "name": "stdout",
     "output_type": "stream",
     "text": [
      "Initialised with 1 image(s) found.\n",
      "Output directory set to C:/Users/Vagabound/Desktop/Test/GeneratedData/TempFolderRename/."
     ]
    },
    {
     "name": "stderr",
     "output_type": "stream",
     "text": [
      "Processing <PIL.Image.Image image mode=RGB size=500x500 at 0xA5FF9E8>: 100%|█| 1/1 [00:00<00:00,  3.02 Samples/s]\n"
     ]
    },
    {
     "name": "stdout",
     "output_type": "stream",
     "text": [
      "Initialised with 1 image(s) found.\n",
      "Output directory set to C:/Users/Vagabound/Desktop/Test/GeneratedData/TempFolderRename/."
     ]
    },
    {
     "name": "stderr",
     "output_type": "stream",
     "text": [
      "Processing <PIL.Image.Image image mode=RGB size=500x500 at 0xA5FFB70>: 100%|█| 1/1 [00:00<00:00,  2.96 Samples/s]\n"
     ]
    }
   ],
   "source": [
    "if __name__ == \"__main__\":\n",
    "    obj = GenerateCharacter('C:/Users/Vagabound/Desktop/Test', ['A-B'], ['C:/Windows/Fonts/MTCORSVA.TTF','C:/Windows/Fonts/Arial/arial.ttf', 'C:/Windows/Fonts/DotsAllForNow.ttf'], 100, 150)\n",
    "    obj1 = Augmentation(obj._initalImages_path, obj._distortedImages_path, obj._tempFolderDistortion_path, obj._tempFolderRename_path, obj._path, 'BMP', 1)\n",
    "    obj1.generate_distorted_images()\n",
    "#     obj2 = Augmentation(obj._initalImages_path, 'Juhu', obj._tempFolderDistortion_path, obj._tempFolderRename_path, obj._path, 'BMP', 5)\n",
    "#     obj2.generate_distorted_images()    \n",
    "#     obj2 = OwnDistortion(obj._distortedImages_path, 'Juhu', obj._tempFolderDistortion_path, obj._tempFolderRename_path, obj._path, 'BMP', 5)\n",
    "#     obj2.generate_distorted_images()\n",
    "    obj2 = Tailor(obj1._distortedImages_path, obj._tailoredImages_path, 127)\n",
    "    obj2.tailor()\n",
    "#     obj4 = OwnDistortion(obj3._tailoredImages_path, 'Juhu123', obj._tempFolderDistortion_path, obj._tempFolderRename_path, obj._path, 'BMP', 5)\n",
    "#     obj4.generate_distorted_images()    "
   ]
  },
  {
   "cell_type": "code",
   "execution_count": 7,
   "metadata": {},
   "outputs": [],
   "source": []
  },
  {
   "cell_type": "code",
   "execution_count": 6,
   "metadata": {},
   "outputs": [
    {
     "name": "stdout",
     "output_type": "stream",
     "text": [
      "C:/Users/User/Desktop/Test/GeneratedData/DistortedImages/\n"
     ]
    }
   ],
   "source": [
    "print(obj1._distortedImages_path)"
   ]
  },
  {
   "cell_type": "code",
   "execution_count": 2,
   "metadata": {},
   "outputs": [],
   "source": []
  },
  {
   "cell_type": "code",
   "execution_count": 3,
   "metadata": {},
   "outputs": [
    {
     "name": "stdout",
     "output_type": "stream",
     "text": [
      "C:/Users/User/Desktop/Test/GeneratedData/DistortedImages/\n"
     ]
    }
   ],
   "source": []
  },
  {
   "cell_type": "code",
   "execution_count": 2,
   "metadata": {},
   "outputs": [],
   "source": [
    "%matplotlib qt\n",
    "%matplotlib qt"
   ]
  },
  {
   "cell_type": "code",
   "execution_count": 3,
   "metadata": {},
   "outputs": [],
   "source": []
  },
  {
   "cell_type": "code",
   "execution_count": 4,
   "metadata": {},
   "outputs": [
    {
     "data": {
      "text/plain": [
       "<matplotlib.image.AxesImage at 0x91c7f28>"
      ]
     },
     "execution_count": 4,
     "metadata": {},
     "output_type": "execute_result"
    }
   ],
   "source": []
  },
  {
   "cell_type": "code",
   "execution_count": null,
   "metadata": {},
   "outputs": [],
   "source": []
  },
  {
   "cell_type": "code",
   "execution_count": 1,
   "metadata": {},
   "outputs": [],
   "source": []
  },
  {
   "cell_type": "code",
   "execution_count": 2,
   "metadata": {},
   "outputs": [],
   "source": [
    "for i in range(5)\n",
    "    counter =+1"
   ]
  },
  {
   "cell_type": "code",
   "execution_count": 3,
   "metadata": {},
   "outputs": [],
   "source": []
  },
  {
   "cell_type": "code",
   "execution_count": 45,
   "metadata": {},
   "outputs": [
    {
     "name": "stdout",
     "output_type": "stream",
     "text": [
      "range(0, 15)\n"
     ]
    }
   ],
   "source": [
    "print(range(len(files_2)))"
   ]
  },
  {
   "cell_type": "code",
   "execution_count": 1,
   "metadata": {},
   "outputs": [],
   "source": [
    "import os\n",
    "dict_images = {'path':{'folder_name':{0:'image_name'}}}\n",
    "path_1, dirs_1, files_1 = next(os.walk('C:/Users/User/Desktop/Test/GeneratedData/TailoredImages/'))\n",
    "\n",
    "dict_images = {path_1:{}}\n",
    "for folder in dirs_1:\n",
    "    dict_images[path_1][folder] = {}\n",
    "#     print(folder)\n",
    "    path_2, dirs_2, files_2 = next(os.walk(path_1 + folder))\n",
    "    for i, files in zip(range(len(files_2)), files_2):\n",
    "        dict_images[path_1][folder][i] = {files}\n",
    "#         print(files)       "
   ]
  },
  {
   "cell_type": "code",
   "execution_count": 2,
   "metadata": {},
   "outputs": [
    {
     "name": "stdout",
     "output_type": "stream",
     "text": [
      "{'C:/Users/User/Desktop/Test/GeneratedData/TailoredImages/': {'A_upperCase': {0: {'A_upperCase_arial_020191116_191829_31.BMP'}, 1: {'A_upperCase_arial_120191116_191830_32.BMP'}, 2: {'A_upperCase_arial_220191116_191830_33.BMP'}, 3: {'A_upperCase_arial_320191116_191830_34.BMP'}, 4: {'A_upperCase_arial_420191116_191830_35.BMP'}, 5: {'A_upperCase_DotsAllForNow_020191116_191830_36.BMP'}, 6: {'A_upperCase_DotsAllForNow_120191116_191830_37.BMP'}, 7: {'A_upperCase_DotsAllForNow_220191116_191830_38.BMP'}, 8: {'A_upperCase_DotsAllForNow_320191116_191830_39.BMP'}, 9: {'A_upperCase_DotsAllForNow_420191116_191830_40.BMP'}, 10: {'A_upperCase_MTCORSVA_020191116_191831_41.BMP'}, 11: {'A_upperCase_MTCORSVA_120191116_191831_42.BMP'}, 12: {'A_upperCase_MTCORSVA_220191116_191831_43.BMP'}, 13: {'A_upperCase_MTCORSVA_320191116_191831_44.BMP'}, 14: {'A_upperCase_MTCORSVA_420191116_191831_45.BMP'}}, 'B_upperCase': {0: {'B_upperCase_arial_020191116_191831_46.BMP'}, 1: {'B_upperCase_arial_120191116_191831_47.BMP'}, 2: {'B_upperCase_arial_220191116_191832_48.BMP'}, 3: {'B_upperCase_arial_320191116_191832_49.BMP'}, 4: {'B_upperCase_arial_420191116_191832_50.BMP'}, 5: {'B_upperCase_DotsAllForNow_020191116_191832_51.BMP'}, 6: {'B_upperCase_DotsAllForNow_120191116_191832_52.BMP'}, 7: {'B_upperCase_DotsAllForNow_220191116_191832_53.BMP'}, 8: {'B_upperCase_DotsAllForNow_320191116_191832_54.BMP'}, 9: {'B_upperCase_DotsAllForNow_420191116_191833_55.BMP'}, 10: {'B_upperCase_MTCORSVA_020191116_191833_56.BMP'}, 11: {'B_upperCase_MTCORSVA_120191116_191833_57.BMP'}, 12: {'B_upperCase_MTCORSVA_220191116_191833_58.BMP'}, 13: {'B_upperCase_MTCORSVA_320191116_191833_59.BMP'}, 14: {'B_upperCase_MTCORSVA_420191116_191833_60.BMP'}}}}\n",
      "\n",
      "{'C:/Users/User/Desktop/Test/GeneratedData/TailoredImages/': {'A_upperCase': {0: {'A_upperCase_arial_020191116_191829_31.BMP'}, 1: {'A_upperCase_arial_120191116_191830_32.BMP'}, 2: {'A_upperCase_arial_220191116_191830_33.BMP'}, 3: {'A_upperCase_arial_320191116_191830_34.BMP'}, 4: {'A_upperCase_arial_420191116_191830_35.BMP'}, 6: {'A_upperCase_DotsAllForNow_120191116_191830_37.BMP'}, 7: {'A_upperCase_DotsAllForNow_220191116_191830_38.BMP'}, 8: {'A_upperCase_DotsAllForNow_320191116_191830_39.BMP'}, 9: {'A_upperCase_DotsAllForNow_420191116_191830_40.BMP'}, 10: {'A_upperCase_MTCORSVA_020191116_191831_41.BMP'}, 11: {'A_upperCase_MTCORSVA_120191116_191831_42.BMP'}, 12: {'A_upperCase_MTCORSVA_220191116_191831_43.BMP'}, 13: {'A_upperCase_MTCORSVA_320191116_191831_44.BMP'}, 14: {'A_upperCase_MTCORSVA_420191116_191831_45.BMP'}}, 'B_upperCase': {0: {'B_upperCase_arial_020191116_191831_46.BMP'}, 1: {'B_upperCase_arial_120191116_191831_47.BMP'}, 2: {'B_upperCase_arial_220191116_191832_48.BMP'}, 3: {'B_upperCase_arial_320191116_191832_49.BMP'}, 4: {'B_upperCase_arial_420191116_191832_50.BMP'}, 5: {'B_upperCase_DotsAllForNow_020191116_191832_51.BMP'}, 6: {'B_upperCase_DotsAllForNow_120191116_191832_52.BMP'}, 7: {'B_upperCase_DotsAllForNow_220191116_191832_53.BMP'}, 8: {'B_upperCase_DotsAllForNow_320191116_191832_54.BMP'}, 9: {'B_upperCase_DotsAllForNow_420191116_191833_55.BMP'}, 10: {'B_upperCase_MTCORSVA_020191116_191833_56.BMP'}, 11: {'B_upperCase_MTCORSVA_120191116_191833_57.BMP'}, 12: {'B_upperCase_MTCORSVA_220191116_191833_58.BMP'}, 13: {'B_upperCase_MTCORSVA_320191116_191833_59.BMP'}, 14: {'B_upperCase_MTCORSVA_420191116_191833_60.BMP'}}}}\n",
      "\n",
      "{0: {'A_upperCase_arial_020191116_191829_31.BMP'}, 1: {'A_upperCase_arial_120191116_191830_32.BMP'}, 2: {'A_upperCase_arial_220191116_191830_33.BMP'}, 3: {'A_upperCase_arial_320191116_191830_34.BMP'}, 4: {'A_upperCase_arial_420191116_191830_35.BMP'}, 6: {'A_upperCase_DotsAllForNow_120191116_191830_37.BMP'}, 7: {'A_upperCase_DotsAllForNow_220191116_191830_38.BMP'}, 8: {'A_upperCase_DotsAllForNow_320191116_191830_39.BMP'}, 9: {'A_upperCase_DotsAllForNow_420191116_191830_40.BMP'}, 10: {'A_upperCase_MTCORSVA_020191116_191831_41.BMP'}, 11: {'A_upperCase_MTCORSVA_120191116_191831_42.BMP'}, 12: {'A_upperCase_MTCORSVA_220191116_191831_43.BMP'}, 13: {'A_upperCase_MTCORSVA_320191116_191831_44.BMP'}, 14: {'A_upperCase_MTCORSVA_420191116_191831_45.BMP'}}\n"
     ]
    }
   ],
   "source": [
    "print(dict_images)\n",
    "# print(dict_images[path_1])\n",
    "# print(dict_images[path_1][folder])\n",
    "del dict_images[path_1]['A_upperCase'][5]\n",
    "print()\n",
    "print(dict_images)\n",
    "print()\n",
    "print(dict_images[path_1]['A_upperCase'])"
   ]
  },
  {
   "cell_type": "code",
   "execution_count": 36,
   "metadata": {},
   "outputs": [
    {
     "name": "stdout",
     "output_type": "stream",
     "text": [
      "{0: {'A_upperCase_arial_020191116_191829_31.BMP'}, 1: {'A_upperCase_arial_120191116_191830_32.BMP'}, 2: {'A_upperCase_arial_220191116_191830_33.BMP'}, 3: {'A_upperCase_arial_320191116_191830_34.BMP'}, 4: {'A_upperCase_arial_420191116_191830_35.BMP'}, 6: {'A_upperCase_DotsAllForNow_120191116_191830_37.BMP'}, 7: {'A_upperCase_DotsAllForNow_220191116_191830_38.BMP'}, 8: {'A_upperCase_DotsAllForNow_320191116_191830_39.BMP'}, 9: {'A_upperCase_DotsAllForNow_420191116_191830_40.BMP'}, 10: {'A_upperCase_MTCORSVA_020191116_191831_41.BMP'}, 11: {'A_upperCase_MTCORSVA_120191116_191831_42.BMP'}, 12: {'A_upperCase_MTCORSVA_220191116_191831_43.BMP'}, 13: {'A_upperCase_MTCORSVA_320191116_191831_44.BMP'}, 14: {'A_upperCase_MTCORSVA_420191116_191831_45.BMP'}}\n",
      "['C:/Users/User/Desktop/Test/GeneratedData/TailoredImages/']\n",
      "['A_upperCase', 'B_upperCase']\n",
      "[0, 1, 2, 3, 4, 6, 7, 8, 9, 10, 11, 12, 13, 14]\n",
      "14\n",
      "4\n",
      "{'A_upperCase_arial_420191116_191830_35.BMP'}\n"
     ]
    }
   ],
   "source": []
  },
  {
   "cell_type": "code",
   "execution_count": null,
   "metadata": {},
   "outputs": [],
   "source": []
  },
  {
   "cell_type": "code",
   "execution_count": 3,
   "metadata": {},
   "outputs": [
    {
     "name": "stdout",
     "output_type": "stream",
     "text": [
      "b.bmp\n",
      "{'path': {0: {0: 'name', 1: '1a.bmp'}, 1: {0: 'b.bmp', 1: '1b.bmp'}}}\n"
     ]
    }
   ],
   "source": [
    "dict_folder = {'path':{0:{0:'name', 1:'1a.bmp'},\n",
    "                       1:{0:'b.bmp',1:'1b.bmp'}\n",
    "              }}\n",
    "print(dict_folder['path'][1][0])\n",
    "print(dict_folder)"
   ]
  },
  {
   "cell_type": "code",
   "execution_count": 6,
   "metadata": {},
   "outputs": [
    {
     "name": "stdout",
     "output_type": "stream",
     "text": [
      "{'path': {0: {0: 'name', 1: '1a.bmp'}, 1: {0: 'b.bmp', 1: '1b.bmp'}, 3: {0: 'juhu'}}}\n"
     ]
    }
   ],
   "source": [
    "dict_folder['path'][3] = {0:'juhu'}\n",
    "print(dict_folder)"
   ]
  },
  {
   "cell_type": "code",
   "execution_count": 14,
   "metadata": {},
   "outputs": [
    {
     "name": "stdout",
     "output_type": "stream",
     "text": [
      "{'A': {'name': 'hugo'}, 'B': {'name': 'seppli'}}\n"
     ]
    }
   ],
   "source": [
    "print(dict_folder['path'])"
   ]
  },
  {
   "cell_type": "code",
   "execution_count": 8,
   "metadata": {},
   "outputs": [],
   "source": [
    "import os\n",
    "path_name = 'C:/Users/User/Desktop/Test/Neger'\n",
    "if os.path.isdir(path_name)==False:\n",
    "    os.mkdir(path_name)\n",
    "    "
   ]
  },
  {
   "cell_type": "code",
   "execution_count": 13,
   "metadata": {},
   "outputs": [
    {
     "name": "stdout",
     "output_type": "stream",
     "text": [
      "C:/Users/User/Desktop/Test/GeneratedData/\n",
      "C:/Users/User/Desktop/Test/GeneratedData/juhu\n"
     ]
    }
   ],
   "source": [
    "print(obj._path)\n",
    "print(obj._path+'juhu')"
   ]
  },
  {
   "cell_type": "code",
   "execution_count": 18,
   "metadata": {},
   "outputs": [
    {
     "name": "stdout",
     "output_type": "stream",
     "text": [
      "1\n"
     ]
    }
   ],
   "source": [
    "path = 'C:/Users/User/Desktop/Test/GeneratedData/InitalImages/'\n",
    "print(path.find(':'))"
   ]
  },
  {
   "cell_type": "code",
   "execution_count": 20,
   "metadata": {},
   "outputs": [
    {
     "data": {
      "text/plain": [
       "'C:/Users/User/Desktop/Test/GeneratedData/Neger'"
      ]
     },
     "execution_count": 20,
     "metadata": {},
     "output_type": "execute_result"
    }
   ],
   "source": [
    "import shutil\n",
    "shutil.copytree(path,'C:/Users/User/Desktop/Test/GeneratedData/Neger')"
   ]
  },
  {
   "cell_type": "code",
   "execution_count": null,
   "metadata": {},
   "outputs": [],
   "source": []
  }
 ],
 "metadata": {
  "kernelspec": {
   "display_name": "Python 3",
   "language": "python",
   "name": "python3"
  },
  "language_info": {
   "codemirror_mode": {
    "name": "ipython",
    "version": 3
   },
   "file_extension": ".py",
   "mimetype": "text/x-python",
   "name": "python",
   "nbconvert_exporter": "python",
   "pygments_lexer": "ipython3",
   "version": "3.6.4"
  }
 },
 "nbformat": 4,
 "nbformat_minor": 2
}
