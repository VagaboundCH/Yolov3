{
 "cells": [
  {
   "cell_type": "code",
   "execution_count": 1,
   "metadata": {},
   "outputs": [
    {
     "name": "stdout",
     "output_type": "stream",
     "text": [
      "importing Jupyter notebook from generateFolderStructur.ipynb\n",
      "importing Jupyter notebook from generateCharacter.ipynb\n",
      "importing Jupyter notebook from generatefolderStructur.ipynb\n",
      "importing Jupyter notebook from augmentation.ipynb\n",
      "importing Jupyter notebook from tailor.ipynb\n"
     ]
    }
   ],
   "source": [
    "import import_ipynb \n",
    "from generateFolderStructur import GenerateFolderStructur\n",
    "from generateCharacter import GenerateCharacter\n",
    "from augmentation import Augmentation\n",
    "import Augmentor as Aug\n",
    "from tailor import Tailor\n",
    "# import generatecharacter as GCh\n",
    "# import generatefolderStructur as GFSt\n",
    "# import augmentation as p"
   ]
  },
  {
   "cell_type": "code",
   "execution_count": 2,
   "metadata": {},
   "outputs": [],
   "source": [
    "## Eigene Distortion function ###\n",
    "## Es muss Augmentation durch OwnDistortion ersetzt werden ###\n",
    "class OwnDistortion(Augmentation):\n",
    "    \n",
    "    def __init__(self, initalImages, tmp_distortion, tmp_rename, distortedImages, save_format, number_images):\n",
    "        \n",
    "        Augmentation.__init__(self, initalImages, tmp_distortion, tmp_rename, distortedImages, save_format, number_images)\n",
    "            \n",
    "    def distortion(self, input_path, output_path, save_format):   \n",
    "            p = Aug.Pipeline(input_path, output_path, save_format)\n",
    "            \n",
    "            # Write here your distortion function \n",
    "            ###########################################\n",
    "            \n",
    "            \n",
    "            \n",
    "            \n",
    "            \n",
    "            ############################################\n",
    "            # End of your distortion function\n",
    "            \n",
    "            p.sample(1)  "
   ]
  },
  {
   "cell_type": "code",
   "execution_count": 3,
   "metadata": {},
   "outputs": [
    {
     "name": "stdout",
     "output_type": "stream",
     "text": [
      "Initialised with 1 image(s) found.\n",
      "Output directory set to C:/Users/Vagabound/Desktop/Test//GeneratedData/TempFolderRename/."
     ]
    },
    {
     "name": "stderr",
     "output_type": "stream",
     "text": [
      "Processing <PIL.Image.Image image mode=RGB size=500x500 at 0xA1E1278>: 100%|█| 1/1 [00:00<00:00,  1.25 Samples/s]\n"
     ]
    },
    {
     "name": "stdout",
     "output_type": "stream",
     "text": [
      "Initialised with 1 image(s) found.\n",
      "Output directory set to C:/Users/Vagabound/Desktop/Test//GeneratedData/TempFolderRename/."
     ]
    },
    {
     "name": "stderr",
     "output_type": "stream",
     "text": [
      "Processing <PIL.Image.Image image mode=RGB size=500x500 at 0xA1E1358>: 100%|█| 1/1 [00:00<00:00,  2.03 Samples/s]\n"
     ]
    },
    {
     "name": "stdout",
     "output_type": "stream",
     "text": [
      "Initialised with 1 image(s) found.\n",
      "Output directory set to C:/Users/Vagabound/Desktop/Test//GeneratedData/TempFolderRename/."
     ]
    },
    {
     "name": "stderr",
     "output_type": "stream",
     "text": [
      "Processing <PIL.Image.Image image mode=RGB size=500x500 at 0xA1E14E0>: 100%|█| 1/1 [00:00<00:00,  3.24 Samples/s]\n"
     ]
    },
    {
     "name": "stdout",
     "output_type": "stream",
     "text": [
      "Initialised with 1 image(s) found.\n",
      "Output directory set to C:/Users/Vagabound/Desktop/Test//GeneratedData/TempFolderRename/."
     ]
    },
    {
     "name": "stderr",
     "output_type": "stream",
     "text": [
      "Processing <PIL.Image.Image image mode=RGB size=500x500 at 0xA1E15C0>: 100%|█| 1/1 [00:00<00:00,  2.11 Samples/s]\n"
     ]
    },
    {
     "name": "stdout",
     "output_type": "stream",
     "text": [
      "Initialised with 1 image(s) found.\n",
      "Output directory set to C:/Users/Vagabound/Desktop/Test//GeneratedData/TempFolderRename/."
     ]
    },
    {
     "name": "stderr",
     "output_type": "stream",
     "text": [
      "Processing <PIL.Image.Image image mode=RGB size=500x500 at 0xA1E1668>: 100%|█| 1/1 [00:00<00:00,  2.39 Samples/s]\n"
     ]
    },
    {
     "name": "stdout",
     "output_type": "stream",
     "text": [
      "Initialised with 1 image(s) found.\n",
      "Output directory set to C:/Users/Vagabound/Desktop/Test//GeneratedData/TempFolderRename/."
     ]
    },
    {
     "name": "stderr",
     "output_type": "stream",
     "text": [
      "Processing <PIL.Image.Image image mode=RGB size=500x500 at 0xA1E1780>: 100%|█| 1/1 [00:00<00:00,  2.04 Samples/s]\n"
     ]
    },
    {
     "name": "stdout",
     "output_type": "stream",
     "text": [
      "Initialised with 1 image(s) found.\n",
      "Output directory set to C:/Users/Vagabound/Desktop/Test//GeneratedData/TempFolderRename/."
     ]
    },
    {
     "name": "stderr",
     "output_type": "stream",
     "text": [
      "Processing <PIL.Image.Image image mode=RGB size=500x500 at 0xA1E1898>: 100%|█| 1/1 [00:00<00:00,  4.10 Samples/s]\n"
     ]
    },
    {
     "name": "stdout",
     "output_type": "stream",
     "text": [
      "Initialised with 1 image(s) found.\n",
      "Output directory set to C:/Users/Vagabound/Desktop/Test//GeneratedData/TempFolderRename/."
     ]
    },
    {
     "name": "stderr",
     "output_type": "stream",
     "text": [
      "Processing <PIL.Image.Image image mode=RGB size=500x500 at 0xA1E1908>: 100%|█| 1/1 [00:00<00:00,  2.28 Samples/s]\n"
     ]
    },
    {
     "name": "stdout",
     "output_type": "stream",
     "text": [
      "Initialised with 1 image(s) found.\n",
      "Output directory set to C:/Users/Vagabound/Desktop/Test//GeneratedData/TempFolderRename/."
     ]
    },
    {
     "name": "stderr",
     "output_type": "stream",
     "text": [
      "Processing <PIL.Image.Image image mode=RGB size=500x500 at 0xA1E1940>: 100%|█| 1/1 [00:00<00:00,  2.58 Samples/s]\n"
     ]
    },
    {
     "name": "stdout",
     "output_type": "stream",
     "text": [
      "Initialised with 1 image(s) found.\n",
      "Output directory set to C:/Users/Vagabound/Desktop/Test//GeneratedData/TempFolderRename/."
     ]
    },
    {
     "name": "stderr",
     "output_type": "stream",
     "text": [
      "Processing <PIL.Image.Image image mode=RGB size=500x500 at 0xA1E1A58>: 100%|█| 1/1 [00:00<00:00,  2.21 Samples/s]\n"
     ]
    },
    {
     "name": "stdout",
     "output_type": "stream",
     "text": [
      "Initialised with 1 image(s) found.\n",
      "Output directory set to C:/Users/Vagabound/Desktop/Test//GeneratedData/TempFolderRename/."
     ]
    },
    {
     "name": "stderr",
     "output_type": "stream",
     "text": [
      "Processing <PIL.Image.Image image mode=RGB size=500x500 at 0xA1E1CC0>: 100%|█| 1/1 [00:00<00:00,  2.20 Samples/s]\n"
     ]
    },
    {
     "name": "stdout",
     "output_type": "stream",
     "text": [
      "Initialised with 1 image(s) found.\n",
      "Output directory set to C:/Users/Vagabound/Desktop/Test//GeneratedData/TempFolderRename/."
     ]
    },
    {
     "name": "stderr",
     "output_type": "stream",
     "text": [
      "Processing <PIL.Image.Image image mode=RGB size=500x500 at 0xA1E1E10>: 100%|█| 1/1 [00:00<00:00,  2.03 Samples/s]\n"
     ]
    },
    {
     "name": "stdout",
     "output_type": "stream",
     "text": [
      "Initialised with 1 image(s) found.\n",
      "Output directory set to C:/Users/Vagabound/Desktop/Test//GeneratedData/TempFolderRename/."
     ]
    },
    {
     "name": "stderr",
     "output_type": "stream",
     "text": [
      "Processing <PIL.Image.Image image mode=RGB size=500x500 at 0xA1E1FD0>: 100%|█| 1/1 [00:00<00:00,  3.85 Samples/s]\n"
     ]
    },
    {
     "name": "stdout",
     "output_type": "stream",
     "text": [
      "Initialised with 1 image(s) found.\n",
      "Output directory set to C:/Users/Vagabound/Desktop/Test//GeneratedData/TempFolderRename/."
     ]
    },
    {
     "name": "stderr",
     "output_type": "stream",
     "text": [
      "Processing <PIL.Image.Image image mode=RGB size=500x500 at 0xA3610B8>: 100%|█| 1/1 [00:00<00:00,  2.94 Samples/s]\n"
     ]
    },
    {
     "name": "stdout",
     "output_type": "stream",
     "text": [
      "Initialised with 1 image(s) found.\n",
      "Output directory set to C:/Users/Vagabound/Desktop/Test//GeneratedData/TempFolderRename/."
     ]
    },
    {
     "name": "stderr",
     "output_type": "stream",
     "text": [
      "Processing <PIL.Image.Image image mode=RGB size=500x500 at 0xA363278>: 100%|█| 1/1 [00:00<00:00,  2.30 Samples/s]\n"
     ]
    },
    {
     "name": "stdout",
     "output_type": "stream",
     "text": [
      "Initialised with 1 image(s) found.\n",
      "Output directory set to C:/Users/Vagabound/Desktop/Test//GeneratedData/TempFolderRename/."
     ]
    },
    {
     "name": "stderr",
     "output_type": "stream",
     "text": [
      "Processing <PIL.Image.Image image mode=RGB size=500x500 at 0xA3612E8>: 100%|█| 1/1 [00:00<00:00,  2.33 Samples/s]\n"
     ]
    },
    {
     "name": "stdout",
     "output_type": "stream",
     "text": [
      "Initialised with 1 image(s) found.\n",
      "Output directory set to C:/Users/Vagabound/Desktop/Test//GeneratedData/TempFolderRename/."
     ]
    },
    {
     "name": "stderr",
     "output_type": "stream",
     "text": [
      "Processing <PIL.Image.Image image mode=RGB size=500x500 at 0xA366438>: 100%|█| 1/1 [00:00<00:00,  2.88 Samples/s]\n"
     ]
    },
    {
     "name": "stdout",
     "output_type": "stream",
     "text": [
      "Initialised with 1 image(s) found.\n",
      "Output directory set to C:/Users/Vagabound/Desktop/Test//GeneratedData/TempFolderRename/."
     ]
    },
    {
     "name": "stderr",
     "output_type": "stream",
     "text": [
      "Processing <PIL.Image.Image image mode=RGB size=500x500 at 0xA366240>: 100%|█| 1/1 [00:00<00:00,  2.86 Samples/s]\n"
     ]
    },
    {
     "name": "stdout",
     "output_type": "stream",
     "text": [
      "Initialised with 1 image(s) found.\n",
      "Output directory set to C:/Users/Vagabound/Desktop/Test//GeneratedData/TempFolderRename/."
     ]
    },
    {
     "name": "stderr",
     "output_type": "stream",
     "text": [
      "Processing <PIL.Image.Image image mode=RGB size=500x500 at 0xA3666A0>: 100%|█| 1/1 [00:00<00:00,  1.94 Samples/s]\n"
     ]
    },
    {
     "name": "stdout",
     "output_type": "stream",
     "text": [
      "Initialised with 1 image(s) found.\n",
      "Output directory set to C:/Users/Vagabound/Desktop/Test//GeneratedData/TempFolderRename/."
     ]
    },
    {
     "name": "stderr",
     "output_type": "stream",
     "text": [
      "Processing <PIL.Image.Image image mode=RGB size=500x500 at 0xA366748>: 100%|█| 1/1 [00:00<00:00,  3.31 Samples/s]\n"
     ]
    },
    {
     "name": "stdout",
     "output_type": "stream",
     "text": [
      "Initialised with 1 image(s) found.\n",
      "Output directory set to C:/Users/Vagabound/Desktop/Test//GeneratedData/TempFolderRename/."
     ]
    },
    {
     "name": "stderr",
     "output_type": "stream",
     "text": [
      "Processing <PIL.Image.Image image mode=RGB size=500x500 at 0xA3665F8>: 100%|█| 1/1 [00:00<00:00,  2.90 Samples/s]\n"
     ]
    },
    {
     "name": "stdout",
     "output_type": "stream",
     "text": [
      "Initialised with 1 image(s) found.\n",
      "Output directory set to C:/Users/Vagabound/Desktop/Test//GeneratedData/TempFolderRename/."
     ]
    },
    {
     "name": "stderr",
     "output_type": "stream",
     "text": [
      "Processing <PIL.Image.Image image mode=RGB size=500x500 at 0xA3669E8>: 100%|█| 1/1 [00:00<00:00,  3.70 Samples/s]\n"
     ]
    },
    {
     "name": "stdout",
     "output_type": "stream",
     "text": [
      "Initialised with 1 image(s) found.\n",
      "Output directory set to C:/Users/Vagabound/Desktop/Test//GeneratedData/TempFolderRename/."
     ]
    },
    {
     "name": "stderr",
     "output_type": "stream",
     "text": [
      "Processing <PIL.Image.Image image mode=RGB size=500x500 at 0xA366B00>: 100%|█| 1/1 [00:00<00:00,  2.62 Samples/s]\n"
     ]
    },
    {
     "name": "stdout",
     "output_type": "stream",
     "text": [
      "Initialised with 1 image(s) found.\n",
      "Output directory set to C:/Users/Vagabound/Desktop/Test//GeneratedData/TempFolderRename/."
     ]
    },
    {
     "name": "stderr",
     "output_type": "stream",
     "text": [
      "Processing <PIL.Image.Image image mode=RGB size=500x500 at 0xA366A20>: 100%|█| 1/1 [00:00<00:00,  2.01 Samples/s]\n"
     ]
    },
    {
     "name": "stdout",
     "output_type": "stream",
     "text": [
      "Initialised with 1 image(s) found.\n",
      "Output directory set to C:/Users/Vagabound/Desktop/Test//GeneratedData/TempFolderRename/."
     ]
    },
    {
     "name": "stderr",
     "output_type": "stream",
     "text": [
      "Processing <PIL.Image.Image image mode=RGB size=500x500 at 0xA366C50>: 100%|█| 1/1 [00:00<00:00,  3.64 Samples/s]\n"
     ]
    },
    {
     "name": "stdout",
     "output_type": "stream",
     "text": [
      "Initialised with 1 image(s) found.\n",
      "Output directory set to C:/Users/Vagabound/Desktop/Test//GeneratedData/TempFolderRename/."
     ]
    },
    {
     "name": "stderr",
     "output_type": "stream",
     "text": [
      "Processing <PIL.Image.Image image mode=RGB size=500x500 at 0xA366DA0>: 100%|█| 1/1 [00:00<00:00,  2.79 Samples/s]\n"
     ]
    },
    {
     "name": "stdout",
     "output_type": "stream",
     "text": [
      "Initialised with 1 image(s) found.\n",
      "Output directory set to C:/Users/Vagabound/Desktop/Test//GeneratedData/TempFolderRename/."
     ]
    },
    {
     "name": "stderr",
     "output_type": "stream",
     "text": [
      "Processing <PIL.Image.Image image mode=RGB size=500x500 at 0xA366F98>: 100%|█| 1/1 [00:00<00:00,  4.57 Samples/s]\n"
     ]
    },
    {
     "name": "stdout",
     "output_type": "stream",
     "text": [
      "Initialised with 1 image(s) found.\n",
      "Output directory set to C:/Users/Vagabound/Desktop/Test//GeneratedData/TempFolderRename/."
     ]
    },
    {
     "name": "stderr",
     "output_type": "stream",
     "text": [
      "Processing <PIL.Image.Image image mode=RGB size=500x500 at 0xA36E0F0>: 100%|█| 1/1 [00:00<00:00,  1.99 Samples/s]\n"
     ]
    },
    {
     "name": "stdout",
     "output_type": "stream",
     "text": [
      "Initialised with 1 image(s) found.\n",
      "Output directory set to C:/Users/Vagabound/Desktop/Test//GeneratedData/TempFolderRename/."
     ]
    },
    {
     "name": "stderr",
     "output_type": "stream",
     "text": [
      "Processing <PIL.Image.Image image mode=RGB size=500x500 at 0xA36F160>: 100%|█| 1/1 [00:00<00:00,  3.52 Samples/s]\n"
     ]
    },
    {
     "name": "stdout",
     "output_type": "stream",
     "text": [
      "Initialised with 1 image(s) found.\n",
      "Output directory set to C:/Users/Vagabound/Desktop/Test//GeneratedData/TempFolderRename/."
     ]
    },
    {
     "name": "stderr",
     "output_type": "stream",
     "text": [
      "Processing <PIL.Image.Image image mode=RGB size=500x500 at 0xA36F2B0>: 100%|█| 1/1 [00:00<00:00,  2.56 Samples/s]\n"
     ]
    }
   ],
   "source": [
    "if __name__ == \"__main__\":\n",
    "    obj = GenerateCharacter('C:/Users/Vagabound/Desktop/Test/', ['A-B'], ['C:/Windows/Fonts/MTCORSVA.TTF','C:/Windows/Fonts/Arial/arial.ttf', 'C:/Windows/Fonts/DotsAllForNow.ttf'], font_size_px=100, threshold=150)\n",
    "    obj1 = Augmentation(obj._initalImages_path, obj._tempFolderDistortion_path, obj._tempFolderRename_path, obj._distortedImages_path, 'BMP', 5)\n",
    "    obj1.generate_distorted_images()\n",
    "    obj2 = Tailor(obj._distortedImages_path, obj._tailoredImages_path, 127)\n",
    "    obj2.tailor()"
   ]
  },
  {
   "cell_type": "code",
   "execution_count": 4,
   "metadata": {},
   "outputs": [],
   "source": [
    "obj2 = Tailor(obj._distortedImages_path, obj._tailoredImages_path, 127)\n",
    "obj2.tailor()"
   ]
  },
  {
   "cell_type": "code",
   "execution_count": null,
   "metadata": {},
   "outputs": [],
   "source": []
  },
  {
   "cell_type": "code",
   "execution_count": 10,
   "metadata": {},
   "outputs": [
    {
     "name": "stdout",
     "output_type": "stream",
     "text": [
      "5\n",
      "hallo\n",
      "9\n"
     ]
    }
   ],
   "source": []
  },
  {
   "cell_type": "code",
   "execution_count": 34,
   "metadata": {},
   "outputs": [],
   "source": []
  },
  {
   "cell_type": "code",
   "execution_count": 1,
   "metadata": {},
   "outputs": [],
   "source": []
  },
  {
   "cell_type": "code",
   "execution_count": 2,
   "metadata": {},
   "outputs": [],
   "source": [
    "%matplotlib qt\n",
    "%matplotlib qt"
   ]
  },
  {
   "cell_type": "code",
   "execution_count": 3,
   "metadata": {},
   "outputs": [],
   "source": []
  },
  {
   "cell_type": "code",
   "execution_count": 4,
   "metadata": {},
   "outputs": [
    {
     "data": {
      "text/plain": [
       "<matplotlib.image.AxesImage at 0x91c7f28>"
      ]
     },
     "execution_count": 4,
     "metadata": {},
     "output_type": "execute_result"
    }
   ],
   "source": []
  },
  {
   "cell_type": "code",
   "execution_count": null,
   "metadata": {},
   "outputs": [],
   "source": []
  },
  {
   "cell_type": "code",
   "execution_count": 1,
   "metadata": {},
   "outputs": [],
   "source": [
    "class Hugo():\n",
    "    def a(self):\n",
    "        print('a')\n",
    "    def b(self):\n",
    "        print('b')\n",
    "    def c(self):\n",
    "        print('c')\n",
    "        self.a()"
   ]
  },
  {
   "cell_type": "code",
   "execution_count": 2,
   "metadata": {},
   "outputs": [],
   "source": [
    "class Seppli(Hugo):\n",
    "    def a(self):\n",
    "        print('seppli')"
   ]
  },
  {
   "cell_type": "code",
   "execution_count": 3,
   "metadata": {},
   "outputs": [],
   "source": [
    "seppli = Seppli()"
   ]
  },
  {
   "cell_type": "code",
   "execution_count": 4,
   "metadata": {},
   "outputs": [
    {
     "name": "stdout",
     "output_type": "stream",
     "text": [
      "c\n",
      "seppli\n"
     ]
    }
   ],
   "source": [
    "seppli.c()"
   ]
  },
  {
   "cell_type": "code",
   "execution_count": 7,
   "metadata": {},
   "outputs": [
    {
     "ename": "NameError",
     "evalue": "name 'Augmentation' is not defined",
     "output_type": "error",
     "traceback": [
      "\u001b[1;31m---------------------------------------------------------------------------\u001b[0m",
      "\u001b[1;31mNameError\u001b[0m                                 Traceback (most recent call last)",
      "\u001b[1;32m<ipython-input-7-51ecb485546c>\u001b[0m in \u001b[0;36m<module>\u001b[1;34m()\u001b[0m\n\u001b[1;32m----> 1\u001b[1;33m \u001b[1;32mclass\u001b[0m \u001b[0mOwn_Distortion\u001b[0m\u001b[1;33m(\u001b[0m\u001b[0mAugmentation\u001b[0m\u001b[1;33m)\u001b[0m\u001b[1;33m:\u001b[0m\u001b[1;33m\u001b[0m\u001b[0m\n\u001b[0m\u001b[0;32m      2\u001b[0m \u001b[1;33m\u001b[0m\u001b[0m\n\u001b[0;32m      3\u001b[0m     \u001b[1;32mdef\u001b[0m \u001b[0m__init__\u001b[0m\u001b[1;33m(\u001b[0m\u001b[0mself\u001b[0m\u001b[1;33m,\u001b[0m \u001b[0minitalImages\u001b[0m\u001b[1;33m,\u001b[0m \u001b[0mtmp_distortion\u001b[0m\u001b[1;33m,\u001b[0m \u001b[0mtmp_rename\u001b[0m\u001b[1;33m,\u001b[0m \u001b[0mdistortedImages\u001b[0m\u001b[1;33m,\u001b[0m \u001b[0msave_format\u001b[0m\u001b[1;33m,\u001b[0m \u001b[0mnumber_images\u001b[0m\u001b[1;33m)\u001b[0m\u001b[1;33m:\u001b[0m\u001b[1;33m\u001b[0m\u001b[0m\n\u001b[0;32m      4\u001b[0m \u001b[1;33m\u001b[0m\u001b[0m\n\u001b[0;32m      5\u001b[0m         \u001b[0mSuper\u001b[0m\u001b[1;33m.\u001b[0m\u001b[0m__init__\u001b[0m\u001b[1;33m(\u001b[0m\u001b[0mself\u001b[0m\u001b[1;33m,\u001b[0m \u001b[0minitalImages\u001b[0m\u001b[1;33m,\u001b[0m \u001b[0mtmp_distortion\u001b[0m\u001b[1;33m,\u001b[0m \u001b[0mtmp_rename\u001b[0m\u001b[1;33m,\u001b[0m \u001b[0mdistortedImages\u001b[0m\u001b[1;33m,\u001b[0m \u001b[0msave_format\u001b[0m\u001b[1;33m,\u001b[0m \u001b[0mnumber_images\u001b[0m\u001b[1;33m)\u001b[0m\u001b[1;33m\u001b[0m\u001b[0m\n",
      "\u001b[1;31mNameError\u001b[0m: name 'Augmentation' is not defined"
     ]
    }
   ],
   "source": []
  },
  {
   "cell_type": "code",
   "execution_count": 21,
   "metadata": {},
   "outputs": [
    {
     "name": "stdout",
     "output_type": "stream",
     "text": [
      "A_upperCase\n",
      "A_upperCase_arial_0_tailored.BMP\n",
      "A_upperCase_arial_1_tailored.BMP\n",
      "A_upperCase_arial_2_tailored.BMP\n",
      "A_upperCase_arial_3_tailored.BMP\n",
      "A_upperCase_arial_4_tailored.BMP\n",
      "A_upperCase_DotsAllForNow_0_tailored.BMP\n",
      "A_upperCase_DotsAllForNow_1_tailored.BMP\n",
      "A_upperCase_DotsAllForNow_2_tailored.BMP\n",
      "A_upperCase_DotsAllForNow_3_tailored.BMP\n",
      "A_upperCase_DotsAllForNow_4_tailored.BMP\n",
      "A_upperCase_MTCORSVA_0_tailored.BMP\n",
      "A_upperCase_MTCORSVA_1_tailored.BMP\n",
      "A_upperCase_MTCORSVA_2_tailored.BMP\n",
      "A_upperCase_MTCORSVA_3_tailored.BMP\n",
      "A_upperCase_MTCORSVA_4_tailored.BMP\n",
      "B_upperCase\n",
      "A_upperCase_arial_0_tailored.BMP\n",
      "A_upperCase_arial_1_tailored.BMP\n",
      "A_upperCase_arial_2_tailored.BMP\n",
      "A_upperCase_arial_3_tailored.BMP\n",
      "A_upperCase_arial_4_tailored.BMP\n",
      "A_upperCase_DotsAllForNow_0_tailored.BMP\n",
      "A_upperCase_DotsAllForNow_1_tailored.BMP\n",
      "A_upperCase_DotsAllForNow_2_tailored.BMP\n",
      "A_upperCase_DotsAllForNow_3_tailored.BMP\n",
      "A_upperCase_DotsAllForNow_4_tailored.BMP\n",
      "A_upperCase_MTCORSVA_0_tailored.BMP\n",
      "A_upperCase_MTCORSVA_1_tailored.BMP\n",
      "A_upperCase_MTCORSVA_2_tailored.BMP\n",
      "A_upperCase_MTCORSVA_3_tailored.BMP\n",
      "A_upperCase_MTCORSVA_4_tailored.BMP\n"
     ]
    }
   ],
   "source": [
    "import os\n",
    "path_1, dirs_1, files_1 = next(os.walk('C:/Users/Vagabound/Desktop/Test/GeneratedData/TailoredImages'))\n",
    "path_2, dirs_2, files_2 = next(os.walk('C:/Users/Vagabound/Desktop/Test/GeneratedData/TailoredImages/'+dirs_1[0]))\n",
    "for folder in dirs_1:\n",
    "    print(folder)\n",
    "    for files in files_2:\n",
    "        print(files)\n",
    "        "
   ]
  },
  {
   "cell_type": "code",
   "execution_count": 40,
   "metadata": {},
   "outputs": [
    {
     "ename": "KeyError",
     "evalue": "0",
     "output_type": "error",
     "traceback": [
      "\u001b[1;31m---------------------------------------------------------------------------\u001b[0m",
      "\u001b[1;31mKeyError\u001b[0m                                  Traceback (most recent call last)",
      "\u001b[1;32m<ipython-input-40-3329810f712d>\u001b[0m in \u001b[0;36m<module>\u001b[1;34m()\u001b[0m\n\u001b[0;32m      2\u001b[0m                           'B':{0:'b.bmp'}}\n\u001b[0;32m      3\u001b[0m               }}\n\u001b[1;32m----> 4\u001b[1;33m \u001b[0mprint\u001b[0m\u001b[1;33m(\u001b[0m\u001b[0mdict_folder\u001b[0m\u001b[1;33m[\u001b[0m\u001b[1;34m'path'\u001b[0m\u001b[1;33m]\u001b[0m\u001b[1;33m[\u001b[0m\u001b[1;36m0\u001b[0m\u001b[1;33m]\u001b[0m\u001b[1;33m[\u001b[0m\u001b[1;36m0\u001b[0m\u001b[1;33m]\u001b[0m\u001b[1;33m)\u001b[0m\u001b[1;33m\u001b[0m\u001b[0m\n\u001b[0m",
      "\u001b[1;31mKeyError\u001b[0m: 0"
     ]
    }
   ],
   "source": [
    "dict_folder = {'path':{0:{'A':{0:'a.bmp'},\n",
    "                          'B':{0:'b.bmp'}}\n",
    "              }}\n",
    "print(dict_folder['path'][0][0])"
   ]
  },
  {
   "cell_type": "code",
   "execution_count": 19,
   "metadata": {},
   "outputs": [
    {
     "name": "stdout",
     "output_type": "stream",
     "text": [
      "bild1.bmp\n",
      "{'0': {'A': {'0': 'bild.bmp', '1': 'bild1.bmp'}}, '1': {'B': {'0': 'bildx.bmp'}}}\n"
     ]
    }
   ],
   "source": [
    "print(dict_folder['path']['0']['A']['1'])\n",
    "print(dict_folder['path'])"
   ]
  },
  {
   "cell_type": "code",
   "execution_count": 14,
   "metadata": {},
   "outputs": [
    {
     "name": "stdout",
     "output_type": "stream",
     "text": [
      "{'A': {'name': 'hugo'}, 'B': {'name': 'seppli'}}\n"
     ]
    }
   ],
   "source": [
    "print(dict_folder['path'])"
   ]
  },
  {
   "cell_type": "code",
   "execution_count": null,
   "metadata": {},
   "outputs": [],
   "source": []
  }
 ],
 "metadata": {
  "kernelspec": {
   "display_name": "Python 3",
   "language": "python",
   "name": "python3"
  },
  "language_info": {
   "codemirror_mode": {
    "name": "ipython",
    "version": 3
   },
   "file_extension": ".py",
   "mimetype": "text/x-python",
   "name": "python",
   "nbconvert_exporter": "python",
   "pygments_lexer": "ipython3",
   "version": "3.6.4"
  }
 },
 "nbformat": 4,
 "nbformat_minor": 2
}
