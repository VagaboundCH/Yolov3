{
 "cells": [
  {
   "cell_type": "code",
   "execution_count": 1,
   "metadata": {},
   "outputs": [],
   "source": [
    "import numpy as np\n",
    "import os\n",
    "import xml.dom.minidom\n",
    "import xml.etree.cElementTree as ET\n",
    "import copy\n",
    "from PIL import Image"
   ]
  },
  {
   "cell_type": "code",
   "execution_count": 2,
   "metadata": {},
   "outputs": [],
   "source": [
    "class Place():\n",
    "    place_counter = -1\n",
    "    \"\"\"\n",
    "    Eingangsdaten:\n",
    "    Klassenpfad, Ausgangsbildgrösse in px, Anzahl Bilder Channel\n",
    "    \n",
    "    Konstruktor genieriert ein dictonary, welches wie folgt aussieht:\n",
    "    \n",
    "    {Pfad_Klassen:{Klassenname_1:{0:Bildname_1, 1:Bildname1}}\n",
    "                 :{Klassenname_2:{0:Bildname_1, 1:Bildname2}}\n",
    "    }\n",
    "    \n",
    "    2 Varianten wie die einzelen Zeichen platziert werden können:\n",
    "    1. rdm Verteilung\n",
    "    2. ....\n",
    "    \n",
    "    \"\"\"\n",
    "    \n",
    "    def __init__(self, path, size, depth):\n",
    "        self._path = path\n",
    "        self._size = size\n",
    "        self._depth= depth\n",
    "        self._dictonary = {'path':{'folder_name':{0:'image_name'}}}\n",
    "        self._segmented_image = np.zeros((self._size, self._size, self._depth))\n",
    "        self._bounding_boxes = np.array([0,0,0,0])\n",
    "        \n",
    "        path_1, dirs_1, files_1 = next(os.walk(self._path))\n",
    "        self._dictonary = {path_1:{}}\n",
    "        for folder in dirs_1:\n",
    "            self._dictonary[path_1][folder] = {}\n",
    "#             print(folder)\n",
    "            path_2, dirs_2, files_2 = next(os.walk(path_1 + folder))\n",
    "            for i, files in zip(range(len(files_2)), files_2):\n",
    "                self._dictonary[path_1][folder][i] = {files}\n",
    "#                 print(files) \n",
    "\n",
    "    def place(self, place_image_path):\n",
    "        with Image.open(place_image_path) as image:\n",
    "            img = np.array(image)\n",
    "            y,x,z = img.shape\n",
    "            print(y,x,z)\n",
    "            \n",
    "            if Place.place_counter == 0:\n",
    "                \n",
    "\n",
    "                x_max = self._size - x - 5\n",
    "                y_max = self._size - y - 5\n",
    "                x_rdm_min = np.random.randint(5,x_max)\n",
    "                y_rdm_min = np.random.randint(5,y_max)\n",
    "                x_rdm_max = x_rdm_min + x\n",
    "                y_rdm_max = y_rdm_min + y\n",
    "                print(x_rdm_min,y_rdm_min,x_rdm_max,y_rdm_max)\n",
    "                y1,x1,z1 = segmented_image.shape\n",
    "                print(y1,x1,z1)\n",
    "                segmented_image[y_rdm_min:y_rdm_max,x_rdm_min:x_rdm_max ,:] = img\n",
    "                \n",
    "        return segmented_image, x_rdm_min,y_rdm_min,x_rdm_max,y_rdm_max    \n",
    "\n",
    "\n",
    "    def get_head(self,folder,filename,path,width,height,depth):\n",
    "        string_head =   '<annotation>'\\\n",
    "                        '<folder>'+str(folder)+'</folder>'\\\n",
    "                        '<filename>'+str(filename)+'</filename>'\\\n",
    "                        '<path>'+str(path)+'</path>'\\\n",
    "                        '<source>'\\\n",
    "                        '<database>Unknown</database>'\\\n",
    "                        '</source>'\\\n",
    "                        '<size>'\\\n",
    "                            '<width>'+str(width)+'</width>'\\\n",
    "                            '<height>'+str(height)+'</height>'\\\n",
    "                            '<depth>'+str(depth)+'</depth>'\\\n",
    "                        '</size>'\\\n",
    "                        '<segmented>0</segmented>'\\\n",
    "                        '</annotation>'\n",
    "        return string_head\n",
    "\n",
    "    def get_body(self,name,xmin,ymin,xmax,ymax):\n",
    "        string_object = '<object>'\\\n",
    "                        '<name>'+str(name)+'</name>'\\\n",
    "                        '<pose>Unspecified</pose>'\\\n",
    "                        '<truncated>0</truncated>'\\\n",
    "                        '<difficult>0</difficult>'\\\n",
    "                        '<bndbox>'\\\n",
    "                            '<xmin>'+str(xmin)+'</xmin>'\\\n",
    "                            '<ymin>'+str(ymin)+'</ymin>'\\\n",
    "                            '<xmax>'+str(xmax)+'</xmax>'\\\n",
    "                            '<ymax>'+str(ymax)+'</ymax>'\\\n",
    "                            '</bndbox>'\\\n",
    "                        '</object>'\n",
    "        return string_body\n",
    "    \n",
    "    \n",
    "    def pretty_xml(self, string):\n",
    "        dom = xml.dom.minidom.parseString(string)\n",
    "        pretty_xml_as_string_body = dom.toprettyxml()\n",
    "        \n",
    "    \n",
    "    def iou_check(self,x_rdm_min,y_rdm_min,x_rdm_max,y_rdm_max,iou_threshold):\n",
    "        if self._segmentate_image.all()==0.0:\n",
    "            self._bounding_boxes[0] = x_rdm_max\n",
    "            self._bounding_boxes[1] = y_rdm_max\n",
    "            self._bounding_boxes[2] = x_rdm_min\n",
    "            self._bounding_boxes[3] = y_rdm_min\n",
    "        else:\n",
    "            bounding_box[0] = x_rdm_max\n",
    "            bounding_box[1] = y_rdm_max\n",
    "            bounding_box[2] = x_rdm_min\n",
    "            bounding_box[3] = y_rdm_min\n",
    "            length = len(self._bounding_boxes)/4\n",
    "            for i in range(length):\n",
    "                tmp_start = 0+(4*i)\n",
    "                tmp_end = 3+(4*i)\n",
    "                tmp_bounding_boxes = self._bounding_boxes[tmp_start:tmp_end]\n",
    "                iou = bb_intersection_over_union(bounding_box, tmp_bounding_boxes)\n",
    "                if iou =< iou_threshold:\n",
    "                    np.append(self._bounding_boxes,bounding_boxes)\n",
    "                else:\n",
    "                    break\n",
    "            \n",
    "        ####################################################################################################################################\n",
    "        ### Hier weiter machen\n",
    "        \n",
    "        \n",
    "    def create_xml(self,dict_folder,x_rdm_min,y_rdm_min,x_rdm_max,y_rdm_max):\n",
    "#         name = str(Place.placeIt_counter) + \n",
    "        if a.all()==0.0:\n",
    "            xml_name = ''\n",
    "            xml_name_tmp = get_body(dict_folder,x_rdm_min-1,y_rdm_min-1,x_rdm_max+1,y_rdm_max+1)\n",
    "            xml_name =  xml_name + xml_name_tmp\n",
    "        else:\n",
    "            \n",
    "            xml_name_tmp = get_body(dict_folder,x_rdm_min-1,y_rdm_min-1,x_rdm_max+1,y_rdm_max+1)\n",
    "            xml_name =  xml_name + xml_name_tmp\n",
    "        \n",
    "       \n",
    "    \n",
    "    def delete_dict(self, dict_folder, dict_image): \n",
    "        del self._dictonary[self._path][dict_folder][dict_image]\n",
    "        if len(list(self._dictonary[self._path][dict_folder][dict_image]))== 0:\n",
    "            del self._dictonary[self._path][dict_folder]\n",
    "        \n",
    "        \n",
    "        \n",
    "        with open(image_name, \"w\") as file:\n",
    "            file.write(image_name)\n",
    "\n",
    "\n",
    "    def rdm(self):\n",
    "        \n",
    "        \n",
    "        \n",
    "        ### Zufälliger Ordner von Zeichen z.B. A oder B ###\n",
    "        dict_folders = list(self._dictonary[self._path].keys())\n",
    "        print(dict_folders)\n",
    "        if len(dict_folders) == 0:\n",
    "            number_dict_folders = 0\n",
    "        else:\n",
    "            number_dict_folders = np.random.randint(len(dict_folders))\n",
    "        print(number_dict_folders)\n",
    "        \n",
    "        if number_dict_folders == 0:\n",
    "            rdm_folder = 0\n",
    "        else:\n",
    "            rdm_folder = np.random.randint(number_dict_folders)\n",
    "        print(rdm_folder)\n",
    "        dict_folder = dict_folders[rdm_folder]\n",
    "        print(dict_folder)\n",
    "        \n",
    "        ### Zufälliges Bild von oben bestimmten Zeichen ###\n",
    "        dict_images = list(self._dictonary[self._path][dict_folder].keys())\n",
    "        print(dict_images)\n",
    "        if len(dict_images) == 0:\n",
    "            number_dict_images = 0\n",
    "        else:\n",
    "            number_dict_images = np.random.randint(len(dict_images))\n",
    "        print(number_dict_images)\n",
    "        \n",
    "        if number_dict_images == 0:\n",
    "            rdm_image = 0\n",
    "        else:\n",
    "            rdm_image = np.random.randint(number_dict_images)\n",
    "            \n",
    "        print(rdm_image)\n",
    "        dict_image_number = dict_images[rdm_image]\n",
    "        dict_image = str(self._dictonary[self._path][dict_folder][dict_image_number])\n",
    "        print(dict_image)\n",
    "        \n",
    "        r_tmp = dict_image.find('}')\n",
    "        dict_image = dict_image[2:r_tmp-1]\n",
    "        print(dict_image)\n",
    "        \n",
    "        ### Bild Pfad des Zeichens ###\n",
    "        place_image_path = self._path + dict_folder + '/' +  dict_image\n",
    "        Place.place_counter +=1\n",
    "        \n",
    "        \n",
    "        segmented_image, x_rdm_min,y_rdm_min,x_rdm_max,y_rdm_max = self.place(place_image_path)\n",
    "        self.create_xml(dict_folder, x_rdm_min,y_rdm_min,x_rdm_max,y_rdm_max)    \n",
    "        \n",
    "        \n",
    "        self.delete_dict(self._path,dict_folder,dict_image)\n",
    "    \n",
    "        \n",
    "    \n",
    "    \n",
    "    \n",
    "    \n",
    "    def bb_intersection_over_union(self, boxA, boxB):\n",
    "        xA = max(boxA[0], boxB[0])\n",
    "        yA = max(boxA[1], boxB[1])\n",
    "        xB = min(boxA[2], boxB[2])\n",
    "        yB = min(boxA[3], boxB[3])\n",
    "        \n",
    "        # compute the area of intersection rectangle\n",
    "        interArea = max(0, xB - xA + 1) * max(0, yB - yA + 1)\n",
    "        # compute the area of both the prediction and ground-truth\n",
    "        # rectangles\n",
    "        boxAArea = (boxA[2] - boxA[0] + 1) * (boxA[3] - boxA[1] + 1)\n",
    "        boxBArea = (boxB[2] - boxB[0] + 1) * (boxB[3] - boxB[1] + 1)\n",
    "        # compute the intersection over union by taking the intersection\n",
    "        # area and dividing it by the sum of prediction + ground-truth\n",
    "        # areas - the interesection area\n",
    "        iou = interArea / float(boxAArea + boxBArea - interArea)\n",
    "        # return the intersection over union value\n",
    "        return iou    \n",
    "    \n",
    "        \n",
    "        \n",
    "#     def create_xml(self):    \n",
    "#     def segmented_image(self):"
   ]
  },
  {
   "cell_type": "code",
   "execution_count": 3,
   "metadata": {},
   "outputs": [],
   "source": [
    "obj33 = Place('C:/Users/User/Desktop/Test/GeneratedData/TailoredImages/',512,3)"
   ]
  },
  {
   "cell_type": "code",
   "execution_count": 4,
   "metadata": {},
   "outputs": [
    {
     "name": "stdout",
     "output_type": "stream",
     "text": [
      "['A_upperCase', 'B_upperCase']\n",
      "0\n",
      "0\n",
      "A_upperCase\n",
      "[0, 1, 2, 3, 4, 5, 6, 7, 8, 9, 10, 11, 12, 13, 14, 15, 16, 17, 18, 19, 20, 21, 22, 23, 24, 25, 26, 27, 28, 29]\n",
      "25\n",
      "14\n",
      "{'A_upperCase_DotsAllForNow_14_tailored.BMP'}\n",
      "A_upperCase_DotsAllForNow_14_tailored.BMP\n",
      "111 71 3\n",
      "219 74 290 185\n",
      "512 512 3\n"
     ]
    },
    {
     "ename": "NameError",
     "evalue": "name 'tmp_variable' is not defined",
     "output_type": "error",
     "traceback": [
      "\u001b[1;31m---------------------------------------------------------------------------\u001b[0m",
      "\u001b[1;31mNameError\u001b[0m                                 Traceback (most recent call last)",
      "\u001b[1;32m<ipython-input-4-5f834a545431>\u001b[0m in \u001b[0;36m<module>\u001b[1;34m()\u001b[0m\n\u001b[1;32m----> 1\u001b[1;33m \u001b[0mobj33\u001b[0m\u001b[1;33m.\u001b[0m\u001b[0mrdm\u001b[0m\u001b[1;33m(\u001b[0m\u001b[1;33m)\u001b[0m\u001b[1;33m\u001b[0m\u001b[0m\n\u001b[0m",
      "\u001b[1;32m<ipython-input-2-fd38a3a9b86d>\u001b[0m in \u001b[0;36mrdm\u001b[1;34m(self)\u001b[0m\n\u001b[0;32m    147\u001b[0m \u001b[1;33m\u001b[0m\u001b[0m\n\u001b[0;32m    148\u001b[0m         \u001b[0msegmented_image\u001b[0m\u001b[1;33m,\u001b[0m \u001b[0mx_rdm_min\u001b[0m\u001b[1;33m,\u001b[0m\u001b[0my_rdm_min\u001b[0m\u001b[1;33m,\u001b[0m\u001b[0mx_rdm_max\u001b[0m\u001b[1;33m,\u001b[0m\u001b[0my_rdm_max\u001b[0m \u001b[1;33m=\u001b[0m \u001b[0mself\u001b[0m\u001b[1;33m.\u001b[0m\u001b[0mplace\u001b[0m\u001b[1;33m(\u001b[0m\u001b[0mplace_image_path\u001b[0m\u001b[1;33m)\u001b[0m\u001b[1;33m\u001b[0m\u001b[0m\n\u001b[1;32m--> 149\u001b[1;33m         \u001b[0mself\u001b[0m\u001b[1;33m.\u001b[0m\u001b[0mcreate_xml\u001b[0m\u001b[1;33m(\u001b[0m\u001b[0mdict_folder\u001b[0m\u001b[1;33m,\u001b[0m \u001b[0mx_rdm_min\u001b[0m\u001b[1;33m,\u001b[0m\u001b[0my_rdm_min\u001b[0m\u001b[1;33m,\u001b[0m\u001b[0mx_rdm_max\u001b[0m\u001b[1;33m,\u001b[0m\u001b[0my_rdm_max\u001b[0m\u001b[1;33m)\u001b[0m\u001b[1;33m\u001b[0m\u001b[0m\n\u001b[0m\u001b[0;32m    150\u001b[0m         \u001b[0mself\u001b[0m\u001b[1;33m.\u001b[0m\u001b[0mdelete_dict\u001b[0m\u001b[1;33m(\u001b[0m\u001b[0mself\u001b[0m\u001b[1;33m.\u001b[0m\u001b[0m_path\u001b[0m\u001b[1;33m,\u001b[0m\u001b[0mdict_folder\u001b[0m\u001b[1;33m,\u001b[0m\u001b[0mdict_image\u001b[0m\u001b[1;33m)\u001b[0m\u001b[1;33m\u001b[0m\u001b[0m\n\u001b[0;32m    151\u001b[0m \u001b[1;33m\u001b[0m\u001b[0m\n",
      "\u001b[1;32m<ipython-input-2-fd38a3a9b86d>\u001b[0m in \u001b[0;36mcreate_xml\u001b[1;34m(self, dict_folder, x_rdm_min, y_rdm_min, x_rdm_max, y_rdm_max)\u001b[0m\n\u001b[0;32m     78\u001b[0m     \u001b[1;32mdef\u001b[0m \u001b[0mcreate_xml\u001b[0m\u001b[1;33m(\u001b[0m\u001b[0mself\u001b[0m\u001b[1;33m,\u001b[0m\u001b[0mdict_folder\u001b[0m\u001b[1;33m,\u001b[0m\u001b[0mx_rdm_min\u001b[0m\u001b[1;33m,\u001b[0m\u001b[0my_rdm_min\u001b[0m\u001b[1;33m,\u001b[0m\u001b[0mx_rdm_max\u001b[0m\u001b[1;33m,\u001b[0m\u001b[0my_rdm_max\u001b[0m\u001b[1;33m)\u001b[0m\u001b[1;33m:\u001b[0m\u001b[1;33m\u001b[0m\u001b[0m\n\u001b[0;32m     79\u001b[0m \u001b[1;31m#         name = str(Place.placeIt_counter) +\u001b[0m\u001b[1;33m\u001b[0m\u001b[1;33m\u001b[0m\u001b[0m\n\u001b[1;32m---> 80\u001b[1;33m         \u001b[1;32mif\u001b[0m \u001b[0mtmp_variable\u001b[0m \u001b[1;33m==\u001b[0m \u001b[1;36m0\u001b[0m\u001b[1;33m:\u001b[0m\u001b[1;33m\u001b[0m\u001b[0m\n\u001b[0m\u001b[0;32m     81\u001b[0m             \u001b[0mxml_name\u001b[0m \u001b[1;33m=\u001b[0m \u001b[1;34m''\u001b[0m\u001b[1;33m\u001b[0m\u001b[0m\n\u001b[0;32m     82\u001b[0m             \u001b[0mxml_name_tmp\u001b[0m \u001b[1;33m=\u001b[0m \u001b[0mget_body\u001b[0m\u001b[1;33m(\u001b[0m\u001b[0mdict_folder\u001b[0m\u001b[1;33m,\u001b[0m\u001b[0mx_rdm_min\u001b[0m\u001b[1;33m-\u001b[0m\u001b[1;36m1\u001b[0m\u001b[1;33m,\u001b[0m\u001b[0my_rdm_min\u001b[0m\u001b[1;33m-\u001b[0m\u001b[1;36m1\u001b[0m\u001b[1;33m,\u001b[0m\u001b[0mx_rdm_max\u001b[0m\u001b[1;33m+\u001b[0m\u001b[1;36m1\u001b[0m\u001b[1;33m,\u001b[0m\u001b[0my_rdm_max\u001b[0m\u001b[1;33m+\u001b[0m\u001b[1;36m1\u001b[0m\u001b[1;33m)\u001b[0m\u001b[1;33m\u001b[0m\u001b[0m\n",
      "\u001b[1;31mNameError\u001b[0m: name 'tmp_variable' is not defined"
     ]
    }
   ],
   "source": [
    "obj33.rdm()"
   ]
  },
  {
   "cell_type": "code",
   "execution_count": 5,
   "metadata": {},
   "outputs": [
    {
     "name": "stdout",
     "output_type": "stream",
     "text": [
      "Ungleichgewicht: Nicht gleichviele Bilder von jeder Klasse vorhanden, siehe KlasseB_upperCase\n"
     ]
    }
   ],
   "source": [
    "for classes in list(obj33._dictonary['C:/Users/User/Desktop/Test/GeneratedData/TailoredImages/']):\n",
    "    class_1 = list(obj33._dictonary['C:/Users/User/Desktop/Test/GeneratedData/TailoredImages/'])\n",
    "    number_images = len(list(list(obj33._dictonary['C:/Users/User/Desktop/Test/GeneratedData/TailoredImages/'][class_1[0]])))\n",
    "    if number_images != len(list(list(obj33._dictonary['C:/Users/User/Desktop/Test/GeneratedData/TailoredImages/'][classes]))):\n",
    "        print('Ungleichgewicht: Nicht gleichviele Bilder von jeder Klasse vorhanden, siehe Klasse: ' + classes)\n",
    "        break\n",
    "#     print('alles i.O')\n",
    "#     print(class_1[0])\n",
    "#     print(number_images)\n",
    "#     print(classes)\n",
    "# # len(list(obj33._dictonary['C:/Users/User/Desktop/Test/GeneratedData/TailoredImages/']))\n",
    "# list(obj33._dictonary['C:/Users/User/Desktop/Test/GeneratedData/TailoredImages/'])"
   ]
  },
  {
   "cell_type": "code",
   "execution_count": 5,
   "metadata": {},
   "outputs": [
    {
     "name": "stdout",
     "output_type": "stream",
     "text": [
      "['C:/Users/User/Desktop/Test/GeneratedData/TailoredImages/']\n"
     ]
    }
   ],
   "source": [
    "print(list(obj33._dictonary))"
   ]
  },
  {
   "cell_type": "code",
   "execution_count": 7,
   "metadata": {},
   "outputs": [
    {
     "name": "stdout",
     "output_type": "stream",
     "text": [
      "2\n"
     ]
    },
    {
     "ename": "KeyError",
     "evalue": "2",
     "output_type": "error",
     "traceback": [
      "\u001b[1;31m---------------------------------------------------------------------------\u001b[0m",
      "\u001b[1;31mKeyError\u001b[0m                                  Traceback (most recent call last)",
      "\u001b[1;32m<ipython-input-7-84866548df3c>\u001b[0m in \u001b[0;36m<module>\u001b[1;34m()\u001b[0m\n\u001b[0;32m      1\u001b[0m \u001b[0mprint\u001b[0m\u001b[1;33m(\u001b[0m\u001b[0mlen\u001b[0m\u001b[1;33m(\u001b[0m\u001b[0mlist\u001b[0m\u001b[1;33m(\u001b[0m\u001b[0mobj33\u001b[0m\u001b[1;33m.\u001b[0m\u001b[0m_dictonary\u001b[0m\u001b[1;33m[\u001b[0m\u001b[1;34m'C:/Users/User/Desktop/Test/GeneratedData/TailoredImages/'\u001b[0m\u001b[1;33m]\u001b[0m\u001b[1;33m[\u001b[0m\u001b[1;34m'A_upperCase'\u001b[0m\u001b[1;33m]\u001b[0m\u001b[1;33m)\u001b[0m\u001b[1;33m)\u001b[0m\u001b[1;33m)\u001b[0m\u001b[1;33m\u001b[0m\u001b[0m\n\u001b[1;32m----> 2\u001b[1;33m \u001b[1;32mdel\u001b[0m \u001b[0mobj33\u001b[0m\u001b[1;33m.\u001b[0m\u001b[0m_dictonary\u001b[0m\u001b[1;33m[\u001b[0m\u001b[1;34m'C:/Users/User/Desktop/Test/GeneratedData/TailoredImages/'\u001b[0m\u001b[1;33m]\u001b[0m\u001b[1;33m[\u001b[0m\u001b[1;34m'A_upperCase'\u001b[0m\u001b[1;33m]\u001b[0m\u001b[1;33m[\u001b[0m\u001b[1;36m2\u001b[0m\u001b[1;33m]\u001b[0m\u001b[1;33m\u001b[0m\u001b[0m\n\u001b[0m\u001b[0;32m      3\u001b[0m \u001b[0mprint\u001b[0m\u001b[1;33m(\u001b[0m\u001b[0mlen\u001b[0m\u001b[1;33m(\u001b[0m\u001b[0mlist\u001b[0m\u001b[1;33m(\u001b[0m\u001b[0mobj33\u001b[0m\u001b[1;33m.\u001b[0m\u001b[0m_dictonary\u001b[0m\u001b[1;33m[\u001b[0m\u001b[1;34m'C:/Users/User/Desktop/Test/GeneratedData/TailoredImages/'\u001b[0m\u001b[1;33m]\u001b[0m\u001b[1;33m[\u001b[0m\u001b[1;34m'A_upperCase'\u001b[0m\u001b[1;33m]\u001b[0m\u001b[1;33m)\u001b[0m\u001b[1;33m)\u001b[0m\u001b[1;33m)\u001b[0m\u001b[1;33m\u001b[0m\u001b[0m\n",
      "\u001b[1;31mKeyError\u001b[0m: 2"
     ]
    }
   ],
   "source": [
    "print(len(list(obj33._dictonary['C:/Users/User/Desktop/Test/GeneratedData/TailoredImages/']['A_upperCase'])))\n",
    "del obj33._dictonary['C:/Users/User/Desktop/Test/GeneratedData/TailoredImages/']['A_upperCase'][2]"
   ]
  },
  {
   "cell_type": "code",
   "execution_count": 8,
   "metadata": {},
   "outputs": [
    {
     "name": "stdout",
     "output_type": "stream",
     "text": [
      "2\n"
     ]
    }
   ],
   "source": [
    "print(len(list(obj33._dictonary['C:/Users/User/Desktop/Test/GeneratedData/TailoredImages/']['A_upperCase'])))\n",
    "del obj33._dictonary['C:/Users/User/Desktop/Test/GeneratedData/TailoredImages/']['A_upperCase'][1]"
   ]
  },
  {
   "cell_type": "code",
   "execution_count": 9,
   "metadata": {},
   "outputs": [
    {
     "name": "stdout",
     "output_type": "stream",
     "text": [
      "1\n"
     ]
    }
   ],
   "source": [
    "print(len(list(obj33._dictonary['C:/Users/User/Desktop/Test/GeneratedData/TailoredImages/']['A_upperCase'])))\n",
    "del obj33._dictonary['C:/Users/User/Desktop/Test/GeneratedData/TailoredImages/']['A_upperCase'][0]"
   ]
  },
  {
   "cell_type": "code",
   "execution_count": 10,
   "metadata": {},
   "outputs": [
    {
     "name": "stdout",
     "output_type": "stream",
     "text": [
      "0\n"
     ]
    }
   ],
   "source": [
    "print(len(list(obj33._dictonary['C:/Users/User/Desktop/Test/GeneratedData/TailoredImages/']['A_upperCase'])))"
   ]
  },
  {
   "cell_type": "code",
   "execution_count": 11,
   "metadata": {},
   "outputs": [
    {
     "name": "stdout",
     "output_type": "stream",
     "text": [
      "2\n",
      "1\n"
     ]
    }
   ],
   "source": [
    "print(len(list(obj33._dictonary['C:/Users/User/Desktop/Test/GeneratedData/TailoredImages/'])))\n",
    "del obj33._dictonary['C:/Users/User/Desktop/Test/GeneratedData/TailoredImages/']['A_upperCase']\n",
    "print(len(list(obj33._dictonary['C:/Users/User/Desktop/Test/GeneratedData/TailoredImages/'])))"
   ]
  },
  {
   "cell_type": "code",
   "execution_count": 12,
   "metadata": {},
   "outputs": [
    {
     "name": "stdout",
     "output_type": "stream",
     "text": [
      "{'B_upperCase': {0: {'B_upperCase_arial_3_tailored.BMP'}, 1: {'B_upperCase_DotsAllForNow_4_tailored.BMP'}, 2: {'B_upperCase_MTCORSVA_5_tailored.BMP'}}}\n"
     ]
    }
   ],
   "source": [
    "print(obj33._dictonary['C:/Users/User/Desktop/Test/GeneratedData/TailoredImages/'])"
   ]
  },
  {
   "cell_type": "code",
   "execution_count": 6,
   "metadata": {},
   "outputs": [
    {
     "data": {
      "text/plain": [
       "[0,\n",
       " 1,\n",
       " 2,\n",
       " 3,\n",
       " 4,\n",
       " 5,\n",
       " 6,\n",
       " 7,\n",
       " 8,\n",
       " 9,\n",
       " 10,\n",
       " 11,\n",
       " 12,\n",
       " 13,\n",
       " 14,\n",
       " 15,\n",
       " 16,\n",
       " 17,\n",
       " 18,\n",
       " 19,\n",
       " 20,\n",
       " 21,\n",
       " 22,\n",
       " 23,\n",
       " 24,\n",
       " 25,\n",
       " 26,\n",
       " 27,\n",
       " 28,\n",
       " 29]"
      ]
     },
     "execution_count": 6,
     "metadata": {},
     "output_type": "execute_result"
    }
   ],
   "source": [
    "list(obj33._dictonary['C:/Users/User/Desktop/Test/GeneratedData/TailoredImages/']['A_upperCase'])"
   ]
  },
  {
   "cell_type": "code",
   "execution_count": 25,
   "metadata": {},
   "outputs": [
    {
     "name": "stdout",
     "output_type": "stream",
     "text": [
      "juhu\n",
      "[[0. 0. 0. 0. 0. 0. 0. 0. 0.]\n",
      " [0. 0. 0. 0. 0. 0. 0. 0. 0.]\n",
      " [0. 0. 0. 0. 0. 0. 0. 0. 0.]\n",
      " [0. 0. 0. 0. 0. 0. 0. 0. 0.]\n",
      " [0. 0. 0. 0. 0. 0. 0. 0. 0.]\n",
      " [0. 0. 0. 0. 0. 0. 0. 0. 0.]\n",
      " [0. 0. 0. 0. 0. 0. 0. 0. 0.]\n",
      " [0. 0. 0. 0. 0. 0. 0. 0. 0.]\n",
      " [0. 0. 0. 0. 0. 0. 0. 0. 0.]]\n",
      "[[1. 1. 1.]\n",
      " [1. 1. 1.]\n",
      " [1. 1. 1.]]\n",
      "[[0. 0. 0. 0. 0. 0. 0. 0. 0.]\n",
      " [0. 0. 0. 0. 0. 0. 0. 0. 0.]\n",
      " [0. 0. 1. 1. 1. 0. 0. 0. 0.]\n",
      " [0. 0. 1. 1. 1. 0. 0. 0. 0.]\n",
      " [0. 0. 1. 1. 1. 0. 0. 0. 0.]\n",
      " [0. 0. 0. 0. 0. 0. 0. 0. 0.]\n",
      " [0. 0. 0. 0. 0. 0. 0. 0. 0.]\n",
      " [0. 0. 0. 0. 0. 0. 0. 0. 0.]\n",
      " [0. 0. 0. 0. 0. 0. 0. 0. 0.]]\n",
      "scheisse\n"
     ]
    }
   ],
   "source": [
    "a = np.zeros((9,9))\n",
    "b = np.ones((3,3))\n",
    "c = np.zeros((9,9))\n",
    "if a.all()==0.0:\n",
    "    print('juhu')\n",
    "else:\n",
    "    print('scheisse')\n",
    "print(a)\n",
    "print(b)\n",
    "c[2:5,2:5] = b\n",
    "print(c)\n",
    "if c.all()==0.0:\n",
    "    print('scheisse')\n",
    "else:\n",
    "    print('juhu')"
   ]
  },
  {
   "cell_type": "code",
   "execution_count": 6,
   "metadata": {},
   "outputs": [
    {
     "ename": "PermissionError",
     "evalue": "[Errno 13] Permission denied: 'C:/Users/User/Desktop/Test/GeneratedData/TailoredImages/'",
     "output_type": "error",
     "traceback": [
      "\u001b[1;31m---------------------------------------------------------------------------\u001b[0m",
      "\u001b[1;31mPermissionError\u001b[0m                           Traceback (most recent call last)",
      "\u001b[1;32m<ipython-input-6-fcc25253427a>\u001b[0m in \u001b[0;36m<module>\u001b[1;34m()\u001b[0m\n\u001b[1;32m----> 1\u001b[1;33m \u001b[0mobj33\u001b[0m\u001b[1;33m.\u001b[0m\u001b[0mplace\u001b[0m\u001b[1;33m(\u001b[0m\u001b[1;34m'C:/Users/User/Desktop/Test/GeneratedData/TailoredImages/'\u001b[0m\u001b[1;33m)\u001b[0m\u001b[1;33m\u001b[0m\u001b[0m\n\u001b[0m",
      "\u001b[1;32m<ipython-input-2-600ae3bf17c4>\u001b[0m in \u001b[0;36mplace\u001b[1;34m(self, place_image_path)\u001b[0m\n\u001b[0;32m     22\u001b[0m \u001b[1;33m\u001b[0m\u001b[0m\n\u001b[0;32m     23\u001b[0m     \u001b[1;32mdef\u001b[0m \u001b[0mplace\u001b[0m\u001b[1;33m(\u001b[0m\u001b[0mself\u001b[0m\u001b[1;33m,\u001b[0m \u001b[0mplace_image_path\u001b[0m\u001b[1;33m)\u001b[0m\u001b[1;33m:\u001b[0m\u001b[1;33m\u001b[0m\u001b[0m\n\u001b[1;32m---> 24\u001b[1;33m         \u001b[1;32mwith\u001b[0m \u001b[0mImage\u001b[0m\u001b[1;33m.\u001b[0m\u001b[0mopen\u001b[0m\u001b[1;33m(\u001b[0m\u001b[0mplace_image_path\u001b[0m\u001b[1;33m)\u001b[0m \u001b[1;32mas\u001b[0m \u001b[0mimage\u001b[0m\u001b[1;33m:\u001b[0m\u001b[1;33m\u001b[0m\u001b[0m\n\u001b[0m\u001b[0;32m     25\u001b[0m             \u001b[0mimg\u001b[0m \u001b[1;33m=\u001b[0m \u001b[0mnp\u001b[0m\u001b[1;33m.\u001b[0m\u001b[0marray\u001b[0m\u001b[1;33m(\u001b[0m\u001b[0mimage\u001b[0m\u001b[1;33m)\u001b[0m\u001b[1;33m\u001b[0m\u001b[0m\n\u001b[0;32m     26\u001b[0m             \u001b[0mx\u001b[0m\u001b[1;33m,\u001b[0m\u001b[0my\u001b[0m\u001b[1;33m,\u001b[0m\u001b[0mz\u001b[0m \u001b[1;33m=\u001b[0m \u001b[0mimg\u001b[0m\u001b[1;33m.\u001b[0m\u001b[0mshape\u001b[0m\u001b[1;33m\u001b[0m\u001b[0m\n",
      "\u001b[1;32mC:\\Users\\User\\Anaconda3\\lib\\site-packages\\PIL\\Image.py\u001b[0m in \u001b[0;36mopen\u001b[1;34m(fp, mode)\u001b[0m\n\u001b[0;32m   2475\u001b[0m \u001b[1;33m\u001b[0m\u001b[0m\n\u001b[0;32m   2476\u001b[0m     \u001b[1;32mif\u001b[0m \u001b[0mfilename\u001b[0m\u001b[1;33m:\u001b[0m\u001b[1;33m\u001b[0m\u001b[0m\n\u001b[1;32m-> 2477\u001b[1;33m         \u001b[0mfp\u001b[0m \u001b[1;33m=\u001b[0m \u001b[0mbuiltins\u001b[0m\u001b[1;33m.\u001b[0m\u001b[0mopen\u001b[0m\u001b[1;33m(\u001b[0m\u001b[0mfilename\u001b[0m\u001b[1;33m,\u001b[0m \u001b[1;34m\"rb\"\u001b[0m\u001b[1;33m)\u001b[0m\u001b[1;33m\u001b[0m\u001b[0m\n\u001b[0m\u001b[0;32m   2478\u001b[0m         \u001b[0mexclusive_fp\u001b[0m \u001b[1;33m=\u001b[0m \u001b[1;32mTrue\u001b[0m\u001b[1;33m\u001b[0m\u001b[0m\n\u001b[0;32m   2479\u001b[0m \u001b[1;33m\u001b[0m\u001b[0m\n",
      "\u001b[1;31mPermissionError\u001b[0m: [Errno 13] Permission denied: 'C:/Users/User/Desktop/Test/GeneratedData/TailoredImages/'"
     ]
    }
   ],
   "source": [
    "obj33.place('C:/Users/User/Desktop/Test/GeneratedData/TailoredImages/')"
   ]
  },
  {
   "cell_type": "code",
   "execution_count": 5,
   "metadata": {},
   "outputs": [
    {
     "name": "stdout",
     "output_type": "stream",
     "text": [
      "{'A_upperCase_arial_0_tailored.BMP'}\n"
     ]
    },
    {
     "ename": "AttributeError",
     "evalue": "'set' object has no attribute 'find'",
     "output_type": "error",
     "traceback": [
      "\u001b[1;31m---------------------------------------------------------------------------\u001b[0m",
      "\u001b[1;31mAttributeError\u001b[0m                            Traceback (most recent call last)",
      "\u001b[1;32m<ipython-input-5-da7dfb178d26>\u001b[0m in \u001b[0;36m<module>\u001b[1;34m()\u001b[0m\n\u001b[0;32m      1\u001b[0m \u001b[0mprint\u001b[0m\u001b[1;33m(\u001b[0m\u001b[0mobj33\u001b[0m\u001b[1;33m.\u001b[0m\u001b[0m_dictonary\u001b[0m\u001b[1;33m[\u001b[0m\u001b[1;34m'C:/Users/User/Desktop/Test/GeneratedData/TailoredImages/'\u001b[0m\u001b[1;33m]\u001b[0m\u001b[1;33m[\u001b[0m\u001b[1;34m'A_upperCase'\u001b[0m\u001b[1;33m]\u001b[0m\u001b[1;33m[\u001b[0m\u001b[1;36m0\u001b[0m\u001b[1;33m]\u001b[0m\u001b[1;33m)\u001b[0m\u001b[1;33m\u001b[0m\u001b[0m\n\u001b[0;32m      2\u001b[0m \u001b[0ma\u001b[0m \u001b[1;33m=\u001b[0m \u001b[0mobj33\u001b[0m\u001b[1;33m.\u001b[0m\u001b[0m_dictonary\u001b[0m\u001b[1;33m[\u001b[0m\u001b[1;34m'C:/Users/User/Desktop/Test/GeneratedData/TailoredImages/'\u001b[0m\u001b[1;33m]\u001b[0m\u001b[1;33m[\u001b[0m\u001b[1;34m'A_upperCase'\u001b[0m\u001b[1;33m]\u001b[0m\u001b[1;33m[\u001b[0m\u001b[1;36m0\u001b[0m\u001b[1;33m]\u001b[0m\u001b[1;33m\u001b[0m\u001b[0m\n\u001b[1;32m----> 3\u001b[1;33m \u001b[0mprint\u001b[0m\u001b[1;33m(\u001b[0m\u001b[0ma\u001b[0m\u001b[1;33m.\u001b[0m\u001b[0mfind\u001b[0m\u001b[1;33m(\u001b[0m\u001b[1;34m'}'\u001b[0m\u001b[1;33m)\u001b[0m\u001b[1;33m)\u001b[0m\u001b[1;33m\u001b[0m\u001b[0m\n\u001b[0m\u001b[0;32m      4\u001b[0m \u001b[0ma\u001b[0m\u001b[1;33m[\u001b[0m\u001b[1;36m2\u001b[0m\u001b[1;33m:\u001b[0m\u001b[1;36m34\u001b[0m\u001b[1;33m]\u001b[0m\u001b[1;33m\u001b[0m\u001b[0m\n",
      "\u001b[1;31mAttributeError\u001b[0m: 'set' object has no attribute 'find'"
     ]
    }
   ],
   "source": [
    "print(obj33._dictonary['C:/Users/User/Desktop/Test/GeneratedData/TailoredImages/']['A_upperCase'][0])\n",
    "a = str(obj33._dictonary['C:/Users/User/Desktop/Test/GeneratedData/TailoredImages/']['A_upperCase'][0])\n",
    "print(a.find('}'))\n",
    "a[2:34]"
   ]
  },
  {
   "cell_type": "code",
   "execution_count": 36,
   "metadata": {},
   "outputs": [
    {
     "name": "stdout",
     "output_type": "stream",
     "text": [
      "{'C:/Users/User/Desktop/Test/GeneratedData/TailoredImages/': {'A_upperCase': {0: {'A_upperCase_arial_020191116_191829_31.BMP'}, 1: {'A_upperCase_arial_120191116_191830_32.BMP'}, 2: {'A_upperCase_arial_220191116_191830_33.BMP'}, 3: {'A_upperCase_arial_320191116_191830_34.BMP'}, 4: {'A_upperCase_arial_420191116_191830_35.BMP'}, 5: {'A_upperCase_DotsAllForNow_020191116_191830_36.BMP'}, 6: {'A_upperCase_DotsAllForNow_120191116_191830_37.BMP'}, 7: {'A_upperCase_DotsAllForNow_220191116_191830_38.BMP'}, 8: {'A_upperCase_DotsAllForNow_320191116_191830_39.BMP'}, 9: {'A_upperCase_DotsAllForNow_420191116_191830_40.BMP'}, 10: {'A_upperCase_MTCORSVA_020191116_191831_41.BMP'}, 11: {'A_upperCase_MTCORSVA_120191116_191831_42.BMP'}, 12: {'A_upperCase_MTCORSVA_220191116_191831_43.BMP'}, 13: {'A_upperCase_MTCORSVA_320191116_191831_44.BMP'}, 14: {'A_upperCase_MTCORSVA_420191116_191831_45.BMP'}}, 'B_upperCase': {0: {'B_upperCase_arial_020191116_191831_46.BMP'}, 1: {'B_upperCase_arial_120191116_191831_47.BMP'}, 2: {'B_upperCase_arial_220191116_191832_48.BMP'}, 3: {'B_upperCase_arial_320191116_191832_49.BMP'}, 4: {'B_upperCase_arial_420191116_191832_50.BMP'}, 5: {'B_upperCase_DotsAllForNow_020191116_191832_51.BMP'}, 6: {'B_upperCase_DotsAllForNow_120191116_191832_52.BMP'}, 7: {'B_upperCase_DotsAllForNow_220191116_191832_53.BMP'}, 8: {'B_upperCase_DotsAllForNow_320191116_191832_54.BMP'}, 9: {'B_upperCase_DotsAllForNow_420191116_191833_55.BMP'}, 10: {'B_upperCase_MTCORSVA_020191116_191833_56.BMP'}, 11: {'B_upperCase_MTCORSVA_120191116_191833_57.BMP'}, 12: {'B_upperCase_MTCORSVA_220191116_191833_58.BMP'}, 13: {'B_upperCase_MTCORSVA_320191116_191833_59.BMP'}, 14: {'B_upperCase_MTCORSVA_420191116_191833_60.BMP'}}}}\n"
     ]
    }
   ],
   "source": [
    "obj = Place('C:/Users/User/Desktop/Test/GeneratedData/TailoredImages/',512,3)\n",
    "print(obj._dict_images)"
   ]
  },
  {
   "cell_type": "code",
   "execution_count": null,
   "metadata": {},
   "outputs": [],
   "source": []
  },
  {
   "cell_type": "code",
   "execution_count": null,
   "metadata": {},
   "outputs": [],
   "source": []
  },
  {
   "cell_type": "code",
   "execution_count": null,
   "metadata": {},
   "outputs": [],
   "source": []
  },
  {
   "cell_type": "code",
   "execution_count": null,
   "metadata": {},
   "outputs": [],
   "source": []
  },
  {
   "cell_type": "code",
   "execution_count": 7,
   "metadata": {},
   "outputs": [
    {
     "data": {
      "text/plain": [
       "range(0, 0)"
      ]
     },
     "execution_count": 7,
     "metadata": {},
     "output_type": "execute_result"
    }
   ],
   "source": [
    "range(0)\n",
    "\n",
    "\n",
    "  "
   ]
  },
  {
   "cell_type": "code",
   "execution_count": 1,
   "metadata": {},
   "outputs": [
    {
     "ename": "NameError",
     "evalue": "name 'dict_images' is not defined",
     "output_type": "error",
     "traceback": [
      "\u001b[1;31m---------------------------------------------------------------------------\u001b[0m",
      "\u001b[1;31mNameError\u001b[0m                                 Traceback (most recent call last)",
      "\u001b[1;32m<ipython-input-1-29469b940a8b>\u001b[0m in \u001b[0;36m<module>\u001b[1;34m()\u001b[0m\n\u001b[1;32m----> 1\u001b[1;33m \u001b[0mprint\u001b[0m\u001b[1;33m(\u001b[0m\u001b[0mdict_images\u001b[0m\u001b[1;33m[\u001b[0m\u001b[0mpath_1\u001b[0m\u001b[1;33m]\u001b[0m\u001b[1;33m[\u001b[0m\u001b[1;34m'A_upperCase'\u001b[0m\u001b[1;33m]\u001b[0m\u001b[1;33m)\u001b[0m\u001b[1;33m\u001b[0m\u001b[0m\n\u001b[0m\u001b[0;32m      2\u001b[0m \u001b[0ma\u001b[0m \u001b[1;33m=\u001b[0m \u001b[0mlist\u001b[0m\u001b[1;33m(\u001b[0m\u001b[0mdict_images\u001b[0m\u001b[1;33m.\u001b[0m\u001b[0mkeys\u001b[0m\u001b[1;33m(\u001b[0m\u001b[1;33m)\u001b[0m\u001b[1;33m)\u001b[0m\u001b[1;33m\u001b[0m\u001b[0m\n\u001b[0;32m      3\u001b[0m \u001b[0mb\u001b[0m \u001b[1;33m=\u001b[0m \u001b[0mlist\u001b[0m\u001b[1;33m(\u001b[0m\u001b[0mdict_images\u001b[0m\u001b[1;33m[\u001b[0m\u001b[0mpath_1\u001b[0m\u001b[1;33m]\u001b[0m\u001b[1;33m.\u001b[0m\u001b[0mkeys\u001b[0m\u001b[1;33m(\u001b[0m\u001b[1;33m)\u001b[0m\u001b[1;33m)\u001b[0m\u001b[1;33m\u001b[0m\u001b[0m\n\u001b[0;32m      4\u001b[0m \u001b[0mc\u001b[0m \u001b[1;33m=\u001b[0m \u001b[0mlist\u001b[0m\u001b[1;33m(\u001b[0m\u001b[0mdict_images\u001b[0m\u001b[1;33m[\u001b[0m\u001b[0mpath_1\u001b[0m\u001b[1;33m]\u001b[0m\u001b[1;33m[\u001b[0m\u001b[1;34m'A_upperCase'\u001b[0m\u001b[1;33m]\u001b[0m\u001b[1;33m.\u001b[0m\u001b[0mkeys\u001b[0m\u001b[1;33m(\u001b[0m\u001b[1;33m)\u001b[0m\u001b[1;33m)\u001b[0m\u001b[1;33m\u001b[0m\u001b[0m\n\u001b[0;32m      5\u001b[0m \u001b[0mprint\u001b[0m\u001b[1;33m(\u001b[0m\u001b[0ma\u001b[0m\u001b[1;33m)\u001b[0m\u001b[1;33m\u001b[0m\u001b[0m\n",
      "\u001b[1;31mNameError\u001b[0m: name 'dict_images' is not defined"
     ]
    }
   ],
   "source": [
    "print(dict_images[path_1]['A_upperCase'])\n",
    "a = list(dict_images.keys())\n",
    "b = list(dict_images[path_1].keys())\n",
    "c = list(dict_images[path_1]['A_upperCase'].keys())\n",
    "print(a)\n",
    "print(b)\n",
    "print(c)\n",
    "print(len(c))\n",
    "d = np.random.randint(len(c))\n",
    "print(d)\n",
    "print(dict_images[path_1]['A_upperCase'][d])"
   ]
  },
  {
   "cell_type": "code",
   "execution_count": 2,
   "metadata": {},
   "outputs": [
    {
     "name": "stdout",
     "output_type": "stream",
     "text": [
      "aaölsfjöasf\n",
      "ggg\n"
     ]
    }
   ],
   "source": [
    "a = 'aaölsfjöasf'\n",
    "print(a)\n",
    "a = 'ggg'\n",
    "print(a)"
   ]
  },
  {
   "cell_type": "code",
   "execution_count": null,
   "metadata": {},
   "outputs": [],
   "source": []
  }
 ],
 "metadata": {
  "kernelspec": {
   "display_name": "Python 3",
   "language": "python",
   "name": "python3"
  },
  "language_info": {
   "codemirror_mode": {
    "name": "ipython",
    "version": 3
   },
   "file_extension": ".py",
   "mimetype": "text/x-python",
   "name": "python",
   "nbconvert_exporter": "python",
   "pygments_lexer": "ipython3",
   "version": "3.6.4"
  }
 },
 "nbformat": 4,
 "nbformat_minor": 2
}
