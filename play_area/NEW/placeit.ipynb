{
 "cells": [
  {
   "cell_type": "code",
   "execution_count": 11,
   "metadata": {},
   "outputs": [],
   "source": [
    "import numpy as np\n",
    "import os\n",
    "import xml.dom.minidom\n",
    "import xml.etree.cElementTree as ET\n",
    "import copy\n",
    "from PIL import Image"
   ]
  },
  {
   "cell_type": "code",
   "execution_count": 37,
   "metadata": {},
   "outputs": [
    {
     "ename": "IndentationError",
     "evalue": "expected an indented block (<ipython-input-37-f94acad92211>, line 24)",
     "output_type": "error",
     "traceback": [
      "\u001b[1;36m  File \u001b[1;32m\"<ipython-input-37-f94acad92211>\"\u001b[1;36m, line \u001b[1;32m24\u001b[0m\n\u001b[1;33m    def placeIt(self):\u001b[0m\n\u001b[1;37m      ^\u001b[0m\n\u001b[1;31mIndentationError\u001b[0m\u001b[1;31m:\u001b[0m expected an indented block\n"
     ]
    }
   ],
   "source": [
    "class PlaceIt():\n",
    "    placeIt_counter = -1\n",
    "    \n",
    "    def __init__(self, path, size, depth):\n",
    "        self._path = path\n",
    "        self._size = size\n",
    "        self._depth= depth\n",
    "        self._dictonary = {'path':{'folder_name':{0:'image_name'}}}\n",
    "        self.create_dictionary(self._path)\n",
    "        self._black_array = np.zeros((self._size, self._size, self._depth))\n",
    "        \n",
    "    def create_dictionary(self, path):\n",
    "        path_1, dirs_1, files_1 = next(os.walk(self._path))\n",
    "        self._dictonary = {path_1:{}}\n",
    "        for folder in dirs_1:\n",
    "            self._dictonary[path_1][folder] = {}\n",
    "#             print(folder)\n",
    "            path_2, dirs_2, files_2 = next(os.walk(path_1 + folder))\n",
    "            for i, files in zip(range(len(files_2)), files_2):\n",
    "                self._dictonary[path_1][folder][i] = {files}\n",
    "#                 print(files) \n",
    "        \n",
    "    def rdm(self):\n",
    "        ### Zufälliger Ordner von Zeichen z.B. A oder B ###\n",
    "        dict_folders = list(self._dictonary[self._path].keys())\n",
    "        number_dict_folders = np.random.randint(len(dict_folders))\n",
    "        rdm_folder = np.random.randint(number_dict_folders)\n",
    "        dict_folder = dict_folders[rdm_folder]\n",
    "        \n",
    "        ### Zufälliges Bild von oben bestimmten Zeichen ###\n",
    "        dict_images = list(self._dictonary[self._path][dict_folder].keys())\n",
    "        number_dict_images = np.random.randint(len(dict_folders))\n",
    "        rdm_image = np.random.randint(number_dict_images)\n",
    "        dict_image = dict_image[rdm_image]\n",
    "        \n",
    "        ### Bild Pfad des Zeichens ###\n",
    "        place_image_path = self._path + dict_folder + '/' +  dict_image\n",
    "        with Image.open(filename) as image:\n",
    "            img = np.array(image)\n",
    "            x,y,z = img.shape\n",
    "            \n",
    "            # bild and placeit funktion übergeben !!!!\n",
    "        \n",
    "    def bb_intersection_over_union(boxA, boxB):\n",
    "        xA = max(boxA[0], boxB[0])\n",
    "        yA = max(boxA[1], boxB[1])\n",
    "        xB = min(boxA[2], boxB[2])\n",
    "        yB = min(boxA[3], boxB[3])\n",
    "        \n",
    "        # compute the area of intersection rectangle\n",
    "        interArea = max(0, xB - xA + 1) * max(0, yB - yA + 1)\n",
    "        # compute the area of both the prediction and ground-truth\n",
    "        # rectangles\n",
    "        boxAArea = (boxA[2] - boxA[0] + 1) * (boxA[3] - boxA[1] + 1)\n",
    "        boxBArea = (boxB[2] - boxB[0] + 1) * (boxB[3] - boxB[1] + 1)\n",
    "        # compute the intersection over union by taking the intersection\n",
    "        # area and dividing it by the sum of prediction + ground-truth\n",
    "        # areas - the interesection area\n",
    "        iou = interArea / float(boxAArea + boxBArea - interArea)\n",
    "        # return the intersection over union value\n",
    "        return iou\n",
    "    \n",
    "    def delete_dict(self):\n",
    "    \n",
    "    def get_head(self,folder,filename,path,width,height,depth):\n",
    "        string_head =   '<annotation>'\\\n",
    "                        '<folder>'+str(folder)+'</folder>'\\\n",
    "                        '<filename>'+str(filename)+'</filename>'\\\n",
    "                        '<path>'+str(path)+'</path>'\\\n",
    "                        '<source>'\\\n",
    "                        '<database>Unknown</database>'\\\n",
    "                        '</source>'\\\n",
    "                        '<size>'\\\n",
    "                            '<width>'+str(width)+'</width>'\\\n",
    "                            '<height>'+str(height)+'</height>'\\\n",
    "                            '<depth>'+str(depth)+'</depth>'\\\n",
    "                        '</size>'\\\n",
    "                        '<segmented>0</segmented>'\\\n",
    "                        '</annotation>'\n",
    "        return string_head\n",
    "\n",
    "    def get_body(self,name,xmin,ymin,xmax,ymax):\n",
    "        string_object = '<object>'\\\n",
    "                        '<name>'+str(name)+'</name>'\\\n",
    "                        '<pose>Unspecified</pose>'\\\n",
    "                        '<truncated>0</truncated>'\\\n",
    "                        '<difficult>0</difficult>'\\\n",
    "                        '<bndbox>'\\\n",
    "                            '<xmin>'+str(xmin)+'</xmin>'\\\n",
    "                            '<ymin>'+str(ymin)+'</ymin>'\\\n",
    "                            '<xmax>'+str(xmax)+'</xmax>'\\\n",
    "                            '<ymax>'+str(ymax)+'</ymax>'\\\n",
    "                            '</bndbox>'\\\n",
    "                        '</object>'\n",
    "        return string_body\n",
    "    \n",
    "    \n",
    "    def pretty_xml(self, string):\n",
    "        dom = xml.dom.minidom.parseString(string)\n",
    "        pretty_xml_as_string_body = dom.toprettyxml()\n",
    "        \n",
    "    \n",
    "    def add_strings(self):\n",
    "        \n",
    "        \n",
    "    def create_xml(self, image_name):\n",
    "        with open(image_name, \"w\") as file:\n",
    "        file.write(image_name)\n",
    "    \n",
    "    def placeIt(self, place_image_path):\n",
    "        PlaceIt.placeIt_counter += 1\n",
    "        if PlaceIt.placeIt_counter == 0:\n",
    "            segmented_image = copy.deepcopy(self._black)\n",
    "            x = np.random.randint(0,self._size)\n",
    "            y = np.random.randint(0,self._size)\n",
    "            self._black[:][:][:] = \n",
    "            \n",
    "        \n",
    "        \n",
    "        \n",
    "#     def create_xml(self):    \n",
    "#     def segmented_image(self):"
   ]
  },
  {
   "cell_type": "code",
   "execution_count": 36,
   "metadata": {},
   "outputs": [
    {
     "name": "stdout",
     "output_type": "stream",
     "text": [
      "{'C:/Users/User/Desktop/Test/GeneratedData/TailoredImages/': {'A_upperCase': {0: {'A_upperCase_arial_020191116_191829_31.BMP'}, 1: {'A_upperCase_arial_120191116_191830_32.BMP'}, 2: {'A_upperCase_arial_220191116_191830_33.BMP'}, 3: {'A_upperCase_arial_320191116_191830_34.BMP'}, 4: {'A_upperCase_arial_420191116_191830_35.BMP'}, 5: {'A_upperCase_DotsAllForNow_020191116_191830_36.BMP'}, 6: {'A_upperCase_DotsAllForNow_120191116_191830_37.BMP'}, 7: {'A_upperCase_DotsAllForNow_220191116_191830_38.BMP'}, 8: {'A_upperCase_DotsAllForNow_320191116_191830_39.BMP'}, 9: {'A_upperCase_DotsAllForNow_420191116_191830_40.BMP'}, 10: {'A_upperCase_MTCORSVA_020191116_191831_41.BMP'}, 11: {'A_upperCase_MTCORSVA_120191116_191831_42.BMP'}, 12: {'A_upperCase_MTCORSVA_220191116_191831_43.BMP'}, 13: {'A_upperCase_MTCORSVA_320191116_191831_44.BMP'}, 14: {'A_upperCase_MTCORSVA_420191116_191831_45.BMP'}}, 'B_upperCase': {0: {'B_upperCase_arial_020191116_191831_46.BMP'}, 1: {'B_upperCase_arial_120191116_191831_47.BMP'}, 2: {'B_upperCase_arial_220191116_191832_48.BMP'}, 3: {'B_upperCase_arial_320191116_191832_49.BMP'}, 4: {'B_upperCase_arial_420191116_191832_50.BMP'}, 5: {'B_upperCase_DotsAllForNow_020191116_191832_51.BMP'}, 6: {'B_upperCase_DotsAllForNow_120191116_191832_52.BMP'}, 7: {'B_upperCase_DotsAllForNow_220191116_191832_53.BMP'}, 8: {'B_upperCase_DotsAllForNow_320191116_191832_54.BMP'}, 9: {'B_upperCase_DotsAllForNow_420191116_191833_55.BMP'}, 10: {'B_upperCase_MTCORSVA_020191116_191833_56.BMP'}, 11: {'B_upperCase_MTCORSVA_120191116_191833_57.BMP'}, 12: {'B_upperCase_MTCORSVA_220191116_191833_58.BMP'}, 13: {'B_upperCase_MTCORSVA_320191116_191833_59.BMP'}, 14: {'B_upperCase_MTCORSVA_420191116_191833_60.BMP'}}}}\n"
     ]
    }
   ],
   "source": [
    "obj = PlaceIt('C:/Users/User/Desktop/Test/GeneratedData/TailoredImages/',512,3)\n",
    "print(obj._dict_images)"
   ]
  },
  {
   "cell_type": "code",
   "execution_count": null,
   "metadata": {},
   "outputs": [],
   "source": []
  },
  {
   "cell_type": "code",
   "execution_count": null,
   "metadata": {},
   "outputs": [],
   "source": []
  },
  {
   "cell_type": "code",
   "execution_count": 23,
   "metadata": {},
   "outputs": [
    {
     "name": "stdout",
     "output_type": "stream",
     "text": [
      "512 512 3\n"
     ]
    }
   ],
   "source": []
  },
  {
   "cell_type": "code",
   "execution_count": null,
   "metadata": {},
   "outputs": [],
   "source": [
    "\n",
    "\n",
    "\n",
    "  "
   ]
  },
  {
   "cell_type": "code",
   "execution_count": 1,
   "metadata": {},
   "outputs": [
    {
     "ename": "NameError",
     "evalue": "name 'dict_images' is not defined",
     "output_type": "error",
     "traceback": [
      "\u001b[1;31m---------------------------------------------------------------------------\u001b[0m",
      "\u001b[1;31mNameError\u001b[0m                                 Traceback (most recent call last)",
      "\u001b[1;32m<ipython-input-1-29469b940a8b>\u001b[0m in \u001b[0;36m<module>\u001b[1;34m()\u001b[0m\n\u001b[1;32m----> 1\u001b[1;33m \u001b[0mprint\u001b[0m\u001b[1;33m(\u001b[0m\u001b[0mdict_images\u001b[0m\u001b[1;33m[\u001b[0m\u001b[0mpath_1\u001b[0m\u001b[1;33m]\u001b[0m\u001b[1;33m[\u001b[0m\u001b[1;34m'A_upperCase'\u001b[0m\u001b[1;33m]\u001b[0m\u001b[1;33m)\u001b[0m\u001b[1;33m\u001b[0m\u001b[0m\n\u001b[0m\u001b[0;32m      2\u001b[0m \u001b[0ma\u001b[0m \u001b[1;33m=\u001b[0m \u001b[0mlist\u001b[0m\u001b[1;33m(\u001b[0m\u001b[0mdict_images\u001b[0m\u001b[1;33m.\u001b[0m\u001b[0mkeys\u001b[0m\u001b[1;33m(\u001b[0m\u001b[1;33m)\u001b[0m\u001b[1;33m)\u001b[0m\u001b[1;33m\u001b[0m\u001b[0m\n\u001b[0;32m      3\u001b[0m \u001b[0mb\u001b[0m \u001b[1;33m=\u001b[0m \u001b[0mlist\u001b[0m\u001b[1;33m(\u001b[0m\u001b[0mdict_images\u001b[0m\u001b[1;33m[\u001b[0m\u001b[0mpath_1\u001b[0m\u001b[1;33m]\u001b[0m\u001b[1;33m.\u001b[0m\u001b[0mkeys\u001b[0m\u001b[1;33m(\u001b[0m\u001b[1;33m)\u001b[0m\u001b[1;33m)\u001b[0m\u001b[1;33m\u001b[0m\u001b[0m\n\u001b[0;32m      4\u001b[0m \u001b[0mc\u001b[0m \u001b[1;33m=\u001b[0m \u001b[0mlist\u001b[0m\u001b[1;33m(\u001b[0m\u001b[0mdict_images\u001b[0m\u001b[1;33m[\u001b[0m\u001b[0mpath_1\u001b[0m\u001b[1;33m]\u001b[0m\u001b[1;33m[\u001b[0m\u001b[1;34m'A_upperCase'\u001b[0m\u001b[1;33m]\u001b[0m\u001b[1;33m.\u001b[0m\u001b[0mkeys\u001b[0m\u001b[1;33m(\u001b[0m\u001b[1;33m)\u001b[0m\u001b[1;33m)\u001b[0m\u001b[1;33m\u001b[0m\u001b[0m\n\u001b[0;32m      5\u001b[0m \u001b[0mprint\u001b[0m\u001b[1;33m(\u001b[0m\u001b[0ma\u001b[0m\u001b[1;33m)\u001b[0m\u001b[1;33m\u001b[0m\u001b[0m\n",
      "\u001b[1;31mNameError\u001b[0m: name 'dict_images' is not defined"
     ]
    }
   ],
   "source": [
    "print(dict_images[path_1]['A_upperCase'])\n",
    "a = list(dict_images.keys())\n",
    "b = list(dict_images[path_1].keys())\n",
    "c = list(dict_images[path_1]['A_upperCase'].keys())\n",
    "print(a)\n",
    "print(b)\n",
    "print(c)\n",
    "print(len(c))\n",
    "d = np.random.randint(len(c))\n",
    "print(d)\n",
    "print(dict_images[path_1]['A_upperCase'][d])"
   ]
  },
  {
   "cell_type": "code",
   "execution_count": null,
   "metadata": {},
   "outputs": [],
   "source": []
  }
 ],
 "metadata": {
  "kernelspec": {
   "display_name": "Python 3",
   "language": "python",
   "name": "python3"
  },
  "language_info": {
   "codemirror_mode": {
    "name": "ipython",
    "version": 3
   },
   "file_extension": ".py",
   "mimetype": "text/x-python",
   "name": "python",
   "nbconvert_exporter": "python",
   "pygments_lexer": "ipython3",
   "version": "3.6.4"
  }
 },
 "nbformat": 4,
 "nbformat_minor": 2
}
