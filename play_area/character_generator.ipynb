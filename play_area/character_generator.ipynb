{
 "cells": [
  {
   "cell_type": "code",
   "execution_count": 1,
   "metadata": {},
   "outputs": [],
   "source": [
    "from PIL import Image, ImageDraw, ImageFont  \n",
    "import numpy as np\n",
    "import matplotlib.pyplot as plt\n",
    "from copy import copy, deepcopy\n",
    "from scipy import interpolate\n",
    "import cv2 \n",
    "from scipy.integrate import quad\n",
    "from scipy.misc import derivative\n",
    "import sympy as sp\n",
    "import math\n",
    "from math import sqrt, pi\n",
    "# from scipy import integrate\n",
    "from sympy import integrate, Symbol \n",
    "import scipy.integrate as spi"
   ]
  },
  {
   "cell_type": "code",
   "execution_count": 47,
   "metadata": {},
   "outputs": [],
   "source": [
    "# Parameters\n",
    "font_type = 'C:/Windows/Fonts/Calibri/calibrib.ttf'\n",
    "font_size = 49 # 49\n",
    "character = 'A'\n",
    "threshold_binarisation = 100"
   ]
  },
  {
   "cell_type": "code",
   "execution_count": 48,
   "metadata": {},
   "outputs": [],
   "source": [
    "# Befehl muss zweimal ausgeführt werden (komisch)\n",
    "%matplotlib qt\n",
    "%matplotlib qt"
   ]
  },
  {
   "cell_type": "code",
   "execution_count": 49,
   "metadata": {},
   "outputs": [
    {
     "name": "stdout",
     "output_type": "stream",
     "text": [
      "50 50 3\n",
      "<class 'numpy.ndarray'>\n"
     ]
    }
   ],
   "source": [
    "img = Image.new('RGB', (50, 50), color = (0, 0, 0))   # (50,50)  \n",
    "fnt = ImageFont.truetype(font_type, font_size)\n",
    "d = ImageDraw.Draw(img)\n",
    "d.text((0,0), character, font=fnt, fill=(255, 255, 255))\n",
    "# img.show() \n",
    "# img.save('pil_text_font.bmp')\n",
    "img = np.array(img)\n",
    "plt.figure('img')\n",
    "plt.imshow(img)\n",
    "x,y,z = np.shape(img)\n",
    "print(x,y,z)\n",
    "img[img<threshold_binarisation] = 0\n",
    "plt.figure('asdfasdf')\n",
    "plt.imshow(img)\n",
    "print(type(img))"
   ]
  },
  {
   "cell_type": "code",
   "execution_count": 32,
   "metadata": {},
   "outputs": [],
   "source": [
    "def image_rect(img):\n",
    "    img_rect = deepcopy(img)\n",
    "    x, y, w, h = cv2.boundingRect(img_rect[:,:,0])\n",
    "    # print(x, y, w, h)\n",
    "    x_min = x-1\n",
    "    y_min = y-1\n",
    "    x_max = x+w\n",
    "    y_max = y+h\n",
    "    cv2.rectangle(img_rect, (x_min, y_min), (x_max, y_max), (0, 255, 0), 0)   # img wird überschrieben\n",
    "    img_without_boundary = img_rect[y:y_max, x:x_max, :]\n",
    "    return img_without_boundary"
   ]
  },
  {
   "cell_type": "code",
   "execution_count": 33,
   "metadata": {},
   "outputs": [
    {
     "data": {
      "text/plain": [
       "<matplotlib.image.AxesImage at 0x111358d0>"
      ]
     },
     "execution_count": 33,
     "metadata": {},
     "output_type": "execute_result"
    }
   ],
   "source": [
    "# img.astype(np.float32)\n",
    "# img.astype(np.uint8)\n",
    "# get the bounding rect\n",
    "img_rect = deepcopy(img)\n",
    "x, y, w, h = cv2.boundingRect(img_rect[:,:,0])\n",
    "# print(x, y, w, h)\n",
    "x_min = x-1\n",
    "y_min = y-1\n",
    "x_max = x+w\n",
    "y_max = y+h\n",
    "cv2.rectangle(img_rect, (x_min, y_min), (x_max, y_max), (0, 255, 0), 0)   # img wird überschrieben\n",
    "plt.figure('img_rect')\n",
    "plt.imshow(img_rect/255)"
   ]
  },
  {
   "cell_type": "code",
   "execution_count": 27,
   "metadata": {},
   "outputs": [
    {
     "ename": "IndexError",
     "evalue": "too many indices for array",
     "output_type": "error",
     "traceback": [
      "\u001b[1;31m---------------------------------------------------------------------------\u001b[0m",
      "\u001b[1;31mIndexError\u001b[0m                                Traceback (most recent call last)",
      "\u001b[1;32m<ipython-input-27-a289100ae261>\u001b[0m in \u001b[0;36m<module>\u001b[1;34m()\u001b[0m\n\u001b[1;32m----> 1\u001b[1;33m \u001b[0mimg_without_boundary\u001b[0m \u001b[1;33m=\u001b[0m \u001b[0mimg_rect\u001b[0m\u001b[1;33m[\u001b[0m\u001b[0my\u001b[0m\u001b[1;33m:\u001b[0m\u001b[0my_max\u001b[0m\u001b[1;33m,\u001b[0m \u001b[0mx\u001b[0m\u001b[1;33m:\u001b[0m\u001b[0mx_max\u001b[0m\u001b[1;33m,\u001b[0m\u001b[1;33m:\u001b[0m\u001b[1;33m]\u001b[0m\u001b[1;33m\u001b[0m\u001b[0m\n\u001b[0m\u001b[0;32m      2\u001b[0m \u001b[0mplt\u001b[0m\u001b[1;33m.\u001b[0m\u001b[0mfigure\u001b[0m\u001b[1;33m(\u001b[0m\u001b[1;34m'img_without_boundary'\u001b[0m\u001b[1;33m)\u001b[0m\u001b[1;33m\u001b[0m\u001b[0m\n\u001b[0;32m      3\u001b[0m \u001b[0mplt\u001b[0m\u001b[1;33m.\u001b[0m\u001b[0mimshow\u001b[0m\u001b[1;33m(\u001b[0m\u001b[0mimg_without_boundary\u001b[0m\u001b[1;33m/\u001b[0m\u001b[1;36m255\u001b[0m\u001b[1;33m)\u001b[0m\u001b[1;33m\u001b[0m\u001b[0m\n",
      "\u001b[1;31mIndexError\u001b[0m: too many indices for array"
     ]
    }
   ],
   "source": [
    "img_without_boundary = img_rect[y:y_max, x:x_max,:]\n",
    "plt.figure('img_without_boundary')\n",
    "plt.imshow(img_without_boundary/255)"
   ]
  },
  {
   "cell_type": "code",
   "execution_count": 42,
   "metadata": {
    "scrolled": true
   },
   "outputs": [],
   "source": [
    "# print(img_without_boundary)\n",
    "y_img_without_boundary, x_img_without_boundary, z_img_without_boundary = np.shape(img_without_boundary)\n",
    "# print(y_img_without_boundary, x_img_without_boundary, z_img_without_boundary)"
   ]
  },
  {
   "cell_type": "code",
   "execution_count": 43,
   "metadata": {
    "scrolled": true
   },
   "outputs": [],
   "source": [
    "tmp_x_min = int(-1*x_img_without_boundary/2)\n",
    "tmp_x_max = int(np.ceil(x_img_without_boundary/2))\n",
    "tmp_y_min = int(-1*y_img_without_boundary/2)\n",
    "tmp_y_max = int(np.ceil(y_img_without_boundary/2))\n",
    "# print(tmp_x_min)\n",
    "# print(tmp_x_max)\n",
    "# print(tmp_y_min)\n",
    "# print(tmp_y_max)\n",
    "x_mesh = np.arange(tmp_x_min, tmp_x_max, 1)\n",
    "y_mesh = np.arange(tmp_y_min, tmp_y_max, 1)\n",
    "# print(x_mesh)\n",
    "# print(y_mesh)\n",
    "xx, yy = np.meshgrid(x_mesh, np.flip(y_mesh,0), sparse=True)\n",
    "yy = yy*1j\n",
    "z = (yy+xx)\n",
    "# print(z)\n",
    "q = np.pi/180\n",
    "c_meshgrid = 0.5*z.imag*1j + 2*z.real  # (z*np.cos(q)-np.sin(q)) / (z*np.sin(q)+np.cos(q*5))\n",
    "# print(c_meshgrid)\n",
    "y_meshgrid, x_meshgrid = c_meshgrid.shape\n",
    "# print(y_meshgrid, x_meshgrid)\n",
    "# c_meshgrid_reshape = c_meshgrid.reshape((y_meshgrid,x_meshgrid,1))"
   ]
  },
  {
   "cell_type": "code",
   "execution_count": 44,
   "metadata": {},
   "outputs": [],
   "source": [
    "c_meshgrid_mask = deepcopy(c_meshgrid)\n",
    "max_real_meshgrid_mask = int(np.max(c_meshgrid_mask.real))\n",
    "max_imag_meshgrid_mask = int(np.max(c_meshgrid_mask.imag))\n",
    "min_real_meshgrid_mask = int(np.min(c_meshgrid_mask.real))\n",
    "min_imag_meshgrid_mask = int(np.min(c_meshgrid_mask.imag))\n",
    "# print(max_real_meshgrid_mask)\n",
    "# print(max_imag_meshgrid_mask)\n",
    "# print(min_real_meshgrid_mask)\n",
    "# print(min_imag_meshgrid_mask)\n",
    "# print(c_meshgrid_mask.shape)"
   ]
  },
  {
   "cell_type": "code",
   "execution_count": 45,
   "metadata": {},
   "outputs": [],
   "source": [
    "z_transform = np.array(np.zeros((max_imag_meshgrid_mask+1-min_imag_meshgrid_mask, max_real_meshgrid_mask-min_real_meshgrid_mask+1, 3)))\n",
    "y_z_transform, x_z_transform, z_z_transform = z_transform.shape\n",
    "# print(z_transform)\n",
    "# print(y_z_transform, x_z_transform, z_z_transform)"
   ]
  },
  {
   "cell_type": "code",
   "execution_count": 46,
   "metadata": {},
   "outputs": [],
   "source": [
    "for i in range(y_meshgrid):\n",
    "    for j in range(x_meshgrid):\n",
    "        for k in range(3):\n",
    "            z_transform[int(max_imag_meshgrid_mask-c_meshgrid_mask[i,j].imag), int(c_meshgrid_mask[i,j].real-min_real_meshgrid_mask),:] = img_without_boundary[i,j,k]\n",
    "        \n",
    "#   Für Y-Achse => max-y\n",
    "#   Für X-Achse => x-min"
   ]
  },
  {
   "cell_type": "code",
   "execution_count": 47,
   "metadata": {},
   "outputs": [
    {
     "name": "stdout",
     "output_type": "stream",
     "text": [
      "(15, 55, 3)\n",
      "(31, 28, 3)\n"
     ]
    }
   ],
   "source": [
    "print(z_transform.shape)\n",
    "print(img_without_boundary.shape)"
   ]
  },
  {
   "cell_type": "code",
   "execution_count": 48,
   "metadata": {},
   "outputs": [
    {
     "data": {
      "text/plain": [
       "<matplotlib.image.AxesImage at 0xbff8fd0>"
      ]
     },
     "execution_count": 48,
     "metadata": {},
     "output_type": "execute_result"
    }
   ],
   "source": [
    "plt.figure('transformation')\n",
    "plt.imshow(z_transform/255)"
   ]
  },
  {
   "cell_type": "markdown",
   "metadata": {},
   "source": [
    "# Without complex numbers <br>"
   ]
  },
  {
   "cell_type": "code",
   "execution_count": 49,
   "metadata": {},
   "outputs": [
    {
     "name": "stdout",
     "output_type": "stream",
     "text": [
      "31 28 3\n"
     ]
    }
   ],
   "source": [
    "plt.figure('img_without_boundary')\n",
    "plt.imshow(img_without_boundary/255)\n",
    "y_img, x_img, z_img = img_without_boundary.shape\n",
    "print(y_img, x_img, z_img)"
   ]
  },
  {
   "cell_type": "code",
   "execution_count": 50,
   "metadata": {},
   "outputs": [],
   "source": [
    "# setting the x - coordinates \n",
    "x_plot = np.arange(-1*x_img/2, x_img/2 , 0.1) \n",
    "# print(x_plot)\n",
    "# setting the corresponding y - coordinates \n",
    "# potting the points \n",
    "f_plot = x_plot\n",
    "plt.figure('plot')\n",
    "plt.plot(x_plot, f_plot)\n",
    "plt.grid(True)\n",
    "# function to show the plot \n",
    "plt.show() "
   ]
  },
  {
   "cell_type": "code",
   "execution_count": 51,
   "metadata": {},
   "outputs": [
    {
     "name": "stdout",
     "output_type": "stream",
     "text": [
      "<class 'sympy.core.mul.Mul'>\n",
      "2*x\n",
      "<class 'sympy.core.mul.Mul'>\n"
     ]
    },
    {
     "ename": "TypeError",
     "evalue": "can't convert expression to float",
     "output_type": "error",
     "traceback": [
      "\u001b[1;31m---------------------------------------------------------------------------\u001b[0m",
      "\u001b[1;31mTypeError\u001b[0m                                 Traceback (most recent call last)",
      "\u001b[1;32m<ipython-input-51-318f65e171f8>\u001b[0m in \u001b[0;36m<module>\u001b[1;34m()\u001b[0m\n\u001b[0;32m     15\u001b[0m     \u001b[1;32mreturn\u001b[0m \u001b[0mx\u001b[0m\u001b[1;33m\u001b[0m\u001b[0m\n\u001b[0;32m     16\u001b[0m \u001b[1;33m\u001b[0m\u001b[0m\n\u001b[1;32m---> 17\u001b[1;33m \u001b[0mtmp\u001b[0m \u001b[1;33m=\u001b[0m \u001b[0mintegrate\u001b[0m\u001b[1;33m.\u001b[0m\u001b[0mquad\u001b[0m\u001b[1;33m(\u001b[0m\u001b[1;32mlambda\u001b[0m \u001b[0mx\u001b[0m\u001b[1;33m:\u001b[0m \u001b[0msp\u001b[0m\u001b[1;33m.\u001b[0m\u001b[0mSymbol\u001b[0m\u001b[1;33m(\u001b[0m\u001b[1;34m'f_derviate'\u001b[0m\u001b[1;33m)\u001b[0m\u001b[1;33m,\u001b[0m\u001b[1;36m0\u001b[0m\u001b[1;33m,\u001b[0m\u001b[1;36m1\u001b[0m\u001b[1;33m)\u001b[0m\u001b[1;33m\u001b[0m\u001b[0m\n\u001b[0m\u001b[0;32m     18\u001b[0m \u001b[0mprint\u001b[0m\u001b[1;33m(\u001b[0m\u001b[0mtype\u001b[0m\u001b[1;33m(\u001b[0m\u001b[0mtmp\u001b[0m\u001b[1;33m)\u001b[0m\u001b[1;33m)\u001b[0m\u001b[1;33m\u001b[0m\u001b[0m\n",
      "\u001b[1;32mC:\\Users\\User\\Anaconda3\\lib\\site-packages\\scipy\\integrate\\quadpack.py\u001b[0m in \u001b[0;36mquad\u001b[1;34m(func, a, b, args, full_output, epsabs, epsrel, limit, points, weight, wvar, wopts, maxp1, limlst)\u001b[0m\n\u001b[0;32m    321\u001b[0m     \u001b[1;32mif\u001b[0m \u001b[1;33m(\u001b[0m\u001b[0mweight\u001b[0m \u001b[1;32mis\u001b[0m \u001b[1;32mNone\u001b[0m\u001b[1;33m)\u001b[0m\u001b[1;33m:\u001b[0m\u001b[1;33m\u001b[0m\u001b[0m\n\u001b[0;32m    322\u001b[0m         retval = _quad(func, a, b, args, full_output, epsabs, epsrel, limit,\n\u001b[1;32m--> 323\u001b[1;33m                        points)\n\u001b[0m\u001b[0;32m    324\u001b[0m     \u001b[1;32melse\u001b[0m\u001b[1;33m:\u001b[0m\u001b[1;33m\u001b[0m\u001b[0m\n\u001b[0;32m    325\u001b[0m         retval = _quad_weight(func, a, b, args, full_output, epsabs, epsrel,\n",
      "\u001b[1;32mC:\\Users\\User\\Anaconda3\\lib\\site-packages\\scipy\\integrate\\quadpack.py\u001b[0m in \u001b[0;36m_quad\u001b[1;34m(func, a, b, args, full_output, epsabs, epsrel, limit, points)\u001b[0m\n\u001b[0;32m    386\u001b[0m     \u001b[1;32mif\u001b[0m \u001b[0mpoints\u001b[0m \u001b[1;32mis\u001b[0m \u001b[1;32mNone\u001b[0m\u001b[1;33m:\u001b[0m\u001b[1;33m\u001b[0m\u001b[0m\n\u001b[0;32m    387\u001b[0m         \u001b[1;32mif\u001b[0m \u001b[0minfbounds\u001b[0m \u001b[1;33m==\u001b[0m \u001b[1;36m0\u001b[0m\u001b[1;33m:\u001b[0m\u001b[1;33m\u001b[0m\u001b[0m\n\u001b[1;32m--> 388\u001b[1;33m             \u001b[1;32mreturn\u001b[0m \u001b[0m_quadpack\u001b[0m\u001b[1;33m.\u001b[0m\u001b[0m_qagse\u001b[0m\u001b[1;33m(\u001b[0m\u001b[0mfunc\u001b[0m\u001b[1;33m,\u001b[0m\u001b[0ma\u001b[0m\u001b[1;33m,\u001b[0m\u001b[0mb\u001b[0m\u001b[1;33m,\u001b[0m\u001b[0margs\u001b[0m\u001b[1;33m,\u001b[0m\u001b[0mfull_output\u001b[0m\u001b[1;33m,\u001b[0m\u001b[0mepsabs\u001b[0m\u001b[1;33m,\u001b[0m\u001b[0mepsrel\u001b[0m\u001b[1;33m,\u001b[0m\u001b[0mlimit\u001b[0m\u001b[1;33m)\u001b[0m\u001b[1;33m\u001b[0m\u001b[0m\n\u001b[0m\u001b[0;32m    389\u001b[0m         \u001b[1;32melse\u001b[0m\u001b[1;33m:\u001b[0m\u001b[1;33m\u001b[0m\u001b[0m\n\u001b[0;32m    390\u001b[0m             \u001b[1;32mreturn\u001b[0m \u001b[0m_quadpack\u001b[0m\u001b[1;33m.\u001b[0m\u001b[0m_qagie\u001b[0m\u001b[1;33m(\u001b[0m\u001b[0mfunc\u001b[0m\u001b[1;33m,\u001b[0m\u001b[0mbound\u001b[0m\u001b[1;33m,\u001b[0m\u001b[0minfbounds\u001b[0m\u001b[1;33m,\u001b[0m\u001b[0margs\u001b[0m\u001b[1;33m,\u001b[0m\u001b[0mfull_output\u001b[0m\u001b[1;33m,\u001b[0m\u001b[0mepsabs\u001b[0m\u001b[1;33m,\u001b[0m\u001b[0mepsrel\u001b[0m\u001b[1;33m,\u001b[0m\u001b[0mlimit\u001b[0m\u001b[1;33m)\u001b[0m\u001b[1;33m\u001b[0m\u001b[0m\n",
      "\u001b[1;32mC:\\Users\\User\\Anaconda3\\lib\\site-packages\\sympy\\core\\expr.py\u001b[0m in \u001b[0;36m__float__\u001b[1;34m(self)\u001b[0m\n\u001b[0;32m    237\u001b[0m         \u001b[1;32mif\u001b[0m \u001b[0mresult\u001b[0m\u001b[1;33m.\u001b[0m\u001b[0mis_number\u001b[0m \u001b[1;32mand\u001b[0m \u001b[0mresult\u001b[0m\u001b[1;33m.\u001b[0m\u001b[0mas_real_imag\u001b[0m\u001b[1;33m(\u001b[0m\u001b[1;33m)\u001b[0m\u001b[1;33m[\u001b[0m\u001b[1;36m1\u001b[0m\u001b[1;33m]\u001b[0m\u001b[1;33m:\u001b[0m\u001b[1;33m\u001b[0m\u001b[0m\n\u001b[0;32m    238\u001b[0m             \u001b[1;32mraise\u001b[0m \u001b[0mTypeError\u001b[0m\u001b[1;33m(\u001b[0m\u001b[1;34m\"can't convert complex to float\"\u001b[0m\u001b[1;33m)\u001b[0m\u001b[1;33m\u001b[0m\u001b[0m\n\u001b[1;32m--> 239\u001b[1;33m         \u001b[1;32mraise\u001b[0m \u001b[0mTypeError\u001b[0m\u001b[1;33m(\u001b[0m\u001b[1;34m\"can't convert expression to float\"\u001b[0m\u001b[1;33m)\u001b[0m\u001b[1;33m\u001b[0m\u001b[0m\n\u001b[0m\u001b[0;32m    240\u001b[0m \u001b[1;33m\u001b[0m\u001b[0m\n\u001b[0;32m    241\u001b[0m     \u001b[1;32mdef\u001b[0m \u001b[0m__complex__\u001b[0m\u001b[1;33m(\u001b[0m\u001b[0mself\u001b[0m\u001b[1;33m)\u001b[0m\u001b[1;33m:\u001b[0m\u001b[1;33m\u001b[0m\u001b[0m\n",
      "\u001b[1;31mTypeError\u001b[0m: can't convert expression to float"
     ]
    }
   ],
   "source": [
    "import scipy.integrate as integrate\n",
    "x = sp.Symbol('x')  \n",
    "f = x**2\n",
    "# shift half pixel to the right \n",
    "f_derviate = sp.diff(f) \n",
    "print(type(f_derviate)) \n",
    "# func = sp.Symbol(str(f_derviate))\n",
    "func = f_derviate\n",
    "print(func)\n",
    "print(type(func))\n",
    "\n",
    "u = np.zeros((10, 3), dtype=sp.Symbol)\n",
    "\n",
    "def get_function(x):\n",
    "    return x\n",
    "\n",
    "tmp = integrate.quad(lambda x: sp.Symbol('f_derviate'),0,1)\n",
    "print(type(tmp))"
   ]
  },
  {
   "cell_type": "code",
   "execution_count": 52,
   "metadata": {},
   "outputs": [],
   "source": [
    "# https://www.youtube.com/watch?v=QAqadzwo19Q\n",
    "# a = quad(lambda x: sqrt(x**2+1),0,5)\n",
    "# print(type(x))\n",
    "# print(a)\n",
    "# print(type(float(a[0])))"
   ]
  },
  {
   "cell_type": "code",
   "execution_count": 53,
   "metadata": {},
   "outputs": [
    {
     "ename": "TypeError",
     "evalue": "can't convert complex to float",
     "output_type": "error",
     "traceback": [
      "\u001b[1;31m---------------------------------------------------------------------------\u001b[0m",
      "\u001b[1;31mTypeError\u001b[0m                                 Traceback (most recent call last)",
      "\u001b[1;32m<ipython-input-53-918ed23b905e>\u001b[0m in \u001b[0;36m<module>\u001b[1;34m()\u001b[0m\n\u001b[0;32m      2\u001b[0m \u001b[1;32mfor\u001b[0m \u001b[0mi\u001b[0m \u001b[1;32min\u001b[0m \u001b[0mrange\u001b[0m\u001b[1;33m(\u001b[0m\u001b[1;36m0\u001b[0m\u001b[1;33m,\u001b[0m\u001b[0mmath\u001b[0m\u001b[1;33m.\u001b[0m\u001b[0mceil\u001b[0m\u001b[1;33m(\u001b[0m\u001b[0mx_img\u001b[0m\u001b[1;33m/\u001b[0m\u001b[1;36m2\u001b[0m\u001b[1;33m)\u001b[0m\u001b[1;33m)\u001b[0m\u001b[1;33m:\u001b[0m\u001b[1;33m\u001b[0m\u001b[0m\n\u001b[0;32m      3\u001b[0m     \u001b[0mfunction\u001b[0m \u001b[1;33m=\u001b[0m \u001b[1;32mlambda\u001b[0m \u001b[0mx\u001b[0m\u001b[1;33m:\u001b[0m \u001b[0md\u001b[0m\u001b[1;33m\u001b[0m\u001b[0m\n\u001b[1;32m----> 4\u001b[1;33m     \u001b[0mtmp\u001b[0m \u001b[1;33m=\u001b[0m \u001b[0mquad\u001b[0m\u001b[1;33m(\u001b[0m\u001b[0mget_function\u001b[0m\u001b[1;33m(\u001b[0m\u001b[0mx\u001b[0m\u001b[1;33m)\u001b[0m\u001b[1;33m,\u001b[0m\u001b[1;36m0\u001b[0m\u001b[1;33m,\u001b[0m\u001b[1;36m2\u001b[0m\u001b[1;33m)\u001b[0m\u001b[1;33m\u001b[0m\u001b[0m\n\u001b[0m\u001b[0;32m      5\u001b[0m \u001b[1;33m\u001b[0m\u001b[0m\n\u001b[0;32m      6\u001b[0m \u001b[1;33m\u001b[0m\u001b[0m\n",
      "\u001b[1;32mC:\\Users\\User\\Anaconda3\\lib\\site-packages\\scipy\\integrate\\quadpack.py\u001b[0m in \u001b[0;36mquad\u001b[1;34m(func, a, b, args, full_output, epsabs, epsrel, limit, points, weight, wvar, wopts, maxp1, limlst)\u001b[0m\n\u001b[0;32m    321\u001b[0m     \u001b[1;32mif\u001b[0m \u001b[1;33m(\u001b[0m\u001b[0mweight\u001b[0m \u001b[1;32mis\u001b[0m \u001b[1;32mNone\u001b[0m\u001b[1;33m)\u001b[0m\u001b[1;33m:\u001b[0m\u001b[1;33m\u001b[0m\u001b[0m\n\u001b[0;32m    322\u001b[0m         retval = _quad(func, a, b, args, full_output, epsabs, epsrel, limit,\n\u001b[1;32m--> 323\u001b[1;33m                        points)\n\u001b[0m\u001b[0;32m    324\u001b[0m     \u001b[1;32melse\u001b[0m\u001b[1;33m:\u001b[0m\u001b[1;33m\u001b[0m\u001b[0m\n\u001b[0;32m    325\u001b[0m         retval = _quad_weight(func, a, b, args, full_output, epsabs, epsrel,\n",
      "\u001b[1;32mC:\\Users\\User\\Anaconda3\\lib\\site-packages\\scipy\\integrate\\quadpack.py\u001b[0m in \u001b[0;36m_quad\u001b[1;34m(func, a, b, args, full_output, epsabs, epsrel, limit, points)\u001b[0m\n\u001b[0;32m    386\u001b[0m     \u001b[1;32mif\u001b[0m \u001b[0mpoints\u001b[0m \u001b[1;32mis\u001b[0m \u001b[1;32mNone\u001b[0m\u001b[1;33m:\u001b[0m\u001b[1;33m\u001b[0m\u001b[0m\n\u001b[0;32m    387\u001b[0m         \u001b[1;32mif\u001b[0m \u001b[0minfbounds\u001b[0m \u001b[1;33m==\u001b[0m \u001b[1;36m0\u001b[0m\u001b[1;33m:\u001b[0m\u001b[1;33m\u001b[0m\u001b[0m\n\u001b[1;32m--> 388\u001b[1;33m             \u001b[1;32mreturn\u001b[0m \u001b[0m_quadpack\u001b[0m\u001b[1;33m.\u001b[0m\u001b[0m_qagse\u001b[0m\u001b[1;33m(\u001b[0m\u001b[0mfunc\u001b[0m\u001b[1;33m,\u001b[0m\u001b[0ma\u001b[0m\u001b[1;33m,\u001b[0m\u001b[0mb\u001b[0m\u001b[1;33m,\u001b[0m\u001b[0margs\u001b[0m\u001b[1;33m,\u001b[0m\u001b[0mfull_output\u001b[0m\u001b[1;33m,\u001b[0m\u001b[0mepsabs\u001b[0m\u001b[1;33m,\u001b[0m\u001b[0mepsrel\u001b[0m\u001b[1;33m,\u001b[0m\u001b[0mlimit\u001b[0m\u001b[1;33m)\u001b[0m\u001b[1;33m\u001b[0m\u001b[0m\n\u001b[0m\u001b[0;32m    389\u001b[0m         \u001b[1;32melse\u001b[0m\u001b[1;33m:\u001b[0m\u001b[1;33m\u001b[0m\u001b[0m\n\u001b[0;32m    390\u001b[0m             \u001b[1;32mreturn\u001b[0m \u001b[0m_quadpack\u001b[0m\u001b[1;33m.\u001b[0m\u001b[0m_qagie\u001b[0m\u001b[1;33m(\u001b[0m\u001b[0mfunc\u001b[0m\u001b[1;33m,\u001b[0m\u001b[0mbound\u001b[0m\u001b[1;33m,\u001b[0m\u001b[0minfbounds\u001b[0m\u001b[1;33m,\u001b[0m\u001b[0margs\u001b[0m\u001b[1;33m,\u001b[0m\u001b[0mfull_output\u001b[0m\u001b[1;33m,\u001b[0m\u001b[0mepsabs\u001b[0m\u001b[1;33m,\u001b[0m\u001b[0mepsrel\u001b[0m\u001b[1;33m,\u001b[0m\u001b[0mlimit\u001b[0m\u001b[1;33m)\u001b[0m\u001b[1;33m\u001b[0m\u001b[0m\n",
      "\u001b[1;32mC:\\Users\\User\\Anaconda3\\lib\\site-packages\\sympy\\core\\expr.py\u001b[0m in \u001b[0;36m__float__\u001b[1;34m(self)\u001b[0m\n\u001b[0;32m    236\u001b[0m             \u001b[1;32mreturn\u001b[0m \u001b[0mfloat\u001b[0m\u001b[1;33m(\u001b[0m\u001b[0mresult\u001b[0m\u001b[1;33m)\u001b[0m\u001b[1;33m\u001b[0m\u001b[0m\n\u001b[0;32m    237\u001b[0m         \u001b[1;32mif\u001b[0m \u001b[0mresult\u001b[0m\u001b[1;33m.\u001b[0m\u001b[0mis_number\u001b[0m \u001b[1;32mand\u001b[0m \u001b[0mresult\u001b[0m\u001b[1;33m.\u001b[0m\u001b[0mas_real_imag\u001b[0m\u001b[1;33m(\u001b[0m\u001b[1;33m)\u001b[0m\u001b[1;33m[\u001b[0m\u001b[1;36m1\u001b[0m\u001b[1;33m]\u001b[0m\u001b[1;33m:\u001b[0m\u001b[1;33m\u001b[0m\u001b[0m\n\u001b[1;32m--> 238\u001b[1;33m             \u001b[1;32mraise\u001b[0m \u001b[0mTypeError\u001b[0m\u001b[1;33m(\u001b[0m\u001b[1;34m\"can't convert complex to float\"\u001b[0m\u001b[1;33m)\u001b[0m\u001b[1;33m\u001b[0m\u001b[0m\n\u001b[0m\u001b[0;32m    239\u001b[0m         \u001b[1;32mraise\u001b[0m \u001b[0mTypeError\u001b[0m\u001b[1;33m(\u001b[0m\u001b[1;34m\"can't convert expression to float\"\u001b[0m\u001b[1;33m)\u001b[0m\u001b[1;33m\u001b[0m\u001b[0m\n\u001b[0;32m    240\u001b[0m \u001b[1;33m\u001b[0m\u001b[0m\n",
      "\u001b[1;31mTypeError\u001b[0m: can't convert complex to float"
     ]
    }
   ],
   "source": [
    "index = np.array(np.zeros((1,40)))\n",
    "for i in range(0,math.ceil(x_img/2)):\n",
    "    function = lambda x: d\n",
    "    tmp = quad(get_function(x),0,2)\n",
    "    \n",
    "    \n",
    "#     index[0,i] = round(float(tmp[0]))\n",
    "#     print(index[0,i])\n",
    "#     if index[0,i] >= math.ceil(x_img/2):\n",
    "#         break\n",
    "\n",
    "#     print(index[0,i])\n",
    "#     print(type(index[0,0]))\n",
    "\n",
    "print(tmp[0])"
   ]
  },
  {
   "cell_type": "code",
   "execution_count": 54,
   "metadata": {},
   "outputs": [
    {
     "name": "stdout",
     "output_type": "stream",
     "text": [
      "-1\n",
      "14.0\n"
     ]
    }
   ],
   "source": [
    "max_value = i-1 \n",
    "print(max_value)\n",
    "print(x_img/2)"
   ]
  },
  {
   "cell_type": "code",
   "execution_count": 55,
   "metadata": {},
   "outputs": [
    {
     "name": "stdout",
     "output_type": "stream",
     "text": [
      "(31, 28, 3)\n"
     ]
    },
    {
     "data": {
      "text/plain": [
       "<matplotlib.image.AxesImage at 0xbc69128>"
      ]
     },
     "execution_count": 55,
     "metadata": {},
     "output_type": "execute_result"
    }
   ],
   "source": [
    "empty_field = np.array(np.zeros((y_img, x_img, z_img)))\n",
    "print(empty_field.shape)\n",
    "for i in range(0,y_img):\n",
    "    for j in range(0,2*max_value):\n",
    "        for z in range(0,z_img):\n",
    "            l = math.floor(j-max_value)\n",
    "#             print(l)\n",
    "            tmp = quad(lambda x: sqrt(x**2+1),0,l)\n",
    "            tmp = round(tmp[0])\n",
    "            print(tmp)\n",
    "#             print(j)\n",
    "            if img_without_boundary[i,j,z] > 0:\n",
    "                    empty_field[i,tmp+max_value,z] = img_without_boundary[i,j,z]\n",
    "plt.figure('after_transforamtion')\n",
    "plt.imshow(empty_field/255)"
   ]
  },
  {
   "cell_type": "code",
   "execution_count": 56,
   "metadata": {},
   "outputs": [
    {
     "data": {
      "text/plain": [
       "array([7, 6, 5, 4])"
      ]
     },
     "execution_count": 56,
     "metadata": {},
     "output_type": "execute_result"
    }
   ],
   "source": [
    "b = np.array([0, 1, 2, 3, 4, 5, 6, 7, 8, 9])\n",
    "b[1:7:2]\n",
    "np.array([1, 3, 5])\n",
    "b[-2:10]\n",
    "np.array([8, 9])\n",
    "b[-3:3:-1]\n",
    "np.array([7, 6, 5, 4])"
   ]
  },
  {
   "cell_type": "code",
   "execution_count": 57,
   "metadata": {},
   "outputs": [
    {
     "ename": "IndexError",
     "evalue": "index 30 is out of bounds for axis 1 with size 28",
     "output_type": "error",
     "traceback": [
      "\u001b[1;31m---------------------------------------------------------------------------\u001b[0m",
      "\u001b[1;31mIndexError\u001b[0m                                Traceback (most recent call last)",
      "\u001b[1;32m<ipython-input-57-fe3b0b1c2e51>\u001b[0m in \u001b[0;36m<module>\u001b[1;34m()\u001b[0m\n\u001b[1;32m----> 1\u001b[1;33m \u001b[0mprint\u001b[0m\u001b[1;33m(\u001b[0m\u001b[0mimg_without_boundary\u001b[0m\u001b[1;33m[\u001b[0m\u001b[1;33m:\u001b[0m\u001b[1;33m,\u001b[0m\u001b[0mi\u001b[0m\u001b[1;33m,\u001b[0m\u001b[1;33m:\u001b[0m\u001b[1;33m]\u001b[0m\u001b[1;33m)\u001b[0m\u001b[1;33m\u001b[0m\u001b[0m\n\u001b[0m",
      "\u001b[1;31mIndexError\u001b[0m: index 30 is out of bounds for axis 1 with size 28"
     ]
    }
   ],
   "source": [
    "print(img_without_boundary[:,i,:])"
   ]
  },
  {
   "cell_type": "code",
   "execution_count": 58,
   "metadata": {},
   "outputs": [],
   "source": [
    "# https://www.math.ubc.ca/~pwalls/math-python/differentiation/#arc-length\n",
    "def arc_length(f,a,b,h=0.001,N=1000):\n",
    "    '''Approximate the ac length of y=f(x) from x=a to x=b.\n",
    "\n",
    "    Parameters\n",
    "    ----------\n",
    "    f : (vectorized) function of one variable\n",
    "    a,b : numbers defining the interval [a,b]\n",
    "    h : step size to use in difference formulas\n",
    "    N : number of subintervals in trapezoid method\n",
    "\n",
    "    Returns\n",
    "    -------\n",
    "    Approximation of the integral \\int_a^b \\sqrt{1 + (f'(x))^2} dx\n",
    "    representing the arc length of y=f(x) from x=a to x=b.\n",
    "    '''\n",
    "    x = np.linspace(a,b,N+1)\n",
    "    y = f(x)\n",
    "\n",
    "    # Compute central difference formula for x_k for 1 <= k <= N-1\n",
    "    h = np.min([h,(b-a)/N]) # Make sure that h is smaller than the size of the subintervals\n",
    "    x_interior = x[1:-1]\n",
    "    df_interior = (f(x_interior + h) - f(x_interior - h))/(2*h)\n",
    "\n",
    "    # Use forward/backward difference formula at the endpoints\n",
    "    df_a = (f(a + h) - f(a))/h\n",
    "    df_b = (f(b) - f(b - h))/h\n",
    "    df = np.hstack([[df_a],df_interior,[df_b]])\n",
    "\n",
    "    # Compute values of the integrand in arc length formula\n",
    "    y = np.sqrt(1 + df**2)\n",
    "\n",
    "    # Compute the integral\n",
    "    L = spi.trapz(y,x)\n",
    "\n",
    "    return L"
   ]
  },
  {
   "cell_type": "code",
   "execution_count": 59,
   "metadata": {},
   "outputs": [
    {
     "name": "stdout",
     "output_type": "stream",
     "text": [
      "1.4789429195561072\n"
     ]
    }
   ],
   "source": [
    "a = 1\n",
    "result = arc_length(lambda x: a*x**2,0,1,h=10**(-10),N=10**5)\n",
    "print(result)"
   ]
  },
  {
   "cell_type": "code",
   "execution_count": 60,
   "metadata": {},
   "outputs": [
    {
     "ename": "SyntaxError",
     "evalue": "invalid syntax (<ipython-input-60-8a2073e69816>, line 1)",
     "output_type": "error",
     "traceback": [
      "\u001b[1;36m  File \u001b[1;32m\"<ipython-input-60-8a2073e69816>\"\u001b[1;36m, line \u001b[1;32m1\u001b[0m\n\u001b[1;33m    def function(x)\u001b[0m\n\u001b[1;37m                   ^\u001b[0m\n\u001b[1;31mSyntaxError\u001b[0m\u001b[1;31m:\u001b[0m invalid syntax\n"
     ]
    }
   ],
   "source": [
    "def function(x)\n",
    "    return x**2"
   ]
  },
  {
   "cell_type": "code",
   "execution_count": 61,
   "metadata": {},
   "outputs": [],
   "source": [
    "import numpy as np\n",
    "import matplotlib.pyplot as plt\n",
    "import matplotlib.animation as animation\n",
    "\n",
    "# Fixing random state for reproducibility\n",
    "np.random.seed(123456789)\n",
    "y_max = 50\n",
    "\n",
    "fig, ax = plt.subplots()\n",
    "line, = ax.plot(np.random.rand(y_max))\n",
    "ax.set_ylim(0, 1)\n",
    "\n",
    "\n",
    "def update(data):\n",
    "    line.set_ydata(data)\n",
    "    return line,\n",
    "\n",
    "\n",
    "def data_gen():\n",
    "    while True:\n",
    "        yield np.random.rand(y_max)\n",
    "\n",
    "ani = animation.FuncAnimation(fig, update, data_gen, interval=100)\n",
    "plt.show()"
   ]
  },
  {
   "cell_type": "markdown",
   "metadata": {},
   "source": [
    "# Transformation from internet modified <br>"
   ]
  },
  {
   "cell_type": "code",
   "execution_count": 25,
   "metadata": {},
   "outputs": [],
   "source": [
    "# https://github.com/mdbloice/Augmentor\n",
    "# p.random_distortion(probability=1, grid_width=4, grid_height=4, magnitude=8)\n",
    "# p.flip_left_right(probability=0.5)\n",
    "# p.flip_top_bottom(probability=0.5)\n",
    "# p.sample(100)"
   ]
  },
  {
   "cell_type": "code",
   "execution_count": 26,
   "metadata": {},
   "outputs": [],
   "source": [
    "# https://www.kaggle.com/bguberfain/elastic-transform-for-data-augmentation\n",
    "# https://www.ritchieng.com/machine-learning-photo-ocr/"
   ]
  },
  {
   "cell_type": "code",
   "execution_count": 130,
   "metadata": {},
   "outputs": [],
   "source": [
    "# def iterate():\n",
    "#     img_output = np.zeros((rows+512, cols+512))\n",
    "#     for i in range(rows):\n",
    "#         for j in range(cols):\n",
    "#             offset_x = int(15.0 * np.sin(6*np.pi*i/180))\n",
    "#             offset_y = 0 #int(d * np.sin(e * 3.14 * 1*(i+f)))\n",
    "# #             print(offset_x,offset_y)\n",
    "# #             print(i+offset_y+h,j+offset_x+d)\n",
    "\n",
    "#             img_output[i+offset_y+200,j+offset_x+200] = img[i,j]\n",
    "            \n",
    "# #             plt.figure('Input')\n",
    "# #             plt.imshow(img, cmap='gray')\n",
    "# #             plt.figure('Vertical wavecols')\n",
    "# #             plt.imshow(img_output, cmap='gray')\n",
    "\n",
    "#     plt.figure('bla')\n",
    "#     plt.imshow(img_output/255)\n",
    "\n",
    "#     img_rect = deepcopy(img_output)\n",
    "#     x, y, w, h = cv2.boundingRect(img_rect)\n",
    "#     # print(x, y, w, h)\n",
    "#     x_min = x-1\n",
    "#     y_min = y-1\n",
    "#     x_max = x+w\n",
    "#     y_max = y+h\n",
    "#     cv2.rectangle(img_rect, (x_min, y_min), (x_max, y_max), (0, 255, 0), 0)   # img wird überschrieben\n",
    "#     plt.figure('img_rect')\n",
    "#     plt.imshow(img_rect/255)\n",
    "\n",
    "\n",
    "    \n",
    "#     img_save = image_rect(img_output)\n",
    "#     img_size_uint8 = Image.fromarray(np.uint8(img_output))\n",
    "#     img_size_uint8.save(path + str(a)+'_'+str(b)+'_'+str(c)+'_'+str(d)+'.bmp')\n",
    "                    \n",
    "#         img_size_uint8 = Image.fromarray(np.uint8(img_size))\n",
    "#         img_size_uint8.save(path_save_image + files[i])"
   ]
  },
  {
   "cell_type": "code",
   "execution_count": 59,
   "metadata": {},
   "outputs": [
    {
     "name": "stdout",
     "output_type": "stream",
     "text": [
      "(200, 200)\n",
      "(50, 50, 3)\n"
     ]
    },
    {
     "data": {
      "text/plain": [
       "<matplotlib.image.AxesImage at 0x1736dc88>"
      ]
     },
     "execution_count": 59,
     "metadata": {},
     "output_type": "execute_result"
    }
   ],
   "source": [
    "# https://subscription.packtpub.com/book/application_development/9781785283932/1/ch01lvl1sec16/image-warping\n",
    "# img_2D = img[:,:,0]\n",
    "a = 15\n",
    "b = 3\n",
    "c = 1\n",
    "d = 1\n",
    "\n",
    "rows, cols = img_2D.shape \n",
    "img_output = np.zeros((200, 200))\n",
    "img_output_3D = np.zeros((200, 200,3))\n",
    "print(img_output.shape)\n",
    "print(img.shape)\n",
    "for i in range(rows):\n",
    "    for j in range(cols):\n",
    "        offset_x = int(a * np.sin(2*np.pi*i*b/180))\n",
    "        offset_y = 0 # int(c * np.sin(2*np.pi*j*d/180))\n",
    "#       print(offset_x,offset_y)\n",
    "#       print(i+offset_y+h,j+offset_x+d)\n",
    "        img_output[i+offset_y+50, j+offset_x+50] = img_2D[i,j]\n",
    "\n",
    "# plt.figure('img_output')\n",
    "# plt.imshow(img_output)\n",
    "# print(type(img_output))\n",
    "\n",
    "img_output_3D[:,:,0] = img_output\n",
    "img_output_3D[:,:,1] = img_output\n",
    "img_output_3D[:,:,2] = img_output\n",
    "\n",
    "img_rect = deepcopy(img_output_3D)\n",
    "img_rect = img_rect.astype(np.uint8)\n",
    "x, y, w, h = cv2.boundingRect(img_rect[:,:,0])\n",
    "# print(x, y, w, h)\n",
    "x_min = x-1\n",
    "y_min = y-1\n",
    "x_max = x+w\n",
    "y_max = y+h\n",
    "cv2.rectangle(img_rect, (x_min, y_min), (x_max, y_max), (0, 255, 0), 0)   # img wird überschrieben\n",
    "# plt.figure('img_rect')\n",
    "# plt.imshow(img_rect/255)\n",
    "\n",
    "img_without_boundary = img_rect[y:y_max, x:x_max,:]\n",
    "plt.figure('img_without_boundary'+str(a)+'_'+str(b)+'_'+str(c)+'_'+str(d))\n",
    "plt.imshow(img_without_boundary/255)\n"
   ]
  },
  {
   "cell_type": "code",
   "execution_count": 65,
   "metadata": {},
   "outputs": [
    {
     "data": {
      "text/plain": [
       "<matplotlib.image.AxesImage at 0x1972b9b0>"
      ]
     },
     "execution_count": 65,
     "metadata": {},
     "output_type": "execute_result"
    }
   ],
   "source": [
    "# https://subscription.packtpub.com/book/application_development/9781785283932/1/ch01lvl1sec15/projective-transformations\n",
    "\n",
    "import cv2\n",
    "import numpy as np\n",
    "\n",
    "rows, cols = img.shape[:2]\n",
    "\n",
    "# src_points = np.float32([[0,0], [cols-1,0], [0,rows-1], [cols-1,rows-1]])\n",
    "# dst_points = np.float32([[0,0], [cols-1,0], [int(0.1*cols),rows-1], [int(0.5*cols),rows-1]]) \n",
    "src_points = np.float32([[0,0], [0,rows-1], [cols/2,0], [cols/2,rows-1]])\n",
    "dst_points = np.float32([[0,100], [0,rows-101], [cols/2,0], [cols/2,rows-1]])\n",
    "projective_matrix = cv2.getPerspectiveTransform(src_points, dst_points)\n",
    "img_output = cv2.warpPerspective(img, projective_matrix, (cols,rows))\n",
    "\n",
    "plt.figure('Input')\n",
    "plt.imshow(img)\n",
    "plt.figure('Output')\n",
    "plt.imshow(img_output)"
   ]
  },
  {
   "cell_type": "code",
   "execution_count": null,
   "metadata": {},
   "outputs": [],
   "source": []
  }
 ],
 "metadata": {
  "kernelspec": {
   "display_name": "Python 3",
   "language": "python",
   "name": "python3"
  },
  "language_info": {
   "codemirror_mode": {
    "name": "ipython",
    "version": 3
   },
   "file_extension": ".py",
   "mimetype": "text/x-python",
   "name": "python",
   "nbconvert_exporter": "python",
   "pygments_lexer": "ipython3",
   "version": "3.6.4"
  }
 },
 "nbformat": 4,
 "nbformat_minor": 2
}
