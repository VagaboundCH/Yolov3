{
 "cells": [
  {
   "cell_type": "code",
   "execution_count": 37,
   "metadata": {},
   "outputs": [],
   "source": [
    "from PIL import Image, ImageDraw, ImageFont  \n",
    "import numpy as np\n",
    "import matplotlib.pyplot as plt\n",
    "from copy import copy, deepcopy\n",
    "from scipy import interpolate\n",
    "import cv2 \n",
    "from scipy.integrate import quad\n",
    "from scipy.misc import derivative\n",
    "import sympy as sp\n",
    "import math\n",
    "from math import sqrt, pi"
   ]
  },
  {
   "cell_type": "code",
   "execution_count": 2,
   "metadata": {},
   "outputs": [],
   "source": [
    "# Parameters\n",
    "font_type = 'C:/Windows/Fonts/Calibri/calibrib.ttf'\n",
    "font_size = 49 # 49\n",
    "character = 'A'\n",
    "threshold_binarisation = 100"
   ]
  },
  {
   "cell_type": "code",
   "execution_count": 3,
   "metadata": {},
   "outputs": [],
   "source": [
    "# Befehl muss zweimal ausgeführt werden (komisch)\n",
    "%matplotlib qt\n",
    "%matplotlib qt"
   ]
  },
  {
   "cell_type": "code",
   "execution_count": 4,
   "metadata": {},
   "outputs": [
    {
     "name": "stdout",
     "output_type": "stream",
     "text": [
      "50 50 3\n"
     ]
    },
    {
     "data": {
      "text/plain": [
       "<matplotlib.image.AxesImage at 0xdc8fc50>"
      ]
     },
     "execution_count": 4,
     "metadata": {},
     "output_type": "execute_result"
    }
   ],
   "source": [
    "img = Image.new('RGB', (50, 50), color = (0, 0, 0))   # (50,50)  \n",
    "fnt = ImageFont.truetype(font_type, font_size)\n",
    "d = ImageDraw.Draw(img)\n",
    "d.text((0,0), character, font=fnt, fill=(255, 255, 255))\n",
    "# img.show() \n",
    "# img.save('pil_text_font.bmp')\n",
    "img = np.array(img)\n",
    "plt.figure('img')\n",
    "plt.imshow(img)\n",
    "x,y,z = np.shape(img)\n",
    "print(x,y,z)\n",
    "img[img<threshold_binarisation] = 0\n",
    "plt.figure('asdfasdf')\n",
    "plt.imshow(img/255)"
   ]
  },
  {
   "cell_type": "code",
   "execution_count": 28,
   "metadata": {},
   "outputs": [
    {
     "data": {
      "text/plain": [
       "<matplotlib.image.AxesImage at 0xfc71ef0>"
      ]
     },
     "execution_count": 28,
     "metadata": {},
     "output_type": "execute_result"
    }
   ],
   "source": [
    "# img.astype(np.float32)\n",
    "# img.astype(np.uint8)\n",
    "# get the bounding rect\n",
    "img_rect = deepcopy(img)\n",
    "x, y, w, h = cv2.boundingRect(img_rect[:,:,1])\n",
    "# print(x, y, w, h)\n",
    "x_min = x-1\n",
    "y_min = y-1\n",
    "x_max = x+w\n",
    "y_max = y+h\n",
    "cv2.rectangle(img_rect, (x_min, y_min), (x_max, y_max), (0, 255, 0), 0)   # img wird überschrieben\n",
    "plt.figure('img_rect')\n",
    "plt.imshow(img_rect/255)"
   ]
  },
  {
   "cell_type": "code",
   "execution_count": 29,
   "metadata": {},
   "outputs": [
    {
     "data": {
      "text/plain": [
       "<matplotlib.image.AxesImage at 0x9952748>"
      ]
     },
     "execution_count": 29,
     "metadata": {},
     "output_type": "execute_result"
    }
   ],
   "source": [
    "img_without_boundary = img_rect[y:y_max, x:x_max,:]\n",
    "plt.figure('img_without_boundary')\n",
    "plt.imshow(img_without_boundary/255)"
   ]
  },
  {
   "cell_type": "code",
   "execution_count": 30,
   "metadata": {
    "scrolled": true
   },
   "outputs": [],
   "source": [
    "# print(img_without_boundary)\n",
    "y_img_without_boundary, x_img_without_boundary, z_img_without_boundary = np.shape(img_without_boundary)\n",
    "# print(y_img_without_boundary, x_img_without_boundary, z_img_without_boundary)"
   ]
  },
  {
   "cell_type": "code",
   "execution_count": 31,
   "metadata": {
    "scrolled": true
   },
   "outputs": [],
   "source": [
    "tmp_x_min = int(-1*x_img_without_boundary/2)\n",
    "tmp_x_max = int(np.ceil(x_img_without_boundary/2))\n",
    "tmp_y_min = int(-1*y_img_without_boundary/2)\n",
    "tmp_y_max = int(np.ceil(y_img_without_boundary/2))\n",
    "# print(tmp_x_min)\n",
    "# print(tmp_x_max)\n",
    "# print(tmp_y_min)\n",
    "# print(tmp_y_max)\n",
    "x_mesh = np.arange(tmp_x_min, tmp_x_max, 1)\n",
    "y_mesh = np.arange(tmp_y_min, tmp_y_max, 1)\n",
    "# print(x_mesh)\n",
    "# print(y_mesh)\n",
    "xx, yy = np.meshgrid(x_mesh, np.flip(y_mesh,0), sparse=True)\n",
    "yy = yy*1j\n",
    "z = (yy+xx)\n",
    "# print(z)\n",
    "q = np.pi/180\n",
    "c_meshgrid = z.imag*2*1j+3*z.real  # (z*np.cos(q)-np.sin(q)) / (z*np.sin(q)+np.cos(q*5))\n",
    "# print(c_meshgrid)\n",
    "y_meshgrid, x_meshgrid = c_meshgrid.shape\n",
    "# print(y_meshgrid, x_meshgrid)\n",
    "# c_meshgrid_reshape = c_meshgrid.reshape((y_meshgrid,x_meshgrid,1))"
   ]
  },
  {
   "cell_type": "code",
   "execution_count": 32,
   "metadata": {},
   "outputs": [],
   "source": [
    "c_meshgrid_mask = deepcopy(c_meshgrid)\n",
    "max_real_meshgrid_mask = int(np.max(c_meshgrid_mask.real))\n",
    "max_imag_meshgrid_mask = int(np.max(c_meshgrid_mask.imag))\n",
    "min_real_meshgrid_mask = int(np.min(c_meshgrid_mask.real))\n",
    "min_imag_meshgrid_mask = int(np.min(c_meshgrid_mask.imag))\n",
    "# print(max_real_meshgrid_mask)\n",
    "# print(max_imag_meshgrid_mask)\n",
    "# print(min_real_meshgrid_mask)\n",
    "# print(min_imag_meshgrid_mask)\n",
    "# print(c_meshgrid_mask.shape)"
   ]
  },
  {
   "cell_type": "code",
   "execution_count": 33,
   "metadata": {},
   "outputs": [],
   "source": [
    "z_transform = np.array(np.zeros((max_imag_meshgrid_mask+1-min_imag_meshgrid_mask, max_real_meshgrid_mask-min_real_meshgrid_mask+1, 3)))\n",
    "y_z_transform, x_z_transform, z_z_transform = z_transform.shape\n",
    "# print(z_transform)\n",
    "# print(y_z_transform, x_z_transform, z_z_transform)"
   ]
  },
  {
   "cell_type": "code",
   "execution_count": 34,
   "metadata": {},
   "outputs": [],
   "source": [
    "for i in range(y_meshgrid):\n",
    "    for j in range(x_meshgrid):\n",
    "        for k in range(3):\n",
    "            z_transform[int(max_imag_meshgrid_mask-c_meshgrid_mask[i,j].imag), int(c_meshgrid_mask[i,j].real-min_real_meshgrid_mask),:] = img_without_boundary[i,j,k]\n",
    "        \n",
    "#   Für Y-Achse => max-y\n",
    "#   Für X-Achse => x-min"
   ]
  },
  {
   "cell_type": "code",
   "execution_count": 35,
   "metadata": {},
   "outputs": [
    {
     "name": "stdout",
     "output_type": "stream",
     "text": [
      "(61, 82, 3)\n",
      "(31, 28, 3)\n"
     ]
    }
   ],
   "source": [
    "print(z_transform.shape)\n",
    "print(img_without_boundary.shape)"
   ]
  },
  {
   "cell_type": "code",
   "execution_count": 36,
   "metadata": {},
   "outputs": [
    {
     "data": {
      "text/plain": [
       "<matplotlib.image.AxesImage at 0x9af8cf8>"
      ]
     },
     "execution_count": 36,
     "metadata": {},
     "output_type": "execute_result"
    }
   ],
   "source": [
    "plt.figure('transformation')\n",
    "plt.imshow(z_transform/255)"
   ]
  },
  {
   "cell_type": "markdown",
   "metadata": {},
   "source": [
    "# Without complex numbers <br>"
   ]
  },
  {
   "cell_type": "code",
   "execution_count": 52,
   "metadata": {},
   "outputs": [],
   "source": [
    "x = sp.Symbol('x')\n",
    "f = x**2   # shift half pixel to the right\n",
    "f_derviate = sp.diff(f)\n",
    "# print(type(f_derviate))\n",
    "x = sp.Symbol(str(f_derviate))\n",
    "# print(x)"
   ]
  },
  {
   "cell_type": "code",
   "execution_count": 53,
   "metadata": {},
   "outputs": [],
   "source": [
    "# https://www.youtube.com/watch?v=QAqadzwo19Q\n",
    "a = quad(lambda x: sqrt(x**2+1),0,5)\n",
    "# print(type(x))\n",
    "# print(a)\n",
    "# print(type(float(a[0])))"
   ]
  },
  {
   "cell_type": "code",
   "execution_count": 54,
   "metadata": {},
   "outputs": [],
   "source": [
    "index = np.array(np.zeros((1,9)))\n",
    "# print(index.shape)\n",
    "# print(index)"
   ]
  },
  {
   "cell_type": "code",
   "execution_count": 55,
   "metadata": {},
   "outputs": [],
   "source": [
    "for i in range(0,5,1):\n",
    "    tmp = quad(lambda x: sqrt(x**2+1),0,i)\n",
    "    index[0,i] = round(float(tmp[0]))\n",
    "#     print(index[0,i])\n",
    "#     print(type(index[0,0]))"
   ]
  },
  {
   "cell_type": "code",
   "execution_count": null,
   "metadata": {},
   "outputs": [],
   "source": []
  },
  {
   "cell_type": "code",
   "execution_count": 62,
   "metadata": {},
   "outputs": [
    {
     "data": {
      "text/plain": [
       "array([7, 6, 5, 4])"
      ]
     },
     "execution_count": 62,
     "metadata": {},
     "output_type": "execute_result"
    }
   ],
   "source": [
    "b = np.array([0, 1, 2, 3, 4, 5, 6, 7, 8, 9])\n",
    "b[1:7:2]\n",
    "np.array([1, 3, 5])\n",
    "b[-2:10]\n",
    "np.array([8, 9])\n",
    "b[-3:3:-1]\n",
    "np.array([7, 6, 5, 4])"
   ]
  },
  {
   "cell_type": "code",
   "execution_count": null,
   "metadata": {},
   "outputs": [],
   "source": []
  }
 ],
 "metadata": {
  "kernelspec": {
   "display_name": "Python 3",
   "language": "python",
   "name": "python3"
  },
  "language_info": {
   "codemirror_mode": {
    "name": "ipython",
    "version": 3
   },
   "file_extension": ".py",
   "mimetype": "text/x-python",
   "name": "python",
   "nbconvert_exporter": "python",
   "pygments_lexer": "ipython3",
   "version": "3.6.4"
  }
 },
 "nbformat": 4,
 "nbformat_minor": 2
}
