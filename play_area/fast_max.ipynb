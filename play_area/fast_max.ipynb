{
 "cells": [
  {
   "cell_type": "code",
   "execution_count": 61,
   "metadata": {},
   "outputs": [],
   "source": [
    "import torch\n",
    "import torch.nn as nn\n",
    "import torch.nn.functional as F\n",
    "import numpy as np\n",
    "import time"
   ]
  },
  {
   "cell_type": "code",
   "execution_count": 62,
   "metadata": {},
   "outputs": [],
   "source": [
    "a = np.array([1, 0, 3])\n",
    "b = np.zeros((3, 4))\n",
    "b[np.arange(3), a] = 1\n",
    "# https://stackoverflow.com/questions/29831489/convert-array-of-indices-to-1-hot-encoded-numpy-array"
   ]
  },
  {
   "cell_type": "code",
   "execution_count": 88,
   "metadata": {},
   "outputs": [
    {
     "name": "stdout",
     "output_type": "stream",
     "text": [
      "0.3170180320739746\n"
     ]
    }
   ],
   "source": [
    "# Langsamer sobald grösserer Array z.B. [1,3,45,64,64]\n",
    "A = torch.randn(1,3,45,64,64)\n",
    "B = A.clone()\n",
    "start_time = time.time() \n",
    "A_max, A_index = torch.max(A,2,keepdim=True)\n",
    "A[A<A_max] = 0\n",
    "end_time = time.time()\n",
    "print(end_time-start_time)\n",
    "# print(B)"
   ]
  },
  {
   "cell_type": "code",
   "execution_count": 89,
   "metadata": {},
   "outputs": [
    {
     "name": "stdout",
     "output_type": "stream",
     "text": [
      "0.026001691818237305\n"
     ]
    }
   ],
   "source": [
    "# K = torch.rand(1,2,3,4,4)\n",
    "start_time = time.time()\n",
    "batch_size, number_anchors, number_classes, x, y = B.shape\n",
    "K_max, K_index = torch.max(B,2)# max finden\n",
    "batch = np.zeros(number_anchors*x*y) # batch bestimmen\n",
    "# print('batch: ', batch.size())\n",
    "x_index = np.arange(x).tolist() # tolist, weil numpy extend nicht kennt\n",
    "x_index.extend(x_index*(number_anchors*x-1)) # mit extend kann mehrmals die gleiche Liste angehängt werden\n",
    "# print('x_index: ', x_index)\n",
    "\n",
    "y_index = np.repeat(np.arange(y),y,axis=0).tolist() # reapet => 0123 wird 00112233\n",
    "y_index.extend(y_index*(number_anchors-1))\n",
    "# print('y_index: ', y_index)\n",
    "\n",
    "\n",
    "K_index_new = K_index.view(1,number_anchors*x*y)\n",
    "# print('K_index_new size: ', K_index_new)\n",
    "\n",
    "number_anchors_index = np.repeat(np.arange(number_anchors),x*y,axis=0)\n",
    "# print('number_anchorse: ', number_anchors_index)\n",
    "\n",
    "\n",
    "# print(K)\n",
    "# print(K_index)\n",
    "K_new = torch.zeros(batch_size, number_anchors, number_classes, x, y)\n",
    "\n",
    "K_new[batch, number_anchors_index, K_index_new, np.asarray(y_index), np.asarray(x_index)] = 1 # muss array sein keine Liste => np.asarray\n",
    "# print(K_new)\n",
    "K_max_finish = torch.mul(K_new,B)\n",
    "end_time = time.time()\n",
    "print(end_time-start_time)"
   ]
  },
  {
   "cell_type": "code",
   "execution_count": 90,
   "metadata": {},
   "outputs": [],
   "source": [
    "A = K_max_finish.clone()\n",
    "B = K_max_finish.clone()\n",
    "threshold = 0.5"
   ]
  },
  {
   "cell_type": "code",
   "execution_count": 91,
   "metadata": {},
   "outputs": [
    {
     "name": "stdout",
     "output_type": "stream",
     "text": [
      "0.29701685905456543\n"
     ]
    }
   ],
   "source": [
    "start_time = time.time()\n",
    "\n",
    "A[A<threshold] = 0\n",
    "\n",
    "end_time = time.time()\n",
    "print(end_time-start_time)"
   ]
  },
  {
   "cell_type": "code",
   "execution_count": 92,
   "metadata": {},
   "outputs": [
    {
     "name": "stdout",
     "output_type": "stream",
     "text": [
      "0.02500128746032715\n"
     ]
    }
   ],
   "source": [
    "start_time = time.time()\n",
    "\n",
    "K_max_end = B[batch, number_anchors_index, K_index_new, np.asarray(y_index), np.asarray(x_index)]\n",
    "K_max_end[K_max_end<threshold] = 0\n",
    "K_thres = torch.zeros(batch_size, number_anchors, number_classes, x, y)\n",
    "K_thres[batch, number_anchors_index, K_index_new, np.asarray(y_index), np.asarray(x_index)] = K_max_end\n",
    "\n",
    "end_time = time.time()\n",
    "print(end_time-start_time)"
   ]
  },
  {
   "cell_type": "code",
   "execution_count": 86,
   "metadata": {},
   "outputs": [
    {
     "name": "stdout",
     "output_type": "stream",
     "text": [
      "tensor([[[[[-0.0000,  0.0000,  0.5743],\n",
      "           [-0.0000, -0.0000,  0.0000],\n",
      "           [-0.0000,  0.4487,  1.7352]],\n",
      "\n",
      "          [[ 0.8342,  1.4084,  0.0000],\n",
      "           [ 1.8344,  0.9143,  0.7073],\n",
      "           [ 1.2349,  0.0000, -0.0000]]],\n",
      "\n",
      "\n",
      "         [[[ 0.0000, -0.0000, -0.0275],\n",
      "           [-0.0000, -0.0000,  0.0000],\n",
      "           [-0.0000, -0.0000, -0.0000]],\n",
      "\n",
      "          [[ 0.9682, -0.4264, -0.0000],\n",
      "           [ 1.0909,  0.7947,  1.1667],\n",
      "           [ 1.0717,  0.2389,  0.5408]]]]])\n",
      "tensor([[[[[ 0.0000,  0.0000,  0.5743],\n",
      "           [ 0.0000,  0.0000,  0.0000],\n",
      "           [ 0.0000,  0.0000,  1.7352]],\n",
      "\n",
      "          [[ 0.8342,  1.4084,  0.0000],\n",
      "           [ 1.8344,  0.9143,  0.7073],\n",
      "           [ 1.2349,  0.0000,  0.0000]]],\n",
      "\n",
      "\n",
      "         [[[ 0.0000,  0.0000,  0.0000],\n",
      "           [ 0.0000,  0.0000,  0.0000],\n",
      "           [ 0.0000,  0.0000,  0.0000]],\n",
      "\n",
      "          [[ 0.9682,  0.0000,  0.0000],\n",
      "           [ 1.0909,  0.7947,  1.1667],\n",
      "           [ 1.0717,  0.0000,  0.5408]]]]])\n"
     ]
    }
   ],
   "source": [
    "print(B)\n",
    "print(K_thres)"
   ]
  },
  {
   "cell_type": "code",
   "execution_count": 87,
   "metadata": {},
   "outputs": [
    {
     "name": "stdout",
     "output_type": "stream",
     "text": [
      "tensor([[[[[ 1,  1,  1],\n",
      "           [ 1,  1,  1],\n",
      "           [ 1,  0,  1]],\n",
      "\n",
      "          [[ 1,  1,  1],\n",
      "           [ 1,  1,  1],\n",
      "           [ 1,  1,  1]]],\n",
      "\n",
      "\n",
      "         [[[ 1,  1,  0],\n",
      "           [ 1,  1,  1],\n",
      "           [ 1,  1,  1]],\n",
      "\n",
      "          [[ 1,  0,  1],\n",
      "           [ 1,  1,  1],\n",
      "           [ 1,  0,  1]]]]], dtype=torch.uint8)\n"
     ]
    }
   ],
   "source": [
    "print(torch.eq(B,K_thres))"
   ]
  },
  {
   "cell_type": "code",
   "execution_count": null,
   "metadata": {},
   "outputs": [],
   "source": []
  }
 ],
 "metadata": {
  "kernelspec": {
   "display_name": "Python 3",
   "language": "python",
   "name": "python3"
  },
  "language_info": {
   "codemirror_mode": {
    "name": "ipython",
    "version": 3
   },
   "file_extension": ".py",
   "mimetype": "text/x-python",
   "name": "python",
   "nbconvert_exporter": "python",
   "pygments_lexer": "ipython3",
   "version": "3.6.4"
  }
 },
 "nbformat": 4,
 "nbformat_minor": 2
}
